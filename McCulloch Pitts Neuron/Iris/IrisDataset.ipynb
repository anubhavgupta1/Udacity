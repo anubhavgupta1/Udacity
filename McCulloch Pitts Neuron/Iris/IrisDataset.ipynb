{
  "nbformat": 4,
  "nbformat_minor": 0,
  "metadata": {
    "colab": {
      "name": "IrisDataset.ipynb",
      "provenance": [],
      "authorship_tag": "ABX9TyOLuBg0TCYt/wI7rf5xHQuC",
      "include_colab_link": true
    },
    "kernelspec": {
      "name": "python3",
      "display_name": "Python 3"
    }
  },
  "cells": [
    {
      "cell_type": "markdown",
      "metadata": {
        "id": "view-in-github",
        "colab_type": "text"
      },
      "source": [
        "<a href=\"https://colab.research.google.com/github/anubhavgupta1/Udacity/blob/main/McCulloch%20Pitts%20Neuron/Iris/IrisDataset.ipynb\" target=\"_parent\"><img src=\"https://colab.research.google.com/assets/colab-badge.svg\" alt=\"Open In Colab\"/></a>"
      ]
    },
    {
      "cell_type": "markdown",
      "metadata": {
        "id": "A60-KRoreHX6"
      },
      "source": [
        "#Classification of Iris Dataset as setosa and non - setosa species"
      ]
    },
    {
      "cell_type": "code",
      "metadata": {
        "id": "1yTvvAhBN_t3"
      },
      "source": [
        "import numpy as np\r\n",
        "import pandas as pd\r\n",
        "import matplotlib.pyplot as plt\r\n",
        "from sklearn.metrics import accuracy_score\r\n",
        "from sklearn.datasets import load_iris\r\n",
        "from sklearn.model_selection import  train_test_split"
      ],
      "execution_count": 1,
      "outputs": []
    },
    {
      "cell_type": "markdown",
      "metadata": {
        "id": "W9IlABevRicu"
      },
      "source": [
        "##Load the Data"
      ]
    },
    {
      "cell_type": "code",
      "metadata": {
        "colab": {
          "base_uri": "https://localhost:8080/",
          "height": 196
        },
        "id": "OSgAtUjfOM_M",
        "outputId": "d196ccbd-0d29-40ce-e709-3997d4785396"
      },
      "source": [
        "iris = load_iris()\r\n",
        "data = pd.DataFrame(iris.data, columns = iris.feature_names)\r\n",
        "data[\"class\"] = iris.target\r\n",
        "data.head()"
      ],
      "execution_count": 2,
      "outputs": [
        {
          "output_type": "execute_result",
          "data": {
            "text/html": [
              "<div>\n",
              "<style scoped>\n",
              "    .dataframe tbody tr th:only-of-type {\n",
              "        vertical-align: middle;\n",
              "    }\n",
              "\n",
              "    .dataframe tbody tr th {\n",
              "        vertical-align: top;\n",
              "    }\n",
              "\n",
              "    .dataframe thead th {\n",
              "        text-align: right;\n",
              "    }\n",
              "</style>\n",
              "<table border=\"1\" class=\"dataframe\">\n",
              "  <thead>\n",
              "    <tr style=\"text-align: right;\">\n",
              "      <th></th>\n",
              "      <th>sepal length (cm)</th>\n",
              "      <th>sepal width (cm)</th>\n",
              "      <th>petal length (cm)</th>\n",
              "      <th>petal width (cm)</th>\n",
              "      <th>class</th>\n",
              "    </tr>\n",
              "  </thead>\n",
              "  <tbody>\n",
              "    <tr>\n",
              "      <th>0</th>\n",
              "      <td>5.1</td>\n",
              "      <td>3.5</td>\n",
              "      <td>1.4</td>\n",
              "      <td>0.2</td>\n",
              "      <td>0</td>\n",
              "    </tr>\n",
              "    <tr>\n",
              "      <th>1</th>\n",
              "      <td>4.9</td>\n",
              "      <td>3.0</td>\n",
              "      <td>1.4</td>\n",
              "      <td>0.2</td>\n",
              "      <td>0</td>\n",
              "    </tr>\n",
              "    <tr>\n",
              "      <th>2</th>\n",
              "      <td>4.7</td>\n",
              "      <td>3.2</td>\n",
              "      <td>1.3</td>\n",
              "      <td>0.2</td>\n",
              "      <td>0</td>\n",
              "    </tr>\n",
              "    <tr>\n",
              "      <th>3</th>\n",
              "      <td>4.6</td>\n",
              "      <td>3.1</td>\n",
              "      <td>1.5</td>\n",
              "      <td>0.2</td>\n",
              "      <td>0</td>\n",
              "    </tr>\n",
              "    <tr>\n",
              "      <th>4</th>\n",
              "      <td>5.0</td>\n",
              "      <td>3.6</td>\n",
              "      <td>1.4</td>\n",
              "      <td>0.2</td>\n",
              "      <td>0</td>\n",
              "    </tr>\n",
              "  </tbody>\n",
              "</table>\n",
              "</div>"
            ],
            "text/plain": [
              "   sepal length (cm)  sepal width (cm)  ...  petal width (cm)  class\n",
              "0                5.1               3.5  ...               0.2      0\n",
              "1                4.9               3.0  ...               0.2      0\n",
              "2                4.7               3.2  ...               0.2      0\n",
              "3                4.6               3.1  ...               0.2      0\n",
              "4                5.0               3.6  ...               0.2      0\n",
              "\n",
              "[5 rows x 5 columns]"
            ]
          },
          "metadata": {
            "tags": []
          },
          "execution_count": 2
        }
      ]
    },
    {
      "cell_type": "code",
      "metadata": {
        "colab": {
          "base_uri": "https://localhost:8080/"
        },
        "id": "k-ZFoX59QVfx",
        "outputId": "bf8c154b-ae13-431d-d4cb-ec46ee7661e8"
      },
      "source": [
        "iris.target_names"
      ],
      "execution_count": 3,
      "outputs": [
        {
          "output_type": "execute_result",
          "data": {
            "text/plain": [
              "array(['setosa', 'versicolor', 'virginica'], dtype='<U10')"
            ]
          },
          "metadata": {
            "tags": []
          },
          "execution_count": 3
        }
      ]
    },
    {
      "cell_type": "code",
      "metadata": {
        "colab": {
          "base_uri": "https://localhost:8080/"
        },
        "id": "_3yr2Yn7TEuw",
        "outputId": "f61a4cae-ffae-4e6c-f0ba-2a8ea87a8175"
      },
      "source": [
        "type(data)"
      ],
      "execution_count": 4,
      "outputs": [
        {
          "output_type": "execute_result",
          "data": {
            "text/plain": [
              "pandas.core.frame.DataFrame"
            ]
          },
          "metadata": {
            "tags": []
          },
          "execution_count": 4
        }
      ]
    },
    {
      "cell_type": "code",
      "metadata": {
        "id": "8lJSkFwDUG0Q"
      },
      "source": [
        "data = data[data.columns.difference(['sepal length (cm)','sepal width (cm)'])]"
      ],
      "execution_count": 5,
      "outputs": []
    },
    {
      "cell_type": "code",
      "metadata": {
        "id": "R9CBsN7-U4sR"
      },
      "source": [
        "data[\"class\"] = (data[\"class\"]==0) * 1"
      ],
      "execution_count": 6,
      "outputs": []
    },
    {
      "cell_type": "code",
      "metadata": {
        "colab": {
          "base_uri": "https://localhost:8080/",
          "height": 286
        },
        "id": "jg9wU_3UXTd0",
        "outputId": "8c944c52-1371-4c28-b3f6-c1b859960fd1"
      },
      "source": [
        "data.describe()"
      ],
      "execution_count": 7,
      "outputs": [
        {
          "output_type": "execute_result",
          "data": {
            "text/html": [
              "<div>\n",
              "<style scoped>\n",
              "    .dataframe tbody tr th:only-of-type {\n",
              "        vertical-align: middle;\n",
              "    }\n",
              "\n",
              "    .dataframe tbody tr th {\n",
              "        vertical-align: top;\n",
              "    }\n",
              "\n",
              "    .dataframe thead th {\n",
              "        text-align: right;\n",
              "    }\n",
              "</style>\n",
              "<table border=\"1\" class=\"dataframe\">\n",
              "  <thead>\n",
              "    <tr style=\"text-align: right;\">\n",
              "      <th></th>\n",
              "      <th>class</th>\n",
              "      <th>petal length (cm)</th>\n",
              "      <th>petal width (cm)</th>\n",
              "    </tr>\n",
              "  </thead>\n",
              "  <tbody>\n",
              "    <tr>\n",
              "      <th>count</th>\n",
              "      <td>150.000000</td>\n",
              "      <td>150.000000</td>\n",
              "      <td>150.000000</td>\n",
              "    </tr>\n",
              "    <tr>\n",
              "      <th>mean</th>\n",
              "      <td>0.333333</td>\n",
              "      <td>3.758000</td>\n",
              "      <td>1.199333</td>\n",
              "    </tr>\n",
              "    <tr>\n",
              "      <th>std</th>\n",
              "      <td>0.472984</td>\n",
              "      <td>1.765298</td>\n",
              "      <td>0.762238</td>\n",
              "    </tr>\n",
              "    <tr>\n",
              "      <th>min</th>\n",
              "      <td>0.000000</td>\n",
              "      <td>1.000000</td>\n",
              "      <td>0.100000</td>\n",
              "    </tr>\n",
              "    <tr>\n",
              "      <th>25%</th>\n",
              "      <td>0.000000</td>\n",
              "      <td>1.600000</td>\n",
              "      <td>0.300000</td>\n",
              "    </tr>\n",
              "    <tr>\n",
              "      <th>50%</th>\n",
              "      <td>0.000000</td>\n",
              "      <td>4.350000</td>\n",
              "      <td>1.300000</td>\n",
              "    </tr>\n",
              "    <tr>\n",
              "      <th>75%</th>\n",
              "      <td>1.000000</td>\n",
              "      <td>5.100000</td>\n",
              "      <td>1.800000</td>\n",
              "    </tr>\n",
              "    <tr>\n",
              "      <th>max</th>\n",
              "      <td>1.000000</td>\n",
              "      <td>6.900000</td>\n",
              "      <td>2.500000</td>\n",
              "    </tr>\n",
              "  </tbody>\n",
              "</table>\n",
              "</div>"
            ],
            "text/plain": [
              "            class  petal length (cm)  petal width (cm)\n",
              "count  150.000000         150.000000        150.000000\n",
              "mean     0.333333           3.758000          1.199333\n",
              "std      0.472984           1.765298          0.762238\n",
              "min      0.000000           1.000000          0.100000\n",
              "25%      0.000000           1.600000          0.300000\n",
              "50%      0.000000           4.350000          1.300000\n",
              "75%      1.000000           5.100000          1.800000\n",
              "max      1.000000           6.900000          2.500000"
            ]
          },
          "metadata": {
            "tags": []
          },
          "execution_count": 7
        }
      ]
    },
    {
      "cell_type": "code",
      "metadata": {
        "colab": {
          "base_uri": "https://localhost:8080/"
        },
        "id": "ETX67Q3gXnZU",
        "outputId": "2fe30e56-56e3-4b09-d97e-97ac395b9431"
      },
      "source": [
        "data[\"class\"].value_counts()"
      ],
      "execution_count": 8,
      "outputs": [
        {
          "output_type": "execute_result",
          "data": {
            "text/plain": [
              "0    100\n",
              "1     50\n",
              "Name: class, dtype: int64"
            ]
          },
          "metadata": {
            "tags": []
          },
          "execution_count": 8
        }
      ]
    },
    {
      "cell_type": "code",
      "metadata": {
        "colab": {
          "base_uri": "https://localhost:8080/",
          "height": 137
        },
        "id": "7bIPfwA-XzPC",
        "outputId": "ae08e5ad-8e57-43a2-f90d-ff8b41632ff8"
      },
      "source": [
        "data.groupby('class').mean()"
      ],
      "execution_count": 9,
      "outputs": [
        {
          "output_type": "execute_result",
          "data": {
            "text/html": [
              "<div>\n",
              "<style scoped>\n",
              "    .dataframe tbody tr th:only-of-type {\n",
              "        vertical-align: middle;\n",
              "    }\n",
              "\n",
              "    .dataframe tbody tr th {\n",
              "        vertical-align: top;\n",
              "    }\n",
              "\n",
              "    .dataframe thead th {\n",
              "        text-align: right;\n",
              "    }\n",
              "</style>\n",
              "<table border=\"1\" class=\"dataframe\">\n",
              "  <thead>\n",
              "    <tr style=\"text-align: right;\">\n",
              "      <th></th>\n",
              "      <th>petal length (cm)</th>\n",
              "      <th>petal width (cm)</th>\n",
              "    </tr>\n",
              "    <tr>\n",
              "      <th>class</th>\n",
              "      <th></th>\n",
              "      <th></th>\n",
              "    </tr>\n",
              "  </thead>\n",
              "  <tbody>\n",
              "    <tr>\n",
              "      <th>0</th>\n",
              "      <td>4.906</td>\n",
              "      <td>1.676</td>\n",
              "    </tr>\n",
              "    <tr>\n",
              "      <th>1</th>\n",
              "      <td>1.462</td>\n",
              "      <td>0.246</td>\n",
              "    </tr>\n",
              "  </tbody>\n",
              "</table>\n",
              "</div>"
            ],
            "text/plain": [
              "       petal length (cm)  petal width (cm)\n",
              "class                                     \n",
              "0                  4.906             1.676\n",
              "1                  1.462             0.246"
            ]
          },
          "metadata": {
            "tags": []
          },
          "execution_count": 9
        }
      ]
    },
    {
      "cell_type": "code",
      "metadata": {
        "colab": {
          "base_uri": "https://localhost:8080/",
          "height": 196
        },
        "id": "ETYzeWCDVVcq",
        "outputId": "bca37187-7154-4357-b331-47080ef3af20"
      },
      "source": [
        "data.head()"
      ],
      "execution_count": 10,
      "outputs": [
        {
          "output_type": "execute_result",
          "data": {
            "text/html": [
              "<div>\n",
              "<style scoped>\n",
              "    .dataframe tbody tr th:only-of-type {\n",
              "        vertical-align: middle;\n",
              "    }\n",
              "\n",
              "    .dataframe tbody tr th {\n",
              "        vertical-align: top;\n",
              "    }\n",
              "\n",
              "    .dataframe thead th {\n",
              "        text-align: right;\n",
              "    }\n",
              "</style>\n",
              "<table border=\"1\" class=\"dataframe\">\n",
              "  <thead>\n",
              "    <tr style=\"text-align: right;\">\n",
              "      <th></th>\n",
              "      <th>class</th>\n",
              "      <th>petal length (cm)</th>\n",
              "      <th>petal width (cm)</th>\n",
              "    </tr>\n",
              "  </thead>\n",
              "  <tbody>\n",
              "    <tr>\n",
              "      <th>0</th>\n",
              "      <td>1</td>\n",
              "      <td>1.4</td>\n",
              "      <td>0.2</td>\n",
              "    </tr>\n",
              "    <tr>\n",
              "      <th>1</th>\n",
              "      <td>1</td>\n",
              "      <td>1.4</td>\n",
              "      <td>0.2</td>\n",
              "    </tr>\n",
              "    <tr>\n",
              "      <th>2</th>\n",
              "      <td>1</td>\n",
              "      <td>1.3</td>\n",
              "      <td>0.2</td>\n",
              "    </tr>\n",
              "    <tr>\n",
              "      <th>3</th>\n",
              "      <td>1</td>\n",
              "      <td>1.5</td>\n",
              "      <td>0.2</td>\n",
              "    </tr>\n",
              "    <tr>\n",
              "      <th>4</th>\n",
              "      <td>1</td>\n",
              "      <td>1.4</td>\n",
              "      <td>0.2</td>\n",
              "    </tr>\n",
              "  </tbody>\n",
              "</table>\n",
              "</div>"
            ],
            "text/plain": [
              "   class  petal length (cm)  petal width (cm)\n",
              "0      1                1.4               0.2\n",
              "1      1                1.4               0.2\n",
              "2      1                1.3               0.2\n",
              "3      1                1.5               0.2\n",
              "4      1                1.4               0.2"
            ]
          },
          "metadata": {
            "tags": []
          },
          "execution_count": 10
        }
      ]
    },
    {
      "cell_type": "code",
      "metadata": {
        "id": "GhBE9KN2Uyls"
      },
      "source": [
        "X = data.drop('class', axis=1)\r\n",
        "Y = data[\"class\"]"
      ],
      "execution_count": 11,
      "outputs": []
    },
    {
      "cell_type": "markdown",
      "metadata": {
        "id": "ur2B87MER2AI"
      },
      "source": [
        "##Train Test Split\r\n"
      ]
    },
    {
      "cell_type": "code",
      "metadata": {
        "colab": {
          "base_uri": "https://localhost:8080/"
        },
        "id": "_HKU42wTQ6VK",
        "outputId": "3e4fb22d-c50b-47b2-adf1-1f2e641dd779"
      },
      "source": [
        "X_train,X_test, Y_train, Y_test = train_test_split(X,Y,test_size = 0.1,stratify=Y,random_state=1)\r\n",
        "print(X.shape,X_train.shape,X_test.shape)\r\n",
        "print(Y.shape,Y_train.shape,Y_test.shape)"
      ],
      "execution_count": 12,
      "outputs": [
        {
          "output_type": "stream",
          "text": [
            "(150, 2) (135, 2) (15, 2)\n",
            "(150,) (135,) (15,)\n"
          ],
          "name": "stdout"
        }
      ]
    },
    {
      "cell_type": "markdown",
      "metadata": {
        "id": "3npWaGiPSOs1"
      },
      "source": [
        "##Binarization"
      ]
    },
    {
      "cell_type": "code",
      "metadata": {
        "colab": {
          "base_uri": "https://localhost:8080/",
          "height": 342
        },
        "id": "8PhDcbaVSRt6",
        "outputId": "48c614a9-d478-4289-abe7-8797bc3718fb"
      },
      "source": [
        "plt.plot(X_train.T,'*')\r\n",
        "plt.xticks(rotation='vertical')\r\n",
        "plt.show()"
      ],
      "execution_count": 13,
      "outputs": [
        {
          "output_type": "display_data",
          "data": {
            "image/png": "[encoded data removed]",
            "text/plain": [
              "<Figure size 432x288 with 1 Axes>"
            ]
          },
          "metadata": {
            "tags": [],
            "needs_background": "light"
          }
        }
      ]
    },
    {
      "cell_type": "code",
      "metadata": {
        "id": "VxfgJN-XddoP"
      },
      "source": [
        "#X_binarised_train = X_train.apply(pd.cut,bins = 2, labels=[0,1])\r\n",
        "#X_binarised_test = X_test.apply(pd.cut,bins = 2, labels=[0,1])"
      ],
      "execution_count": 14,
      "outputs": []
    },
    {
      "cell_type": "code",
      "metadata": {
        "id": "DeR45ol9SeWx"
      },
      "source": [
        "X_binarised_train = X_train.apply(pd.cut,bins = 2, labels=[1,0])\r\n",
        "X_binarised_test = X_test.apply(pd.cut,bins = 2, labels=[1,0])"
      ],
      "execution_count": 15,
      "outputs": []
    },
    {
      "cell_type": "code",
      "metadata": {
        "colab": {
          "base_uri": "https://localhost:8080/",
          "height": 274
        },
        "id": "acCwYFr_YM5W",
        "outputId": "ed0fb413-6e9b-46a4-9cf8-15285f45d73b"
      },
      "source": [
        "plt.plot(X_binarised_train,'*')\r\n",
        "plt.xticks(rotation='vertical')\r\n",
        "plt.show()"
      ],
      "execution_count": 16,
      "outputs": [
        {
          "output_type": "display_data",
          "data": {
            "image/png": "[encoded data removed]",
            "text/plain": [
              "<Figure size 432x288 with 1 Axes>"
            ]
          },
          "metadata": {
            "tags": [],
            "needs_background": "light"
          }
        }
      ]
    },
    {
      "cell_type": "code",
      "metadata": {
        "colab": {
          "base_uri": "https://localhost:8080/",
          "height": 274
        },
        "id": "BsvKFXzaYT1G",
        "outputId": "d736a612-21cd-4339-eb28-2df54be69a67"
      },
      "source": [
        "plt.plot(X_binarised_test,'*')\r\n",
        "plt.xticks(rotation='vertical')\r\n",
        "plt.show()"
      ],
      "execution_count": 17,
      "outputs": [
        {
          "output_type": "display_data",
          "data": {
            "image/png": "[encoded data removed]",
            "text/plain": [
              "<Figure size 432x288 with 1 Axes>"
            ]
          },
          "metadata": {
            "tags": [],
            "needs_background": "light"
          }
        }
      ]
    },
    {
      "cell_type": "code",
      "metadata": {
        "colab": {
          "base_uri": "https://localhost:8080/"
        },
        "id": "i8aWFzucYYdx",
        "outputId": "f8716d17-3889-46f8-ae66-d603c45fc3f4"
      },
      "source": [
        "print(type(X_binarised_train))\r\n",
        "print(type(X_binarised_test))"
      ],
      "execution_count": 18,
      "outputs": [
        {
          "output_type": "stream",
          "text": [
            "<class 'pandas.core.frame.DataFrame'>\n",
            "<class 'pandas.core.frame.DataFrame'>\n"
          ],
          "name": "stdout"
        }
      ]
    },
    {
      "cell_type": "code",
      "metadata": {
        "id": "9nV5UI3jYcIq"
      },
      "source": [
        "X_binarised_train = X_binarised_train.values\r\n",
        "X_binarised_test = X_binarised_test.values"
      ],
      "execution_count": 19,
      "outputs": []
    },
    {
      "cell_type": "code",
      "metadata": {
        "colab": {
          "base_uri": "https://localhost:8080/"
        },
        "id": "t_BfUBkLYhum",
        "outputId": "c4262743-ef01-44f6-cbdb-284194327ae6"
      },
      "source": [
        "print(type(X_binarised_train))\r\n",
        "print(type(X_binarised_test))"
      ],
      "execution_count": 20,
      "outputs": [
        {
          "output_type": "stream",
          "text": [
            "<class 'numpy.ndarray'>\n",
            "<class 'numpy.ndarray'>\n"
          ],
          "name": "stdout"
        }
      ]
    },
    {
      "cell_type": "markdown",
      "metadata": {
        "id": "t2SRckMDYq6Z"
      },
      "source": [
        "##Inference and Search"
      ]
    },
    {
      "cell_type": "code",
      "metadata": {
        "colab": {
          "base_uri": "https://localhost:8080/"
        },
        "id": "lj7oIVcvbzt0",
        "outputId": "d6f56f78-d521-4bcb-d31d-1c0f630505ba"
      },
      "source": [
        "b = 3\r\n",
        "i = 100 \r\n",
        "if(np.sum(X_binarised_train[100,:])>=b):\r\n",
        "  print(\"Prediction : Flower is Setosa\")\r\n",
        "else:\r\n",
        "   print(\"Prediction : Flower is not Setosa\")\r\n",
        "\r\n",
        "if(Y_train[i]==1):\r\n",
        "  print(\"Ground Truth : Flower is Setosa\")\r\n",
        "else:\r\n",
        "  print(\"Ground Truth : Flower is not Setosa\")"
      ],
      "execution_count": 21,
      "outputs": [
        {
          "output_type": "stream",
          "text": [
            "Prediction : Flower is not Setosa\n",
            "Ground Truth : Flower is not Setosa\n"
          ],
          "name": "stdout"
        }
      ]
    },
    {
      "cell_type": "code",
      "metadata": {
        "colab": {
          "base_uri": "https://localhost:8080/"
        },
        "id": "1vOUYajfccja",
        "outputId": "2da289c6-ff32-4c9d-d64c-d055047820aa"
      },
      "source": [
        "b = 3\r\n",
        "i = np.random.randint(0,X_binarised_train.shape[0])\r\n",
        "\r\n",
        "print(\"For row i : \",i)\r\n",
        "\r\n",
        "if(np.sum(X_binarised_train[100,:])>=b):\r\n",
        "  print(\"Prediction : Flower is Setosa\")\r\n",
        "else:\r\n",
        "  print(\"Prediction : Flower is not Setosa\")\r\n",
        "\r\n",
        "if(Y_train[i]==1):\r\n",
        "  print(\"Ground Truth : Flower is Setosa\")\r\n",
        "else:\r\n",
        "  print(\"Ground Truth : Flower is not Setosa\")"
      ],
      "execution_count": 22,
      "outputs": [
        {
          "output_type": "stream",
          "text": [
            "For row i :  121\n",
            "Prediction : Flower is not Setosa\n",
            "Ground Truth : Flower is not Setosa\n"
          ],
          "name": "stdout"
        }
      ]
    },
    {
      "cell_type": "code",
      "metadata": {
        "colab": {
          "base_uri": "https://localhost:8080/"
        },
        "id": "Zlju2W1vc4dU",
        "outputId": "334e6c77-bed5-49c3-cba3-75772c9b8f19"
      },
      "source": [
        "b = 3\r\n",
        "y_pred_train = []\r\n",
        "accurate_rows = 0\r\n",
        "for x, y in zip(X_binarised_train,Y_train):\r\n",
        "  y_pred = np.sum(x)>=b\r\n",
        "  y_pred_train.append(y_pred)\r\n",
        "  accurate_rows += (y_pred == y) \r\n",
        "\r\n",
        "print(\"Accuracy is : \", accurate_rows/X_binarised_train.shape[0])"
      ],
      "execution_count": 23,
      "outputs": [
        {
          "output_type": "stream",
          "text": [
            "Accuracy is :  0.6666666666666666\n"
          ],
          "name": "stdout"
        }
      ]
    },
    {
      "cell_type": "code",
      "metadata": {
        "colab": {
          "base_uri": "https://localhost:8080/"
        },
        "id": "GSjDtZkzc-db",
        "outputId": "4ea393f8-733a-409e-8c13-89e97dc06bd7"
      },
      "source": [
        "for b in range(X_binarised_train.shape[1]+1):\r\n",
        "  y_pred_train = []\r\n",
        "  accurate_rows = 0\r\n",
        "  for x, y in zip(X_binarised_train,Y_train):\r\n",
        "    y_pred = np.sum(x)>=b\r\n",
        "    y_pred_train.append(y_pred)\r\n",
        "    accurate_rows += (y_pred == y) \r\n",
        "  print(\"b = \",b,\" Accuracy is : \", accurate_rows/X_binarised_train.shape[0])"
      ],
      "execution_count": 24,
      "outputs": [
        {
          "output_type": "stream",
          "text": [
            "b =  0  Accuracy is :  0.3333333333333333\n",
            "b =  1  Accuracy is :  0.8148148148148148\n",
            "b =  2  Accuracy is :  0.9259259259259259\n"
          ],
          "name": "stdout"
        }
      ]
    },
    {
      "cell_type": "code",
      "metadata": {
        "colab": {
          "base_uri": "https://localhost:8080/"
        },
        "id": "QWBUk0_9dplw",
        "outputId": "c8d12f09-99ec-40cd-c4da-6d5f7c845027"
      },
      "source": [
        "b = 2\r\n",
        "y_pred_test = []\r\n",
        "accurate_rows = 0\r\n",
        "for x, y in zip(X_binarised_test,Y_test):\r\n",
        "  y_pred = np.sum(x)>=b\r\n",
        "  y_pred_test.append(y_pred)\r\n",
        "  accurate_rows += (y_pred == y) \r\n",
        "\r\n",
        "print(\"Accuracy is : \", accurate_rows/X_binarised_test.shape[0])"
      ],
      "execution_count": 25,
      "outputs": [
        {
          "output_type": "stream",
          "text": [
            "Accuracy is :  0.9333333333333333\n"
          ],
          "name": "stdout"
        }
      ]
    },
    {
      "cell_type": "markdown",
      "metadata": {
        "id": "iNSk2vKWdyp-"
      },
      "source": [
        "##MP Neuron Class"
      ]
    },
    {
      "cell_type": "code",
      "metadata": {
        "id": "doy45ad7dvR9"
      },
      "source": [
        "class MPNeuron:\r\n",
        "  \r\n",
        "  def __init__(self):\r\n",
        "    self.b = None\r\n",
        "    \r\n",
        "  def model(self, x):\r\n",
        "    return(sum(x) >= self.b)\r\n",
        "  \r\n",
        "  def predict(self, X):\r\n",
        "    Y = []\r\n",
        "    for x in X:\r\n",
        "      result = self.model(x)\r\n",
        "      Y.append(result)\r\n",
        "    return np.array(Y)\r\n",
        "  \r\n",
        "  def fit(self, X, Y):\r\n",
        "    accuracy = {}\r\n",
        "    \r\n",
        "    for b in range(X.shape[1] + 1):\r\n",
        "      self.b = b\r\n",
        "      Y_pred = self.predict(X)\r\n",
        "      accuracy[b] = accuracy_score(Y_pred, Y)\r\n",
        "      \r\n",
        "    best_b = max(accuracy, key = accuracy.get)\r\n",
        "    self.b = best_b\r\n",
        "    \r\n",
        "    print('Optimal value of b is', best_b)\r\n",
        "    print('Highest accuracy is', accuracy[best_b])"
      ],
      "execution_count": 26,
      "outputs": []
    },
    {
      "cell_type": "code",
      "metadata": {
        "colab": {
          "base_uri": "https://localhost:8080/"
        },
        "id": "xCvjc_Xhd4WJ",
        "outputId": "a71c9f0f-535d-457e-bea7-4763da491363"
      },
      "source": [
        "mp_neuron = MPNeuron()\r\n",
        "mp_neuron.fit(X_binarised_train, Y_train)"
      ],
      "execution_count": 27,
      "outputs": [
        {
          "output_type": "stream",
          "text": [
            "Optimal value of b is 2\n",
            "Highest accuracy is 0.9259259259259259\n"
          ],
          "name": "stdout"
        }
      ]
    },
    {
      "cell_type": "code",
      "metadata": {
        "colab": {
          "base_uri": "https://localhost:8080/"
        },
        "id": "-IbZpm2wd7EP",
        "outputId": "2fe95187-97e0-4e5b-8533-e171369237f6"
      },
      "source": [
        "Y_test_pred = mp_neuron.predict(X_binarised_test)\r\n",
        "accuracy_test = accuracy_score(Y_test_pred, Y_test)\r\n",
        "print(accuracy_test)"
      ],
      "execution_count": 28,
      "outputs": [
        {
          "output_type": "stream",
          "text": [
            "0.9333333333333333\n"
          ],
          "name": "stdout"
        }
      ]
    }
  ]
}