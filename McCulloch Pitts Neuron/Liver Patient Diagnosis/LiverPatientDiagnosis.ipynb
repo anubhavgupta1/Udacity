{
  "nbformat": 4,
  "nbformat_minor": 0,
  "metadata": {
    "colab": {
      "name": "LiverPatientDiagnosis.ipynb",
      "provenance": [],
      "authorship_tag": "ABX9TyPuVcrMeK8w6OPTtfTHY8PS",
      "include_colab_link": true
    },
    "kernelspec": {
      "name": "python3",
      "display_name": "Python 3"
    }
  },
  "cells": [
    {
      "cell_type": "markdown",
      "metadata": {
        "id": "view-in-github",
        "colab_type": "text"
      },
      "source": [
        "<a href=\"https://colab.research.google.com/github/anubhavgupta1/Udacity/blob/main/McCulloch%20Pitts%20Neuron/Liver%20Patient%20Diagnosis/LiverPatientDiagnosis.ipynb\" target=\"_parent\"><img src=\"https://colab.research.google.com/assets/colab-badge.svg\" alt=\"Open In Colab\"/></a>"
      ]
    },
    {
      "cell_type": "code",
      "metadata": {
        "colab": {
          "base_uri": "https://localhost:8080/"
        },
        "id": "4xsT_IbcLpNH",
        "outputId": "5449b9aa-ff63-4b2f-a445-f5ad824391ae"
      },
      "source": [
        "!ls\r\n",
        "!apt-get install -y -qq software-properties-common python-software-properties module-init-tools\r\n",
        "!add-apt-repository -y ppa:alessandro-strada/ppa 2>&1 > /dev/null\r\n",
        "!apt-get update -qq 2>&1 > /dev/null\r\n",
        "!apt-get -y install -qq google-drive-ocamlfuse fuse\r\n",
        "from google.colab import auth\r\n",
        "auth.authenticate_user()\r\n",
        "from oauth2client.client import GoogleCredentials\r\n",
        "creds = GoogleCredentials.get_application_default()\r\n",
        "import getpass\r\n",
        "!google-drive-ocamlfuse -headless -id={creds.client_id} -secret={creds.client_secret} < /dev/null 2>&1 | grep URL\r\n",
        "vcode = getpass.getpass()\r\n",
        "!echo {vcode} | google-drive-ocamlfuse -headless -id={creds.client_id} -secret={creds.client_secret}\r\n",
        "\r\n",
        "\r\n",
        "!mkdir -p drive\r\n",
        "!google-drive-ocamlfuse drive\r\n",
        "\r\n",
        "import os\r\n",
        "os.chdir(\"drive/Udacity/Dataset/\")\r\n",
        "!ls"
      ],
      "execution_count": 1,
      "outputs": [
        {
          "output_type": "stream",
          "text": [
            "adc.json  drive  sample_data\n",
            "E: Package 'python-software-properties' has no installation candidate\n",
            "··········\n",
            "fuse: mountpoint is not empty\n",
            "fuse: if you are sure this is safe, use the 'nonempty' mount option\n",
            "indian_liver_patient.csv  mobile.csv  perceptron.csv  student_data.csv\n"
          ],
          "name": "stdout"
        }
      ]
    },
    {
      "cell_type": "markdown",
      "metadata": {
        "id": "VQHNMWp1QyVS"
      },
      "source": [
        "## Load the Data"
      ]
    },
    {
      "cell_type": "code",
      "metadata": {
        "id": "-LhHKHThBd0B"
      },
      "source": [
        "import numpy as np\r\n",
        "import pandas as pd\r\n",
        "import matplotlib.pyplot as plt\r\n",
        "from sklearn.metrics import accuracy_score\r\n",
        "from sklearn.model_selection import  train_test_split"
      ],
      "execution_count": 2,
      "outputs": []
    },
    {
      "cell_type": "code",
      "metadata": {
        "colab": {
          "base_uri": "https://localhost:8080/"
        },
        "id": "UL_y1lYmBheb",
        "outputId": "69ce929d-a675-42fd-f800-40c0114f902c"
      },
      "source": [
        "patient = pd.read_csv('indian_liver_patient.csv')\r\n",
        "print(type(patient))\r\n",
        "print(patient.shape)"
      ],
      "execution_count": 3,
      "outputs": [
        {
          "output_type": "stream",
          "text": [
            "<class 'pandas.core.frame.DataFrame'>\n",
            "(583, 11)\n"
          ],
          "name": "stdout"
        }
      ]
    },
    {
      "cell_type": "code",
      "metadata": {
        "id": "mL5sBvDcJnK7"
      },
      "source": [
        "gender = pd.get_dummies(patient['Gender'])\r\n",
        "patient = pd.concat([patient,gender], axis=1)"
      ],
      "execution_count": 4,
      "outputs": []
    },
    {
      "cell_type": "code",
      "metadata": {
        "colab": {
          "base_uri": "https://localhost:8080/"
        },
        "id": "iFD3lithNFIg",
        "outputId": "91fa3515-5a76-4fbb-fa24-b6e579619584"
      },
      "source": [
        "patient['class'] = (patient[\"Dataset\"]==1) * 1\r\n",
        "patient = patient.drop(['Dataset'],axis=1)\r\n",
        "patient = patient.drop(['Gender'],axis=1)\r\n",
        "print(\"Class is 1 if patient needs liver diagnosis and 0 i don't\")"
      ],
      "execution_count": 5,
      "outputs": [
        {
          "output_type": "stream",
          "text": [
            "Class is 1 if patient needs liver diagnosis and 0 i don't\n"
          ],
          "name": "stdout"
        }
      ]
    },
    {
      "cell_type": "code",
      "metadata": {
        "colab": {
          "base_uri": "https://localhost:8080/"
        },
        "id": "o486-QNHOSwB",
        "outputId": "b3b8ed66-e988-4024-ce59-73b79333f03d"
      },
      "source": [
        "print(patient['class'].value_counts())\r\n",
        "print(patient['class'].value_counts(normalize=True))"
      ],
      "execution_count": 6,
      "outputs": [
        {
          "output_type": "stream",
          "text": [
            "1    416\n",
            "0    167\n",
            "Name: class, dtype: int64\n",
            "1    0.713551\n",
            "0    0.286449\n",
            "Name: class, dtype: float64\n"
          ],
          "name": "stdout"
        }
      ]
    },
    {
      "cell_type": "code",
      "metadata": {
        "colab": {
          "base_uri": "https://localhost:8080/",
          "height": 216
        },
        "id": "0AyxtP4fOwR6",
        "outputId": "9b989690-c7c0-40ca-dec8-399bcf039979"
      },
      "source": [
        "patient.head()"
      ],
      "execution_count": 7,
      "outputs": [
        {
          "output_type": "execute_result",
          "data": {
            "text/html": [
              "<div>\n",
              "<style scoped>\n",
              "    .dataframe tbody tr th:only-of-type {\n",
              "        vertical-align: middle;\n",
              "    }\n",
              "\n",
              "    .dataframe tbody tr th {\n",
              "        vertical-align: top;\n",
              "    }\n",
              "\n",
              "    .dataframe thead th {\n",
              "        text-align: right;\n",
              "    }\n",
              "</style>\n",
              "<table border=\"1\" class=\"dataframe\">\n",
              "  <thead>\n",
              "    <tr style=\"text-align: right;\">\n",
              "      <th></th>\n",
              "      <th>Age</th>\n",
              "      <th>Total_Bilirubin</th>\n",
              "      <th>Direct_Bilirubin</th>\n",
              "      <th>Alkaline_Phosphotase</th>\n",
              "      <th>Alamine_Aminotransferase</th>\n",
              "      <th>Aspartate_Aminotransferase</th>\n",
              "      <th>Total_Protiens</th>\n",
              "      <th>Albumin</th>\n",
              "      <th>Albumin_and_Globulin_Ratio</th>\n",
              "      <th>Female</th>\n",
              "      <th>Male</th>\n",
              "      <th>class</th>\n",
              "    </tr>\n",
              "  </thead>\n",
              "  <tbody>\n",
              "    <tr>\n",
              "      <th>0</th>\n",
              "      <td>65</td>\n",
              "      <td>0.7</td>\n",
              "      <td>0.1</td>\n",
              "      <td>187</td>\n",
              "      <td>16</td>\n",
              "      <td>18</td>\n",
              "      <td>6.8</td>\n",
              "      <td>3.3</td>\n",
              "      <td>0.90</td>\n",
              "      <td>1</td>\n",
              "      <td>0</td>\n",
              "      <td>1</td>\n",
              "    </tr>\n",
              "    <tr>\n",
              "      <th>1</th>\n",
              "      <td>62</td>\n",
              "      <td>10.9</td>\n",
              "      <td>5.5</td>\n",
              "      <td>699</td>\n",
              "      <td>64</td>\n",
              "      <td>100</td>\n",
              "      <td>7.5</td>\n",
              "      <td>3.2</td>\n",
              "      <td>0.74</td>\n",
              "      <td>0</td>\n",
              "      <td>1</td>\n",
              "      <td>1</td>\n",
              "    </tr>\n",
              "    <tr>\n",
              "      <th>2</th>\n",
              "      <td>62</td>\n",
              "      <td>7.3</td>\n",
              "      <td>4.1</td>\n",
              "      <td>490</td>\n",
              "      <td>60</td>\n",
              "      <td>68</td>\n",
              "      <td>7.0</td>\n",
              "      <td>3.3</td>\n",
              "      <td>0.89</td>\n",
              "      <td>0</td>\n",
              "      <td>1</td>\n",
              "      <td>1</td>\n",
              "    </tr>\n",
              "    <tr>\n",
              "      <th>3</th>\n",
              "      <td>58</td>\n",
              "      <td>1.0</td>\n",
              "      <td>0.4</td>\n",
              "      <td>182</td>\n",
              "      <td>14</td>\n",
              "      <td>20</td>\n",
              "      <td>6.8</td>\n",
              "      <td>3.4</td>\n",
              "      <td>1.00</td>\n",
              "      <td>0</td>\n",
              "      <td>1</td>\n",
              "      <td>1</td>\n",
              "    </tr>\n",
              "    <tr>\n",
              "      <th>4</th>\n",
              "      <td>72</td>\n",
              "      <td>3.9</td>\n",
              "      <td>2.0</td>\n",
              "      <td>195</td>\n",
              "      <td>27</td>\n",
              "      <td>59</td>\n",
              "      <td>7.3</td>\n",
              "      <td>2.4</td>\n",
              "      <td>0.40</td>\n",
              "      <td>0</td>\n",
              "      <td>1</td>\n",
              "      <td>1</td>\n",
              "    </tr>\n",
              "  </tbody>\n",
              "</table>\n",
              "</div>"
            ],
            "text/plain": [
              "   Age  Total_Bilirubin  Direct_Bilirubin  ...  Female  Male  class\n",
              "0   65              0.7               0.1  ...       1     0      1\n",
              "1   62             10.9               5.5  ...       0     1      1\n",
              "2   62              7.3               4.1  ...       0     1      1\n",
              "3   58              1.0               0.4  ...       0     1      1\n",
              "4   72              3.9               2.0  ...       0     1      1\n",
              "\n",
              "[5 rows x 12 columns]"
            ]
          },
          "metadata": {
            "tags": []
          },
          "execution_count": 7
        }
      ]
    },
    {
      "cell_type": "code",
      "metadata": {
        "id": "kgHo8_Y5ORRd"
      },
      "source": [
        "X = patient[patient.columns.difference(['class'])]\r\n",
        "Y = patient['class']"
      ],
      "execution_count": 8,
      "outputs": []
    },
    {
      "cell_type": "markdown",
      "metadata": {
        "id": "Mm1XCfRlQvtk"
      },
      "source": [
        "##Train Test Split"
      ]
    },
    {
      "cell_type": "code",
      "metadata": {
        "colab": {
          "base_uri": "https://localhost:8080/"
        },
        "id": "er0SB_sIQtgP",
        "outputId": "e32df9da-2a1e-486f-c3dd-353ecf439a8f"
      },
      "source": [
        "X_train,X_test, Y_train, Y_test = train_test_split(X,Y,test_size = 0.1,stratify=Y,random_state=1)\r\n",
        "print(X.shape,X_train.shape,X_test.shape)\r\n",
        "print(Y.shape,Y_train.shape,Y_test.shape)"
      ],
      "execution_count": 9,
      "outputs": [
        {
          "output_type": "stream",
          "text": [
            "(583, 11) (524, 11) (59, 11)\n",
            "(583,) (524,) (59,)\n"
          ],
          "name": "stdout"
        }
      ]
    },
    {
      "cell_type": "markdown",
      "metadata": {
        "id": "mkO-bErlQ6zL"
      },
      "source": [
        "## Binarization"
      ]
    },
    {
      "cell_type": "code",
      "metadata": {
        "colab": {
          "base_uri": "https://localhost:8080/",
          "height": 398
        },
        "id": "muGrm2LBQ9Vm",
        "outputId": "8097734f-4e7a-41d2-bff5-46f15a91b7f3"
      },
      "source": [
        "plt.plot(X_train.T,'*')\r\n",
        "plt.xticks(rotation='vertical')\r\n",
        "plt.show()"
      ],
      "execution_count": 10,
      "outputs": [
        {
          "output_type": "display_data",
          "data": {
            "image/png": "[encoded data removed]",
            "text/plain": [
              "<Figure size 432x288 with 1 Axes>"
            ]
          },
          "metadata": {
            "tags": [],
            "needs_background": "light"
          }
        }
      ]
    },
    {
      "cell_type": "code",
      "metadata": {
        "id": "ct-yaqJ4TSw5"
      },
      "source": [
        "#X_binarised_train = X_train.apply(pd.cut,bins = 2, labels=[0,1])\r\n",
        "#X_binarised_test = X_test.apply(pd.cut,bins = 2, labels=[0,1])"
      ],
      "execution_count": 11,
      "outputs": []
    },
    {
      "cell_type": "code",
      "metadata": {
        "id": "MLemJwMXRneN"
      },
      "source": [
        "X_binarised_train = X_train.apply(pd.cut,bins = 2, labels=[1,0])\r\n",
        "X_binarised_test = X_test.apply(pd.cut,bins = 2, labels=[1,0])"
      ],
      "execution_count": 12,
      "outputs": []
    },
    {
      "cell_type": "code",
      "metadata": {
        "colab": {
          "base_uri": "https://localhost:8080/",
          "height": 274
        },
        "id": "UVRLplOBRuRG",
        "outputId": "ca1c660f-fed2-491e-c4e1-a1a1a1370444"
      },
      "source": [
        "plt.plot(X_binarised_train,'*')\r\n",
        "plt.xticks(rotation='vertical')\r\n",
        "plt.show()"
      ],
      "execution_count": 13,
      "outputs": [
        {
          "output_type": "display_data",
          "data": {
            "image/png": "[encoded data removed]",
            "text/plain": [
              "<Figure size 432x288 with 1 Axes>"
            ]
          },
          "metadata": {
            "tags": [],
            "needs_background": "light"
          }
        }
      ]
    },
    {
      "cell_type": "code",
      "metadata": {
        "colab": {
          "base_uri": "https://localhost:8080/",
          "height": 274
        },
        "id": "fayHac0ZRwP3",
        "outputId": "3c52450a-b47c-4f5a-afe7-3c57ed811cf3"
      },
      "source": [
        "plt.plot(X_binarised_test,'*')\r\n",
        "plt.xticks(rotation='vertical')\r\n",
        "plt.show()"
      ],
      "execution_count": 14,
      "outputs": [
        {
          "output_type": "display_data",
          "data": {
            "image/png": "[encoded data removed]",
            "text/plain": [
              "<Figure size 432x288 with 1 Axes>"
            ]
          },
          "metadata": {
            "tags": [],
            "needs_background": "light"
          }
        }
      ]
    },
    {
      "cell_type": "code",
      "metadata": {
        "colab": {
          "base_uri": "https://localhost:8080/"
        },
        "id": "HDrFzDp6R5Db",
        "outputId": "bc1a9e7d-71c5-44fc-f76d-6bd393626495"
      },
      "source": [
        "print(type(X_binarised_train))\r\n",
        "print(type(X_binarised_test))"
      ],
      "execution_count": 15,
      "outputs": [
        {
          "output_type": "stream",
          "text": [
            "<class 'pandas.core.frame.DataFrame'>\n",
            "<class 'pandas.core.frame.DataFrame'>\n"
          ],
          "name": "stdout"
        }
      ]
    },
    {
      "cell_type": "code",
      "metadata": {
        "id": "QLX2ovbLR8wA"
      },
      "source": [
        "X_binarised_train = X_binarised_train.values\r\n",
        "X_binarised_test = X_binarised_test.values"
      ],
      "execution_count": 16,
      "outputs": []
    },
    {
      "cell_type": "code",
      "metadata": {
        "colab": {
          "base_uri": "https://localhost:8080/"
        },
        "id": "khyIdy0NR55b",
        "outputId": "85dcefe2-5665-48d3-8ade-f5e60a5124ac"
      },
      "source": [
        "print(type(X_binarised_train))\r\n",
        "print(type(X_binarised_test))"
      ],
      "execution_count": 17,
      "outputs": [
        {
          "output_type": "stream",
          "text": [
            "<class 'numpy.ndarray'>\n",
            "<class 'numpy.ndarray'>\n"
          ],
          "name": "stdout"
        }
      ]
    },
    {
      "cell_type": "markdown",
      "metadata": {
        "id": "CjNflbWzSC-2"
      },
      "source": [
        "## Inference and Search"
      ]
    },
    {
      "cell_type": "code",
      "metadata": {
        "colab": {
          "base_uri": "https://localhost:8080/"
        },
        "id": "rxGRr45uSFGo",
        "outputId": "fd9e5ab8-a9b8-4211-ac20-866e60b1744d"
      },
      "source": [
        "b = 3\r\n",
        "i = 100 \r\n",
        "if(np.sum(X_binarised_train[100,:])>=b):\r\n",
        "  print(\"Prediction : Patient Needs Liver Diagnosis\")\r\n",
        "else:\r\n",
        "   print(\"Prediction : Patient Doesn't Need Liver Diagnosis\")\r\n",
        "\r\n",
        "if(Y_train[i]==1):\r\n",
        "  print(\"Ground Truth : Patient Needs Liver Diagnosis\")\r\n",
        "else:\r\n",
        "  print(\"Ground Truth : Patient Doesn't Need Liver Diagnosis\")"
      ],
      "execution_count": 18,
      "outputs": [
        {
          "output_type": "stream",
          "text": [
            "Prediction : Patient Needs Liver Diagnosis\n",
            "Ground Truth : Patient Doesn't Need Liver Diagnosis\n"
          ],
          "name": "stdout"
        }
      ]
    },
    {
      "cell_type": "code",
      "metadata": {
        "colab": {
          "base_uri": "https://localhost:8080/"
        },
        "id": "53t3Pet9Somj",
        "outputId": "1eed2b9a-9493-473c-faf3-d75764c8effd"
      },
      "source": [
        "b = 3\r\n",
        "i = np.random.randint(0,X_binarised_train.shape[0])\r\n",
        "\r\n",
        "print(\"For row i : \",i)\r\n",
        "\r\n",
        "if(np.sum(X_binarised_train[100,:])>=b):\r\n",
        "  print(\"Prediction : Patient Needs Liver Diagnosis\")\r\n",
        "else:\r\n",
        "   print(\"Prediction : Patient Doesn't Need Liver Diagnosis\")\r\n",
        "\r\n",
        "if(Y_train[i]==1):\r\n",
        "  print(\"Ground Truth : Patient Needs Liver Diagnosis\")\r\n",
        "else:\r\n",
        "  print(\"Ground Truth : Patient Doesn't Need Liver Diagnosis\")"
      ],
      "execution_count": 19,
      "outputs": [
        {
          "output_type": "stream",
          "text": [
            "For row i :  306\n",
            "Prediction : Patient Needs Liver Diagnosis\n",
            "Ground Truth : Patient Needs Liver Diagnosis\n"
          ],
          "name": "stdout"
        }
      ]
    },
    {
      "cell_type": "code",
      "metadata": {
        "colab": {
          "base_uri": "https://localhost:8080/"
        },
        "id": "9iIsFFRYS5a4",
        "outputId": "0dacb535-9c27-4c65-ae0a-fd2500cdf1bf"
      },
      "source": [
        "b = 3\r\n",
        "y_pred_train = []\r\n",
        "accurate_rows = 0\r\n",
        "for x, y in zip(X_binarised_train,Y_train):\r\n",
        "  y_pred = np.sum(x)>=b\r\n",
        "  y_pred_train.append(y_pred)\r\n",
        "  accurate_rows += (y_pred == y) \r\n",
        "\r\n",
        "print(\"Accuracy is : \", accurate_rows/X_binarised_train.shape[0])"
      ],
      "execution_count": 20,
      "outputs": [
        {
          "output_type": "stream",
          "text": [
            "Accuracy is :  0.7156488549618321\n"
          ],
          "name": "stdout"
        }
      ]
    },
    {
      "cell_type": "code",
      "metadata": {
        "colab": {
          "base_uri": "https://localhost:8080/"
        },
        "id": "6xCZjE-_S97B",
        "outputId": "f86628ef-e8bd-44c5-e925-207987ee8c1e"
      },
      "source": [
        "for b in range(X_binarised_train.shape[1]+1):\r\n",
        "  y_pred_train = []\r\n",
        "  accurate_rows = 0\r\n",
        "  for x, y in zip(X_binarised_train,Y_train):\r\n",
        "    y_pred = np.sum(x)>=b\r\n",
        "    y_pred_train.append(y_pred)\r\n",
        "    accurate_rows += (y_pred == y) \r\n",
        "  print(\"b = \",b,\" Accuracy is : \", accurate_rows/X_binarised_train.shape[0])\r\n",
        "  "
      ],
      "execution_count": 21,
      "outputs": [
        {
          "output_type": "stream",
          "text": [
            "b =  0  Accuracy is :  0.7156488549618321\n",
            "b =  1  Accuracy is :  0.7156488549618321\n",
            "b =  2  Accuracy is :  0.7156488549618321\n",
            "b =  3  Accuracy is :  0.7156488549618321\n",
            "b =  4  Accuracy is :  0.7156488549618321\n",
            "b =  5  Accuracy is :  0.7156488549618321\n",
            "b =  6  Accuracy is :  0.7137404580152672\n",
            "b =  7  Accuracy is :  0.6984732824427481\n",
            "b =  8  Accuracy is :  0.6316793893129771\n",
            "b =  9  Accuracy is :  0.4580152671755725\n",
            "b =  10  Accuracy is :  0.3377862595419847\n",
            "b =  11  Accuracy is :  0.2862595419847328\n"
          ],
          "name": "stdout"
        }
      ]
    },
    {
      "cell_type": "code",
      "metadata": {
        "colab": {
          "base_uri": "https://localhost:8080/"
        },
        "id": "QVpICcL1T2QG",
        "outputId": "b71abb1e-03a0-45c8-9547-d84868f6284b"
      },
      "source": [
        "b = 0\r\n",
        "y_pred_test = []\r\n",
        "accurate_rows = 0\r\n",
        "for x, y in zip(X_binarised_test,Y_test):\r\n",
        "  y_pred = np.sum(x)>=b\r\n",
        "  y_pred_test.append(y_pred)\r\n",
        "  accurate_rows += (y_pred == y) \r\n",
        "\r\n",
        "print(\"Accuracy is : \", accurate_rows/X_binarised_test.shape[0])"
      ],
      "execution_count": 22,
      "outputs": [
        {
          "output_type": "stream",
          "text": [
            "Accuracy is :  0.6949152542372882\n"
          ],
          "name": "stdout"
        }
      ]
    },
    {
      "cell_type": "markdown",
      "metadata": {
        "id": "r6cG7gvlTeE2"
      },
      "source": [
        "## MP Neuron Class"
      ]
    },
    {
      "cell_type": "code",
      "metadata": {
        "id": "0YEm4C1gTfPa"
      },
      "source": [
        "class MPNeuron:\r\n",
        "  \r\n",
        "  def __init__(self):\r\n",
        "    self.b = None\r\n",
        "    \r\n",
        "  def model(self, x):\r\n",
        "    return(sum(x) >= self.b)\r\n",
        "  \r\n",
        "  def predict(self, X):\r\n",
        "    Y = []\r\n",
        "    for x in X:\r\n",
        "      result = self.model(x)\r\n",
        "      Y.append(result)\r\n",
        "    return np.array(Y)\r\n",
        "  \r\n",
        "  def fit(self, X, Y):\r\n",
        "    accuracy = {}\r\n",
        "    \r\n",
        "    for b in range(X.shape[1] + 1):\r\n",
        "      self.b = b\r\n",
        "      Y_pred = self.predict(X)\r\n",
        "      accuracy[b] = accuracy_score(Y_pred, Y)\r\n",
        "      \r\n",
        "    best_b = max(accuracy, key = accuracy.get)\r\n",
        "    self.b = best_b\r\n",
        "    \r\n",
        "    print('Optimal value of b is', best_b)\r\n",
        "    print('Highest accuracy is', accuracy[best_b])"
      ],
      "execution_count": 23,
      "outputs": []
    },
    {
      "cell_type": "code",
      "metadata": {
        "colab": {
          "base_uri": "https://localhost:8080/"
        },
        "id": "79h81h7zTjb0",
        "outputId": "cb32904c-bc00-476a-a5e0-33995108e921"
      },
      "source": [
        "mp_neuron = MPNeuron()\r\n",
        "mp_neuron.fit(X_binarised_train, Y_train)"
      ],
      "execution_count": 24,
      "outputs": [
        {
          "output_type": "stream",
          "text": [
            "Optimal value of b is 0\n",
            "Highest accuracy is 0.7156488549618321\n"
          ],
          "name": "stdout"
        }
      ]
    },
    {
      "cell_type": "code",
      "metadata": {
        "colab": {
          "base_uri": "https://localhost:8080/"
        },
        "id": "mAgXU2pITqU4",
        "outputId": "4bd0bcd5-d313-4459-f4f4-a109db10ce3d"
      },
      "source": [
        "Y_test_pred = mp_neuron.predict(X_binarised_test)\r\n",
        "accuracy_test = accuracy_score(Y_test_pred, Y_test)\r\n",
        "print(accuracy_test)"
      ],
      "execution_count": 25,
      "outputs": [
        {
          "output_type": "stream",
          "text": [
            "0.6949152542372882\n"
          ],
          "name": "stdout"
        }
      ]
    }
  ]
}