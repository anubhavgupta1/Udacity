{
  "nbformat": 4,
  "nbformat_minor": 0,
  "metadata": {
    "colab": {
      "name": "StudentAdmissions.ipynb",
      "provenance": [],
      "authorship_tag": "ABX9TyOecu2n4XlrHFORE3eidtJK",
      "include_colab_link": true
    },
    "kernelspec": {
      "name": "python3",
      "display_name": "Python 3"
    }
  },
  "cells": [
    {
      "cell_type": "markdown",
      "metadata": {
        "id": "view-in-github",
        "colab_type": "text"
      },
      "source": [
        "<a href=\"https://colab.research.google.com/github/anubhavgupta1/Udacity/blob/main/StudentAdmissions.ipynb\" target=\"_parent\"><img src=\"https://colab.research.google.com/assets/colab-badge.svg\" alt=\"Open In Colab\"/></a>"
      ]
    },
    {
      "cell_type": "code",
      "metadata": {
        "colab": {
          "base_uri": "https://localhost:8080/"
        },
        "id": "ym4fZCqwKMQD",
        "outputId": "61f85b13-5018-48aa-f639-045221cdc115"
      },
      "source": [
        "!ls\r\n",
        "!apt-get install -y -qq software-properties-common python-software-properties module-init-tools\r\n",
        "!add-apt-repository -y ppa:alessandro-strada/ppa 2>&1 > /dev/null\r\n",
        "!apt-get update -qq 2>&1 > /dev/null\r\n",
        "!apt-get -y install -qq google-drive-ocamlfuse fuse\r\n",
        "from google.colab import auth\r\n",
        "auth.authenticate_user()\r\n",
        "from oauth2client.client import GoogleCredentials\r\n",
        "creds = GoogleCredentials.get_application_default()\r\n",
        "import getpass\r\n",
        "!google-drive-ocamlfuse -headless -id={creds.client_id} -secret={creds.client_secret} < /dev/null 2>&1 | grep URL\r\n",
        "vcode = getpass.getpass()\r\n",
        "!echo {vcode} | google-drive-ocamlfuse -headless -id={creds.client_id} -secret={creds.client_secret}\r\n",
        "\r\n",
        "\r\n",
        "!mkdir -p drive\r\n",
        "!google-drive-ocamlfuse drive\r\n",
        "\r\n",
        "import os\r\n",
        "os.chdir(\"drive/Udacity/Dataset/\")\r\n",
        "!ls"
      ],
      "execution_count": 1,
      "outputs": [
        {
          "output_type": "stream",
          "text": [
            "sample_data\n",
            "E: Package 'python-software-properties' has no installation candidate\n",
            "Selecting previously unselected package google-drive-ocamlfuse.\n",
            "(Reading database ... 144865 files and directories currently installed.)\n",
            "Preparing to unpack .../google-drive-ocamlfuse_0.7.23-0ubuntu1~ubuntu18.04.1_amd64.deb ...\n",
            "Unpacking google-drive-ocamlfuse (0.7.23-0ubuntu1~ubuntu18.04.1) ...\n",
            "Setting up google-drive-ocamlfuse (0.7.23-0ubuntu1~ubuntu18.04.1) ...\n",
            "Processing triggers for man-db (2.8.3-2ubuntu0.1) ...\n",
            "Please, open the following URL in a web browser: https://accounts.google.com/o/oauth2/auth?client_id=32555940559.apps.googleusercontent.com&redirect_uri=urn%3Aietf%3Awg%3Aoauth%3A2.0%3Aoob&scope=https%3A%2F%2Fwww.googleapis.com%2Fauth%2Fdrive&response_type=code&access_type=offline&approval_prompt=force\n",
            "··········\n",
            "Please, open the following URL in a web browser: https://accounts.google.com/o/oauth2/auth?client_id=32555940559.apps.googleusercontent.com&redirect_uri=urn%3Aietf%3Awg%3Aoauth%3A2.0%3Aoob&scope=https%3A%2F%2Fwww.googleapis.com%2Fauth%2Fdrive&response_type=code&access_type=offline&approval_prompt=force\n",
            "Please enter the verification code: Access token retrieved correctly.\n",
            "drive  perceptron.csv  student_data.csv\n"
          ],
          "name": "stdout"
        }
      ]
    },
    {
      "cell_type": "code",
      "metadata": {
        "id": "6MYRP234Nf19"
      },
      "source": [
        "import matplotlib.pyplot as plt\r\n",
        "import numpy as np\r\n",
        "import pandas as pd"
      ],
      "execution_count": 2,
      "outputs": []
    },
    {
      "cell_type": "code",
      "metadata": {
        "id": "7PWoCxdgZrgy"
      },
      "source": [
        "# Function to help us plot\r\n",
        "def plot_points(data):\r\n",
        "    X = np.array(data[[\"gre\",\"gpa\"]])\r\n",
        "    y = np.array(data[\"admit\"])\r\n",
        "    admitted = X[np.argwhere(y==1)]\r\n",
        "    rejected = X[np.argwhere(y==0)]\r\n",
        "    plt.scatter([s[0][0] for s in rejected], [s[0][1] for s in rejected], s = 25, color = 'pink', edgecolor = 'k')\r\n",
        "    plt.scatter([s[0][0] for s in admitted], [s[0][1] for s in admitted], s = 25, color = 'cyan', edgecolor = 'k')\r\n",
        "    plt.xlabel('Test (GRE)')\r\n",
        "    plt.ylabel('Grades (GPA)')\r\n",
        "\r\n",
        "def display(m, b, color='g--'):\r\n",
        "    plt.xlim(-0.05,1.05)\r\n",
        "    plt.ylim(-0.05,1.05)\r\n",
        "    x = np.arange(-10, 10, 0.1)\r\n",
        "    plt.plot(x, m*x+b, color)"
      ],
      "execution_count": 3,
      "outputs": []
    },
    {
      "cell_type": "markdown",
      "metadata": {
        "id": "VPnh0y2GKHge"
      },
      "source": [
        "#**Reading and plotting the data**"
      ]
    },
    {
      "cell_type": "code",
      "metadata": {
        "colab": {
          "base_uri": "https://localhost:8080/",
          "height": 196
        },
        "id": "NPfylUldZ3NG",
        "outputId": "bffc7913-c71a-47de-b3c5-e2d5f01cdbae"
      },
      "source": [
        "# Reading the csv file into a pandas DataFrame\r\n",
        "data = pd.read_csv('student_data.csv')\r\n",
        "\r\n",
        "# Printing out the first 5 rows of our data\r\n",
        "data[:5]"
      ],
      "execution_count": 4,
      "outputs": [
        {
          "output_type": "execute_result",
          "data": {
            "text/html": [
              "<div>\n",
              "<style scoped>\n",
              "    .dataframe tbody tr th:only-of-type {\n",
              "        vertical-align: middle;\n",
              "    }\n",
              "\n",
              "    .dataframe tbody tr th {\n",
              "        vertical-align: top;\n",
              "    }\n",
              "\n",
              "    .dataframe thead th {\n",
              "        text-align: right;\n",
              "    }\n",
              "</style>\n",
              "<table border=\"1\" class=\"dataframe\">\n",
              "  <thead>\n",
              "    <tr style=\"text-align: right;\">\n",
              "      <th></th>\n",
              "      <th>admit</th>\n",
              "      <th>gre</th>\n",
              "      <th>gpa</th>\n",
              "      <th>rank</th>\n",
              "    </tr>\n",
              "  </thead>\n",
              "  <tbody>\n",
              "    <tr>\n",
              "      <th>0</th>\n",
              "      <td>0</td>\n",
              "      <td>380</td>\n",
              "      <td>3.61</td>\n",
              "      <td>3</td>\n",
              "    </tr>\n",
              "    <tr>\n",
              "      <th>1</th>\n",
              "      <td>1</td>\n",
              "      <td>660</td>\n",
              "      <td>3.67</td>\n",
              "      <td>3</td>\n",
              "    </tr>\n",
              "    <tr>\n",
              "      <th>2</th>\n",
              "      <td>1</td>\n",
              "      <td>800</td>\n",
              "      <td>4.00</td>\n",
              "      <td>1</td>\n",
              "    </tr>\n",
              "    <tr>\n",
              "      <th>3</th>\n",
              "      <td>1</td>\n",
              "      <td>640</td>\n",
              "      <td>3.19</td>\n",
              "      <td>4</td>\n",
              "    </tr>\n",
              "    <tr>\n",
              "      <th>4</th>\n",
              "      <td>0</td>\n",
              "      <td>520</td>\n",
              "      <td>2.93</td>\n",
              "      <td>4</td>\n",
              "    </tr>\n",
              "  </tbody>\n",
              "</table>\n",
              "</div>"
            ],
            "text/plain": [
              "   admit  gre   gpa  rank\n",
              "0      0  380  3.61     3\n",
              "1      1  660  3.67     3\n",
              "2      1  800  4.00     1\n",
              "3      1  640  3.19     4\n",
              "4      0  520  2.93     4"
            ]
          },
          "metadata": {
            "tags": []
          },
          "execution_count": 4
        }
      ]
    },
    {
      "cell_type": "code",
      "metadata": {
        "colab": {
          "base_uri": "https://localhost:8080/",
          "height": 279
        },
        "id": "wxMjXFCbaFu-",
        "outputId": "0293cb6f-6da7-4fbe-c6d7-b57faf0de1b5"
      },
      "source": [
        "# Plotting the points\r\n",
        "plot_points(data)\r\n",
        "plt.show()"
      ],
      "execution_count": 5,
      "outputs": [
        {
          "output_type": "display_data",
          "data": {
            "image/png": "[encoded data removed]",
            "text/plain": [
              "<Figure size 432x288 with 1 Axes>"
            ]
          },
          "metadata": {
            "tags": [],
            "needs_background": "light"
          }
        }
      ]
    },
    {
      "cell_type": "code",
      "metadata": {
        "colab": {
          "base_uri": "https://localhost:8080/",
          "height": 1000
        },
        "id": "O9_rOWAvahZA",
        "outputId": "1a65ac77-1921-48d5-f3a5-df2daada9815"
      },
      "source": [
        "# Separating the ranks\r\n",
        "data_rank1 = data[data[\"rank\"]==1]\r\n",
        "data_rank2 = data[data[\"rank\"]==2]\r\n",
        "data_rank3 = data[data[\"rank\"]==3]\r\n",
        "data_rank4 = data[data[\"rank\"]==4]\r\n",
        "\r\n",
        "# Plotting the graphs\r\n",
        "plot_points(data_rank1)\r\n",
        "plt.title(\"Rank 1\")\r\n",
        "plt.show()\r\n",
        "plot_points(data_rank2)\r\n",
        "plt.title(\"Rank 2\")\r\n",
        "plt.show()\r\n",
        "plot_points(data_rank3)\r\n",
        "plt.title(\"Rank 3\")\r\n",
        "plt.show()\r\n",
        "plot_points(data_rank4)\r\n",
        "plt.title(\"Rank 4\")\r\n",
        "plt.show()"
      ],
      "execution_count": 6,
      "outputs": [
        {
          "output_type": "display_data",
          "data": {
            "image/png": "[encoded data removed]",
            "text/plain": [
              "<Figure size 432x288 with 1 Axes>"
            ]
          },
          "metadata": {
            "tags": [],
            "needs_background": "light"
          }
        },
        {
          "output_type": "display_data",
          "data": {
            "image/png": "[encoded data removed]",
            "text/plain": [
              "<Figure size 432x288 with 1 Axes>"
            ]
          },
          "metadata": {
            "tags": [],
            "needs_background": "light"
          }
        },
        {
          "output_type": "display_data",
          "data": {
            "image/png": "[encoded data removed]",
            "text/plain": [
              "<Figure size 432x288 with 1 Axes>"
            ]
          },
          "metadata": {
            "tags": [],
            "needs_background": "light"
          }
        },
        {
          "output_type": "display_data",
          "data": {
            "image/png": "[encoded data removed]",
            "text/plain": [
              "<Figure size 432x288 with 1 Axes>"
            ]
          },
          "metadata": {
            "tags": [],
            "needs_background": "light"
          }
        }
      ]
    },
    {
      "cell_type": "markdown",
      "metadata": {
        "id": "g1-w3yYoa366"
      },
      "source": [
        "#**One Hot Encoding**"
      ]
    },
    {
      "cell_type": "code",
      "metadata": {
        "colab": {
          "base_uri": "https://localhost:8080/",
          "height": 196
        },
        "id": "CI2Ehaj1a4Vg",
        "outputId": "5489164c-1b7f-418f-f88a-6f39339e0735"
      },
      "source": [
        "# Make dummy variables for rank\r\n",
        "one_hot_data = pd.concat([data, pd.get_dummies(data['rank'], prefix='rank')], axis=1)\r\n",
        "\r\n",
        "# Drop the previous rank column\r\n",
        "one_hot_data = one_hot_data.drop('rank', axis=1)\r\n",
        "\r\n",
        "# Print the first 5 rows of our data\r\n",
        "one_hot_data[:5]"
      ],
      "execution_count": 7,
      "outputs": [
        {
          "output_type": "execute_result",
          "data": {
            "text/html": [
              "<div>\n",
              "<style scoped>\n",
              "    .dataframe tbody tr th:only-of-type {\n",
              "        vertical-align: middle;\n",
              "    }\n",
              "\n",
              "    .dataframe tbody tr th {\n",
              "        vertical-align: top;\n",
              "    }\n",
              "\n",
              "    .dataframe thead th {\n",
              "        text-align: right;\n",
              "    }\n",
              "</style>\n",
              "<table border=\"1\" class=\"dataframe\">\n",
              "  <thead>\n",
              "    <tr style=\"text-align: right;\">\n",
              "      <th></th>\n",
              "      <th>admit</th>\n",
              "      <th>gre</th>\n",
              "      <th>gpa</th>\n",
              "      <th>rank_1</th>\n",
              "      <th>rank_2</th>\n",
              "      <th>rank_3</th>\n",
              "      <th>rank_4</th>\n",
              "    </tr>\n",
              "  </thead>\n",
              "  <tbody>\n",
              "    <tr>\n",
              "      <th>0</th>\n",
              "      <td>0</td>\n",
              "      <td>380</td>\n",
              "      <td>3.61</td>\n",
              "      <td>0</td>\n",
              "      <td>0</td>\n",
              "      <td>1</td>\n",
              "      <td>0</td>\n",
              "    </tr>\n",
              "    <tr>\n",
              "      <th>1</th>\n",
              "      <td>1</td>\n",
              "      <td>660</td>\n",
              "      <td>3.67</td>\n",
              "      <td>0</td>\n",
              "      <td>0</td>\n",
              "      <td>1</td>\n",
              "      <td>0</td>\n",
              "    </tr>\n",
              "    <tr>\n",
              "      <th>2</th>\n",
              "      <td>1</td>\n",
              "      <td>800</td>\n",
              "      <td>4.00</td>\n",
              "      <td>1</td>\n",
              "      <td>0</td>\n",
              "      <td>0</td>\n",
              "      <td>0</td>\n",
              "    </tr>\n",
              "    <tr>\n",
              "      <th>3</th>\n",
              "      <td>1</td>\n",
              "      <td>640</td>\n",
              "      <td>3.19</td>\n",
              "      <td>0</td>\n",
              "      <td>0</td>\n",
              "      <td>0</td>\n",
              "      <td>1</td>\n",
              "    </tr>\n",
              "    <tr>\n",
              "      <th>4</th>\n",
              "      <td>0</td>\n",
              "      <td>520</td>\n",
              "      <td>2.93</td>\n",
              "      <td>0</td>\n",
              "      <td>0</td>\n",
              "      <td>0</td>\n",
              "      <td>1</td>\n",
              "    </tr>\n",
              "  </tbody>\n",
              "</table>\n",
              "</div>"
            ],
            "text/plain": [
              "   admit  gre   gpa  rank_1  rank_2  rank_3  rank_4\n",
              "0      0  380  3.61       0       0       1       0\n",
              "1      1  660  3.67       0       0       1       0\n",
              "2      1  800  4.00       1       0       0       0\n",
              "3      1  640  3.19       0       0       0       1\n",
              "4      0  520  2.93       0       0       0       1"
            ]
          },
          "metadata": {
            "tags": []
          },
          "execution_count": 7
        }
      ]
    },
    {
      "cell_type": "markdown",
      "metadata": {
        "id": "cB66rAQQcN-y"
      },
      "source": [
        "#**Scaling The Data**"
      ]
    },
    {
      "cell_type": "code",
      "metadata": {
        "colab": {
          "base_uri": "https://localhost:8080/",
          "height": 196
        },
        "id": "53tsDS0VcHwo",
        "outputId": "cf10c12b-755b-423c-c049-d43eb3568873"
      },
      "source": [
        "# Copying our data\r\n",
        "processed_data = one_hot_data[:]\r\n",
        "\r\n",
        "# Scaling the columns\r\n",
        "processed_data['gre'] = processed_data['gre']/800\r\n",
        "processed_data['gpa'] = processed_data['gpa']/4.0\r\n",
        "processed_data[:5]"
      ],
      "execution_count": 8,
      "outputs": [
        {
          "output_type": "execute_result",
          "data": {
            "text/html": [
              "<div>\n",
              "<style scoped>\n",
              "    .dataframe tbody tr th:only-of-type {\n",
              "        vertical-align: middle;\n",
              "    }\n",
              "\n",
              "    .dataframe tbody tr th {\n",
              "        vertical-align: top;\n",
              "    }\n",
              "\n",
              "    .dataframe thead th {\n",
              "        text-align: right;\n",
              "    }\n",
              "</style>\n",
              "<table border=\"1\" class=\"dataframe\">\n",
              "  <thead>\n",
              "    <tr style=\"text-align: right;\">\n",
              "      <th></th>\n",
              "      <th>admit</th>\n",
              "      <th>gre</th>\n",
              "      <th>gpa</th>\n",
              "      <th>rank_1</th>\n",
              "      <th>rank_2</th>\n",
              "      <th>rank_3</th>\n",
              "      <th>rank_4</th>\n",
              "    </tr>\n",
              "  </thead>\n",
              "  <tbody>\n",
              "    <tr>\n",
              "      <th>0</th>\n",
              "      <td>0</td>\n",
              "      <td>0.475</td>\n",
              "      <td>0.9025</td>\n",
              "      <td>0</td>\n",
              "      <td>0</td>\n",
              "      <td>1</td>\n",
              "      <td>0</td>\n",
              "    </tr>\n",
              "    <tr>\n",
              "      <th>1</th>\n",
              "      <td>1</td>\n",
              "      <td>0.825</td>\n",
              "      <td>0.9175</td>\n",
              "      <td>0</td>\n",
              "      <td>0</td>\n",
              "      <td>1</td>\n",
              "      <td>0</td>\n",
              "    </tr>\n",
              "    <tr>\n",
              "      <th>2</th>\n",
              "      <td>1</td>\n",
              "      <td>1.000</td>\n",
              "      <td>1.0000</td>\n",
              "      <td>1</td>\n",
              "      <td>0</td>\n",
              "      <td>0</td>\n",
              "      <td>0</td>\n",
              "    </tr>\n",
              "    <tr>\n",
              "      <th>3</th>\n",
              "      <td>1</td>\n",
              "      <td>0.800</td>\n",
              "      <td>0.7975</td>\n",
              "      <td>0</td>\n",
              "      <td>0</td>\n",
              "      <td>0</td>\n",
              "      <td>1</td>\n",
              "    </tr>\n",
              "    <tr>\n",
              "      <th>4</th>\n",
              "      <td>0</td>\n",
              "      <td>0.650</td>\n",
              "      <td>0.7325</td>\n",
              "      <td>0</td>\n",
              "      <td>0</td>\n",
              "      <td>0</td>\n",
              "      <td>1</td>\n",
              "    </tr>\n",
              "  </tbody>\n",
              "</table>\n",
              "</div>"
            ],
            "text/plain": [
              "   admit    gre     gpa  rank_1  rank_2  rank_3  rank_4\n",
              "0      0  0.475  0.9025       0       0       1       0\n",
              "1      1  0.825  0.9175       0       0       1       0\n",
              "2      1  1.000  1.0000       1       0       0       0\n",
              "3      1  0.800  0.7975       0       0       0       1\n",
              "4      0  0.650  0.7325       0       0       0       1"
            ]
          },
          "metadata": {
            "tags": []
          },
          "execution_count": 8
        }
      ]
    },
    {
      "cell_type": "markdown",
      "metadata": {
        "id": "t8wHQor_cbyM"
      },
      "source": [
        "#**Splitting the data into Training and Testing**"
      ]
    },
    {
      "cell_type": "code",
      "metadata": {
        "colab": {
          "base_uri": "https://localhost:8080/"
        },
        "id": "DJcoVZhKcec4",
        "outputId": "9456c7db-3869-4e6e-a523-fcfb53182a07"
      },
      "source": [
        "sample = np.random.choice(processed_data.index, size=int(len(processed_data)*0.9), replace=False)\r\n",
        "train_data, test_data = processed_data.iloc[sample], processed_data.drop(sample)\r\n",
        "\r\n",
        "print(\"Number of training samples is\", len(train_data))\r\n",
        "print(\"Number of testing samples is\", len(test_data))\r\n",
        "print(train_data[:5])\r\n",
        "print(test_data[:5])"
      ],
      "execution_count": 9,
      "outputs": [
        {
          "output_type": "stream",
          "text": [
            "Number of training samples is 360\n",
            "Number of testing samples is 40\n",
            "     admit    gre     gpa  rank_1  rank_2  rank_3  rank_4\n",
            "181      0  0.625  0.9700       0       0       0       1\n",
            "182      0  0.875  1.0000       0       1       0       0\n",
            "122      0  0.650  0.7125       0       0       1       0\n",
            "27       1  0.650  0.9350       0       0       0       1\n",
            "241      1  0.650  0.9525       1       0       0       0\n",
            "    admit    gre     gpa  rank_1  rank_2  rank_3  rank_4\n",
            "2       1  1.000  1.0000       1       0       0       0\n",
            "5       1  0.950  0.7500       0       1       0       0\n",
            "18      0  1.000  0.9375       0       1       0       0\n",
            "31      0  0.950  0.8375       0       0       1       0\n",
            "45      1  0.575  0.8625       0       0       1       0\n"
          ],
          "name": "stdout"
        }
      ]
    },
    {
      "cell_type": "markdown",
      "metadata": {
        "id": "k7BiO5qmoL6G"
      },
      "source": [
        "#**Splitting the data into features and targets (labels)**"
      ]
    },
    {
      "cell_type": "code",
      "metadata": {
        "colab": {
          "base_uri": "https://localhost:8080/"
        },
        "id": "fmG8mpysoObw",
        "outputId": "b213416c-7e4a-439e-c7d9-5c4081bfd0c2"
      },
      "source": [
        "features_train = train_data.drop('admit', axis=1)\r\n",
        "targets_train = train_data['admit']\r\n",
        "features_test = test_data.drop('admit', axis=1)\r\n",
        "targets_test = test_data['admit']\r\n",
        "\r\n",
        "print(features_train[:5])\r\n",
        "print(targets_train[:5])"
      ],
      "execution_count": 10,
      "outputs": [
        {
          "output_type": "stream",
          "text": [
            "       gre     gpa  rank_1  rank_2  rank_3  rank_4\n",
            "181  0.625  0.9700       0       0       0       1\n",
            "182  0.875  1.0000       0       1       0       0\n",
            "122  0.650  0.7125       0       0       1       0\n",
            "27   0.650  0.9350       0       0       0       1\n",
            "241  0.650  0.9525       1       0       0       0\n",
            "181    0\n",
            "182    0\n",
            "122    0\n",
            "27     1\n",
            "241    1\n",
            "Name: admit, dtype: int64\n"
          ],
          "name": "stdout"
        }
      ]
    },
    {
      "cell_type": "markdown",
      "metadata": {
        "id": "rL2SaQdDn9d4"
      },
      "source": [
        "#**Functions**"
      ]
    },
    {
      "cell_type": "code",
      "metadata": {
        "id": "ICXxsmtdrsle"
      },
      "source": [
        "def  aggregation(features, weights, bias):\r\n",
        "  return np.dot(features, weights) + bias"
      ],
      "execution_count": 11,
      "outputs": []
    },
    {
      "cell_type": "code",
      "metadata": {
        "id": "WMB7vgNunnD8"
      },
      "source": [
        "# Activation (sigmoid) function\r\n",
        "def sigmoid(x):\r\n",
        "    return 1 / (1 + np.exp(-x))"
      ],
      "execution_count": 12,
      "outputs": []
    },
    {
      "cell_type": "code",
      "metadata": {
        "id": "My9Q302SoGMz"
      },
      "source": [
        "def sigmoid_prime(x):\r\n",
        "    return sigmoid(x) * (1-sigmoid(x))"
      ],
      "execution_count": 13,
      "outputs": []
    },
    {
      "cell_type": "code",
      "metadata": {
        "id": "-dqHE-yBoEn-"
      },
      "source": [
        "def error_formula(y, output):\r\n",
        "    return - y*np.log(output) - (1 - y) * np.log(1-output)"
      ],
      "execution_count": 14,
      "outputs": []
    },
    {
      "cell_type": "code",
      "metadata": {
        "id": "DRsIfDAPm5HB"
      },
      "source": [
        "def error_term_formula(y, output):\r\n",
        "    return (y-output) * output * (1 - output)"
      ],
      "execution_count": 15,
      "outputs": []
    },
    {
      "cell_type": "markdown",
      "metadata": {
        "id": "Kj0XhPu4o-Bs"
      },
      "source": [
        "#**Training**"
      ]
    },
    {
      "cell_type": "code",
      "metadata": {
        "colab": {
          "base_uri": "https://localhost:8080/"
        },
        "id": "JB7jngy9T3bz",
        "outputId": "6c0dfb37-3a35-4415-f6c9-ed4dd914e9cd"
      },
      "source": [
        "# Neural Network hyperparameters\r\n",
        "epochs = 1000\r\n",
        "learnrate = 0.5\r\n",
        "\r\n",
        "# Training function\r\n",
        "def train_nn(features, targets, epochs, learnrate):\r\n",
        "    \r\n",
        "    # Use to same seed to make debugging easier\r\n",
        "    np.random.seed(42)\r\n",
        "\r\n",
        "    n_records, n_features = features.shape\r\n",
        "    last_loss = None\r\n",
        "\r\n",
        "    # Initialize weights\r\n",
        "    weights = np.random.normal(scale=1 / n_features**.5, size=n_features)\r\n",
        "\r\n",
        "    for e in range(epochs):\r\n",
        "        del_w = np.zeros(weights.shape)\r\n",
        "        for x, y in zip(features.values, targets):\r\n",
        "            # Loop through all records, x is the input, y is the target\r\n",
        "\r\n",
        "            # Activation of the output unit\r\n",
        "            #   Notice we multiply the inputs and the weights here \r\n",
        "            #   rather than storing h as a separate variable \r\n",
        "            output = sigmoid(np.dot(x, weights))\r\n",
        "\r\n",
        "            # The error, the target minus the network output\r\n",
        "            error = error_formula(y, output)\r\n",
        "\r\n",
        "            # The error term\r\n",
        "            #   Notice we calulate f'(h) here instead of defining a separate\r\n",
        "            #   sigmoid_prime function. This just makes it faster because we\r\n",
        "            #   can re-use the result of the sigmoid function stored in\r\n",
        "            #   the output variable\r\n",
        "            error_term = error_term_formula(y, output)\r\n",
        "\r\n",
        "            # The gradient descent step, the error times the gradient times the inputs\r\n",
        "            del_w += error_term * x\r\n",
        "\r\n",
        "        # Update the weights here. The learning rate times the \r\n",
        "        # change in weights, divided by the number of records to average\r\n",
        "        weights += learnrate * del_w / n_records\r\n",
        "\r\n",
        "        # Printing out the mean square error on the training set\r\n",
        "        if e % (epochs / 10) == 0:\r\n",
        "            out = sigmoid(np.dot(features, weights))\r\n",
        "            loss = np.mean((out - targets) ** 2)\r\n",
        "            print(\"Epoch:\", e)\r\n",
        "            if last_loss and last_loss < loss:\r\n",
        "                print(\"Train loss: \", loss, \"  WARNING - Loss Increasing\")\r\n",
        "            else:\r\n",
        "                print(\"Train loss: \", loss)\r\n",
        "            last_loss = loss\r\n",
        "            print(\"=========\")\r\n",
        "    print(\"Finished training!\")\r\n",
        "    return weights\r\n",
        "    \r\n",
        "weights = train_nn(features_train, targets_train, epochs, learnrate)"
      ],
      "execution_count": 17,
      "outputs": [
        {
          "output_type": "stream",
          "text": [
            "Epoch: 0\n",
            "Train loss:  0.2730819389124295\n",
            "=========\n",
            "Epoch: 100\n",
            "Train loss:  0.2099867696613046\n",
            "=========\n",
            "Epoch: 200\n",
            "Train loss:  0.20819214384643814\n",
            "=========\n",
            "Epoch: 300\n",
            "Train loss:  0.2073047926615214\n",
            "=========\n",
            "Epoch: 400\n",
            "Train loss:  0.20679694484732597\n",
            "=========\n",
            "Epoch: 500\n",
            "Train loss:  0.20645398195195486\n",
            "=========\n",
            "Epoch: 600\n",
            "Train loss:  0.2061874848954065\n",
            "=========\n",
            "Epoch: 700\n",
            "Train loss:  0.20595975934805422\n",
            "=========\n",
            "Epoch: 800\n",
            "Train loss:  0.20575389164450758\n",
            "=========\n",
            "Epoch: 900\n",
            "Train loss:  0.20556183366125477\n",
            "=========\n",
            "Finished training!\n"
          ],
          "name": "stdout"
        }
      ]
    },
    {
      "cell_type": "markdown",
      "metadata": {
        "id": "x5gzXzP2T9lY"
      },
      "source": [
        "#**Calculating the Accuracy on the Test Data**"
      ]
    },
    {
      "cell_type": "code",
      "metadata": {
        "colab": {
          "base_uri": "https://localhost:8080/"
        },
        "id": "qivROjJBUD29",
        "outputId": "cb55dab6-7fb7-4fce-925c-15d739be123d"
      },
      "source": [
        "# Calculate accuracy on test data\r\n",
        "tes_out = sigmoid(np.dot(features_test, weights))\r\n",
        "predictions = tes_out > 0.5\r\n",
        "accuracy = np.mean(predictions == targets_test)\r\n",
        "print(\"Prediction accuracy: {:.3f}\".format(accuracy))"
      ],
      "execution_count": 18,
      "outputs": [
        {
          "output_type": "stream",
          "text": [
            "Prediction accuracy: 0.775\n"
          ],
          "name": "stdout"
        }
      ]
    }
  ]
}