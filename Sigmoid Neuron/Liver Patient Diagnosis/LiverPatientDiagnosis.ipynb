{
  "nbformat": 4,
  "nbformat_minor": 0,
  "metadata": {
    "colab": {
      "name": "LiverPatientDiagnosis.ipynb",
      "provenance": [],
      "authorship_tag": "ABX9TyNqIorXamb3DqlQIYMcBj9z",
      "include_colab_link": true
    },
    "kernelspec": {
      "name": "python3",
      "display_name": "Python 3"
    },
    "widgets": {
      "application/vnd.jupyter.widget-state+json": {
        "5302211a0bc04c39bd3a38c7378cfa31": {
          "model_module": "@jupyter-widgets/controls",
          "model_name": "HBoxModel",
          "state": {
            "_view_name": "HBoxView",
            "_dom_classes": [],
            "_model_name": "HBoxModel",
            "_view_module": "@jupyter-widgets/controls",
            "_model_module_version": "1.5.0",
            "_view_count": null,
            "_view_module_version": "1.5.0",
            "box_style": "",
            "layout": "IPY_MODEL_423c287a2f1144ff845a7aa4597e2da8",
            "_model_module": "@jupyter-widgets/controls",
            "children": [
              "IPY_MODEL_a0d0cc4e7a1f404d93e2c8163c4abd21",
              "IPY_MODEL_85c4365cb11644a7b7ebfddeaaf3b977"
            ]
          }
        },
        "423c287a2f1144ff845a7aa4597e2da8": {
          "model_module": "@jupyter-widgets/base",
          "model_name": "LayoutModel",
          "state": {
            "_view_name": "LayoutView",
            "grid_template_rows": null,
            "right": null,
            "justify_content": null,
            "_view_module": "@jupyter-widgets/base",
            "overflow": null,
            "_model_module_version": "1.2.0",
            "_view_count": null,
            "flex_flow": null,
            "width": null,
            "min_width": null,
            "border": null,
            "align_items": null,
            "bottom": null,
            "_model_module": "@jupyter-widgets/base",
            "top": null,
            "grid_column": null,
            "overflow_y": null,
            "overflow_x": null,
            "grid_auto_flow": null,
            "grid_area": null,
            "grid_template_columns": null,
            "flex": null,
            "_model_name": "LayoutModel",
            "justify_items": null,
            "grid_row": null,
            "max_height": null,
            "align_content": null,
            "visibility": null,
            "align_self": null,
            "height": null,
            "min_height": null,
            "padding": null,
            "grid_auto_rows": null,
            "grid_gap": null,
            "max_width": null,
            "order": null,
            "_view_module_version": "1.2.0",
            "grid_template_areas": null,
            "object_position": null,
            "object_fit": null,
            "grid_auto_columns": null,
            "margin": null,
            "display": null,
            "left": null
          }
        },
        "a0d0cc4e7a1f404d93e2c8163c4abd21": {
          "model_module": "@jupyter-widgets/controls",
          "model_name": "FloatProgressModel",
          "state": {
            "_view_name": "ProgressView",
            "style": "IPY_MODEL_fc9f00ff5a6844f6b27ea1d635f27642",
            "_dom_classes": [],
            "description": "100%",
            "_model_name": "FloatProgressModel",
            "bar_style": "success",
            "max": 2000,
            "_view_module": "@jupyter-widgets/controls",
            "_model_module_version": "1.5.0",
            "value": 2000,
            "_view_count": null,
            "_view_module_version": "1.5.0",
            "orientation": "horizontal",
            "min": 0,
            "description_tooltip": null,
            "_model_module": "@jupyter-widgets/controls",
            "layout": "IPY_MODEL_8270bcf3ae864a46899e0b77ce36a200"
          }
        },
        "85c4365cb11644a7b7ebfddeaaf3b977": {
          "model_module": "@jupyter-widgets/controls",
          "model_name": "HTMLModel",
          "state": {
            "_view_name": "HTMLView",
            "style": "IPY_MODEL_f926b8877a54482e9993467c95dca6ac",
            "_dom_classes": [],
            "description": "",
            "_model_name": "HTMLModel",
            "placeholder": "​",
            "_view_module": "@jupyter-widgets/controls",
            "_model_module_version": "1.5.0",
            "value": " 2000/2000 [00:41&lt;00:00, 47.81epoch/s]",
            "_view_count": null,
            "_view_module_version": "1.5.0",
            "description_tooltip": null,
            "_model_module": "@jupyter-widgets/controls",
            "layout": "IPY_MODEL_9acff8ad082f490486cc2e7791ceb166"
          }
        },
        "fc9f00ff5a6844f6b27ea1d635f27642": {
          "model_module": "@jupyter-widgets/controls",
          "model_name": "ProgressStyleModel",
          "state": {
            "_view_name": "StyleView",
            "_model_name": "ProgressStyleModel",
            "description_width": "initial",
            "_view_module": "@jupyter-widgets/base",
            "_model_module_version": "1.5.0",
            "_view_count": null,
            "_view_module_version": "1.2.0",
            "bar_color": null,
            "_model_module": "@jupyter-widgets/controls"
          }
        },
        "8270bcf3ae864a46899e0b77ce36a200": {
          "model_module": "@jupyter-widgets/base",
          "model_name": "LayoutModel",
          "state": {
            "_view_name": "LayoutView",
            "grid_template_rows": null,
            "right": null,
            "justify_content": null,
            "_view_module": "@jupyter-widgets/base",
            "overflow": null,
            "_model_module_version": "1.2.0",
            "_view_count": null,
            "flex_flow": null,
            "width": null,
            "min_width": null,
            "border": null,
            "align_items": null,
            "bottom": null,
            "_model_module": "@jupyter-widgets/base",
            "top": null,
            "grid_column": null,
            "overflow_y": null,
            "overflow_x": null,
            "grid_auto_flow": null,
            "grid_area": null,
            "grid_template_columns": null,
            "flex": null,
            "_model_name": "LayoutModel",
            "justify_items": null,
            "grid_row": null,
            "max_height": null,
            "align_content": null,
            "visibility": null,
            "align_self": null,
            "height": null,
            "min_height": null,
            "padding": null,
            "grid_auto_rows": null,
            "grid_gap": null,
            "max_width": null,
            "order": null,
            "_view_module_version": "1.2.0",
            "grid_template_areas": null,
            "object_position": null,
            "object_fit": null,
            "grid_auto_columns": null,
            "margin": null,
            "display": null,
            "left": null
          }
        },
        "f926b8877a54482e9993467c95dca6ac": {
          "model_module": "@jupyter-widgets/controls",
          "model_name": "DescriptionStyleModel",
          "state": {
            "_view_name": "StyleView",
            "_model_name": "DescriptionStyleModel",
            "description_width": "",
            "_view_module": "@jupyter-widgets/base",
            "_model_module_version": "1.5.0",
            "_view_count": null,
            "_view_module_version": "1.2.0",
            "_model_module": "@jupyter-widgets/controls"
          }
        },
        "9acff8ad082f490486cc2e7791ceb166": {
          "model_module": "@jupyter-widgets/base",
          "model_name": "LayoutModel",
          "state": {
            "_view_name": "LayoutView",
            "grid_template_rows": null,
            "right": null,
            "justify_content": null,
            "_view_module": "@jupyter-widgets/base",
            "overflow": null,
            "_model_module_version": "1.2.0",
            "_view_count": null,
            "flex_flow": null,
            "width": null,
            "min_width": null,
            "border": null,
            "align_items": null,
            "bottom": null,
            "_model_module": "@jupyter-widgets/base",
            "top": null,
            "grid_column": null,
            "overflow_y": null,
            "overflow_x": null,
            "grid_auto_flow": null,
            "grid_area": null,
            "grid_template_columns": null,
            "flex": null,
            "_model_name": "LayoutModel",
            "justify_items": null,
            "grid_row": null,
            "max_height": null,
            "align_content": null,
            "visibility": null,
            "align_self": null,
            "height": null,
            "min_height": null,
            "padding": null,
            "grid_auto_rows": null,
            "grid_gap": null,
            "max_width": null,
            "order": null,
            "_view_module_version": "1.2.0",
            "grid_template_areas": null,
            "object_position": null,
            "object_fit": null,
            "grid_auto_columns": null,
            "margin": null,
            "display": null,
            "left": null
          }
        }
      }
    }
  },
  "cells": [
    {
      "cell_type": "markdown",
      "metadata": {
        "id": "view-in-github",
        "colab_type": "text"
      },
      "source": [
        "<a href=\"https://colab.research.google.com/github/anubhavgupta1/Udacity/blob/main/Sigmoid%20Neuron/Liver%20Patient%20Diagnosis/LiverPatientDiagnosis.ipynb\" target=\"_parent\"><img src=\"https://colab.research.google.com/assets/colab-badge.svg\" alt=\"Open In Colab\"/></a>"
      ]
    },
    {
      "cell_type": "code",
      "metadata": {
        "colab": {
          "base_uri": "https://localhost:8080/"
        },
        "id": "4xsT_IbcLpNH",
        "outputId": "3d8a53e8-d0b5-48ea-8474-b0a534b3e267"
      },
      "source": [
        "!ls\r\n",
        "!apt-get install -y -qq software-properties-common python-software-properties module-init-tools\r\n",
        "!add-apt-repository -y ppa:alessandro-strada/ppa 2>&1 > /dev/null\r\n",
        "!apt-get update -qq 2>&1 > /dev/null\r\n",
        "!apt-get -y install -qq google-drive-ocamlfuse fuse\r\n",
        "from google.colab import auth\r\n",
        "auth.authenticate_user()\r\n",
        "from oauth2client.client import GoogleCredentials\r\n",
        "creds = GoogleCredentials.get_application_default()\r\n",
        "import getpass\r\n",
        "!google-drive-ocamlfuse -headless -id={creds.client_id} -secret={creds.client_secret} < /dev/null 2>&1 | grep URL\r\n",
        "vcode = getpass.getpass()\r\n",
        "!echo {vcode} | google-drive-ocamlfuse -headless -id={creds.client_id} -secret={creds.client_secret}\r\n",
        "\r\n",
        "\r\n",
        "!mkdir -p drive\r\n",
        "!google-drive-ocamlfuse drive\r\n",
        "\r\n",
        "import os\r\n",
        "os.chdir(\"drive/Udacity/Dataset/\")\r\n",
        "!ls"
      ],
      "execution_count": 1,
      "outputs": [
        {
          "output_type": "stream",
          "text": [
            "adc.json  drive  sample_data\n",
            "E: Package 'python-software-properties' has no installation candidate\n",
            "··········\n",
            "fuse: mountpoint is not empty\n",
            "fuse: if you are sure this is safe, use the 'nonempty' mount option\n",
            "indian_liver_patient.csv  mobile.csv  perceptron.csv  student_data.csv\n"
          ],
          "name": "stdout"
        }
      ]
    },
    {
      "cell_type": "markdown",
      "metadata": {
        "id": "VQHNMWp1QyVS"
      },
      "source": [
        "## Load the Data"
      ]
    },
    {
      "cell_type": "code",
      "metadata": {
        "id": "-LhHKHThBd0B"
      },
      "source": [
        "import numpy as np\r\n",
        "import matplotlib.pyplot as plt\r\n",
        "from mpl_toolkits import mplot3d\r\n",
        "import matplotlib.colors\r\n",
        "import pandas as pd\r\n",
        "from sklearn.preprocessing import StandardScaler\r\n",
        "from sklearn.model_selection import train_test_split\r\n",
        "from sklearn.metrics import accuracy_score, mean_squared_error\r\n",
        "from tqdm import tqdm_notebook"
      ],
      "execution_count": 2,
      "outputs": []
    },
    {
      "cell_type": "code",
      "metadata": {
        "colab": {
          "base_uri": "https://localhost:8080/"
        },
        "id": "UL_y1lYmBheb",
        "outputId": "3d145685-94bb-465b-d0c2-e7cd3491c44d"
      },
      "source": [
        "patient = pd.read_csv('indian_liver_patient.csv')\r\n",
        "print(type(patient))\r\n",
        "print(patient.shape)"
      ],
      "execution_count": 3,
      "outputs": [
        {
          "output_type": "stream",
          "text": [
            "<class 'pandas.core.frame.DataFrame'>\n",
            "(583, 11)\n"
          ],
          "name": "stdout"
        }
      ]
    },
    {
      "cell_type": "code",
      "metadata": {
        "id": "mL5sBvDcJnK7"
      },
      "source": [
        "gender = pd.get_dummies(patient['Gender'])\r\n",
        "patient = pd.concat([patient,gender], axis=1)"
      ],
      "execution_count": 4,
      "outputs": []
    },
    {
      "cell_type": "code",
      "metadata": {
        "colab": {
          "base_uri": "https://localhost:8080/"
        },
        "id": "iFD3lithNFIg",
        "outputId": "79eafc10-3987-41ef-bb92-eb21d09cc849"
      },
      "source": [
        "patient['class'] = (patient[\"Dataset\"]==1) * 1\r\n",
        "patient = patient.drop(['Dataset'],axis=1)\r\n",
        "patient = patient.drop(['Gender'],axis=1)\r\n",
        "print(\"Class is 1 if patient needs liver diagnosis and 0 i don't\")"
      ],
      "execution_count": 5,
      "outputs": [
        {
          "output_type": "stream",
          "text": [
            "Class is 1 if patient needs liver diagnosis and 0 i don't\n"
          ],
          "name": "stdout"
        }
      ]
    },
    {
      "cell_type": "code",
      "metadata": {
        "colab": {
          "base_uri": "https://localhost:8080/"
        },
        "id": "o486-QNHOSwB",
        "outputId": "69eba6f1-2080-4d98-ac37-996517e36de8"
      },
      "source": [
        "print(patient['class'].value_counts())\r\n",
        "print(patient['class'].value_counts(normalize=True))"
      ],
      "execution_count": 6,
      "outputs": [
        {
          "output_type": "stream",
          "text": [
            "1    416\n",
            "0    167\n",
            "Name: class, dtype: int64\n",
            "1    0.713551\n",
            "0    0.286449\n",
            "Name: class, dtype: float64\n"
          ],
          "name": "stdout"
        }
      ]
    },
    {
      "cell_type": "code",
      "metadata": {
        "colab": {
          "base_uri": "https://localhost:8080/",
          "height": 216
        },
        "id": "0AyxtP4fOwR6",
        "outputId": "12a35c18-5e71-44c1-d1e7-4217ae470267"
      },
      "source": [
        "patient.head()"
      ],
      "execution_count": 7,
      "outputs": [
        {
          "output_type": "execute_result",
          "data": {
            "text/html": [
              "<div>\n",
              "<style scoped>\n",
              "    .dataframe tbody tr th:only-of-type {\n",
              "        vertical-align: middle;\n",
              "    }\n",
              "\n",
              "    .dataframe tbody tr th {\n",
              "        vertical-align: top;\n",
              "    }\n",
              "\n",
              "    .dataframe thead th {\n",
              "        text-align: right;\n",
              "    }\n",
              "</style>\n",
              "<table border=\"1\" class=\"dataframe\">\n",
              "  <thead>\n",
              "    <tr style=\"text-align: right;\">\n",
              "      <th></th>\n",
              "      <th>Age</th>\n",
              "      <th>Total_Bilirubin</th>\n",
              "      <th>Direct_Bilirubin</th>\n",
              "      <th>Alkaline_Phosphotase</th>\n",
              "      <th>Alamine_Aminotransferase</th>\n",
              "      <th>Aspartate_Aminotransferase</th>\n",
              "      <th>Total_Protiens</th>\n",
              "      <th>Albumin</th>\n",
              "      <th>Albumin_and_Globulin_Ratio</th>\n",
              "      <th>Female</th>\n",
              "      <th>Male</th>\n",
              "      <th>class</th>\n",
              "    </tr>\n",
              "  </thead>\n",
              "  <tbody>\n",
              "    <tr>\n",
              "      <th>0</th>\n",
              "      <td>65</td>\n",
              "      <td>0.7</td>\n",
              "      <td>0.1</td>\n",
              "      <td>187</td>\n",
              "      <td>16</td>\n",
              "      <td>18</td>\n",
              "      <td>6.8</td>\n",
              "      <td>3.3</td>\n",
              "      <td>0.90</td>\n",
              "      <td>1</td>\n",
              "      <td>0</td>\n",
              "      <td>1</td>\n",
              "    </tr>\n",
              "    <tr>\n",
              "      <th>1</th>\n",
              "      <td>62</td>\n",
              "      <td>10.9</td>\n",
              "      <td>5.5</td>\n",
              "      <td>699</td>\n",
              "      <td>64</td>\n",
              "      <td>100</td>\n",
              "      <td>7.5</td>\n",
              "      <td>3.2</td>\n",
              "      <td>0.74</td>\n",
              "      <td>0</td>\n",
              "      <td>1</td>\n",
              "      <td>1</td>\n",
              "    </tr>\n",
              "    <tr>\n",
              "      <th>2</th>\n",
              "      <td>62</td>\n",
              "      <td>7.3</td>\n",
              "      <td>4.1</td>\n",
              "      <td>490</td>\n",
              "      <td>60</td>\n",
              "      <td>68</td>\n",
              "      <td>7.0</td>\n",
              "      <td>3.3</td>\n",
              "      <td>0.89</td>\n",
              "      <td>0</td>\n",
              "      <td>1</td>\n",
              "      <td>1</td>\n",
              "    </tr>\n",
              "    <tr>\n",
              "      <th>3</th>\n",
              "      <td>58</td>\n",
              "      <td>1.0</td>\n",
              "      <td>0.4</td>\n",
              "      <td>182</td>\n",
              "      <td>14</td>\n",
              "      <td>20</td>\n",
              "      <td>6.8</td>\n",
              "      <td>3.4</td>\n",
              "      <td>1.00</td>\n",
              "      <td>0</td>\n",
              "      <td>1</td>\n",
              "      <td>1</td>\n",
              "    </tr>\n",
              "    <tr>\n",
              "      <th>4</th>\n",
              "      <td>72</td>\n",
              "      <td>3.9</td>\n",
              "      <td>2.0</td>\n",
              "      <td>195</td>\n",
              "      <td>27</td>\n",
              "      <td>59</td>\n",
              "      <td>7.3</td>\n",
              "      <td>2.4</td>\n",
              "      <td>0.40</td>\n",
              "      <td>0</td>\n",
              "      <td>1</td>\n",
              "      <td>1</td>\n",
              "    </tr>\n",
              "  </tbody>\n",
              "</table>\n",
              "</div>"
            ],
            "text/plain": [
              "   Age  Total_Bilirubin  Direct_Bilirubin  ...  Female  Male  class\n",
              "0   65              0.7               0.1  ...       1     0      1\n",
              "1   62             10.9               5.5  ...       0     1      1\n",
              "2   62              7.3               4.1  ...       0     1      1\n",
              "3   58              1.0               0.4  ...       0     1      1\n",
              "4   72              3.9               2.0  ...       0     1      1\n",
              "\n",
              "[5 rows x 12 columns]"
            ]
          },
          "metadata": {
            "tags": []
          },
          "execution_count": 7
        }
      ]
    },
    {
      "cell_type": "code",
      "metadata": {
        "colab": {
          "base_uri": "https://localhost:8080/"
        },
        "id": "WAN2WkencURi",
        "outputId": "29517fa2-6247-4130-9f28-135badea2091"
      },
      "source": [
        "patient.info()"
      ],
      "execution_count": 8,
      "outputs": [
        {
          "output_type": "stream",
          "text": [
            "<class 'pandas.core.frame.DataFrame'>\n",
            "RangeIndex: 583 entries, 0 to 582\n",
            "Data columns (total 12 columns):\n",
            " #   Column                      Non-Null Count  Dtype  \n",
            "---  ------                      --------------  -----  \n",
            " 0   Age                         583 non-null    int64  \n",
            " 1   Total_Bilirubin             583 non-null    float64\n",
            " 2   Direct_Bilirubin            583 non-null    float64\n",
            " 3   Alkaline_Phosphotase        583 non-null    int64  \n",
            " 4   Alamine_Aminotransferase    583 non-null    int64  \n",
            " 5   Aspartate_Aminotransferase  583 non-null    int64  \n",
            " 6   Total_Protiens              583 non-null    float64\n",
            " 7   Albumin                     583 non-null    float64\n",
            " 8   Albumin_and_Globulin_Ratio  579 non-null    float64\n",
            " 9   Female                      583 non-null    uint8  \n",
            " 10  Male                        583 non-null    uint8  \n",
            " 11  class                       583 non-null    int64  \n",
            "dtypes: float64(5), int64(5), uint8(2)\n",
            "memory usage: 46.8 KB\n"
          ],
          "name": "stdout"
        }
      ]
    },
    {
      "cell_type": "code",
      "metadata": {
        "colab": {
          "base_uri": "https://localhost:8080/"
        },
        "id": "RG0i26Kqd20E",
        "outputId": "76aff6f4-b419-4cac-8125-48e5c82601c4"
      },
      "source": [
        "patient.dropna(subset = [\"Albumin_and_Globulin_Ratio\"], inplace=True)\r\n",
        "patient.info()\r\n"
      ],
      "execution_count": 9,
      "outputs": [
        {
          "output_type": "stream",
          "text": [
            "<class 'pandas.core.frame.DataFrame'>\n",
            "Int64Index: 579 entries, 0 to 582\n",
            "Data columns (total 12 columns):\n",
            " #   Column                      Non-Null Count  Dtype  \n",
            "---  ------                      --------------  -----  \n",
            " 0   Age                         579 non-null    int64  \n",
            " 1   Total_Bilirubin             579 non-null    float64\n",
            " 2   Direct_Bilirubin            579 non-null    float64\n",
            " 3   Alkaline_Phosphotase        579 non-null    int64  \n",
            " 4   Alamine_Aminotransferase    579 non-null    int64  \n",
            " 5   Aspartate_Aminotransferase  579 non-null    int64  \n",
            " 6   Total_Protiens              579 non-null    float64\n",
            " 7   Albumin                     579 non-null    float64\n",
            " 8   Albumin_and_Globulin_Ratio  579 non-null    float64\n",
            " 9   Female                      579 non-null    uint8  \n",
            " 10  Male                        579 non-null    uint8  \n",
            " 11  class                       579 non-null    int64  \n",
            "dtypes: float64(5), int64(5), uint8(2)\n",
            "memory usage: 50.9 KB\n"
          ],
          "name": "stdout"
        }
      ]
    },
    {
      "cell_type": "code",
      "metadata": {
        "id": "kgHo8_Y5ORRd"
      },
      "source": [
        "X = patient[patient.columns.difference(['class'])]\r\n",
        "Y = patient['class']"
      ],
      "execution_count": 10,
      "outputs": []
    },
    {
      "cell_type": "markdown",
      "metadata": {
        "id": "Mm1XCfRlQvtk"
      },
      "source": [
        "##Train Test Split"
      ]
    },
    {
      "cell_type": "code",
      "metadata": {
        "colab": {
          "base_uri": "https://localhost:8080/"
        },
        "id": "er0SB_sIQtgP",
        "outputId": "c90db7d1-3bed-4d82-ea28-28f6848230aa"
      },
      "source": [
        "X_train,X_test, Y_train, Y_test = train_test_split(X,Y,test_size = 0.1,stratify=Y,random_state=1)\r\n",
        "print(X.shape,X_train.shape,X_test.shape)\r\n",
        "print(Y.shape,Y_train.shape,Y_test.shape)"
      ],
      "execution_count": 11,
      "outputs": [
        {
          "output_type": "stream",
          "text": [
            "(579, 11) (521, 11) (58, 11)\n",
            "(579,) (521,) (58,)\n"
          ],
          "name": "stdout"
        }
      ]
    },
    {
      "cell_type": "markdown",
      "metadata": {
        "id": "L78DJrifU6rV"
      },
      "source": [
        "## Standardisation"
      ]
    },
    {
      "cell_type": "code",
      "metadata": {
        "id": "DVblS89NZ8lm"
      },
      "source": [
        "scaler = StandardScaler()\r\n",
        "X_scaled_train = scaler.fit_transform(X_train)\r\n",
        "X_scaled_test = scaler.transform(X_test)\r\n"
      ],
      "execution_count": 12,
      "outputs": []
    },
    {
      "cell_type": "markdown",
      "metadata": {
        "id": "mBxtPRvKanx8"
      },
      "source": [
        "## Model"
      ]
    },
    {
      "cell_type": "code",
      "metadata": {
        "id": "VKV10PIEalVD"
      },
      "source": [
        "class SigmoidNeuron:\r\n",
        "  \r\n",
        "  def __init__(self):\r\n",
        "    self.w = None\r\n",
        "    self.b = None\r\n",
        "    \r\n",
        "  def perceptron(self, x):\r\n",
        "    return np.dot(x, self.w.T) + self.b\r\n",
        "  \r\n",
        "  def sigmoid(self, x):\r\n",
        "    return 1.0/(1.0 + np.exp(-x))\r\n",
        "  \r\n",
        "  def grad_w(self, x, y):\r\n",
        "    y_pred = self.sigmoid(self.perceptron(x))\r\n",
        "    return (y_pred - y) * y_pred * (1 - y_pred) * x\r\n",
        "  \r\n",
        "  def grad_b(self, x, y):\r\n",
        "    y_pred = self.sigmoid(self.perceptron(x))\r\n",
        "    return (y_pred - y) * y_pred * (1 - y_pred)\r\n",
        "  \r\n",
        "  def fit(self, X, Y, epochs=1, learning_rate=1, initialise=True, display_loss=False):\r\n",
        "    \r\n",
        "    # initialise w, b\r\n",
        "    if initialise:\r\n",
        "      self.w = np.random.randn(1, X.shape[1])\r\n",
        "      self.b = 0\r\n",
        "      \r\n",
        "    if display_loss:\r\n",
        "      loss = {}\r\n",
        "    \r\n",
        "    for i in tqdm_notebook(range(epochs), total=epochs, unit=\"epoch\"):\r\n",
        "      dw = 0\r\n",
        "      db = 0\r\n",
        "      for x, y in zip(X, Y):\r\n",
        "        dw += self.grad_w(x, y)\r\n",
        "        db += self.grad_b(x, y)       \r\n",
        "      self.w -= learning_rate * dw\r\n",
        "      self.b -= learning_rate * db\r\n",
        "      \r\n",
        "      if display_loss:\r\n",
        "        Y_pred = self.sigmoid(self.perceptron(X))\r\n",
        "        loss[i] = mean_squared_error(Y_pred, Y)\r\n",
        "    \r\n",
        "    if display_loss:\r\n",
        "      plt.plot(list(loss.values()))\r\n",
        "      plt.xlabel('Epochs')\r\n",
        "      plt.ylabel('Mean Squared Error')\r\n",
        "      plt.show()\r\n",
        "      \r\n",
        "  def predict(self, X):\r\n",
        "    Y_pred = []\r\n",
        "    for x in X:\r\n",
        "      y_pred = self.sigmoid(self.perceptron(x))\r\n",
        "      Y_pred.append(y_pred)\r\n",
        "    return np.array(Y_pred)"
      ],
      "execution_count": 13,
      "outputs": []
    },
    {
      "cell_type": "code",
      "metadata": {
        "colab": {
          "base_uri": "https://localhost:8080/",
          "height": 361,
          "referenced_widgets": [
            "5302211a0bc04c39bd3a38c7378cfa31",
            "423c287a2f1144ff845a7aa4597e2da8",
            "a0d0cc4e7a1f404d93e2c8163c4abd21",
            "85c4365cb11644a7b7ebfddeaaf3b977",
            "fc9f00ff5a6844f6b27ea1d635f27642",
            "8270bcf3ae864a46899e0b77ce36a200",
            "f926b8877a54482e9993467c95dca6ac",
            "9acff8ad082f490486cc2e7791ceb166"
          ]
        },
        "id": "qkxAE9KBatOZ",
        "outputId": "1e52686e-0f02-4f38-8e48-87842f1f49db"
      },
      "source": [
        "sn = SigmoidNeuron()\r\n",
        "sn.fit(X_scaled_train, Y_train, epochs=2000, learning_rate=0.015, display_loss=True)"
      ],
      "execution_count": 14,
      "outputs": [
        {
          "output_type": "stream",
          "text": [
            "/usr/local/lib/python3.6/dist-packages/ipykernel_launcher.py:31: TqdmDeprecationWarning: This function will be removed in tqdm==5.0.0\n",
            "Please use `tqdm.notebook.tqdm` instead of `tqdm.tqdm_notebook`\n"
          ],
          "name": "stderr"
        },
        {
          "output_type": "display_data",
          "data": {
            "application/vnd.jupyter.widget-view+json": {
              "model_id": "5302211a0bc04c39bd3a38c7378cfa31",
              "version_minor": 0,
              "version_major": 2
            },
            "text/plain": [
              "HBox(children=(FloatProgress(value=0.0, max=2000.0), HTML(value='')))"
            ]
          },
          "metadata": {
            "tags": []
          }
        },
        {
          "output_type": "stream",
          "text": [
            "\n"
          ],
          "name": "stdout"
        },
        {
          "output_type": "display_data",
          "data": {
            "image/png": "[encoded data removed]",
            "text/plain": [
              "<Figure size 432x288 with 1 Axes>"
            ]
          },
          "metadata": {
            "tags": [],
            "needs_background": "light"
          }
        }
      ]
    },
    {
      "cell_type": "code",
      "metadata": {
        "id": "KFXwdMetgNSJ"
      },
      "source": [
        "Y_pred_train = sn.predict(X_scaled_train)\r\n",
        "Y_pred_test = sn.predict(X_scaled_test)"
      ],
      "execution_count": 15,
      "outputs": []
    },
    {
      "cell_type": "markdown",
      "metadata": {
        "id": "hPDerln6jp_X"
      },
      "source": [
        "## Standardisation of Predictions"
      ]
    },
    {
      "cell_type": "code",
      "metadata": {
        "id": "VcAnQ6QBk2sy"
      },
      "source": [
        "Y_pred_std_train = ((Y_pred_train) > (1-Y_pred_train))*1 \r\n",
        "Y_pred_std_test = ((Y_pred_test) > (1-Y_pred_test))*1 "
      ],
      "execution_count": 16,
      "outputs": []
    },
    {
      "cell_type": "markdown",
      "metadata": {
        "id": "Dw4E7jw7sL-k"
      },
      "source": [
        "## Accuracy check"
      ]
    },
    {
      "cell_type": "code",
      "metadata": {
        "colab": {
          "base_uri": "https://localhost:8080/"
        },
        "id": "mFM_K3WbsOl0",
        "outputId": "70e5c637-7dee-4248-ede3-0f7928778e4b"
      },
      "source": [
        "accuracy_train = accuracy_score(Y_pred_std_train, Y_train)\r\n",
        "accuracy_test  = accuracy_score(Y_pred_std_test, Y_test)\r\n",
        "print(accuracy_train, accuracy_test)"
      ],
      "execution_count": 17,
      "outputs": [
        {
          "output_type": "stream",
          "text": [
            "0.7332053742802304 0.6206896551724138\n"
          ],
          "name": "stdout"
        }
      ]
    }
  ]
}