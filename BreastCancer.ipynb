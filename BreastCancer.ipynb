{
  "nbformat": 4,
  "nbformat_minor": 0,
  "metadata": {
    "colab": {
      "name": "BreastCancer.ipynb",
      "provenance": [],
      "authorship_tag": "ABX9TyNl3Vh1+f6aYZVLXv6RAZRM",
      "include_colab_link": true
    },
    "kernelspec": {
      "name": "python3",
      "display_name": "Python 3"
    }
  },
  "cells": [
    {
      "cell_type": "markdown",
      "metadata": {
        "id": "view-in-github",
        "colab_type": "text"
      },
      "source": [
        "<a href=\"https://colab.research.google.com/github/anubhavgupta1/Udacity/blob/main/BreastCancer.ipynb\" target=\"_parent\"><img src=\"https://colab.research.google.com/assets/colab-badge.svg\" alt=\"Open In Colab\"/></a>"
      ]
    },
    {
      "cell_type": "code",
      "metadata": {
        "id": "4FK3vyKvJy-y"
      },
      "source": [
        "import numpy as np\r\n",
        "import pandas as pd\r\n",
        "import matplotlib.pyplot as plt\r\n",
        "from IPython.display import HTML\r\n",
        "from matplotlib import animation, rc\r\n",
        "from sklearn.metrics import accuracy_score\r\n",
        "from sklearn.datasets import load_breast_cancer\r\n",
        "from sklearn.model_selection import  train_test_split"
      ],
      "execution_count": 1,
      "outputs": []
    },
    {
      "cell_type": "markdown",
      "metadata": {
        "id": "GSEuczh_Y1qi"
      },
      "source": [
        "#**Load The Data**"
      ]
    },
    {
      "cell_type": "code",
      "metadata": {
        "colab": {
          "base_uri": "https://localhost:8080/"
        },
        "id": "ies2DIcvKeFs",
        "outputId": "547d3bff-279c-4916-8dd8-8ed09244a73a"
      },
      "source": [
        "breast_cancer = load_breast_cancer()\r\n",
        "X = breast_cancer.data\r\n",
        "y = breast_cancer.target\r\n",
        "print(\"The size of data is : \", X.shape)\r\n",
        "print(\"The size of label is : \", y.shape)"
      ],
      "execution_count": 2,
      "outputs": [
        {
          "output_type": "stream",
          "text": [
            "The size of data is :  (569, 30)\n",
            "The size of label is :  (569,)\n"
          ],
          "name": "stdout"
        }
      ]
    },
    {
      "cell_type": "code",
      "metadata": {
        "colab": {
          "base_uri": "https://localhost:8080/",
          "height": 250
        },
        "id": "yxcZe5qnLyb8",
        "outputId": "65684de3-8531-496f-a9e9-f0b79e506366"
      },
      "source": [
        "data = pd.DataFrame(breast_cancer.data, columns = breast_cancer.feature_names)\r\n",
        "data[\"class\"] = breast_cancer.target\r\n",
        "data.head()"
      ],
      "execution_count": 3,
      "outputs": [
        {
          "output_type": "execute_result",
          "data": {
            "text/html": [
              "<div>\n",
              "<style scoped>\n",
              "    .dataframe tbody tr th:only-of-type {\n",
              "        vertical-align: middle;\n",
              "    }\n",
              "\n",
              "    .dataframe tbody tr th {\n",
              "        vertical-align: top;\n",
              "    }\n",
              "\n",
              "    .dataframe thead th {\n",
              "        text-align: right;\n",
              "    }\n",
              "</style>\n",
              "<table border=\"1\" class=\"dataframe\">\n",
              "  <thead>\n",
              "    <tr style=\"text-align: right;\">\n",
              "      <th></th>\n",
              "      <th>mean radius</th>\n",
              "      <th>mean texture</th>\n",
              "      <th>mean perimeter</th>\n",
              "      <th>mean area</th>\n",
              "      <th>mean smoothness</th>\n",
              "      <th>mean compactness</th>\n",
              "      <th>mean concavity</th>\n",
              "      <th>mean concave points</th>\n",
              "      <th>mean symmetry</th>\n",
              "      <th>mean fractal dimension</th>\n",
              "      <th>radius error</th>\n",
              "      <th>texture error</th>\n",
              "      <th>perimeter error</th>\n",
              "      <th>area error</th>\n",
              "      <th>smoothness error</th>\n",
              "      <th>compactness error</th>\n",
              "      <th>concavity error</th>\n",
              "      <th>concave points error</th>\n",
              "      <th>symmetry error</th>\n",
              "      <th>fractal dimension error</th>\n",
              "      <th>worst radius</th>\n",
              "      <th>worst texture</th>\n",
              "      <th>worst perimeter</th>\n",
              "      <th>worst area</th>\n",
              "      <th>worst smoothness</th>\n",
              "      <th>worst compactness</th>\n",
              "      <th>worst concavity</th>\n",
              "      <th>worst concave points</th>\n",
              "      <th>worst symmetry</th>\n",
              "      <th>worst fractal dimension</th>\n",
              "      <th>class</th>\n",
              "    </tr>\n",
              "  </thead>\n",
              "  <tbody>\n",
              "    <tr>\n",
              "      <th>0</th>\n",
              "      <td>17.99</td>\n",
              "      <td>10.38</td>\n",
              "      <td>122.80</td>\n",
              "      <td>1001.0</td>\n",
              "      <td>0.11840</td>\n",
              "      <td>0.27760</td>\n",
              "      <td>0.3001</td>\n",
              "      <td>0.14710</td>\n",
              "      <td>0.2419</td>\n",
              "      <td>0.07871</td>\n",
              "      <td>1.0950</td>\n",
              "      <td>0.9053</td>\n",
              "      <td>8.589</td>\n",
              "      <td>153.40</td>\n",
              "      <td>0.006399</td>\n",
              "      <td>0.04904</td>\n",
              "      <td>0.05373</td>\n",
              "      <td>0.01587</td>\n",
              "      <td>0.03003</td>\n",
              "      <td>0.006193</td>\n",
              "      <td>25.38</td>\n",
              "      <td>17.33</td>\n",
              "      <td>184.60</td>\n",
              "      <td>2019.0</td>\n",
              "      <td>0.1622</td>\n",
              "      <td>0.6656</td>\n",
              "      <td>0.7119</td>\n",
              "      <td>0.2654</td>\n",
              "      <td>0.4601</td>\n",
              "      <td>0.11890</td>\n",
              "      <td>0</td>\n",
              "    </tr>\n",
              "    <tr>\n",
              "      <th>1</th>\n",
              "      <td>20.57</td>\n",
              "      <td>17.77</td>\n",
              "      <td>132.90</td>\n",
              "      <td>1326.0</td>\n",
              "      <td>0.08474</td>\n",
              "      <td>0.07864</td>\n",
              "      <td>0.0869</td>\n",
              "      <td>0.07017</td>\n",
              "      <td>0.1812</td>\n",
              "      <td>0.05667</td>\n",
              "      <td>0.5435</td>\n",
              "      <td>0.7339</td>\n",
              "      <td>3.398</td>\n",
              "      <td>74.08</td>\n",
              "      <td>0.005225</td>\n",
              "      <td>0.01308</td>\n",
              "      <td>0.01860</td>\n",
              "      <td>0.01340</td>\n",
              "      <td>0.01389</td>\n",
              "      <td>0.003532</td>\n",
              "      <td>24.99</td>\n",
              "      <td>23.41</td>\n",
              "      <td>158.80</td>\n",
              "      <td>1956.0</td>\n",
              "      <td>0.1238</td>\n",
              "      <td>0.1866</td>\n",
              "      <td>0.2416</td>\n",
              "      <td>0.1860</td>\n",
              "      <td>0.2750</td>\n",
              "      <td>0.08902</td>\n",
              "      <td>0</td>\n",
              "    </tr>\n",
              "    <tr>\n",
              "      <th>2</th>\n",
              "      <td>19.69</td>\n",
              "      <td>21.25</td>\n",
              "      <td>130.00</td>\n",
              "      <td>1203.0</td>\n",
              "      <td>0.10960</td>\n",
              "      <td>0.15990</td>\n",
              "      <td>0.1974</td>\n",
              "      <td>0.12790</td>\n",
              "      <td>0.2069</td>\n",
              "      <td>0.05999</td>\n",
              "      <td>0.7456</td>\n",
              "      <td>0.7869</td>\n",
              "      <td>4.585</td>\n",
              "      <td>94.03</td>\n",
              "      <td>0.006150</td>\n",
              "      <td>0.04006</td>\n",
              "      <td>0.03832</td>\n",
              "      <td>0.02058</td>\n",
              "      <td>0.02250</td>\n",
              "      <td>0.004571</td>\n",
              "      <td>23.57</td>\n",
              "      <td>25.53</td>\n",
              "      <td>152.50</td>\n",
              "      <td>1709.0</td>\n",
              "      <td>0.1444</td>\n",
              "      <td>0.4245</td>\n",
              "      <td>0.4504</td>\n",
              "      <td>0.2430</td>\n",
              "      <td>0.3613</td>\n",
              "      <td>0.08758</td>\n",
              "      <td>0</td>\n",
              "    </tr>\n",
              "    <tr>\n",
              "      <th>3</th>\n",
              "      <td>11.42</td>\n",
              "      <td>20.38</td>\n",
              "      <td>77.58</td>\n",
              "      <td>386.1</td>\n",
              "      <td>0.14250</td>\n",
              "      <td>0.28390</td>\n",
              "      <td>0.2414</td>\n",
              "      <td>0.10520</td>\n",
              "      <td>0.2597</td>\n",
              "      <td>0.09744</td>\n",
              "      <td>0.4956</td>\n",
              "      <td>1.1560</td>\n",
              "      <td>3.445</td>\n",
              "      <td>27.23</td>\n",
              "      <td>0.009110</td>\n",
              "      <td>0.07458</td>\n",
              "      <td>0.05661</td>\n",
              "      <td>0.01867</td>\n",
              "      <td>0.05963</td>\n",
              "      <td>0.009208</td>\n",
              "      <td>14.91</td>\n",
              "      <td>26.50</td>\n",
              "      <td>98.87</td>\n",
              "      <td>567.7</td>\n",
              "      <td>0.2098</td>\n",
              "      <td>0.8663</td>\n",
              "      <td>0.6869</td>\n",
              "      <td>0.2575</td>\n",
              "      <td>0.6638</td>\n",
              "      <td>0.17300</td>\n",
              "      <td>0</td>\n",
              "    </tr>\n",
              "    <tr>\n",
              "      <th>4</th>\n",
              "      <td>20.29</td>\n",
              "      <td>14.34</td>\n",
              "      <td>135.10</td>\n",
              "      <td>1297.0</td>\n",
              "      <td>0.10030</td>\n",
              "      <td>0.13280</td>\n",
              "      <td>0.1980</td>\n",
              "      <td>0.10430</td>\n",
              "      <td>0.1809</td>\n",
              "      <td>0.05883</td>\n",
              "      <td>0.7572</td>\n",
              "      <td>0.7813</td>\n",
              "      <td>5.438</td>\n",
              "      <td>94.44</td>\n",
              "      <td>0.011490</td>\n",
              "      <td>0.02461</td>\n",
              "      <td>0.05688</td>\n",
              "      <td>0.01885</td>\n",
              "      <td>0.01756</td>\n",
              "      <td>0.005115</td>\n",
              "      <td>22.54</td>\n",
              "      <td>16.67</td>\n",
              "      <td>152.20</td>\n",
              "      <td>1575.0</td>\n",
              "      <td>0.1374</td>\n",
              "      <td>0.2050</td>\n",
              "      <td>0.4000</td>\n",
              "      <td>0.1625</td>\n",
              "      <td>0.2364</td>\n",
              "      <td>0.07678</td>\n",
              "      <td>0</td>\n",
              "    </tr>\n",
              "  </tbody>\n",
              "</table>\n",
              "</div>"
            ],
            "text/plain": [
              "   mean radius  mean texture  ...  worst fractal dimension  class\n",
              "0        17.99         10.38  ...                  0.11890      0\n",
              "1        20.57         17.77  ...                  0.08902      0\n",
              "2        19.69         21.25  ...                  0.08758      0\n",
              "3        11.42         20.38  ...                  0.17300      0\n",
              "4        20.29         14.34  ...                  0.07678      0\n",
              "\n",
              "[5 rows x 31 columns]"
            ]
          },
          "metadata": {
            "tags": []
          },
          "execution_count": 3
        }
      ]
    },
    {
      "cell_type": "code",
      "metadata": {
        "colab": {
          "base_uri": "https://localhost:8080/",
          "height": 339
        },
        "id": "K0gHGvPgMxsI",
        "outputId": "c1d94900-b3b2-4a17-8bab-54edf363a88b"
      },
      "source": [
        "data.describe()"
      ],
      "execution_count": 4,
      "outputs": [
        {
          "output_type": "execute_result",
          "data": {
            "text/html": [
              "<div>\n",
              "<style scoped>\n",
              "    .dataframe tbody tr th:only-of-type {\n",
              "        vertical-align: middle;\n",
              "    }\n",
              "\n",
              "    .dataframe tbody tr th {\n",
              "        vertical-align: top;\n",
              "    }\n",
              "\n",
              "    .dataframe thead th {\n",
              "        text-align: right;\n",
              "    }\n",
              "</style>\n",
              "<table border=\"1\" class=\"dataframe\">\n",
              "  <thead>\n",
              "    <tr style=\"text-align: right;\">\n",
              "      <th></th>\n",
              "      <th>mean radius</th>\n",
              "      <th>mean texture</th>\n",
              "      <th>mean perimeter</th>\n",
              "      <th>mean area</th>\n",
              "      <th>mean smoothness</th>\n",
              "      <th>mean compactness</th>\n",
              "      <th>mean concavity</th>\n",
              "      <th>mean concave points</th>\n",
              "      <th>mean symmetry</th>\n",
              "      <th>mean fractal dimension</th>\n",
              "      <th>radius error</th>\n",
              "      <th>texture error</th>\n",
              "      <th>perimeter error</th>\n",
              "      <th>area error</th>\n",
              "      <th>smoothness error</th>\n",
              "      <th>compactness error</th>\n",
              "      <th>concavity error</th>\n",
              "      <th>concave points error</th>\n",
              "      <th>symmetry error</th>\n",
              "      <th>fractal dimension error</th>\n",
              "      <th>worst radius</th>\n",
              "      <th>worst texture</th>\n",
              "      <th>worst perimeter</th>\n",
              "      <th>worst area</th>\n",
              "      <th>worst smoothness</th>\n",
              "      <th>worst compactness</th>\n",
              "      <th>worst concavity</th>\n",
              "      <th>worst concave points</th>\n",
              "      <th>worst symmetry</th>\n",
              "      <th>worst fractal dimension</th>\n",
              "      <th>class</th>\n",
              "    </tr>\n",
              "  </thead>\n",
              "  <tbody>\n",
              "    <tr>\n",
              "      <th>count</th>\n",
              "      <td>569.000000</td>\n",
              "      <td>569.000000</td>\n",
              "      <td>569.000000</td>\n",
              "      <td>569.000000</td>\n",
              "      <td>569.000000</td>\n",
              "      <td>569.000000</td>\n",
              "      <td>569.000000</td>\n",
              "      <td>569.000000</td>\n",
              "      <td>569.000000</td>\n",
              "      <td>569.000000</td>\n",
              "      <td>569.000000</td>\n",
              "      <td>569.000000</td>\n",
              "      <td>569.000000</td>\n",
              "      <td>569.000000</td>\n",
              "      <td>569.000000</td>\n",
              "      <td>569.000000</td>\n",
              "      <td>569.000000</td>\n",
              "      <td>569.000000</td>\n",
              "      <td>569.000000</td>\n",
              "      <td>569.000000</td>\n",
              "      <td>569.000000</td>\n",
              "      <td>569.000000</td>\n",
              "      <td>569.000000</td>\n",
              "      <td>569.000000</td>\n",
              "      <td>569.000000</td>\n",
              "      <td>569.000000</td>\n",
              "      <td>569.000000</td>\n",
              "      <td>569.000000</td>\n",
              "      <td>569.000000</td>\n",
              "      <td>569.000000</td>\n",
              "      <td>569.000000</td>\n",
              "    </tr>\n",
              "    <tr>\n",
              "      <th>mean</th>\n",
              "      <td>14.127292</td>\n",
              "      <td>19.289649</td>\n",
              "      <td>91.969033</td>\n",
              "      <td>654.889104</td>\n",
              "      <td>0.096360</td>\n",
              "      <td>0.104341</td>\n",
              "      <td>0.088799</td>\n",
              "      <td>0.048919</td>\n",
              "      <td>0.181162</td>\n",
              "      <td>0.062798</td>\n",
              "      <td>0.405172</td>\n",
              "      <td>1.216853</td>\n",
              "      <td>2.866059</td>\n",
              "      <td>40.337079</td>\n",
              "      <td>0.007041</td>\n",
              "      <td>0.025478</td>\n",
              "      <td>0.031894</td>\n",
              "      <td>0.011796</td>\n",
              "      <td>0.020542</td>\n",
              "      <td>0.003795</td>\n",
              "      <td>16.269190</td>\n",
              "      <td>25.677223</td>\n",
              "      <td>107.261213</td>\n",
              "      <td>880.583128</td>\n",
              "      <td>0.132369</td>\n",
              "      <td>0.254265</td>\n",
              "      <td>0.272188</td>\n",
              "      <td>0.114606</td>\n",
              "      <td>0.290076</td>\n",
              "      <td>0.083946</td>\n",
              "      <td>0.627417</td>\n",
              "    </tr>\n",
              "    <tr>\n",
              "      <th>std</th>\n",
              "      <td>3.524049</td>\n",
              "      <td>4.301036</td>\n",
              "      <td>24.298981</td>\n",
              "      <td>351.914129</td>\n",
              "      <td>0.014064</td>\n",
              "      <td>0.052813</td>\n",
              "      <td>0.079720</td>\n",
              "      <td>0.038803</td>\n",
              "      <td>0.027414</td>\n",
              "      <td>0.007060</td>\n",
              "      <td>0.277313</td>\n",
              "      <td>0.551648</td>\n",
              "      <td>2.021855</td>\n",
              "      <td>45.491006</td>\n",
              "      <td>0.003003</td>\n",
              "      <td>0.017908</td>\n",
              "      <td>0.030186</td>\n",
              "      <td>0.006170</td>\n",
              "      <td>0.008266</td>\n",
              "      <td>0.002646</td>\n",
              "      <td>4.833242</td>\n",
              "      <td>6.146258</td>\n",
              "      <td>33.602542</td>\n",
              "      <td>569.356993</td>\n",
              "      <td>0.022832</td>\n",
              "      <td>0.157336</td>\n",
              "      <td>0.208624</td>\n",
              "      <td>0.065732</td>\n",
              "      <td>0.061867</td>\n",
              "      <td>0.018061</td>\n",
              "      <td>0.483918</td>\n",
              "    </tr>\n",
              "    <tr>\n",
              "      <th>min</th>\n",
              "      <td>6.981000</td>\n",
              "      <td>9.710000</td>\n",
              "      <td>43.790000</td>\n",
              "      <td>143.500000</td>\n",
              "      <td>0.052630</td>\n",
              "      <td>0.019380</td>\n",
              "      <td>0.000000</td>\n",
              "      <td>0.000000</td>\n",
              "      <td>0.106000</td>\n",
              "      <td>0.049960</td>\n",
              "      <td>0.111500</td>\n",
              "      <td>0.360200</td>\n",
              "      <td>0.757000</td>\n",
              "      <td>6.802000</td>\n",
              "      <td>0.001713</td>\n",
              "      <td>0.002252</td>\n",
              "      <td>0.000000</td>\n",
              "      <td>0.000000</td>\n",
              "      <td>0.007882</td>\n",
              "      <td>0.000895</td>\n",
              "      <td>7.930000</td>\n",
              "      <td>12.020000</td>\n",
              "      <td>50.410000</td>\n",
              "      <td>185.200000</td>\n",
              "      <td>0.071170</td>\n",
              "      <td>0.027290</td>\n",
              "      <td>0.000000</td>\n",
              "      <td>0.000000</td>\n",
              "      <td>0.156500</td>\n",
              "      <td>0.055040</td>\n",
              "      <td>0.000000</td>\n",
              "    </tr>\n",
              "    <tr>\n",
              "      <th>25%</th>\n",
              "      <td>11.700000</td>\n",
              "      <td>16.170000</td>\n",
              "      <td>75.170000</td>\n",
              "      <td>420.300000</td>\n",
              "      <td>0.086370</td>\n",
              "      <td>0.064920</td>\n",
              "      <td>0.029560</td>\n",
              "      <td>0.020310</td>\n",
              "      <td>0.161900</td>\n",
              "      <td>0.057700</td>\n",
              "      <td>0.232400</td>\n",
              "      <td>0.833900</td>\n",
              "      <td>1.606000</td>\n",
              "      <td>17.850000</td>\n",
              "      <td>0.005169</td>\n",
              "      <td>0.013080</td>\n",
              "      <td>0.015090</td>\n",
              "      <td>0.007638</td>\n",
              "      <td>0.015160</td>\n",
              "      <td>0.002248</td>\n",
              "      <td>13.010000</td>\n",
              "      <td>21.080000</td>\n",
              "      <td>84.110000</td>\n",
              "      <td>515.300000</td>\n",
              "      <td>0.116600</td>\n",
              "      <td>0.147200</td>\n",
              "      <td>0.114500</td>\n",
              "      <td>0.064930</td>\n",
              "      <td>0.250400</td>\n",
              "      <td>0.071460</td>\n",
              "      <td>0.000000</td>\n",
              "    </tr>\n",
              "    <tr>\n",
              "      <th>50%</th>\n",
              "      <td>13.370000</td>\n",
              "      <td>18.840000</td>\n",
              "      <td>86.240000</td>\n",
              "      <td>551.100000</td>\n",
              "      <td>0.095870</td>\n",
              "      <td>0.092630</td>\n",
              "      <td>0.061540</td>\n",
              "      <td>0.033500</td>\n",
              "      <td>0.179200</td>\n",
              "      <td>0.061540</td>\n",
              "      <td>0.324200</td>\n",
              "      <td>1.108000</td>\n",
              "      <td>2.287000</td>\n",
              "      <td>24.530000</td>\n",
              "      <td>0.006380</td>\n",
              "      <td>0.020450</td>\n",
              "      <td>0.025890</td>\n",
              "      <td>0.010930</td>\n",
              "      <td>0.018730</td>\n",
              "      <td>0.003187</td>\n",
              "      <td>14.970000</td>\n",
              "      <td>25.410000</td>\n",
              "      <td>97.660000</td>\n",
              "      <td>686.500000</td>\n",
              "      <td>0.131300</td>\n",
              "      <td>0.211900</td>\n",
              "      <td>0.226700</td>\n",
              "      <td>0.099930</td>\n",
              "      <td>0.282200</td>\n",
              "      <td>0.080040</td>\n",
              "      <td>1.000000</td>\n",
              "    </tr>\n",
              "    <tr>\n",
              "      <th>75%</th>\n",
              "      <td>15.780000</td>\n",
              "      <td>21.800000</td>\n",
              "      <td>104.100000</td>\n",
              "      <td>782.700000</td>\n",
              "      <td>0.105300</td>\n",
              "      <td>0.130400</td>\n",
              "      <td>0.130700</td>\n",
              "      <td>0.074000</td>\n",
              "      <td>0.195700</td>\n",
              "      <td>0.066120</td>\n",
              "      <td>0.478900</td>\n",
              "      <td>1.474000</td>\n",
              "      <td>3.357000</td>\n",
              "      <td>45.190000</td>\n",
              "      <td>0.008146</td>\n",
              "      <td>0.032450</td>\n",
              "      <td>0.042050</td>\n",
              "      <td>0.014710</td>\n",
              "      <td>0.023480</td>\n",
              "      <td>0.004558</td>\n",
              "      <td>18.790000</td>\n",
              "      <td>29.720000</td>\n",
              "      <td>125.400000</td>\n",
              "      <td>1084.000000</td>\n",
              "      <td>0.146000</td>\n",
              "      <td>0.339100</td>\n",
              "      <td>0.382900</td>\n",
              "      <td>0.161400</td>\n",
              "      <td>0.317900</td>\n",
              "      <td>0.092080</td>\n",
              "      <td>1.000000</td>\n",
              "    </tr>\n",
              "    <tr>\n",
              "      <th>max</th>\n",
              "      <td>28.110000</td>\n",
              "      <td>39.280000</td>\n",
              "      <td>188.500000</td>\n",
              "      <td>2501.000000</td>\n",
              "      <td>0.163400</td>\n",
              "      <td>0.345400</td>\n",
              "      <td>0.426800</td>\n",
              "      <td>0.201200</td>\n",
              "      <td>0.304000</td>\n",
              "      <td>0.097440</td>\n",
              "      <td>2.873000</td>\n",
              "      <td>4.885000</td>\n",
              "      <td>21.980000</td>\n",
              "      <td>542.200000</td>\n",
              "      <td>0.031130</td>\n",
              "      <td>0.135400</td>\n",
              "      <td>0.396000</td>\n",
              "      <td>0.052790</td>\n",
              "      <td>0.078950</td>\n",
              "      <td>0.029840</td>\n",
              "      <td>36.040000</td>\n",
              "      <td>49.540000</td>\n",
              "      <td>251.200000</td>\n",
              "      <td>4254.000000</td>\n",
              "      <td>0.222600</td>\n",
              "      <td>1.058000</td>\n",
              "      <td>1.252000</td>\n",
              "      <td>0.291000</td>\n",
              "      <td>0.663800</td>\n",
              "      <td>0.207500</td>\n",
              "      <td>1.000000</td>\n",
              "    </tr>\n",
              "  </tbody>\n",
              "</table>\n",
              "</div>"
            ],
            "text/plain": [
              "       mean radius  mean texture  ...  worst fractal dimension       class\n",
              "count   569.000000    569.000000  ...               569.000000  569.000000\n",
              "mean     14.127292     19.289649  ...                 0.083946    0.627417\n",
              "std       3.524049      4.301036  ...                 0.018061    0.483918\n",
              "min       6.981000      9.710000  ...                 0.055040    0.000000\n",
              "25%      11.700000     16.170000  ...                 0.071460    0.000000\n",
              "50%      13.370000     18.840000  ...                 0.080040    1.000000\n",
              "75%      15.780000     21.800000  ...                 0.092080    1.000000\n",
              "max      28.110000     39.280000  ...                 0.207500    1.000000\n",
              "\n",
              "[8 rows x 31 columns]"
            ]
          },
          "metadata": {
            "tags": []
          },
          "execution_count": 4
        }
      ]
    },
    {
      "cell_type": "code",
      "metadata": {
        "colab": {
          "base_uri": "https://localhost:8080/"
        },
        "id": "OhRtrwuQNLiv",
        "outputId": "55ba3830-4126-416d-8f66-ac04c00ee78a"
      },
      "source": [
        "data[\"class\"].value_counts()"
      ],
      "execution_count": 5,
      "outputs": [
        {
          "output_type": "execute_result",
          "data": {
            "text/plain": [
              "1    357\n",
              "0    212\n",
              "Name: class, dtype: int64"
            ]
          },
          "metadata": {
            "tags": []
          },
          "execution_count": 5
        }
      ]
    },
    {
      "cell_type": "code",
      "metadata": {
        "colab": {
          "base_uri": "https://localhost:8080/"
        },
        "id": "66X16sQ5NWAl",
        "outputId": "d7b98b13-b581-4a16-c0ea-fa581407e948"
      },
      "source": [
        "breast_cancer.target_names"
      ],
      "execution_count": 6,
      "outputs": [
        {
          "output_type": "execute_result",
          "data": {
            "text/plain": [
              "array(['malignant', 'benign'], dtype='<U9')"
            ]
          },
          "metadata": {
            "tags": []
          },
          "execution_count": 6
        }
      ]
    },
    {
      "cell_type": "code",
      "metadata": {
        "colab": {
          "base_uri": "https://localhost:8080/",
          "height": 190
        },
        "id": "VsLNKgWgNsnL",
        "outputId": "37f76f9f-f582-49f5-9e3b-3a07ae00afa7"
      },
      "source": [
        "data.groupby('class').mean()"
      ],
      "execution_count": 7,
      "outputs": [
        {
          "output_type": "execute_result",
          "data": {
            "text/html": [
              "<div>\n",
              "<style scoped>\n",
              "    .dataframe tbody tr th:only-of-type {\n",
              "        vertical-align: middle;\n",
              "    }\n",
              "\n",
              "    .dataframe tbody tr th {\n",
              "        vertical-align: top;\n",
              "    }\n",
              "\n",
              "    .dataframe thead th {\n",
              "        text-align: right;\n",
              "    }\n",
              "</style>\n",
              "<table border=\"1\" class=\"dataframe\">\n",
              "  <thead>\n",
              "    <tr style=\"text-align: right;\">\n",
              "      <th></th>\n",
              "      <th>mean radius</th>\n",
              "      <th>mean texture</th>\n",
              "      <th>mean perimeter</th>\n",
              "      <th>mean area</th>\n",
              "      <th>mean smoothness</th>\n",
              "      <th>mean compactness</th>\n",
              "      <th>mean concavity</th>\n",
              "      <th>mean concave points</th>\n",
              "      <th>mean symmetry</th>\n",
              "      <th>mean fractal dimension</th>\n",
              "      <th>radius error</th>\n",
              "      <th>texture error</th>\n",
              "      <th>perimeter error</th>\n",
              "      <th>area error</th>\n",
              "      <th>smoothness error</th>\n",
              "      <th>compactness error</th>\n",
              "      <th>concavity error</th>\n",
              "      <th>concave points error</th>\n",
              "      <th>symmetry error</th>\n",
              "      <th>fractal dimension error</th>\n",
              "      <th>worst radius</th>\n",
              "      <th>worst texture</th>\n",
              "      <th>worst perimeter</th>\n",
              "      <th>worst area</th>\n",
              "      <th>worst smoothness</th>\n",
              "      <th>worst compactness</th>\n",
              "      <th>worst concavity</th>\n",
              "      <th>worst concave points</th>\n",
              "      <th>worst symmetry</th>\n",
              "      <th>worst fractal dimension</th>\n",
              "    </tr>\n",
              "    <tr>\n",
              "      <th>class</th>\n",
              "      <th></th>\n",
              "      <th></th>\n",
              "      <th></th>\n",
              "      <th></th>\n",
              "      <th></th>\n",
              "      <th></th>\n",
              "      <th></th>\n",
              "      <th></th>\n",
              "      <th></th>\n",
              "      <th></th>\n",
              "      <th></th>\n",
              "      <th></th>\n",
              "      <th></th>\n",
              "      <th></th>\n",
              "      <th></th>\n",
              "      <th></th>\n",
              "      <th></th>\n",
              "      <th></th>\n",
              "      <th></th>\n",
              "      <th></th>\n",
              "      <th></th>\n",
              "      <th></th>\n",
              "      <th></th>\n",
              "      <th></th>\n",
              "      <th></th>\n",
              "      <th></th>\n",
              "      <th></th>\n",
              "      <th></th>\n",
              "      <th></th>\n",
              "      <th></th>\n",
              "    </tr>\n",
              "  </thead>\n",
              "  <tbody>\n",
              "    <tr>\n",
              "      <th>0</th>\n",
              "      <td>17.462830</td>\n",
              "      <td>21.604906</td>\n",
              "      <td>115.365377</td>\n",
              "      <td>978.376415</td>\n",
              "      <td>0.102898</td>\n",
              "      <td>0.145188</td>\n",
              "      <td>0.160775</td>\n",
              "      <td>0.087990</td>\n",
              "      <td>0.192909</td>\n",
              "      <td>0.062680</td>\n",
              "      <td>0.609083</td>\n",
              "      <td>1.210915</td>\n",
              "      <td>4.323929</td>\n",
              "      <td>72.672406</td>\n",
              "      <td>0.006780</td>\n",
              "      <td>0.032281</td>\n",
              "      <td>0.041824</td>\n",
              "      <td>0.015060</td>\n",
              "      <td>0.020472</td>\n",
              "      <td>0.004062</td>\n",
              "      <td>21.134811</td>\n",
              "      <td>29.318208</td>\n",
              "      <td>141.370330</td>\n",
              "      <td>1422.286321</td>\n",
              "      <td>0.144845</td>\n",
              "      <td>0.374824</td>\n",
              "      <td>0.450606</td>\n",
              "      <td>0.182237</td>\n",
              "      <td>0.323468</td>\n",
              "      <td>0.091530</td>\n",
              "    </tr>\n",
              "    <tr>\n",
              "      <th>1</th>\n",
              "      <td>12.146524</td>\n",
              "      <td>17.914762</td>\n",
              "      <td>78.075406</td>\n",
              "      <td>462.790196</td>\n",
              "      <td>0.092478</td>\n",
              "      <td>0.080085</td>\n",
              "      <td>0.046058</td>\n",
              "      <td>0.025717</td>\n",
              "      <td>0.174186</td>\n",
              "      <td>0.062867</td>\n",
              "      <td>0.284082</td>\n",
              "      <td>1.220380</td>\n",
              "      <td>2.000321</td>\n",
              "      <td>21.135148</td>\n",
              "      <td>0.007196</td>\n",
              "      <td>0.021438</td>\n",
              "      <td>0.025997</td>\n",
              "      <td>0.009858</td>\n",
              "      <td>0.020584</td>\n",
              "      <td>0.003636</td>\n",
              "      <td>13.379801</td>\n",
              "      <td>23.515070</td>\n",
              "      <td>87.005938</td>\n",
              "      <td>558.899440</td>\n",
              "      <td>0.124959</td>\n",
              "      <td>0.182673</td>\n",
              "      <td>0.166238</td>\n",
              "      <td>0.074444</td>\n",
              "      <td>0.270246</td>\n",
              "      <td>0.079442</td>\n",
              "    </tr>\n",
              "  </tbody>\n",
              "</table>\n",
              "</div>"
            ],
            "text/plain": [
              "       mean radius  mean texture  ...  worst symmetry  worst fractal dimension\n",
              "class                             ...                                         \n",
              "0        17.462830     21.604906  ...        0.323468                 0.091530\n",
              "1        12.146524     17.914762  ...        0.270246                 0.079442\n",
              "\n",
              "[2 rows x 30 columns]"
            ]
          },
          "metadata": {
            "tags": []
          },
          "execution_count": 7
        }
      ]
    },
    {
      "cell_type": "code",
      "metadata": {
        "id": "l_h1RyDFOwl2"
      },
      "source": [
        "X = data.drop('class', axis=1)\r\n",
        "Y = data[\"class\"]"
      ],
      "execution_count": 8,
      "outputs": []
    },
    {
      "cell_type": "markdown",
      "metadata": {
        "id": "tD9suZp0ZI4z"
      },
      "source": [
        "#**Train Test Split**"
      ]
    },
    {
      "cell_type": "code",
      "metadata": {
        "colab": {
          "base_uri": "https://localhost:8080/"
        },
        "id": "gXVHQwbGS6N-",
        "outputId": "a1bea63b-dbac-45dc-a6e9-755b7c8334e9"
      },
      "source": [
        "X_train,X_test, Y_train, Y_test = train_test_split(X,Y,test_size = 0.1,stratify=Y,random_state=1)\r\n",
        "print(X.shape,X_train.shape,X_test.shape)\r\n",
        "print(Y.shape,Y_train.shape,Y_test.shape)\r\n",
        "print(Y.mean(),Y_train.mean(),Y_test.mean())\r\n",
        "print(X_train['mean radius'].mean())"
      ],
      "execution_count": 9,
      "outputs": [
        {
          "output_type": "stream",
          "text": [
            "(569, 30) (512, 30) (57, 30)\n",
            "(569,) (512,) (57,)\n",
            "0.6274165202108963 0.626953125 0.631578947368421\n",
            "14.058656250000015\n"
          ],
          "name": "stdout"
        }
      ]
    },
    {
      "cell_type": "markdown",
      "metadata": {
        "id": "OdMOCKAvs4JO"
      },
      "source": [
        "# Perceptron Class"
      ]
    },
    {
      "cell_type": "code",
      "metadata": {
        "id": "zpMzDt5fwtcE"
      },
      "source": [
        "X_train = X_train.values\n",
        "X_test = X_test.values"
      ],
      "execution_count": 10,
      "outputs": []
    },
    {
      "cell_type": "markdown",
      "metadata": {
        "id": "Qd_HKoKnu66i"
      },
      "source": [
        "$y = 1, \\mbox{if} \\sum_i w_i x_i >= b$\n",
        "\n",
        "$y =  0, \\mbox{otherwise}$"
      ]
    },
    {
      "cell_type": "code",
      "metadata": {
        "id": "Pp-xs9VyFpSt"
      },
      "source": [
        "class Perceptron:\r\n",
        "  \r\n",
        "  def __init__ (self):\r\n",
        "    self.w = None\r\n",
        "    self.b = None\r\n",
        "    \r\n",
        "  def model(self, x):\r\n",
        "    return 1 if (np.dot(self.w, x) >= self.b) else 0\r\n",
        "    \r\n",
        "  def predict(self, X):\r\n",
        "    Y = []\r\n",
        "    for x in X:\r\n",
        "      result = self.model(x)\r\n",
        "      Y.append(result)\r\n",
        "    return np.array(Y)\r\n",
        "    \r\n",
        "  def fit(self, X, Y):\r\n",
        "    \r\n",
        "    self.w = np.ones(X.shape[1])\r\n",
        "    self.b = 0\r\n",
        "\r\n",
        "    for x, y in zip(X, Y):\r\n",
        "      y_pred = self.model(x)\r\n",
        "      if y == 1 and y_pred == 0:\r\n",
        "        self.w = self.w +  x\r\n",
        "        self.b = self.b +  1\r\n",
        "      elif y == 0 and y_pred == 1:\r\n",
        "        self.w = self.w -  x\r\n",
        "        self.b = self.b -  1"
      ],
      "execution_count": 11,
      "outputs": []
    },
    {
      "cell_type": "code",
      "metadata": {
        "id": "On785t6DG7HH"
      },
      "source": [
        "perceptron = Perceptron()\r\n",
        "perceptron.fit(X_train,Y_train)"
      ],
      "execution_count": 12,
      "outputs": []
    },
    {
      "cell_type": "code",
      "metadata": {
        "colab": {
          "base_uri": "https://localhost:8080/",
          "height": 268
        },
        "id": "jAb0UMSYHdDr",
        "outputId": "89e80865-fc3b-497a-8755-27b9f16853ea"
      },
      "source": [
        "plt.plot(perceptron.w)\r\n",
        "plt.show()"
      ],
      "execution_count": 13,
      "outputs": [
        {
          "output_type": "display_data",
          "data": {
            "image/png": "[encoded data removed]",
            "text/plain": [
              "<Figure size 432x288 with 1 Axes>"
            ]
          },
          "metadata": {
            "tags": [],
            "needs_background": "light"
          }
        }
      ]
    },
    {
      "cell_type": "code",
      "metadata": {
        "colab": {
          "base_uri": "https://localhost:8080/"
        },
        "id": "ttOzhYfoH3g6",
        "outputId": "63c192bc-2078-44e1-c1ec-4c15485d4b83"
      },
      "source": [
        "Y_pred_train = perceptron.predict(X_train)\r\n",
        "Y_pred_test = perceptron.predict(X_test)\r\n",
        "print(\"Training accuracy is : \",accuracy_score(Y_train,Y_pred_train))\r\n",
        "print(\"Test accuracy is : \",accuracy_score(Y_test,Y_pred_test))"
      ],
      "execution_count": 14,
      "outputs": [
        {
          "output_type": "stream",
          "text": [
            "Training accuracy is :  0.373046875\n",
            "Test accuracy is :  0.3684210526315789\n"
          ],
          "name": "stdout"
        }
      ]
    },
    {
      "cell_type": "markdown",
      "metadata": {
        "id": "_rJzTCZII6gD"
      },
      "source": [
        "#**Epochs**"
      ]
    },
    {
      "cell_type": "code",
      "metadata": {
        "id": "fOaqOAg0I2W-"
      },
      "source": [
        "class Perceptron:\r\n",
        "  \r\n",
        "  def __init__ (self):\r\n",
        "    self.w = None\r\n",
        "    self.b = None\r\n",
        "    \r\n",
        "  def model(self, x):\r\n",
        "    return 1 if (np.dot(self.w, x) >= self.b) else 0\r\n",
        "    \r\n",
        "  def predict(self, X):\r\n",
        "    Y = []\r\n",
        "    for x in X:\r\n",
        "      result = self.model(x)\r\n",
        "      Y.append(result)\r\n",
        "    return np.array(Y)\r\n",
        "    \r\n",
        "  def fit(self, X, Y, epochs = 1):\r\n",
        "    \r\n",
        "    self.w = np.ones(X.shape[1])\r\n",
        "    self.b = 0\r\n",
        "    accuracy = {}\r\n",
        "    max_accuracy = 0\r\n",
        "    max_accuracy_epoch = 0\r\n",
        "    for epoch in range(epochs):\r\n",
        "      \r\n",
        "      for x, y in zip(X, Y):\r\n",
        "        y_pred = self.model(x)\r\n",
        "        if y == 1 and y_pred == 0:\r\n",
        "          self.w = self.w +  x\r\n",
        "          self.b = self.b +  1\r\n",
        "        elif y == 0 and y_pred == 1:\r\n",
        "          self.w = self.w -  x\r\n",
        "          self.b = self.b -  1\r\n",
        "\r\n",
        "      accuracy[epoch] = accuracy_score(self.predict(X),Y)\r\n",
        "      if(accuracy[epoch] > max_accuracy):\r\n",
        "        max_accuracy = accuracy[epoch]\r\n",
        "        max_accuracy_epoch = epoch\r\n",
        "    \r\n",
        "    print(\"Max accuraracy is : \",max_accuracy, \" achieved in epoch : \",max_accuracy_epoch)\r\n",
        "    \r\n",
        "    plt.plot(np.array(list(accuracy.values())).astype(float))\r\n",
        "    plt.show()"
      ],
      "execution_count": 15,
      "outputs": []
    },
    {
      "cell_type": "code",
      "metadata": {
        "colab": {
          "base_uri": "https://localhost:8080/",
          "height": 281
        },
        "id": "JFwc-iDXJ2t9",
        "outputId": "7dddca42-610b-45ac-cd43-1110c26bb4ce"
      },
      "source": [
        "perceptron = Perceptron()\r\n",
        "perceptron.fit(X_train,Y_train,5)"
      ],
      "execution_count": 16,
      "outputs": [
        {
          "output_type": "stream",
          "text": [
            "Max accuraracy is :  0.91015625  achieved in epoch :  1\n"
          ],
          "name": "stdout"
        },
        {
          "output_type": "display_data",
          "data": {
            "image/png": "[encoded data removed]",
            "text/plain": [
              "<Figure size 432x288 with 1 Axes>"
            ]
          },
          "metadata": {
            "tags": [],
            "needs_background": "light"
          }
        }
      ]
    },
    {
      "cell_type": "code",
      "metadata": {
        "colab": {
          "base_uri": "https://localhost:8080/",
          "height": 281
        },
        "id": "IiQ8yL7lNiJW",
        "outputId": "070b2eed-e720-4133-d968-afd59554bdd9"
      },
      "source": [
        "perceptron = Perceptron()\r\n",
        "perceptron.fit(X_train,Y_train,20)"
      ],
      "execution_count": 17,
      "outputs": [
        {
          "output_type": "stream",
          "text": [
            "Max accuraracy is :  0.91015625  achieved in epoch :  1\n"
          ],
          "name": "stdout"
        },
        {
          "output_type": "display_data",
          "data": {
            "image/png": "[encoded data removed]",
            "text/plain": [
              "<Figure size 432x288 with 1 Axes>"
            ]
          },
          "metadata": {
            "tags": [],
            "needs_background": "light"
          }
        }
      ]
    },
    {
      "cell_type": "code",
      "metadata": {
        "colab": {
          "base_uri": "https://localhost:8080/",
          "height": 281
        },
        "id": "ZmCmDVsBPmwI",
        "outputId": "0931edd7-e039-4247-d903-adc33808a62f"
      },
      "source": [
        "perceptron = Perceptron()\r\n",
        "perceptron.fit(X_train,Y_train,50)"
      ],
      "execution_count": 18,
      "outputs": [
        {
          "output_type": "stream",
          "text": [
            "Max accuraracy is :  0.921875  achieved in epoch :  43\n"
          ],
          "name": "stdout"
        },
        {
          "output_type": "display_data",
          "data": {
            "image/png": "[encoded data removed]",
            "text/plain": [
              "<Figure size 432x288 with 1 Axes>"
            ]
          },
          "metadata": {
            "tags": [],
            "needs_background": "light"
          }
        }
      ]
    },
    {
      "cell_type": "markdown",
      "metadata": {
        "id": "lm_A6a-QRYkJ"
      },
      "source": [
        "#**Checkpointing**\r\n",
        "Checkpointing is the process of saving the weights of the epoch where maximum accuracy is achieved"
      ]
    },
    {
      "cell_type": "code",
      "metadata": {
        "id": "K73AOqw7RtpH"
      },
      "source": [
        "class Perceptron:\r\n",
        "  \r\n",
        "  def __init__ (self):\r\n",
        "    self.w = None\r\n",
        "    self.b = None\r\n",
        "    \r\n",
        "  def model(self, x):\r\n",
        "    return 1 if (np.dot(self.w, x) >= self.b) else 0\r\n",
        "    \r\n",
        "  def predict(self, X):\r\n",
        "    Y = []\r\n",
        "    for x in X:\r\n",
        "      result = self.model(x)\r\n",
        "      Y.append(result)\r\n",
        "    return np.array(Y)\r\n",
        "    \r\n",
        "  def fit(self, X, Y, epochs = 1):\r\n",
        "    \r\n",
        "    self.w = np.ones(X.shape[1])\r\n",
        "    self.b = 0\r\n",
        "    chkptw = np.ones(X.shape[1])\r\n",
        "    chkptb = 0\r\n",
        "    accuracy = {}\r\n",
        "    max_accuracy = 0\r\n",
        "    max_accuracy_epoch = 0\r\n",
        "    weights_matrix = []\r\n",
        "    bias_matrix = []\r\n",
        "    for epoch in range(epochs):\r\n",
        "      \r\n",
        "      for x, y in zip(X, Y):\r\n",
        "        y_pred = self.model(x)\r\n",
        "        if y == 1 and y_pred == 0:\r\n",
        "          self.w = self.w +  x\r\n",
        "          self.b = self.b +  1\r\n",
        "        elif y == 0 and y_pred == 1:\r\n",
        "          self.w = self.w -  x\r\n",
        "          self.b = self.b -  1\r\n",
        "      \r\n",
        "      weights_matrix.append(self.w)\r\n",
        "      bias_matrix.append(self.b)\r\n",
        "      \r\n",
        "      accuracy[epoch] = accuracy_score(self.predict(X),Y)\r\n",
        "      \r\n",
        "      if(accuracy[epoch] > max_accuracy):\r\n",
        "        max_accuracy = accuracy[epoch]\r\n",
        "        max_accuracy_epoch = epoch\r\n",
        "        chkptw = self.w\r\n",
        "        chkptb = self.b\r\n",
        "    \r\n",
        "    self.w = chkptw\r\n",
        "    self.b = chkptb\r\n",
        "    print(\"Max accuraracy is : \",max_accuracy, \" achieved in epoch : \",max_accuracy_epoch)\r\n",
        "    \r\n",
        "    plt.plot(np.array(list(accuracy.values())).astype(float))\r\n",
        "    plt.show()\r\n",
        "    return np.array(weights_matrix), np.array(bias_matrix)"
      ],
      "execution_count": 19,
      "outputs": []
    },
    {
      "cell_type": "code",
      "metadata": {
        "colab": {
          "base_uri": "https://localhost:8080/",
          "height": 281
        },
        "id": "zPbHBnjTUfcr",
        "outputId": "73851908-a191-425f-dd31-9a65f0beb082"
      },
      "source": [
        "perceptron = Perceptron()\r\n",
        "weights , bias = perceptron.fit(X_train,Y_train,50)"
      ],
      "execution_count": 20,
      "outputs": [
        {
          "output_type": "stream",
          "text": [
            "Max accuraracy is :  0.921875  achieved in epoch :  43\n"
          ],
          "name": "stdout"
        },
        {
          "output_type": "display_data",
          "data": {
            "image/png": "[encoded data removed]",
            "text/plain": [
              "<Figure size 432x288 with 1 Axes>"
            ]
          },
          "metadata": {
            "tags": [],
            "needs_background": "light"
          }
        }
      ]
    },
    {
      "cell_type": "code",
      "metadata": {
        "colab": {
          "base_uri": "https://localhost:8080/",
          "height": 281
        },
        "id": "YCSB3ljcVUEv",
        "outputId": "6bb069d8-26a7-4202-d546-d77628bc9c34"
      },
      "source": [
        "perceptron = Perceptron()\r\n",
        "weights , bias = perceptron.fit(X_train,Y_train,100)"
      ],
      "execution_count": 21,
      "outputs": [
        {
          "output_type": "stream",
          "text": [
            "Max accuraracy is :  0.927734375  achieved in epoch :  60\n"
          ],
          "name": "stdout"
        },
        {
          "output_type": "display_data",
          "data": {
            "image/png": "[encoded data removed]",
            "text/plain": [
              "<Figure size 432x288 with 1 Axes>"
            ]
          },
          "metadata": {
            "tags": [],
            "needs_background": "light"
          }
        }
      ]
    },
    {
      "cell_type": "code",
      "metadata": {
        "colab": {
          "base_uri": "https://localhost:8080/"
        },
        "id": "h7sgbxbiVwrk",
        "outputId": "4cbdc799-cf8e-4bfa-ca7d-0567856c1c3e"
      },
      "source": [
        "print(weights.shape)\r\n",
        "print(bias.shape)"
      ],
      "execution_count": 22,
      "outputs": [
        {
          "output_type": "stream",
          "text": [
            "(100, 30)\n",
            "(100,)\n"
          ],
          "name": "stdout"
        }
      ]
    },
    {
      "cell_type": "code",
      "metadata": {
        "colab": {
          "base_uri": "https://localhost:8080/",
          "height": 265
        },
        "id": "ISNKGFRMWCf4",
        "outputId": "84aa661a-6151-4d34-9396-520a2492c7d1"
      },
      "source": [
        "plt.plot(weights[-1,:])\r\n",
        "plt.show()"
      ],
      "execution_count": 23,
      "outputs": [
        {
          "output_type": "display_data",
          "data": {
            "image/png": "[encoded data removed]",
            "text/plain": [
              "<Figure size 432x288 with 1 Axes>"
            ]
          },
          "metadata": {
            "tags": [],
            "needs_background": "light"
          }
        }
      ]
    },
    {
      "cell_type": "code",
      "metadata": {
        "colab": {
          "base_uri": "https://localhost:8080/",
          "height": 265
        },
        "id": "yf30WA1hWf4g",
        "outputId": "081c09a0-5e0a-4875-829f-f0a4af2bdfe4"
      },
      "source": [
        "plt.plot(weights[60,:])\r\n",
        "plt.show()"
      ],
      "execution_count": 24,
      "outputs": [
        {
          "output_type": "display_data",
          "data": {
            "image/png": "[encoded data removed]",
            "text/plain": [
              "<Figure size 432x288 with 1 Axes>"
            ]
          },
          "metadata": {
            "tags": [],
            "needs_background": "light"
          }
        }
      ]
    },
    {
      "cell_type": "code",
      "metadata": {
        "colab": {
          "base_uri": "https://localhost:8080/"
        },
        "id": "dq0vKQXlXoAi",
        "outputId": "84828516-0045-4fe2-cf95-f99e8f12491d"
      },
      "source": [
        "max(bias)"
      ],
      "execution_count": 25,
      "outputs": [
        {
          "output_type": "execute_result",
          "data": {
            "text/plain": [
              "685"
            ]
          },
          "metadata": {
            "tags": []
          },
          "execution_count": 25
        }
      ]
    },
    {
      "cell_type": "code",
      "metadata": {
        "colab": {
          "base_uri": "https://localhost:8080/",
          "height": 265
        },
        "id": "6i5Ppb7MXV7r",
        "outputId": "ec4bc842-fe38-42ef-9f2e-a6cc7121dcd7"
      },
      "source": [
        "plt.plot(bias)\r\n",
        "plt.show()"
      ],
      "execution_count": 26,
      "outputs": [
        {
          "output_type": "display_data",
          "data": {
            "image/png": "[encoded data removed]",
            "text/plain": [
              "<Figure size 432x288 with 1 Axes>"
            ]
          },
          "metadata": {
            "tags": [],
            "needs_background": "light"
          }
        }
      ]
    },
    {
      "cell_type": "markdown",
      "metadata": {
        "id": "u_xS5JLOYrhs"
      },
      "source": [
        "#**Learning Rate**\r\n",
        "Learning rate is used to smoothen the oscillations."
      ]
    },
    {
      "cell_type": "code",
      "metadata": {
        "id": "Ia7K4krjYpOz"
      },
      "source": [
        "class Perceptron:\r\n",
        "  \r\n",
        "  def __init__ (self):\r\n",
        "    self.w = None\r\n",
        "    self.b = None\r\n",
        "    \r\n",
        "  def model(self, x):\r\n",
        "    return 1 if (np.dot(self.w, x) >= self.b) else 0\r\n",
        "    \r\n",
        "  def predict(self, X):\r\n",
        "    Y = []\r\n",
        "    for x in X:\r\n",
        "      result = self.model(x)\r\n",
        "      Y.append(result)\r\n",
        "    return np.array(Y)\r\n",
        "    \r\n",
        "  def fit(self, X, Y, epochs = 1,lr = 1):\r\n",
        "    \r\n",
        "    self.w = np.ones(X.shape[1])\r\n",
        "    self.b = 0\r\n",
        "    \r\n",
        "    chkptw = np.ones(X.shape[1])\r\n",
        "    chkptb = 0\r\n",
        "    \r\n",
        "    accuracy = {}\r\n",
        "    \r\n",
        "    max_accuracy = 0\r\n",
        "    max_accuracy_epoch = 0\r\n",
        "    \r\n",
        "    weights_matrix = []\r\n",
        "    bias_matrix = []\r\n",
        "    \r\n",
        "    for epoch in range(epochs):\r\n",
        "      \r\n",
        "      for x, y in zip(X, Y):\r\n",
        "        y_pred = self.model(x)\r\n",
        "        if y == 1 and y_pred == 0:\r\n",
        "          self.w = self.w +  lr * x\r\n",
        "          self.b = self.b +  lr * 1\r\n",
        "        elif y == 0 and y_pred == 1:\r\n",
        "          self.w = self.w -  lr * x\r\n",
        "          self.b = self.b -  lr * 1\r\n",
        "      \r\n",
        "      weights_matrix.append(self.w)\r\n",
        "      bias_matrix.append(self.b)\r\n",
        "      \r\n",
        "      accuracy[epoch] = accuracy_score(self.predict(X),Y)\r\n",
        "      \r\n",
        "      if(accuracy[epoch] > max_accuracy):\r\n",
        "        max_accuracy = accuracy[epoch]\r\n",
        "        max_accuracy_epoch = epoch\r\n",
        "        chkptw = self.w\r\n",
        "        chkptb = self.b\r\n",
        "    \r\n",
        "    self.w = chkptw\r\n",
        "    self.b = chkptb\r\n",
        "    \r\n",
        "    print(\"Max accuraracy is : \",max_accuracy, \" achieved in epoch : \",max_accuracy_epoch)\r\n",
        "    \r\n",
        "    plt.plot(np.array(list(accuracy.values())).astype(float))\r\n",
        "    plt.ylim([0, 1])\r\n",
        "    plt.show()\r\n",
        "    \r\n",
        "    return np.array(weights_matrix), np.array(bias_matrix)"
      ],
      "execution_count": 27,
      "outputs": []
    },
    {
      "cell_type": "code",
      "metadata": {
        "colab": {
          "base_uri": "https://localhost:8080/",
          "height": 286
        },
        "id": "OTbuyvOAaCRB",
        "outputId": "b305338d-5fe1-4216-dae8-e71e49fa234c"
      },
      "source": [
        "perceptron = Perceptron()\r\n",
        "weights , bias = perceptron.fit(X_train,Y_train,100,1)"
      ],
      "execution_count": 28,
      "outputs": [
        {
          "output_type": "stream",
          "text": [
            "Max accuraracy is :  0.927734375  achieved in epoch :  60\n"
          ],
          "name": "stdout"
        },
        {
          "output_type": "display_data",
          "data": {
            "image/png": "[encoded data removed]",
            "text/plain": [
              "<Figure size 432x288 with 1 Axes>"
            ]
          },
          "metadata": {
            "tags": [],
            "needs_background": "light"
          }
        }
      ]
    },
    {
      "cell_type": "code",
      "metadata": {
        "colab": {
          "base_uri": "https://localhost:8080/",
          "height": 286
        },
        "id": "C6yGyDD3aViz",
        "outputId": "76a9cec6-d999-40a2-870e-a6c7b6acbefe"
      },
      "source": [
        "perceptron = Perceptron()\r\n",
        "weights , bias = perceptron.fit(X_train,Y_train,100,0.0001)"
      ],
      "execution_count": 29,
      "outputs": [
        {
          "output_type": "stream",
          "text": [
            "Max accuraracy is :  0.92578125  achieved in epoch :  85\n"
          ],
          "name": "stdout"
        },
        {
          "output_type": "display_data",
          "data": {
            "image/png": "[encoded data removed]",
            "text/plain": [
              "<Figure size 432x288 with 1 Axes>"
            ]
          },
          "metadata": {
            "tags": [],
            "needs_background": "light"
          }
        }
      ]
    },
    {
      "cell_type": "code",
      "metadata": {
        "colab": {
          "base_uri": "https://localhost:8080/",
          "height": 286
        },
        "id": "p40k8kXFalJu",
        "outputId": "b6ddd8ba-9654-40db-b5bc-ea9fac846a1d"
      },
      "source": [
        "perceptron = Perceptron()\r\n",
        "weights , bias = perceptron.fit(X_train,Y_train,1000,0.0001)"
      ],
      "execution_count": 30,
      "outputs": [
        {
          "output_type": "stream",
          "text": [
            "Max accuraracy is :  0.935546875  achieved in epoch :  926\n"
          ],
          "name": "stdout"
        },
        {
          "output_type": "display_data",
          "data": {
            "image/png": "[encoded data removed]",
            "text/plain": [
              "<Figure size 432x288 with 1 Axes>"
            ]
          },
          "metadata": {
            "tags": [],
            "needs_background": "light"
          }
        }
      ]
    },
    {
      "cell_type": "code",
      "metadata": {
        "colab": {
          "base_uri": "https://localhost:8080/",
          "height": 286
        },
        "id": "kQiTrvdCazxL",
        "outputId": "a5bc256b-28e5-4c1b-e3d8-650b720257d3"
      },
      "source": [
        "perceptron = Perceptron()\r\n",
        "weights , bias = perceptron.fit(X_train,Y_train,10000,0.0001)"
      ],
      "execution_count": 31,
      "outputs": [
        {
          "output_type": "stream",
          "text": [
            "Max accuraracy is :  0.94921875  achieved in epoch :  7770\n"
          ],
          "name": "stdout"
        },
        {
          "output_type": "display_data",
          "data": {
            "image/png": "[encoded data removed]",
            "text/plain": [
              "<Figure size 432x288 with 1 Axes>"
            ]
          },
          "metadata": {
            "tags": [],
            "needs_background": "light"
          }
        }
      ]
    },
    {
      "cell_type": "code",
      "metadata": {
        "colab": {
          "base_uri": "https://localhost:8080/"
        },
        "id": "TMRAi_fMcBNj",
        "outputId": "79aa49e4-b890-44d4-c58d-d13cc6c26b6c"
      },
      "source": [
        "Y_pred_train = perceptron.predict(X_train)\r\n",
        "Y_pred_test = perceptron.predict(X_test)\r\n",
        "print(\"Training accuracy is : \",accuracy_score(Y_train,Y_pred_train))\r\n",
        "print(\"Test accuracy is : \",accuracy_score(Y_test,Y_pred_test))"
      ],
      "execution_count": 32,
      "outputs": [
        {
          "output_type": "stream",
          "text": [
            "Training accuracy is :  0.94921875\n",
            "Test accuracy is :  0.9473684210526315\n"
          ],
          "name": "stdout"
        }
      ]
    },
    {
      "cell_type": "code",
      "metadata": {
        "colab": {
          "base_uri": "https://localhost:8080/",
          "height": 265
        },
        "id": "zpN4FUSmc7h1",
        "outputId": "29cdbfd5-1ee6-4187-f1c8-f1acec26af34"
      },
      "source": [
        "plt.plot(perceptron.w)\r\n",
        "plt.show()"
      ],
      "execution_count": 33,
      "outputs": [
        {
          "output_type": "display_data",
          "data": {
            "image/png": "[encoded data removed]",
            "text/plain": [
              "<Figure size 432x288 with 1 Axes>"
            ]
          },
          "metadata": {
            "tags": [],
            "needs_background": "light"
          }
        }
      ]
    },
    {
      "cell_type": "code",
      "metadata": {
        "colab": {
          "base_uri": "https://localhost:8080/",
          "height": 265
        },
        "id": "eSQp2Iz-dIlt",
        "outputId": "837de80a-8a06-44f3-ed8c-2e4772bf8a31"
      },
      "source": [
        "plt.plot(perceptron.w)\r\n",
        "plt.show()"
      ],
      "execution_count": 34,
      "outputs": [
        {
          "output_type": "display_data",
          "data": {
            "image/png": "[encoded data removed]",
            "text/plain": [
              "<Figure size 432x288 with 1 Axes>"
            ]
          },
          "metadata": {
            "tags": [],
            "needs_background": "light"
          }
        }
      ]
    },
    {
      "cell_type": "code",
      "metadata": {
        "colab": {
          "base_uri": "https://localhost:8080/",
          "height": 265
        },
        "id": "aXLQeJCedRhg",
        "outputId": "e47c3065-1b71-4120-a379-df4f078a1c19"
      },
      "source": [
        "plt.plot(weights[-1,:])\r\n",
        "plt.show()"
      ],
      "execution_count": 35,
      "outputs": [
        {
          "output_type": "display_data",
          "data": {
            "image/png": "[encoded data removed]",
            "text/plain": [
              "<Figure size 432x288 with 1 Axes>"
            ]
          },
          "metadata": {
            "tags": [],
            "needs_background": "light"
          }
        }
      ]
    },
    {
      "cell_type": "markdown",
      "metadata": {
        "id": "l3zUbSaSbnB0"
      },
      "source": [
        "#**Weights Animation**"
      ]
    },
    {
      "cell_type": "code",
      "metadata": {
        "colab": {
          "base_uri": "https://localhost:8080/"
        },
        "id": "WC82V3cteIFj",
        "outputId": "168e445c-c721-4267-e53e-91b6197bae2e"
      },
      "source": [
        "weights.shape"
      ],
      "execution_count": 36,
      "outputs": [
        {
          "output_type": "execute_result",
          "data": {
            "text/plain": [
              "(10000, 30)"
            ]
          },
          "metadata": {
            "tags": []
          },
          "execution_count": 36
        }
      ]
    },
    {
      "cell_type": "code",
      "metadata": {
        "id": "JTBOWVEBj-R4"
      },
      "source": [
        "%matplotlib inline\r\n",
        "from matplotlib import animation, rc\r\n",
        "from IPython.display import HTML"
      ],
      "execution_count": 37,
      "outputs": []
    },
    {
      "cell_type": "code",
      "metadata": {
        "colab": {
          "base_uri": "https://localhost:8080/",
          "height": 269
        },
        "id": "m4lWL98ibjtc",
        "outputId": "f7559c47-6456-4334-c332-8d9194bda04d"
      },
      "source": [
        "# First set up the figure, the axis, and the plot element we want to animate\r\n",
        "fig, ax = plt.subplots()\r\n",
        "\r\n",
        "ax.set_xlim(( 0, weights.shape[1]))\r\n",
        "ax.set_ylim((-15000, 25000))\r\n",
        "\r\n",
        "line, = ax.plot([], [], lw=2)"
      ],
      "execution_count": 38,
      "outputs": [
        {
          "output_type": "display_data",
          "data": {
            "image/png": "[encoded data removed]",
            "text/plain": [
              "<Figure size 432x288 with 1 Axes>"
            ]
          },
          "metadata": {
            "tags": [],
            "needs_background": "light"
          }
        }
      ]
    },
    {
      "cell_type": "code",
      "metadata": {
        "id": "JxY7K3evmCHx"
      },
      "source": [
        "# animation function. This is called sequentially\r\n",
        "def animate(i):\r\n",
        "    x = list(range(weights.shape[1]))\r\n",
        "    y = weights[i, :]\r\n",
        "    line.set_data(x, y)\r\n",
        "    return (line,)"
      ],
      "execution_count": 39,
      "outputs": []
    },
    {
      "cell_type": "code",
      "metadata": {
        "id": "aFYjH_bpmd_g"
      },
      "source": [
        "# call the animator. blit=True means only re-draw the parts that have changed.\r\n",
        "anim = animation.FuncAnimation(fig, animate, frames=100, interval=200, blit=True)"
      ],
      "execution_count": 40,
      "outputs": []
    },
    {
      "cell_type": "code",
      "metadata": {
        "colab": {
          "base_uri": "https://localhost:8080/",
          "height": 308
        },
        "id": "MDEPGBWjezAg",
        "outputId": "bfe45c90-2af4-4cef-e181-9fafec01b23c"
      },
      "source": [
        "HTML(anim.to_html5_video())"
      ],
      "execution_count": 41,
      "outputs": [
        {
          "output_type": "execute_result",
          "data": {
            "text/html": [
              "<video width=\"432\" height=\"288\" controls autoplay loop>\n",
              "  <source type=\"video/mp4\" src=\"data:video/mp4;base64,AAAAHGZ0eXBNNFYgAAACAGlzb21pc28yYXZjMQAAAAhmcmVlAAAZfW1kYXQAAAKtBgX//6ncRem9\n",
              "5tlIt5Ys2CDZI+7veDI2NCAtIGNvcmUgMTUyIHIyODU0IGU5YTU5MDMgLSBILjI2NC9NUEVHLTQg\n",
              "QVZDIGNvZGVjIC0gQ29weWxlZnQgMjAwMy0yMDE3IC0gaHR0cDovL3d3dy52aWRlb2xhbi5vcmcv\n",
              "eDI2NC5odG1sIC0gb3B0aW9uczogY2FiYWM9MSByZWY9MyBkZWJsb2NrPTE6MDowIGFuYWx5c2U9\n",
              "MHgzOjB4MTEzIG1lPWhleCBzdWJtZT03IHBzeT0xIHBzeV9yZD0xLjAwOjAuMDAgbWl4ZWRfcmVm\n",
              "PTEgbWVfcmFuZ2U9MTYgY2hyb21hX21lPTEgdHJlbGxpcz0xIDh4OGRjdD0xIGNxbT0wIGRlYWR6\n",
              "b25lPTIxLDExIGZhc3RfcHNraXA9MSBjaHJvbWFfcXBfb2Zmc2V0PS0yIHRocmVhZHM9MyBsb29r\n",
              "YWhlYWRfdGhyZWFkcz0xIHNsaWNlZF90aHJlYWRzPTAgbnI9MCBkZWNpbWF0ZT0xIGludGVybGFj\n",
              "ZWQ9MCBibHVyYXlfY29tcGF0PTAgY29uc3RyYWluZWRfaW50cmE9MCBiZnJhbWVzPTMgYl9weXJh\n",
              "bWlkPTIgYl9hZGFwdD0xIGJfYmlhcz0wIGRpcmVjdD0xIHdlaWdodGI9MSBvcGVuX2dvcD0wIHdl\n",
              "aWdodHA9MiBrZXlpbnQ9MjUwIGtleWludF9taW49NSBzY2VuZWN1dD00MCBpbnRyYV9yZWZyZXNo\n",
              "PTAgcmNfbG9va2FoZWFkPTQwIHJjPWNyZiBtYnRyZWU9MSBjcmY9MjMuMCBxY29tcD0wLjYwIHFw\n",
              "bWluPTAgcXBtYXg9NjkgcXBzdGVwPTQgaXBfcmF0aW89MS40MCBhcT0xOjEuMDAAgAAADglliIQA\n",
              "FP/+98dPwKbo+WbLnUU9ITCK2PpIKL1Y7NAydQAAAwAARTqf8cJI/gAa+ot+jlucUDOe4PFsL8ot\n",
              "uk2HgZ0V/P/BIwTzvGPWeoYkF06fBENtN/0294MNwFxzAhSBIIrV5RhvICAJckFkJJDGuFmM3XU2\n",
              "EYhquDjDjerEsvyXV6E5EQswNL5S+TKzv1exEi5LiL1+mKzJ1PIs+X1gAEZl/C/WmF+fmyDhz4+9\n",
              "4mX2hdZaDrTLrqD8BnkvYpKQ7naHly5sy740V+AeDRaBbUwNen0LuiaENVw41qKV7RRgdIUUNyir\n",
              "KyarunubtHTpi+mrFmLY27H2l8Xwvmm2h8wL76iDN2o0+C8XV1v4mZDyUipztirlRCSIDWFh3SjG\n",
              "x+0vaBS8kxpWt3yxb8Lt3d2Q1SXoXda0tEpXP+Ft8zcPz6dnkmm4t9p8t1U0BuGN+kKfCHx/ax+E\n",
              "IQJ7ChXpmdzIpcWEfEVzOyFZsFSi7MA9z7yRbeFtYvGyVs+z7U/wNDnEQlHczkL0L2O3WFWSoDHf\n",
              "uBNZU5/re8jSe4Cm12Y98w3iC7/jeA+RmbtHnZ5pDpddw/qI3N6hxj8/ZwQgKgTqzR5ZEF0qzZmJ\n",
              "vhG2+fBemenrZIA1utsYCYNl7tFXrNNfuT0glLAp2bZKn09n4TBHITvmATRW0dWtf/MGDJKrf7vV\n",
              "k5WK4pLdUWB7UfXgtTd+aj/MCbGO10obn5dEsPgWlB4njj4VLC66x5bTjHLwCdj6ouQz4vEjbkyn\n",
              "zP/N8da8/xwTmH1ynMZkE8tXm7QOBULnqIxpIw6zPkU6XqrlIZL55qVqDjjT6VU7Qmt8mtUtXX5r\n",
              "XilVu/JbhampofXHf2gAWQKiI/KRJh3Kow9r3CtCuyAAJd5olyc4Bbken/QuUdAHf2/voJQJb3U9\n",
              "68PYldJFdpurt/WBLzPs6yHpaly8WlMtOGnZ9z3qQDNakvKKLUiCpZGHWUb6/GEC3tbtQXy12NOT\n",
              "/dpvrrMK6ABmUjOg4w9Rmy+290AE50+rDtE/iRpgofD9RQAuuecXec9EYPNNfWTtzRKd5nOc1D1Q\n",
              "HC4uIMA1JPC6bR/ID1qwpbz3n8rxRuWNZNYimr7OCsJfXUX5N/YfEGzd91KgltAxSiw1VQyRch4G\n",
              "MyA88l/agi5R5uNRYIOA5FzFv649criAdK6Lt4bDETz49/e1PQPQYJ1nLYoe4uN5oomU56wgTUuh\n",
              "aRX6C6h48AIfR/uJ/5JH31dHR4GBpXxM+ILJ5cTeDbeTDLdBwvnU2LL2zV7SwkU1kBmM+HYFHXfu\n",
              "b9EBI9dGKQf/opb0W23t9fThbcKYlie+c9NRHIx5cpwX7z2epmdCBKlu/Fn67/rjFbUnxdppV80W\n",
              "Y4LcPIIfDI1piO2eJhUJcHMQKv8pQgxU2CEwILL/Twl1Iib5FKZS6JGJrKgNFTg/XyuTW04kg8/N\n",
              "vegbVOFmSuqI+76SX+oHlHPAzlLpw+Lnq0WkEbouUauSeUDZlq4haSyXWH5ttNWhScKnCfY7t2Uv\n",
              "4UCCM1m0eJMvrYthx77NY3sJapYLRk8Rd2gY0LfqTKDCH8JkpkYAAAMAc+5NnLYEy91M6WyEA3O2\n",
              "6SEjSrg7Ue9jIRGaxz2Ay4FuakEET7sf48wiOgJ2JHmvt+oyujwjWpnSHaroKrBMvG7LISI+XMi5\n",
              "0I1dhE4wgqgADTB7L18tgQZWi0waVbs0HGZOJ1p1sVDOz+T5Zt8jLeWxOQDeABEDwxT6H7MLhEkP\n",
              "bJHqRuHbHQQs1Zt9qE4ApUDm82HOGk0ZnDQIOnoXtzkfMmfWfaG/tXIbb1EHKtcqBPgJsDdntuM3\n",
              "3Cl2siR3Bgj5dCrxB8b27mMWehrErCydulLzsMp2i2WDNbprMCAZVykeYVA5mYlagdIYOKOg+aaQ\n",
              "qx2eTLtGqtg25mldwVwQD+m3mCRk4PzfDwwQKlPI1zs/qmsnm1XAWRtVI95GZdyR4Lu9BUhj6Bss\n",
              "cB1IUGyAZNd2FVV4RU7mCkB8Ziy7Rs6/4QyzkWiMd88GEeKP/5FgUtmbwktFw9YEpXl/LN+FSCLi\n",
              "vBdS4NV9Sn4RUkNRUih8sBgqt0rKOX1/h3F8PwjTVBv5jeBLPphk9z+xt3kYZECahgQm+o0K2MKA\n",
              "gYtPOCkzETk/UHJx6ba3MErUvZAbj+PUft+gp/9nCnO9tabf6qf3wyzpcE7RiZdjmbzHmKs3FkfO\n",
              "buUGmYA8MSzemQbg3Vvx1EGTpOqz1mLDnp6fDHj1nKizA/LEP7P3NxzmSKFtUheaXGrIj+cfr0kP\n",
              "vmwf3iUdew7DJhl0kJQ6/BgQglKNfdiR9up1V7Rq+FfRvGY5nhvB8B0ezFTQnlvupFs7EiEy1hsw\n",
              "dKaYDEudPeDC5BzesDxIILtXJ2kSEvXv82x7Z+d70viLlViiu0SOq2zYJEWr62fueef/7OIbwQRa\n",
              "0CdUwmzADCsofGaIXfmCVdcqL1wsuIlfn5+IRUAXL8C9T7BznqTFHtTQ2fhJPn9VxH+P/A+o6zeG\n",
              "P2/1DtU/e+WBRJANxqa6hiDMmc4lYabAi83clTWX9UI4Nn9HOw4vk0HnboPfOdn6mb3zX4/ts8UW\n",
              "k1VgH529nh//xfIaL+8ZvpmNAUnrxVaUZ+SAiqSfyditSg0N8Bbh+WYByK1M75qA1GnP3HDegNZO\n",
              "5KRq637yfp9l4SVLvdAqMByPYvchztzSY/yi+KJVb5Ok4hdBGSdS2xVcnB5Qch7BwRmjinhX5xB1\n",
              "z0X0a0Xo4pVdJ4ZM/pOd9cSitotbMQAGeKEaCDJ3vcTR8Gar4Qn4fFQcAQrhJzbPEQmsucpZWxnc\n",
              "2ZmleJnkV412XXTDDqRV6QgKu2387NXnqHsZNoXeC6oKW6acWfmVPgF5RMr8X5tnlfNSp8KYVB44\n",
              "Bm+CTcwhc9jDquoSOFjYsNXisYJ1RR/mYjNo1Gec/sm+3MrYrP3b7JGAYZSjNoovSOMmZ1+eu8/6\n",
              "Skfp5y+nIQUwvwbYdJucHThex+Uxoq0pRRvF2vLHgyoEDGRNRIz5SuV0l7xT97QZqcvcrQLhDpfw\n",
              "DTbrisBMmwyldZcR4dTfWAnnsS3QGpfj96hSjPEwZSbO1ShXPAnCcZPV9BO14jTuEw6G7i28ISMy\n",
              "8+k1+nmV+KP1B5W9gqZjeq6Vp2mqvcJ3BFp8+osrpq4Di03qJ3OZ9eEtcwds3yPx1FZnMOl7CxKT\n",
              "BxyKm89lL0Nil/2QrJWWkpIRAtzUJ8tht+xhKUg5zv9wBskNsJq6X7rC6wfViwXTA6qcqWtxDrQQ\n",
              "aPgZ7JWO/upWnTamhK8RZtn39Zdy/iZhZqJjix4LxqH7A4gg2k8snqCYb0eAXgmtQB8/G5v6IR5v\n",
              "A4+/EPVvJIxIfG6T+uVd/5gOH5AC+gDkuyX7khtFjsKM4h7wTY8xrLmjkrvWWok6OqaeiirvT4Oy\n",
              "OG1zn8FSMW2gJ43E7v0QxeknA1HCANyEdB6pM84HJpAkQpg9e3D2gR4eACSWy7W6ZryMQ+aQ9GXF\n",
              "iSlgcOE+6AG1RTIa/HWW4iI/zejDVV3oMyU1o2ahU17wCNTvC4Eax+ZJ8QFUM4qajZ6sKzjUNFib\n",
              "IPJtZpI/3bId33VEOjDXWae1OPRUYpJBnvs0EHzjlAa++ICGQw744y2bUTaes1MusgBEhktXHWBE\n",
              "7FAI/s2amXWQDftYKX+azuXzJ0iuPu8i4b8MfYukoK1ufesX/3sHxvp+bQt/qwp7rKloWxy3dZV8\n",
              "2rrMvlBW3L3E2Rmas3iezzTsvmCP2ENxB1BD/Z9GMLrZIt7SencoowEuIct6p19L3mpfMkBoaULU\n",
              "M8jyaVufhsQ8fWoDFBOhGPjkfNgbV+eS6ZpMC5m1y740q3muYkIfFzm+whm08ryf/uIEz5luWPwU\n",
              "AVGhNswyC1l9xTSMULBgL0I84RfQXYptD+cusBM1s/bFYUXFmfPArK44u9cJMZ85XLubsMtf2C36\n",
              "Qn/QPpsYewtTQddT/bYrOeWv2lZoBba84rzAfOGda1aPivxrLK1TbGGnRcFfAndaiY6J48zYG7jW\n",
              "eDshu3lyG6iIvlfig5qybwuGN3TfLHNDjRbJq0VyYb1vsq4emR9wdTqMuviGLfJtTycNHlAZiEmZ\n",
              "zbVb5jPwiJ9mhZQsEHNBb1ijYn+D9FLU1nio6EIuQZ4KXWXrGG9tJt4H5yJN907VXweHw6KSzjzc\n",
              "y/Rk5mMrgvIQL3zGjYyv2bNeb4RpglgIufZpmYhBM6pY5uLzOHjZa5LmezKeBkposvU6cvb6gv41\n",
              "xrKwt4HY8k/bNzRMQ1zv56vtovJglZOZD3M2PV8CDLkVTR2JyGUqS8uSNHhE1or0olgU+71g9pZv\n",
              "mVsLbun5OW30nV33iX9llgKCWOB/fzBs5ZQdFReLSskug/104T1NQQrJpS0qjPvEgf3evbS3YTuQ\n",
              "wNg/z1DRYiYyKMS+oW2GjQZ46h7K0PVjKW/AvsKBrJ76ev4HUvb0cPbD8rgfqB40NCqjITd4Jm3M\n",
              "+BbkfdnA7+EtuWAKkgcsH70ej2w6Ware71qq0DIofM0JCkKxxFDzMJlnWQfEz8PMRpICoTp60OX8\n",
              "0rLfX+QXz6a7cNggk7TShTZ+2GsWR96J7//Dc5qJpgW20snKKk+ZJB/696kcv0BFhfdszI/OXHNm\n",
              "KvTn7fQ7BfO4KzCKqJCeNmbds9uEobSblpE6xfan1tfh81NmQJ5avjdz7NCd+9z9t/W+tMPND9Kk\n",
              "qXjcoU7yn5gte8WfOOE8vm22NQiOqOieXVRCUjluSn0kOrf2WmCj/fh2k6LB/EIJyKHAFwADLwAA\n",
              "AMpBmiRsQU/+1oywADuvTYoAvU4TX0OIsbpKsQfKlTVNr0k/A9M7azB9Sx94BinrQ+4O3M++fF+Q\n",
              "aaSpGEYXOKmsZrAu6lyMx8bzXFyN9iNCsUaBONDXtfTtgI8hSlMa/aIRcdUQENQeJLqYk+Q/DmfA\n",
              "nuqRmol3rbyccLs72pBQtrjMqpxZ6AlKr6AzgyGVjDonaBVv9H5HaTxfwb4qf84QQyAGVyoinLYF\n",
              "7rTwxQCzYu5l6ZGj90iRe2YqaEvlma+kobXNP372uoUQAAAAHkGeQniCHwAAAwJKh7wRcQu31xKO\n",
              "lyPRuYNP5ToGcQAAAB4BnmF0Q/8AAAUcXBKkmUXVVV1TZPHhtgIzfrrOLsAAAAAMAZ5jakP/AAAD\n",
              "AFbBAAAAIUGaaEmoQWiZTAgp//7WjLAABOHHWAAKw6jMz5VVRUElpQAAABFBnoZFESwQ/wAAAwCa\n",
              "t27S1QAAAAwBnqV0Q/8AAAMAVsEAAAAMAZ6nakP/AAADAFbAAAAAHEGarEmoQWyZTAgp//7WjLAA\n",
              "BOHHWAAKtDpLW0AAAAARQZ7KRRUsEP8AAAMAmrdu0tUAAAAMAZ7pdEP/AAADAFbAAAAADAGe62pD\n",
              "/wAAAwBWwAAAABxBmvBJqEFsmUwIKf/+1oywAAThx1gACsOoy1tBAAAAEUGfDkUVLBD/AAADAJq3\n",
              "btLVAAAADAGfLXRD/wAAAwBWwQAAAAwBny9qQ/8AAAMAVsAAAAAcQZs0SahBbJlMCCn//taMsAAE\n",
              "4cdYAAq0OktbQAAAABFBn1JFFSwQ/wAAAwCat27S1QAAAAwBn3F0Q/8AAAMAVsAAAAAMAZ9zakP/\n",
              "AAADAFbAAAAAHEGbeEmoQWyZTAgp//7WjLAABOHHWAAKw6jLW0EAAAARQZ+WRRUsEP8AAAMAmrdu\n",
              "0tUAAAAMAZ+1dEP/AAADAFbBAAAADAGft2pD/wAAAwBWwQAAABxBm7xJqEFsmUwIKf/+1oywAATh\n",
              "x1gACrQ6S1tAAAAAEUGf2kUVLBD/AAADAJq3btLVAAAADAGf+XRD/wAAAwBWwAAAAAwBn/tqQ/8A\n",
              "AAMAVsEAAAAcQZvgSahBbJlMCCn//taMsAAE4cdYAArDqMtbQQAAABFBnh5FFSwQ/wAAAwCat27S\n",
              "1QAAAAwBnj10Q/8AAAMAVsAAAAAMAZ4/akP/AAADAFbBAAAAHEGaJEmoQWyZTAgp//7WjLAABOHH\n",
              "WAAKtDpLW0AAAAARQZ5CRRUsEP8AAAMAmrdu0tUAAAAMAZ5hdEP/AAADAFbAAAAADAGeY2pD/wAA\n",
              "AwBWwQAAABRBmmhJqEFsmUwIKf/+1oywAAAH3QAAABFBnoZFFSwQ/wAAAwCat27S1QAAAAwBnqV0\n",
              "Q/8AAAMAVsEAAAAMAZ6nakP/AAADAFbAAAAAFEGarEmoQWyZTAgp//7WjLAAAAfcAAAAEUGeykUV\n",
              "LBD/AAADAJq3btLVAAAADAGe6XRD/wAAAwBWwAAAAAwBnutqQ/8AAAMAVsAAAAAUQZrwSahBbJlM\n",
              "CCn//taMsAAAB90AAAARQZ8ORRUsEP8AAAMAmrdu0tUAAAAMAZ8tdEP/AAADAFbBAAAADAGfL2pD\n",
              "/wAAAwBWwAAAABRBmzRJqEFsmUwIKf/+1oywAAAH3AAAABFBn1JFFSwQ/wAAAwCat27S1QAAAAwB\n",
              "n3F0Q/8AAAMAVsAAAAAMAZ9zakP/AAADAFbAAAAAFEGbeEmoQWyZTAgp//7WjLAAAAfdAAAAEUGf\n",
              "lkUVLBD/AAADAJq3btLVAAAADAGftXRD/wAAAwBWwQAAAAwBn7dqQ/8AAAMAVsEAAAAUQZu8SahB\n",
              "bJlMCCn//taMsAAAB9wAAAARQZ/aRRUsEP8AAAMAmrdu0tUAAAAMAZ/5dEP/AAADAFbAAAAADAGf\n",
              "+2pD/wAAAwBWwQAAABRBm+BJqEFsmUwIKf/+1oywAAAH3QAAABFBnh5FFSwQ/wAAAwCat27S1QAA\n",
              "AAwBnj10Q/8AAAMAVsAAAAAMAZ4/akP/AAADAFbBAAAAHEGaJEmoQWyZTAgp//7WjLAABOHHWAAK\n",
              "w6jLW0AAAAARQZ5CRRUsEP8AAAMAmrdu0tUAAAAMAZ5hdEP/AAADAFbAAAAADAGeY2pD/wAAAwBW\n",
              "wQAAABxBmmhJqEFsmUwIKf/+1oywAAThx1gACrQ6S1tBAAAAEUGehkUVLBD/AAADAJq3btLVAAAA\n",
              "DAGepXRD/wAAAwBWwQAAAAwBnqdqQ/8AAAMAVsAAAAAcQZqsSahBbJlMCCn//taMsAAE4cdYAArD\n",
              "qMtbQAAAABFBnspFFSwQ/wAAAwCat27S1QAAAAwBnul0Q/8AAAMAVsAAAAAMAZ7rakP/AAADAFbA\n",
              "AAAAHEGa8EmoQWyZTAgp//7WjLAABOHHWAAKtDpLW0EAAAARQZ8ORRUsEP8AAAMAmrdu0tUAAAAM\n",
              "AZ8tdEP/AAADAFbBAAAADAGfL2pD/wAAAwBWwAAAABtBmzRJqEFsmUwIJ//+tSqAABMHBbgAU5eU\n",
              "LaAAAAARQZ9SRRUsEP8AAAMAmrdu0tUAAAAMAZ9xdEP/AAADAFbAAAAADAGfc2pD/wAAAwBWwAAA\n",
              "ABRBm3hJqEFsmUwIJ//+tSqAAAAesQAAABFBn5ZFFSwQ/wAAAwCat27S1QAAAAwBn7V0Q/8AAAMA\n",
              "VsEAAAAMAZ+3akP/AAADAFbBAAAAFEGbvEmoQWyZTAgn//61KoAAAB6wAAAAEUGf2kUVLBD/AAAD\n",
              "AJq3btLVAAAADAGf+XRD/wAAAwBWwAAAAAwBn/tqQ/8AAAMAVsEAAAAUQZvgSahBbJlMCCX//rUq\n",
              "gAAAHrEAAAARQZ4eRRUsEP8AAAMAmrdu0tUAAAAMAZ49dEP/AAADAFbAAAAADAGeP2pD/wAAAwBW\n",
              "wQAAABVBmiNJqEFsmUwIf//+qZYAAAMA8IAAAAARQZ5BRRUsEP8AAAMAmrdu0tUAAAAMAZ5iakP/\n",
              "AAADAFbAAAAH1m1vb3YAAABsbXZoZAAAAAAAAAAAAAAAAAAAA+gAAE4gAAEAAAEAAAAAAAAAAAAA\n",
              "AAABAAAAAAAAAAAAAAAAAAAAAQAAAAAAAAAAAAAAAAAAQAAAAAAAAAAAAAAAAAAAAAAAAAAAAAAA\n",
              "AAAAAAAAAAIAAAcAdHJhawAAAFx0a2hkAAAAAwAAAAAAAAAAAAAAAQAAAAAAAE4gAAAAAAAAAAAA\n",
              "AAAAAAAAAAABAAAAAAAAAAAAAAAAAAAAAQAAAAAAAAAAAAAAAAAAQAAAAAGwAAABIAAAAAAAJGVk\n",
              "dHMAAAAcZWxzdAAAAAAAAAABAABOIAAAEAAAAQAAAAAGeG1kaWEAAAAgbWRoZAAAAAAAAAAAAAAA\n",
              "AAAAKAAAAyAAVcQAAAAAAC1oZGxyAAAAAAAAAAB2aWRlAAAAAAAAAAAAAAAAVmlkZW9IYW5kbGVy\n",
              "AAAABiNtaW5mAAAAFHZtaGQAAAABAAAAAAAAAAAAAAAkZGluZgAAABxkcmVmAAAAAAAAAAEAAAAM\n",
              "dXJsIAAAAAEAAAXjc3RibAAAALNzdHNkAAAAAAAAAAEAAACjYXZjMQAAAAAAAAABAAAAAAAAAAAA\n",
              "AAAAAAAAAAGwASAASAAAAEgAAAAAAAAAAQAAAAAAAAAAAAAAAAAAAAAAAAAAAAAAAAAAAAAAAAAA\n",
              "ABj//wAAADFhdmNDAWQAFf/hABhnZAAVrNlBsJaEAAADAAQAAAMAKDxYtlgBAAZo6+PLIsAAAAAc\n",
              "dXVpZGtoQPJfJE/FujmlG88DI/MAAAAAAAAAGHN0dHMAAAAAAAAAAQAAAGQAAAgAAAAAFHN0c3MA\n",
              "AAAAAAAAAQAAAAEAAAMoY3R0cwAAAAAAAABjAAAAAQAAEAAAAAABAAAoAAAAAAEAABAAAAAAAQAA\n",
              "AAAAAAABAAAIAAAAAAEAACgAAAAAAQAAEAAAAAABAAAAAAAAAAEAAAgAAAAAAQAAKAAAAAABAAAQ\n",
              "AAAAAAEAAAAAAAAAAQAACAAAAAABAAAoAAAAAAEAABAAAAAAAQAAAAAAAAABAAAIAAAAAAEAACgA\n",
              "AAAAAQAAEAAAAAABAAAAAAAAAAEAAAgAAAAAAQAAKAAAAAABAAAQAAAAAAEAAAAAAAAAAQAACAAA\n",
              "AAABAAAoAAAAAAEAABAAAAAAAQAAAAAAAAABAAAIAAAAAAEAACgAAAAAAQAAEAAAAAABAAAAAAAA\n",
              "AAEAAAgAAAAAAQAAKAAAAAABAAAQAAAAAAEAAAAAAAAAAQAACAAAAAABAAAoAAAAAAEAABAAAAAA\n",
              "AQAAAAAAAAABAAAIAAAAAAEAACgAAAAAAQAAEAAAAAABAAAAAAAAAAEAAAgAAAAAAQAAKAAAAAAB\n",
              "AAAQAAAAAAEAAAAAAAAAAQAACAAAAAABAAAoAAAAAAEAABAAAAAAAQAAAAAAAAABAAAIAAAAAAEA\n",
              "ACgAAAAAAQAAEAAAAAABAAAAAAAAAAEAAAgAAAAAAQAAKAAAAAABAAAQAAAAAAEAAAAAAAAAAQAA\n",
              "CAAAAAABAAAoAAAAAAEAABAAAAAAAQAAAAAAAAABAAAIAAAAAAEAACgAAAAAAQAAEAAAAAABAAAA\n",
              "AAAAAAEAAAgAAAAAAQAAKAAAAAABAAAQAAAAAAEAAAAAAAAAAQAACAAAAAABAAAoAAAAAAEAABAA\n",
              "AAAAAQAAAAAAAAABAAAIAAAAAAEAACgAAAAAAQAAEAAAAAABAAAAAAAAAAEAAAgAAAAAAQAAKAAA\n",
              "AAABAAAQAAAAAAEAAAAAAAAAAQAACAAAAAABAAAoAAAAAAEAABAAAAAAAQAAAAAAAAABAAAIAAAA\n",
              "AAEAACgAAAAAAQAAEAAAAAABAAAAAAAAAAEAAAgAAAAAAQAAKAAAAAABAAAQAAAAAAEAAAAAAAAA\n",
              "AQAACAAAAAABAAAgAAAAAAIAAAgAAAAAHHN0c2MAAAAAAAAAAQAAAAEAAABkAAAAAQAAAaRzdHN6\n",
              "AAAAAAAAAAAAAABkAAAQvgAAAM4AAAAiAAAAIgAAABAAAAAlAAAAFQAAABAAAAAQAAAAIAAAABUA\n",
              "AAAQAAAAEAAAACAAAAAVAAAAEAAAABAAAAAgAAAAFQAAABAAAAAQAAAAIAAAABUAAAAQAAAAEAAA\n",
              "ACAAAAAVAAAAEAAAABAAAAAgAAAAFQAAABAAAAAQAAAAIAAAABUAAAAQAAAAEAAAABgAAAAVAAAA\n",
              "EAAAABAAAAAYAAAAFQAAABAAAAAQAAAAGAAAABUAAAAQAAAAEAAAABgAAAAVAAAAEAAAABAAAAAY\n",
              "AAAAFQAAABAAAAAQAAAAGAAAABUAAAAQAAAAEAAAABgAAAAVAAAAEAAAABAAAAAgAAAAFQAAABAA\n",
              "AAAQAAAAIAAAABUAAAAQAAAAEAAAACAAAAAVAAAAEAAAABAAAAAgAAAAFQAAABAAAAAQAAAAHwAA\n",
              "ABUAAAAQAAAAEAAAABgAAAAVAAAAEAAAABAAAAAYAAAAFQAAABAAAAAQAAAAGAAAABUAAAAQAAAA\n",
              "EAAAABkAAAAVAAAAEAAAABRzdGNvAAAAAAAAAAEAAAAsAAAAYnVkdGEAAABabWV0YQAAAAAAAAAh\n",
              "aGRscgAAAAAAAAAAbWRpcmFwcGwAAAAAAAAAAAAAAAAtaWxzdAAAACWpdG9vAAAAHWRhdGEAAAAB\n",
              "AAAAAExhdmY1Ny44My4xMDA=\n",
              "\">\n",
              "  Your browser does not support the video tag.\n",
              "</video>"
            ],
            "text/plain": [
              "<IPython.core.display.HTML object>"
            ]
          },
          "metadata": {
            "tags": []
          },
          "execution_count": 41
        }
      ]
    }
  ]
}