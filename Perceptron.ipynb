{
  "nbformat": 4,
  "nbformat_minor": 0,
  "metadata": {
    "colab": {
      "name": "Perceptron.ipynb",
      "provenance": [],
      "authorship_tag": "ABX9TyMwONOA+YjVi7eNb54mdva3",
      "include_colab_link": true
    },
    "kernelspec": {
      "name": "python3",
      "display_name": "Python 3"
    }
  },
  "cells": [
    {
      "cell_type": "markdown",
      "metadata": {
        "id": "view-in-github",
        "colab_type": "text"
      },
      "source": [
        "<a href=\"https://colab.research.google.com/github/anubhavgupta1/Udacity/blob/main/Perceptron.ipynb\" target=\"_parent\"><img src=\"https://colab.research.google.com/assets/colab-badge.svg\" alt=\"Open In Colab\"/></a>"
      ]
    },
    {
      "cell_type": "code",
      "metadata": {
        "colab": {
          "base_uri": "https://localhost:8080/"
        },
        "id": "oOyNjalRV7G_",
        "outputId": "a9bc3169-2638-4da8-9ca6-740ca4349842"
      },
      "source": [
        "!ls\r\n",
        "!apt-get install -y -qq software-properties-common python-software-properties module-init-tools\r\n",
        "!add-apt-repository -y ppa:alessandro-strada/ppa 2>&1 > /dev/null\r\n",
        "!apt-get update -qq 2>&1 > /dev/null\r\n",
        "!apt-get -y install -qq google-drive-ocamlfuse fuse\r\n",
        "from google.colab import auth\r\n",
        "auth.authenticate_user()\r\n",
        "from oauth2client.client import GoogleCredentials\r\n",
        "creds = GoogleCredentials.get_application_default()\r\n",
        "import getpass\r\n",
        "!google-drive-ocamlfuse -headless -id={creds.client_id} -secret={creds.client_secret} < /dev/null 2>&1 | grep URL\r\n",
        "vcode = getpass.getpass()\r\n",
        "!echo {vcode} | google-drive-ocamlfuse -headless -id={creds.client_id} -secret={creds.client_secret}\r\n",
        "\r\n",
        "\r\n",
        "!mkdir -p drive\r\n",
        "!google-drive-ocamlfuse drive\r\n",
        "\r\n",
        "import os\r\n",
        "os.chdir(\"drive/Udacity/Dataset/\")\r\n",
        "!ls"
      ],
      "execution_count": 1,
      "outputs": [
        {
          "output_type": "stream",
          "text": [
            "sample_data\n",
            "E: Package 'python-software-properties' has no installation candidate\n",
            "Selecting previously unselected package google-drive-ocamlfuse.\n",
            "(Reading database ... 144865 files and directories currently installed.)\n",
            "Preparing to unpack .../google-drive-ocamlfuse_0.7.23-0ubuntu1~ubuntu18.04.1_amd64.deb ...\n",
            "Unpacking google-drive-ocamlfuse (0.7.23-0ubuntu1~ubuntu18.04.1) ...\n",
            "Setting up google-drive-ocamlfuse (0.7.23-0ubuntu1~ubuntu18.04.1) ...\n",
            "Processing triggers for man-db (2.8.3-2ubuntu0.1) ...\n",
            "Please, open the following URL in a web browser: https://accounts.google.com/o/oauth2/auth?client_id=32555940559.apps.googleusercontent.com&redirect_uri=urn%3Aietf%3Awg%3Aoauth%3A2.0%3Aoob&scope=https%3A%2F%2Fwww.googleapis.com%2Fauth%2Fdrive&response_type=code&access_type=offline&approval_prompt=force\n",
            "··········\n",
            "Please, open the following URL in a web browser: https://accounts.google.com/o/oauth2/auth?client_id=32555940559.apps.googleusercontent.com&redirect_uri=urn%3Aietf%3Awg%3Aoauth%3A2.0%3Aoob&scope=https%3A%2F%2Fwww.googleapis.com%2Fauth%2Fdrive&response_type=code&access_type=offline&approval_prompt=force\n",
            "Please enter the verification code: Access token retrieved correctly.\n",
            "perceptron.csv\n"
          ],
          "name": "stdout"
        }
      ]
    },
    {
      "cell_type": "code",
      "metadata": {
        "id": "5IIVaGyqXZWm"
      },
      "source": [
        "import numpy as np\r\n",
        "import pandas as pd"
      ],
      "execution_count": 2,
      "outputs": []
    },
    {
      "cell_type": "code",
      "metadata": {
        "colab": {
          "base_uri": "https://localhost:8080/"
        },
        "id": "NOxzYSWkXA9y",
        "outputId": "66eaf9ec-cac7-4fb7-d677-554c4f31ef82"
      },
      "source": [
        "data = pd.read_csv('perceptron.csv', header=None)\r\n",
        "X = np.array(data[[0,1]])\r\n",
        "y = np.array(data[2])\r\n",
        "print(X.shape)\r\n",
        "print(y.shape)"
      ],
      "execution_count": 3,
      "outputs": [
        {
          "output_type": "stream",
          "text": [
            "(100, 2)\n",
            "(100,)\n"
          ],
          "name": "stdout"
        }
      ]
    },
    {
      "cell_type": "code",
      "metadata": {
        "id": "EI2UMbnXL7eH"
      },
      "source": [
        "\r\n",
        "# Setting the random seed, feel free to change it and see different solutions.\r\n",
        "np.random.seed(42)\r\n",
        "\r\n",
        "def stepFunction(t):\r\n",
        "    if t >= 0:\r\n",
        "        return 1\r\n",
        "    return 0\r\n",
        "\r\n",
        "def prediction(X, W, b):\r\n",
        "    return stepFunction((np.matmul(X,W)+b)[0])\r\n",
        "\r\n",
        "# TODO: Fill in the code below to implement the perceptron trick.\r\n",
        "# The function should receive as inputs the data X, the labels y,\r\n",
        "# the weights W (as an array), and the bias b,\r\n",
        "# update the weights and bias W, b, according to the perceptron algorithm,\r\n",
        "# and return W and b.\r\n",
        "def perceptronStep(X, y, W, b, learn_rate = 0.01):\r\n",
        "    for i in range(len(X)):\r\n",
        "        y_hat = prediction(X[i],W,b)\r\n",
        "        if y[i]-y_hat == 1:\r\n",
        "            W[0] += X[i][0]*learn_rate\r\n",
        "            W[1] += X[i][1]*learn_rate\r\n",
        "            b += learn_rate\r\n",
        "        elif y[i]-y_hat == -1:\r\n",
        "            W[0] -= X[i][0]*learn_rate\r\n",
        "            W[1] -= X[i][1]*learn_rate\r\n",
        "            b -= learn_rate\r\n",
        "    return W, b\r\n",
        "    \r\n",
        "# This function runs the perceptron algorithm repeatedly on the dataset,\r\n",
        "# and returns a few of the boundary lines obtained in the iterations,\r\n",
        "# for plotting purposes.\r\n",
        "# Feel free to play with the learning rate and the num_epochs,\r\n",
        "# and see your results plotted below.\r\n",
        "def trainPerceptronAlgorithm(X, y, learn_rate = 0.01, num_epochs = 100):\r\n",
        "    x_min, x_max = min(X.T[0]), max(X.T[0])\r\n",
        "    y_min, y_max = min(X.T[1]), max(X.T[1])\r\n",
        "    W = np.array(np.random.rand(2,1))\r\n",
        "    b = np.random.rand(1)[0] + x_max\r\n",
        "    # These are the solution lines that get plotted below.\r\n",
        "    boundary_lines = []\r\n",
        "    for i in range(num_epochs):\r\n",
        "        # In each epoch, we apply the perceptron step.\r\n",
        "        W, b = perceptronStep(X, y, W, b, learn_rate)\r\n",
        "        boundary_lines.append((-W[0]/W[1], -b/W[1]))\r\n",
        "    return boundary_lines"
      ],
      "execution_count": 4,
      "outputs": []
    }
  ]
}