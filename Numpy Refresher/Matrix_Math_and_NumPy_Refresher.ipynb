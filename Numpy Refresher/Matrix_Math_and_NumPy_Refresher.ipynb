{
  "nbformat": 4,
  "nbformat_minor": 0,
  "metadata": {
    "colab": {
      "name": "1_Matrix Math and NumPy Refresher.ipynb",
      "provenance": [],
      "authorship_tag": "ABX9TyOsJIhjSSvJx7yDMGEuZjOO",
      "include_colab_link": true
    },
    "kernelspec": {
      "name": "python3",
      "display_name": "Python 3"
    }
  },
  "cells": [
    {
      "cell_type": "markdown",
      "metadata": {
        "id": "view-in-github",
        "colab_type": "text"
      },
      "source": [
        "<a href=\"https://colab.research.google.com/github/anubhavgupta1/Udacity/blob/main/1_Matrix_Math_and_NumPy_Refresher.ipynb\" target=\"_parent\"><img src=\"https://colab.research.google.com/assets/colab-badge.svg\" alt=\"Open In Colab\"/></a>"
      ]
    },
    {
      "cell_type": "code",
      "metadata": {
        "id": "pwrVNnOZhvCN"
      },
      "source": [
        "import numpy as np "
      ],
      "execution_count": 1,
      "outputs": []
    },
    {
      "cell_type": "markdown",
      "metadata": {
        "id": "wolx11WWjzEo"
      },
      "source": [
        "#**Matrix Math and NumPy Refresher**"
      ]
    },
    {
      "cell_type": "markdown",
      "metadata": {
        "id": "dNFiC9gCj-Fo"
      },
      "source": [
        "##**Scalors**"
      ]
    },
    {
      "cell_type": "code",
      "metadata": {
        "colab": {
          "base_uri": "https://localhost:8080/"
        },
        "id": "3gz4Gabghz0S",
        "outputId": "0f4557b4-7ec8-4286-b836-03ebb744eb2b"
      },
      "source": [
        "s = np.array(5)\r\n",
        "print(\"np.array(5) gives us scalor : \",s)\r\n",
        "print(\"The shape of scalor is : \",s.shape)"
      ],
      "execution_count": 2,
      "outputs": [
        {
          "output_type": "stream",
          "text": [
            "np.array(5) gives us scalor :  5\n",
            "The shape of scalor is :  ()\n"
          ],
          "name": "stdout"
        }
      ]
    },
    {
      "cell_type": "markdown",
      "metadata": {
        "id": "2dZ8uZezlLoy"
      },
      "source": [
        "###**Scalor Addition**"
      ]
    },
    {
      "cell_type": "code",
      "metadata": {
        "colab": {
          "base_uri": "https://localhost:8080/"
        },
        "id": "cMQVgHCSh5-T",
        "outputId": "8b1f2681-9515-4bf2-cf58-5ab35ab77b2b"
      },
      "source": [
        "x = s + 3\r\n",
        "print(\"s + 3 : \",x)"
      ],
      "execution_count": 3,
      "outputs": [
        {
          "output_type": "stream",
          "text": [
            "s + 3 :  8\n"
          ],
          "name": "stdout"
        }
      ]
    },
    {
      "cell_type": "markdown",
      "metadata": {
        "id": "omuxMi2llmit"
      },
      "source": [
        "##**Vectors**"
      ]
    },
    {
      "cell_type": "code",
      "metadata": {
        "colab": {
          "base_uri": "https://localhost:8080/"
        },
        "id": "yNRoAwJNh8Lf",
        "outputId": "b136fecb-1fba-4668-bafa-2be656dfc24b"
      },
      "source": [
        "v = np.array([1,2,3])\r\n",
        "print(\"v = np.array([1,2,3]) gives us vetor v : \",v)\r\n",
        "print(\"The shape of vector v is : \",v.shape)\r\n",
        "print(\"v[1] returns us scalor : \",v[1])\r\n",
        "print(\"Slicing the numpy vector : \",v[1:])"
      ],
      "execution_count": 4,
      "outputs": [
        {
          "output_type": "stream",
          "text": [
            "v = np.array([1,2,3]) gives us vetor v :  [1 2 3]\n",
            "The shape of vector v is :  (3,)\n",
            "v[1] returns us scalor :  2\n",
            "Slicing the numpy vector :  [2 3]\n"
          ],
          "name": "stdout"
        }
      ]
    },
    {
      "cell_type": "markdown",
      "metadata": {
        "id": "6_XdC6BLm0ln"
      },
      "source": [
        "##**Matrices**"
      ]
    },
    {
      "cell_type": "code",
      "metadata": {
        "colab": {
          "base_uri": "https://localhost:8080/"
        },
        "id": "Dx25vHItiVIz",
        "outputId": "e0182f51-4559-4e81-9274-90b1fd7510f8"
      },
      "source": [
        "m = np.array([v,v+3,v+6])\r\n",
        "print(\"Matrix is vector of vector : \\n\",m)\r\n",
        "print(\"The shape of matrix is : \", m.shape)\r\n",
        "print(\"m[1][2] returns us scalor : \",m[1][2])"
      ],
      "execution_count": 5,
      "outputs": [
        {
          "output_type": "stream",
          "text": [
            "Matrix is vector of vector : \n",
            " [[1 2 3]\n",
            " [4 5 6]\n",
            " [7 8 9]]\n",
            "The shape of matrix is :  (3, 3)\n",
            "m[1][2] returns us scalor :  6\n"
          ],
          "name": "stdout"
        }
      ]
    },
    {
      "cell_type": "markdown",
      "metadata": {
        "id": "A4--V61PpvTw"
      },
      "source": [
        "##**Tensor**"
      ]
    },
    {
      "cell_type": "code",
      "metadata": {
        "id": "pKhPKrbuiisx"
      },
      "source": [
        "t = np.array([\r\n",
        "              [\r\n",
        "                  [\r\n",
        "                      [1,2],[3,4]\r\n",
        "                  ],\r\n",
        "                  [\r\n",
        "                      [5,6],[7,8]\r\n",
        "                  ]\r\n",
        "              ],\r\n",
        "              [\r\n",
        "                  [\r\n",
        "                      [9,10],[11,12]\r\n",
        "                  ],\r\n",
        "                  [\r\n",
        "                      [13,14],[15,16]\r\n",
        "                  ]\r\n",
        "              ]\r\n",
        "])"
      ],
      "execution_count": 6,
      "outputs": []
    },
    {
      "cell_type": "code",
      "metadata": {
        "colab": {
          "base_uri": "https://localhost:8080/"
        },
        "id": "doWIpgK5ioqz",
        "outputId": "14e253e0-84e9-4f66-a302-cd6f86cf3301"
      },
      "source": [
        "t.shape"
      ],
      "execution_count": 7,
      "outputs": [
        {
          "output_type": "execute_result",
          "data": {
            "text/plain": [
              "(2, 2, 2, 2)"
            ]
          },
          "metadata": {
            "tags": []
          },
          "execution_count": 7
        }
      ]
    },
    {
      "cell_type": "markdown",
      "metadata": {
        "id": "EqmJIi5Ep8JF"
      },
      "source": [
        "##**Changing the shapes**"
      ]
    },
    {
      "cell_type": "code",
      "metadata": {
        "colab": {
          "base_uri": "https://localhost:8080/"
        },
        "id": "cOUGM93bi2Fy",
        "outputId": "be0ca1b3-e235-4188-cb94-035bf9e299b5"
      },
      "source": [
        "v = np.array([1,2,3,4])\r\n",
        "x = v.reshape(1,4)\r\n",
        "print(\"The shape of vector v is \", v.shape)\r\n",
        "print(\"The shape of matrix x is \", x.shape)\r\n",
        "x = v.reshape(4,1)\r\n",
        "print(\"The shape of matrix x is \", x.shape)\r\n",
        "x = v[None, :]\r\n",
        "print(\"The shape of matrix x is \", x.shape)\r\n",
        "x = v[:, None]\r\n",
        "print(\"The shape of matrix x is \", x.shape)"
      ],
      "execution_count": 8,
      "outputs": [
        {
          "output_type": "stream",
          "text": [
            "The shape of vector v is  (4,)\n",
            "The shape of matrix x is  (1, 4)\n",
            "The shape of matrix x is  (4, 1)\n",
            "The shape of matrix x is  (1, 4)\n",
            "The shape of matrix x is  (4, 1)\n"
          ],
          "name": "stdout"
        }
      ]
    },
    {
      "cell_type": "markdown",
      "metadata": {
        "id": "y82-aeHx-XDZ"
      },
      "source": [
        "##**NumPy Matrix Multiplication**"
      ]
    },
    {
      "cell_type": "markdown",
      "metadata": {
        "id": "81Z8RhRy-yWc"
      },
      "source": [
        "###**Element-wise Multiplication**"
      ]
    },
    {
      "cell_type": "code",
      "metadata": {
        "colab": {
          "base_uri": "https://localhost:8080/"
        },
        "id": "I9DIyNzZ-bvK",
        "outputId": "25a1f63c-9b53-4238-a455-efae8c95fbf0"
      },
      "source": [
        "np.multiply(m, m)"
      ],
      "execution_count": 9,
      "outputs": [
        {
          "output_type": "execute_result",
          "data": {
            "text/plain": [
              "array([[ 1,  4,  9],\n",
              "       [16, 25, 36],\n",
              "       [49, 64, 81]])"
            ]
          },
          "metadata": {
            "tags": []
          },
          "execution_count": 9
        }
      ]
    },
    {
      "cell_type": "markdown",
      "metadata": {
        "id": "742VATdJ-3Yk"
      },
      "source": [
        "###**Matrix Product**"
      ]
    },
    {
      "cell_type": "code",
      "metadata": {
        "colab": {
          "base_uri": "https://localhost:8080/"
        },
        "id": "Pc9xHWQT-_qp",
        "outputId": "bd3192f4-a916-43a9-c71c-ecde7b5653b7"
      },
      "source": [
        "print(\"Matrix M \\n\",m,\"\\n\\nMatrix N\\n\",m*2, \"\\n\\nResultant Matrix\\n\",np.matmul(m, m*2))"
      ],
      "execution_count": 10,
      "outputs": [
        {
          "output_type": "stream",
          "text": [
            "Matrix M \n",
            " [[1 2 3]\n",
            " [4 5 6]\n",
            " [7 8 9]] \n",
            "\n",
            "Matrix N\n",
            " [[ 2  4  6]\n",
            " [ 8 10 12]\n",
            " [14 16 18]] \n",
            "\n",
            "Resultant Matrix\n",
            " [[ 60  72  84]\n",
            " [132 162 192]\n",
            " [204 252 300]]\n"
          ],
          "name": "stdout"
        }
      ]
    }
  ]
}
