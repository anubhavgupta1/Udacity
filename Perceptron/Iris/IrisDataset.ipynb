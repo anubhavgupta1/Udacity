{
  "nbformat": 4,
  "nbformat_minor": 0,
  "metadata": {
    "colab": {
      "name": "IrisDataset.ipynb",
      "provenance": [],
      "authorship_tag": "ABX9TyObhgm/YOBHC6Lb536VF5Z2",
      "include_colab_link": true
    },
    "kernelspec": {
      "name": "python3",
      "display_name": "Python 3"
    }
  },
  "cells": [
    {
      "cell_type": "markdown",
      "metadata": {
        "id": "view-in-github",
        "colab_type": "text"
      },
      "source": [
        "<a href=\"https://colab.research.google.com/github/anubhavgupta1/Udacity/blob/main/Perceptron/Iris/IrisDataset.ipynb\" target=\"_parent\"><img src=\"https://colab.research.google.com/assets/colab-badge.svg\" alt=\"Open In Colab\"/></a>"
      ]
    },
    {
      "cell_type": "markdown",
      "metadata": {
        "id": "A60-KRoreHX6"
      },
      "source": [
        "#Classification of Iris Dataset as setosa and non - setosa species"
      ]
    },
    {
      "cell_type": "code",
      "metadata": {
        "id": "1yTvvAhBN_t3"
      },
      "source": [
        "import numpy as np\r\n",
        "import pandas as pd\r\n",
        "import matplotlib.pyplot as plt\r\n",
        "from sklearn.metrics import accuracy_score\r\n",
        "from sklearn.datasets import load_iris\r\n",
        "from sklearn.model_selection import  train_test_split"
      ],
      "execution_count": 1,
      "outputs": []
    },
    {
      "cell_type": "markdown",
      "metadata": {
        "id": "W9IlABevRicu"
      },
      "source": [
        "##Load the Data"
      ]
    },
    {
      "cell_type": "code",
      "metadata": {
        "colab": {
          "base_uri": "https://localhost:8080/",
          "height": 196
        },
        "id": "OSgAtUjfOM_M",
        "outputId": "d29a596c-33e1-4345-8877-40f862494cd7"
      },
      "source": [
        "iris = load_iris()\r\n",
        "data = pd.DataFrame(iris.data, columns = iris.feature_names)\r\n",
        "data[\"class\"] = iris.target\r\n",
        "data.head()"
      ],
      "execution_count": 2,
      "outputs": [
        {
          "output_type": "execute_result",
          "data": {
            "text/html": [
              "<div>\n",
              "<style scoped>\n",
              "    .dataframe tbody tr th:only-of-type {\n",
              "        vertical-align: middle;\n",
              "    }\n",
              "\n",
              "    .dataframe tbody tr th {\n",
              "        vertical-align: top;\n",
              "    }\n",
              "\n",
              "    .dataframe thead th {\n",
              "        text-align: right;\n",
              "    }\n",
              "</style>\n",
              "<table border=\"1\" class=\"dataframe\">\n",
              "  <thead>\n",
              "    <tr style=\"text-align: right;\">\n",
              "      <th></th>\n",
              "      <th>sepal length (cm)</th>\n",
              "      <th>sepal width (cm)</th>\n",
              "      <th>petal length (cm)</th>\n",
              "      <th>petal width (cm)</th>\n",
              "      <th>class</th>\n",
              "    </tr>\n",
              "  </thead>\n",
              "  <tbody>\n",
              "    <tr>\n",
              "      <th>0</th>\n",
              "      <td>5.1</td>\n",
              "      <td>3.5</td>\n",
              "      <td>1.4</td>\n",
              "      <td>0.2</td>\n",
              "      <td>0</td>\n",
              "    </tr>\n",
              "    <tr>\n",
              "      <th>1</th>\n",
              "      <td>4.9</td>\n",
              "      <td>3.0</td>\n",
              "      <td>1.4</td>\n",
              "      <td>0.2</td>\n",
              "      <td>0</td>\n",
              "    </tr>\n",
              "    <tr>\n",
              "      <th>2</th>\n",
              "      <td>4.7</td>\n",
              "      <td>3.2</td>\n",
              "      <td>1.3</td>\n",
              "      <td>0.2</td>\n",
              "      <td>0</td>\n",
              "    </tr>\n",
              "    <tr>\n",
              "      <th>3</th>\n",
              "      <td>4.6</td>\n",
              "      <td>3.1</td>\n",
              "      <td>1.5</td>\n",
              "      <td>0.2</td>\n",
              "      <td>0</td>\n",
              "    </tr>\n",
              "    <tr>\n",
              "      <th>4</th>\n",
              "      <td>5.0</td>\n",
              "      <td>3.6</td>\n",
              "      <td>1.4</td>\n",
              "      <td>0.2</td>\n",
              "      <td>0</td>\n",
              "    </tr>\n",
              "  </tbody>\n",
              "</table>\n",
              "</div>"
            ],
            "text/plain": [
              "   sepal length (cm)  sepal width (cm)  ...  petal width (cm)  class\n",
              "0                5.1               3.5  ...               0.2      0\n",
              "1                4.9               3.0  ...               0.2      0\n",
              "2                4.7               3.2  ...               0.2      0\n",
              "3                4.6               3.1  ...               0.2      0\n",
              "4                5.0               3.6  ...               0.2      0\n",
              "\n",
              "[5 rows x 5 columns]"
            ]
          },
          "metadata": {
            "tags": []
          },
          "execution_count": 2
        }
      ]
    },
    {
      "cell_type": "code",
      "metadata": {
        "colab": {
          "base_uri": "https://localhost:8080/"
        },
        "id": "k-ZFoX59QVfx",
        "outputId": "cbf1cb3d-73db-4e27-af2f-054bfb769614"
      },
      "source": [
        "iris.target_names"
      ],
      "execution_count": 3,
      "outputs": [
        {
          "output_type": "execute_result",
          "data": {
            "text/plain": [
              "array(['setosa', 'versicolor', 'virginica'], dtype='<U10')"
            ]
          },
          "metadata": {
            "tags": []
          },
          "execution_count": 3
        }
      ]
    },
    {
      "cell_type": "code",
      "metadata": {
        "colab": {
          "base_uri": "https://localhost:8080/"
        },
        "id": "_3yr2Yn7TEuw",
        "outputId": "6ffa2cf8-b3bc-4029-da48-aba2ecda3638"
      },
      "source": [
        "type(data)"
      ],
      "execution_count": 4,
      "outputs": [
        {
          "output_type": "execute_result",
          "data": {
            "text/plain": [
              "pandas.core.frame.DataFrame"
            ]
          },
          "metadata": {
            "tags": []
          },
          "execution_count": 4
        }
      ]
    },
    {
      "cell_type": "code",
      "metadata": {
        "id": "8lJSkFwDUG0Q"
      },
      "source": [
        "data = data[data.columns.difference(['sepal length (cm)','sepal width (cm)'])]"
      ],
      "execution_count": 5,
      "outputs": []
    },
    {
      "cell_type": "code",
      "metadata": {
        "id": "R9CBsN7-U4sR"
      },
      "source": [
        "data[\"class\"] = (data[\"class\"]==0) * 1"
      ],
      "execution_count": 6,
      "outputs": []
    },
    {
      "cell_type": "code",
      "metadata": {
        "colab": {
          "base_uri": "https://localhost:8080/",
          "height": 286
        },
        "id": "jg9wU_3UXTd0",
        "outputId": "2dfd1b73-0bab-4934-ef93-cb2d1cc822c2"
      },
      "source": [
        "data.describe()"
      ],
      "execution_count": 7,
      "outputs": [
        {
          "output_type": "execute_result",
          "data": {
            "text/html": [
              "<div>\n",
              "<style scoped>\n",
              "    .dataframe tbody tr th:only-of-type {\n",
              "        vertical-align: middle;\n",
              "    }\n",
              "\n",
              "    .dataframe tbody tr th {\n",
              "        vertical-align: top;\n",
              "    }\n",
              "\n",
              "    .dataframe thead th {\n",
              "        text-align: right;\n",
              "    }\n",
              "</style>\n",
              "<table border=\"1\" class=\"dataframe\">\n",
              "  <thead>\n",
              "    <tr style=\"text-align: right;\">\n",
              "      <th></th>\n",
              "      <th>class</th>\n",
              "      <th>petal length (cm)</th>\n",
              "      <th>petal width (cm)</th>\n",
              "    </tr>\n",
              "  </thead>\n",
              "  <tbody>\n",
              "    <tr>\n",
              "      <th>count</th>\n",
              "      <td>150.000000</td>\n",
              "      <td>150.000000</td>\n",
              "      <td>150.000000</td>\n",
              "    </tr>\n",
              "    <tr>\n",
              "      <th>mean</th>\n",
              "      <td>0.333333</td>\n",
              "      <td>3.758000</td>\n",
              "      <td>1.199333</td>\n",
              "    </tr>\n",
              "    <tr>\n",
              "      <th>std</th>\n",
              "      <td>0.472984</td>\n",
              "      <td>1.765298</td>\n",
              "      <td>0.762238</td>\n",
              "    </tr>\n",
              "    <tr>\n",
              "      <th>min</th>\n",
              "      <td>0.000000</td>\n",
              "      <td>1.000000</td>\n",
              "      <td>0.100000</td>\n",
              "    </tr>\n",
              "    <tr>\n",
              "      <th>25%</th>\n",
              "      <td>0.000000</td>\n",
              "      <td>1.600000</td>\n",
              "      <td>0.300000</td>\n",
              "    </tr>\n",
              "    <tr>\n",
              "      <th>50%</th>\n",
              "      <td>0.000000</td>\n",
              "      <td>4.350000</td>\n",
              "      <td>1.300000</td>\n",
              "    </tr>\n",
              "    <tr>\n",
              "      <th>75%</th>\n",
              "      <td>1.000000</td>\n",
              "      <td>5.100000</td>\n",
              "      <td>1.800000</td>\n",
              "    </tr>\n",
              "    <tr>\n",
              "      <th>max</th>\n",
              "      <td>1.000000</td>\n",
              "      <td>6.900000</td>\n",
              "      <td>2.500000</td>\n",
              "    </tr>\n",
              "  </tbody>\n",
              "</table>\n",
              "</div>"
            ],
            "text/plain": [
              "            class  petal length (cm)  petal width (cm)\n",
              "count  150.000000         150.000000        150.000000\n",
              "mean     0.333333           3.758000          1.199333\n",
              "std      0.472984           1.765298          0.762238\n",
              "min      0.000000           1.000000          0.100000\n",
              "25%      0.000000           1.600000          0.300000\n",
              "50%      0.000000           4.350000          1.300000\n",
              "75%      1.000000           5.100000          1.800000\n",
              "max      1.000000           6.900000          2.500000"
            ]
          },
          "metadata": {
            "tags": []
          },
          "execution_count": 7
        }
      ]
    },
    {
      "cell_type": "code",
      "metadata": {
        "colab": {
          "base_uri": "https://localhost:8080/"
        },
        "id": "ETX67Q3gXnZU",
        "outputId": "0919d7a3-e267-4968-8016-92f2fac06517"
      },
      "source": [
        "data[\"class\"].value_counts()"
      ],
      "execution_count": 8,
      "outputs": [
        {
          "output_type": "execute_result",
          "data": {
            "text/plain": [
              "0    100\n",
              "1     50\n",
              "Name: class, dtype: int64"
            ]
          },
          "metadata": {
            "tags": []
          },
          "execution_count": 8
        }
      ]
    },
    {
      "cell_type": "code",
      "metadata": {
        "colab": {
          "base_uri": "https://localhost:8080/",
          "height": 137
        },
        "id": "7bIPfwA-XzPC",
        "outputId": "06c78d58-05a7-4a58-f6bc-a235f66875ea"
      },
      "source": [
        "data.groupby('class').mean()"
      ],
      "execution_count": 9,
      "outputs": [
        {
          "output_type": "execute_result",
          "data": {
            "text/html": [
              "<div>\n",
              "<style scoped>\n",
              "    .dataframe tbody tr th:only-of-type {\n",
              "        vertical-align: middle;\n",
              "    }\n",
              "\n",
              "    .dataframe tbody tr th {\n",
              "        vertical-align: top;\n",
              "    }\n",
              "\n",
              "    .dataframe thead th {\n",
              "        text-align: right;\n",
              "    }\n",
              "</style>\n",
              "<table border=\"1\" class=\"dataframe\">\n",
              "  <thead>\n",
              "    <tr style=\"text-align: right;\">\n",
              "      <th></th>\n",
              "      <th>petal length (cm)</th>\n",
              "      <th>petal width (cm)</th>\n",
              "    </tr>\n",
              "    <tr>\n",
              "      <th>class</th>\n",
              "      <th></th>\n",
              "      <th></th>\n",
              "    </tr>\n",
              "  </thead>\n",
              "  <tbody>\n",
              "    <tr>\n",
              "      <th>0</th>\n",
              "      <td>4.906</td>\n",
              "      <td>1.676</td>\n",
              "    </tr>\n",
              "    <tr>\n",
              "      <th>1</th>\n",
              "      <td>1.462</td>\n",
              "      <td>0.246</td>\n",
              "    </tr>\n",
              "  </tbody>\n",
              "</table>\n",
              "</div>"
            ],
            "text/plain": [
              "       petal length (cm)  petal width (cm)\n",
              "class                                     \n",
              "0                  4.906             1.676\n",
              "1                  1.462             0.246"
            ]
          },
          "metadata": {
            "tags": []
          },
          "execution_count": 9
        }
      ]
    },
    {
      "cell_type": "code",
      "metadata": {
        "colab": {
          "base_uri": "https://localhost:8080/",
          "height": 196
        },
        "id": "ETYzeWCDVVcq",
        "outputId": "5badfc26-3da9-480c-fb3e-0f12f779a2bf"
      },
      "source": [
        "data.head()"
      ],
      "execution_count": 10,
      "outputs": [
        {
          "output_type": "execute_result",
          "data": {
            "text/html": [
              "<div>\n",
              "<style scoped>\n",
              "    .dataframe tbody tr th:only-of-type {\n",
              "        vertical-align: middle;\n",
              "    }\n",
              "\n",
              "    .dataframe tbody tr th {\n",
              "        vertical-align: top;\n",
              "    }\n",
              "\n",
              "    .dataframe thead th {\n",
              "        text-align: right;\n",
              "    }\n",
              "</style>\n",
              "<table border=\"1\" class=\"dataframe\">\n",
              "  <thead>\n",
              "    <tr style=\"text-align: right;\">\n",
              "      <th></th>\n",
              "      <th>class</th>\n",
              "      <th>petal length (cm)</th>\n",
              "      <th>petal width (cm)</th>\n",
              "    </tr>\n",
              "  </thead>\n",
              "  <tbody>\n",
              "    <tr>\n",
              "      <th>0</th>\n",
              "      <td>1</td>\n",
              "      <td>1.4</td>\n",
              "      <td>0.2</td>\n",
              "    </tr>\n",
              "    <tr>\n",
              "      <th>1</th>\n",
              "      <td>1</td>\n",
              "      <td>1.4</td>\n",
              "      <td>0.2</td>\n",
              "    </tr>\n",
              "    <tr>\n",
              "      <th>2</th>\n",
              "      <td>1</td>\n",
              "      <td>1.3</td>\n",
              "      <td>0.2</td>\n",
              "    </tr>\n",
              "    <tr>\n",
              "      <th>3</th>\n",
              "      <td>1</td>\n",
              "      <td>1.5</td>\n",
              "      <td>0.2</td>\n",
              "    </tr>\n",
              "    <tr>\n",
              "      <th>4</th>\n",
              "      <td>1</td>\n",
              "      <td>1.4</td>\n",
              "      <td>0.2</td>\n",
              "    </tr>\n",
              "  </tbody>\n",
              "</table>\n",
              "</div>"
            ],
            "text/plain": [
              "   class  petal length (cm)  petal width (cm)\n",
              "0      1                1.4               0.2\n",
              "1      1                1.4               0.2\n",
              "2      1                1.3               0.2\n",
              "3      1                1.5               0.2\n",
              "4      1                1.4               0.2"
            ]
          },
          "metadata": {
            "tags": []
          },
          "execution_count": 10
        }
      ]
    },
    {
      "cell_type": "code",
      "metadata": {
        "id": "GhBE9KN2Uyls"
      },
      "source": [
        "X = data.drop('class', axis=1)\r\n",
        "Y = data[\"class\"]"
      ],
      "execution_count": 11,
      "outputs": []
    },
    {
      "cell_type": "markdown",
      "metadata": {
        "id": "ur2B87MER2AI"
      },
      "source": [
        "##Train Test Split\r\n"
      ]
    },
    {
      "cell_type": "code",
      "metadata": {
        "colab": {
          "base_uri": "https://localhost:8080/"
        },
        "id": "_HKU42wTQ6VK",
        "outputId": "007c114a-0669-4b19-9c1c-2aaf5dec1e7e"
      },
      "source": [
        "X_train,X_test, Y_train, Y_test = train_test_split(X,Y,test_size = 0.1,stratify=Y,random_state=1)\r\n",
        "print(X.shape,X_train.shape,X_test.shape)\r\n",
        "print(Y.shape,Y_train.shape,Y_test.shape)"
      ],
      "execution_count": 12,
      "outputs": [
        {
          "output_type": "stream",
          "text": [
            "(150, 2) (135, 2) (15, 2)\n",
            "(150,) (135,) (15,)\n"
          ],
          "name": "stdout"
        }
      ]
    },
    {
      "cell_type": "markdown",
      "metadata": {
        "id": "AW_0gZfYh-N0"
      },
      "source": [
        "##Perceptron Class"
      ]
    },
    {
      "cell_type": "code",
      "metadata": {
        "id": "x79BZgJGh9ZF"
      },
      "source": [
        "X_train = X_train.values\r\n",
        "X_test = X_test.values"
      ],
      "execution_count": 13,
      "outputs": []
    },
    {
      "cell_type": "code",
      "metadata": {
        "id": "p3huNJjHiGN5"
      },
      "source": [
        "class Perceptron:\r\n",
        "  \r\n",
        "  def __init__ (self):\r\n",
        "    self.w = None\r\n",
        "    self.b = None\r\n",
        "    \r\n",
        "  def model(self, x):\r\n",
        "    return 1 if (np.dot(self.w, x) >= self.b) else 0\r\n",
        "    \r\n",
        "  def predict(self, X):\r\n",
        "    Y = []\r\n",
        "    for x in X:\r\n",
        "      result = self.model(x)\r\n",
        "      Y.append(result)\r\n",
        "    return np.array(Y)\r\n",
        "    \r\n",
        "  def fit(self, X, Y, epochs = 1,lr = 1):\r\n",
        "    \r\n",
        "    self.w = np.ones(X.shape[1])\r\n",
        "    self.b = 0\r\n",
        "    \r\n",
        "    chkptw = np.ones(X.shape[1])\r\n",
        "    chkptb = 0\r\n",
        "    \r\n",
        "    accuracy = {}\r\n",
        "    \r\n",
        "    max_accuracy = 0\r\n",
        "    max_accuracy_epoch = 0\r\n",
        "    \r\n",
        "    weights_matrix = []\r\n",
        "    bias_matrix = []\r\n",
        "    \r\n",
        "    for epoch in range(epochs):\r\n",
        "      \r\n",
        "      for x, y in zip(X, Y):\r\n",
        "        y_pred = self.model(x)\r\n",
        "        if y == 1 and y_pred == 0:\r\n",
        "          self.w = self.w +  lr * x\r\n",
        "          self.b = self.b +  lr * 1\r\n",
        "        elif y == 0 and y_pred == 1:\r\n",
        "          self.w = self.w -  lr * x\r\n",
        "          self.b = self.b -  lr * 1\r\n",
        "      \r\n",
        "      weights_matrix.append(self.w)\r\n",
        "      bias_matrix.append(self.b)\r\n",
        "      \r\n",
        "      accuracy[epoch] = accuracy_score(self.predict(X),Y)\r\n",
        "      \r\n",
        "      if(accuracy[epoch] > max_accuracy):\r\n",
        "        max_accuracy = accuracy[epoch]\r\n",
        "        max_accuracy_epoch = epoch\r\n",
        "        chkptw = self.w\r\n",
        "        chkptb = self.b\r\n",
        "    \r\n",
        "    self.w = chkptw\r\n",
        "    self.b = chkptb\r\n",
        "    \r\n",
        "    print(\"Max accuraracy is : \",max_accuracy, \" achieved in epoch : \",max_accuracy_epoch)\r\n",
        "    \r\n",
        "    plt.plot(np.array(list(accuracy.values())).astype(float))\r\n",
        "    plt.ylim([0, 1])\r\n",
        "    plt.show()\r\n",
        "    \r\n",
        "    return np.array(weights_matrix), np.array(bias_matrix)"
      ],
      "execution_count": 14,
      "outputs": []
    },
    {
      "cell_type": "code",
      "metadata": {
        "colab": {
          "base_uri": "https://localhost:8080/",
          "height": 286
        },
        "id": "pTfFf5HiiHZc",
        "outputId": "6d9a8ef5-fa11-4b6e-fd24-bdcffe859441"
      },
      "source": [
        "perceptron = Perceptron()\r\n",
        "weights , bias = perceptron.fit(X_train,Y_train,100,0.99)"
      ],
      "execution_count": 15,
      "outputs": [
        {
          "output_type": "stream",
          "text": [
            "Max accuraracy is :  0.6666666666666666  achieved in epoch :  0\n"
          ],
          "name": "stdout"
        },
        {
          "output_type": "display_data",
          "data": {
            "image/png": "[encoded data removed]",
            "text/plain": [
              "<Figure size 432x288 with 1 Axes>"
            ]
          },
          "metadata": {
            "tags": [],
            "needs_background": "light"
          }
        }
      ]
    },
    {
      "cell_type": "code",
      "metadata": {
        "colab": {
          "base_uri": "https://localhost:8080/"
        },
        "id": "152Qvf3lkVec",
        "outputId": "e93249c1-7adf-4d7b-fe79-96c71b3b7aee"
      },
      "source": [
        "Y_pred_train = perceptron.predict(X_train)\r\n",
        "Y_pred_test = perceptron.predict(X_test)\r\n",
        "print(\"Training accuracy is : \",accuracy_score(Y_train,Y_pred_train))\r\n",
        "print(\"Test accuracy is : \",accuracy_score(Y_test,Y_pred_test))"
      ],
      "execution_count": 16,
      "outputs": [
        {
          "output_type": "stream",
          "text": [
            "Training accuracy is :  0.6666666666666666\n",
            "Test accuracy is :  0.6666666666666666\n"
          ],
          "name": "stdout"
        }
      ]
    },
    {
      "cell_type": "code",
      "metadata": {
        "colab": {
          "base_uri": "https://localhost:8080/",
          "height": 265
        },
        "id": "esI7rkTgkX3Z",
        "outputId": "a9c9e30c-bcad-4442-fcaf-c593f1ccec4e"
      },
      "source": [
        "plt.plot(weights[-1,:])\r\n",
        "plt.show()"
      ],
      "execution_count": 17,
      "outputs": [
        {
          "output_type": "display_data",
          "data": {
            "image/png": "[encoded data removed]",
            "text/plain": [
              "<Figure size 432x288 with 1 Axes>"
            ]
          },
          "metadata": {
            "tags": [],
            "needs_background": "light"
          }
        }
      ]
    },
    {
      "cell_type": "code",
      "metadata": {
        "colab": {
          "base_uri": "https://localhost:8080/",
          "height": 265
        },
        "id": "xTCRl59Oka7j",
        "outputId": "92693fb8-f87a-4e1c-bf4f-6ce5c95765d4"
      },
      "source": [
        "plt.plot(bias)\r\n",
        "plt.show()"
      ],
      "execution_count": 18,
      "outputs": [
        {
          "output_type": "display_data",
          "data": {
            "image/png": "[encoded data removed]",
            "text/plain": [
              "<Figure size 432x288 with 1 Axes>"
            ]
          },
          "metadata": {
            "tags": [],
            "needs_background": "light"
          }
        }
      ]
    }
  ]
}