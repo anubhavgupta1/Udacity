{
  "nbformat": 4,
  "nbformat_minor": 0,
  "metadata": {
    "colab": {
      "name": "Untitled18.ipynb",
      "provenance": [],
      "authorship_tag": "ABX9TyNxrlUF7NKCJ3uDYN2bOYNI",
      "include_colab_link": true
    },
    "kernelspec": {
      "name": "python3",
      "display_name": "Python 3"
    },
    "widgets": {
      "application/vnd.jupyter.widget-state+json": {
        "25cdec0b821244889e01eae3732274c4": {
          "model_module": "@jupyter-widgets/controls",
          "model_name": "HBoxModel",
          "state": {
            "_view_name": "HBoxView",
            "_dom_classes": [],
            "_model_name": "HBoxModel",
            "_view_module": "@jupyter-widgets/controls",
            "_model_module_version": "1.5.0",
            "_view_count": null,
            "_view_module_version": "1.5.0",
            "box_style": "",
            "layout": "IPY_MODEL_aa57201a8c4f410bb16fa1b8fcda9ba1",
            "_model_module": "@jupyter-widgets/controls",
            "children": [
              "IPY_MODEL_f1c19c0da5384262979f077beda0c57e",
              "IPY_MODEL_7ca47b5e98034da5b690547069e3ecad"
            ]
          }
        },
        "aa57201a8c4f410bb16fa1b8fcda9ba1": {
          "model_module": "@jupyter-widgets/base",
          "model_name": "LayoutModel",
          "state": {
            "_view_name": "LayoutView",
            "grid_template_rows": null,
            "right": null,
            "justify_content": null,
            "_view_module": "@jupyter-widgets/base",
            "overflow": null,
            "_model_module_version": "1.2.0",
            "_view_count": null,
            "flex_flow": null,
            "width": null,
            "min_width": null,
            "border": null,
            "align_items": null,
            "bottom": null,
            "_model_module": "@jupyter-widgets/base",
            "top": null,
            "grid_column": null,
            "overflow_y": null,
            "overflow_x": null,
            "grid_auto_flow": null,
            "grid_area": null,
            "grid_template_columns": null,
            "flex": null,
            "_model_name": "LayoutModel",
            "justify_items": null,
            "grid_row": null,
            "max_height": null,
            "align_content": null,
            "visibility": null,
            "align_self": null,
            "height": null,
            "min_height": null,
            "padding": null,
            "grid_auto_rows": null,
            "grid_gap": null,
            "max_width": null,
            "order": null,
            "_view_module_version": "1.2.0",
            "grid_template_areas": null,
            "object_position": null,
            "object_fit": null,
            "grid_auto_columns": null,
            "margin": null,
            "display": null,
            "left": null
          }
        },
        "f1c19c0da5384262979f077beda0c57e": {
          "model_module": "@jupyter-widgets/controls",
          "model_name": "FloatProgressModel",
          "state": {
            "_view_name": "ProgressView",
            "style": "IPY_MODEL_6a63d719d2a34aec99206dc3db4d1d32",
            "_dom_classes": [],
            "description": "100%",
            "_model_name": "FloatProgressModel",
            "bar_style": "success",
            "max": 500,
            "_view_module": "@jupyter-widgets/controls",
            "_model_module_version": "1.5.0",
            "value": 500,
            "_view_count": null,
            "_view_module_version": "1.5.0",
            "orientation": "horizontal",
            "min": 0,
            "description_tooltip": null,
            "_model_module": "@jupyter-widgets/controls",
            "layout": "IPY_MODEL_f89671536965482a842cc62dde057372"
          }
        },
        "7ca47b5e98034da5b690547069e3ecad": {
          "model_module": "@jupyter-widgets/controls",
          "model_name": "HTMLModel",
          "state": {
            "_view_name": "HTMLView",
            "style": "IPY_MODEL_12620932b62c496b874a74af76780ffa",
            "_dom_classes": [],
            "description": "",
            "_model_name": "HTMLModel",
            "placeholder": "​",
            "_view_module": "@jupyter-widgets/controls",
            "_model_module_version": "1.5.0",
            "value": " 500/500 [00:09&lt;00:00, 50.55epoch/s]",
            "_view_count": null,
            "_view_module_version": "1.5.0",
            "description_tooltip": null,
            "_model_module": "@jupyter-widgets/controls",
            "layout": "IPY_MODEL_e4847324010f4b4dbf343a6c00e191d8"
          }
        },
        "6a63d719d2a34aec99206dc3db4d1d32": {
          "model_module": "@jupyter-widgets/controls",
          "model_name": "ProgressStyleModel",
          "state": {
            "_view_name": "StyleView",
            "_model_name": "ProgressStyleModel",
            "description_width": "initial",
            "_view_module": "@jupyter-widgets/base",
            "_model_module_version": "1.5.0",
            "_view_count": null,
            "_view_module_version": "1.2.0",
            "bar_color": null,
            "_model_module": "@jupyter-widgets/controls"
          }
        },
        "f89671536965482a842cc62dde057372": {
          "model_module": "@jupyter-widgets/base",
          "model_name": "LayoutModel",
          "state": {
            "_view_name": "LayoutView",
            "grid_template_rows": null,
            "right": null,
            "justify_content": null,
            "_view_module": "@jupyter-widgets/base",
            "overflow": null,
            "_model_module_version": "1.2.0",
            "_view_count": null,
            "flex_flow": null,
            "width": null,
            "min_width": null,
            "border": null,
            "align_items": null,
            "bottom": null,
            "_model_module": "@jupyter-widgets/base",
            "top": null,
            "grid_column": null,
            "overflow_y": null,
            "overflow_x": null,
            "grid_auto_flow": null,
            "grid_area": null,
            "grid_template_columns": null,
            "flex": null,
            "_model_name": "LayoutModel",
            "justify_items": null,
            "grid_row": null,
            "max_height": null,
            "align_content": null,
            "visibility": null,
            "align_self": null,
            "height": null,
            "min_height": null,
            "padding": null,
            "grid_auto_rows": null,
            "grid_gap": null,
            "max_width": null,
            "order": null,
            "_view_module_version": "1.2.0",
            "grid_template_areas": null,
            "object_position": null,
            "object_fit": null,
            "grid_auto_columns": null,
            "margin": null,
            "display": null,
            "left": null
          }
        },
        "12620932b62c496b874a74af76780ffa": {
          "model_module": "@jupyter-widgets/controls",
          "model_name": "DescriptionStyleModel",
          "state": {
            "_view_name": "StyleView",
            "_model_name": "DescriptionStyleModel",
            "description_width": "",
            "_view_module": "@jupyter-widgets/base",
            "_model_module_version": "1.5.0",
            "_view_count": null,
            "_view_module_version": "1.2.0",
            "_model_module": "@jupyter-widgets/controls"
          }
        },
        "e4847324010f4b4dbf343a6c00e191d8": {
          "model_module": "@jupyter-widgets/base",
          "model_name": "LayoutModel",
          "state": {
            "_view_name": "LayoutView",
            "grid_template_rows": null,
            "right": null,
            "justify_content": null,
            "_view_module": "@jupyter-widgets/base",
            "overflow": null,
            "_model_module_version": "1.2.0",
            "_view_count": null,
            "flex_flow": null,
            "width": null,
            "min_width": null,
            "border": null,
            "align_items": null,
            "bottom": null,
            "_model_module": "@jupyter-widgets/base",
            "top": null,
            "grid_column": null,
            "overflow_y": null,
            "overflow_x": null,
            "grid_auto_flow": null,
            "grid_area": null,
            "grid_template_columns": null,
            "flex": null,
            "_model_name": "LayoutModel",
            "justify_items": null,
            "grid_row": null,
            "max_height": null,
            "align_content": null,
            "visibility": null,
            "align_self": null,
            "height": null,
            "min_height": null,
            "padding": null,
            "grid_auto_rows": null,
            "grid_gap": null,
            "max_width": null,
            "order": null,
            "_view_module_version": "1.2.0",
            "grid_template_areas": null,
            "object_position": null,
            "object_fit": null,
            "grid_auto_columns": null,
            "margin": null,
            "display": null,
            "left": null
          }
        }
      }
    }
  },
  "cells": [
    {
      "cell_type": "markdown",
      "metadata": {
        "id": "view-in-github",
        "colab_type": "text"
      },
      "source": [
        "<a href=\"https://colab.research.google.com/github/anubhavgupta1/Udacity/blob/main/Back%20Propagation/Single%20Weight%20Visualizations/SingleWeight.ipynb\" target=\"_parent\"><img src=\"https://colab.research.google.com/assets/colab-badge.svg\" alt=\"Open In Colab\"/></a>"
      ]
    },
    {
      "cell_type": "markdown",
      "metadata": {
        "id": "zS4lvkJsJJcu"
      },
      "source": [
        "# Multi Class Classification of Blob Data Using Feed Forward Neural Network\r\n",
        "\r\n",
        "\r\n"
      ]
    },
    {
      "cell_type": "markdown",
      "metadata": {
        "id": "Ls41aEXsJUeL"
      },
      "source": [
        "## Load the Data"
      ]
    },
    {
      "cell_type": "code",
      "metadata": {
        "id": "he0KpGiT05KM"
      },
      "source": [
        "import numpy as np\r\n",
        "import matplotlib.pyplot as plt\r\n",
        "import matplotlib.colors\r\n",
        "import pandas as pd\r\n",
        "from sklearn.model_selection import train_test_split\r\n",
        "from sklearn.metrics import accuracy_score, mean_squared_error\r\n",
        "from tqdm import tqdm_notebook\r\n",
        "\r\n",
        "from sklearn.preprocessing import OneHotEncoder\r\n",
        "from sklearn.datasets import make_blobs\r\n",
        "# make_blob is used to generate non linear separable data"
      ],
      "execution_count": 1,
      "outputs": []
    },
    {
      "cell_type": "code",
      "metadata": {
        "id": "jY4utugEgNmF"
      },
      "source": [
        "my_cmap = matplotlib.colors.LinearSegmentedColormap.from_list(\"\",[\"red\",\"yellow\",\"green\"])\r\n"
      ],
      "execution_count": 2,
      "outputs": []
    },
    {
      "cell_type": "code",
      "metadata": {
        "colab": {
          "base_uri": "https://localhost:8080/"
        },
        "id": "Pfd0b3vEgRVA",
        "outputId": "6bf81120-52ef-456b-dbd5-9b69b9add66c"
      },
      "source": [
        "data, labels = make_blobs(n_samples=1000,n_features=2, centers=4,random_state=0)\r\n",
        "print(data.shape,\"\\n\", labels.shape)\r\n",
        "\r\n",
        "#centres = 4 : 0,1,2,3 it tells us how many clusters we want"
      ],
      "execution_count": 3,
      "outputs": [
        {
          "output_type": "stream",
          "text": [
            "(1000, 2) \n",
            " (1000,)\n"
          ],
          "name": "stdout"
        }
      ]
    },
    {
      "cell_type": "code",
      "metadata": {
        "id": "zMm1E5qhgWi5"
      },
      "source": [
        "labels_orig = labels\r\n",
        "labels = np.mod(labels_orig,2)"
      ],
      "execution_count": 4,
      "outputs": []
    },
    {
      "cell_type": "markdown",
      "metadata": {
        "id": "RzqNpQsugnGo"
      },
      "source": [
        "## Plot The Data"
      ]
    },
    {
      "cell_type": "code",
      "metadata": {
        "colab": {
          "base_uri": "https://localhost:8080/",
          "height": 265
        },
        "id": "vyQcHsC2gbEF",
        "outputId": "c076dd19-a23b-436e-df01-579149fe2b92"
      },
      "source": [
        "plt.scatter(data[:,0],data[:,1], c= labels, cmap=my_cmap)\r\n",
        "plt.show()"
      ],
      "execution_count": 5,
      "outputs": [
        {
          "output_type": "display_data",
          "data": {
            "image/png": "[encoded data removed]",
            "text/plain": [
              "<Figure size 432x288 with 1 Axes>"
            ]
          },
          "metadata": {
            "tags": [],
            "needs_background": "light"
          }
        }
      ]
    },
    {
      "cell_type": "markdown",
      "metadata": {
        "id": "soV_5zUWlUKj"
      },
      "source": [
        "## Train Test Split"
      ]
    },
    {
      "cell_type": "code",
      "metadata": {
        "colab": {
          "base_uri": "https://localhost:8080/"
        },
        "id": "Dfv5pbk6gfq0",
        "outputId": "99d74ac0-1e16-4262-a434-0f13e45947fc"
      },
      "source": [
        "X_train,X_val, Y_train, Y_val = train_test_split(data,labels,stratify=labels,random_state=0)\r\n",
        "print(data.shape,X_train.shape,X_val.shape)\r\n",
        "print(labels.shape,Y_train.shape,Y_val.shape)"
      ],
      "execution_count": 6,
      "outputs": [
        {
          "output_type": "stream",
          "text": [
            "(1000, 2) (750, 2) (250, 2)\n",
            "(1000,) (750,) (250,)\n"
          ],
          "name": "stdout"
        }
      ]
    },
    {
      "cell_type": "markdown",
      "metadata": {
        "id": "lDk-w4-Lgu_F"
      },
      "source": [
        "## Model"
      ]
    },
    {
      "cell_type": "markdown",
      "metadata": {
        "id": "LJlAmnoGdYqU"
      },
      "source": [
        "![alt text](https://drive.google.com/uc?id=1O0TV0XYo39dwduAbqgxM635XC38aL0cJ)"
      ]
    },
    {
      "cell_type": "code",
      "metadata": {
        "id": "NCf9FKMadYEX"
      },
      "source": [
        "class FirstFFNetwork:\r\n",
        "  \r\n",
        "  def __init__(self):\r\n",
        "    np.random.seed(42)\r\n",
        "    self.w1 = np.random.randn()\r\n",
        "    self.w2 = np.random.randn()\r\n",
        "    self.w3 = np.random.randn()\r\n",
        "    self.w4 = np.random.randn()\r\n",
        "    self.w5 = np.random.randn()\r\n",
        "    self.w6 = np.random.randn()\r\n",
        "    self.b1 = 0\r\n",
        "    self.b2 = 0\r\n",
        "    self.b3 = 0\r\n",
        "  \r\n",
        "  def sigmoid(self, x):\r\n",
        "    return 1.0/(1.0 + np.exp(-x))\r\n",
        "  \r\n",
        "  def forward_pass(self, x):\r\n",
        "    self.x1, self.x2 = x\r\n",
        "    self.a1 = self.w1*self.x1 + self.w2*self.x2 + self.b1\r\n",
        "    self.h1 = self.sigmoid(self.a1)\r\n",
        "    self.a2 = self.w3*self.x1 + self.w4*self.x2 + self.b2\r\n",
        "    self.h2 = self.sigmoid(self.a2)\r\n",
        "    self.a3 = self.w5*self.h1 + self.w6*self.h2 + self.b3\r\n",
        "    self.h3 = self.sigmoid(self.a3)\r\n",
        "    return self.h3\r\n",
        "  \r\n",
        "  def grad(self, x, y):\r\n",
        "    self.forward_pass(x)\r\n",
        "    self.dw1 = (self.h3-y) * self.h3*(1-self.h3) * self.w5 * self.h1*(1-self.h1) * self.x1\r\n",
        "\r\n",
        "  def fit(self, X, Y, epochs=1, learning_rate=1, initialise=True, display_loss=False):      \r\n",
        "    if display_loss:\r\n",
        "      loss = {}\r\n",
        "      w1   = {}\r\n",
        "      h3 = {}\r\n",
        "      w5 = {}\r\n",
        "      h1 = {}\r\n",
        "    \r\n",
        "    for i in tqdm_notebook(range(epochs), total=epochs, unit=\"epoch\"):\r\n",
        "      dw1, dw2, dw3, dw4, dw5, dw6, db1, db2, db3 = [0]*9\r\n",
        "      for x, y in zip(X, Y):\r\n",
        "        self.grad(x, y)\r\n",
        "        dw1 += self.dw1\r\n",
        "        \r\n",
        "  \r\n",
        "      m = X.shape[1]\r\n",
        "      self.w1 -= learning_rate * dw1 / m\r\n",
        "      \r\n",
        "      if display_loss:\r\n",
        "        w1[i] = self.w1\r\n",
        "        h1[i] = self.h1\r\n",
        "        w5[i] = self.w5\r\n",
        "        h3[i] = self.h3\r\n",
        "\r\n",
        "        Y_pred = self.predict(X)\r\n",
        "        loss[i] = mean_squared_error(Y_pred, Y)\r\n",
        "    \r\n",
        "    if display_loss:\r\n",
        "      plt.tight_layout()\r\n",
        "\r\n",
        "      plt.subplot(2,1,1)\r\n",
        "      plt.plot(list(w1.values()))\r\n",
        "      plt.xlabel('Epochs')\r\n",
        "      plt.ylabel('W1')\r\n",
        "\r\n",
        "      plt.subplot(2,1,2)\r\n",
        "      plt.plot(list(loss.values()))\r\n",
        "      plt.xlabel('Epochs')\r\n",
        "      plt.ylabel('Mean Squared Error')\r\n",
        "      plt.show()\r\n",
        "\r\n",
        "    return list(h1.values()),list(w5.values()),list(h3.values())\r\n",
        "      \r\n",
        "  def predict(self, X):\r\n",
        "    Y_pred = []\r\n",
        "    for x in X:\r\n",
        "      y_pred = self.forward_pass(x)\r\n",
        "      Y_pred.append(y_pred)\r\n",
        "    return np.array(Y_pred)"
      ],
      "execution_count": 7,
      "outputs": []
    },
    {
      "cell_type": "code",
      "metadata": {
        "colab": {
          "base_uri": "https://localhost:8080/",
          "height": 361,
          "referenced_widgets": [
            "25cdec0b821244889e01eae3732274c4",
            "aa57201a8c4f410bb16fa1b8fcda9ba1",
            "f1c19c0da5384262979f077beda0c57e",
            "7ca47b5e98034da5b690547069e3ecad",
            "6a63d719d2a34aec99206dc3db4d1d32",
            "f89671536965482a842cc62dde057372",
            "12620932b62c496b874a74af76780ffa",
            "e4847324010f4b4dbf343a6c00e191d8"
          ]
        },
        "id": "GjrnNjGnkWdN",
        "outputId": "8fb415be-adb6-4280-f681-d48092d3c2da"
      },
      "source": [
        "ffn = FirstFFNetwork()\r\n",
        "h1, w5, h3 = ffn.fit(X_train,Y_train, epochs=500, learning_rate=1,display_loss=True)"
      ],
      "execution_count": 8,
      "outputs": [
        {
          "output_type": "stream",
          "text": [
            "/usr/local/lib/python3.6/dist-packages/ipykernel_launcher.py:40: TqdmDeprecationWarning: This function will be removed in tqdm==5.0.0\n",
            "Please use `tqdm.notebook.tqdm` instead of `tqdm.tqdm_notebook`\n"
          ],
          "name": "stderr"
        },
        {
          "output_type": "display_data",
          "data": {
            "application/vnd.jupyter.widget-view+json": {
              "model_id": "25cdec0b821244889e01eae3732274c4",
              "version_minor": 0,
              "version_major": 2
            },
            "text/plain": [
              "HBox(children=(FloatProgress(value=0.0, max=500.0), HTML(value='')))"
            ]
          },
          "metadata": {
            "tags": []
          }
        },
        {
          "output_type": "stream",
          "text": [
            "\n"
          ],
          "name": "stdout"
        },
        {
          "output_type": "display_data",
          "data": {
            "image/png": "[encoded data removed]",
            "text/plain": [
              "<Figure size 432x288 with 2 Axes>"
            ]
          },
          "metadata": {
            "tags": [],
            "needs_background": "light"
          }
        }
      ]
    },
    {
      "cell_type": "code",
      "metadata": {
        "colab": {
          "base_uri": "https://localhost:8080/",
          "height": 279
        },
        "id": "zY2W1gHirAM4",
        "outputId": "619f4abf-f384-4512-c3c2-7550c67b31fd"
      },
      "source": [
        " plt.plot(h1)\r\n",
        " plt.xlabel('Epochs')\r\n",
        " plt.ylabel('H1')\r\n",
        " plt.show()"
      ],
      "execution_count": 9,
      "outputs": [
        {
          "output_type": "display_data",
          "data": {
            "image/png": "[encoded data removed]",
            "text/plain": [
              "<Figure size 432x288 with 1 Axes>"
            ]
          },
          "metadata": {
            "tags": [],
            "needs_background": "light"
          }
        }
      ]
    },
    {
      "cell_type": "code",
      "metadata": {
        "colab": {
          "base_uri": "https://localhost:8080/",
          "height": 279
        },
        "id": "u5bU4piCrU5m",
        "outputId": "36d151de-930b-4785-eda8-eab5ff1382fd"
      },
      "source": [
        " plt.plot(w5)\r\n",
        " plt.xlabel('Epochs')\r\n",
        " plt.ylabel('W5')\r\n",
        " plt.show()"
      ],
      "execution_count": 10,
      "outputs": [
        {
          "output_type": "display_data",
          "data": {
            "image/png": "[encoded data removed]",
            "text/plain": [
              "<Figure size 432x288 with 1 Axes>"
            ]
          },
          "metadata": {
            "tags": [],
            "needs_background": "light"
          }
        }
      ]
    },
    {
      "cell_type": "code",
      "metadata": {
        "colab": {
          "base_uri": "https://localhost:8080/",
          "height": 279
        },
        "id": "0O2Zjz03rXS8",
        "outputId": "f592f53c-66ab-4abe-e780-179c0374a356"
      },
      "source": [
        " plt.plot(h3)\r\n",
        " plt.xlabel('Epochs')\r\n",
        " plt.ylabel('H3')\r\n",
        " plt.show()"
      ],
      "execution_count": 11,
      "outputs": [
        {
          "output_type": "display_data",
          "data": {
            "image/png": "[encoded data removed]",
            "text/plain": [
              "<Figure size 432x288 with 1 Axes>"
            ]
          },
          "metadata": {
            "tags": [],
            "needs_background": "light"
          }
        }
      ]
    }
  ]
}