{
  "nbformat": 4,
  "nbformat_minor": 0,
  "metadata": {
    "colab": {
      "name": "Untitled19.ipynb",
      "provenance": [],
      "authorship_tag": "ABX9TyMmN2pCbseDWhPj0VeTniP4",
      "include_colab_link": true
    },
    "kernelspec": {
      "name": "python3",
      "display_name": "Python 3"
    }
  },
  "cells": [
    {
      "cell_type": "markdown",
      "metadata": {
        "id": "view-in-github",
        "colab_type": "text"
      },
      "source": [
        "<a href=\"https://colab.research.google.com/github/anubhavgupta1/Udacity/blob/main/Frameworks/Pytorch/DNNs/Cross%20Entropy%20Loss/MNIST%20Data/MNIST.ipynb\" target=\"_parent\"><img src=\"https://colab.research.google.com/assets/colab-badge.svg\" alt=\"Open In Colab\"/></a>"
      ]
    },
    {
      "cell_type": "code",
      "metadata": {
        "id": "zi3i20NTF2LY",
        "cellView": "both"
      },
      "source": [
        "import numpy as np\n",
        "import math\n",
        "import matplotlib.pyplot as plt\n",
        "import matplotlib.colors\n",
        "import pandas as pd\n",
        "from sklearn.model_selection import train_test_split\n",
        "from sklearn.metrics import accuracy_score, mean_squared_error, log_loss\n",
        "from tqdm import tqdm_notebook \n",
        "import seaborn as sns\n",
        "import time\n",
        "from IPython.display import HTML\n",
        "import warnings\n",
        "warnings.filterwarnings('ignore')\n",
        "\n",
        "from sklearn.preprocessing import OneHotEncoder\n",
        "from sklearn.datasets import make_blobs\n",
        "import keras\n",
        "import torch"
      ],
      "execution_count": 1,
      "outputs": []
    },
    {
      "cell_type": "code",
      "metadata": {
        "id": "S-2v19fdGBpV",
        "colab": {
          "base_uri": "https://localhost:8080/"
        },
        "cellView": "both",
        "outputId": "80faaad5-6fd7-4141-b3be-e08c08d1dd06"
      },
      "source": [
        "torch.manual_seed(0)"
      ],
      "execution_count": 2,
      "outputs": [
        {
          "output_type": "execute_result",
          "data": {
            "text/plain": [
              "<torch._C.Generator at 0x7f5d1bfca570>"
            ]
          },
          "metadata": {
            "tags": []
          },
          "execution_count": 2
        }
      ]
    },
    {
      "cell_type": "markdown",
      "metadata": {
        "id": "t3h91SrKGem4"
      },
      "source": [
        "## Generate Dataset"
      ]
    },
    {
      "cell_type": "code",
      "metadata": {
        "id": "7CiU06B-GG-6",
        "colab": {
          "base_uri": "https://localhost:8080/"
        },
        "outputId": "8d69f5d3-b3ff-48ee-e819-f8910729a5c7"
      },
      "source": [
        "(X_train, Y_train), (X_val, Y_val) = keras.datasets.mnist.load_data()"
      ],
      "execution_count": 3,
      "outputs": [
        {
          "output_type": "stream",
          "text": [
            "Downloading data from https://storage.googleapis.com/tensorflow/tf-keras-datasets/mnist.npz\n",
            "11493376/11490434 [==============================] - 0s 0us/step\n"
          ],
          "name": "stdout"
        }
      ]
    },
    {
      "cell_type": "code",
      "metadata": {
        "id": "PhSN7D4dPrOi"
      },
      "source": [
        "X_train,X_val = X_train.reshape(X_train.shape[0],28*28), X_val.reshape(X_val.shape[0],28*28)"
      ],
      "execution_count": 4,
      "outputs": []
    },
    {
      "cell_type": "code",
      "metadata": {
        "colab": {
          "base_uri": "https://localhost:8080/"
        },
        "id": "fmmR8dp5RVuf",
        "outputId": "bb24ffbb-3b41-40ea-e856-27b08925d9a2"
      },
      "source": [
        "print(X_train.shape, Y_train.shape)\r\n",
        "print(X_val.shape, Y_val.shape)"
      ],
      "execution_count": 5,
      "outputs": [
        {
          "output_type": "stream",
          "text": [
            "(60000, 784) (60000,)\n",
            "(10000, 784) (10000,)\n"
          ],
          "name": "stdout"
        }
      ]
    },
    {
      "cell_type": "markdown",
      "metadata": {
        "id": "LnPj_IrhGiYe"
      },
      "source": [
        "## Using torch tensors and autograd"
      ]
    },
    {
      "cell_type": "code",
      "metadata": {
        "id": "x3quRDoBOdvE"
      },
      "source": [
        "X_train, Y_train, X_val, Y_val = map(torch.tensor, (X_train, Y_train, X_val, Y_val))"
      ],
      "execution_count": 6,
      "outputs": []
    },
    {
      "cell_type": "code",
      "metadata": {
        "id": "S8gNaribO9aB",
        "colab": {
          "base_uri": "https://localhost:8080/"
        },
        "outputId": "ea22715e-f1c5-41e4-8ab9-2c5650200a38"
      },
      "source": [
        "print(X_train.shape, Y_train.shape)"
      ],
      "execution_count": 7,
      "outputs": [
        {
          "output_type": "stream",
          "text": [
            "torch.Size([60000, 784]) torch.Size([60000])\n"
          ],
          "name": "stdout"
        }
      ]
    },
    {
      "cell_type": "code",
      "metadata": {
        "colab": {
          "base_uri": "https://localhost:8080/"
        },
        "id": "kkbelI7-T5FD",
        "outputId": "529d3de4-403f-4656-bc24-990b71898bad"
      },
      "source": [
        "torch.randn(2,784).shape"
      ],
      "execution_count": 8,
      "outputs": [
        {
          "output_type": "execute_result",
          "data": {
            "text/plain": [
              "torch.Size([2, 784])"
            ]
          },
          "metadata": {
            "tags": []
          },
          "execution_count": 8
        }
      ]
    },
    {
      "cell_type": "markdown",
      "metadata": {
        "id": "RT_9EUWdsCpf"
      },
      "source": [
        "## Model Class"
      ]
    },
    {
      "cell_type": "code",
      "metadata": {
        "id": "fNxhnalFi0Ma"
      },
      "source": [
        "import torch.nn.functional as F"
      ],
      "execution_count": 9,
      "outputs": []
    },
    {
      "cell_type": "code",
      "metadata": {
        "id": "__HzuJKosASC"
      },
      "source": [
        "class Mnist:\r\n",
        "  def __init__(self):\r\n",
        "    torch.manual_seed(0)\r\n",
        "    \r\n",
        "    self.weights1 = torch.randn(784,2) / math.sqrt(2)\r\n",
        "    self.weights1.requires_grad_()\r\n",
        "    \r\n",
        "    self.bias1 = torch.zeros(2, requires_grad=True)\r\n",
        "    \r\n",
        "    self.weights2 = torch.randn(2, 10) / math.sqrt(2)\r\n",
        "    self.weights2.requires_grad_()\r\n",
        "    \r\n",
        "    self.bias2 = torch.zeros(10, requires_grad=True)\r\n",
        "\r\n",
        "  def predict(self, X):\r\n",
        "    a1 = torch.matmul(X, self.weights1) + self.bias1 # (N, 784) x (784, 2) -> (N, 2)\r\n",
        "    h1 = a1.sigmoid() # (N, 2)\r\n",
        "    a2 = torch.matmul(h1, self.weights2) + self.bias2 # (N, 2) x (2, 10) -> (N, 10)\r\n",
        "    h2 = a2.exp()/a2.exp().sum(-1).unsqueeze(-1) # (N, 10)\r\n",
        "    return h2\r\n",
        "  \r\n",
        "  def accuracy(self, y_hat, y):\r\n",
        "    pred_labels = torch.argmax(y_hat, dim=1)\r\n",
        "    pred_binary = (pred_labels == y).float()\r\n",
        "    average_acc = pred_binary.mean()\r\n",
        "    return  average_acc\r\n",
        "\r\n",
        "  def fit(self,X,Y,epochs = 1000, learning_rate = 1):\r\n",
        "    loss_arr = []\r\n",
        "    acc_arr  = []\r\n",
        "    for epoch in range(epochs):\r\n",
        "      Y_hat = self.predict(X)\r\n",
        "      \r\n",
        "      loss = F.cross_entropy(Y_hat, Y)\r\n",
        "      loss.backward()\r\n",
        "      loss_arr.append(loss.item())\r\n",
        "      \r\n",
        "      if(epoch % 1000 == 999):\r\n",
        "        print(\"\\n\\n=======================================\\n\")\r\n",
        "        print(\"Epoch = \", epoch+1, \" Loss = \",loss_arr[epoch])\r\n",
        "\r\n",
        "      acc = self.accuracy(Y_hat, Y)\r\n",
        "      acc_arr.append(acc.item())\r\n",
        "      \r\n",
        "      with torch.no_grad():\r\n",
        "        self.weights1 -= self.weights1.grad * learning_rate\r\n",
        "        self.bias1    -= self.bias1.grad    * learning_rate\r\n",
        "        self.weights2 -= self.weights2.grad * learning_rate\r\n",
        "        self.bias2    -= self.bias2.grad    * learning_rate\r\n",
        "        \r\n",
        "        self.weights1.grad.zero_()\r\n",
        "        self.bias1.grad.zero_()\r\n",
        "        self.weights2.grad.zero_()\r\n",
        "        self.bias2.grad.zero_()\r\n",
        "    \r\n",
        "    plt.plot(loss_arr, 'r-')\r\n",
        "    plt.plot(acc_arr, 'b-')\r\n",
        "    plt.show()\r\n",
        "    \r\n",
        "    print('Loss before training', loss_arr[0])\r\n",
        "    print('Loss after training', loss_arr[-1])\r\n",
        "    return loss_arr, acc_arr\r\n"
      ],
      "execution_count": 10,
      "outputs": []
    },
    {
      "cell_type": "code",
      "metadata": {
        "id": "eGNj27K0YcO_",
        "colab": {
          "base_uri": "https://localhost:8080/",
          "height": 1000
        },
        "outputId": "486abe00-25bb-4172-e020-4a9af31ba8b6"
      },
      "source": [
        "%%time\n",
        "model = Mnist()\n",
        "loss, acc = model.fit(X_train.float(),Y_train.long(),learning_rate = 0.5,epochs = 10000)"
      ],
      "execution_count": 11,
      "outputs": [
        {
          "output_type": "stream",
          "text": [
            "\n",
            "\n",
            "=======================================\n",
            "\n",
            "Epoch =  1000  Loss =  2.2041032314300537\n",
            "\n",
            "\n",
            "=======================================\n",
            "\n",
            "Epoch =  2000  Loss =  2.161414384841919\n",
            "\n",
            "\n",
            "=======================================\n",
            "\n",
            "Epoch =  3000  Loss =  2.1515207290649414\n",
            "\n",
            "\n",
            "=======================================\n",
            "\n",
            "Epoch =  4000  Loss =  2.147263526916504\n",
            "\n",
            "\n",
            "=======================================\n",
            "\n",
            "Epoch =  5000  Loss =  2.144928216934204\n",
            "\n",
            "\n",
            "=======================================\n",
            "\n",
            "Epoch =  6000  Loss =  2.144090414047241\n",
            "\n",
            "\n",
            "=======================================\n",
            "\n",
            "Epoch =  7000  Loss =  2.141995668411255\n",
            "\n",
            "\n",
            "=======================================\n",
            "\n",
            "Epoch =  8000  Loss =  2.1410629749298096\n",
            "\n",
            "\n",
            "=======================================\n",
            "\n",
            "Epoch =  9000  Loss =  2.1400563716888428\n",
            "\n",
            "\n",
            "=======================================\n",
            "\n",
            "Epoch =  10000  Loss =  2.138585090637207\n"
          ],
          "name": "stdout"
        },
        {
          "output_type": "display_data",
          "data": {
            "image/png": "[encoded data removed]",
            "text/plain": [
              "<Figure size 432x288 with 1 Axes>"
            ]
          },
          "metadata": {
            "tags": [],
            "needs_background": "light"
          }
        },
        {
          "output_type": "stream",
          "text": [
            "Loss before training 2.3048534393310547\n",
            "Loss after training 2.138585090637207\n",
            "CPU times: user 1h 13min 42s, sys: 6.58 s, total: 1h 13min 48s\n",
            "Wall time: 1h 13min 59s\n"
          ],
          "name": "stdout"
        }
      ]
    },
    {
      "cell_type": "code",
      "metadata": {
        "id": "ZeDxgMd34H-K"
      },
      "source": [
        "Y_pred = model.predict(X_val.float())\r\n",
        "test_acc = model.accuracy(Y_pred,Y_val.long())"
      ],
      "execution_count": 12,
      "outputs": []
    },
    {
      "cell_type": "code",
      "metadata": {
        "colab": {
          "base_uri": "https://localhost:8080/"
        },
        "id": "R01RIAuJ34Ry",
        "outputId": "2de35d4c-66b3-4a9d-a600-6925de34a78d"
      },
      "source": [
        "print(\"Training accuracy is : \", acc[-1])\r\n",
        "print(\"Test accuracy is : \", test_acc.item())"
      ],
      "execution_count": 13,
      "outputs": [
        {
          "output_type": "stream",
          "text": [
            "Training accuracy is :  0.2967666685581207\n",
            "Test accuracy is :  0.29750001430511475\n"
          ],
          "name": "stdout"
        }
      ]
    }
  ]
}