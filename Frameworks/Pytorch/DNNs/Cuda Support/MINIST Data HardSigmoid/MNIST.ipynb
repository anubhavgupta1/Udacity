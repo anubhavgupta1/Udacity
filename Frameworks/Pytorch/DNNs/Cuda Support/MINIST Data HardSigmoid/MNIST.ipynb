{
  "nbformat": 4,
  "nbformat_minor": 0,
  "metadata": {
    "colab": {
      "name": "Untitled20.ipynb",
      "provenance": [],
      "authorship_tag": "ABX9TyO3HapT6kaVGQpPEUBv1ZSJ",
      "include_colab_link": true
    },
    "kernelspec": {
      "name": "python3",
      "display_name": "Python 3"
    },
    "accelerator": "GPU"
  },
  "cells": [
    {
      "cell_type": "markdown",
      "metadata": {
        "id": "view-in-github",
        "colab_type": "text"
      },
      "source": [
        "<a href=\"https://colab.research.google.com/github/anubhavgupta1/Udacity/blob/main/Frameworks/Pytorch/DNNs/Cuda%20Support/MINIST%20Data%20HardSigmoid/MNIST.ipynb\" target=\"_parent\"><img src=\"https://colab.research.google.com/assets/colab-badge.svg\" alt=\"Open In Colab\"/></a>"
      ]
    },
    {
      "cell_type": "code",
      "metadata": {
        "id": "zi3i20NTF2LY",
        "cellView": "both"
      },
      "source": [
        "import numpy as np\n",
        "import math\n",
        "import matplotlib.pyplot as plt\n",
        "import matplotlib.colors\n",
        "import pandas as pd\n",
        "from sklearn.model_selection import train_test_split\n",
        "from sklearn.metrics import accuracy_score, mean_squared_error, log_loss\n",
        "from tqdm import tqdm_notebook \n",
        "import seaborn as sns\n",
        "import time\n",
        "from IPython.display import HTML\n",
        "import warnings\n",
        "warnings.filterwarnings('ignore')\n",
        "\n",
        "from sklearn.preprocessing import OneHotEncoder\n",
        "from sklearn.datasets import make_blobs\n",
        "import keras\n",
        "import torch"
      ],
      "execution_count": 1,
      "outputs": []
    },
    {
      "cell_type": "code",
      "metadata": {
        "id": "S-2v19fdGBpV",
        "colab": {
          "base_uri": "https://localhost:8080/"
        },
        "cellView": "both",
        "outputId": "7fd26e9a-3bee-4f31-8e81-9b1dfb52a8b8"
      },
      "source": [
        "torch.manual_seed(0)"
      ],
      "execution_count": 2,
      "outputs": [
        {
          "output_type": "execute_result",
          "data": {
            "text/plain": [
              "<torch._C.Generator at 0x7f756d4fc570>"
            ]
          },
          "metadata": {
            "tags": []
          },
          "execution_count": 2
        }
      ]
    },
    {
      "cell_type": "markdown",
      "metadata": {
        "id": "t3h91SrKGem4"
      },
      "source": [
        "## Generate Dataset"
      ]
    },
    {
      "cell_type": "code",
      "metadata": {
        "id": "7CiU06B-GG-6",
        "colab": {
          "base_uri": "https://localhost:8080/"
        },
        "outputId": "134c154b-3614-458e-c3c1-dd02eb2930a6"
      },
      "source": [
        "(X_train, Y_train), (X_val, Y_val) = keras.datasets.mnist.load_data()"
      ],
      "execution_count": 3,
      "outputs": [
        {
          "output_type": "stream",
          "text": [
            "Downloading data from https://storage.googleapis.com/tensorflow/tf-keras-datasets/mnist.npz\n",
            "11493376/11490434 [==============================] - 0s 0us/step\n"
          ],
          "name": "stdout"
        }
      ]
    },
    {
      "cell_type": "code",
      "metadata": {
        "id": "TjoAcH4BFTNn"
      },
      "source": [
        "X_train,X_val = X_train.reshape(X_train.shape[0],28*28), X_val.reshape(X_val.shape[0],28*28)"
      ],
      "execution_count": 4,
      "outputs": []
    },
    {
      "cell_type": "code",
      "metadata": {
        "colab": {
          "base_uri": "https://localhost:8080/"
        },
        "id": "aLCC_7-NFUlb",
        "outputId": "12ccd90f-d596-4f79-e90e-e75f768d4227"
      },
      "source": [
        "print(X_train.shape, Y_train.shape)\r\n",
        "print(X_val.shape, Y_val.shape)"
      ],
      "execution_count": 5,
      "outputs": [
        {
          "output_type": "stream",
          "text": [
            "(60000, 784) (60000,)\n",
            "(10000, 784) (10000,)\n"
          ],
          "name": "stdout"
        }
      ]
    },
    {
      "cell_type": "markdown",
      "metadata": {
        "id": "LnPj_IrhGiYe"
      },
      "source": [
        "## Using torch tensors and autograd"
      ]
    },
    {
      "cell_type": "code",
      "metadata": {
        "id": "x3quRDoBOdvE"
      },
      "source": [
        "X_train, Y_train, X_val, Y_val = map(torch.tensor, (X_train, Y_train, X_val, Y_val))"
      ],
      "execution_count": 6,
      "outputs": []
    },
    {
      "cell_type": "code",
      "metadata": {
        "id": "S8gNaribO9aB",
        "colab": {
          "base_uri": "https://localhost:8080/"
        },
        "outputId": "c0238d1e-99ce-4bbb-9307-6fd07a2160bb"
      },
      "source": [
        "print(X_train.shape, Y_train.shape)"
      ],
      "execution_count": 7,
      "outputs": [
        {
          "output_type": "stream",
          "text": [
            "torch.Size([60000, 784]) torch.Size([60000])\n"
          ],
          "name": "stdout"
        }
      ]
    },
    {
      "cell_type": "markdown",
      "metadata": {
        "id": "8pMcodUXuiBt"
      },
      "source": [
        "## GPU Configure"
      ]
    },
    {
      "cell_type": "code",
      "metadata": {
        "colab": {
          "base_uri": "https://localhost:8080/"
        },
        "id": "nUwmYn4GuawR",
        "outputId": "db594e6f-86bb-40a2-ab0b-54f7d2a4a958"
      },
      "source": [
        "print(torch.cuda.device_count())\r\n",
        "print(torch.cuda.get_device_name(0))\r\n",
        "gpu = torch.device('cuda:0')\r\n"
      ],
      "execution_count": 8,
      "outputs": [
        {
          "output_type": "stream",
          "text": [
            "1\n",
            "Tesla T4\n"
          ],
          "name": "stdout"
        }
      ]
    },
    {
      "cell_type": "code",
      "metadata": {
        "id": "Ic_pDq66usX4"
      },
      "source": [
        "X_train, Y_train, X_val, Y_val = X_train.float(), Y_train.long(), X_val.float(), Y_val.long()"
      ],
      "execution_count": 9,
      "outputs": []
    },
    {
      "cell_type": "code",
      "metadata": {
        "id": "Z8bKRNWrvGL7"
      },
      "source": [
        "X_train, Y_train, X_val, Y_val = X_train.to(gpu), Y_train.to(gpu), X_val.to(gpu), Y_val.to(gpu)"
      ],
      "execution_count": 10,
      "outputs": []
    },
    {
      "cell_type": "markdown",
      "metadata": {
        "id": "RT_9EUWdsCpf"
      },
      "source": [
        "## Model Class"
      ]
    },
    {
      "cell_type": "code",
      "metadata": {
        "id": "ruIGR4Nd1GAT"
      },
      "source": [
        "import torch.nn.functional as F\r\n",
        "import torch.nn as nn\r\n",
        "from torch import optim"
      ],
      "execution_count": 11,
      "outputs": []
    },
    {
      "cell_type": "code",
      "metadata": {
        "id": "__HzuJKosASC"
      },
      "source": [
        "class Mnist(nn.Module):\r\n",
        "  def __init__(self):\r\n",
        "    super().__init__()\r\n",
        "    torch.manual_seed(0)\r\n",
        "    self.net = nn.Sequential(\r\n",
        "        nn.Linear(784, 100), \r\n",
        "        nn.Hardsigmoid(), \r\n",
        "        nn.Linear(100, 200), \r\n",
        "        nn.Hardsigmoid(),\r\n",
        "        nn.Linear(200, 300),\r\n",
        "        nn.Hardsigmoid(), \r\n",
        "        nn.Linear(300, 10),\r\n",
        "        nn.Softmax()\r\n",
        "    )\r\n",
        "\r\n",
        "  def predict(self, X):\r\n",
        "    return self.net(X)\r\n",
        "  \r\n",
        "  def accuracy(self, y_hat, y):\r\n",
        "    pred_labels = torch.argmax(y_hat, dim=1)\r\n",
        "    pred_binary = (pred_labels == y).float()\r\n",
        "    average_acc = pred_binary.mean()\r\n",
        "    return  average_acc\r\n",
        "  \r\n",
        "  def fit(self,X,Y,epochs = 1000, learning_rate = 1):\r\n",
        "    loss_arr = []\r\n",
        "    acc_arr  = []\r\n",
        "    opt = optim.SGD(self.parameters(), lr=learning_rate)\r\n",
        "\r\n",
        "    for epoch in range(epochs):\r\n",
        "      Y_hat = self.predict(X)\r\n",
        "      \r\n",
        "      loss =  F.cross_entropy(Y_hat, Y)\r\n",
        "      loss.backward()\r\n",
        "      loss_arr.append(loss.item())\r\n",
        "      \r\n",
        "      acc = self.accuracy(Y_hat, Y)\r\n",
        "      acc_arr.append(acc.item())\r\n",
        "      \r\n",
        "      opt.step()\r\n",
        "      opt.zero_grad()\r\n",
        "\r\n",
        "    plt.plot(loss_arr, 'r-')\r\n",
        "    plt.plot(acc_arr, 'b-')\r\n",
        "    plt.show()\r\n",
        "    \r\n",
        "    print('Loss before training', loss_arr[0])\r\n",
        "    print('Loss after training', loss_arr[-1])\r\n",
        "    return loss_arr, acc_arr"
      ],
      "execution_count": 12,
      "outputs": []
    },
    {
      "cell_type": "code",
      "metadata": {
        "id": "7DpJ3mqdepAe",
        "colab": {
          "base_uri": "https://localhost:8080/",
          "height": 332
        },
        "outputId": "efdfe6b4-a278-4167-a5be-9fd6043383ea"
      },
      "source": [
        "%%time\r\n",
        "model = Mnist()\r\n",
        "model = model.to(gpu)\r\n",
        "loss, acc = model.fit(X_train,Y_train,epochs=10000, learning_rate=0.01)"
      ],
      "execution_count": 13,
      "outputs": [
        {
          "output_type": "display_data",
          "data": {
            "image/png": "[encoded data removed]",
            "text/plain": [
              "<Figure size 432x288 with 1 Axes>"
            ]
          },
          "metadata": {
            "tags": [],
            "needs_background": "light"
          }
        },
        {
          "output_type": "stream",
          "text": [
            "Loss before training 2.3026156425476074\n",
            "Loss after training 2.3004770278930664\n",
            "CPU times: user 2min 18s, sys: 1min 45s, total: 4min 3s\n",
            "Wall time: 4min 3s\n"
          ],
          "name": "stdout"
        }
      ]
    },
    {
      "cell_type": "code",
      "metadata": {
        "id": "vSvvaUKiestC"
      },
      "source": [
        "Y_pred = model.predict(X_val)\r\n",
        "test_acc = model.accuracy(Y_pred,Y_val)"
      ],
      "execution_count": 14,
      "outputs": []
    },
    {
      "cell_type": "code",
      "metadata": {
        "id": "MtgwPw-Key07",
        "colab": {
          "base_uri": "https://localhost:8080/"
        },
        "outputId": "d9f1c9ce-edfb-4078-c5cc-4b00529036f9"
      },
      "source": [
        "print(\"Training accuracy is : \", acc[-1])\r\n",
        "print(\"Test accuracy is : \", test_acc.item())"
      ],
      "execution_count": 15,
      "outputs": [
        {
          "output_type": "stream",
          "text": [
            "Training accuracy is :  0.11236666887998581\n",
            "Test accuracy is :  0.11349999904632568\n"
          ],
          "name": "stdout"
        }
      ]
    }
  ]
}