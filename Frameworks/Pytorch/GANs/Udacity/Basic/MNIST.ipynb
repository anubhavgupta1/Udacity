{
  "nbformat": 4,
  "nbformat_minor": 0,
  "metadata": {
    "colab": {
      "name": "Untitled23.ipynb",
      "provenance": [],
      "collapsed_sections": [],
      "authorship_tag": "ABX9TyMesSs7xkCLUOGqgj/VHDsa",
      "include_colab_link": true
    },
    "kernelspec": {
      "display_name": "Python 3",
      "name": "python3"
    },
    "accelerator": "GPU",
    "widgets": {
      "application/vnd.jupyter.widget-state+json": {
        "4f9d026839da44b5b7e96451f6ff9813": {
          "model_module": "@jupyter-widgets/controls",
          "model_name": "HBoxModel",
          "state": {
            "_view_name": "HBoxView",
            "_dom_classes": [],
            "_model_name": "HBoxModel",
            "_view_module": "@jupyter-widgets/controls",
            "_model_module_version": "1.5.0",
            "_view_count": null,
            "_view_module_version": "1.5.0",
            "box_style": "",
            "layout": "IPY_MODEL_0777357a895640e5901988d252becfeb",
            "_model_module": "@jupyter-widgets/controls",
            "children": [
              "IPY_MODEL_d7fc8281826749db9cde1ced72dca7fd",
              "IPY_MODEL_3556fdb0b4024e0481df31d74df53040"
            ]
          }
        },
        "0777357a895640e5901988d252becfeb": {
          "model_module": "@jupyter-widgets/base",
          "model_name": "LayoutModel",
          "state": {
            "_view_name": "LayoutView",
            "grid_template_rows": null,
            "right": null,
            "justify_content": null,
            "_view_module": "@jupyter-widgets/base",
            "overflow": null,
            "_model_module_version": "1.2.0",
            "_view_count": null,
            "flex_flow": null,
            "width": null,
            "min_width": null,
            "border": null,
            "align_items": null,
            "bottom": null,
            "_model_module": "@jupyter-widgets/base",
            "top": null,
            "grid_column": null,
            "overflow_y": null,
            "overflow_x": null,
            "grid_auto_flow": null,
            "grid_area": null,
            "grid_template_columns": null,
            "flex": null,
            "_model_name": "LayoutModel",
            "justify_items": null,
            "grid_row": null,
            "max_height": null,
            "align_content": null,
            "visibility": null,
            "align_self": null,
            "height": null,
            "min_height": null,
            "padding": null,
            "grid_auto_rows": null,
            "grid_gap": null,
            "max_width": null,
            "order": null,
            "_view_module_version": "1.2.0",
            "grid_template_areas": null,
            "object_position": null,
            "object_fit": null,
            "grid_auto_columns": null,
            "margin": null,
            "display": null,
            "left": null
          }
        },
        "d7fc8281826749db9cde1ced72dca7fd": {
          "model_module": "@jupyter-widgets/controls",
          "model_name": "FloatProgressModel",
          "state": {
            "_view_name": "ProgressView",
            "style": "IPY_MODEL_38e4f505e3e745ea9f49c05b7ae9fad5",
            "_dom_classes": [],
            "description": "",
            "_model_name": "FloatProgressModel",
            "bar_style": "success",
            "max": 1,
            "_view_module": "@jupyter-widgets/controls",
            "_model_module_version": "1.5.0",
            "value": 1,
            "_view_count": null,
            "_view_module_version": "1.5.0",
            "orientation": "horizontal",
            "min": 0,
            "description_tooltip": null,
            "_model_module": "@jupyter-widgets/controls",
            "layout": "IPY_MODEL_408f83b18b00416b85a59e7fe7ae3ed5"
          }
        },
        "3556fdb0b4024e0481df31d74df53040": {
          "model_module": "@jupyter-widgets/controls",
          "model_name": "HTMLModel",
          "state": {
            "_view_name": "HTMLView",
            "style": "IPY_MODEL_eb4595fec7b844e3b9cdf50168aa4563",
            "_dom_classes": [],
            "description": "",
            "_model_name": "HTMLModel",
            "placeholder": "​",
            "_view_module": "@jupyter-widgets/controls",
            "_model_module_version": "1.5.0",
            "value": " 9920512/? [00:04&lt;00:00, 2411465.30it/s]",
            "_view_count": null,
            "_view_module_version": "1.5.0",
            "description_tooltip": null,
            "_model_module": "@jupyter-widgets/controls",
            "layout": "IPY_MODEL_a7434c8540104019862edc8b255cb3d0"
          }
        },
        "38e4f505e3e745ea9f49c05b7ae9fad5": {
          "model_module": "@jupyter-widgets/controls",
          "model_name": "ProgressStyleModel",
          "state": {
            "_view_name": "StyleView",
            "_model_name": "ProgressStyleModel",
            "description_width": "initial",
            "_view_module": "@jupyter-widgets/base",
            "_model_module_version": "1.5.0",
            "_view_count": null,
            "_view_module_version": "1.2.0",
            "bar_color": null,
            "_model_module": "@jupyter-widgets/controls"
          }
        },
        "408f83b18b00416b85a59e7fe7ae3ed5": {
          "model_module": "@jupyter-widgets/base",
          "model_name": "LayoutModel",
          "state": {
            "_view_name": "LayoutView",
            "grid_template_rows": null,
            "right": null,
            "justify_content": null,
            "_view_module": "@jupyter-widgets/base",
            "overflow": null,
            "_model_module_version": "1.2.0",
            "_view_count": null,
            "flex_flow": null,
            "width": null,
            "min_width": null,
            "border": null,
            "align_items": null,
            "bottom": null,
            "_model_module": "@jupyter-widgets/base",
            "top": null,
            "grid_column": null,
            "overflow_y": null,
            "overflow_x": null,
            "grid_auto_flow": null,
            "grid_area": null,
            "grid_template_columns": null,
            "flex": null,
            "_model_name": "LayoutModel",
            "justify_items": null,
            "grid_row": null,
            "max_height": null,
            "align_content": null,
            "visibility": null,
            "align_self": null,
            "height": null,
            "min_height": null,
            "padding": null,
            "grid_auto_rows": null,
            "grid_gap": null,
            "max_width": null,
            "order": null,
            "_view_module_version": "1.2.0",
            "grid_template_areas": null,
            "object_position": null,
            "object_fit": null,
            "grid_auto_columns": null,
            "margin": null,
            "display": null,
            "left": null
          }
        },
        "eb4595fec7b844e3b9cdf50168aa4563": {
          "model_module": "@jupyter-widgets/controls",
          "model_name": "DescriptionStyleModel",
          "state": {
            "_view_name": "StyleView",
            "_model_name": "DescriptionStyleModel",
            "description_width": "",
            "_view_module": "@jupyter-widgets/base",
            "_model_module_version": "1.5.0",
            "_view_count": null,
            "_view_module_version": "1.2.0",
            "_model_module": "@jupyter-widgets/controls"
          }
        },
        "a7434c8540104019862edc8b255cb3d0": {
          "model_module": "@jupyter-widgets/base",
          "model_name": "LayoutModel",
          "state": {
            "_view_name": "LayoutView",
            "grid_template_rows": null,
            "right": null,
            "justify_content": null,
            "_view_module": "@jupyter-widgets/base",
            "overflow": null,
            "_model_module_version": "1.2.0",
            "_view_count": null,
            "flex_flow": null,
            "width": null,
            "min_width": null,
            "border": null,
            "align_items": null,
            "bottom": null,
            "_model_module": "@jupyter-widgets/base",
            "top": null,
            "grid_column": null,
            "overflow_y": null,
            "overflow_x": null,
            "grid_auto_flow": null,
            "grid_area": null,
            "grid_template_columns": null,
            "flex": null,
            "_model_name": "LayoutModel",
            "justify_items": null,
            "grid_row": null,
            "max_height": null,
            "align_content": null,
            "visibility": null,
            "align_self": null,
            "height": null,
            "min_height": null,
            "padding": null,
            "grid_auto_rows": null,
            "grid_gap": null,
            "max_width": null,
            "order": null,
            "_view_module_version": "1.2.0",
            "grid_template_areas": null,
            "object_position": null,
            "object_fit": null,
            "grid_auto_columns": null,
            "margin": null,
            "display": null,
            "left": null
          }
        },
        "a3d2c1e35b84447eb88a8cf9e1b4f37e": {
          "model_module": "@jupyter-widgets/controls",
          "model_name": "HBoxModel",
          "state": {
            "_view_name": "HBoxView",
            "_dom_classes": [],
            "_model_name": "HBoxModel",
            "_view_module": "@jupyter-widgets/controls",
            "_model_module_version": "1.5.0",
            "_view_count": null,
            "_view_module_version": "1.5.0",
            "box_style": "",
            "layout": "IPY_MODEL_231747bd951846eb8a94b4a4248eb4b4",
            "_model_module": "@jupyter-widgets/controls",
            "children": [
              "IPY_MODEL_883e25ec150c4c93a2f3083eaa43a742",
              "IPY_MODEL_7ca7cb1507874b61b9aad1dc57b6dc1a"
            ]
          }
        },
        "231747bd951846eb8a94b4a4248eb4b4": {
          "model_module": "@jupyter-widgets/base",
          "model_name": "LayoutModel",
          "state": {
            "_view_name": "LayoutView",
            "grid_template_rows": null,
            "right": null,
            "justify_content": null,
            "_view_module": "@jupyter-widgets/base",
            "overflow": null,
            "_model_module_version": "1.2.0",
            "_view_count": null,
            "flex_flow": null,
            "width": null,
            "min_width": null,
            "border": null,
            "align_items": null,
            "bottom": null,
            "_model_module": "@jupyter-widgets/base",
            "top": null,
            "grid_column": null,
            "overflow_y": null,
            "overflow_x": null,
            "grid_auto_flow": null,
            "grid_area": null,
            "grid_template_columns": null,
            "flex": null,
            "_model_name": "LayoutModel",
            "justify_items": null,
            "grid_row": null,
            "max_height": null,
            "align_content": null,
            "visibility": null,
            "align_self": null,
            "height": null,
            "min_height": null,
            "padding": null,
            "grid_auto_rows": null,
            "grid_gap": null,
            "max_width": null,
            "order": null,
            "_view_module_version": "1.2.0",
            "grid_template_areas": null,
            "object_position": null,
            "object_fit": null,
            "grid_auto_columns": null,
            "margin": null,
            "display": null,
            "left": null
          }
        },
        "883e25ec150c4c93a2f3083eaa43a742": {
          "model_module": "@jupyter-widgets/controls",
          "model_name": "FloatProgressModel",
          "state": {
            "_view_name": "ProgressView",
            "style": "IPY_MODEL_b2bd12faca114b1ab308c2e0be2e12db",
            "_dom_classes": [],
            "description": "",
            "_model_name": "FloatProgressModel",
            "bar_style": "success",
            "max": 1,
            "_view_module": "@jupyter-widgets/controls",
            "_model_module_version": "1.5.0",
            "value": 1,
            "_view_count": null,
            "_view_module_version": "1.5.0",
            "orientation": "horizontal",
            "min": 0,
            "description_tooltip": null,
            "_model_module": "@jupyter-widgets/controls",
            "layout": "IPY_MODEL_d336f25deca54910b59e11cd9192ab08"
          }
        },
        "7ca7cb1507874b61b9aad1dc57b6dc1a": {
          "model_module": "@jupyter-widgets/controls",
          "model_name": "HTMLModel",
          "state": {
            "_view_name": "HTMLView",
            "style": "IPY_MODEL_16fc04439cce4204b670c7057666c198",
            "_dom_classes": [],
            "description": "",
            "_model_name": "HTMLModel",
            "placeholder": "​",
            "_view_module": "@jupyter-widgets/controls",
            "_model_module_version": "1.5.0",
            "value": " 32768/? [00:00&lt;00:00, 114446.91it/s]",
            "_view_count": null,
            "_view_module_version": "1.5.0",
            "description_tooltip": null,
            "_model_module": "@jupyter-widgets/controls",
            "layout": "IPY_MODEL_0cf93717ffe845f2898887aecee76a18"
          }
        },
        "b2bd12faca114b1ab308c2e0be2e12db": {
          "model_module": "@jupyter-widgets/controls",
          "model_name": "ProgressStyleModel",
          "state": {
            "_view_name": "StyleView",
            "_model_name": "ProgressStyleModel",
            "description_width": "initial",
            "_view_module": "@jupyter-widgets/base",
            "_model_module_version": "1.5.0",
            "_view_count": null,
            "_view_module_version": "1.2.0",
            "bar_color": null,
            "_model_module": "@jupyter-widgets/controls"
          }
        },
        "d336f25deca54910b59e11cd9192ab08": {
          "model_module": "@jupyter-widgets/base",
          "model_name": "LayoutModel",
          "state": {
            "_view_name": "LayoutView",
            "grid_template_rows": null,
            "right": null,
            "justify_content": null,
            "_view_module": "@jupyter-widgets/base",
            "overflow": null,
            "_model_module_version": "1.2.0",
            "_view_count": null,
            "flex_flow": null,
            "width": null,
            "min_width": null,
            "border": null,
            "align_items": null,
            "bottom": null,
            "_model_module": "@jupyter-widgets/base",
            "top": null,
            "grid_column": null,
            "overflow_y": null,
            "overflow_x": null,
            "grid_auto_flow": null,
            "grid_area": null,
            "grid_template_columns": null,
            "flex": null,
            "_model_name": "LayoutModel",
            "justify_items": null,
            "grid_row": null,
            "max_height": null,
            "align_content": null,
            "visibility": null,
            "align_self": null,
            "height": null,
            "min_height": null,
            "padding": null,
            "grid_auto_rows": null,
            "grid_gap": null,
            "max_width": null,
            "order": null,
            "_view_module_version": "1.2.0",
            "grid_template_areas": null,
            "object_position": null,
            "object_fit": null,
            "grid_auto_columns": null,
            "margin": null,
            "display": null,
            "left": null
          }
        },
        "16fc04439cce4204b670c7057666c198": {
          "model_module": "@jupyter-widgets/controls",
          "model_name": "DescriptionStyleModel",
          "state": {
            "_view_name": "StyleView",
            "_model_name": "DescriptionStyleModel",
            "description_width": "",
            "_view_module": "@jupyter-widgets/base",
            "_model_module_version": "1.5.0",
            "_view_count": null,
            "_view_module_version": "1.2.0",
            "_model_module": "@jupyter-widgets/controls"
          }
        },
        "0cf93717ffe845f2898887aecee76a18": {
          "model_module": "@jupyter-widgets/base",
          "model_name": "LayoutModel",
          "state": {
            "_view_name": "LayoutView",
            "grid_template_rows": null,
            "right": null,
            "justify_content": null,
            "_view_module": "@jupyter-widgets/base",
            "overflow": null,
            "_model_module_version": "1.2.0",
            "_view_count": null,
            "flex_flow": null,
            "width": null,
            "min_width": null,
            "border": null,
            "align_items": null,
            "bottom": null,
            "_model_module": "@jupyter-widgets/base",
            "top": null,
            "grid_column": null,
            "overflow_y": null,
            "overflow_x": null,
            "grid_auto_flow": null,
            "grid_area": null,
            "grid_template_columns": null,
            "flex": null,
            "_model_name": "LayoutModel",
            "justify_items": null,
            "grid_row": null,
            "max_height": null,
            "align_content": null,
            "visibility": null,
            "align_self": null,
            "height": null,
            "min_height": null,
            "padding": null,
            "grid_auto_rows": null,
            "grid_gap": null,
            "max_width": null,
            "order": null,
            "_view_module_version": "1.2.0",
            "grid_template_areas": null,
            "object_position": null,
            "object_fit": null,
            "grid_auto_columns": null,
            "margin": null,
            "display": null,
            "left": null
          }
        },
        "0d5acd9b26864e368f921a79a28ba414": {
          "model_module": "@jupyter-widgets/controls",
          "model_name": "HBoxModel",
          "state": {
            "_view_name": "HBoxView",
            "_dom_classes": [],
            "_model_name": "HBoxModel",
            "_view_module": "@jupyter-widgets/controls",
            "_model_module_version": "1.5.0",
            "_view_count": null,
            "_view_module_version": "1.5.0",
            "box_style": "",
            "layout": "IPY_MODEL_75e86720f5b5473a9ed3e798aebad834",
            "_model_module": "@jupyter-widgets/controls",
            "children": [
              "IPY_MODEL_0a7a8b68b6d44f2781fea712b72d3bf9",
              "IPY_MODEL_19cda7a5ce644cd39f6a116acd6a9711"
            ]
          }
        },
        "75e86720f5b5473a9ed3e798aebad834": {
          "model_module": "@jupyter-widgets/base",
          "model_name": "LayoutModel",
          "state": {
            "_view_name": "LayoutView",
            "grid_template_rows": null,
            "right": null,
            "justify_content": null,
            "_view_module": "@jupyter-widgets/base",
            "overflow": null,
            "_model_module_version": "1.2.0",
            "_view_count": null,
            "flex_flow": null,
            "width": null,
            "min_width": null,
            "border": null,
            "align_items": null,
            "bottom": null,
            "_model_module": "@jupyter-widgets/base",
            "top": null,
            "grid_column": null,
            "overflow_y": null,
            "overflow_x": null,
            "grid_auto_flow": null,
            "grid_area": null,
            "grid_template_columns": null,
            "flex": null,
            "_model_name": "LayoutModel",
            "justify_items": null,
            "grid_row": null,
            "max_height": null,
            "align_content": null,
            "visibility": null,
            "align_self": null,
            "height": null,
            "min_height": null,
            "padding": null,
            "grid_auto_rows": null,
            "grid_gap": null,
            "max_width": null,
            "order": null,
            "_view_module_version": "1.2.0",
            "grid_template_areas": null,
            "object_position": null,
            "object_fit": null,
            "grid_auto_columns": null,
            "margin": null,
            "display": null,
            "left": null
          }
        },
        "0a7a8b68b6d44f2781fea712b72d3bf9": {
          "model_module": "@jupyter-widgets/controls",
          "model_name": "FloatProgressModel",
          "state": {
            "_view_name": "ProgressView",
            "style": "IPY_MODEL_24253fd85b1847dd978a8adf29f6c046",
            "_dom_classes": [],
            "description": "",
            "_model_name": "FloatProgressModel",
            "bar_style": "success",
            "max": 1,
            "_view_module": "@jupyter-widgets/controls",
            "_model_module_version": "1.5.0",
            "value": 1,
            "_view_count": null,
            "_view_module_version": "1.5.0",
            "orientation": "horizontal",
            "min": 0,
            "description_tooltip": null,
            "_model_module": "@jupyter-widgets/controls",
            "layout": "IPY_MODEL_c10c66ef5eb7450a9902ba515957271d"
          }
        },
        "19cda7a5ce644cd39f6a116acd6a9711": {
          "model_module": "@jupyter-widgets/controls",
          "model_name": "HTMLModel",
          "state": {
            "_view_name": "HTMLView",
            "style": "IPY_MODEL_f42a8a9baad4472c9c7aac213a1b5c4c",
            "_dom_classes": [],
            "description": "",
            "_model_name": "HTMLModel",
            "placeholder": "​",
            "_view_module": "@jupyter-widgets/controls",
            "_model_module_version": "1.5.0",
            "value": " 1654784/? [00:02&lt;00:00, 687543.64it/s]",
            "_view_count": null,
            "_view_module_version": "1.5.0",
            "description_tooltip": null,
            "_model_module": "@jupyter-widgets/controls",
            "layout": "IPY_MODEL_78445e1beade443396ae7143efc5f7f9"
          }
        },
        "24253fd85b1847dd978a8adf29f6c046": {
          "model_module": "@jupyter-widgets/controls",
          "model_name": "ProgressStyleModel",
          "state": {
            "_view_name": "StyleView",
            "_model_name": "ProgressStyleModel",
            "description_width": "initial",
            "_view_module": "@jupyter-widgets/base",
            "_model_module_version": "1.5.0",
            "_view_count": null,
            "_view_module_version": "1.2.0",
            "bar_color": null,
            "_model_module": "@jupyter-widgets/controls"
          }
        },
        "c10c66ef5eb7450a9902ba515957271d": {
          "model_module": "@jupyter-widgets/base",
          "model_name": "LayoutModel",
          "state": {
            "_view_name": "LayoutView",
            "grid_template_rows": null,
            "right": null,
            "justify_content": null,
            "_view_module": "@jupyter-widgets/base",
            "overflow": null,
            "_model_module_version": "1.2.0",
            "_view_count": null,
            "flex_flow": null,
            "width": null,
            "min_width": null,
            "border": null,
            "align_items": null,
            "bottom": null,
            "_model_module": "@jupyter-widgets/base",
            "top": null,
            "grid_column": null,
            "overflow_y": null,
            "overflow_x": null,
            "grid_auto_flow": null,
            "grid_area": null,
            "grid_template_columns": null,
            "flex": null,
            "_model_name": "LayoutModel",
            "justify_items": null,
            "grid_row": null,
            "max_height": null,
            "align_content": null,
            "visibility": null,
            "align_self": null,
            "height": null,
            "min_height": null,
            "padding": null,
            "grid_auto_rows": null,
            "grid_gap": null,
            "max_width": null,
            "order": null,
            "_view_module_version": "1.2.0",
            "grid_template_areas": null,
            "object_position": null,
            "object_fit": null,
            "grid_auto_columns": null,
            "margin": null,
            "display": null,
            "left": null
          }
        },
        "f42a8a9baad4472c9c7aac213a1b5c4c": {
          "model_module": "@jupyter-widgets/controls",
          "model_name": "DescriptionStyleModel",
          "state": {
            "_view_name": "StyleView",
            "_model_name": "DescriptionStyleModel",
            "description_width": "",
            "_view_module": "@jupyter-widgets/base",
            "_model_module_version": "1.5.0",
            "_view_count": null,
            "_view_module_version": "1.2.0",
            "_model_module": "@jupyter-widgets/controls"
          }
        },
        "78445e1beade443396ae7143efc5f7f9": {
          "model_module": "@jupyter-widgets/base",
          "model_name": "LayoutModel",
          "state": {
            "_view_name": "LayoutView",
            "grid_template_rows": null,
            "right": null,
            "justify_content": null,
            "_view_module": "@jupyter-widgets/base",
            "overflow": null,
            "_model_module_version": "1.2.0",
            "_view_count": null,
            "flex_flow": null,
            "width": null,
            "min_width": null,
            "border": null,
            "align_items": null,
            "bottom": null,
            "_model_module": "@jupyter-widgets/base",
            "top": null,
            "grid_column": null,
            "overflow_y": null,
            "overflow_x": null,
            "grid_auto_flow": null,
            "grid_area": null,
            "grid_template_columns": null,
            "flex": null,
            "_model_name": "LayoutModel",
            "justify_items": null,
            "grid_row": null,
            "max_height": null,
            "align_content": null,
            "visibility": null,
            "align_self": null,
            "height": null,
            "min_height": null,
            "padding": null,
            "grid_auto_rows": null,
            "grid_gap": null,
            "max_width": null,
            "order": null,
            "_view_module_version": "1.2.0",
            "grid_template_areas": null,
            "object_position": null,
            "object_fit": null,
            "grid_auto_columns": null,
            "margin": null,
            "display": null,
            "left": null
          }
        },
        "688d3dc806a04cd8870e15aa707bcc03": {
          "model_module": "@jupyter-widgets/controls",
          "model_name": "HBoxModel",
          "state": {
            "_view_name": "HBoxView",
            "_dom_classes": [],
            "_model_name": "HBoxModel",
            "_view_module": "@jupyter-widgets/controls",
            "_model_module_version": "1.5.0",
            "_view_count": null,
            "_view_module_version": "1.5.0",
            "box_style": "",
            "layout": "IPY_MODEL_42c89bf962e44a80acf79110d7c90741",
            "_model_module": "@jupyter-widgets/controls",
            "children": [
              "IPY_MODEL_a7fff6db05be4d878e557e6526479235",
              "IPY_MODEL_b40286dc67f940519970b7c385ebf7dc"
            ]
          }
        },
        "42c89bf962e44a80acf79110d7c90741": {
          "model_module": "@jupyter-widgets/base",
          "model_name": "LayoutModel",
          "state": {
            "_view_name": "LayoutView",
            "grid_template_rows": null,
            "right": null,
            "justify_content": null,
            "_view_module": "@jupyter-widgets/base",
            "overflow": null,
            "_model_module_version": "1.2.0",
            "_view_count": null,
            "flex_flow": null,
            "width": null,
            "min_width": null,
            "border": null,
            "align_items": null,
            "bottom": null,
            "_model_module": "@jupyter-widgets/base",
            "top": null,
            "grid_column": null,
            "overflow_y": null,
            "overflow_x": null,
            "grid_auto_flow": null,
            "grid_area": null,
            "grid_template_columns": null,
            "flex": null,
            "_model_name": "LayoutModel",
            "justify_items": null,
            "grid_row": null,
            "max_height": null,
            "align_content": null,
            "visibility": null,
            "align_self": null,
            "height": null,
            "min_height": null,
            "padding": null,
            "grid_auto_rows": null,
            "grid_gap": null,
            "max_width": null,
            "order": null,
            "_view_module_version": "1.2.0",
            "grid_template_areas": null,
            "object_position": null,
            "object_fit": null,
            "grid_auto_columns": null,
            "margin": null,
            "display": null,
            "left": null
          }
        },
        "a7fff6db05be4d878e557e6526479235": {
          "model_module": "@jupyter-widgets/controls",
          "model_name": "FloatProgressModel",
          "state": {
            "_view_name": "ProgressView",
            "style": "IPY_MODEL_102874f80fed48a088ed284491c37444",
            "_dom_classes": [],
            "description": "",
            "_model_name": "FloatProgressModel",
            "bar_style": "success",
            "max": 1,
            "_view_module": "@jupyter-widgets/controls",
            "_model_module_version": "1.5.0",
            "value": 1,
            "_view_count": null,
            "_view_module_version": "1.5.0",
            "orientation": "horizontal",
            "min": 0,
            "description_tooltip": null,
            "_model_module": "@jupyter-widgets/controls",
            "layout": "IPY_MODEL_ebe688474f934ca9b5d8fb2e9ee7215f"
          }
        },
        "b40286dc67f940519970b7c385ebf7dc": {
          "model_module": "@jupyter-widgets/controls",
          "model_name": "HTMLModel",
          "state": {
            "_view_name": "HTMLView",
            "style": "IPY_MODEL_5c8339b380944bc682ebe3a91b1e9cba",
            "_dom_classes": [],
            "description": "",
            "_model_name": "HTMLModel",
            "placeholder": "​",
            "_view_module": "@jupyter-widgets/controls",
            "_model_module_version": "1.5.0",
            "value": " 8192/? [00:01&lt;00:00, 5401.88it/s]",
            "_view_count": null,
            "_view_module_version": "1.5.0",
            "description_tooltip": null,
            "_model_module": "@jupyter-widgets/controls",
            "layout": "IPY_MODEL_a8bab1613c0844bab195c257ec3128bc"
          }
        },
        "102874f80fed48a088ed284491c37444": {
          "model_module": "@jupyter-widgets/controls",
          "model_name": "ProgressStyleModel",
          "state": {
            "_view_name": "StyleView",
            "_model_name": "ProgressStyleModel",
            "description_width": "initial",
            "_view_module": "@jupyter-widgets/base",
            "_model_module_version": "1.5.0",
            "_view_count": null,
            "_view_module_version": "1.2.0",
            "bar_color": null,
            "_model_module": "@jupyter-widgets/controls"
          }
        },
        "ebe688474f934ca9b5d8fb2e9ee7215f": {
          "model_module": "@jupyter-widgets/base",
          "model_name": "LayoutModel",
          "state": {
            "_view_name": "LayoutView",
            "grid_template_rows": null,
            "right": null,
            "justify_content": null,
            "_view_module": "@jupyter-widgets/base",
            "overflow": null,
            "_model_module_version": "1.2.0",
            "_view_count": null,
            "flex_flow": null,
            "width": null,
            "min_width": null,
            "border": null,
            "align_items": null,
            "bottom": null,
            "_model_module": "@jupyter-widgets/base",
            "top": null,
            "grid_column": null,
            "overflow_y": null,
            "overflow_x": null,
            "grid_auto_flow": null,
            "grid_area": null,
            "grid_template_columns": null,
            "flex": null,
            "_model_name": "LayoutModel",
            "justify_items": null,
            "grid_row": null,
            "max_height": null,
            "align_content": null,
            "visibility": null,
            "align_self": null,
            "height": null,
            "min_height": null,
            "padding": null,
            "grid_auto_rows": null,
            "grid_gap": null,
            "max_width": null,
            "order": null,
            "_view_module_version": "1.2.0",
            "grid_template_areas": null,
            "object_position": null,
            "object_fit": null,
            "grid_auto_columns": null,
            "margin": null,
            "display": null,
            "left": null
          }
        },
        "5c8339b380944bc682ebe3a91b1e9cba": {
          "model_module": "@jupyter-widgets/controls",
          "model_name": "DescriptionStyleModel",
          "state": {
            "_view_name": "StyleView",
            "_model_name": "DescriptionStyleModel",
            "description_width": "",
            "_view_module": "@jupyter-widgets/base",
            "_model_module_version": "1.5.0",
            "_view_count": null,
            "_view_module_version": "1.2.0",
            "_model_module": "@jupyter-widgets/controls"
          }
        },
        "a8bab1613c0844bab195c257ec3128bc": {
          "model_module": "@jupyter-widgets/base",
          "model_name": "LayoutModel",
          "state": {
            "_view_name": "LayoutView",
            "grid_template_rows": null,
            "right": null,
            "justify_content": null,
            "_view_module": "@jupyter-widgets/base",
            "overflow": null,
            "_model_module_version": "1.2.0",
            "_view_count": null,
            "flex_flow": null,
            "width": null,
            "min_width": null,
            "border": null,
            "align_items": null,
            "bottom": null,
            "_model_module": "@jupyter-widgets/base",
            "top": null,
            "grid_column": null,
            "overflow_y": null,
            "overflow_x": null,
            "grid_auto_flow": null,
            "grid_area": null,
            "grid_template_columns": null,
            "flex": null,
            "_model_name": "LayoutModel",
            "justify_items": null,
            "grid_row": null,
            "max_height": null,
            "align_content": null,
            "visibility": null,
            "align_self": null,
            "height": null,
            "min_height": null,
            "padding": null,
            "grid_auto_rows": null,
            "grid_gap": null,
            "max_width": null,
            "order": null,
            "_view_module_version": "1.2.0",
            "grid_template_areas": null,
            "object_position": null,
            "object_fit": null,
            "grid_auto_columns": null,
            "margin": null,
            "display": null,
            "left": null
          }
        }
      }
    }
  },
  "cells": [
    {
      "cell_type": "markdown",
      "metadata": {
        "id": "view-in-github",
        "colab_type": "text"
      },
      "source": [
        "<a href=\"https://colab.research.google.com/github/anubhavgupta1/Udacity/blob/main/Frameworks/Pytorch/GANs/Udacity/Basic/MNIST.ipynb\" target=\"_parent\"><img src=\"https://colab.research.google.com/assets/colab-badge.svg\" alt=\"Open In Colab\"/></a>"
      ]
    },
    {
      "cell_type": "markdown",
      "metadata": {
        "id": "H-1UuLrJ5F9M"
      },
      "source": [
        "# `Generative Adversarial Network`"
      ]
    },
    {
      "cell_type": "markdown",
      "metadata": {
        "id": "kW6wbiqu5g-e"
      },
      "source": [
        "## `Download Data`"
      ]
    },
    {
      "cell_type": "code",
      "metadata": {
        "id": "QuK6yIt15A_c"
      },
      "source": [
        "%matplotlib inline\r\n",
        "\r\n",
        "import numpy as np\r\n",
        "import torch\r\n",
        "import matplotlib.pyplot as plt\r\n",
        "\r\n",
        "from torchvision import datasets\r\n",
        "import torchvision.transforms as transforms"
      ],
      "execution_count": 1,
      "outputs": []
    },
    {
      "cell_type": "code",
      "metadata": {
        "colab": {
          "base_uri": "https://localhost:8080/",
          "height": 382,
          "referenced_widgets": [
            "4f9d026839da44b5b7e96451f6ff9813",
            "0777357a895640e5901988d252becfeb",
            "d7fc8281826749db9cde1ced72dca7fd",
            "3556fdb0b4024e0481df31d74df53040",
            "38e4f505e3e745ea9f49c05b7ae9fad5",
            "408f83b18b00416b85a59e7fe7ae3ed5",
            "eb4595fec7b844e3b9cdf50168aa4563",
            "a7434c8540104019862edc8b255cb3d0",
            "a3d2c1e35b84447eb88a8cf9e1b4f37e",
            "231747bd951846eb8a94b4a4248eb4b4",
            "883e25ec150c4c93a2f3083eaa43a742",
            "7ca7cb1507874b61b9aad1dc57b6dc1a",
            "b2bd12faca114b1ab308c2e0be2e12db",
            "d336f25deca54910b59e11cd9192ab08",
            "16fc04439cce4204b670c7057666c198",
            "0cf93717ffe845f2898887aecee76a18",
            "0d5acd9b26864e368f921a79a28ba414",
            "75e86720f5b5473a9ed3e798aebad834",
            "0a7a8b68b6d44f2781fea712b72d3bf9",
            "19cda7a5ce644cd39f6a116acd6a9711",
            "24253fd85b1847dd978a8adf29f6c046",
            "c10c66ef5eb7450a9902ba515957271d",
            "f42a8a9baad4472c9c7aac213a1b5c4c",
            "78445e1beade443396ae7143efc5f7f9",
            "688d3dc806a04cd8870e15aa707bcc03",
            "42c89bf962e44a80acf79110d7c90741",
            "a7fff6db05be4d878e557e6526479235",
            "b40286dc67f940519970b7c385ebf7dc",
            "102874f80fed48a088ed284491c37444",
            "ebe688474f934ca9b5d8fb2e9ee7215f",
            "5c8339b380944bc682ebe3a91b1e9cba",
            "a8bab1613c0844bab195c257ec3128bc"
          ]
        },
        "id": "F2Vv25Iy5W2f",
        "outputId": "1d9ce0b3-52f5-4d21-f8b5-eaba5d14b8f4"
      },
      "source": [
        "# number of subprocesses to use for data loading\r\n",
        "num_workers = 0\r\n",
        "# how many samples per batch to load\r\n",
        "batch_size = 64\r\n",
        "\r\n",
        "# convert data to torch.FloatTensor\r\n",
        "transform = transforms.ToTensor()\r\n",
        "\r\n",
        "# get the training datasets\r\n",
        "train_data = datasets.MNIST(root='data', train=True,download=True, transform=transform)\r\n",
        "\r\n",
        "# prepare data loader\r\n",
        "train_loader = torch.utils.data.DataLoader(train_data, batch_size=batch_size,num_workers=num_workers)"
      ],
      "execution_count": 2,
      "outputs": [
        {
          "output_type": "stream",
          "text": [
            "Downloading http://yann.lecun.com/exdb/mnist/train-images-idx3-ubyte.gz to data/MNIST/raw/train-images-idx3-ubyte.gz\n"
          ],
          "name": "stdout"
        },
        {
          "output_type": "display_data",
          "data": {
            "application/vnd.jupyter.widget-view+json": {
              "model_id": "4f9d026839da44b5b7e96451f6ff9813",
              "version_minor": 0,
              "version_major": 2
            },
            "text/plain": [
              "HBox(children=(FloatProgress(value=1.0, bar_style='info', max=1.0), HTML(value='')))"
            ]
          },
          "metadata": {
            "tags": []
          }
        },
        {
          "output_type": "stream",
          "text": [
            "Extracting data/MNIST/raw/train-images-idx3-ubyte.gz to data/MNIST/raw\n",
            "Downloading http://yann.lecun.com/exdb/mnist/train-labels-idx1-ubyte.gz to data/MNIST/raw/train-labels-idx1-ubyte.gz\n"
          ],
          "name": "stdout"
        },
        {
          "output_type": "display_data",
          "data": {
            "application/vnd.jupyter.widget-view+json": {
              "model_id": "a3d2c1e35b84447eb88a8cf9e1b4f37e",
              "version_minor": 0,
              "version_major": 2
            },
            "text/plain": [
              "HBox(children=(FloatProgress(value=1.0, bar_style='info', max=1.0), HTML(value='')))"
            ]
          },
          "metadata": {
            "tags": []
          }
        },
        {
          "output_type": "stream",
          "text": [
            "Extracting data/MNIST/raw/train-labels-idx1-ubyte.gz to data/MNIST/raw\n",
            "Downloading http://yann.lecun.com/exdb/mnist/t10k-images-idx3-ubyte.gz to data/MNIST/raw/t10k-images-idx3-ubyte.gz\n",
            "\n"
          ],
          "name": "stdout"
        },
        {
          "output_type": "display_data",
          "data": {
            "application/vnd.jupyter.widget-view+json": {
              "model_id": "0d5acd9b26864e368f921a79a28ba414",
              "version_minor": 0,
              "version_major": 2
            },
            "text/plain": [
              "HBox(children=(FloatProgress(value=1.0, bar_style='info', max=1.0), HTML(value='')))"
            ]
          },
          "metadata": {
            "tags": []
          }
        },
        {
          "output_type": "stream",
          "text": [
            "Extracting data/MNIST/raw/t10k-images-idx3-ubyte.gz to data/MNIST/raw\n",
            "Downloading http://yann.lecun.com/exdb/mnist/t10k-labels-idx1-ubyte.gz to data/MNIST/raw/t10k-labels-idx1-ubyte.gz\n"
          ],
          "name": "stdout"
        },
        {
          "output_type": "display_data",
          "data": {
            "application/vnd.jupyter.widget-view+json": {
              "model_id": "688d3dc806a04cd8870e15aa707bcc03",
              "version_minor": 0,
              "version_major": 2
            },
            "text/plain": [
              "HBox(children=(FloatProgress(value=1.0, bar_style='info', max=1.0), HTML(value='')))"
            ]
          },
          "metadata": {
            "tags": []
          }
        },
        {
          "output_type": "stream",
          "text": [
            "Extracting data/MNIST/raw/t10k-labels-idx1-ubyte.gz to data/MNIST/raw\n",
            "Processing...\n",
            "Done!\n"
          ],
          "name": "stdout"
        },
        {
          "output_type": "stream",
          "text": [
            "/usr/local/lib/python3.6/dist-packages/torchvision/datasets/mnist.py:480: UserWarning: The given NumPy array is not writeable, and PyTorch does not support non-writeable tensors. This means you can write to the underlying (supposedly non-writeable) NumPy array using the tensor. You may want to copy the array to protect its data or make it writeable before converting it to a tensor. This type of warning will be suppressed for the rest of this program. (Triggered internally at  /pytorch/torch/csrc/utils/tensor_numpy.cpp:141.)\n",
            "  return torch.from_numpy(parsed.astype(m[2], copy=False)).view(*s)\n"
          ],
          "name": "stderr"
        }
      ]
    },
    {
      "cell_type": "markdown",
      "metadata": {
        "id": "oKL18Ihw5vtS"
      },
      "source": [
        "## `Visualize the data`"
      ]
    },
    {
      "cell_type": "code",
      "metadata": {
        "colab": {
          "base_uri": "https://localhost:8080/",
          "height": 279
        },
        "id": "Gvq4lks85zUQ",
        "outputId": "43ee479e-0c25-44a1-b013-7f16f6a9cd3b"
      },
      "source": [
        "# obtain one batch of training images\r\n",
        "dataiter = iter(train_loader)\r\n",
        "images, labels = dataiter.next()\r\n",
        "images = images.numpy()\r\n",
        "\r\n",
        "# get one image from the batch\r\n",
        "img = np.squeeze(images[0])\r\n",
        "\r\n",
        "fig = plt.figure(figsize = (3,3)) \r\n",
        "ax = fig.add_subplot(111)\r\n",
        "ax.imshow(img, cmap='gray')"
      ],
      "execution_count": 3,
      "outputs": [
        {
          "output_type": "stream",
          "text": [
            "\n"
          ],
          "name": "stdout"
        },
        {
          "output_type": "execute_result",
          "data": {
            "text/plain": [
              "<matplotlib.image.AxesImage at 0x7fc9a1d7dac8>"
            ]
          },
          "metadata": {
            "tags": []
          },
          "execution_count": 3
        },
        {
          "output_type": "display_data",
          "data": {
            "image/png": "[encoded data removed]",
            "text/plain": [
              "<Figure size 216x216 with 1 Axes>"
            ]
          },
          "metadata": {
            "tags": [],
            "needs_background": "light"
          }
        },
        {
          "output_type": "stream",
          "text": [
            "\n",
            "\n"
          ],
          "name": "stdout"
        }
      ]
    },
    {
      "cell_type": "markdown",
      "metadata": {
        "id": "stOXfy8V58Vu"
      },
      "source": [
        "## `Discriminator Network`"
      ]
    },
    {
      "cell_type": "code",
      "metadata": {
        "id": "sdTXIUen6Azb"
      },
      "source": [
        "import torch.nn as nn\r\n",
        "import torch.nn.functional as F\r\n",
        "\r\n",
        "class Discriminator(nn.Module):\r\n",
        "\r\n",
        "    def __init__(self, input_size, hidden_dim, output_size):\r\n",
        "        super(Discriminator, self).__init__()\r\n",
        "        \r\n",
        "        # define hidden linear layers\r\n",
        "        self.fc1 = nn.Linear(input_size, hidden_dim*4)\r\n",
        "        self.fc2 = nn.Linear(hidden_dim*4, hidden_dim*2)\r\n",
        "        self.fc3 = nn.Linear(hidden_dim*2, hidden_dim)\r\n",
        "        \r\n",
        "        # final fully-connected layer\r\n",
        "        self.fc4 = nn.Linear(hidden_dim, output_size)\r\n",
        "        \r\n",
        "        # dropout layer \r\n",
        "        self.dropout = nn.Dropout(0.3)\r\n",
        "        \r\n",
        "        \r\n",
        "    def forward(self, x):\r\n",
        "        # flatten image\r\n",
        "        x = x.view(-1, 28*28)\r\n",
        "        # all hidden layers\r\n",
        "        x = F.leaky_relu(self.fc1(x), 0.2) # (input, negative_slope=0.2)\r\n",
        "        x = self.dropout(x)\r\n",
        "        x = F.leaky_relu(self.fc2(x), 0.2)\r\n",
        "        x = self.dropout(x)\r\n",
        "        x = F.leaky_relu(self.fc3(x), 0.2)\r\n",
        "        x = self.dropout(x)\r\n",
        "        # final layer\r\n",
        "        out = self.fc4(x)\r\n",
        "\r\n",
        "        return out"
      ],
      "execution_count": 4,
      "outputs": []
    },
    {
      "cell_type": "markdown",
      "metadata": {
        "id": "wpdf87yT6FxG"
      },
      "source": [
        "## `Generator Network`"
      ]
    },
    {
      "cell_type": "code",
      "metadata": {
        "id": "k2GQhfV56JVW"
      },
      "source": [
        "class Generator(nn.Module):\r\n",
        "\r\n",
        "    def __init__(self, input_size, hidden_dim, output_size):\r\n",
        "        super(Generator, self).__init__()\r\n",
        "        \r\n",
        "        # define hidden linear layers\r\n",
        "        self.fc1 = nn.Linear(input_size, hidden_dim)\r\n",
        "        self.fc2 = nn.Linear(hidden_dim, hidden_dim*2)\r\n",
        "        self.fc3 = nn.Linear(hidden_dim*2, hidden_dim*4)\r\n",
        "        \r\n",
        "        # final fully-connected layer\r\n",
        "        self.fc4 = nn.Linear(hidden_dim*4, output_size)\r\n",
        "        \r\n",
        "        # dropout layer \r\n",
        "        self.dropout = nn.Dropout(0.3)\r\n",
        "\r\n",
        "    def forward(self, x):\r\n",
        "        # all hidden layers\r\n",
        "        x = F.leaky_relu(self.fc1(x), 0.2) # (input, negative_slope=0.2)\r\n",
        "        x = self.dropout(x)\r\n",
        "        x = F.leaky_relu(self.fc2(x), 0.2)\r\n",
        "        x = self.dropout(x)\r\n",
        "        x = F.leaky_relu(self.fc3(x), 0.2)\r\n",
        "        x = self.dropout(x)\r\n",
        "        # final layer with tanh applied\r\n",
        "        out = F.tanh(self.fc4(x))\r\n",
        "\r\n",
        "        return out"
      ],
      "execution_count": 5,
      "outputs": []
    },
    {
      "cell_type": "markdown",
      "metadata": {
        "id": "sGmPqKHG6OEt"
      },
      "source": [
        "## `Model hyperparameters`"
      ]
    },
    {
      "cell_type": "code",
      "metadata": {
        "id": "icR8dIxA6QiY"
      },
      "source": [
        "# Discriminator hyperparams\r\n",
        "\r\n",
        "# Size of input image to discriminator (28*28)\r\n",
        "input_size = 784\r\n",
        "# Size of discriminator output (real or fake)\r\n",
        "d_output_size = 1\r\n",
        "# Size of last hidden layer in the discriminator\r\n",
        "d_hidden_size = 32\r\n",
        "\r\n",
        "# Generator hyperparams\r\n",
        "\r\n",
        "# Size of latent vector to give to generator\r\n",
        "z_size = 100\r\n",
        "# Size of discriminator output (generated image)\r\n",
        "g_output_size = 784\r\n",
        "# Size of first hidden layer in the generator\r\n",
        "g_hidden_size = 32"
      ],
      "execution_count": 6,
      "outputs": []
    },
    {
      "cell_type": "markdown",
      "metadata": {
        "id": "S3cfaF9b6WGz"
      },
      "source": [
        "## `Build complete network`"
      ]
    },
    {
      "cell_type": "code",
      "metadata": {
        "colab": {
          "base_uri": "https://localhost:8080/"
        },
        "id": "ctQXpBdg6Y13",
        "outputId": "16e7d85e-5993-45f4-8e40-8d8d3ce35d54"
      },
      "source": [
        "# instantiate discriminator and generator\r\n",
        "D = Discriminator(input_size, d_hidden_size, d_output_size)\r\n",
        "G = Generator(z_size, g_hidden_size, g_output_size)\r\n",
        "\r\n",
        "# check that they are as you expect\r\n",
        "print(D)\r\n",
        "print()\r\n",
        "print(G)"
      ],
      "execution_count": 7,
      "outputs": [
        {
          "output_type": "stream",
          "text": [
            "Discriminator(\n",
            "  (fc1): Linear(in_features=784, out_features=128, bias=True)\n",
            "  (fc2): Linear(in_features=128, out_features=64, bias=True)\n",
            "  (fc3): Linear(in_features=64, out_features=32, bias=True)\n",
            "  (fc4): Linear(in_features=32, out_features=1, bias=True)\n",
            "  (dropout): Dropout(p=0.3, inplace=False)\n",
            ")\n",
            "\n",
            "Generator(\n",
            "  (fc1): Linear(in_features=100, out_features=32, bias=True)\n",
            "  (fc2): Linear(in_features=32, out_features=64, bias=True)\n",
            "  (fc3): Linear(in_features=64, out_features=128, bias=True)\n",
            "  (fc4): Linear(in_features=128, out_features=784, bias=True)\n",
            "  (dropout): Dropout(p=0.3, inplace=False)\n",
            ")\n"
          ],
          "name": "stdout"
        }
      ]
    },
    {
      "cell_type": "markdown",
      "metadata": {
        "id": "Nr8KtRQ16dz6"
      },
      "source": [
        "## `Generator Loss`"
      ]
    },
    {
      "cell_type": "code",
      "metadata": {
        "id": "O1ZJhcT86pKX"
      },
      "source": [
        "# Calculate losses\r\n",
        "def real_loss(D_out, smooth=False):\r\n",
        "    batch_size = D_out.size(0)\r\n",
        "    # label smoothing\r\n",
        "    if smooth:\r\n",
        "        # smooth, real labels = 0.9\r\n",
        "        labels = torch.ones(batch_size)*0.9\r\n",
        "    else:\r\n",
        "        labels = torch.ones(batch_size) # real labels = 1\r\n",
        "        \r\n",
        "    # numerically stable loss\r\n",
        "    criterion = nn.BCEWithLogitsLoss()\r\n",
        "    # calculate loss\r\n",
        "    loss = criterion(D_out.squeeze(), labels)\r\n",
        "    return loss"
      ],
      "execution_count": 8,
      "outputs": []
    },
    {
      "cell_type": "code",
      "metadata": {
        "id": "-t9dPbWr6wjO"
      },
      "source": [
        "def fake_loss(D_out):\r\n",
        "    batch_size = D_out.size(0)\r\n",
        "    labels = torch.zeros(batch_size) # fake labels = 0\r\n",
        "    criterion = nn.BCEWithLogitsLoss()\r\n",
        "    # calculate loss\r\n",
        "    loss = criterion(D_out.squeeze(), labels)\r\n",
        "    return loss"
      ],
      "execution_count": 9,
      "outputs": []
    },
    {
      "cell_type": "markdown",
      "metadata": {
        "id": "P6X_hS8Z63FH"
      },
      "source": [
        "## `Optimizers`"
      ]
    },
    {
      "cell_type": "code",
      "metadata": {
        "id": "iQZgmu-266jp"
      },
      "source": [
        "import torch.optim as optim"
      ],
      "execution_count": 10,
      "outputs": []
    },
    {
      "cell_type": "code",
      "metadata": {
        "id": "5KAOiarf6_4w"
      },
      "source": [
        "# Optimizers\r\n",
        "lr = 0.002\r\n",
        "\r\n",
        "# Create optimizers for the discriminator and generator\r\n",
        "d_optimizer = optim.Adam(D.parameters(), lr)\r\n",
        "g_optimizer = optim.Adam(G.parameters(), lr)"
      ],
      "execution_count": 11,
      "outputs": []
    },
    {
      "cell_type": "markdown",
      "metadata": {
        "id": "LSt-HdWh7I-e"
      },
      "source": [
        "## `Training`"
      ]
    },
    {
      "cell_type": "code",
      "metadata": {
        "colab": {
          "base_uri": "https://localhost:8080/"
        },
        "id": "iZz0v5iP7Lvq",
        "outputId": "3e1d3383-97b9-42b8-82d6-57cf3dadb64e"
      },
      "source": [
        "import pickle as pkl\r\n",
        "\r\n",
        "# training hyperparams\r\n",
        "num_epochs = 100\r\n",
        "\r\n",
        "# keep track of loss and generated, \"fake\" samples\r\n",
        "samples = []\r\n",
        "losses = []\r\n",
        "\r\n",
        "print_every = 400\r\n",
        "\r\n",
        "# Get some fixed data for sampling. These are images that are held\r\n",
        "# constant throughout training, and allow us to inspect the model's performance\r\n",
        "sample_size=16\r\n",
        "fixed_z = np.random.uniform(-1, 1, size=(sample_size, z_size))\r\n",
        "fixed_z = torch.from_numpy(fixed_z).float()\r\n",
        "\r\n",
        "# train the network\r\n",
        "D.train()\r\n",
        "G.train()\r\n",
        "for epoch in range(num_epochs):\r\n",
        "    \r\n",
        "    for batch_i, (real_images, _) in enumerate(train_loader):\r\n",
        "                \r\n",
        "        batch_size = real_images.size(0)\r\n",
        "        \r\n",
        "        ## Important rescaling step ## \r\n",
        "        real_images = real_images*2 - 1  # rescale input images from [0,1) to [-1, 1)\r\n",
        "        \r\n",
        "        # ============================================\r\n",
        "        #            TRAIN THE DISCRIMINATOR\r\n",
        "        # ============================================\r\n",
        "        \r\n",
        "        d_optimizer.zero_grad()\r\n",
        "        \r\n",
        "        # 1. Train with real images\r\n",
        "\r\n",
        "        # Compute the discriminator losses on real images \r\n",
        "        # smooth the real labels\r\n",
        "        D_real = D(real_images)\r\n",
        "        d_real_loss = real_loss(D_real, smooth=True)\r\n",
        "        \r\n",
        "        # 2. Train with fake images\r\n",
        "        \r\n",
        "        # Generate fake images\r\n",
        "        z = np.random.uniform(-1, 1, size=(batch_size, z_size))\r\n",
        "        z = torch.from_numpy(z).float()\r\n",
        "        fake_images = G(z)\r\n",
        "        \r\n",
        "        # Compute the discriminator losses on fake images        \r\n",
        "        D_fake = D(fake_images)\r\n",
        "        d_fake_loss = fake_loss(D_fake)\r\n",
        "        \r\n",
        "        # add up loss and perform backprop\r\n",
        "        d_loss = d_real_loss + d_fake_loss\r\n",
        "        d_loss.backward()\r\n",
        "        d_optimizer.step()\r\n",
        "        \r\n",
        "        \r\n",
        "        # =========================================\r\n",
        "        #            TRAIN THE GENERATOR\r\n",
        "        # =========================================\r\n",
        "        g_optimizer.zero_grad()\r\n",
        "        \r\n",
        "        # 1. Train with fake images and flipped labels\r\n",
        "        \r\n",
        "        # Generate fake images\r\n",
        "        z = np.random.uniform(-1, 1, size=(batch_size, z_size))\r\n",
        "        z = torch.from_numpy(z).float()\r\n",
        "        fake_images = G(z)\r\n",
        "        \r\n",
        "        # Compute the discriminator losses on fake images \r\n",
        "        # using flipped labels!\r\n",
        "        D_fake = D(fake_images)\r\n",
        "        g_loss = real_loss(D_fake) # use real loss to flip labels\r\n",
        "        \r\n",
        "        # perform backprop\r\n",
        "        g_loss.backward()\r\n",
        "        g_optimizer.step()\r\n",
        "\r\n",
        "        # Print some loss stats\r\n",
        "        if batch_i % print_every == 0:\r\n",
        "            # print discriminator and generator loss\r\n",
        "            print('Epoch [{:5d}/{:5d}] | d_loss: {:6.4f} | g_loss: {:6.4f}'.format(\r\n",
        "                    epoch+1, num_epochs, d_loss.item(), g_loss.item()))\r\n",
        "\r\n",
        "    \r\n",
        "    ## AFTER EACH EPOCH##\r\n",
        "    # append discriminator loss and generator loss\r\n",
        "    losses.append((d_loss.item(), g_loss.item()))\r\n",
        "    \r\n",
        "    # generate and save sample, fake images\r\n",
        "    G.eval() # eval mode for generating samples\r\n",
        "    samples_z = G(fixed_z)\r\n",
        "    samples.append(samples_z)\r\n",
        "    G.train() # back to train mode"
      ],
      "execution_count": 12,
      "outputs": [
        {
          "output_type": "stream",
          "text": [
            "/usr/local/lib/python3.6/dist-packages/torch/nn/functional.py:1628: UserWarning: nn.functional.tanh is deprecated. Use torch.tanh instead.\n",
            "  warnings.warn(\"nn.functional.tanh is deprecated. Use torch.tanh instead.\")\n"
          ],
          "name": "stderr"
        },
        {
          "output_type": "stream",
          "text": [
            "Epoch [    1/  100] | d_loss: 1.3784 | g_loss: 0.7285\n",
            "Epoch [    1/  100] | d_loss: 0.8297 | g_loss: 3.3011\n",
            "Epoch [    1/  100] | d_loss: 0.7222 | g_loss: 4.0560\n",
            "Epoch [    2/  100] | d_loss: 1.0532 | g_loss: 1.6909\n",
            "Epoch [    2/  100] | d_loss: 1.3103 | g_loss: 0.8074\n",
            "Epoch [    2/  100] | d_loss: 1.7899 | g_loss: 0.4469\n",
            "Epoch [    3/  100] | d_loss: 1.1222 | g_loss: 1.6101\n",
            "Epoch [    3/  100] | d_loss: 1.1521 | g_loss: 1.5462\n",
            "Epoch [    3/  100] | d_loss: 1.0442 | g_loss: 1.6583\n",
            "Epoch [    4/  100] | d_loss: 1.2110 | g_loss: 0.8709\n",
            "Epoch [    4/  100] | d_loss: 1.3913 | g_loss: 0.8362\n",
            "Epoch [    4/  100] | d_loss: 1.3276 | g_loss: 0.7831\n",
            "Epoch [    5/  100] | d_loss: 1.3532 | g_loss: 0.8269\n",
            "Epoch [    5/  100] | d_loss: 1.4389 | g_loss: 0.8879\n",
            "Epoch [    5/  100] | d_loss: 1.0488 | g_loss: 1.3606\n",
            "Epoch [    6/  100] | d_loss: 1.2160 | g_loss: 1.8794\n",
            "Epoch [    6/  100] | d_loss: 1.2978 | g_loss: 1.7706\n",
            "Epoch [    6/  100] | d_loss: 1.2300 | g_loss: 2.8425\n",
            "Epoch [    7/  100] | d_loss: 1.1860 | g_loss: 1.1701\n",
            "Epoch [    7/  100] | d_loss: 1.2361 | g_loss: 3.5335\n",
            "Epoch [    7/  100] | d_loss: 0.4213 | g_loss: 14.0064\n",
            "Epoch [    8/  100] | d_loss: 0.4152 | g_loss: 21.8380\n",
            "Epoch [    8/  100] | d_loss: 0.4307 | g_loss: 20.2575\n",
            "Epoch [    8/  100] | d_loss: 0.3748 | g_loss: 28.3696\n",
            "Epoch [    9/  100] | d_loss: 0.3496 | g_loss: 20.3659\n",
            "Epoch [    9/  100] | d_loss: 0.3413 | g_loss: 30.3589\n",
            "Epoch [    9/  100] | d_loss: 0.3365 | g_loss: 21.6890\n",
            "Epoch [   10/  100] | d_loss: 0.3319 | g_loss: 25.0742\n",
            "Epoch [   10/  100] | d_loss: 0.3322 | g_loss: 27.6206\n",
            "Epoch [   10/  100] | d_loss: 0.3311 | g_loss: 27.1014\n",
            "Epoch [   11/  100] | d_loss: 0.3321 | g_loss: 21.8830\n",
            "Epoch [   11/  100] | d_loss: 0.3317 | g_loss: 18.5597\n",
            "Epoch [   11/  100] | d_loss: 0.3326 | g_loss: 28.2294\n",
            "Epoch [   12/  100] | d_loss: 0.3696 | g_loss: 15.0639\n",
            "Epoch [   12/  100] | d_loss: 0.3292 | g_loss: 19.8242\n",
            "Epoch [   12/  100] | d_loss: 0.3281 | g_loss: 18.7940\n",
            "Epoch [   13/  100] | d_loss: 0.3280 | g_loss: 22.4388\n",
            "Epoch [   13/  100] | d_loss: 0.3266 | g_loss: 24.4277\n",
            "Epoch [   13/  100] | d_loss: 0.3264 | g_loss: 21.3142\n",
            "Epoch [   14/  100] | d_loss: 0.3262 | g_loss: 20.4943\n",
            "Epoch [   14/  100] | d_loss: 0.3259 | g_loss: 23.9059\n",
            "Epoch [   14/  100] | d_loss: 0.3307 | g_loss: 15.7715\n",
            "Epoch [   15/  100] | d_loss: 0.3288 | g_loss: 21.8025\n",
            "Epoch [   15/  100] | d_loss: 0.3264 | g_loss: 20.3540\n",
            "Epoch [   15/  100] | d_loss: 0.3310 | g_loss: 24.4189\n",
            "Epoch [   16/  100] | d_loss: 0.3282 | g_loss: 22.2360\n",
            "Epoch [   16/  100] | d_loss: 0.3268 | g_loss: 14.0818\n",
            "Epoch [   16/  100] | d_loss: 0.3294 | g_loss: 28.9213\n",
            "Epoch [   17/  100] | d_loss: 0.3266 | g_loss: 8.9792\n",
            "Epoch [   17/  100] | d_loss: 0.3269 | g_loss: 15.2831\n",
            "Epoch [   17/  100] | d_loss: 0.3276 | g_loss: 13.0685\n",
            "Epoch [   18/  100] | d_loss: 0.3276 | g_loss: 17.5776\n",
            "Epoch [   18/  100] | d_loss: 0.3339 | g_loss: 19.7598\n",
            "Epoch [   18/  100] | d_loss: 0.3288 | g_loss: 26.6129\n",
            "Epoch [   19/  100] | d_loss: 0.3321 | g_loss: 20.4280\n",
            "Epoch [   19/  100] | d_loss: 0.3357 | g_loss: 16.6919\n",
            "Epoch [   19/  100] | d_loss: 0.3389 | g_loss: 25.1553\n",
            "Epoch [   20/  100] | d_loss: 0.4163 | g_loss: 16.2128\n",
            "Epoch [   20/  100] | d_loss: 0.3282 | g_loss: 14.5750\n",
            "Epoch [   20/  100] | d_loss: 0.3372 | g_loss: 19.8844\n",
            "Epoch [   21/  100] | d_loss: 0.3755 | g_loss: 15.1927\n",
            "Epoch [   21/  100] | d_loss: 0.3351 | g_loss: 9.4857\n",
            "Epoch [   21/  100] | d_loss: 0.3335 | g_loss: 11.6207\n",
            "Epoch [   22/  100] | d_loss: 0.3345 | g_loss: 21.2453\n",
            "Epoch [   22/  100] | d_loss: 0.3377 | g_loss: 13.4796\n",
            "Epoch [   22/  100] | d_loss: 0.3427 | g_loss: 14.7134\n",
            "Epoch [   23/  100] | d_loss: 0.3871 | g_loss: 14.9799\n",
            "Epoch [   23/  100] | d_loss: 0.3353 | g_loss: 22.5701\n",
            "Epoch [   23/  100] | d_loss: 0.3349 | g_loss: 12.9624\n",
            "Epoch [   24/  100] | d_loss: 0.3518 | g_loss: 20.9527\n",
            "Epoch [   24/  100] | d_loss: 0.3389 | g_loss: 15.4965\n",
            "Epoch [   24/  100] | d_loss: 0.3354 | g_loss: 11.0737\n",
            "Epoch [   25/  100] | d_loss: 0.3335 | g_loss: 12.8142\n",
            "Epoch [   25/  100] | d_loss: 0.3287 | g_loss: 15.3034\n",
            "Epoch [   25/  100] | d_loss: 0.3774 | g_loss: 12.9020\n",
            "Epoch [   26/  100] | d_loss: 0.3351 | g_loss: 14.9998\n",
            "Epoch [   26/  100] | d_loss: 0.3337 | g_loss: 19.5272\n",
            "Epoch [   26/  100] | d_loss: 0.3344 | g_loss: 19.9758\n",
            "Epoch [   27/  100] | d_loss: 0.3303 | g_loss: 16.8413\n",
            "Epoch [   27/  100] | d_loss: 0.3289 | g_loss: 21.3244\n",
            "Epoch [   27/  100] | d_loss: 0.3299 | g_loss: 17.1921\n",
            "Epoch [   28/  100] | d_loss: 0.3321 | g_loss: 13.8572\n",
            "Epoch [   28/  100] | d_loss: 0.3428 | g_loss: 21.9779\n",
            "Epoch [   28/  100] | d_loss: 0.3345 | g_loss: 16.8344\n",
            "Epoch [   29/  100] | d_loss: 0.3458 | g_loss: 14.1785\n",
            "Epoch [   29/  100] | d_loss: 0.3704 | g_loss: 15.8568\n",
            "Epoch [   29/  100] | d_loss: 0.3889 | g_loss: 13.2827\n",
            "Epoch [   30/  100] | d_loss: 0.3464 | g_loss: 13.9070\n",
            "Epoch [   30/  100] | d_loss: 0.3502 | g_loss: 11.1744\n",
            "Epoch [   30/  100] | d_loss: 0.3906 | g_loss: 17.0358\n",
            "Epoch [   31/  100] | d_loss: 0.4064 | g_loss: 8.1705\n",
            "Epoch [   31/  100] | d_loss: 0.3298 | g_loss: 17.2100\n",
            "Epoch [   31/  100] | d_loss: 0.3721 | g_loss: 14.2577\n",
            "Epoch [   32/  100] | d_loss: 0.3528 | g_loss: 16.1014\n",
            "Epoch [   32/  100] | d_loss: 0.4028 | g_loss: 9.4893\n",
            "Epoch [   32/  100] | d_loss: 0.3466 | g_loss: 13.2738\n",
            "Epoch [   33/  100] | d_loss: 0.3618 | g_loss: 17.4996\n",
            "Epoch [   33/  100] | d_loss: 0.4737 | g_loss: 16.4824\n",
            "Epoch [   33/  100] | d_loss: 0.3374 | g_loss: 12.9450\n",
            "Epoch [   34/  100] | d_loss: 0.3394 | g_loss: 9.9180\n",
            "Epoch [   34/  100] | d_loss: 0.3519 | g_loss: 15.1808\n",
            "Epoch [   34/  100] | d_loss: 0.3564 | g_loss: 11.1563\n",
            "Epoch [   35/  100] | d_loss: 0.3558 | g_loss: 13.9440\n",
            "Epoch [   35/  100] | d_loss: 0.3830 | g_loss: 16.3138\n",
            "Epoch [   35/  100] | d_loss: 0.3449 | g_loss: 14.9000\n",
            "Epoch [   36/  100] | d_loss: 0.3482 | g_loss: 13.7220\n",
            "Epoch [   36/  100] | d_loss: 0.3417 | g_loss: 18.6416\n",
            "Epoch [   36/  100] | d_loss: 0.3458 | g_loss: 14.7763\n",
            "Epoch [   37/  100] | d_loss: 0.3775 | g_loss: 12.9766\n",
            "Epoch [   37/  100] | d_loss: 0.3429 | g_loss: 17.5267\n",
            "Epoch [   37/  100] | d_loss: 0.3432 | g_loss: 12.5991\n",
            "Epoch [   38/  100] | d_loss: 0.3957 | g_loss: 11.9654\n",
            "Epoch [   38/  100] | d_loss: 0.3290 | g_loss: 15.3757\n",
            "Epoch [   38/  100] | d_loss: 0.4567 | g_loss: 8.3923\n",
            "Epoch [   39/  100] | d_loss: 0.3407 | g_loss: 14.3648\n",
            "Epoch [   39/  100] | d_loss: 0.3374 | g_loss: 11.3361\n",
            "Epoch [   39/  100] | d_loss: 0.3576 | g_loss: 8.8339\n",
            "Epoch [   40/  100] | d_loss: 0.3477 | g_loss: 10.5499\n",
            "Epoch [   40/  100] | d_loss: 0.3565 | g_loss: 12.8710\n",
            "Epoch [   40/  100] | d_loss: 0.4077 | g_loss: 14.5471\n",
            "Epoch [   41/  100] | d_loss: 0.3478 | g_loss: 10.1665\n",
            "Epoch [   41/  100] | d_loss: 0.4036 | g_loss: 18.7921\n",
            "Epoch [   41/  100] | d_loss: 0.3414 | g_loss: 12.9597\n",
            "Epoch [   42/  100] | d_loss: 0.3883 | g_loss: 15.1201\n",
            "Epoch [   42/  100] | d_loss: 0.3330 | g_loss: 15.6640\n",
            "Epoch [   42/  100] | d_loss: 0.3829 | g_loss: 8.3038\n",
            "Epoch [   43/  100] | d_loss: 0.3804 | g_loss: 11.2823\n",
            "Epoch [   43/  100] | d_loss: 0.3318 | g_loss: 16.7181\n",
            "Epoch [   43/  100] | d_loss: 0.3713 | g_loss: 9.2225\n",
            "Epoch [   44/  100] | d_loss: 0.3567 | g_loss: 13.0230\n",
            "Epoch [   44/  100] | d_loss: 0.3323 | g_loss: 16.3290\n",
            "Epoch [   44/  100] | d_loss: 0.3721 | g_loss: 10.1791\n",
            "Epoch [   45/  100] | d_loss: 0.3701 | g_loss: 14.1200\n",
            "Epoch [   45/  100] | d_loss: 0.3514 | g_loss: 13.4197\n",
            "Epoch [   45/  100] | d_loss: 0.3479 | g_loss: 11.6814\n",
            "Epoch [   46/  100] | d_loss: 0.3791 | g_loss: 17.1705\n",
            "Epoch [   46/  100] | d_loss: 0.3494 | g_loss: 16.5706\n",
            "Epoch [   46/  100] | d_loss: 0.3476 | g_loss: 13.7809\n",
            "Epoch [   47/  100] | d_loss: 0.3556 | g_loss: 12.2641\n",
            "Epoch [   47/  100] | d_loss: 0.3384 | g_loss: 13.6404\n",
            "Epoch [   47/  100] | d_loss: 0.3407 | g_loss: 11.0598\n",
            "Epoch [   48/  100] | d_loss: 0.3850 | g_loss: 14.7256\n",
            "Epoch [   48/  100] | d_loss: 0.3651 | g_loss: 16.7113\n",
            "Epoch [   48/  100] | d_loss: 0.3752 | g_loss: 10.6182\n",
            "Epoch [   49/  100] | d_loss: 0.3623 | g_loss: 10.7902\n",
            "Epoch [   49/  100] | d_loss: 0.3388 | g_loss: 12.4665\n",
            "Epoch [   49/  100] | d_loss: 0.3843 | g_loss: 6.8884\n",
            "Epoch [   50/  100] | d_loss: 0.3542 | g_loss: 10.7234\n",
            "Epoch [   50/  100] | d_loss: 0.3396 | g_loss: 16.5136\n",
            "Epoch [   50/  100] | d_loss: 0.3679 | g_loss: 9.6105\n",
            "Epoch [   51/  100] | d_loss: 0.4180 | g_loss: 10.6484\n",
            "Epoch [   51/  100] | d_loss: 0.3664 | g_loss: 15.0295\n",
            "Epoch [   51/  100] | d_loss: 0.3622 | g_loss: 10.3248\n",
            "Epoch [   52/  100] | d_loss: 0.3725 | g_loss: 10.8260\n",
            "Epoch [   52/  100] | d_loss: 0.3975 | g_loss: 11.2708\n",
            "Epoch [   52/  100] | d_loss: 0.3495 | g_loss: 12.5245\n",
            "Epoch [   53/  100] | d_loss: 0.3563 | g_loss: 10.9310\n",
            "Epoch [   53/  100] | d_loss: 0.3616 | g_loss: 12.2629\n",
            "Epoch [   53/  100] | d_loss: 0.4015 | g_loss: 15.8219\n",
            "Epoch [   54/  100] | d_loss: 0.4014 | g_loss: 13.6913\n",
            "Epoch [   54/  100] | d_loss: 0.3337 | g_loss: 15.3207\n",
            "Epoch [   54/  100] | d_loss: 0.3465 | g_loss: 14.4739\n",
            "Epoch [   55/  100] | d_loss: 0.4317 | g_loss: 10.9393\n",
            "Epoch [   55/  100] | d_loss: 0.3480 | g_loss: 12.7895\n",
            "Epoch [   55/  100] | d_loss: 0.3818 | g_loss: 11.2000\n",
            "Epoch [   56/  100] | d_loss: 0.3390 | g_loss: 14.0770\n",
            "Epoch [   56/  100] | d_loss: 0.3453 | g_loss: 15.4296\n",
            "Epoch [   56/  100] | d_loss: 0.3918 | g_loss: 9.4120\n",
            "Epoch [   57/  100] | d_loss: 0.4197 | g_loss: 9.5533\n",
            "Epoch [   57/  100] | d_loss: 0.3322 | g_loss: 11.4999\n",
            "Epoch [   57/  100] | d_loss: 0.3569 | g_loss: 14.1387\n",
            "Epoch [   58/  100] | d_loss: 0.3877 | g_loss: 11.0674\n",
            "Epoch [   58/  100] | d_loss: 0.3386 | g_loss: 14.3826\n",
            "Epoch [   58/  100] | d_loss: 0.3427 | g_loss: 14.8255\n",
            "Epoch [   59/  100] | d_loss: 0.3454 | g_loss: 11.8648\n",
            "Epoch [   59/  100] | d_loss: 0.3921 | g_loss: 11.2013\n",
            "Epoch [   59/  100] | d_loss: 0.3798 | g_loss: 9.4601\n",
            "Epoch [   60/  100] | d_loss: 0.3811 | g_loss: 11.6312\n",
            "Epoch [   60/  100] | d_loss: 0.4092 | g_loss: 10.9028\n",
            "Epoch [   60/  100] | d_loss: 0.3821 | g_loss: 15.8879\n",
            "Epoch [   61/  100] | d_loss: 0.3721 | g_loss: 10.8969\n",
            "Epoch [   61/  100] | d_loss: 0.3468 | g_loss: 17.6544\n",
            "Epoch [   61/  100] | d_loss: 0.3626 | g_loss: 16.0411\n",
            "Epoch [   62/  100] | d_loss: 0.3576 | g_loss: 11.9294\n",
            "Epoch [   62/  100] | d_loss: 0.3644 | g_loss: 10.2594\n",
            "Epoch [   62/  100] | d_loss: 0.4118 | g_loss: 10.4545\n",
            "Epoch [   63/  100] | d_loss: 0.4335 | g_loss: 9.9182\n",
            "Epoch [   63/  100] | d_loss: 0.3722 | g_loss: 12.1421\n",
            "Epoch [   63/  100] | d_loss: 0.3702 | g_loss: 12.7418\n",
            "Epoch [   64/  100] | d_loss: 0.3680 | g_loss: 16.2466\n",
            "Epoch [   64/  100] | d_loss: 0.3668 | g_loss: 12.1781\n",
            "Epoch [   64/  100] | d_loss: 0.3420 | g_loss: 13.2027\n",
            "Epoch [   65/  100] | d_loss: 0.3874 | g_loss: 14.3750\n",
            "Epoch [   65/  100] | d_loss: 0.3339 | g_loss: 16.9621\n",
            "Epoch [   65/  100] | d_loss: 0.3389 | g_loss: 11.6579\n",
            "Epoch [   66/  100] | d_loss: 0.4013 | g_loss: 9.5567\n",
            "Epoch [   66/  100] | d_loss: 0.3747 | g_loss: 8.5787\n",
            "Epoch [   66/  100] | d_loss: 0.3406 | g_loss: 13.0618\n",
            "Epoch [   67/  100] | d_loss: 0.3548 | g_loss: 16.1467\n",
            "Epoch [   67/  100] | d_loss: 0.3806 | g_loss: 15.6250\n",
            "Epoch [   67/  100] | d_loss: 0.3831 | g_loss: 15.5861\n",
            "Epoch [   68/  100] | d_loss: 0.3762 | g_loss: 12.3416\n",
            "Epoch [   68/  100] | d_loss: 0.3317 | g_loss: 12.2703\n",
            "Epoch [   68/  100] | d_loss: 0.3400 | g_loss: 17.7265\n",
            "Epoch [   69/  100] | d_loss: 0.3607 | g_loss: 11.7918\n",
            "Epoch [   69/  100] | d_loss: 0.3448 | g_loss: 17.4134\n",
            "Epoch [   69/  100] | d_loss: 0.3327 | g_loss: 16.0655\n",
            "Epoch [   70/  100] | d_loss: 0.3448 | g_loss: 9.9444\n",
            "Epoch [   70/  100] | d_loss: 0.3552 | g_loss: 12.6791\n",
            "Epoch [   70/  100] | d_loss: 0.3571 | g_loss: 17.3417\n",
            "Epoch [   71/  100] | d_loss: 0.3615 | g_loss: 13.3486\n",
            "Epoch [   71/  100] | d_loss: 0.3423 | g_loss: 15.1426\n",
            "Epoch [   71/  100] | d_loss: 0.3414 | g_loss: 18.8199\n",
            "Epoch [   72/  100] | d_loss: 0.3515 | g_loss: 16.7769\n",
            "Epoch [   72/  100] | d_loss: 0.3468 | g_loss: 13.5534\n",
            "Epoch [   72/  100] | d_loss: 0.3569 | g_loss: 13.3785\n",
            "Epoch [   73/  100] | d_loss: 0.3338 | g_loss: 13.2823\n",
            "Epoch [   73/  100] | d_loss: 0.3769 | g_loss: 12.0851\n",
            "Epoch [   73/  100] | d_loss: 0.3454 | g_loss: 15.4518\n",
            "Epoch [   74/  100] | d_loss: 0.3682 | g_loss: 13.8327\n",
            "Epoch [   74/  100] | d_loss: 0.3462 | g_loss: 14.9291\n",
            "Epoch [   74/  100] | d_loss: 0.3536 | g_loss: 10.5644\n",
            "Epoch [   75/  100] | d_loss: 0.3402 | g_loss: 13.1751\n",
            "Epoch [   75/  100] | d_loss: 0.3527 | g_loss: 11.3756\n",
            "Epoch [   75/  100] | d_loss: 0.3407 | g_loss: 14.5804\n",
            "Epoch [   76/  100] | d_loss: 0.3693 | g_loss: 14.5940\n",
            "Epoch [   76/  100] | d_loss: 0.3376 | g_loss: 13.7607\n",
            "Epoch [   76/  100] | d_loss: 0.3895 | g_loss: 10.5276\n",
            "Epoch [   77/  100] | d_loss: 0.3790 | g_loss: 16.0532\n",
            "Epoch [   77/  100] | d_loss: 0.3393 | g_loss: 18.1721\n",
            "Epoch [   77/  100] | d_loss: 0.3504 | g_loss: 13.0679\n",
            "Epoch [   78/  100] | d_loss: 0.3621 | g_loss: 12.0295\n",
            "Epoch [   78/  100] | d_loss: 0.3834 | g_loss: 10.7977\n",
            "Epoch [   78/  100] | d_loss: 0.3415 | g_loss: 15.7444\n",
            "Epoch [   79/  100] | d_loss: 0.3704 | g_loss: 11.7470\n",
            "Epoch [   79/  100] | d_loss: 0.3587 | g_loss: 13.0396\n",
            "Epoch [   79/  100] | d_loss: 0.3459 | g_loss: 17.7753\n",
            "Epoch [   80/  100] | d_loss: 0.4411 | g_loss: 10.6876\n",
            "Epoch [   80/  100] | d_loss: 0.3506 | g_loss: 14.8543\n",
            "Epoch [   80/  100] | d_loss: 0.3783 | g_loss: 14.9581\n",
            "Epoch [   81/  100] | d_loss: 0.3474 | g_loss: 12.1923\n",
            "Epoch [   81/  100] | d_loss: 0.3503 | g_loss: 15.5703\n",
            "Epoch [   81/  100] | d_loss: 0.3863 | g_loss: 18.1126\n",
            "Epoch [   82/  100] | d_loss: 0.3482 | g_loss: 16.8564\n",
            "Epoch [   82/  100] | d_loss: 0.3581 | g_loss: 14.0679\n",
            "Epoch [   82/  100] | d_loss: 0.3451 | g_loss: 14.3730\n",
            "Epoch [   83/  100] | d_loss: 0.3445 | g_loss: 13.3777\n",
            "Epoch [   83/  100] | d_loss: 0.3893 | g_loss: 13.4810\n",
            "Epoch [   83/  100] | d_loss: 0.3725 | g_loss: 18.1444\n",
            "Epoch [   84/  100] | d_loss: 0.3855 | g_loss: 13.0271\n",
            "Epoch [   84/  100] | d_loss: 0.3395 | g_loss: 14.9499\n",
            "Epoch [   84/  100] | d_loss: 0.3544 | g_loss: 14.9694\n",
            "Epoch [   85/  100] | d_loss: 0.3737 | g_loss: 13.4799\n",
            "Epoch [   85/  100] | d_loss: 0.3595 | g_loss: 12.1667\n",
            "Epoch [   85/  100] | d_loss: 0.3496 | g_loss: 14.9699\n",
            "Epoch [   86/  100] | d_loss: 0.3353 | g_loss: 15.8048\n",
            "Epoch [   86/  100] | d_loss: 0.3664 | g_loss: 10.3711\n",
            "Epoch [   86/  100] | d_loss: 0.3441 | g_loss: 13.5824\n",
            "Epoch [   87/  100] | d_loss: 0.3585 | g_loss: 16.7847\n",
            "Epoch [   87/  100] | d_loss: 0.3554 | g_loss: 12.4255\n",
            "Epoch [   87/  100] | d_loss: 0.3584 | g_loss: 17.2934\n",
            "Epoch [   88/  100] | d_loss: 0.3847 | g_loss: 15.9372\n",
            "Epoch [   88/  100] | d_loss: 0.3451 | g_loss: 13.1742\n",
            "Epoch [   88/  100] | d_loss: 0.3371 | g_loss: 19.1361\n",
            "Epoch [   89/  100] | d_loss: 0.3930 | g_loss: 17.2622\n",
            "Epoch [   89/  100] | d_loss: 0.3654 | g_loss: 13.1583\n",
            "Epoch [   89/  100] | d_loss: 0.3442 | g_loss: 13.2247\n",
            "Epoch [   90/  100] | d_loss: 0.3731 | g_loss: 11.3301\n",
            "Epoch [   90/  100] | d_loss: 0.4042 | g_loss: 11.4758\n",
            "Epoch [   90/  100] | d_loss: 0.3558 | g_loss: 13.9677\n",
            "Epoch [   91/  100] | d_loss: 0.3630 | g_loss: 12.3661\n",
            "Epoch [   91/  100] | d_loss: 0.3521 | g_loss: 14.6943\n",
            "Epoch [   91/  100] | d_loss: 0.3591 | g_loss: 9.0362\n",
            "Epoch [   92/  100] | d_loss: 0.3647 | g_loss: 9.5331\n",
            "Epoch [   92/  100] | d_loss: 0.3530 | g_loss: 11.4373\n",
            "Epoch [   92/  100] | d_loss: 0.3559 | g_loss: 18.0589\n",
            "Epoch [   93/  100] | d_loss: 0.4175 | g_loss: 19.2593\n",
            "Epoch [   93/  100] | d_loss: 0.3443 | g_loss: 12.3214\n",
            "Epoch [   93/  100] | d_loss: 0.3899 | g_loss: 10.8528\n",
            "Epoch [   94/  100] | d_loss: 0.3654 | g_loss: 16.4515\n",
            "Epoch [   94/  100] | d_loss: 0.3767 | g_loss: 13.9386\n",
            "Epoch [   94/  100] | d_loss: 0.3578 | g_loss: 13.3242\n",
            "Epoch [   95/  100] | d_loss: 0.3573 | g_loss: 14.8373\n",
            "Epoch [   95/  100] | d_loss: 0.3455 | g_loss: 18.7334\n",
            "Epoch [   95/  100] | d_loss: 0.3361 | g_loss: 14.9141\n",
            "Epoch [   96/  100] | d_loss: 0.3443 | g_loss: 16.1177\n",
            "Epoch [   96/  100] | d_loss: 0.3912 | g_loss: 14.3866\n",
            "Epoch [   96/  100] | d_loss: 0.3549 | g_loss: 14.6757\n",
            "Epoch [   97/  100] | d_loss: 0.3996 | g_loss: 17.6655\n",
            "Epoch [   97/  100] | d_loss: 0.3555 | g_loss: 11.1643\n",
            "Epoch [   97/  100] | d_loss: 0.3476 | g_loss: 15.5236\n",
            "Epoch [   98/  100] | d_loss: 0.3530 | g_loss: 14.0113\n",
            "Epoch [   98/  100] | d_loss: 0.3353 | g_loss: 15.5662\n",
            "Epoch [   98/  100] | d_loss: 0.3781 | g_loss: 13.5046\n",
            "Epoch [   99/  100] | d_loss: 0.3475 | g_loss: 14.3624\n",
            "Epoch [   99/  100] | d_loss: 0.3499 | g_loss: 13.3501\n",
            "Epoch [   99/  100] | d_loss: 0.3685 | g_loss: 13.9450\n",
            "Epoch [  100/  100] | d_loss: 0.3517 | g_loss: 13.2032\n",
            "Epoch [  100/  100] | d_loss: 0.3986 | g_loss: 11.9847\n",
            "Epoch [  100/  100] | d_loss: 0.3752 | g_loss: 11.9985\n"
          ],
          "name": "stdout"
        }
      ]
    },
    {
      "cell_type": "code",
      "metadata": {
        "id": "U2ZDBP2_7kTf"
      },
      "source": [
        "# Save training generator samples\r\n",
        "with open('train_samples.pkl', 'wb') as f:\r\n",
        "    pkl.dump(samples, f)"
      ],
      "execution_count": 13,
      "outputs": []
    },
    {
      "cell_type": "markdown",
      "metadata": {
        "id": "H9tR-mVN7rm5"
      },
      "source": [
        "## `Generator samples from training`"
      ]
    },
    {
      "cell_type": "code",
      "metadata": {
        "id": "QAD6KHgC7uE9"
      },
      "source": [
        "# helper function for viewing a list of passed in sample images\r\n",
        "def view_samples(epoch, samples):\r\n",
        "    fig, axes = plt.subplots(figsize=(7,7), nrows=4, ncols=4, sharey=True, sharex=True)\r\n",
        "    for ax, img in zip(axes.flatten(), samples[epoch]):\r\n",
        "        img = img.detach()\r\n",
        "        ax.xaxis.set_visible(False)\r\n",
        "        ax.yaxis.set_visible(False)\r\n",
        "        im = ax.imshow(img.reshape((28,28)), cmap='Greys_r')"
      ],
      "execution_count": 14,
      "outputs": []
    },
    {
      "cell_type": "code",
      "metadata": {
        "id": "X9MXCmPJ74p2"
      },
      "source": [
        "# Load samples from generator, taken while training\r\n",
        "with open('train_samples.pkl', 'rb') as f:\r\n",
        "    samples = pkl.load(f)"
      ],
      "execution_count": 15,
      "outputs": []
    },
    {
      "cell_type": "code",
      "metadata": {
        "colab": {
          "base_uri": "https://localhost:8080/",
          "height": 415
        },
        "id": "qIJK7iyx7_Js",
        "outputId": "11e8874f-efd9-45bf-b297-2de4978ff359"
      },
      "source": [
        "# -1 indicates final epoch's samples (the last in the list)\r\n",
        "view_samples(-1, samples)"
      ],
      "execution_count": 16,
      "outputs": [
        {
          "output_type": "display_data",
          "data": {
            "image/png": "[encoded data removed]",
            "text/plain": [
              "<Figure size 504x504 with 16 Axes>"
            ]
          },
          "metadata": {
            "tags": [],
            "needs_background": "light"
          }
        }
      ]
    },
    {
      "cell_type": "code",
      "metadata": {
        "colab": {
          "base_uri": "https://localhost:8080/",
          "height": 687
        },
        "id": "AnpkzSuR8D0J",
        "outputId": "ee58b474-a616-42c9-e28f-cefd6e1f8fe5"
      },
      "source": [
        "rows = 10 # split epochs into 10, so 100/10 = every 10 epochs\r\n",
        "cols = 6\r\n",
        "fig, axes = plt.subplots(figsize=(7,12), nrows=rows, ncols=cols, sharex=True, sharey=True)\r\n",
        "\r\n",
        "for sample, ax_row in zip(samples[::int(len(samples)/rows)], axes):\r\n",
        "    for img, ax in zip(sample[::int(len(sample)/cols)], ax_row):\r\n",
        "        img = img.detach()\r\n",
        "        ax.imshow(img.reshape((28,28)), cmap='Greys_r')\r\n",
        "        ax.xaxis.set_visible(False)\r\n",
        "        ax.yaxis.set_visible(False)"
      ],
      "execution_count": 17,
      "outputs": [
        {
          "output_type": "display_data",
          "data": {
            "image/png": "[encoded data removed]",
            "text/plain": [
              "<Figure size 504x864 with 60 Axes>"
            ]
          },
          "metadata": {
            "tags": [],
            "needs_background": "light"
          }
        }
      ]
    },
    {
      "cell_type": "markdown",
      "metadata": {
        "id": "glQOyiEI8H00"
      },
      "source": [
        "## `Sampling from the generator`"
      ]
    },
    {
      "cell_type": "code",
      "metadata": {
        "colab": {
          "base_uri": "https://localhost:8080/",
          "height": 449
        },
        "id": "Q81M65MZ8Km_",
        "outputId": "1a8aa300-0dee-4dbd-f2db-8f31690f8bb3"
      },
      "source": [
        "# randomly generated, new latent vectors\r\n",
        "sample_size=16\r\n",
        "rand_z = np.random.uniform(-1, 1, size=(sample_size, z_size))\r\n",
        "rand_z = torch.from_numpy(rand_z).float()\r\n",
        "\r\n",
        "G.eval() # eval mode\r\n",
        "# generated samples\r\n",
        "rand_images = G(rand_z)\r\n",
        "\r\n",
        "# 0 indicates the first set of samples in the passed in list\r\n",
        "# and we only have one batch of samples, here\r\n",
        "view_samples(0, [rand_images])"
      ],
      "execution_count": 18,
      "outputs": [
        {
          "output_type": "stream",
          "text": [
            "/usr/local/lib/python3.6/dist-packages/torch/nn/functional.py:1628: UserWarning: nn.functional.tanh is deprecated. Use torch.tanh instead.\n",
            "  warnings.warn(\"nn.functional.tanh is deprecated. Use torch.tanh instead.\")\n"
          ],
          "name": "stderr"
        },
        {
          "output_type": "display_data",
          "data": {
            "image/png": "[encoded data removed]",
            "text/plain": [
              "<Figure size 504x504 with 16 Axes>"
            ]
          },
          "metadata": {
            "tags": [],
            "needs_background": "light"
          }
        }
      ]
    }
  ]
}