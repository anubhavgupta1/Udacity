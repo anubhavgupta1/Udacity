{
  "nbformat": 4,
  "nbformat_minor": 0,
  "metadata": {
    "colab": {
      "name": "Untitled23.ipynb",
      "provenance": [],
      "authorship_tag": "ABX9TyP+tfcQvIws6RUJlK+SmcpK",
      "include_colab_link": true
    },
    "kernelspec": {
      "name": "python3",
      "display_name": "Python 3"
    },
    "widgets": {
      "application/vnd.jupyter.widget-state+json": {
        "e1e786d69beb4259b31c192419918e4e": {
          "model_module": "@jupyter-widgets/controls",
          "model_name": "HBoxModel",
          "state": {
            "_view_name": "HBoxView",
            "_dom_classes": [],
            "_model_name": "HBoxModel",
            "_view_module": "@jupyter-widgets/controls",
            "_model_module_version": "1.5.0",
            "_view_count": null,
            "_view_module_version": "1.5.0",
            "box_style": "",
            "layout": "IPY_MODEL_a2cf77cbcfb849d4bfd6a240aac7ccc0",
            "_model_module": "@jupyter-widgets/controls",
            "children": [
              "IPY_MODEL_29006cfb39584da3b3d3e96365694def",
              "IPY_MODEL_8aface03857a4f4e81b132ff0ccf4d71"
            ]
          }
        },
        "a2cf77cbcfb849d4bfd6a240aac7ccc0": {
          "model_module": "@jupyter-widgets/base",
          "model_name": "LayoutModel",
          "state": {
            "_view_name": "LayoutView",
            "grid_template_rows": null,
            "right": null,
            "justify_content": null,
            "_view_module": "@jupyter-widgets/base",
            "overflow": null,
            "_model_module_version": "1.2.0",
            "_view_count": null,
            "flex_flow": null,
            "width": null,
            "min_width": null,
            "border": null,
            "align_items": null,
            "bottom": null,
            "_model_module": "@jupyter-widgets/base",
            "top": null,
            "grid_column": null,
            "overflow_y": null,
            "overflow_x": null,
            "grid_auto_flow": null,
            "grid_area": null,
            "grid_template_columns": null,
            "flex": null,
            "_model_name": "LayoutModel",
            "justify_items": null,
            "grid_row": null,
            "max_height": null,
            "align_content": null,
            "visibility": null,
            "align_self": null,
            "height": null,
            "min_height": null,
            "padding": null,
            "grid_auto_rows": null,
            "grid_gap": null,
            "max_width": null,
            "order": null,
            "_view_module_version": "1.2.0",
            "grid_template_areas": null,
            "object_position": null,
            "object_fit": null,
            "grid_auto_columns": null,
            "margin": null,
            "display": null,
            "left": null
          }
        },
        "29006cfb39584da3b3d3e96365694def": {
          "model_module": "@jupyter-widgets/controls",
          "model_name": "FloatProgressModel",
          "state": {
            "_view_name": "ProgressView",
            "style": "IPY_MODEL_023da67c982848209a6e5de7d16bddcd",
            "_dom_classes": [],
            "description": "",
            "_model_name": "FloatProgressModel",
            "bar_style": "success",
            "max": 1,
            "_view_module": "@jupyter-widgets/controls",
            "_model_module_version": "1.5.0",
            "value": 1,
            "_view_count": null,
            "_view_module_version": "1.5.0",
            "orientation": "horizontal",
            "min": 0,
            "description_tooltip": null,
            "_model_module": "@jupyter-widgets/controls",
            "layout": "IPY_MODEL_fcfec3232dfa49a8b8598338135fd444"
          }
        },
        "8aface03857a4f4e81b132ff0ccf4d71": {
          "model_module": "@jupyter-widgets/controls",
          "model_name": "HTMLModel",
          "state": {
            "_view_name": "HTMLView",
            "style": "IPY_MODEL_18b301be51964c85ac2041010fc7a959",
            "_dom_classes": [],
            "description": "",
            "_model_name": "HTMLModel",
            "placeholder": "​",
            "_view_module": "@jupyter-widgets/controls",
            "_model_module_version": "1.5.0",
            "value": " 9920512/? [00:01&lt;00:00, 8019551.45it/s]",
            "_view_count": null,
            "_view_module_version": "1.5.0",
            "description_tooltip": null,
            "_model_module": "@jupyter-widgets/controls",
            "layout": "IPY_MODEL_5fa6718ac29c47d8a1fe92a6a7530aff"
          }
        },
        "023da67c982848209a6e5de7d16bddcd": {
          "model_module": "@jupyter-widgets/controls",
          "model_name": "ProgressStyleModel",
          "state": {
            "_view_name": "StyleView",
            "_model_name": "ProgressStyleModel",
            "description_width": "initial",
            "_view_module": "@jupyter-widgets/base",
            "_model_module_version": "1.5.0",
            "_view_count": null,
            "_view_module_version": "1.2.0",
            "bar_color": null,
            "_model_module": "@jupyter-widgets/controls"
          }
        },
        "fcfec3232dfa49a8b8598338135fd444": {
          "model_module": "@jupyter-widgets/base",
          "model_name": "LayoutModel",
          "state": {
            "_view_name": "LayoutView",
            "grid_template_rows": null,
            "right": null,
            "justify_content": null,
            "_view_module": "@jupyter-widgets/base",
            "overflow": null,
            "_model_module_version": "1.2.0",
            "_view_count": null,
            "flex_flow": null,
            "width": null,
            "min_width": null,
            "border": null,
            "align_items": null,
            "bottom": null,
            "_model_module": "@jupyter-widgets/base",
            "top": null,
            "grid_column": null,
            "overflow_y": null,
            "overflow_x": null,
            "grid_auto_flow": null,
            "grid_area": null,
            "grid_template_columns": null,
            "flex": null,
            "_model_name": "LayoutModel",
            "justify_items": null,
            "grid_row": null,
            "max_height": null,
            "align_content": null,
            "visibility": null,
            "align_self": null,
            "height": null,
            "min_height": null,
            "padding": null,
            "grid_auto_rows": null,
            "grid_gap": null,
            "max_width": null,
            "order": null,
            "_view_module_version": "1.2.0",
            "grid_template_areas": null,
            "object_position": null,
            "object_fit": null,
            "grid_auto_columns": null,
            "margin": null,
            "display": null,
            "left": null
          }
        },
        "18b301be51964c85ac2041010fc7a959": {
          "model_module": "@jupyter-widgets/controls",
          "model_name": "DescriptionStyleModel",
          "state": {
            "_view_name": "StyleView",
            "_model_name": "DescriptionStyleModel",
            "description_width": "",
            "_view_module": "@jupyter-widgets/base",
            "_model_module_version": "1.5.0",
            "_view_count": null,
            "_view_module_version": "1.2.0",
            "_model_module": "@jupyter-widgets/controls"
          }
        },
        "5fa6718ac29c47d8a1fe92a6a7530aff": {
          "model_module": "@jupyter-widgets/base",
          "model_name": "LayoutModel",
          "state": {
            "_view_name": "LayoutView",
            "grid_template_rows": null,
            "right": null,
            "justify_content": null,
            "_view_module": "@jupyter-widgets/base",
            "overflow": null,
            "_model_module_version": "1.2.0",
            "_view_count": null,
            "flex_flow": null,
            "width": null,
            "min_width": null,
            "border": null,
            "align_items": null,
            "bottom": null,
            "_model_module": "@jupyter-widgets/base",
            "top": null,
            "grid_column": null,
            "overflow_y": null,
            "overflow_x": null,
            "grid_auto_flow": null,
            "grid_area": null,
            "grid_template_columns": null,
            "flex": null,
            "_model_name": "LayoutModel",
            "justify_items": null,
            "grid_row": null,
            "max_height": null,
            "align_content": null,
            "visibility": null,
            "align_self": null,
            "height": null,
            "min_height": null,
            "padding": null,
            "grid_auto_rows": null,
            "grid_gap": null,
            "max_width": null,
            "order": null,
            "_view_module_version": "1.2.0",
            "grid_template_areas": null,
            "object_position": null,
            "object_fit": null,
            "grid_auto_columns": null,
            "margin": null,
            "display": null,
            "left": null
          }
        },
        "daedc34a2d6a4b23857ee4814c62af98": {
          "model_module": "@jupyter-widgets/controls",
          "model_name": "HBoxModel",
          "state": {
            "_view_name": "HBoxView",
            "_dom_classes": [],
            "_model_name": "HBoxModel",
            "_view_module": "@jupyter-widgets/controls",
            "_model_module_version": "1.5.0",
            "_view_count": null,
            "_view_module_version": "1.5.0",
            "box_style": "",
            "layout": "IPY_MODEL_c239846a0c3a4900a20b5fa70424a3aa",
            "_model_module": "@jupyter-widgets/controls",
            "children": [
              "IPY_MODEL_c156ea6e4aea4c229e6dfef4411f993c",
              "IPY_MODEL_e815d9d83cf84048b55a539789dce9f0"
            ]
          }
        },
        "c239846a0c3a4900a20b5fa70424a3aa": {
          "model_module": "@jupyter-widgets/base",
          "model_name": "LayoutModel",
          "state": {
            "_view_name": "LayoutView",
            "grid_template_rows": null,
            "right": null,
            "justify_content": null,
            "_view_module": "@jupyter-widgets/base",
            "overflow": null,
            "_model_module_version": "1.2.0",
            "_view_count": null,
            "flex_flow": null,
            "width": null,
            "min_width": null,
            "border": null,
            "align_items": null,
            "bottom": null,
            "_model_module": "@jupyter-widgets/base",
            "top": null,
            "grid_column": null,
            "overflow_y": null,
            "overflow_x": null,
            "grid_auto_flow": null,
            "grid_area": null,
            "grid_template_columns": null,
            "flex": null,
            "_model_name": "LayoutModel",
            "justify_items": null,
            "grid_row": null,
            "max_height": null,
            "align_content": null,
            "visibility": null,
            "align_self": null,
            "height": null,
            "min_height": null,
            "padding": null,
            "grid_auto_rows": null,
            "grid_gap": null,
            "max_width": null,
            "order": null,
            "_view_module_version": "1.2.0",
            "grid_template_areas": null,
            "object_position": null,
            "object_fit": null,
            "grid_auto_columns": null,
            "margin": null,
            "display": null,
            "left": null
          }
        },
        "c156ea6e4aea4c229e6dfef4411f993c": {
          "model_module": "@jupyter-widgets/controls",
          "model_name": "FloatProgressModel",
          "state": {
            "_view_name": "ProgressView",
            "style": "IPY_MODEL_da44ae758e684cdb88daa401a0421da0",
            "_dom_classes": [],
            "description": "",
            "_model_name": "FloatProgressModel",
            "bar_style": "success",
            "max": 1,
            "_view_module": "@jupyter-widgets/controls",
            "_model_module_version": "1.5.0",
            "value": 1,
            "_view_count": null,
            "_view_module_version": "1.5.0",
            "orientation": "horizontal",
            "min": 0,
            "description_tooltip": null,
            "_model_module": "@jupyter-widgets/controls",
            "layout": "IPY_MODEL_ba4b4d1bad654540bb0c7375ec770eb7"
          }
        },
        "e815d9d83cf84048b55a539789dce9f0": {
          "model_module": "@jupyter-widgets/controls",
          "model_name": "HTMLModel",
          "state": {
            "_view_name": "HTMLView",
            "style": "IPY_MODEL_e2c665a1a03f4bf0be7c65246806d5d9",
            "_dom_classes": [],
            "description": "",
            "_model_name": "HTMLModel",
            "placeholder": "​",
            "_view_module": "@jupyter-widgets/controls",
            "_model_module_version": "1.5.0",
            "value": " 32768/? [00:00&lt;00:00, 321749.77it/s]",
            "_view_count": null,
            "_view_module_version": "1.5.0",
            "description_tooltip": null,
            "_model_module": "@jupyter-widgets/controls",
            "layout": "IPY_MODEL_f75ee411ebbb4146bea901cca59b6521"
          }
        },
        "da44ae758e684cdb88daa401a0421da0": {
          "model_module": "@jupyter-widgets/controls",
          "model_name": "ProgressStyleModel",
          "state": {
            "_view_name": "StyleView",
            "_model_name": "ProgressStyleModel",
            "description_width": "initial",
            "_view_module": "@jupyter-widgets/base",
            "_model_module_version": "1.5.0",
            "_view_count": null,
            "_view_module_version": "1.2.0",
            "bar_color": null,
            "_model_module": "@jupyter-widgets/controls"
          }
        },
        "ba4b4d1bad654540bb0c7375ec770eb7": {
          "model_module": "@jupyter-widgets/base",
          "model_name": "LayoutModel",
          "state": {
            "_view_name": "LayoutView",
            "grid_template_rows": null,
            "right": null,
            "justify_content": null,
            "_view_module": "@jupyter-widgets/base",
            "overflow": null,
            "_model_module_version": "1.2.0",
            "_view_count": null,
            "flex_flow": null,
            "width": null,
            "min_width": null,
            "border": null,
            "align_items": null,
            "bottom": null,
            "_model_module": "@jupyter-widgets/base",
            "top": null,
            "grid_column": null,
            "overflow_y": null,
            "overflow_x": null,
            "grid_auto_flow": null,
            "grid_area": null,
            "grid_template_columns": null,
            "flex": null,
            "_model_name": "LayoutModel",
            "justify_items": null,
            "grid_row": null,
            "max_height": null,
            "align_content": null,
            "visibility": null,
            "align_self": null,
            "height": null,
            "min_height": null,
            "padding": null,
            "grid_auto_rows": null,
            "grid_gap": null,
            "max_width": null,
            "order": null,
            "_view_module_version": "1.2.0",
            "grid_template_areas": null,
            "object_position": null,
            "object_fit": null,
            "grid_auto_columns": null,
            "margin": null,
            "display": null,
            "left": null
          }
        },
        "e2c665a1a03f4bf0be7c65246806d5d9": {
          "model_module": "@jupyter-widgets/controls",
          "model_name": "DescriptionStyleModel",
          "state": {
            "_view_name": "StyleView",
            "_model_name": "DescriptionStyleModel",
            "description_width": "",
            "_view_module": "@jupyter-widgets/base",
            "_model_module_version": "1.5.0",
            "_view_count": null,
            "_view_module_version": "1.2.0",
            "_model_module": "@jupyter-widgets/controls"
          }
        },
        "f75ee411ebbb4146bea901cca59b6521": {
          "model_module": "@jupyter-widgets/base",
          "model_name": "LayoutModel",
          "state": {
            "_view_name": "LayoutView",
            "grid_template_rows": null,
            "right": null,
            "justify_content": null,
            "_view_module": "@jupyter-widgets/base",
            "overflow": null,
            "_model_module_version": "1.2.0",
            "_view_count": null,
            "flex_flow": null,
            "width": null,
            "min_width": null,
            "border": null,
            "align_items": null,
            "bottom": null,
            "_model_module": "@jupyter-widgets/base",
            "top": null,
            "grid_column": null,
            "overflow_y": null,
            "overflow_x": null,
            "grid_auto_flow": null,
            "grid_area": null,
            "grid_template_columns": null,
            "flex": null,
            "_model_name": "LayoutModel",
            "justify_items": null,
            "grid_row": null,
            "max_height": null,
            "align_content": null,
            "visibility": null,
            "align_self": null,
            "height": null,
            "min_height": null,
            "padding": null,
            "grid_auto_rows": null,
            "grid_gap": null,
            "max_width": null,
            "order": null,
            "_view_module_version": "1.2.0",
            "grid_template_areas": null,
            "object_position": null,
            "object_fit": null,
            "grid_auto_columns": null,
            "margin": null,
            "display": null,
            "left": null
          }
        },
        "f3b92979d43641218f6b4a529fcbdb27": {
          "model_module": "@jupyter-widgets/controls",
          "model_name": "HBoxModel",
          "state": {
            "_view_name": "HBoxView",
            "_dom_classes": [],
            "_model_name": "HBoxModel",
            "_view_module": "@jupyter-widgets/controls",
            "_model_module_version": "1.5.0",
            "_view_count": null,
            "_view_module_version": "1.5.0",
            "box_style": "",
            "layout": "IPY_MODEL_6d26e6bb2775422e9c306ad8210f3b02",
            "_model_module": "@jupyter-widgets/controls",
            "children": [
              "IPY_MODEL_d4a3b46b290841f38b00b487ed238656",
              "IPY_MODEL_8216c19a3175497aa38621c3e2f61c07"
            ]
          }
        },
        "6d26e6bb2775422e9c306ad8210f3b02": {
          "model_module": "@jupyter-widgets/base",
          "model_name": "LayoutModel",
          "state": {
            "_view_name": "LayoutView",
            "grid_template_rows": null,
            "right": null,
            "justify_content": null,
            "_view_module": "@jupyter-widgets/base",
            "overflow": null,
            "_model_module_version": "1.2.0",
            "_view_count": null,
            "flex_flow": null,
            "width": null,
            "min_width": null,
            "border": null,
            "align_items": null,
            "bottom": null,
            "_model_module": "@jupyter-widgets/base",
            "top": null,
            "grid_column": null,
            "overflow_y": null,
            "overflow_x": null,
            "grid_auto_flow": null,
            "grid_area": null,
            "grid_template_columns": null,
            "flex": null,
            "_model_name": "LayoutModel",
            "justify_items": null,
            "grid_row": null,
            "max_height": null,
            "align_content": null,
            "visibility": null,
            "align_self": null,
            "height": null,
            "min_height": null,
            "padding": null,
            "grid_auto_rows": null,
            "grid_gap": null,
            "max_width": null,
            "order": null,
            "_view_module_version": "1.2.0",
            "grid_template_areas": null,
            "object_position": null,
            "object_fit": null,
            "grid_auto_columns": null,
            "margin": null,
            "display": null,
            "left": null
          }
        },
        "d4a3b46b290841f38b00b487ed238656": {
          "model_module": "@jupyter-widgets/controls",
          "model_name": "FloatProgressModel",
          "state": {
            "_view_name": "ProgressView",
            "style": "IPY_MODEL_e61682d6f59c4857a07a13b3ca6642c2",
            "_dom_classes": [],
            "description": "",
            "_model_name": "FloatProgressModel",
            "bar_style": "success",
            "max": 1,
            "_view_module": "@jupyter-widgets/controls",
            "_model_module_version": "1.5.0",
            "value": 1,
            "_view_count": null,
            "_view_module_version": "1.5.0",
            "orientation": "horizontal",
            "min": 0,
            "description_tooltip": null,
            "_model_module": "@jupyter-widgets/controls",
            "layout": "IPY_MODEL_89a9f2020cc44e62a9dc914b329ddc20"
          }
        },
        "8216c19a3175497aa38621c3e2f61c07": {
          "model_module": "@jupyter-widgets/controls",
          "model_name": "HTMLModel",
          "state": {
            "_view_name": "HTMLView",
            "style": "IPY_MODEL_251a2f1ba44a4c3588861ee981514846",
            "_dom_classes": [],
            "description": "",
            "_model_name": "HTMLModel",
            "placeholder": "​",
            "_view_module": "@jupyter-widgets/controls",
            "_model_module_version": "1.5.0",
            "value": " 1654784/? [00:00&lt;00:00, 3220154.91it/s]",
            "_view_count": null,
            "_view_module_version": "1.5.0",
            "description_tooltip": null,
            "_model_module": "@jupyter-widgets/controls",
            "layout": "IPY_MODEL_777af7e99c7a444c9eb3974a61256abb"
          }
        },
        "e61682d6f59c4857a07a13b3ca6642c2": {
          "model_module": "@jupyter-widgets/controls",
          "model_name": "ProgressStyleModel",
          "state": {
            "_view_name": "StyleView",
            "_model_name": "ProgressStyleModel",
            "description_width": "initial",
            "_view_module": "@jupyter-widgets/base",
            "_model_module_version": "1.5.0",
            "_view_count": null,
            "_view_module_version": "1.2.0",
            "bar_color": null,
            "_model_module": "@jupyter-widgets/controls"
          }
        },
        "89a9f2020cc44e62a9dc914b329ddc20": {
          "model_module": "@jupyter-widgets/base",
          "model_name": "LayoutModel",
          "state": {
            "_view_name": "LayoutView",
            "grid_template_rows": null,
            "right": null,
            "justify_content": null,
            "_view_module": "@jupyter-widgets/base",
            "overflow": null,
            "_model_module_version": "1.2.0",
            "_view_count": null,
            "flex_flow": null,
            "width": null,
            "min_width": null,
            "border": null,
            "align_items": null,
            "bottom": null,
            "_model_module": "@jupyter-widgets/base",
            "top": null,
            "grid_column": null,
            "overflow_y": null,
            "overflow_x": null,
            "grid_auto_flow": null,
            "grid_area": null,
            "grid_template_columns": null,
            "flex": null,
            "_model_name": "LayoutModel",
            "justify_items": null,
            "grid_row": null,
            "max_height": null,
            "align_content": null,
            "visibility": null,
            "align_self": null,
            "height": null,
            "min_height": null,
            "padding": null,
            "grid_auto_rows": null,
            "grid_gap": null,
            "max_width": null,
            "order": null,
            "_view_module_version": "1.2.0",
            "grid_template_areas": null,
            "object_position": null,
            "object_fit": null,
            "grid_auto_columns": null,
            "margin": null,
            "display": null,
            "left": null
          }
        },
        "251a2f1ba44a4c3588861ee981514846": {
          "model_module": "@jupyter-widgets/controls",
          "model_name": "DescriptionStyleModel",
          "state": {
            "_view_name": "StyleView",
            "_model_name": "DescriptionStyleModel",
            "description_width": "",
            "_view_module": "@jupyter-widgets/base",
            "_model_module_version": "1.5.0",
            "_view_count": null,
            "_view_module_version": "1.2.0",
            "_model_module": "@jupyter-widgets/controls"
          }
        },
        "777af7e99c7a444c9eb3974a61256abb": {
          "model_module": "@jupyter-widgets/base",
          "model_name": "LayoutModel",
          "state": {
            "_view_name": "LayoutView",
            "grid_template_rows": null,
            "right": null,
            "justify_content": null,
            "_view_module": "@jupyter-widgets/base",
            "overflow": null,
            "_model_module_version": "1.2.0",
            "_view_count": null,
            "flex_flow": null,
            "width": null,
            "min_width": null,
            "border": null,
            "align_items": null,
            "bottom": null,
            "_model_module": "@jupyter-widgets/base",
            "top": null,
            "grid_column": null,
            "overflow_y": null,
            "overflow_x": null,
            "grid_auto_flow": null,
            "grid_area": null,
            "grid_template_columns": null,
            "flex": null,
            "_model_name": "LayoutModel",
            "justify_items": null,
            "grid_row": null,
            "max_height": null,
            "align_content": null,
            "visibility": null,
            "align_self": null,
            "height": null,
            "min_height": null,
            "padding": null,
            "grid_auto_rows": null,
            "grid_gap": null,
            "max_width": null,
            "order": null,
            "_view_module_version": "1.2.0",
            "grid_template_areas": null,
            "object_position": null,
            "object_fit": null,
            "grid_auto_columns": null,
            "margin": null,
            "display": null,
            "left": null
          }
        },
        "9c3f7c9ad31448698e069b85a7bc7243": {
          "model_module": "@jupyter-widgets/controls",
          "model_name": "HBoxModel",
          "state": {
            "_view_name": "HBoxView",
            "_dom_classes": [],
            "_model_name": "HBoxModel",
            "_view_module": "@jupyter-widgets/controls",
            "_model_module_version": "1.5.0",
            "_view_count": null,
            "_view_module_version": "1.5.0",
            "box_style": "",
            "layout": "IPY_MODEL_2879975a9d3a4d0b95065f811a41b544",
            "_model_module": "@jupyter-widgets/controls",
            "children": [
              "IPY_MODEL_66934e2427aa42069ca23a8a5c9d8268",
              "IPY_MODEL_644f95c97fb84e02bb136e01b642b0f2"
            ]
          }
        },
        "2879975a9d3a4d0b95065f811a41b544": {
          "model_module": "@jupyter-widgets/base",
          "model_name": "LayoutModel",
          "state": {
            "_view_name": "LayoutView",
            "grid_template_rows": null,
            "right": null,
            "justify_content": null,
            "_view_module": "@jupyter-widgets/base",
            "overflow": null,
            "_model_module_version": "1.2.0",
            "_view_count": null,
            "flex_flow": null,
            "width": null,
            "min_width": null,
            "border": null,
            "align_items": null,
            "bottom": null,
            "_model_module": "@jupyter-widgets/base",
            "top": null,
            "grid_column": null,
            "overflow_y": null,
            "overflow_x": null,
            "grid_auto_flow": null,
            "grid_area": null,
            "grid_template_columns": null,
            "flex": null,
            "_model_name": "LayoutModel",
            "justify_items": null,
            "grid_row": null,
            "max_height": null,
            "align_content": null,
            "visibility": null,
            "align_self": null,
            "height": null,
            "min_height": null,
            "padding": null,
            "grid_auto_rows": null,
            "grid_gap": null,
            "max_width": null,
            "order": null,
            "_view_module_version": "1.2.0",
            "grid_template_areas": null,
            "object_position": null,
            "object_fit": null,
            "grid_auto_columns": null,
            "margin": null,
            "display": null,
            "left": null
          }
        },
        "66934e2427aa42069ca23a8a5c9d8268": {
          "model_module": "@jupyter-widgets/controls",
          "model_name": "FloatProgressModel",
          "state": {
            "_view_name": "ProgressView",
            "style": "IPY_MODEL_f87c9dfc795e4c7e9f653c6c224d8dde",
            "_dom_classes": [],
            "description": "",
            "_model_name": "FloatProgressModel",
            "bar_style": "success",
            "max": 1,
            "_view_module": "@jupyter-widgets/controls",
            "_model_module_version": "1.5.0",
            "value": 1,
            "_view_count": null,
            "_view_module_version": "1.5.0",
            "orientation": "horizontal",
            "min": 0,
            "description_tooltip": null,
            "_model_module": "@jupyter-widgets/controls",
            "layout": "IPY_MODEL_df0ae24a12614f889ea0d224ab5a9d4e"
          }
        },
        "644f95c97fb84e02bb136e01b642b0f2": {
          "model_module": "@jupyter-widgets/controls",
          "model_name": "HTMLModel",
          "state": {
            "_view_name": "HTMLView",
            "style": "IPY_MODEL_6c159e64ca614253bbb21bc0289ae90a",
            "_dom_classes": [],
            "description": "",
            "_model_name": "HTMLModel",
            "placeholder": "​",
            "_view_module": "@jupyter-widgets/controls",
            "_model_module_version": "1.5.0",
            "value": " 8192/? [00:00&lt;00:00, 28468.12it/s]",
            "_view_count": null,
            "_view_module_version": "1.5.0",
            "description_tooltip": null,
            "_model_module": "@jupyter-widgets/controls",
            "layout": "IPY_MODEL_e17889d166534b079e9afe8cb9c2808e"
          }
        },
        "f87c9dfc795e4c7e9f653c6c224d8dde": {
          "model_module": "@jupyter-widgets/controls",
          "model_name": "ProgressStyleModel",
          "state": {
            "_view_name": "StyleView",
            "_model_name": "ProgressStyleModel",
            "description_width": "initial",
            "_view_module": "@jupyter-widgets/base",
            "_model_module_version": "1.5.0",
            "_view_count": null,
            "_view_module_version": "1.2.0",
            "bar_color": null,
            "_model_module": "@jupyter-widgets/controls"
          }
        },
        "df0ae24a12614f889ea0d224ab5a9d4e": {
          "model_module": "@jupyter-widgets/base",
          "model_name": "LayoutModel",
          "state": {
            "_view_name": "LayoutView",
            "grid_template_rows": null,
            "right": null,
            "justify_content": null,
            "_view_module": "@jupyter-widgets/base",
            "overflow": null,
            "_model_module_version": "1.2.0",
            "_view_count": null,
            "flex_flow": null,
            "width": null,
            "min_width": null,
            "border": null,
            "align_items": null,
            "bottom": null,
            "_model_module": "@jupyter-widgets/base",
            "top": null,
            "grid_column": null,
            "overflow_y": null,
            "overflow_x": null,
            "grid_auto_flow": null,
            "grid_area": null,
            "grid_template_columns": null,
            "flex": null,
            "_model_name": "LayoutModel",
            "justify_items": null,
            "grid_row": null,
            "max_height": null,
            "align_content": null,
            "visibility": null,
            "align_self": null,
            "height": null,
            "min_height": null,
            "padding": null,
            "grid_auto_rows": null,
            "grid_gap": null,
            "max_width": null,
            "order": null,
            "_view_module_version": "1.2.0",
            "grid_template_areas": null,
            "object_position": null,
            "object_fit": null,
            "grid_auto_columns": null,
            "margin": null,
            "display": null,
            "left": null
          }
        },
        "6c159e64ca614253bbb21bc0289ae90a": {
          "model_module": "@jupyter-widgets/controls",
          "model_name": "DescriptionStyleModel",
          "state": {
            "_view_name": "StyleView",
            "_model_name": "DescriptionStyleModel",
            "description_width": "",
            "_view_module": "@jupyter-widgets/base",
            "_model_module_version": "1.5.0",
            "_view_count": null,
            "_view_module_version": "1.2.0",
            "_model_module": "@jupyter-widgets/controls"
          }
        },
        "e17889d166534b079e9afe8cb9c2808e": {
          "model_module": "@jupyter-widgets/base",
          "model_name": "LayoutModel",
          "state": {
            "_view_name": "LayoutView",
            "grid_template_rows": null,
            "right": null,
            "justify_content": null,
            "_view_module": "@jupyter-widgets/base",
            "overflow": null,
            "_model_module_version": "1.2.0",
            "_view_count": null,
            "flex_flow": null,
            "width": null,
            "min_width": null,
            "border": null,
            "align_items": null,
            "bottom": null,
            "_model_module": "@jupyter-widgets/base",
            "top": null,
            "grid_column": null,
            "overflow_y": null,
            "overflow_x": null,
            "grid_auto_flow": null,
            "grid_area": null,
            "grid_template_columns": null,
            "flex": null,
            "_model_name": "LayoutModel",
            "justify_items": null,
            "grid_row": null,
            "max_height": null,
            "align_content": null,
            "visibility": null,
            "align_self": null,
            "height": null,
            "min_height": null,
            "padding": null,
            "grid_auto_rows": null,
            "grid_gap": null,
            "max_width": null,
            "order": null,
            "_view_module_version": "1.2.0",
            "grid_template_areas": null,
            "object_position": null,
            "object_fit": null,
            "grid_auto_columns": null,
            "margin": null,
            "display": null,
            "left": null
          }
        }
      }
    },
    "accelerator": "GPU"
  },
  "cells": [
    {
      "cell_type": "markdown",
      "metadata": {
        "id": "view-in-github",
        "colab_type": "text"
      },
      "source": [
        "<a href=\"https://colab.research.google.com/github/anubhavgupta1/Udacity/blob/main/Frameworks/Pytorch/Autoencoders/Stacked%20Autoencoders/MNIST.ipynb\" target=\"_parent\"><img src=\"https://colab.research.google.com/assets/colab-badge.svg\" alt=\"Open In Colab\"/></a>"
      ]
    },
    {
      "cell_type": "markdown",
      "metadata": {
        "id": "51LMUk8X6ZLs"
      },
      "source": [
        "## Setup"
      ]
    },
    {
      "cell_type": "code",
      "metadata": {
        "id": "aOqbwYyqrtit"
      },
      "source": [
        "import torch\r\n",
        "import numpy as np\r\n",
        "from torchvision import datasets\r\n",
        "import torchvision.transforms as transforms"
      ],
      "execution_count": 1,
      "outputs": []
    },
    {
      "cell_type": "markdown",
      "metadata": {
        "id": "TRTHGtwf6drj"
      },
      "source": [
        "## Transform"
      ]
    },
    {
      "cell_type": "code",
      "metadata": {
        "id": "NiCmLdstsIbC"
      },
      "source": [
        "# convert data to torch.FloatTensor\r\n",
        "transform = transforms.ToTensor()"
      ],
      "execution_count": 2,
      "outputs": []
    },
    {
      "cell_type": "markdown",
      "metadata": {
        "id": "WFM13mZB6fwz"
      },
      "source": [
        "## Load Data"
      ]
    },
    {
      "cell_type": "code",
      "metadata": {
        "colab": {
          "base_uri": "https://localhost:8080/",
          "height": 382,
          "referenced_widgets": [
            "e1e786d69beb4259b31c192419918e4e",
            "a2cf77cbcfb849d4bfd6a240aac7ccc0",
            "29006cfb39584da3b3d3e96365694def",
            "8aface03857a4f4e81b132ff0ccf4d71",
            "023da67c982848209a6e5de7d16bddcd",
            "fcfec3232dfa49a8b8598338135fd444",
            "18b301be51964c85ac2041010fc7a959",
            "5fa6718ac29c47d8a1fe92a6a7530aff",
            "daedc34a2d6a4b23857ee4814c62af98",
            "c239846a0c3a4900a20b5fa70424a3aa",
            "c156ea6e4aea4c229e6dfef4411f993c",
            "e815d9d83cf84048b55a539789dce9f0",
            "da44ae758e684cdb88daa401a0421da0",
            "ba4b4d1bad654540bb0c7375ec770eb7",
            "e2c665a1a03f4bf0be7c65246806d5d9",
            "f75ee411ebbb4146bea901cca59b6521",
            "f3b92979d43641218f6b4a529fcbdb27",
            "6d26e6bb2775422e9c306ad8210f3b02",
            "d4a3b46b290841f38b00b487ed238656",
            "8216c19a3175497aa38621c3e2f61c07",
            "e61682d6f59c4857a07a13b3ca6642c2",
            "89a9f2020cc44e62a9dc914b329ddc20",
            "251a2f1ba44a4c3588861ee981514846",
            "777af7e99c7a444c9eb3974a61256abb",
            "9c3f7c9ad31448698e069b85a7bc7243",
            "2879975a9d3a4d0b95065f811a41b544",
            "66934e2427aa42069ca23a8a5c9d8268",
            "644f95c97fb84e02bb136e01b642b0f2",
            "f87c9dfc795e4c7e9f653c6c224d8dde",
            "df0ae24a12614f889ea0d224ab5a9d4e",
            "6c159e64ca614253bbb21bc0289ae90a",
            "e17889d166534b079e9afe8cb9c2808e"
          ]
        },
        "id": "LJs4gC_csMHI",
        "outputId": "ccc52723-dbcb-44ad-940b-276fa520c8bc"
      },
      "source": [
        "# load the training and test datasets\r\n",
        "train_data = datasets.MNIST(root='data', train=True,download=True, transform=transform)\r\n",
        "test_data = datasets.MNIST(root='data', train=False,download=True, transform=transform)"
      ],
      "execution_count": 3,
      "outputs": [
        {
          "output_type": "stream",
          "text": [
            "Downloading http://yann.lecun.com/exdb/mnist/train-images-idx3-ubyte.gz to data/MNIST/raw/train-images-idx3-ubyte.gz\n"
          ],
          "name": "stdout"
        },
        {
          "output_type": "display_data",
          "data": {
            "application/vnd.jupyter.widget-view+json": {
              "model_id": "e1e786d69beb4259b31c192419918e4e",
              "version_minor": 0,
              "version_major": 2
            },
            "text/plain": [
              "HBox(children=(FloatProgress(value=1.0, bar_style='info', max=1.0), HTML(value='')))"
            ]
          },
          "metadata": {
            "tags": []
          }
        },
        {
          "output_type": "stream",
          "text": [
            "Extracting data/MNIST/raw/train-images-idx3-ubyte.gz to data/MNIST/raw\n",
            "Downloading http://yann.lecun.com/exdb/mnist/train-labels-idx1-ubyte.gz to data/MNIST/raw/train-labels-idx1-ubyte.gz\n"
          ],
          "name": "stdout"
        },
        {
          "output_type": "display_data",
          "data": {
            "application/vnd.jupyter.widget-view+json": {
              "model_id": "daedc34a2d6a4b23857ee4814c62af98",
              "version_minor": 0,
              "version_major": 2
            },
            "text/plain": [
              "HBox(children=(FloatProgress(value=1.0, bar_style='info', max=1.0), HTML(value='')))"
            ]
          },
          "metadata": {
            "tags": []
          }
        },
        {
          "output_type": "stream",
          "text": [
            "Extracting data/MNIST/raw/train-labels-idx1-ubyte.gz to data/MNIST/raw\n",
            "Downloading http://yann.lecun.com/exdb/mnist/t10k-images-idx3-ubyte.gz to data/MNIST/raw/t10k-images-idx3-ubyte.gz\n",
            "\n"
          ],
          "name": "stdout"
        },
        {
          "output_type": "display_data",
          "data": {
            "application/vnd.jupyter.widget-view+json": {
              "model_id": "f3b92979d43641218f6b4a529fcbdb27",
              "version_minor": 0,
              "version_major": 2
            },
            "text/plain": [
              "HBox(children=(FloatProgress(value=1.0, bar_style='info', max=1.0), HTML(value='')))"
            ]
          },
          "metadata": {
            "tags": []
          }
        },
        {
          "output_type": "stream",
          "text": [
            "Extracting data/MNIST/raw/t10k-images-idx3-ubyte.gz to data/MNIST/raw\n",
            "Downloading http://yann.lecun.com/exdb/mnist/t10k-labels-idx1-ubyte.gz to data/MNIST/raw/t10k-labels-idx1-ubyte.gz\n"
          ],
          "name": "stdout"
        },
        {
          "output_type": "display_data",
          "data": {
            "application/vnd.jupyter.widget-view+json": {
              "model_id": "9c3f7c9ad31448698e069b85a7bc7243",
              "version_minor": 0,
              "version_major": 2
            },
            "text/plain": [
              "HBox(children=(FloatProgress(value=1.0, bar_style='info', max=1.0), HTML(value='')))"
            ]
          },
          "metadata": {
            "tags": []
          }
        },
        {
          "output_type": "stream",
          "text": [
            "Extracting data/MNIST/raw/t10k-labels-idx1-ubyte.gz to data/MNIST/raw\n",
            "Processing...\n",
            "Done!\n"
          ],
          "name": "stdout"
        },
        {
          "output_type": "stream",
          "text": [
            "/usr/local/lib/python3.6/dist-packages/torchvision/datasets/mnist.py:480: UserWarning: The given NumPy array is not writeable, and PyTorch does not support non-writeable tensors. This means you can write to the underlying (supposedly non-writeable) NumPy array using the tensor. You may want to copy the array to protect its data or make it writeable before converting it to a tensor. This type of warning will be suppressed for the rest of this program. (Triggered internally at  /pytorch/torch/csrc/utils/tensor_numpy.cpp:141.)\n",
            "  return torch.from_numpy(parsed.astype(m[2], copy=False)).view(*s)\n"
          ],
          "name": "stderr"
        }
      ]
    },
    {
      "cell_type": "code",
      "metadata": {
        "id": "AnKyOJn9tuQD"
      },
      "source": [
        "classes = ('zero', 'one', 'two', 'three','four', 'five', 'six', 'seven', 'eight', 'nine')"
      ],
      "execution_count": 4,
      "outputs": []
    },
    {
      "cell_type": "markdown",
      "metadata": {
        "id": "f31zwImQ6i1X"
      },
      "source": [
        "## Batching"
      ]
    },
    {
      "cell_type": "code",
      "metadata": {
        "id": "VaJnYN-3sPvh"
      },
      "source": [
        "# number of subprocesses to use for data loading\r\n",
        "num_workers = 0\r\n",
        "# how many samples per batch to load\r\n",
        "batch_size = 20\r\n",
        "\r\n",
        "# prepare data loaders\r\n",
        "train_loader = torch.utils.data.DataLoader(train_data, batch_size=batch_size, num_workers=num_workers)\r\n",
        "test_loader = torch.utils.data.DataLoader(test_data, batch_size=batch_size, num_workers=num_workers)"
      ],
      "execution_count": 5,
      "outputs": []
    },
    {
      "cell_type": "code",
      "metadata": {
        "colab": {
          "base_uri": "https://localhost:8080/"
        },
        "id": "FO1177YysSZB",
        "outputId": "a7123f4b-f8d3-4612-acee-bbbf714a9ec9"
      },
      "source": [
        "import matplotlib.pyplot as plt\r\n",
        "%matplotlib inline"
      ],
      "execution_count": 6,
      "outputs": [
        {
          "output_type": "stream",
          "text": [
            "\n",
            "\n",
            "\n"
          ],
          "name": "stdout"
        }
      ]
    },
    {
      "cell_type": "code",
      "metadata": {
        "colab": {
          "base_uri": "https://localhost:8080/",
          "height": 337
        },
        "id": "s26D2MC_sVio",
        "outputId": "8e42d032-7d63-493d-f3d5-46409fb41099"
      },
      "source": [
        "# obtain one batch of training images\r\n",
        "dataiter = iter(train_loader)\r\n",
        "images, labels = dataiter.next()\r\n",
        "images = images.numpy()\r\n",
        "\r\n",
        "# get one image from the batch\r\n",
        "img = np.squeeze(images[0])\r\n",
        "\r\n",
        "fig = plt.figure(figsize = (5,5)) \r\n",
        "ax = fig.add_subplot(111)\r\n",
        "ax.imshow(img, cmap='gray')"
      ],
      "execution_count": 7,
      "outputs": [
        {
          "output_type": "execute_result",
          "data": {
            "text/plain": [
              "<matplotlib.image.AxesImage at 0x7f53462342e8>"
            ]
          },
          "metadata": {
            "tags": []
          },
          "execution_count": 7
        },
        {
          "output_type": "display_data",
          "data": {
            "image/png": "[encoded data removed]",
            "text/plain": [
              "<Figure size 360x360 with 1 Axes>"
            ]
          },
          "metadata": {
            "tags": [],
            "needs_background": "light"
          }
        }
      ]
    },
    {
      "cell_type": "markdown",
      "metadata": {
        "id": "hrCbRyj06mbZ"
      },
      "source": [
        "## Configure GPU"
      ]
    },
    {
      "cell_type": "code",
      "metadata": {
        "colab": {
          "base_uri": "https://localhost:8080/"
        },
        "id": "brDCdh-nsYBp",
        "outputId": "ed397fdd-dc2b-4e9d-f104-e71e6822f89e"
      },
      "source": [
        "print(torch.cuda.device_count())\r\n",
        "print(torch.cuda.get_device_name(0))\r\n",
        "gpu = torch.device('cuda:0')"
      ],
      "execution_count": 8,
      "outputs": [
        {
          "output_type": "stream",
          "text": [
            "1\n",
            "Tesla T4\n"
          ],
          "name": "stdout"
        }
      ]
    },
    {
      "cell_type": "markdown",
      "metadata": {
        "id": "wcvcx34J6pju"
      },
      "source": [
        "## Model Class"
      ]
    },
    {
      "cell_type": "code",
      "metadata": {
        "id": "v7aOwJXnsdMs"
      },
      "source": [
        "import torch.nn as nn\r\n",
        "import torch.nn.functional as F"
      ],
      "execution_count": 9,
      "outputs": []
    },
    {
      "cell_type": "code",
      "metadata": {
        "id": "XrAfMOhXt5-g"
      },
      "source": [
        "class autoencoder(nn.Module):\r\n",
        "    def __init__(self):\r\n",
        "        super(autoencoder, self).__init__()\r\n",
        "        self.encoder = nn.Sequential(\r\n",
        "            nn.Linear(28*28, 400),\r\n",
        "            nn.Tanh())\r\n",
        "        self.decoder = nn.Sequential(\r\n",
        "            nn.Linear(400, 28*28),\r\n",
        "            nn.Sigmoid())\r\n",
        "\r\n",
        "    def forward(self, x):\r\n",
        "        x = self.encoder(x)\r\n",
        "        x = self.decoder(x)\r\n",
        "        return x"
      ],
      "execution_count": 10,
      "outputs": []
    },
    {
      "cell_type": "code",
      "metadata": {
        "colab": {
          "base_uri": "https://localhost:8080/"
        },
        "id": "b2c3rgKasi4A",
        "outputId": "625ea0e8-78d3-4b07-a376-434b25d428d8"
      },
      "source": [
        "# initialize the NN\r\n",
        "model = autoencoder()\r\n",
        "model = model.to(gpu)\r\n",
        "print(model)"
      ],
      "execution_count": 11,
      "outputs": [
        {
          "output_type": "stream",
          "text": [
            "autoencoder(\n",
            "  (encoder): Sequential(\n",
            "    (0): Linear(in_features=784, out_features=400, bias=True)\n",
            "    (1): Tanh()\n",
            "  )\n",
            "  (decoder): Sequential(\n",
            "    (0): Linear(in_features=400, out_features=784, bias=True)\n",
            "    (1): Sigmoid()\n",
            "  )\n",
            ")\n"
          ],
          "name": "stdout"
        }
      ]
    },
    {
      "cell_type": "code",
      "metadata": {
        "id": "Dc0hb41wsl2p"
      },
      "source": [
        "import copy"
      ],
      "execution_count": 12,
      "outputs": []
    },
    {
      "cell_type": "code",
      "metadata": {
        "colab": {
          "base_uri": "https://localhost:8080/"
        },
        "id": "GjNj62uTso4g",
        "outputId": "094988fb-e844-49a8-f56f-8dc890438b0f"
      },
      "source": [
        "print(model.encoder[0])"
      ],
      "execution_count": 13,
      "outputs": [
        {
          "output_type": "stream",
          "text": [
            "Linear(in_features=784, out_features=400, bias=True)\n"
          ],
          "name": "stdout"
        }
      ]
    },
    {
      "cell_type": "code",
      "metadata": {
        "id": "Kk3jizb9srKo"
      },
      "source": [
        "init_weights = copy.deepcopy(model.encoder[0].weight.data)"
      ],
      "execution_count": 14,
      "outputs": []
    },
    {
      "cell_type": "code",
      "metadata": {
        "id": "qBc-1V0tst3i"
      },
      "source": [
        "# specify loss function\r\n",
        "criterion = nn.MSELoss()\r\n",
        "learning_rate = 0.98"
      ],
      "execution_count": 15,
      "outputs": []
    },
    {
      "cell_type": "markdown",
      "metadata": {
        "id": "NXBOFZbQ6vow"
      },
      "source": [
        "## Train The Model"
      ]
    },
    {
      "cell_type": "code",
      "metadata": {
        "colab": {
          "base_uri": "https://localhost:8080/"
        },
        "id": "oS_X7wPfsw-3",
        "outputId": "c950241b-ca65-4a6f-bc79-93a943de6904"
      },
      "source": [
        "# number of epochs to train the model\r\n",
        "n_epochs = 10\r\n",
        "\r\n",
        "for epoch in range(1, n_epochs+1):\r\n",
        "    # monitor training loss\r\n",
        "    train_loss = 0.0\r\n",
        "    \r\n",
        "    ###################\r\n",
        "    # train the model #\r\n",
        "    ###################\r\n",
        "    for data in train_loader:\r\n",
        "        # _ stands in for labels, here\r\n",
        "        images, _ = data\r\n",
        "        # flatten images\r\n",
        "        images = images.view(images.size(0), -1)\r\n",
        "        # clear the gradients of all optimized variables\r\n",
        "        images = images.to(gpu)\r\n",
        "\r\n",
        "        # zeroes the gradient buffers of all parameters\r\n",
        "        model.zero_grad()\r\n",
        "        # forward pass: compute predicted outputs by passing inputs to the model\r\n",
        "        outputs = model(images)\r\n",
        "        # calculate the loss\r\n",
        "        loss = criterion(outputs, images)\r\n",
        "        # backward pass: compute gradient of the loss with respect to model parameters\r\n",
        "        loss.backward()\r\n",
        "\r\n",
        "        # weight = weight - learning_rate * gradient (Update Weights)\r\n",
        "        #optimizer.step()\r\n",
        "        for f in model.parameters():\r\n",
        "          f.data.sub_(f.grad.data * learning_rate)\r\n",
        "        \r\n",
        "        # update running training loss\r\n",
        "        train_loss += loss.item()*images.size(0)\r\n",
        "            \r\n",
        "    # print avg training statistics \r\n",
        "    train_loss = train_loss/len(train_loader)\r\n",
        "    print('Epoch: {} \\tTraining Loss: {:.6f}'.format(epoch, train_loss))\r\n",
        "print('Finished Training')"
      ],
      "execution_count": 16,
      "outputs": [
        {
          "output_type": "stream",
          "text": [
            "Epoch: 1 \tTraining Loss: 1.161073\n",
            "Epoch: 2 \tTraining Loss: 0.696862\n",
            "Epoch: 3 \tTraining Loss: 0.540889\n",
            "Epoch: 4 \tTraining Loss: 0.446353\n",
            "Epoch: 5 \tTraining Loss: 0.381988\n",
            "Epoch: 6 \tTraining Loss: 0.335411\n",
            "Epoch: 7 \tTraining Loss: 0.300373\n",
            "Epoch: 8 \tTraining Loss: 0.273033\n",
            "Epoch: 9 \tTraining Loss: 0.251032\n",
            "Epoch: 10 \tTraining Loss: 0.232935\n",
            "Finished Training\n"
          ],
          "name": "stdout"
        }
      ]
    },
    {
      "cell_type": "markdown",
      "metadata": {
        "id": "jDxqrhR0x_9G"
      },
      "source": [
        "## Stacking Layers"
      ]
    },
    {
      "cell_type": "code",
      "metadata": {
        "colab": {
          "base_uri": "https://localhost:8080/"
        },
        "id": "ZMRju6UWx-L0",
        "outputId": "7cbbf835-0729-483b-ace2-285de47b79c7"
      },
      "source": [
        "# Adding New Layer (Stacking)\r\n",
        "model.encoder.add_module('New_Encoder_Layer', nn.Sequential(nn.Linear(400, 256),nn.Tanh()))\r\n",
        "model.encoder.add_module('New_Decoder_Layer', nn.Sequential(nn.Linear(256, 400),nn.Tanh()))\r\n",
        "print(model)"
      ],
      "execution_count": 17,
      "outputs": [
        {
          "output_type": "stream",
          "text": [
            "autoencoder(\n",
            "  (encoder): Sequential(\n",
            "    (0): Linear(in_features=784, out_features=400, bias=True)\n",
            "    (1): Tanh()\n",
            "    (New_Encoder_Layer): Sequential(\n",
            "      (0): Linear(in_features=400, out_features=256, bias=True)\n",
            "      (1): Tanh()\n",
            "    )\n",
            "    (New_Decoder_Layer): Sequential(\n",
            "      (0): Linear(in_features=256, out_features=400, bias=True)\n",
            "      (1): Tanh()\n",
            "    )\n",
            "  )\n",
            "  (decoder): Sequential(\n",
            "    (0): Linear(in_features=400, out_features=784, bias=True)\n",
            "    (1): Sigmoid()\n",
            "  )\n",
            ")\n"
          ],
          "name": "stdout"
        }
      ]
    },
    {
      "cell_type": "code",
      "metadata": {
        "id": "8rjbE1VazImw"
      },
      "source": [
        "model = model.to(gpu)"
      ],
      "execution_count": 18,
      "outputs": []
    },
    {
      "cell_type": "markdown",
      "metadata": {
        "id": "p70Q67pb65q6"
      },
      "source": [
        "## Train The model"
      ]
    },
    {
      "cell_type": "code",
      "metadata": {
        "colab": {
          "base_uri": "https://localhost:8080/"
        },
        "id": "aL-dr2LJypWT",
        "outputId": "4acf4117-84be-4d97-cb70-0d54a31b8d96"
      },
      "source": [
        "# number of epochs to train the model\r\n",
        "n_epochs = 10\r\n",
        "\r\n",
        "for epoch in range(1, n_epochs+1):\r\n",
        "    # monitor training loss\r\n",
        "    train_loss = 0.0\r\n",
        "    \r\n",
        "    ###################\r\n",
        "    # train the model #\r\n",
        "    ###################\r\n",
        "    for data in train_loader:\r\n",
        "        # _ stands in for labels, here\r\n",
        "        images, _ = data\r\n",
        "        # flatten images\r\n",
        "        images = images.view(images.size(0), -1)\r\n",
        "        # clear the gradients of all optimized variables\r\n",
        "        images = images.to(gpu)\r\n",
        "\r\n",
        "        # zeroes the gradient buffers of all parameters\r\n",
        "        model.zero_grad()\r\n",
        "        # forward pass: compute predicted outputs by passing inputs to the model\r\n",
        "        outputs = model(images)\r\n",
        "        # calculate the loss\r\n",
        "        loss = criterion(outputs, images)\r\n",
        "        # backward pass: compute gradient of the loss with respect to model parameters\r\n",
        "        loss.backward()\r\n",
        "\r\n",
        "        # weight = weight - learning_rate * gradient (Update Weights)\r\n",
        "        #optimizer.step()\r\n",
        "        for f in model.parameters():\r\n",
        "          f.data.sub_(f.grad.data * learning_rate)\r\n",
        "        \r\n",
        "        # update running training loss\r\n",
        "        train_loss += loss.item()*images.size(0)\r\n",
        "            \r\n",
        "    # print avg training statistics \r\n",
        "    train_loss = train_loss/len(train_loader)\r\n",
        "    print('Epoch: {} \\tTraining Loss: {:.6f}'.format(epoch, train_loss))\r\n",
        "print('Finished Training')"
      ],
      "execution_count": 19,
      "outputs": [
        {
          "output_type": "stream",
          "text": [
            "Epoch: 1 \tTraining Loss: 0.423025\n",
            "Epoch: 2 \tTraining Loss: 0.276678\n",
            "Epoch: 3 \tTraining Loss: 0.248187\n",
            "Epoch: 4 \tTraining Loss: 0.231165\n",
            "Epoch: 5 \tTraining Loss: 0.218541\n",
            "Epoch: 6 \tTraining Loss: 0.208677\n",
            "Epoch: 7 \tTraining Loss: 0.200537\n",
            "Epoch: 8 \tTraining Loss: 0.193490\n",
            "Epoch: 9 \tTraining Loss: 0.187304\n",
            "Epoch: 10 \tTraining Loss: 0.181882\n",
            "Finished Training\n"
          ],
          "name": "stdout"
        }
      ]
    },
    {
      "cell_type": "markdown",
      "metadata": {
        "id": "1R3YqGtI7BQp"
      },
      "source": [
        "## Modifying the autoencoder for classification"
      ]
    },
    {
      "cell_type": "code",
      "metadata": {
        "colab": {
          "base_uri": "https://localhost:8080/"
        },
        "id": "SoS2B0UtKr87",
        "outputId": "8477e617-a6c6-4779-b080-3c140621b217"
      },
      "source": [
        "print(model)"
      ],
      "execution_count": 20,
      "outputs": [
        {
          "output_type": "stream",
          "text": [
            "autoencoder(\n",
            "  (encoder): Sequential(\n",
            "    (0): Linear(in_features=784, out_features=400, bias=True)\n",
            "    (1): Tanh()\n",
            "    (New_Encoder_Layer): Sequential(\n",
            "      (0): Linear(in_features=400, out_features=256, bias=True)\n",
            "      (1): Tanh()\n",
            "    )\n",
            "    (New_Decoder_Layer): Sequential(\n",
            "      (0): Linear(in_features=256, out_features=400, bias=True)\n",
            "      (1): Tanh()\n",
            "    )\n",
            "  )\n",
            "  (decoder): Sequential(\n",
            "    (0): Linear(in_features=400, out_features=784, bias=True)\n",
            "    (1): Sigmoid()\n",
            "  )\n",
            ")\n"
          ],
          "name": "stdout"
        }
      ]
    },
    {
      "cell_type": "code",
      "metadata": {
        "colab": {
          "base_uri": "https://localhost:8080/"
        },
        "id": "WE4qqE7e2YD4",
        "outputId": "45e87b8b-e220-49fc-f7b8-bde6596999a1"
      },
      "source": [
        "print(*list(model.children())[:-1])"
      ],
      "execution_count": 21,
      "outputs": [
        {
          "output_type": "stream",
          "text": [
            "Sequential(\n",
            "  (0): Linear(in_features=784, out_features=400, bias=True)\n",
            "  (1): Tanh()\n",
            "  (New_Encoder_Layer): Sequential(\n",
            "    (0): Linear(in_features=400, out_features=256, bias=True)\n",
            "    (1): Tanh()\n",
            "  )\n",
            "  (New_Decoder_Layer): Sequential(\n",
            "    (0): Linear(in_features=256, out_features=400, bias=True)\n",
            "    (1): Tanh()\n",
            "  )\n",
            ")\n"
          ],
          "name": "stdout"
        }
      ]
    },
    {
      "cell_type": "code",
      "metadata": {
        "colab": {
          "base_uri": "https://localhost:8080/"
        },
        "id": "M31QxWwC10oh",
        "outputId": "6718d4c9-e55e-4cbd-81bf-b6fcb6407f70"
      },
      "source": [
        "# Removing the decoder module from the autoencoder\r\n",
        "new_classifier = nn.Sequential(*list(model.children())[:-1])\r\n",
        "model = new_classifier\r\n",
        "print(model)"
      ],
      "execution_count": 22,
      "outputs": [
        {
          "output_type": "stream",
          "text": [
            "Sequential(\n",
            "  (0): Sequential(\n",
            "    (0): Linear(in_features=784, out_features=400, bias=True)\n",
            "    (1): Tanh()\n",
            "    (New_Encoder_Layer): Sequential(\n",
            "      (0): Linear(in_features=400, out_features=256, bias=True)\n",
            "      (1): Tanh()\n",
            "    )\n",
            "    (New_Decoder_Layer): Sequential(\n",
            "      (0): Linear(in_features=256, out_features=400, bias=True)\n",
            "      (1): Tanh()\n",
            "    )\n",
            "  )\n",
            ")\n"
          ],
          "name": "stdout"
        }
      ]
    },
    {
      "cell_type": "code",
      "metadata": {
        "colab": {
          "base_uri": "https://localhost:8080/"
        },
        "id": "n9Xmm7ZQL4QG",
        "outputId": "827413a5-6501-41fc-972a-5017e5392d66"
      },
      "source": [
        "print(*list(model[0].children())[:-1])"
      ],
      "execution_count": 23,
      "outputs": [
        {
          "output_type": "stream",
          "text": [
            "Linear(in_features=784, out_features=400, bias=True) Tanh() Sequential(\n",
            "  (0): Linear(in_features=400, out_features=256, bias=True)\n",
            "  (1): Tanh()\n",
            ")\n"
          ],
          "name": "stdout"
        }
      ]
    },
    {
      "cell_type": "code",
      "metadata": {
        "colab": {
          "base_uri": "https://localhost:8080/"
        },
        "id": "KKsDKQBI2JNo",
        "outputId": "f27326af-2f73-4cbe-dbee-9d8ab10f0698"
      },
      "source": [
        "new_classifier = nn.Sequential(*list(model[0].children())[:-1])\r\n",
        "model = new_classifier\r\n",
        "print(model)"
      ],
      "execution_count": 24,
      "outputs": [
        {
          "output_type": "stream",
          "text": [
            "Sequential(\n",
            "  (0): Linear(in_features=784, out_features=400, bias=True)\n",
            "  (1): Tanh()\n",
            "  (2): Sequential(\n",
            "    (0): Linear(in_features=400, out_features=256, bias=True)\n",
            "    (1): Tanh()\n",
            "  )\n",
            ")\n"
          ],
          "name": "stdout"
        }
      ]
    },
    {
      "cell_type": "code",
      "metadata": {
        "colab": {
          "base_uri": "https://localhost:8080/"
        },
        "id": "_QtaR9Hc3nzL",
        "outputId": "1bc1327a-7274-4044-b816-e4e12f7f6253"
      },
      "source": [
        "# Adding linear layer for 10-class classification problem\r\n",
        "model.add_module('classifier', nn.Sequential(nn.Linear(256, 10),nn.LogSoftmax(dim=1)))\r\n",
        "model = model.to(gpu)\r\n",
        "print(model)"
      ],
      "execution_count": 25,
      "outputs": [
        {
          "output_type": "stream",
          "text": [
            "Sequential(\n",
            "  (0): Linear(in_features=784, out_features=400, bias=True)\n",
            "  (1): Tanh()\n",
            "  (2): Sequential(\n",
            "    (0): Linear(in_features=400, out_features=256, bias=True)\n",
            "    (1): Tanh()\n",
            "  )\n",
            "  (classifier): Sequential(\n",
            "    (0): Linear(in_features=256, out_features=10, bias=True)\n",
            "    (1): LogSoftmax(dim=1)\n",
            "  )\n",
            ")\n"
          ],
          "name": "stdout"
        }
      ]
    },
    {
      "cell_type": "markdown",
      "metadata": {
        "id": "wG2fmR72Dixk"
      },
      "source": [
        "## Train Classifier"
      ]
    },
    {
      "cell_type": "code",
      "metadata": {
        "colab": {
          "base_uri": "https://localhost:8080/"
        },
        "id": "ynyXayWn31bi",
        "outputId": "333f2c77-1761-45cf-c786-3305f9043f74"
      },
      "source": [
        "epochs = 10\r\n",
        "learning_rate = 0.1\r\n",
        "criterion = nn.NLLLoss()\r\n",
        "\r\n",
        "for epoch in range(epochs):  # loop over the dataset multiple times\r\n",
        "\r\n",
        "    runningLoss = 0.0\r\n",
        "    for data in train_loader:\r\n",
        "        # get the inputs\r\n",
        "        inputs, labels = data        \r\n",
        "        inputs, labels = inputs.view(-1, 28*28).to(gpu), labels.to(gpu)\r\n",
        "        model.zero_grad()  # zeroes the gradient buffers of all parameters\r\n",
        "        outputs = model(inputs) # forward \r\n",
        "        loss = criterion(outputs, labels) # calculate loss\r\n",
        "        loss.backward() #  backpropagate the loss\r\n",
        "        # weight = weight - learning_rate * gradient (Update Weights)\r\n",
        "        for f in model.parameters():\r\n",
        "            f.data.sub_(f.grad.data * learning_rate)\r\n",
        "        runningLoss += loss.item()\r\n",
        "        correct = 0\r\n",
        "        total = 0\r\n",
        "        \r\n",
        "    model.eval()\r\n",
        "    with torch.no_grad():\r\n",
        "        for data in test_loader:\r\n",
        "            inputs, labels = data\r\n",
        "            inputs, labels = inputs.view(-1, 28*28).to(gpu), labels.to(gpu)\r\n",
        "            outputs = model(inputs)\r\n",
        "            _, predicted = torch.max(outputs.data, 1)\r\n",
        "            total += labels.size(0)\r\n",
        "            correct += (predicted == labels).sum()\r\n",
        "    m = 60000/batch_size\r\n",
        "    print('At Epoch : %d / %d  ;  Train Error : %f ;Test Accuracy : %f '%(epoch + 1,epochs, runningLoss/m,100 * correct /float(total)))\r\n",
        "print('Finished Training')"
      ],
      "execution_count": 26,
      "outputs": [
        {
          "output_type": "stream",
          "text": [
            "At Epoch : 1 / 10  ;  Train Error : 0.250003 ;Test Accuracy : 94.930000 \n",
            "At Epoch : 2 / 10  ;  Train Error : 0.112747 ;Test Accuracy : 96.259995 \n",
            "At Epoch : 3 / 10  ;  Train Error : 0.076125 ;Test Accuracy : 96.860001 \n",
            "At Epoch : 4 / 10  ;  Train Error : 0.054487 ;Test Accuracy : 97.149994 \n",
            "At Epoch : 5 / 10  ;  Train Error : 0.039637 ;Test Accuracy : 97.349998 \n",
            "At Epoch : 6 / 10  ;  Train Error : 0.028487 ;Test Accuracy : 97.529999 \n",
            "At Epoch : 7 / 10  ;  Train Error : 0.020241 ;Test Accuracy : 97.720001 \n",
            "At Epoch : 8 / 10  ;  Train Error : 0.014346 ;Test Accuracy : 97.799995 \n",
            "At Epoch : 9 / 10  ;  Train Error : 0.010400 ;Test Accuracy : 97.869995 \n",
            "At Epoch : 10 / 10  ;  Train Error : 0.007508 ;Test Accuracy : 97.899994 \n",
            "Finished Training\n"
          ],
          "name": "stdout"
        }
      ]
    },
    {
      "cell_type": "markdown",
      "metadata": {
        "id": "VSUnDTHZDlf7"
      },
      "source": [
        "## Performance of different Classes"
      ]
    },
    {
      "cell_type": "code",
      "metadata": {
        "colab": {
          "base_uri": "https://localhost:8080/"
        },
        "id": "DParJzIM86HZ",
        "outputId": "443a824e-80ca-42d7-e232-9087d3e0f3cd"
      },
      "source": [
        "class_correct = list(0. for i in range(10))\r\n",
        "class_total = list(0. for i in range(10))\r\n",
        "model.eval()\r\n",
        "with torch.no_grad():\r\n",
        "    for data in test_loader:\r\n",
        "        images, labels = data\r\n",
        "\r\n",
        "        outputs = model(images.view(-1, 28*28).to(gpu))\r\n",
        "        _, predicted = torch.max(outputs.data, 1)\r\n",
        "        \r\n",
        "        predicted = predicted.cpu()\r\n",
        "        c = (predicted == labels).squeeze()\r\n",
        "        for i in range(batch_size):\r\n",
        "            label = labels[i]\r\n",
        "            class_correct[label] += float(c[i])\r\n",
        "            class_total[label] += 1\r\n",
        "\r\n",
        "for i in range(10):\r\n",
        "    print('Accuracy of %5s : %f %%' % (\r\n",
        "        classes[i], 100 * float(class_correct[i]) / float(class_total[i])))"
      ],
      "execution_count": 27,
      "outputs": [
        {
          "output_type": "stream",
          "text": [
            "Accuracy of  zero : 99.183673 %\n",
            "Accuracy of   one : 99.295154 %\n",
            "Accuracy of   two : 98.352713 %\n",
            "Accuracy of three : 98.118812 %\n",
            "Accuracy of  four : 98.981670 %\n",
            "Accuracy of  five : 97.533632 %\n",
            "Accuracy of   six : 96.764092 %\n",
            "Accuracy of seven : 96.011673 %\n",
            "Accuracy of eight : 97.227926 %\n",
            "Accuracy of  nine : 97.324083 %\n"
          ],
          "name": "stdout"
        }
      ]
    }
  ]
}
