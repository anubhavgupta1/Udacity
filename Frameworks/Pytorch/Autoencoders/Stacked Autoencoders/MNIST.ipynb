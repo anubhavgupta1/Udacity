{
  "nbformat": 4,
  "nbformat_minor": 0,
  "metadata": {
    "colab": {
      "name": "Untitled23.ipynb",
      "provenance": [],
      "authorship_tag": "ABX9TyNjv2nzSElwQiBBlgvD1aRV",
      "include_colab_link": true
    },
    "kernelspec": {
      "name": "python3",
      "display_name": "Python 3"
    },
    "widgets": {
      "application/vnd.jupyter.widget-state+json": {
        "524753b8df9e44ec8fca577c969d4f2e": {
          "model_module": "@jupyter-widgets/controls",
          "model_name": "HBoxModel",
          "state": {
            "_view_name": "HBoxView",
            "_dom_classes": [],
            "_model_name": "HBoxModel",
            "_view_module": "@jupyter-widgets/controls",
            "_model_module_version": "1.5.0",
            "_view_count": null,
            "_view_module_version": "1.5.0",
            "box_style": "",
            "layout": "IPY_MODEL_9b969a8abf82470186d11df254ab82e9",
            "_model_module": "@jupyter-widgets/controls",
            "children": [
              "IPY_MODEL_9167e46de317464381f283e0898ddb59",
              "IPY_MODEL_03e789b1f80442cfaa77182004fe7e3f"
            ]
          }
        },
        "9b969a8abf82470186d11df254ab82e9": {
          "model_module": "@jupyter-widgets/base",
          "model_name": "LayoutModel",
          "state": {
            "_view_name": "LayoutView",
            "grid_template_rows": null,
            "right": null,
            "justify_content": null,
            "_view_module": "@jupyter-widgets/base",
            "overflow": null,
            "_model_module_version": "1.2.0",
            "_view_count": null,
            "flex_flow": null,
            "width": null,
            "min_width": null,
            "border": null,
            "align_items": null,
            "bottom": null,
            "_model_module": "@jupyter-widgets/base",
            "top": null,
            "grid_column": null,
            "overflow_y": null,
            "overflow_x": null,
            "grid_auto_flow": null,
            "grid_area": null,
            "grid_template_columns": null,
            "flex": null,
            "_model_name": "LayoutModel",
            "justify_items": null,
            "grid_row": null,
            "max_height": null,
            "align_content": null,
            "visibility": null,
            "align_self": null,
            "height": null,
            "min_height": null,
            "padding": null,
            "grid_auto_rows": null,
            "grid_gap": null,
            "max_width": null,
            "order": null,
            "_view_module_version": "1.2.0",
            "grid_template_areas": null,
            "object_position": null,
            "object_fit": null,
            "grid_auto_columns": null,
            "margin": null,
            "display": null,
            "left": null
          }
        },
        "9167e46de317464381f283e0898ddb59": {
          "model_module": "@jupyter-widgets/controls",
          "model_name": "FloatProgressModel",
          "state": {
            "_view_name": "ProgressView",
            "style": "IPY_MODEL_3b1ef09e88a249afa864f56d5f09149e",
            "_dom_classes": [],
            "description": "",
            "_model_name": "FloatProgressModel",
            "bar_style": "success",
            "max": 1,
            "_view_module": "@jupyter-widgets/controls",
            "_model_module_version": "1.5.0",
            "value": 1,
            "_view_count": null,
            "_view_module_version": "1.5.0",
            "orientation": "horizontal",
            "min": 0,
            "description_tooltip": null,
            "_model_module": "@jupyter-widgets/controls",
            "layout": "IPY_MODEL_7c276630445443f6b4e91c06e7bb6d28"
          }
        },
        "03e789b1f80442cfaa77182004fe7e3f": {
          "model_module": "@jupyter-widgets/controls",
          "model_name": "HTMLModel",
          "state": {
            "_view_name": "HTMLView",
            "style": "IPY_MODEL_05e909c0052d4f9886c33b1738cc9394",
            "_dom_classes": [],
            "description": "",
            "_model_name": "HTMLModel",
            "placeholder": "​",
            "_view_module": "@jupyter-widgets/controls",
            "_model_module_version": "1.5.0",
            "value": " 9920512/? [00:06&lt;00:00, 1424799.04it/s]",
            "_view_count": null,
            "_view_module_version": "1.5.0",
            "description_tooltip": null,
            "_model_module": "@jupyter-widgets/controls",
            "layout": "IPY_MODEL_eca072be575245be9f38121108e668cb"
          }
        },
        "3b1ef09e88a249afa864f56d5f09149e": {
          "model_module": "@jupyter-widgets/controls",
          "model_name": "ProgressStyleModel",
          "state": {
            "_view_name": "StyleView",
            "_model_name": "ProgressStyleModel",
            "description_width": "initial",
            "_view_module": "@jupyter-widgets/base",
            "_model_module_version": "1.5.0",
            "_view_count": null,
            "_view_module_version": "1.2.0",
            "bar_color": null,
            "_model_module": "@jupyter-widgets/controls"
          }
        },
        "7c276630445443f6b4e91c06e7bb6d28": {
          "model_module": "@jupyter-widgets/base",
          "model_name": "LayoutModel",
          "state": {
            "_view_name": "LayoutView",
            "grid_template_rows": null,
            "right": null,
            "justify_content": null,
            "_view_module": "@jupyter-widgets/base",
            "overflow": null,
            "_model_module_version": "1.2.0",
            "_view_count": null,
            "flex_flow": null,
            "width": null,
            "min_width": null,
            "border": null,
            "align_items": null,
            "bottom": null,
            "_model_module": "@jupyter-widgets/base",
            "top": null,
            "grid_column": null,
            "overflow_y": null,
            "overflow_x": null,
            "grid_auto_flow": null,
            "grid_area": null,
            "grid_template_columns": null,
            "flex": null,
            "_model_name": "LayoutModel",
            "justify_items": null,
            "grid_row": null,
            "max_height": null,
            "align_content": null,
            "visibility": null,
            "align_self": null,
            "height": null,
            "min_height": null,
            "padding": null,
            "grid_auto_rows": null,
            "grid_gap": null,
            "max_width": null,
            "order": null,
            "_view_module_version": "1.2.0",
            "grid_template_areas": null,
            "object_position": null,
            "object_fit": null,
            "grid_auto_columns": null,
            "margin": null,
            "display": null,
            "left": null
          }
        },
        "05e909c0052d4f9886c33b1738cc9394": {
          "model_module": "@jupyter-widgets/controls",
          "model_name": "DescriptionStyleModel",
          "state": {
            "_view_name": "StyleView",
            "_model_name": "DescriptionStyleModel",
            "description_width": "",
            "_view_module": "@jupyter-widgets/base",
            "_model_module_version": "1.5.0",
            "_view_count": null,
            "_view_module_version": "1.2.0",
            "_model_module": "@jupyter-widgets/controls"
          }
        },
        "eca072be575245be9f38121108e668cb": {
          "model_module": "@jupyter-widgets/base",
          "model_name": "LayoutModel",
          "state": {
            "_view_name": "LayoutView",
            "grid_template_rows": null,
            "right": null,
            "justify_content": null,
            "_view_module": "@jupyter-widgets/base",
            "overflow": null,
            "_model_module_version": "1.2.0",
            "_view_count": null,
            "flex_flow": null,
            "width": null,
            "min_width": null,
            "border": null,
            "align_items": null,
            "bottom": null,
            "_model_module": "@jupyter-widgets/base",
            "top": null,
            "grid_column": null,
            "overflow_y": null,
            "overflow_x": null,
            "grid_auto_flow": null,
            "grid_area": null,
            "grid_template_columns": null,
            "flex": null,
            "_model_name": "LayoutModel",
            "justify_items": null,
            "grid_row": null,
            "max_height": null,
            "align_content": null,
            "visibility": null,
            "align_self": null,
            "height": null,
            "min_height": null,
            "padding": null,
            "grid_auto_rows": null,
            "grid_gap": null,
            "max_width": null,
            "order": null,
            "_view_module_version": "1.2.0",
            "grid_template_areas": null,
            "object_position": null,
            "object_fit": null,
            "grid_auto_columns": null,
            "margin": null,
            "display": null,
            "left": null
          }
        },
        "dc37ae5ebd9746fb80ee4ef345bd992e": {
          "model_module": "@jupyter-widgets/controls",
          "model_name": "HBoxModel",
          "state": {
            "_view_name": "HBoxView",
            "_dom_classes": [],
            "_model_name": "HBoxModel",
            "_view_module": "@jupyter-widgets/controls",
            "_model_module_version": "1.5.0",
            "_view_count": null,
            "_view_module_version": "1.5.0",
            "box_style": "",
            "layout": "IPY_MODEL_fd487b14d41a4ff093e3d319db2f59c4",
            "_model_module": "@jupyter-widgets/controls",
            "children": [
              "IPY_MODEL_2c4977c82ac1452cbde093177e7f6e3a",
              "IPY_MODEL_c1caa516a4264906a729fc835551122e"
            ]
          }
        },
        "fd487b14d41a4ff093e3d319db2f59c4": {
          "model_module": "@jupyter-widgets/base",
          "model_name": "LayoutModel",
          "state": {
            "_view_name": "LayoutView",
            "grid_template_rows": null,
            "right": null,
            "justify_content": null,
            "_view_module": "@jupyter-widgets/base",
            "overflow": null,
            "_model_module_version": "1.2.0",
            "_view_count": null,
            "flex_flow": null,
            "width": null,
            "min_width": null,
            "border": null,
            "align_items": null,
            "bottom": null,
            "_model_module": "@jupyter-widgets/base",
            "top": null,
            "grid_column": null,
            "overflow_y": null,
            "overflow_x": null,
            "grid_auto_flow": null,
            "grid_area": null,
            "grid_template_columns": null,
            "flex": null,
            "_model_name": "LayoutModel",
            "justify_items": null,
            "grid_row": null,
            "max_height": null,
            "align_content": null,
            "visibility": null,
            "align_self": null,
            "height": null,
            "min_height": null,
            "padding": null,
            "grid_auto_rows": null,
            "grid_gap": null,
            "max_width": null,
            "order": null,
            "_view_module_version": "1.2.0",
            "grid_template_areas": null,
            "object_position": null,
            "object_fit": null,
            "grid_auto_columns": null,
            "margin": null,
            "display": null,
            "left": null
          }
        },
        "2c4977c82ac1452cbde093177e7f6e3a": {
          "model_module": "@jupyter-widgets/controls",
          "model_name": "FloatProgressModel",
          "state": {
            "_view_name": "ProgressView",
            "style": "IPY_MODEL_3a072a8aaf5447b787c84f69f42061bc",
            "_dom_classes": [],
            "description": "",
            "_model_name": "FloatProgressModel",
            "bar_style": "success",
            "max": 1,
            "_view_module": "@jupyter-widgets/controls",
            "_model_module_version": "1.5.0",
            "value": 1,
            "_view_count": null,
            "_view_module_version": "1.5.0",
            "orientation": "horizontal",
            "min": 0,
            "description_tooltip": null,
            "_model_module": "@jupyter-widgets/controls",
            "layout": "IPY_MODEL_a87f8eea2ac4448885d7644b36ce3839"
          }
        },
        "c1caa516a4264906a729fc835551122e": {
          "model_module": "@jupyter-widgets/controls",
          "model_name": "HTMLModel",
          "state": {
            "_view_name": "HTMLView",
            "style": "IPY_MODEL_496deb5700a84dbab676ccfa2645c330",
            "_dom_classes": [],
            "description": "",
            "_model_name": "HTMLModel",
            "placeholder": "​",
            "_view_module": "@jupyter-widgets/controls",
            "_model_module_version": "1.5.0",
            "value": " 32768/? [00:00&lt;00:00, 50106.35it/s]",
            "_view_count": null,
            "_view_module_version": "1.5.0",
            "description_tooltip": null,
            "_model_module": "@jupyter-widgets/controls",
            "layout": "IPY_MODEL_7270b56a43d24d969b9e1558d76144c8"
          }
        },
        "3a072a8aaf5447b787c84f69f42061bc": {
          "model_module": "@jupyter-widgets/controls",
          "model_name": "ProgressStyleModel",
          "state": {
            "_view_name": "StyleView",
            "_model_name": "ProgressStyleModel",
            "description_width": "initial",
            "_view_module": "@jupyter-widgets/base",
            "_model_module_version": "1.5.0",
            "_view_count": null,
            "_view_module_version": "1.2.0",
            "bar_color": null,
            "_model_module": "@jupyter-widgets/controls"
          }
        },
        "a87f8eea2ac4448885d7644b36ce3839": {
          "model_module": "@jupyter-widgets/base",
          "model_name": "LayoutModel",
          "state": {
            "_view_name": "LayoutView",
            "grid_template_rows": null,
            "right": null,
            "justify_content": null,
            "_view_module": "@jupyter-widgets/base",
            "overflow": null,
            "_model_module_version": "1.2.0",
            "_view_count": null,
            "flex_flow": null,
            "width": null,
            "min_width": null,
            "border": null,
            "align_items": null,
            "bottom": null,
            "_model_module": "@jupyter-widgets/base",
            "top": null,
            "grid_column": null,
            "overflow_y": null,
            "overflow_x": null,
            "grid_auto_flow": null,
            "grid_area": null,
            "grid_template_columns": null,
            "flex": null,
            "_model_name": "LayoutModel",
            "justify_items": null,
            "grid_row": null,
            "max_height": null,
            "align_content": null,
            "visibility": null,
            "align_self": null,
            "height": null,
            "min_height": null,
            "padding": null,
            "grid_auto_rows": null,
            "grid_gap": null,
            "max_width": null,
            "order": null,
            "_view_module_version": "1.2.0",
            "grid_template_areas": null,
            "object_position": null,
            "object_fit": null,
            "grid_auto_columns": null,
            "margin": null,
            "display": null,
            "left": null
          }
        },
        "496deb5700a84dbab676ccfa2645c330": {
          "model_module": "@jupyter-widgets/controls",
          "model_name": "DescriptionStyleModel",
          "state": {
            "_view_name": "StyleView",
            "_model_name": "DescriptionStyleModel",
            "description_width": "",
            "_view_module": "@jupyter-widgets/base",
            "_model_module_version": "1.5.0",
            "_view_count": null,
            "_view_module_version": "1.2.0",
            "_model_module": "@jupyter-widgets/controls"
          }
        },
        "7270b56a43d24d969b9e1558d76144c8": {
          "model_module": "@jupyter-widgets/base",
          "model_name": "LayoutModel",
          "state": {
            "_view_name": "LayoutView",
            "grid_template_rows": null,
            "right": null,
            "justify_content": null,
            "_view_module": "@jupyter-widgets/base",
            "overflow": null,
            "_model_module_version": "1.2.0",
            "_view_count": null,
            "flex_flow": null,
            "width": null,
            "min_width": null,
            "border": null,
            "align_items": null,
            "bottom": null,
            "_model_module": "@jupyter-widgets/base",
            "top": null,
            "grid_column": null,
            "overflow_y": null,
            "overflow_x": null,
            "grid_auto_flow": null,
            "grid_area": null,
            "grid_template_columns": null,
            "flex": null,
            "_model_name": "LayoutModel",
            "justify_items": null,
            "grid_row": null,
            "max_height": null,
            "align_content": null,
            "visibility": null,
            "align_self": null,
            "height": null,
            "min_height": null,
            "padding": null,
            "grid_auto_rows": null,
            "grid_gap": null,
            "max_width": null,
            "order": null,
            "_view_module_version": "1.2.0",
            "grid_template_areas": null,
            "object_position": null,
            "object_fit": null,
            "grid_auto_columns": null,
            "margin": null,
            "display": null,
            "left": null
          }
        },
        "af951272a1ce4d588c8a0e123bf953c6": {
          "model_module": "@jupyter-widgets/controls",
          "model_name": "HBoxModel",
          "state": {
            "_view_name": "HBoxView",
            "_dom_classes": [],
            "_model_name": "HBoxModel",
            "_view_module": "@jupyter-widgets/controls",
            "_model_module_version": "1.5.0",
            "_view_count": null,
            "_view_module_version": "1.5.0",
            "box_style": "",
            "layout": "IPY_MODEL_983cc05ae17f4823a6490f0ea770e7de",
            "_model_module": "@jupyter-widgets/controls",
            "children": [
              "IPY_MODEL_6d45f7da2a6f479d889064880a51673b",
              "IPY_MODEL_b74d13969f184ccfbae48d5d5d1aea08"
            ]
          }
        },
        "983cc05ae17f4823a6490f0ea770e7de": {
          "model_module": "@jupyter-widgets/base",
          "model_name": "LayoutModel",
          "state": {
            "_view_name": "LayoutView",
            "grid_template_rows": null,
            "right": null,
            "justify_content": null,
            "_view_module": "@jupyter-widgets/base",
            "overflow": null,
            "_model_module_version": "1.2.0",
            "_view_count": null,
            "flex_flow": null,
            "width": null,
            "min_width": null,
            "border": null,
            "align_items": null,
            "bottom": null,
            "_model_module": "@jupyter-widgets/base",
            "top": null,
            "grid_column": null,
            "overflow_y": null,
            "overflow_x": null,
            "grid_auto_flow": null,
            "grid_area": null,
            "grid_template_columns": null,
            "flex": null,
            "_model_name": "LayoutModel",
            "justify_items": null,
            "grid_row": null,
            "max_height": null,
            "align_content": null,
            "visibility": null,
            "align_self": null,
            "height": null,
            "min_height": null,
            "padding": null,
            "grid_auto_rows": null,
            "grid_gap": null,
            "max_width": null,
            "order": null,
            "_view_module_version": "1.2.0",
            "grid_template_areas": null,
            "object_position": null,
            "object_fit": null,
            "grid_auto_columns": null,
            "margin": null,
            "display": null,
            "left": null
          }
        },
        "6d45f7da2a6f479d889064880a51673b": {
          "model_module": "@jupyter-widgets/controls",
          "model_name": "FloatProgressModel",
          "state": {
            "_view_name": "ProgressView",
            "style": "IPY_MODEL_0e7e0258f0704e908fbc7ce87e2f15cd",
            "_dom_classes": [],
            "description": "",
            "_model_name": "FloatProgressModel",
            "bar_style": "success",
            "max": 1,
            "_view_module": "@jupyter-widgets/controls",
            "_model_module_version": "1.5.0",
            "value": 1,
            "_view_count": null,
            "_view_module_version": "1.5.0",
            "orientation": "horizontal",
            "min": 0,
            "description_tooltip": null,
            "_model_module": "@jupyter-widgets/controls",
            "layout": "IPY_MODEL_5496b343f5764832811b830185e34432"
          }
        },
        "b74d13969f184ccfbae48d5d5d1aea08": {
          "model_module": "@jupyter-widgets/controls",
          "model_name": "HTMLModel",
          "state": {
            "_view_name": "HTMLView",
            "style": "IPY_MODEL_18ac1239e69344ce884fd0d710c0486d",
            "_dom_classes": [],
            "description": "",
            "_model_name": "HTMLModel",
            "placeholder": "​",
            "_view_module": "@jupyter-widgets/controls",
            "_model_module_version": "1.5.0",
            "value": " 1654784/? [00:03&lt;00:00, 486321.16it/s]",
            "_view_count": null,
            "_view_module_version": "1.5.0",
            "description_tooltip": null,
            "_model_module": "@jupyter-widgets/controls",
            "layout": "IPY_MODEL_2eca0f3b6a3e4602b13d2c9d765e8c97"
          }
        },
        "0e7e0258f0704e908fbc7ce87e2f15cd": {
          "model_module": "@jupyter-widgets/controls",
          "model_name": "ProgressStyleModel",
          "state": {
            "_view_name": "StyleView",
            "_model_name": "ProgressStyleModel",
            "description_width": "initial",
            "_view_module": "@jupyter-widgets/base",
            "_model_module_version": "1.5.0",
            "_view_count": null,
            "_view_module_version": "1.2.0",
            "bar_color": null,
            "_model_module": "@jupyter-widgets/controls"
          }
        },
        "5496b343f5764832811b830185e34432": {
          "model_module": "@jupyter-widgets/base",
          "model_name": "LayoutModel",
          "state": {
            "_view_name": "LayoutView",
            "grid_template_rows": null,
            "right": null,
            "justify_content": null,
            "_view_module": "@jupyter-widgets/base",
            "overflow": null,
            "_model_module_version": "1.2.0",
            "_view_count": null,
            "flex_flow": null,
            "width": null,
            "min_width": null,
            "border": null,
            "align_items": null,
            "bottom": null,
            "_model_module": "@jupyter-widgets/base",
            "top": null,
            "grid_column": null,
            "overflow_y": null,
            "overflow_x": null,
            "grid_auto_flow": null,
            "grid_area": null,
            "grid_template_columns": null,
            "flex": null,
            "_model_name": "LayoutModel",
            "justify_items": null,
            "grid_row": null,
            "max_height": null,
            "align_content": null,
            "visibility": null,
            "align_self": null,
            "height": null,
            "min_height": null,
            "padding": null,
            "grid_auto_rows": null,
            "grid_gap": null,
            "max_width": null,
            "order": null,
            "_view_module_version": "1.2.0",
            "grid_template_areas": null,
            "object_position": null,
            "object_fit": null,
            "grid_auto_columns": null,
            "margin": null,
            "display": null,
            "left": null
          }
        },
        "18ac1239e69344ce884fd0d710c0486d": {
          "model_module": "@jupyter-widgets/controls",
          "model_name": "DescriptionStyleModel",
          "state": {
            "_view_name": "StyleView",
            "_model_name": "DescriptionStyleModel",
            "description_width": "",
            "_view_module": "@jupyter-widgets/base",
            "_model_module_version": "1.5.0",
            "_view_count": null,
            "_view_module_version": "1.2.0",
            "_model_module": "@jupyter-widgets/controls"
          }
        },
        "2eca0f3b6a3e4602b13d2c9d765e8c97": {
          "model_module": "@jupyter-widgets/base",
          "model_name": "LayoutModel",
          "state": {
            "_view_name": "LayoutView",
            "grid_template_rows": null,
            "right": null,
            "justify_content": null,
            "_view_module": "@jupyter-widgets/base",
            "overflow": null,
            "_model_module_version": "1.2.0",
            "_view_count": null,
            "flex_flow": null,
            "width": null,
            "min_width": null,
            "border": null,
            "align_items": null,
            "bottom": null,
            "_model_module": "@jupyter-widgets/base",
            "top": null,
            "grid_column": null,
            "overflow_y": null,
            "overflow_x": null,
            "grid_auto_flow": null,
            "grid_area": null,
            "grid_template_columns": null,
            "flex": null,
            "_model_name": "LayoutModel",
            "justify_items": null,
            "grid_row": null,
            "max_height": null,
            "align_content": null,
            "visibility": null,
            "align_self": null,
            "height": null,
            "min_height": null,
            "padding": null,
            "grid_auto_rows": null,
            "grid_gap": null,
            "max_width": null,
            "order": null,
            "_view_module_version": "1.2.0",
            "grid_template_areas": null,
            "object_position": null,
            "object_fit": null,
            "grid_auto_columns": null,
            "margin": null,
            "display": null,
            "left": null
          }
        },
        "344e09b10d85424d94853c7ff7fea154": {
          "model_module": "@jupyter-widgets/controls",
          "model_name": "HBoxModel",
          "state": {
            "_view_name": "HBoxView",
            "_dom_classes": [],
            "_model_name": "HBoxModel",
            "_view_module": "@jupyter-widgets/controls",
            "_model_module_version": "1.5.0",
            "_view_count": null,
            "_view_module_version": "1.5.0",
            "box_style": "",
            "layout": "IPY_MODEL_4cb2057a37f24c4e9bf209675357e1c5",
            "_model_module": "@jupyter-widgets/controls",
            "children": [
              "IPY_MODEL_ec0f922f8d83458ab67f9fbe04e1b30a",
              "IPY_MODEL_9c626dd98d344525a381d83f6dd4b685"
            ]
          }
        },
        "4cb2057a37f24c4e9bf209675357e1c5": {
          "model_module": "@jupyter-widgets/base",
          "model_name": "LayoutModel",
          "state": {
            "_view_name": "LayoutView",
            "grid_template_rows": null,
            "right": null,
            "justify_content": null,
            "_view_module": "@jupyter-widgets/base",
            "overflow": null,
            "_model_module_version": "1.2.0",
            "_view_count": null,
            "flex_flow": null,
            "width": null,
            "min_width": null,
            "border": null,
            "align_items": null,
            "bottom": null,
            "_model_module": "@jupyter-widgets/base",
            "top": null,
            "grid_column": null,
            "overflow_y": null,
            "overflow_x": null,
            "grid_auto_flow": null,
            "grid_area": null,
            "grid_template_columns": null,
            "flex": null,
            "_model_name": "LayoutModel",
            "justify_items": null,
            "grid_row": null,
            "max_height": null,
            "align_content": null,
            "visibility": null,
            "align_self": null,
            "height": null,
            "min_height": null,
            "padding": null,
            "grid_auto_rows": null,
            "grid_gap": null,
            "max_width": null,
            "order": null,
            "_view_module_version": "1.2.0",
            "grid_template_areas": null,
            "object_position": null,
            "object_fit": null,
            "grid_auto_columns": null,
            "margin": null,
            "display": null,
            "left": null
          }
        },
        "ec0f922f8d83458ab67f9fbe04e1b30a": {
          "model_module": "@jupyter-widgets/controls",
          "model_name": "FloatProgressModel",
          "state": {
            "_view_name": "ProgressView",
            "style": "IPY_MODEL_93214c1afe044e339a44372caaaf4a9c",
            "_dom_classes": [],
            "description": "",
            "_model_name": "FloatProgressModel",
            "bar_style": "success",
            "max": 1,
            "_view_module": "@jupyter-widgets/controls",
            "_model_module_version": "1.5.0",
            "value": 1,
            "_view_count": null,
            "_view_module_version": "1.5.0",
            "orientation": "horizontal",
            "min": 0,
            "description_tooltip": null,
            "_model_module": "@jupyter-widgets/controls",
            "layout": "IPY_MODEL_927d74fad24647f8b00dd7b3391d4684"
          }
        },
        "9c626dd98d344525a381d83f6dd4b685": {
          "model_module": "@jupyter-widgets/controls",
          "model_name": "HTMLModel",
          "state": {
            "_view_name": "HTMLView",
            "style": "IPY_MODEL_5d5081ef400e488e8df744e640341b32",
            "_dom_classes": [],
            "description": "",
            "_model_name": "HTMLModel",
            "placeholder": "​",
            "_view_module": "@jupyter-widgets/controls",
            "_model_module_version": "1.5.0",
            "value": " 8192/? [00:00&lt;00:00, 10793.33it/s]",
            "_view_count": null,
            "_view_module_version": "1.5.0",
            "description_tooltip": null,
            "_model_module": "@jupyter-widgets/controls",
            "layout": "IPY_MODEL_e83fe50a362a458493e5d7a8cdb7f496"
          }
        },
        "93214c1afe044e339a44372caaaf4a9c": {
          "model_module": "@jupyter-widgets/controls",
          "model_name": "ProgressStyleModel",
          "state": {
            "_view_name": "StyleView",
            "_model_name": "ProgressStyleModel",
            "description_width": "initial",
            "_view_module": "@jupyter-widgets/base",
            "_model_module_version": "1.5.0",
            "_view_count": null,
            "_view_module_version": "1.2.0",
            "bar_color": null,
            "_model_module": "@jupyter-widgets/controls"
          }
        },
        "927d74fad24647f8b00dd7b3391d4684": {
          "model_module": "@jupyter-widgets/base",
          "model_name": "LayoutModel",
          "state": {
            "_view_name": "LayoutView",
            "grid_template_rows": null,
            "right": null,
            "justify_content": null,
            "_view_module": "@jupyter-widgets/base",
            "overflow": null,
            "_model_module_version": "1.2.0",
            "_view_count": null,
            "flex_flow": null,
            "width": null,
            "min_width": null,
            "border": null,
            "align_items": null,
            "bottom": null,
            "_model_module": "@jupyter-widgets/base",
            "top": null,
            "grid_column": null,
            "overflow_y": null,
            "overflow_x": null,
            "grid_auto_flow": null,
            "grid_area": null,
            "grid_template_columns": null,
            "flex": null,
            "_model_name": "LayoutModel",
            "justify_items": null,
            "grid_row": null,
            "max_height": null,
            "align_content": null,
            "visibility": null,
            "align_self": null,
            "height": null,
            "min_height": null,
            "padding": null,
            "grid_auto_rows": null,
            "grid_gap": null,
            "max_width": null,
            "order": null,
            "_view_module_version": "1.2.0",
            "grid_template_areas": null,
            "object_position": null,
            "object_fit": null,
            "grid_auto_columns": null,
            "margin": null,
            "display": null,
            "left": null
          }
        },
        "5d5081ef400e488e8df744e640341b32": {
          "model_module": "@jupyter-widgets/controls",
          "model_name": "DescriptionStyleModel",
          "state": {
            "_view_name": "StyleView",
            "_model_name": "DescriptionStyleModel",
            "description_width": "",
            "_view_module": "@jupyter-widgets/base",
            "_model_module_version": "1.5.0",
            "_view_count": null,
            "_view_module_version": "1.2.0",
            "_model_module": "@jupyter-widgets/controls"
          }
        },
        "e83fe50a362a458493e5d7a8cdb7f496": {
          "model_module": "@jupyter-widgets/base",
          "model_name": "LayoutModel",
          "state": {
            "_view_name": "LayoutView",
            "grid_template_rows": null,
            "right": null,
            "justify_content": null,
            "_view_module": "@jupyter-widgets/base",
            "overflow": null,
            "_model_module_version": "1.2.0",
            "_view_count": null,
            "flex_flow": null,
            "width": null,
            "min_width": null,
            "border": null,
            "align_items": null,
            "bottom": null,
            "_model_module": "@jupyter-widgets/base",
            "top": null,
            "grid_column": null,
            "overflow_y": null,
            "overflow_x": null,
            "grid_auto_flow": null,
            "grid_area": null,
            "grid_template_columns": null,
            "flex": null,
            "_model_name": "LayoutModel",
            "justify_items": null,
            "grid_row": null,
            "max_height": null,
            "align_content": null,
            "visibility": null,
            "align_self": null,
            "height": null,
            "min_height": null,
            "padding": null,
            "grid_auto_rows": null,
            "grid_gap": null,
            "max_width": null,
            "order": null,
            "_view_module_version": "1.2.0",
            "grid_template_areas": null,
            "object_position": null,
            "object_fit": null,
            "grid_auto_columns": null,
            "margin": null,
            "display": null,
            "left": null
          }
        }
      }
    },
    "accelerator": "GPU"
  },
  "cells": [
    {
      "cell_type": "markdown",
      "metadata": {
        "id": "view-in-github",
        "colab_type": "text"
      },
      "source": [
        "<a href=\"https://colab.research.google.com/github/anubhavgupta1/Udacity/blob/main/Frameworks/Pytorch/Autoencoders/Stacked%20Autoencoders/MNIST.ipynb\" target=\"_parent\"><img src=\"https://colab.research.google.com/assets/colab-badge.svg\" alt=\"Open In Colab\"/></a>"
      ]
    },
    {
      "cell_type": "markdown",
      "metadata": {
        "id": "51LMUk8X6ZLs"
      },
      "source": [
        "## Setup"
      ]
    },
    {
      "cell_type": "code",
      "metadata": {
        "id": "aOqbwYyqrtit"
      },
      "source": [
        "import torch\r\n",
        "import numpy as np\r\n",
        "from torchvision import datasets\r\n",
        "import torchvision.transforms as transforms"
      ],
      "execution_count": 1,
      "outputs": []
    },
    {
      "cell_type": "markdown",
      "metadata": {
        "id": "TRTHGtwf6drj"
      },
      "source": [
        "## Transform"
      ]
    },
    {
      "cell_type": "code",
      "metadata": {
        "id": "NiCmLdstsIbC"
      },
      "source": [
        "# convert data to torch.FloatTensor\r\n",
        "transform = transforms.ToTensor()"
      ],
      "execution_count": 2,
      "outputs": []
    },
    {
      "cell_type": "markdown",
      "metadata": {
        "id": "WFM13mZB6fwz"
      },
      "source": [
        "## Load Data"
      ]
    },
    {
      "cell_type": "code",
      "metadata": {
        "colab": {
          "base_uri": "https://localhost:8080/",
          "height": 382,
          "referenced_widgets": [
            "524753b8df9e44ec8fca577c969d4f2e",
            "9b969a8abf82470186d11df254ab82e9",
            "9167e46de317464381f283e0898ddb59",
            "03e789b1f80442cfaa77182004fe7e3f",
            "3b1ef09e88a249afa864f56d5f09149e",
            "7c276630445443f6b4e91c06e7bb6d28",
            "05e909c0052d4f9886c33b1738cc9394",
            "eca072be575245be9f38121108e668cb",
            "dc37ae5ebd9746fb80ee4ef345bd992e",
            "fd487b14d41a4ff093e3d319db2f59c4",
            "2c4977c82ac1452cbde093177e7f6e3a",
            "c1caa516a4264906a729fc835551122e",
            "3a072a8aaf5447b787c84f69f42061bc",
            "a87f8eea2ac4448885d7644b36ce3839",
            "496deb5700a84dbab676ccfa2645c330",
            "7270b56a43d24d969b9e1558d76144c8",
            "af951272a1ce4d588c8a0e123bf953c6",
            "983cc05ae17f4823a6490f0ea770e7de",
            "6d45f7da2a6f479d889064880a51673b",
            "b74d13969f184ccfbae48d5d5d1aea08",
            "0e7e0258f0704e908fbc7ce87e2f15cd",
            "5496b343f5764832811b830185e34432",
            "18ac1239e69344ce884fd0d710c0486d",
            "2eca0f3b6a3e4602b13d2c9d765e8c97",
            "344e09b10d85424d94853c7ff7fea154",
            "4cb2057a37f24c4e9bf209675357e1c5",
            "ec0f922f8d83458ab67f9fbe04e1b30a",
            "9c626dd98d344525a381d83f6dd4b685",
            "93214c1afe044e339a44372caaaf4a9c",
            "927d74fad24647f8b00dd7b3391d4684",
            "5d5081ef400e488e8df744e640341b32",
            "e83fe50a362a458493e5d7a8cdb7f496"
          ]
        },
        "id": "LJs4gC_csMHI",
        "outputId": "1c0f7e78-594e-46ca-b7ba-d4ee95c7139e"
      },
      "source": [
        "# load the training and test datasets\r\n",
        "train_data = datasets.MNIST(root='data', train=True,download=True, transform=transform)\r\n",
        "test_data = datasets.MNIST(root='data', train=False,download=True, transform=transform)"
      ],
      "execution_count": 3,
      "outputs": [
        {
          "output_type": "stream",
          "text": [
            "Downloading http://yann.lecun.com/exdb/mnist/train-images-idx3-ubyte.gz to data/MNIST/raw/train-images-idx3-ubyte.gz\n"
          ],
          "name": "stdout"
        },
        {
          "output_type": "display_data",
          "data": {
            "application/vnd.jupyter.widget-view+json": {
              "model_id": "524753b8df9e44ec8fca577c969d4f2e",
              "version_minor": 0,
              "version_major": 2
            },
            "text/plain": [
              "HBox(children=(FloatProgress(value=1.0, bar_style='info', max=1.0), HTML(value='')))"
            ]
          },
          "metadata": {
            "tags": []
          }
        },
        {
          "output_type": "stream",
          "text": [
            "Extracting data/MNIST/raw/train-images-idx3-ubyte.gz to data/MNIST/raw\n",
            "Downloading http://yann.lecun.com/exdb/mnist/train-labels-idx1-ubyte.gz to data/MNIST/raw/train-labels-idx1-ubyte.gz\n"
          ],
          "name": "stdout"
        },
        {
          "output_type": "display_data",
          "data": {
            "application/vnd.jupyter.widget-view+json": {
              "model_id": "dc37ae5ebd9746fb80ee4ef345bd992e",
              "version_minor": 0,
              "version_major": 2
            },
            "text/plain": [
              "HBox(children=(FloatProgress(value=1.0, bar_style='info', max=1.0), HTML(value='')))"
            ]
          },
          "metadata": {
            "tags": []
          }
        },
        {
          "output_type": "stream",
          "text": [
            "Extracting data/MNIST/raw/train-labels-idx1-ubyte.gz to data/MNIST/raw\n",
            "Downloading http://yann.lecun.com/exdb/mnist/t10k-images-idx3-ubyte.gz to data/MNIST/raw/t10k-images-idx3-ubyte.gz\n",
            "\n"
          ],
          "name": "stdout"
        },
        {
          "output_type": "display_data",
          "data": {
            "application/vnd.jupyter.widget-view+json": {
              "model_id": "af951272a1ce4d588c8a0e123bf953c6",
              "version_minor": 0,
              "version_major": 2
            },
            "text/plain": [
              "HBox(children=(FloatProgress(value=1.0, bar_style='info', max=1.0), HTML(value='')))"
            ]
          },
          "metadata": {
            "tags": []
          }
        },
        {
          "output_type": "stream",
          "text": [
            "Extracting data/MNIST/raw/t10k-images-idx3-ubyte.gz to data/MNIST/raw\n",
            "Downloading http://yann.lecun.com/exdb/mnist/t10k-labels-idx1-ubyte.gz to data/MNIST/raw/t10k-labels-idx1-ubyte.gz\n"
          ],
          "name": "stdout"
        },
        {
          "output_type": "display_data",
          "data": {
            "application/vnd.jupyter.widget-view+json": {
              "model_id": "344e09b10d85424d94853c7ff7fea154",
              "version_minor": 0,
              "version_major": 2
            },
            "text/plain": [
              "HBox(children=(FloatProgress(value=1.0, bar_style='info', max=1.0), HTML(value='')))"
            ]
          },
          "metadata": {
            "tags": []
          }
        },
        {
          "output_type": "stream",
          "text": [
            "Extracting data/MNIST/raw/t10k-labels-idx1-ubyte.gz to data/MNIST/raw\n",
            "Processing...\n",
            "Done!\n"
          ],
          "name": "stdout"
        },
        {
          "output_type": "stream",
          "text": [
            "/usr/local/lib/python3.6/dist-packages/torchvision/datasets/mnist.py:480: UserWarning: The given NumPy array is not writeable, and PyTorch does not support non-writeable tensors. This means you can write to the underlying (supposedly non-writeable) NumPy array using the tensor. You may want to copy the array to protect its data or make it writeable before converting it to a tensor. This type of warning will be suppressed for the rest of this program. (Triggered internally at  /pytorch/torch/csrc/utils/tensor_numpy.cpp:141.)\n",
            "  return torch.from_numpy(parsed.astype(m[2], copy=False)).view(*s)\n"
          ],
          "name": "stderr"
        }
      ]
    },
    {
      "cell_type": "code",
      "metadata": {
        "id": "AnKyOJn9tuQD"
      },
      "source": [
        "classes = ('zero', 'one', 'two', 'three','four', 'five', 'six', 'seven', 'eight', 'nine')"
      ],
      "execution_count": 4,
      "outputs": []
    },
    {
      "cell_type": "markdown",
      "metadata": {
        "id": "f31zwImQ6i1X"
      },
      "source": [
        "## Batching"
      ]
    },
    {
      "cell_type": "code",
      "metadata": {
        "id": "VaJnYN-3sPvh"
      },
      "source": [
        "# number of subprocesses to use for data loading\r\n",
        "num_workers = 0\r\n",
        "# how many samples per batch to load\r\n",
        "batch_size = 20\r\n",
        "\r\n",
        "# prepare data loaders\r\n",
        "train_loader = torch.utils.data.DataLoader(train_data, batch_size=batch_size, num_workers=num_workers)\r\n",
        "test_loader = torch.utils.data.DataLoader(test_data, batch_size=batch_size, num_workers=num_workers)"
      ],
      "execution_count": 5,
      "outputs": []
    },
    {
      "cell_type": "code",
      "metadata": {
        "colab": {
          "base_uri": "https://localhost:8080/"
        },
        "id": "FO1177YysSZB",
        "outputId": "11305384-325c-4634-eb0a-e1f1516a82af"
      },
      "source": [
        "import matplotlib.pyplot as plt\r\n",
        "%matplotlib inline"
      ],
      "execution_count": 6,
      "outputs": [
        {
          "output_type": "stream",
          "text": [
            "\n",
            "\n",
            "\n"
          ],
          "name": "stdout"
        }
      ]
    },
    {
      "cell_type": "code",
      "metadata": {
        "colab": {
          "base_uri": "https://localhost:8080/",
          "height": 337
        },
        "id": "s26D2MC_sVio",
        "outputId": "9e913e79-23d3-4a60-898e-384dfb5587e4"
      },
      "source": [
        "# obtain one batch of training images\r\n",
        "dataiter = iter(train_loader)\r\n",
        "images, labels = dataiter.next()\r\n",
        "images = images.numpy()\r\n",
        "\r\n",
        "# get one image from the batch\r\n",
        "img = np.squeeze(images[0])\r\n",
        "\r\n",
        "fig = plt.figure(figsize = (5,5)) \r\n",
        "ax = fig.add_subplot(111)\r\n",
        "ax.imshow(img, cmap='gray')"
      ],
      "execution_count": 7,
      "outputs": [
        {
          "output_type": "execute_result",
          "data": {
            "text/plain": [
              "<matplotlib.image.AxesImage at 0x7f915e54d550>"
            ]
          },
          "metadata": {
            "tags": []
          },
          "execution_count": 7
        },
        {
          "output_type": "display_data",
          "data": {
            "image/png": "[encoded data removed]",
            "text/plain": [
              "<Figure size 360x360 with 1 Axes>"
            ]
          },
          "metadata": {
            "tags": [],
            "needs_background": "light"
          }
        }
      ]
    },
    {
      "cell_type": "markdown",
      "metadata": {
        "id": "hrCbRyj06mbZ"
      },
      "source": [
        "## Configure GPU"
      ]
    },
    {
      "cell_type": "code",
      "metadata": {
        "colab": {
          "base_uri": "https://localhost:8080/"
        },
        "id": "brDCdh-nsYBp",
        "outputId": "8a65e64b-fa21-4c49-c704-2bb23e1549da"
      },
      "source": [
        "print(torch.cuda.device_count())\r\n",
        "print(torch.cuda.get_device_name(0))\r\n",
        "gpu = torch.device('cuda:0')"
      ],
      "execution_count": 8,
      "outputs": [
        {
          "output_type": "stream",
          "text": [
            "1\n",
            "Tesla P100-PCIE-16GB\n"
          ],
          "name": "stdout"
        }
      ]
    },
    {
      "cell_type": "markdown",
      "metadata": {
        "id": "wcvcx34J6pju"
      },
      "source": [
        "## Model Class"
      ]
    },
    {
      "cell_type": "code",
      "metadata": {
        "id": "v7aOwJXnsdMs"
      },
      "source": [
        "import torch.nn as nn\r\n",
        "import torch.nn.functional as F"
      ],
      "execution_count": 9,
      "outputs": []
    },
    {
      "cell_type": "code",
      "metadata": {
        "id": "XrAfMOhXt5-g"
      },
      "source": [
        "class autoencoder(nn.Module):\r\n",
        "    def __init__(self):\r\n",
        "        super(autoencoder, self).__init__()\r\n",
        "        self.encoder = nn.Sequential(\r\n",
        "            nn.Linear(28*28, 400),\r\n",
        "            nn.Tanh())\r\n",
        "        self.decoder = nn.Sequential(\r\n",
        "            nn.Linear(400, 28*28),\r\n",
        "            nn.Sigmoid())\r\n",
        "\r\n",
        "    def forward(self, x):\r\n",
        "        x = self.encoder(x)\r\n",
        "        x = self.decoder(x)\r\n",
        "        return x"
      ],
      "execution_count": 10,
      "outputs": []
    },
    {
      "cell_type": "code",
      "metadata": {
        "colab": {
          "base_uri": "https://localhost:8080/"
        },
        "id": "b2c3rgKasi4A",
        "outputId": "9a59ca5a-91b0-40fe-ef16-6bb1bdd17621"
      },
      "source": [
        "# initialize the NN\r\n",
        "model = autoencoder()\r\n",
        "model = model.to(gpu)\r\n",
        "print(model)"
      ],
      "execution_count": 11,
      "outputs": [
        {
          "output_type": "stream",
          "text": [
            "autoencoder(\n",
            "  (encoder): Sequential(\n",
            "    (0): Linear(in_features=784, out_features=400, bias=True)\n",
            "    (1): Tanh()\n",
            "  )\n",
            "  (decoder): Sequential(\n",
            "    (0): Linear(in_features=400, out_features=784, bias=True)\n",
            "    (1): Sigmoid()\n",
            "  )\n",
            ")\n"
          ],
          "name": "stdout"
        }
      ]
    },
    {
      "cell_type": "code",
      "metadata": {
        "id": "Dc0hb41wsl2p"
      },
      "source": [
        "import copy"
      ],
      "execution_count": 12,
      "outputs": []
    },
    {
      "cell_type": "code",
      "metadata": {
        "colab": {
          "base_uri": "https://localhost:8080/"
        },
        "id": "GjNj62uTso4g",
        "outputId": "ea2faac7-176c-4e1f-a08e-782eb5d6eae4"
      },
      "source": [
        "print(model.encoder[0])"
      ],
      "execution_count": 13,
      "outputs": [
        {
          "output_type": "stream",
          "text": [
            "Linear(in_features=784, out_features=400, bias=True)\n"
          ],
          "name": "stdout"
        }
      ]
    },
    {
      "cell_type": "code",
      "metadata": {
        "id": "Kk3jizb9srKo"
      },
      "source": [
        "init_weights = copy.deepcopy(model.encoder[0].weight.data)"
      ],
      "execution_count": 14,
      "outputs": []
    },
    {
      "cell_type": "code",
      "metadata": {
        "id": "qBc-1V0tst3i"
      },
      "source": [
        "# specify loss function\r\n",
        "criterion = nn.MSELoss()\r\n",
        "learning_rate = 0.98"
      ],
      "execution_count": 15,
      "outputs": []
    },
    {
      "cell_type": "markdown",
      "metadata": {
        "id": "NXBOFZbQ6vow"
      },
      "source": [
        "## Train The Model"
      ]
    },
    {
      "cell_type": "code",
      "metadata": {
        "colab": {
          "base_uri": "https://localhost:8080/"
        },
        "id": "oS_X7wPfsw-3",
        "outputId": "00db5083-9ff6-4297-9fd5-ae3e459a1104"
      },
      "source": [
        "# number of epochs to train the model\r\n",
        "n_epochs = 10\r\n",
        "\r\n",
        "for epoch in range(1, n_epochs+1):\r\n",
        "    # monitor training loss\r\n",
        "    train_loss = 0.0\r\n",
        "    \r\n",
        "    ###################\r\n",
        "    # train the model #\r\n",
        "    ###################\r\n",
        "    for data in train_loader:\r\n",
        "        # _ stands in for labels, here\r\n",
        "        images, _ = data\r\n",
        "        # flatten images\r\n",
        "        images = images.view(images.size(0), -1)\r\n",
        "        # clear the gradients of all optimized variables\r\n",
        "        images = images.to(gpu)\r\n",
        "\r\n",
        "        # zeroes the gradient buffers of all parameters\r\n",
        "        model.zero_grad()\r\n",
        "        # forward pass: compute predicted outputs by passing inputs to the model\r\n",
        "        outputs = model(images)\r\n",
        "        # calculate the loss\r\n",
        "        loss = criterion(outputs, images)\r\n",
        "        # backward pass: compute gradient of the loss with respect to model parameters\r\n",
        "        loss.backward()\r\n",
        "\r\n",
        "        # weight = weight - learning_rate * gradient (Update Weights)\r\n",
        "        #optimizer.step()\r\n",
        "        for f in model.parameters():\r\n",
        "          f.data.sub_(f.grad.data * learning_rate)\r\n",
        "        \r\n",
        "        # update running training loss\r\n",
        "        train_loss += loss.item()*images.size(0)\r\n",
        "            \r\n",
        "    # print avg training statistics \r\n",
        "    train_loss = train_loss/len(train_loader)\r\n",
        "    print('Epoch: {} \\tTraining Loss: {:.6f}'.format(epoch, train_loss))\r\n",
        "print('Finished Training')"
      ],
      "execution_count": 16,
      "outputs": [
        {
          "output_type": "stream",
          "text": [
            "Epoch: 1 \tTraining Loss: 1.167335\n",
            "Epoch: 2 \tTraining Loss: 0.702814\n",
            "Epoch: 3 \tTraining Loss: 0.545346\n",
            "Epoch: 4 \tTraining Loss: 0.449486\n",
            "Epoch: 5 \tTraining Loss: 0.384180\n",
            "Epoch: 6 \tTraining Loss: 0.337035\n",
            "Epoch: 7 \tTraining Loss: 0.301686\n",
            "Epoch: 8 \tTraining Loss: 0.274168\n",
            "Epoch: 9 \tTraining Loss: 0.252088\n",
            "Epoch: 10 \tTraining Loss: 0.233977\n",
            "Finished Training\n"
          ],
          "name": "stdout"
        }
      ]
    },
    {
      "cell_type": "markdown",
      "metadata": {
        "id": "jDxqrhR0x_9G"
      },
      "source": [
        "## Stacking Layers"
      ]
    },
    {
      "cell_type": "code",
      "metadata": {
        "colab": {
          "base_uri": "https://localhost:8080/"
        },
        "id": "ZMRju6UWx-L0",
        "outputId": "42d4d212-ef57-40e7-dfb0-43f71378bee2"
      },
      "source": [
        "# Adding New Layer (Stacking)\r\n",
        "model.encoder.add_module('New_Encoder_Layer', nn.Sequential(nn.Linear(400, 256),nn.Tanh()))\r\n",
        "model.encoder.add_module('New_Decoder_Layer', nn.Sequential(nn.Linear(256, 400),nn.Tanh()))\r\n",
        "print(model)"
      ],
      "execution_count": 17,
      "outputs": [
        {
          "output_type": "stream",
          "text": [
            "autoencoder(\n",
            "  (encoder): Sequential(\n",
            "    (0): Linear(in_features=784, out_features=400, bias=True)\n",
            "    (1): Tanh()\n",
            "    (New_Encoder_Layer): Sequential(\n",
            "      (0): Linear(in_features=400, out_features=256, bias=True)\n",
            "      (1): Tanh()\n",
            "    )\n",
            "    (New_Decoder_Layer): Sequential(\n",
            "      (0): Linear(in_features=256, out_features=400, bias=True)\n",
            "      (1): Tanh()\n",
            "    )\n",
            "  )\n",
            "  (decoder): Sequential(\n",
            "    (0): Linear(in_features=400, out_features=784, bias=True)\n",
            "    (1): Sigmoid()\n",
            "  )\n",
            ")\n"
          ],
          "name": "stdout"
        }
      ]
    },
    {
      "cell_type": "code",
      "metadata": {
        "id": "8rjbE1VazImw"
      },
      "source": [
        "model = model.to(gpu)"
      ],
      "execution_count": 18,
      "outputs": []
    },
    {
      "cell_type": "markdown",
      "metadata": {
        "id": "p70Q67pb65q6"
      },
      "source": [
        "## Train The model"
      ]
    },
    {
      "cell_type": "code",
      "metadata": {
        "colab": {
          "base_uri": "https://localhost:8080/"
        },
        "id": "aL-dr2LJypWT",
        "outputId": "053abac0-2529-4b22-c8c4-92aad7b07b6a"
      },
      "source": [
        "# number of epochs to train the model\r\n",
        "n_epochs = 10\r\n",
        "\r\n",
        "for epoch in range(1, n_epochs+1):\r\n",
        "    # monitor training loss\r\n",
        "    train_loss = 0.0\r\n",
        "    \r\n",
        "    ###################\r\n",
        "    # train the model #\r\n",
        "    ###################\r\n",
        "    for data in train_loader:\r\n",
        "        # _ stands in for labels, here\r\n",
        "        images, _ = data\r\n",
        "        # flatten images\r\n",
        "        images = images.view(images.size(0), -1)\r\n",
        "        # clear the gradients of all optimized variables\r\n",
        "        images = images.to(gpu)\r\n",
        "\r\n",
        "        # zeroes the gradient buffers of all parameters\r\n",
        "        model.zero_grad()\r\n",
        "        # forward pass: compute predicted outputs by passing inputs to the model\r\n",
        "        outputs = model(images)\r\n",
        "        # calculate the loss\r\n",
        "        loss = criterion(outputs, images)\r\n",
        "        # backward pass: compute gradient of the loss with respect to model parameters\r\n",
        "        loss.backward()\r\n",
        "\r\n",
        "        # weight = weight - learning_rate * gradient (Update Weights)\r\n",
        "        #optimizer.step()\r\n",
        "        for f in model.parameters():\r\n",
        "          f.data.sub_(f.grad.data * learning_rate)\r\n",
        "        \r\n",
        "        # update running training loss\r\n",
        "        train_loss += loss.item()*images.size(0)\r\n",
        "            \r\n",
        "    # print avg training statistics \r\n",
        "    train_loss = train_loss/len(train_loader)\r\n",
        "    print('Epoch: {} \\tTraining Loss: {:.6f}'.format(epoch, train_loss))\r\n",
        "print('Finished Training')"
      ],
      "execution_count": 19,
      "outputs": [
        {
          "output_type": "stream",
          "text": [
            "Epoch: 1 \tTraining Loss: 0.422850\n",
            "Epoch: 2 \tTraining Loss: 0.277196\n",
            "Epoch: 3 \tTraining Loss: 0.248446\n",
            "Epoch: 4 \tTraining Loss: 0.231718\n",
            "Epoch: 5 \tTraining Loss: 0.219813\n",
            "Epoch: 6 \tTraining Loss: 0.210553\n",
            "Epoch: 7 \tTraining Loss: 0.202739\n",
            "Epoch: 8 \tTraining Loss: 0.195729\n",
            "Epoch: 9 \tTraining Loss: 0.189298\n",
            "Epoch: 10 \tTraining Loss: 0.183447\n",
            "Finished Training\n"
          ],
          "name": "stdout"
        }
      ]
    },
    {
      "cell_type": "markdown",
      "metadata": {
        "id": "1R3YqGtI7BQp"
      },
      "source": [
        "## Modifying the autoencoder for classification"
      ]
    },
    {
      "cell_type": "code",
      "metadata": {
        "colab": {
          "base_uri": "https://localhost:8080/"
        },
        "id": "WE4qqE7e2YD4",
        "outputId": "d8e48f83-8c89-4c62-91a1-ec6ecf75b82a"
      },
      "source": [
        "print(*list(model.children())[:-1])"
      ],
      "execution_count": 20,
      "outputs": [
        {
          "output_type": "stream",
          "text": [
            "Sequential(\n",
            "  (0): Linear(in_features=784, out_features=400, bias=True)\n",
            "  (1): Tanh()\n",
            "  (New_Encoder_Layer): Sequential(\n",
            "    (0): Linear(in_features=400, out_features=256, bias=True)\n",
            "    (1): Tanh()\n",
            "  )\n",
            "  (New_Decoder_Layer): Sequential(\n",
            "    (0): Linear(in_features=256, out_features=400, bias=True)\n",
            "    (1): Tanh()\n",
            "  )\n",
            ")\n"
          ],
          "name": "stdout"
        }
      ]
    },
    {
      "cell_type": "code",
      "metadata": {
        "colab": {
          "base_uri": "https://localhost:8080/"
        },
        "id": "M31QxWwC10oh",
        "outputId": "104c7f33-cfc2-4be2-9c52-5e5d1c434367"
      },
      "source": [
        "# Removing the decoder module from the autoencoder\r\n",
        "new_classifier = nn.Sequential(*list(model.children())[:-1])\r\n",
        "model = new_classifier\r\n",
        "print(model)"
      ],
      "execution_count": 21,
      "outputs": [
        {
          "output_type": "stream",
          "text": [
            "Sequential(\n",
            "  (0): Sequential(\n",
            "    (0): Linear(in_features=784, out_features=400, bias=True)\n",
            "    (1): Tanh()\n",
            "    (New_Encoder_Layer): Sequential(\n",
            "      (0): Linear(in_features=400, out_features=256, bias=True)\n",
            "      (1): Tanh()\n",
            "    )\n",
            "    (New_Decoder_Layer): Sequential(\n",
            "      (0): Linear(in_features=256, out_features=400, bias=True)\n",
            "      (1): Tanh()\n",
            "    )\n",
            "  )\n",
            ")\n"
          ],
          "name": "stdout"
        }
      ]
    },
    {
      "cell_type": "code",
      "metadata": {
        "colab": {
          "base_uri": "https://localhost:8080/"
        },
        "id": "R9FAmT2v3ESk",
        "outputId": "e054af49-8add-4ea0-9234-2ca5be089e9f"
      },
      "source": [
        "print(*list(model[0].children())[:-1])"
      ],
      "execution_count": 22,
      "outputs": [
        {
          "output_type": "stream",
          "text": [
            "Linear(in_features=784, out_features=400, bias=True) Tanh() Sequential(\n",
            "  (0): Linear(in_features=400, out_features=256, bias=True)\n",
            "  (1): Tanh()\n",
            ")\n"
          ],
          "name": "stdout"
        }
      ]
    },
    {
      "cell_type": "code",
      "metadata": {
        "colab": {
          "base_uri": "https://localhost:8080/"
        },
        "id": "KKsDKQBI2JNo",
        "outputId": "5b67ba7c-a452-4c78-fbb4-5386d004b828"
      },
      "source": [
        "new_classifier = nn.Sequential(*list(model[0].children())[:-1])\r\n",
        "model = new_classifier\r\n",
        "print(model)"
      ],
      "execution_count": 23,
      "outputs": [
        {
          "output_type": "stream",
          "text": [
            "Sequential(\n",
            "  (0): Linear(in_features=784, out_features=400, bias=True)\n",
            "  (1): Tanh()\n",
            "  (2): Sequential(\n",
            "    (0): Linear(in_features=400, out_features=256, bias=True)\n",
            "    (1): Tanh()\n",
            "  )\n",
            ")\n"
          ],
          "name": "stdout"
        }
      ]
    },
    {
      "cell_type": "code",
      "metadata": {
        "colab": {
          "base_uri": "https://localhost:8080/"
        },
        "id": "_QtaR9Hc3nzL",
        "outputId": "272e5299-f103-4b8b-fe42-b85b2b772327"
      },
      "source": [
        "# Adding linear layer for 10-class classification problem\r\n",
        "model.add_module('classifier', nn.Sequential(nn.Linear(256, 10),nn.LogSoftmax(dim=1)))\r\n",
        "model = model.to(gpu)\r\n",
        "print(model)"
      ],
      "execution_count": 24,
      "outputs": [
        {
          "output_type": "stream",
          "text": [
            "Sequential(\n",
            "  (0): Linear(in_features=784, out_features=400, bias=True)\n",
            "  (1): Tanh()\n",
            "  (2): Sequential(\n",
            "    (0): Linear(in_features=400, out_features=256, bias=True)\n",
            "    (1): Tanh()\n",
            "  )\n",
            "  (classifier): Sequential(\n",
            "    (0): Linear(in_features=256, out_features=10, bias=True)\n",
            "    (1): LogSoftmax(dim=1)\n",
            "  )\n",
            ")\n"
          ],
          "name": "stdout"
        }
      ]
    },
    {
      "cell_type": "markdown",
      "metadata": {
        "id": "wG2fmR72Dixk"
      },
      "source": [
        "## Train Classifier"
      ]
    },
    {
      "cell_type": "code",
      "metadata": {
        "colab": {
          "base_uri": "https://localhost:8080/"
        },
        "id": "ynyXayWn31bi",
        "outputId": "66793640-bce7-4282-b822-4defd52f07b2"
      },
      "source": [
        "epochs = 10\r\n",
        "learning_rate = 0.1\r\n",
        "criterion = nn.NLLLoss()\r\n",
        "\r\n",
        "for epoch in range(epochs):  # loop over the dataset multiple times\r\n",
        "\r\n",
        "    runningLoss = 0.0\r\n",
        "    for data in train_loader:\r\n",
        "        # get the inputs\r\n",
        "        inputs, labels = data        \r\n",
        "        inputs, labels = inputs.view(-1, 28*28).to(gpu), labels.to(gpu)\r\n",
        "        model.zero_grad()  # zeroes the gradient buffers of all parameters\r\n",
        "        outputs = model(inputs) # forward \r\n",
        "        loss = criterion(outputs, labels) # calculate loss\r\n",
        "        loss.backward() #  backpropagate the loss\r\n",
        "        # weight = weight - learning_rate * gradient (Update Weights)\r\n",
        "        for f in model.parameters():\r\n",
        "            f.data.sub_(f.grad.data * learning_rate)\r\n",
        "        runningLoss += loss.item()\r\n",
        "        correct = 0\r\n",
        "        total = 0\r\n",
        "        \r\n",
        "    model.eval()\r\n",
        "    with torch.no_grad():\r\n",
        "        for data in test_loader:\r\n",
        "            inputs, labels = data\r\n",
        "            inputs, labels = inputs.view(-1, 28*28).to(gpu), labels.to(gpu)\r\n",
        "            outputs = model(inputs)\r\n",
        "            _, predicted = torch.max(outputs.data, 1)\r\n",
        "            total += labels.size(0)\r\n",
        "            correct += (predicted == labels).sum()\r\n",
        "    m = 60000/batch_size\r\n",
        "    print('At Epoch : %d / %d  ;  Train Error : %f ;Test Accuracy : %f '%(epoch + 1,epochs, runningLoss/m,100 * correct /float(total)))\r\n",
        "print('Finished Training')"
      ],
      "execution_count": 25,
      "outputs": [
        {
          "output_type": "stream",
          "text": [
            "At Epoch : 1 / 10  ;  Train Error : 0.246570 ;Test Accuracy : 95.349998 \n",
            "At Epoch : 2 / 10  ;  Train Error : 0.110255 ;Test Accuracy : 96.549995 \n",
            "At Epoch : 3 / 10  ;  Train Error : 0.073162 ;Test Accuracy : 96.959999 \n",
            "At Epoch : 4 / 10  ;  Train Error : 0.052121 ;Test Accuracy : 97.139999 \n",
            "At Epoch : 5 / 10  ;  Train Error : 0.037765 ;Test Accuracy : 97.239998 \n",
            "At Epoch : 6 / 10  ;  Train Error : 0.027022 ;Test Accuracy : 97.509995 \n",
            "At Epoch : 7 / 10  ;  Train Error : 0.018792 ;Test Accuracy : 97.750000 \n",
            "At Epoch : 8 / 10  ;  Train Error : 0.013279 ;Test Accuracy : 97.849998 \n",
            "At Epoch : 9 / 10  ;  Train Error : 0.009423 ;Test Accuracy : 97.869995 \n",
            "At Epoch : 10 / 10  ;  Train Error : 0.006842 ;Test Accuracy : 97.829994 \n",
            "Finished Training\n"
          ],
          "name": "stdout"
        }
      ]
    },
    {
      "cell_type": "markdown",
      "metadata": {
        "id": "VSUnDTHZDlf7"
      },
      "source": [
        "## Performance of different Classes"
      ]
    },
    {
      "cell_type": "code",
      "metadata": {
        "colab": {
          "base_uri": "https://localhost:8080/"
        },
        "id": "DParJzIM86HZ",
        "outputId": "c5265aea-c098-4a0e-b180-bdedea13e8a0"
      },
      "source": [
        "class_correct = list(0. for i in range(10))\r\n",
        "class_total = list(0. for i in range(10))\r\n",
        "model.eval()\r\n",
        "with torch.no_grad():\r\n",
        "    for data in test_loader:\r\n",
        "        images, labels = data\r\n",
        "\r\n",
        "        outputs = model(images.view(-1, 28*28).to(gpu))\r\n",
        "        _, predicted = torch.max(outputs.data, 1)\r\n",
        "        \r\n",
        "        predicted = predicted.cpu()\r\n",
        "        c = (predicted == labels).squeeze()\r\n",
        "        for i in range(batch_size):\r\n",
        "            label = labels[i]\r\n",
        "            class_correct[label] += float(c[i])\r\n",
        "            class_total[label] += 1\r\n",
        "\r\n",
        "for i in range(10):\r\n",
        "    print('Accuracy of %5s : %f %%' % (\r\n",
        "        classes[i], 100 * float(class_correct[i]) / float(class_total[i])))"
      ],
      "execution_count": 26,
      "outputs": [
        {
          "output_type": "stream",
          "text": [
            "Accuracy of  zero : 99.183673 %\n",
            "Accuracy of   one : 99.207048 %\n",
            "Accuracy of   two : 98.255814 %\n",
            "Accuracy of three : 97.821782 %\n",
            "Accuracy of  four : 98.574338 %\n",
            "Accuracy of  five : 98.430493 %\n",
            "Accuracy of   six : 97.181628 %\n",
            "Accuracy of seven : 95.914397 %\n",
            "Accuracy of eight : 97.433265 %\n",
            "Accuracy of  nine : 96.233895 %\n"
          ],
          "name": "stdout"
        }
      ]
    }
  ]
}