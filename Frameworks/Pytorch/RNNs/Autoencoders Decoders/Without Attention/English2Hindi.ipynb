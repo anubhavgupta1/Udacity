{
  "nbformat": 4,
  "nbformat_minor": 0,
  "metadata": {
    "colab": {
      "name": "Untitled23.ipynb",
      "provenance": [],
      "authorship_tag": "ABX9TyMkbfVYe+Zlxm5tPr4uDK0S",
      "include_colab_link": true
    },
    "kernelspec": {
      "name": "python3",
      "display_name": "Python 3"
    },
    "accelerator": "GPU"
  },
  "cells": [
    {
      "cell_type": "markdown",
      "metadata": {
        "id": "view-in-github",
        "colab_type": "text"
      },
      "source": [
        "<a href=\"https://colab.research.google.com/github/anubhavgupta1/Udacity/blob/main/Frameworks/Pytorch/RNNs/Autoencoders%20Decoders/Without%20Attention/English2Hindi.ipynb\" target=\"_parent\"><img src=\"https://colab.research.google.com/assets/colab-badge.svg\" alt=\"Open In Colab\"/></a>"
      ]
    },
    {
      "cell_type": "markdown",
      "metadata": {
        "id": "uVrhfOP811VT"
      },
      "source": [
        "## Set Up"
      ]
    },
    {
      "cell_type": "code",
      "metadata": {
        "id": "94h8XMQ93tWz",
        "colab": {
          "base_uri": "https://localhost:8080/"
        },
        "outputId": "decaa720-ec15-468a-cd33-e5375bf692ea"
      },
      "source": [
        "!ls\r\n",
        "!apt-get install -y -qq software-properties-common python-software-properties module-init-tools\r\n",
        "!add-apt-repository -y ppa:alessandro-strada/ppa 2>&1 > /dev/null\r\n",
        "!apt-get update -qq 2>&1 > /dev/null\r\n",
        "!apt-get -y install -qq google-drive-ocamlfuse fuse\r\n",
        "from google.colab import auth\r\n",
        "auth.authenticate_user()\r\n",
        "from oauth2client.client import GoogleCredentials\r\n",
        "creds = GoogleCredentials.get_application_default()\r\n",
        "import getpass\r\n",
        "!google-drive-ocamlfuse -headless -id={creds.client_id} -secret={creds.client_secret} < /dev/null 2>&1 | grep URL\r\n",
        "vcode = getpass.getpass()\r\n",
        "!echo {vcode} | google-drive-ocamlfuse -headless -id={creds.client_id} -secret={creds.client_secret}\r\n",
        "\r\n",
        "\r\n",
        "!mkdir -p drive\r\n",
        "!google-drive-ocamlfuse drive\r\n",
        "\r\n",
        "import os\r\n",
        "os.chdir(\"drive/Udacity/Machine Transliteration/\")\r\n",
        "!ls"
      ],
      "execution_count": 1,
      "outputs": [
        {
          "output_type": "stream",
          "text": [
            "sample_data\n",
            "E: Package 'python-software-properties' has no installation candidate\n",
            "Selecting previously unselected package google-drive-ocamlfuse.\n",
            "(Reading database ... 146364 files and directories currently installed.)\n",
            "Preparing to unpack .../google-drive-ocamlfuse_0.7.24-0ubuntu1~ubuntu18.04.1_amd64.deb ...\n",
            "Unpacking google-drive-ocamlfuse (0.7.24-0ubuntu1~ubuntu18.04.1) ...\n",
            "Setting up google-drive-ocamlfuse (0.7.24-0ubuntu1~ubuntu18.04.1) ...\n",
            "Processing triggers for man-db (2.8.3-2ubuntu0.1) ...\n",
            "Please, open the following URL in a web browser: https://accounts.google.com/o/oauth2/auth?client_id=32555940559.apps.googleusercontent.com&redirect_uri=urn%3Aietf%3Awg%3Aoauth%3A2.0%3Aoob&scope=https%3A%2F%2Fwww.googleapis.com%2Fauth%2Fdrive&response_type=code&access_type=offline&approval_prompt=force\n",
            "··········\n",
            "Please, open the following URL in a web browser: https://accounts.google.com/o/oauth2/auth?client_id=32555940559.apps.googleusercontent.com&redirect_uri=urn%3Aietf%3Awg%3Aoauth%3A2.0%3Aoob&scope=https%3A%2F%2Fwww.googleapis.com%2Fauth%2Fdrive&response_type=code&access_type=offline&approval_prompt=force\n",
            "Please enter the verification code: Access token retrieved correctly.\n",
            "drive  NEWS2012-Ref-EnHi-1000.xml  NEWS2012-Training-EnHi-13937.xml\n"
          ],
          "name": "stdout"
        }
      ]
    },
    {
      "cell_type": "markdown",
      "metadata": {
        "id": "8Ya9Lgskmbdj"
      },
      "source": [
        "## Setting Up Dependencies"
      ]
    },
    {
      "cell_type": "code",
      "metadata": {
        "id": "BRq0Bajf1R1_"
      },
      "source": [
        "import torch\r\n",
        "import random\r\n",
        "import numpy as np\r\n",
        "from io import open\r\n",
        "import torch.nn as nn\r\n",
        "import seaborn as sns\r\n",
        "import torch.optim as optim\r\n",
        "import torch.nn.functional as F\r\n",
        "import matplotlib.pyplot as plt\r\n",
        "from torch.autograd import Variable\r\n",
        "import os, string, random, time, math\r\n",
        "from IPython.display import clear_output\r\n",
        "from sklearn.model_selection import train_test_split"
      ],
      "execution_count": 2,
      "outputs": []
    },
    {
      "cell_type": "code",
      "metadata": {
        "colab": {
          "base_uri": "https://localhost:8080/"
        },
        "id": "cCtiHsHWm0Gh",
        "outputId": "0a55062c-a0f2-4c57-d64a-0172bb572ef5"
      },
      "source": [
        "# Instantiates the device to be used as GPU/CPU based on availability\r\n",
        "device_gpu = torch.device(\"cuda:0\" if torch.cuda.is_available() else \"cpu\")\r\n",
        "print(device_gpu)"
      ],
      "execution_count": 3,
      "outputs": [
        {
          "output_type": "stream",
          "text": [
            "cuda:0\n"
          ],
          "name": "stdout"
        }
      ]
    },
    {
      "cell_type": "markdown",
      "metadata": {
        "id": "wn0J7Hk0251w"
      },
      "source": [
        "## Dataset"
      ]
    },
    {
      "cell_type": "markdown",
      "metadata": {
        "id": "3pR9fDifDxby"
      },
      "source": [
        "### Alphabets Setup"
      ]
    },
    {
      "cell_type": "code",
      "metadata": {
        "id": "uT9beKqWCm6S"
      },
      "source": [
        "eng_alphabets = 'ABCDEFGHIJKLMNOPQRSTUVWXYZ'\r\n",
        "pad_char = '-PAD-'\r\n",
        "\r\n",
        "eng_alpha2index = {pad_char: 0}\r\n",
        "for index, alpha in enumerate(eng_alphabets):\r\n",
        "    eng_alpha2index[alpha] = index+1"
      ],
      "execution_count": 4,
      "outputs": []
    },
    {
      "cell_type": "code",
      "metadata": {
        "colab": {
          "base_uri": "https://localhost:8080/"
        },
        "id": "g1L0o7acDYhN",
        "outputId": "ecc13c83-e32d-4ebd-8d67-b4d4cc0a5878"
      },
      "source": [
        "print(eng_alpha2index)"
      ],
      "execution_count": 5,
      "outputs": [
        {
          "output_type": "stream",
          "text": [
            "{'-PAD-': 0, 'A': 1, 'B': 2, 'C': 3, 'D': 4, 'E': 5, 'F': 6, 'G': 7, 'H': 8, 'I': 9, 'J': 10, 'K': 11, 'L': 12, 'M': 13, 'N': 14, 'O': 15, 'P': 16, 'Q': 17, 'R': 18, 'S': 19, 'T': 20, 'U': 21, 'V': 22, 'W': 23, 'X': 24, 'Y': 25, 'Z': 26}\n"
          ],
          "name": "stdout"
        }
      ]
    },
    {
      "cell_type": "code",
      "metadata": {
        "colab": {
          "base_uri": "https://localhost:8080/"
        },
        "id": "aQP--jCZts9x",
        "outputId": "be870d49-398a-4adc-b899-82f3942ba4c9"
      },
      "source": [
        "print(\"Hindi character at index 2304 is : \",chr(2304))"
      ],
      "execution_count": 6,
      "outputs": [
        {
          "output_type": "stream",
          "text": [
            "Hindi character at index 2304 is :  ऀ\n"
          ],
          "name": "stdout"
        }
      ]
    },
    {
      "cell_type": "code",
      "metadata": {
        "colab": {
          "base_uri": "https://localhost:8080/"
        },
        "id": "cyHata0vD8T7",
        "outputId": "ad98ee34-da2e-44a0-f1bd-577236007b48"
      },
      "source": [
        "# Hindi Unicode Hex Range is 2304:2432. Source: https://en.wikipedia.org/wiki/Devanagari_(Unicode_block)\r\n",
        "\r\n",
        "hindi_alphabets = [chr(alpha) for alpha in range(2304, 2432)]\r\n",
        "print(hindi_alphabets)"
      ],
      "execution_count": 7,
      "outputs": [
        {
          "output_type": "stream",
          "text": [
            "['ऀ', 'ँ', 'ं', 'ः', 'ऄ', 'अ', 'आ', 'इ', 'ई', 'उ', 'ऊ', 'ऋ', 'ऌ', 'ऍ', 'ऎ', 'ए', 'ऐ', 'ऑ', 'ऒ', 'ओ', 'औ', 'क', 'ख', 'ग', 'घ', 'ङ', 'च', 'छ', 'ज', 'झ', 'ञ', 'ट', 'ठ', 'ड', 'ढ', 'ण', 'त', 'थ', 'द', 'ध', 'न', 'ऩ', 'प', 'फ', 'ब', 'भ', 'म', 'य', 'र', 'ऱ', 'ल', 'ळ', 'ऴ', 'व', 'श', 'ष', 'स', 'ह', 'ऺ', 'ऻ', '़', 'ऽ', 'ा', 'ि', 'ी', 'ु', 'ू', 'ृ', 'ॄ', 'ॅ', 'ॆ', 'े', 'ै', 'ॉ', 'ॊ', 'ो', 'ौ', '्', 'ॎ', 'ॏ', 'ॐ', '॑', '॒', '॓', '॔', 'ॕ', 'ॖ', 'ॗ', 'क़', 'ख़', 'ग़', 'ज़', 'ड़', 'ढ़', 'फ़', 'य़', 'ॠ', 'ॡ', 'ॢ', 'ॣ', '।', '॥', '०', '१', '२', '३', '४', '५', '६', '७', '८', '९', '॰', 'ॱ', 'ॲ', 'ॳ', 'ॴ', 'ॵ', 'ॶ', 'ॷ', 'ॸ', 'ॹ', 'ॺ', 'ॻ', 'ॼ', 'ॽ', 'ॾ', 'ॿ']\n"
          ],
          "name": "stdout"
        }
      ]
    },
    {
      "cell_type": "code",
      "metadata": {
        "id": "HHlANnaAEOW9"
      },
      "source": [
        "hindi_alphabet_size = len(hindi_alphabets)\r\n",
        "\r\n",
        "hindi_alpha2index = {pad_char: 0}\r\n",
        "for index, alpha in enumerate(hindi_alphabets):\r\n",
        "    hindi_alpha2index[alpha] = index+1"
      ],
      "execution_count": 8,
      "outputs": []
    },
    {
      "cell_type": "code",
      "metadata": {
        "colab": {
          "base_uri": "https://localhost:8080/"
        },
        "id": "MtmsNNX5FAHm",
        "outputId": "ebbdbcea-3eb4-4baf-bffb-6fd3cf01f647"
      },
      "source": [
        "print(hindi_alpha2index)"
      ],
      "execution_count": 9,
      "outputs": [
        {
          "output_type": "stream",
          "text": [
            "{'-PAD-': 0, 'ऀ': 1, 'ँ': 2, 'ं': 3, 'ः': 4, 'ऄ': 5, 'अ': 6, 'आ': 7, 'इ': 8, 'ई': 9, 'उ': 10, 'ऊ': 11, 'ऋ': 12, 'ऌ': 13, 'ऍ': 14, 'ऎ': 15, 'ए': 16, 'ऐ': 17, 'ऑ': 18, 'ऒ': 19, 'ओ': 20, 'औ': 21, 'क': 22, 'ख': 23, 'ग': 24, 'घ': 25, 'ङ': 26, 'च': 27, 'छ': 28, 'ज': 29, 'झ': 30, 'ञ': 31, 'ट': 32, 'ठ': 33, 'ड': 34, 'ढ': 35, 'ण': 36, 'त': 37, 'थ': 38, 'द': 39, 'ध': 40, 'न': 41, 'ऩ': 42, 'प': 43, 'फ': 44, 'ब': 45, 'भ': 46, 'म': 47, 'य': 48, 'र': 49, 'ऱ': 50, 'ल': 51, 'ळ': 52, 'ऴ': 53, 'व': 54, 'श': 55, 'ष': 56, 'स': 57, 'ह': 58, 'ऺ': 59, 'ऻ': 60, '़': 61, 'ऽ': 62, 'ा': 63, 'ि': 64, 'ी': 65, 'ु': 66, 'ू': 67, 'ृ': 68, 'ॄ': 69, 'ॅ': 70, 'ॆ': 71, 'े': 72, 'ै': 73, 'ॉ': 74, 'ॊ': 75, 'ो': 76, 'ौ': 77, '्': 78, 'ॎ': 79, 'ॏ': 80, 'ॐ': 81, '॑': 82, '॒': 83, '॓': 84, '॔': 85, 'ॕ': 86, 'ॖ': 87, 'ॗ': 88, 'क़': 89, 'ख़': 90, 'ग़': 91, 'ज़': 92, 'ड़': 93, 'ढ़': 94, 'फ़': 95, 'य़': 96, 'ॠ': 97, 'ॡ': 98, 'ॢ': 99, 'ॣ': 100, '।': 101, '॥': 102, '०': 103, '१': 104, '२': 105, '३': 106, '४': 107, '५': 108, '६': 109, '७': 110, '८': 111, '९': 112, '॰': 113, 'ॱ': 114, 'ॲ': 115, 'ॳ': 116, 'ॴ': 117, 'ॵ': 118, 'ॶ': 119, 'ॷ': 120, 'ॸ': 121, 'ॹ': 122, 'ॺ': 123, 'ॻ': 124, 'ॼ': 125, 'ॽ': 126, 'ॾ': 127, 'ॿ': 128}\n"
          ],
          "name": "stdout"
        }
      ]
    },
    {
      "cell_type": "markdown",
      "metadata": {
        "id": "SSw1SMZmx9A3"
      },
      "source": [
        "### Helper functions for data pre-processing"
      ]
    },
    {
      "cell_type": "code",
      "metadata": {
        "id": "05LCq94DGVnc"
      },
      "source": [
        "import re"
      ],
      "execution_count": 10,
      "outputs": []
    },
    {
      "cell_type": "code",
      "metadata": {
        "id": "6Fi7YveTGbiA"
      },
      "source": [
        "non_eng_letters_regex = re.compile('[^a-zA-Z ]')"
      ],
      "execution_count": 11,
      "outputs": []
    },
    {
      "cell_type": "code",
      "metadata": {
        "id": "2cyK7ZbaGWFs"
      },
      "source": [
        "# Remove all English non-letters\r\n",
        "def cleanEnglishVocab(line):\r\n",
        "    line = line.replace('-', ' ').replace(',', ' ').upper()\r\n",
        "    line = non_eng_letters_regex.sub('', line)\r\n",
        "    return line.split()"
      ],
      "execution_count": 12,
      "outputs": []
    },
    {
      "cell_type": "code",
      "metadata": {
        "id": "OcS6ByndOxrC"
      },
      "source": [
        "# Remove all Hindi non-letters\n",
        "def cleanHindiVocab(line):\n",
        "    line = line.replace('-', ' ').replace(',', ' ')\n",
        "    cleaned_line = ''\n",
        "    for char in line:\n",
        "        if char in hindi_alpha2index or char == ' ':\n",
        "            cleaned_line += char\n",
        "    return cleaned_line.split()"
      ],
      "execution_count": 13,
      "outputs": []
    },
    {
      "cell_type": "markdown",
      "metadata": {
        "id": "Ob3F9Dh4PChB"
      },
      "source": [
        "### Dataset Loading"
      ]
    },
    {
      "cell_type": "code",
      "metadata": {
        "id": "9ojIeH99INNe"
      },
      "source": [
        "from torch.utils.data import Dataset\r\n",
        "import xml.etree.ElementTree as ET "
      ],
      "execution_count": 14,
      "outputs": []
    },
    {
      "cell_type": "code",
      "metadata": {
        "id": "KGSeoMGg0FTy"
      },
      "source": [
        "class TransliterationDataLoader(Dataset):\n",
        "    def __init__(self, filename):\n",
        "        self.eng_words, self.hindi_words = self.readXmlDataset(filename, cleanHindiVocab)\n",
        "        self.shuffle_indices = list(range(len(self.eng_words)))\n",
        "        random.shuffle(self.shuffle_indices)\n",
        "        self.shuffle_start_index = 0\n",
        "        \n",
        "    def __len__(self):\n",
        "        return len(self.eng_words)\n",
        "    \n",
        "    def __getitem__(self, idx):\n",
        "        return self.eng_words[idx], self.hindi_words[idx]\n",
        "    \n",
        "    def readXmlDataset(self, filename, lang_vocab_cleaner):\n",
        "        transliterationCorpus = ET.parse(filename).getroot()\n",
        "        lang1_words = []\n",
        "        lang2_words = []\n",
        "\n",
        "        for line in transliterationCorpus:\n",
        "            wordlist1 = cleanEnglishVocab(line[0].text)\n",
        "            wordlist2 = lang_vocab_cleaner(line[1].text)\n",
        "\n",
        "            # Skip noisy data\n",
        "            if len(wordlist1) != len(wordlist2):\n",
        "                print('Skipping: ', line[0].text, ' - ', line[1].text)\n",
        "                continue\n",
        "\n",
        "            for word in wordlist1:\n",
        "                lang1_words.append(word)\n",
        "            for word in wordlist2:\n",
        "                lang2_words.append(word)\n",
        "\n",
        "        return lang1_words, lang2_words\n",
        "    \n",
        "    def get_random_sample(self):\n",
        "        return self.__getitem__(np.random.randint(len(self.eng_words)))\n",
        "    \n",
        "    def get_batch_from_array(self, batch_size, array):\n",
        "        end = self.shuffle_start_index + batch_size\n",
        "        batch = []\n",
        "        if end >= len(self.eng_words):\n",
        "            batch = [array[i] for i in self.shuffle_indices[0:end%len(self.eng_words)]]\n",
        "            end = len(self.eng_words)\n",
        "        return batch + [array[i] for i in self.shuffle_indices[self.shuffle_start_index : end]]\n",
        "    \n",
        "    def get_batch(self, batch_size, postprocess = True):\n",
        "        eng_batch = self.get_batch_from_array(batch_size, self.eng_words)\n",
        "        hindi_batch = self.get_batch_from_array(batch_size, self.hindi_words)\n",
        "        self.shuffle_start_index += batch_size + 1\n",
        "        \n",
        "        # Reshuffle if 1 epoch is complete\n",
        "        if self.shuffle_start_index >= len(self.eng_words):\n",
        "            random.shuffle(self.shuffle_indices)\n",
        "            self.shuffle_start_index = 0\n",
        "            \n",
        "        return eng_batch, hindi_batch"
      ],
      "execution_count": 15,
      "outputs": []
    },
    {
      "cell_type": "code",
      "metadata": {
        "id": "-FCCi-SerZS-",
        "colab": {
          "base_uri": "https://localhost:8080/"
        },
        "outputId": "6c3f35ec-4dce-473d-b795-dbd85d609234"
      },
      "source": [
        "train_data = TransliterationDataLoader('NEWS2012-Training-EnHi-13937.xml')\n",
        "test_data = TransliterationDataLoader('NEWS2012-Ref-EnHi-1000.xml')"
      ],
      "execution_count": 16,
      "outputs": [
        {
          "output_type": "stream",
          "text": [
            "Skipping:  BARHARWA JUNCTION  -  बरहरवा\n",
            "Skipping:  STATE BNK TR  -  स्टेट बैंक ऑफ त्रावणकोर\n",
            "Skipping:  SOUTH ARLINGTON CHURCH OF CHRIST  -  साउथ अर्लिंग्टन\n",
            "Skipping:  KING EDWARD VII  -  किंग एडवर्ड\n",
            "Skipping:  DIBANG VALLEY  -  दिबंगवैली\n",
            "Skipping:  ORDER OF VASA  -  ऑडर ऑफ़ द वासा\n",
            "Skipping:  AZAMNAGAR ROAD  -  आज़मनगर\n",
            "Skipping:  CAPE TOWN  -  केपटाउन\n",
            "Skipping:  NEW ZEALAND  -  न्यूज़ीलैंड\n",
            "Skipping:  SEA OF THE HEBRIDES  -  सी ऑफ हरब्रिड्‍स\n",
            "Skipping:  RAMCOIND  -  राम्को इंड\n",
            "Skipping:  KELVINGROVE ART GALLERY AND MUSEUM  -  केल्व‍िनग्रोव आर्ट एण्ड म्युज़ियम\n",
            "Skipping:  AUSTRALIAN NATIONAL UNIVERSITY  -  ऑस्ट्रेलियननेशनल यूनिवर्सिटी\n",
            "Skipping:  JAHAN AARA  -  जहाँआरा\n",
            "Skipping:  NAVABHARAT FERRO ALLOYS  -  नव भारत फ़ैरो अलॉय\n",
            "Skipping:  RAMA LINGESHWARA  -  रामालिंगेश्वर\n",
            "Skipping:  FAKHRUN NISA  -  फखरुन्निसा\n",
            "Skipping:  REDIFF.COM INDIA LIMITED  -  रेडिफ़ डॉट कॉम इंडिया लिमिटेड\n",
            "Skipping:  OMKARNATH THAKUR  -  ओंकार नाथ ठाकुर\n",
            "Skipping:  OPENTV  -  ओपन टीवी\n",
            "Skipping:  ENVOY COMMUNICATIONS GROUP  -  एन्वॉय कम्युनिकेशंस\n",
            "Skipping:  WAR OF THE HOLY LEAGUE  -  वार ऑफ होली लीग\n",
            "Skipping:  VAPARAISO CHURCH OF CHRIST  -  व्हापरासिओ\n",
            "Skipping:  PARIS CHARLES DE GAULLE  -  पेरिस रॉसे चार्ल्स डे ग्यूले\n",
            "Skipping:  PARKWAY APOSTOLIC  -  पार्क वे अपोस्टोलिक\n",
            "Skipping:  MAUNA LOA  -  मौनालोआ\n",
            "Skipping:  MASS MUTUAL LIFE  -  मास म्युच्युअल लाइफ़ इंश्योरेंस\n",
            "Skipping:  STATS CHIPPAC  -  स्टेट्सचिपपैक\n",
            "Skipping:  NEWFOUNDLAND  -  न्यू फाउंडलैंड\n",
            "Skipping:  LONDONHEATHROW  -  लंदन हीथ्रो\n",
            "Skipping:  RETALIX  -  रेटालिक्स लि.\n",
            "Skipping:  SRISAILAM  -  श्री शैलम\n",
            "Skipping:  KARA-KUM  -  काराकुम\n",
            "Skipping:  WIND RIVER  -  विंडरिवर\n",
            "Skipping:  NETAJI SUBHASH CHANDRA BOSE  -  नेताजी सुभाषचंद्र बोस\n",
            "Skipping:  ROCKBROOK UNITED  -  रॉकब्रुक यूनाइटेड मेथोडिस्ट\n",
            "Skipping:  WALTER SCOTT  -  वॉल्टरस्कॉट\n",
            "Skipping:  COLOURPLUS FASHIONS  -  कलर प्लस फ़ैशन्स\n",
            "Skipping:  BAL KRISHNA  -  बालकृष्णा\n"
          ],
          "name": "stdout"
        }
      ]
    },
    {
      "cell_type": "code",
      "metadata": {
        "colab": {
          "base_uri": "https://localhost:8080/"
        },
        "id": "t4JAE_OyKtZI",
        "outputId": "c00d368b-65b9-4d11-8ea1-aa61d3e586bb"
      },
      "source": [
        "print(\"English Words : \", train_data.eng_words[0:5])\r\n",
        "print(\"Hindi Words : \", train_data.hindi_words[0:5])"
      ],
      "execution_count": 17,
      "outputs": [
        {
          "output_type": "stream",
          "text": [
            "English Words :  ['RAASAVIHAAREE', 'DEOGAN', 'ROAD', 'SHATRUMARDAN', 'MAHIJUBA']\n",
            "Hindi Words :  ['रासविहारी', 'देवगन', 'रोड', 'शत्रुमर्दन', 'महिजुबा']\n"
          ],
          "name": "stdout"
        }
      ]
    },
    {
      "cell_type": "markdown",
      "metadata": {
        "id": "7l-iaCVdx5Ez"
      },
      "source": [
        "### Basic Data Visualization"
      ]
    },
    {
      "cell_type": "code",
      "metadata": {
        "id": "IjY06ghEx76b",
        "colab": {
          "base_uri": "https://localhost:8080/"
        },
        "outputId": "3699036d-c869-4b46-aa45-84059bc8fe2d"
      },
      "source": [
        "print(\"Train Set Size:\\t\", len(train_data))\n",
        "print(\"Test Set Size:\\t\", len(test_data))"
      ],
      "execution_count": 18,
      "outputs": [
        {
          "output_type": "stream",
          "text": [
            "Train Set Size:\t 20543\n",
            "Test Set Size:\t 1000\n"
          ],
          "name": "stdout"
        }
      ]
    },
    {
      "cell_type": "code",
      "metadata": {
        "colab": {
          "base_uri": "https://localhost:8080/"
        },
        "id": "g5IrMhwcNdK4",
        "outputId": "6a6741de-995c-46e3-9c73-f922d9b5b6de"
      },
      "source": [
        "print('\\nSample data from train-set:')\r\n",
        "for i in range(10):\r\n",
        "    eng, hindi = train_data.get_random_sample()\r\n",
        "    print(eng + ' - ' + hindi)"
      ],
      "execution_count": 19,
      "outputs": [
        {
          "output_type": "stream",
          "text": [
            "\n",
            "Sample data from train-set:\n",
            "MUSEUM - म्युज़ियम\n",
            "CULLMAN - कलमेन\n",
            "BRANDO - ब्रँडो\n",
            "BULERIAS - ब्यूलेरियास\n",
            "AWARDS - अवार्ड्स\n",
            "PENDSE - पेंडसे\n",
            "NAIROBI - नैरोबी\n",
            "VINCENT - विनसेंट\n",
            "LANKESH - लंकेश\n",
            "KLEIST - क्लेस्ट\n"
          ],
          "name": "stdout"
        }
      ]
    },
    {
      "cell_type": "markdown",
      "metadata": {
        "id": "z08qCYIiw543"
      },
      "source": [
        "### Encoding the words"
      ]
    },
    {
      "cell_type": "code",
      "metadata": {
        "colab": {
          "base_uri": "https://localhost:8080/"
        },
        "id": "vl8sJCQD0uPY",
        "outputId": "76149602-bab5-4b36-d6c9-668014334053"
      },
      "source": [
        "word = \"DRACULA\"\r\n",
        "rep = torch.zeros(len(word)+1, 1, len(eng_alpha2index))\r\n",
        "print(rep.shape)"
      ],
      "execution_count": 20,
      "outputs": [
        {
          "output_type": "stream",
          "text": [
            "torch.Size([8, 1, 27])\n"
          ],
          "name": "stdout"
        }
      ]
    },
    {
      "cell_type": "code",
      "metadata": {
        "id": "XIF4cbdO092L"
      },
      "source": [
        "for letter_index, letter in enumerate(word):\r\n",
        "    pos = eng_alpha2index[letter]\r\n",
        "    rep[letter_index][0][pos] = 1"
      ],
      "execution_count": 21,
      "outputs": []
    },
    {
      "cell_type": "code",
      "metadata": {
        "colab": {
          "base_uri": "https://localhost:8080/"
        },
        "id": "yWCyRNOg2ldI",
        "outputId": "09ac3b5b-f442-4674-ce84-58909eb0673a"
      },
      "source": [
        "print(rep)"
      ],
      "execution_count": 22,
      "outputs": [
        {
          "output_type": "stream",
          "text": [
            "tensor([[[0., 0., 0., 0., 1., 0., 0., 0., 0., 0., 0., 0., 0., 0., 0., 0., 0.,\n",
            "          0., 0., 0., 0., 0., 0., 0., 0., 0., 0.]],\n",
            "\n",
            "        [[0., 0., 0., 0., 0., 0., 0., 0., 0., 0., 0., 0., 0., 0., 0., 0., 0.,\n",
            "          0., 1., 0., 0., 0., 0., 0., 0., 0., 0.]],\n",
            "\n",
            "        [[0., 1., 0., 0., 0., 0., 0., 0., 0., 0., 0., 0., 0., 0., 0., 0., 0.,\n",
            "          0., 0., 0., 0., 0., 0., 0., 0., 0., 0.]],\n",
            "\n",
            "        [[0., 0., 0., 1., 0., 0., 0., 0., 0., 0., 0., 0., 0., 0., 0., 0., 0.,\n",
            "          0., 0., 0., 0., 0., 0., 0., 0., 0., 0.]],\n",
            "\n",
            "        [[0., 0., 0., 0., 0., 0., 0., 0., 0., 0., 0., 0., 0., 0., 0., 0., 0.,\n",
            "          0., 0., 0., 0., 1., 0., 0., 0., 0., 0.]],\n",
            "\n",
            "        [[0., 0., 0., 0., 0., 0., 0., 0., 0., 0., 0., 0., 1., 0., 0., 0., 0.,\n",
            "          0., 0., 0., 0., 0., 0., 0., 0., 0., 0.]],\n",
            "\n",
            "        [[0., 1., 0., 0., 0., 0., 0., 0., 0., 0., 0., 0., 0., 0., 0., 0., 0.,\n",
            "          0., 0., 0., 0., 0., 0., 0., 0., 0., 0.]],\n",
            "\n",
            "        [[0., 0., 0., 0., 0., 0., 0., 0., 0., 0., 0., 0., 0., 0., 0., 0., 0.,\n",
            "          0., 0., 0., 0., 0., 0., 0., 0., 0., 0.]]])\n"
          ],
          "name": "stdout"
        }
      ]
    },
    {
      "cell_type": "code",
      "metadata": {
        "id": "OSI1rsNCw6lP"
      },
      "source": [
        "def word_rep(word, letter2index, device = 'cpu'):\r\n",
        "    rep = torch.zeros(len(word)+1, 1, len(letter2index)).to(device)\r\n",
        "    for letter_index, letter in enumerate(word):\r\n",
        "        pos = letter2index[letter]\r\n",
        "        rep[letter_index][0][pos] = 1\r\n",
        "    pad_pos = letter2index[pad_char]\r\n",
        "    rep[letter_index+1][0][pad_pos] = 1\r\n",
        "    return rep"
      ],
      "execution_count": 23,
      "outputs": []
    },
    {
      "cell_type": "code",
      "metadata": {
        "colab": {
          "base_uri": "https://localhost:8080/"
        },
        "id": "jTEB0uKF25Qq",
        "outputId": "9e76b7ad-665f-4fea-8d56-87027feaa4e2"
      },
      "source": [
        "word = \"ड्राक्युला\"\r\n",
        "hindi_characters = [character for character in word]\r\n",
        "print(hindi_characters)"
      ],
      "execution_count": 24,
      "outputs": [
        {
          "output_type": "stream",
          "text": [
            "['ड', '्', 'र', 'ा', 'क', '्', 'य', 'ु', 'ल', 'ा']\n"
          ],
          "name": "stdout"
        }
      ]
    },
    {
      "cell_type": "code",
      "metadata": {
        "colab": {
          "base_uri": "https://localhost:8080/"
        },
        "id": "8JdDD31k4QPo",
        "outputId": "b6aa1fcd-ebd0-4a0f-ca3e-7d743de5a8d5"
      },
      "source": [
        "gt_rep = torch.zeros([len(word)+1, 1], dtype=torch.long)\r\n",
        "print(gt_rep.shape)"
      ],
      "execution_count": 25,
      "outputs": [
        {
          "output_type": "stream",
          "text": [
            "torch.Size([11, 1])\n"
          ],
          "name": "stdout"
        }
      ]
    },
    {
      "cell_type": "code",
      "metadata": {
        "id": "xBF6W2Vh36NA"
      },
      "source": [
        "for letter_index, letter in enumerate(word):\r\n",
        "        pos = hindi_alpha2index[letter]\r\n",
        "        gt_rep[letter_index][0] = pos"
      ],
      "execution_count": 26,
      "outputs": []
    },
    {
      "cell_type": "code",
      "metadata": {
        "colab": {
          "base_uri": "https://localhost:8080/"
        },
        "id": "vwjWdgjl5OAh",
        "outputId": "eec63963-8d99-4d8d-b572-4e260f8d244f"
      },
      "source": [
        "print(gt_rep)\r\n",
        "print(gt_rep.shape)\r\n",
        "print(gt_rep[len(word)][0].item())"
      ],
      "execution_count": 27,
      "outputs": [
        {
          "output_type": "stream",
          "text": [
            "tensor([[34],\n",
            "        [78],\n",
            "        [49],\n",
            "        [63],\n",
            "        [22],\n",
            "        [78],\n",
            "        [48],\n",
            "        [66],\n",
            "        [51],\n",
            "        [63],\n",
            "        [ 0]])\n",
            "torch.Size([11, 1])\n",
            "0\n"
          ],
          "name": "stdout"
        }
      ]
    },
    {
      "cell_type": "code",
      "metadata": {
        "colab": {
          "base_uri": "https://localhost:8080/"
        },
        "id": "WFUMHjsw5EoW",
        "outputId": "342874ae-602d-4e50-837d-7d3bd66febec"
      },
      "source": [
        "gt_rep[letter_index+1][0] = hindi_alpha2index[pad_char]\r\n",
        "print(gt_rep)\r\n",
        "print(gt_rep.shape)\r\n",
        "print(gt_rep[len(word)][0].item())"
      ],
      "execution_count": 28,
      "outputs": [
        {
          "output_type": "stream",
          "text": [
            "tensor([[34],\n",
            "        [78],\n",
            "        [49],\n",
            "        [63],\n",
            "        [22],\n",
            "        [78],\n",
            "        [48],\n",
            "        [66],\n",
            "        [51],\n",
            "        [63],\n",
            "        [ 0]])\n",
            "torch.Size([11, 1])\n",
            "0\n"
          ],
          "name": "stdout"
        }
      ]
    },
    {
      "cell_type": "code",
      "metadata": {
        "colab": {
          "base_uri": "https://localhost:8080/"
        },
        "id": "ShL37Tyk6Q9x",
        "outputId": "d3f38876-0843-4ca1-d2ad-7507c7436558"
      },
      "source": [
        "keys = list(hindi_alpha2index.keys())\r\n",
        "vals = list(hindi_alpha2index.values())\r\n",
        "hindi_dict = [keys[vals.index(character_index)] for character_index in gt_rep[:,0]]\r\n",
        "print(hindi_dict)"
      ],
      "execution_count": 29,
      "outputs": [
        {
          "output_type": "stream",
          "text": [
            "['ड', '्', 'र', 'ा', 'क', '्', 'य', 'ु', 'ल', 'ा', '-PAD-']\n"
          ],
          "name": "stdout"
        }
      ]
    },
    {
      "cell_type": "code",
      "metadata": {
        "id": "Jkqt6uHEw-q3"
      },
      "source": [
        "def gt_rep(word, letter2index, device = 'cpu'):\r\n",
        "    gt_rep = torch.zeros([len(word)+1, 1], dtype=torch.long).to(device)\r\n",
        "    for letter_index, letter in enumerate(word):\r\n",
        "        pos = letter2index[letter]\r\n",
        "        gt_rep[letter_index][0] = pos\r\n",
        "    gt_rep[letter_index+1][0] = letter2index[pad_char]\r\n",
        "    return gt_rep"
      ],
      "execution_count": 30,
      "outputs": []
    },
    {
      "cell_type": "code",
      "metadata": {
        "colab": {
          "base_uri": "https://localhost:8080/"
        },
        "id": "L2SlwpkMxDYc",
        "outputId": "acfb0687-6c9b-4b93-b98f-e5b4ad84176e"
      },
      "source": [
        "eng, hindi = train_data.get_random_sample()\r\n",
        "print(\"English word is : \",eng)\r\n",
        "print(\"Hindi word is : \",hindi)"
      ],
      "execution_count": 31,
      "outputs": [
        {
          "output_type": "stream",
          "text": [
            "English word is :  NASEEM\n",
            "Hindi word is :  नसीम\n"
          ],
          "name": "stdout"
        }
      ]
    },
    {
      "cell_type": "code",
      "metadata": {
        "id": "r2v8pMdHxG8D"
      },
      "source": [
        "eng_rep,hindi_gt = word_rep(eng, eng_alpha2index), gt_rep(hindi, hindi_alpha2index)"
      ],
      "execution_count": 32,
      "outputs": []
    },
    {
      "cell_type": "code",
      "metadata": {
        "colab": {
          "base_uri": "https://localhost:8080/"
        },
        "id": "X2wgJEocyYI1",
        "outputId": "5493026f-5b45-4a96-fe9e-bcc16d8ae0a7"
      },
      "source": [
        "print(eng_rep)"
      ],
      "execution_count": 33,
      "outputs": [
        {
          "output_type": "stream",
          "text": [
            "tensor([[[0., 0., 0., 0., 0., 0., 0., 0., 0., 0., 0., 0., 0., 0., 1., 0., 0.,\n",
            "          0., 0., 0., 0., 0., 0., 0., 0., 0., 0.]],\n",
            "\n",
            "        [[0., 1., 0., 0., 0., 0., 0., 0., 0., 0., 0., 0., 0., 0., 0., 0., 0.,\n",
            "          0., 0., 0., 0., 0., 0., 0., 0., 0., 0.]],\n",
            "\n",
            "        [[0., 0., 0., 0., 0., 0., 0., 0., 0., 0., 0., 0., 0., 0., 0., 0., 0.,\n",
            "          0., 0., 1., 0., 0., 0., 0., 0., 0., 0.]],\n",
            "\n",
            "        [[0., 0., 0., 0., 0., 1., 0., 0., 0., 0., 0., 0., 0., 0., 0., 0., 0.,\n",
            "          0., 0., 0., 0., 0., 0., 0., 0., 0., 0.]],\n",
            "\n",
            "        [[0., 0., 0., 0., 0., 1., 0., 0., 0., 0., 0., 0., 0., 0., 0., 0., 0.,\n",
            "          0., 0., 0., 0., 0., 0., 0., 0., 0., 0.]],\n",
            "\n",
            "        [[0., 0., 0., 0., 0., 0., 0., 0., 0., 0., 0., 0., 0., 1., 0., 0., 0.,\n",
            "          0., 0., 0., 0., 0., 0., 0., 0., 0., 0.]],\n",
            "\n",
            "        [[1., 0., 0., 0., 0., 0., 0., 0., 0., 0., 0., 0., 0., 0., 0., 0., 0.,\n",
            "          0., 0., 0., 0., 0., 0., 0., 0., 0., 0.]]])\n"
          ],
          "name": "stdout"
        }
      ]
    },
    {
      "cell_type": "code",
      "metadata": {
        "colab": {
          "base_uri": "https://localhost:8080/"
        },
        "id": "9QqrvJTjyMlR",
        "outputId": "bbd8cb4c-065e-4d18-b016-8a0e757602b1"
      },
      "source": [
        "print(hindi_gt)"
      ],
      "execution_count": 34,
      "outputs": [
        {
          "output_type": "stream",
          "text": [
            "tensor([[41],\n",
            "        [57],\n",
            "        [65],\n",
            "        [47],\n",
            "        [ 0]])\n"
          ],
          "name": "stdout"
        }
      ]
    },
    {
      "cell_type": "markdown",
      "metadata": {
        "id": "GrC3tSnm4rUk"
      },
      "source": [
        "### Network Architecture"
      ]
    },
    {
      "cell_type": "markdown",
      "metadata": {
        "id": "D4OgdZ_DVVC5"
      },
      "source": [
        "#### Encoder-Decoder (using GRU)"
      ]
    },
    {
      "cell_type": "code",
      "metadata": {
        "id": "Vmd_YV1Wy9G7"
      },
      "source": [
        "MAX_OUTPUT_CHARS = 30"
      ],
      "execution_count": 35,
      "outputs": []
    },
    {
      "cell_type": "code",
      "metadata": {
        "id": "6w8ffT3w4lkK"
      },
      "source": [
        "class Transliteration_EncoderDecoder(nn.Module):\n",
        "    \n",
        "    def __init__(self, input_size, hidden_size, output_size, verbose=False):\n",
        "        super(Transliteration_EncoderDecoder, self).__init__()\n",
        "        \n",
        "        self.hidden_size = hidden_size\n",
        "        self.output_size = output_size\n",
        "        \n",
        "        self.encoder_rnn_cell = nn.GRU(input_size, hidden_size)\n",
        "        self.decoder_rnn_cell = nn.GRU(output_size, hidden_size)\n",
        "        \n",
        "        self.h2o = nn.Linear(hidden_size, output_size)\n",
        "        self.softmax = nn.LogSoftmax(dim=2)\n",
        "        \n",
        "        self.verbose = verbose\n",
        "        \n",
        "    def forward(self, input, max_output_chars = MAX_OUTPUT_CHARS, device = 'cpu', ground_truth = None):\n",
        "        \n",
        "        # encoder\n",
        "        out, hidden = self.encoder_rnn_cell(input)\n",
        "        \n",
        "        if self.verbose:\n",
        "            print('Encoder input', input.shape)\n",
        "            print('Encoder output', out.shape)\n",
        "            print('Encoder hidden', hidden.shape)\n",
        "        \n",
        "        # decoder\n",
        "        decoder_state = hidden\n",
        "        decoder_input = torch.zeros(1, 1, self.output_size).to(device)\n",
        "        outputs = []\n",
        "        \n",
        "        if self.verbose:\n",
        "            print('Decoder state', decoder_state.shape)\n",
        "            print('Decoder input', decoder_input.shape)\n",
        "        \n",
        "        for i in range(max_output_chars):\n",
        "            \n",
        "            out, decoder_state = self.decoder_rnn_cell(decoder_input, decoder_state)\n",
        "            \n",
        "            if self.verbose:\n",
        "                print('Decoder intermediate output', out.shape)\n",
        "            \n",
        "            out = self.h2o(decoder_state)\n",
        "            out = self.softmax(out)\n",
        "            outputs.append(out.view(1, -1))\n",
        "            \n",
        "            if self.verbose:\n",
        "                print('Decoder output', out.shape)\n",
        "                self.verbose = False\n",
        "            \n",
        "            max_idx = torch.argmax(out, 2, keepdim=True)\n",
        "            if not ground_truth is None:\n",
        "                max_idx = ground_truth[i].reshape(1, 1, 1)\n",
        "            one_hot = torch.FloatTensor(out.shape).to(device)\n",
        "            one_hot.zero_()\n",
        "            one_hot.scatter_(2, max_idx, 1)\n",
        "            \n",
        "            decoder_input = one_hot.detach()\n",
        "            \n",
        "        return outputs"
      ],
      "execution_count": 36,
      "outputs": []
    },
    {
      "cell_type": "code",
      "metadata": {
        "id": "Cra9toTiOoPm"
      },
      "source": [
        "net = Transliteration_EncoderDecoder(len(eng_alpha2index), 256, len(hindi_alpha2index), verbose=True)"
      ],
      "execution_count": 37,
      "outputs": []
    },
    {
      "cell_type": "code",
      "metadata": {
        "id": "sPiepJRrfpIZ"
      },
      "source": [
        "def infer(net, word, max_op_chars, device = 'cpu'):\r\n",
        "      name_ohe = word_rep(word, eng_alpha2index).to(device)\r\n",
        "      out = net.forward(name_ohe, max_output_chars=max_op_chars)\r\n",
        "      return out"
      ],
      "execution_count": 38,
      "outputs": []
    },
    {
      "cell_type": "code",
      "metadata": {
        "id": "dqehw6PnVj2e",
        "colab": {
          "base_uri": "https://localhost:8080/"
        },
        "outputId": "7ef43ed6-9082-4535-85a3-c8d08b6443ca"
      },
      "source": [
        "out = infer(net, 'INDIA', 30)"
      ],
      "execution_count": 39,
      "outputs": [
        {
          "output_type": "stream",
          "text": [
            "Encoder input torch.Size([6, 1, 27])\n",
            "Encoder output torch.Size([6, 1, 256])\n",
            "Encoder hidden torch.Size([1, 1, 256])\n",
            "Decoder state torch.Size([1, 1, 256])\n",
            "Decoder input torch.Size([1, 1, 129])\n",
            "Decoder intermediate output torch.Size([1, 1, 256])\n",
            "Decoder output torch.Size([1, 1, 129])\n"
          ],
          "name": "stdout"
        }
      ]
    },
    {
      "cell_type": "code",
      "metadata": {
        "colab": {
          "base_uri": "https://localhost:8080/"
        },
        "id": "-4lLYuQ8tMDH",
        "outputId": "1c959b21-3055-4833-bbbe-c3e54badcd91"
      },
      "source": [
        "print(len(out))\r\n",
        "for i in range(len(out)):\r\n",
        "    print(out[i].shape, list(hindi_alpha2index.keys())[list(hindi_alpha2index.values()).index(torch.argmax(out[i]))])"
      ],
      "execution_count": 40,
      "outputs": [
        {
          "output_type": "stream",
          "text": [
            "30\n",
            "torch.Size([1, 129]) ए\n",
            "torch.Size([1, 129]) ग\n",
            "torch.Size([1, 129]) ए\n",
            "torch.Size([1, 129]) ए\n",
            "torch.Size([1, 129]) ए\n",
            "torch.Size([1, 129]) ए\n",
            "torch.Size([1, 129]) ए\n",
            "torch.Size([1, 129]) ए\n",
            "torch.Size([1, 129]) ए\n",
            "torch.Size([1, 129]) ए\n",
            "torch.Size([1, 129]) ए\n",
            "torch.Size([1, 129]) ए\n",
            "torch.Size([1, 129]) ए\n",
            "torch.Size([1, 129]) ए\n",
            "torch.Size([1, 129]) ए\n",
            "torch.Size([1, 129]) ए\n",
            "torch.Size([1, 129]) ए\n",
            "torch.Size([1, 129]) ए\n",
            "torch.Size([1, 129]) ए\n",
            "torch.Size([1, 129]) ए\n",
            "torch.Size([1, 129]) ए\n",
            "torch.Size([1, 129]) ए\n",
            "torch.Size([1, 129]) ए\n",
            "torch.Size([1, 129]) ए\n",
            "torch.Size([1, 129]) ए\n",
            "torch.Size([1, 129]) ए\n",
            "torch.Size([1, 129]) ए\n",
            "torch.Size([1, 129]) ए\n",
            "torch.Size([1, 129]) ए\n",
            "torch.Size([1, 129]) ए\n"
          ],
          "name": "stdout"
        }
      ]
    },
    {
      "cell_type": "markdown",
      "metadata": {
        "id": "VlPORggUvnUx"
      },
      "source": [
        "## Training Process"
      ]
    },
    {
      "cell_type": "markdown",
      "metadata": {
        "id": "Tc-E4OqDvsFI"
      },
      "source": [
        "### Core Training"
      ]
    },
    {
      "cell_type": "code",
      "metadata": {
        "id": "JDzhnh03vvF8"
      },
      "source": [
        "def train_batch(net, opt, criterion, batch_size, device = 'cpu', teacher_force = False):\r\n",
        "    \r\n",
        "    net.train().to(device)\r\n",
        "    opt.zero_grad()\r\n",
        "    eng_batch, hindi_batch = train_data.get_batch(batch_size)\r\n",
        "    \r\n",
        "    total_loss = 0\r\n",
        "    for i in range(batch_size):\r\n",
        "        \r\n",
        "        input = word_rep(eng_batch[i], eng_alpha2index, device)\r\n",
        "        gt = gt_rep(hindi_batch[i], hindi_alpha2index, device)\r\n",
        "        outputs = net(input, gt.shape[0], device, ground_truth = gt if teacher_force else None)\r\n",
        "        \r\n",
        "        for index, output in enumerate(outputs):\r\n",
        "            loss = criterion(output, gt[index]) / batch_size\r\n",
        "            loss.backward(retain_graph = True)\r\n",
        "            total_loss += loss\r\n",
        "        \r\n",
        "    opt.step()\r\n",
        "    return total_loss/batch_size"
      ],
      "execution_count": 41,
      "outputs": []
    },
    {
      "cell_type": "markdown",
      "metadata": {
        "id": "vQQmhld7v8pR"
      },
      "source": [
        "### Training setup"
      ]
    },
    {
      "cell_type": "code",
      "metadata": {
        "id": "Rjto129ssrpr"
      },
      "source": [
        "def train_setup(net, lr = 0.01, n_batches = 100, batch_size = 10, momentum = 0.9, display_freq=5, device = 'cpu'):\n",
        "    \n",
        "    loss_min = np.Inf # track change in loss\n",
        "    net = net.to(device)\n",
        "    criterion = nn.NLLLoss(ignore_index = -1)\n",
        "    opt = optim.Adam(net.parameters(), lr=lr)\n",
        "    teacher_force_upto = n_batches//3\n",
        "    \n",
        "    loss_arr = np.zeros(n_batches + 1)\n",
        "    \n",
        "    for i in range(n_batches):\n",
        "        loss_arr[i+1] = (loss_arr[i]*i + train_batch(net, opt, criterion, batch_size, device = device, teacher_force = i<teacher_force_upto ))/(i + 1)\n",
        "        \n",
        "        if i%display_freq == display_freq-1:\n",
        "            clear_output(wait=True)\n",
        "            \n",
        "            print('Iteration', i+1, 'Loss', loss_arr[i])\n",
        "            plt.figure()\n",
        "            plt.plot(loss_arr[1:i], '-*')\n",
        "            plt.xlabel('Iteration')\n",
        "            plt.ylabel('Loss')\n",
        "            plt.show()\n",
        "            print('\\n\\n')\n",
        "        if loss_arr[i+1] <= loss_min:\n",
        "            print('Validation loss decreased ({:.6f} --> {:.6f}).  Saving model ...'.format(loss_min,loss_arr[i+1]))\n",
        "            torch.save(net.state_dict(), 'without_attention_model.pth')\n",
        "            loss_min = loss_arr[i+1]"
      ],
      "execution_count": 42,
      "outputs": []
    },
    {
      "cell_type": "code",
      "metadata": {
        "id": "JRhfV9Q0wMxt"
      },
      "source": [
        "net = Transliteration_EncoderDecoder(len(eng_alpha2index), 256, len(hindi_alpha2index))"
      ],
      "execution_count": 43,
      "outputs": []
    },
    {
      "cell_type": "code",
      "metadata": {
        "colab": {
          "base_uri": "https://localhost:8080/",
          "height": 366
        },
        "id": "y5Fm7zSE4ue4",
        "outputId": "9fcf77b4-bea4-475b-f809-68975f4a989c"
      },
      "source": [
        "train_setup(net, lr=0.001, n_batches=5000, batch_size = 64, display_freq=10, device = device_gpu)"
      ],
      "execution_count": 44,
      "outputs": [
        {
          "output_type": "stream",
          "text": [
            "Iteration 5000 Loss 0.11258787661790848\n"
          ],
          "name": "stdout"
        },
        {
          "output_type": "display_data",
          "data": {
            "image/png": "[encoded data removed]",
            "text/plain": [
              "<Figure size 432x288 with 1 Axes>"
            ]
          },
          "metadata": {
            "tags": [],
            "needs_background": "light"
          }
        },
        {
          "output_type": "stream",
          "text": [
            "\n",
            "\n",
            "\n",
            "Validation loss decreased (0.112588 --> 0.112576).  Saving model ...\n"
          ],
          "name": "stdout"
        }
      ]
    },
    {
      "cell_type": "markdown",
      "metadata": {
        "id": "ZKEfdDmTjl6V"
      },
      "source": [
        "### Load Model"
      ]
    },
    {
      "cell_type": "code",
      "metadata": {
        "colab": {
          "base_uri": "https://localhost:8080/"
        },
        "id": "qWtrppg82Bau",
        "outputId": "4cc9e841-c449-4156-b840-bcfc68fe1898"
      },
      "source": [
        "net.load_state_dict(torch.load('without_attention_model.pth'))"
      ],
      "execution_count": 45,
      "outputs": [
        {
          "output_type": "execute_result",
          "data": {
            "text/plain": [
              "<All keys matched successfully>"
            ]
          },
          "metadata": {
            "tags": []
          },
          "execution_count": 45
        }
      ]
    },
    {
      "cell_type": "markdown",
      "metadata": {
        "id": "05F1-FwX6YVZ"
      },
      "source": [
        "## Inference"
      ]
    },
    {
      "cell_type": "code",
      "metadata": {
        "id": "bT8bibYl7CgX"
      },
      "source": [
        "def calc_accuracy(net, device = 'cpu'):\n",
        "    net = net.eval().to(device)\n",
        "    predictions = []\n",
        "    accuracy = 0\n",
        "    for i in range(len(test_data)):\n",
        "        eng, hindi = test_data[i]\n",
        "        gt = gt_rep(hindi, hindi_alpha2index, device)\n",
        "        outputs = infer(net, eng, gt.shape[0], device)\n",
        "        correct = 0\n",
        "        for index, out in enumerate(outputs):\n",
        "            val, indices = out.topk(1)\n",
        "            hindi_pos = indices.tolist()[0]\n",
        "            if hindi_pos[0] == gt[index][0]:\n",
        "                correct += 1\n",
        "        \n",
        "        accuracy += correct/gt.shape[0]\n",
        "    accuracy /= len(test_data)\n",
        "    return accuracy"
      ],
      "execution_count": 46,
      "outputs": []
    },
    {
      "cell_type": "code",
      "metadata": {
        "id": "dy1bQiORAs5o",
        "colab": {
          "base_uri": "https://localhost:8080/"
        },
        "outputId": "1f222971-a702-4883-e12e-f377231e13e4"
      },
      "source": [
        "accuracy = calc_accuracy(net) * 100\n",
        "print('Accuracy without attention ', accuracy)"
      ],
      "execution_count": 47,
      "outputs": [
        {
          "output_type": "stream",
          "text": [
            "Accuracy without attention  73.96679875679877\n"
          ],
          "name": "stdout"
        }
      ]
    },
    {
      "cell_type": "code",
      "metadata": {
        "id": "ujbWf7o4O8cK"
      },
      "source": [
        "def get_key(my_dict, val):\r\n",
        "    for key, value in my_dict.items():\r\n",
        "         if val == value:\r\n",
        "             return key\r\n",
        " \r\n",
        "    return \"key doesn't exist\""
      ],
      "execution_count": 48,
      "outputs": []
    },
    {
      "cell_type": "code",
      "metadata": {
        "id": "VeTL3c8vSn3t"
      },
      "source": [
        "def list_to_string(s): \r\n",
        "  \r\n",
        "    # initialization of string to \"\" \r\n",
        "    str1 = \"\" \r\n",
        "  \r\n",
        "    # using join function join the list s by  \r\n",
        "    # separating words by str1 \r\n",
        "    return(str1.join(s)) "
      ],
      "execution_count": 49,
      "outputs": []
    },
    {
      "cell_type": "code",
      "metadata": {
        "id": "NnASwOrLTym6"
      },
      "source": [
        "def convert_english_to_hindi(net, input_dict):\r\n",
        "  for word in input_dict:\r\n",
        "    out = infer(net.cpu(), word, 30)\r\n",
        "    hindi_indices = [torch.argmax(out[i]).item() for i in range(len(out)) if torch.argmax(out[i]).item()!=0 ]\r\n",
        "    hindi_transliteration =[get_key(hindi_alpha2index,value) for value in hindi_indices]\r\n",
        "    print(word,\"  -  \" ,list_to_string(hindi_transliteration))"
      ],
      "execution_count": 50,
      "outputs": []
    },
    {
      "cell_type": "code",
      "metadata": {
        "colab": {
          "base_uri": "https://localhost:8080/"
        },
        "id": "tojCjCqn2IV4",
        "outputId": "315e21c9-befd-4578-cc4c-178d5c2ac705"
      },
      "source": [
        "input_word = [\"ANUBHAV\", \"GUPTA\"]\r\n",
        "convert_english_to_hindi(net,input_word)"
      ],
      "execution_count": 51,
      "outputs": [
        {
          "output_type": "stream",
          "text": [
            "ANUBHAV   -   अनुभव\n",
            "GUPTA   -   गुप्ता\n"
          ],
          "name": "stdout"
        }
      ]
    },
    {
      "cell_type": "code",
      "metadata": {
        "colab": {
          "base_uri": "https://localhost:8080/"
        },
        "id": "Ar-x49f0el6-",
        "outputId": "27c6d43d-8629-459a-9d00-0be592cc7ac9"
      },
      "source": [
        "input_word = [\"DOCTOR\", \"PARSHANT\", \"SINGH\", \"RANA\"]\r\n",
        "convert_english_to_hindi(net,input_word)"
      ],
      "execution_count": 52,
      "outputs": [
        {
          "output_type": "stream",
          "text": [
            "DOCTOR   -   डॉक्टर\n",
            "PARSHANT   -   पररांत\n",
            "SINGH   -   सिंह\n",
            "RANA   -   राना\n"
          ],
          "name": "stdout"
        }
      ]
    },
    {
      "cell_type": "code",
      "metadata": {
        "colab": {
          "base_uri": "https://localhost:8080/"
        },
        "id": "TJRHNHnye5HE",
        "outputId": "06d4e7c6-1c50-4204-a40a-b900ff0ae6c9"
      },
      "source": [
        "input_word = [\"DOCTOR\", \"NEERU\", \"JINDAL\"]\r\n",
        "convert_english_to_hindi(net,input_word)"
      ],
      "execution_count": 53,
      "outputs": [
        {
          "output_type": "stream",
          "text": [
            "DOCTOR   -   डॉक्टर\n",
            "NEERU   -   नीरु\n",
            "JINDAL   -   जिंडल\n"
          ],
          "name": "stdout"
        }
      ]
    },
    {
      "cell_type": "code",
      "metadata": {
        "colab": {
          "base_uri": "https://localhost:8080/"
        },
        "id": "8WDqxuWqfBkt",
        "outputId": "e87b3645-2865-4a6e-91c4-a862d3e53d96"
      },
      "source": [
        "input_word = [\"ASHNA\", \"BANSAL\"]\r\n",
        "convert_english_to_hindi(net,input_word)"
      ],
      "execution_count": 54,
      "outputs": [
        {
          "output_type": "stream",
          "text": [
            "ASHNA   -   अशना\n",
            "BANSAL   -   बंसल\n"
          ],
          "name": "stdout"
        }
      ]
    },
    {
      "cell_type": "code",
      "metadata": {
        "colab": {
          "base_uri": "https://localhost:8080/"
        },
        "id": "nGzLYaDFfMvx",
        "outputId": "7a7fe9ed-29f7-4bf0-abbc-e3ff31124a63"
      },
      "source": [
        "input_word = [\"CANDY\"]\r\n",
        "convert_english_to_hindi(net,input_word)"
      ],
      "execution_count": 55,
      "outputs": [
        {
          "output_type": "stream",
          "text": [
            "CANDY   -   कैंडी\n"
          ],
          "name": "stdout"
        }
      ]
    },
    {
      "cell_type": "code",
      "metadata": {
        "colab": {
          "base_uri": "https://localhost:8080/"
        },
        "id": "40zGVaPXfR5s",
        "outputId": "23567ac1-f927-419a-f2df-72577c625056"
      },
      "source": [
        "input_word = [\"SANKSHI\", \"SINGLA\"]\r\n",
        "convert_english_to_hindi(net,input_word)"
      ],
      "execution_count": 56,
      "outputs": [
        {
          "output_type": "stream",
          "text": [
            "SANKSHI   -   संंकी\n",
            "SINGLA   -   सिंगला\n"
          ],
          "name": "stdout"
        }
      ]
    },
    {
      "cell_type": "code",
      "metadata": {
        "colab": {
          "base_uri": "https://localhost:8080/"
        },
        "id": "ilL9fuU9fbmA",
        "outputId": "7b06da3c-04dd-413d-9013-956881848fd8"
      },
      "source": [
        "input_word = [\"CANDY\", \"SINGLA\"]\r\n",
        "convert_english_to_hindi(net,input_word)"
      ],
      "execution_count": 57,
      "outputs": [
        {
          "output_type": "stream",
          "text": [
            "CANDY   -   कैंडी\n",
            "SINGLA   -   सिंगला\n"
          ],
          "name": "stdout"
        }
      ]
    },
    {
      "cell_type": "code",
      "metadata": {
        "colab": {
          "base_uri": "https://localhost:8080/"
        },
        "id": "fcr7nNanfkFt",
        "outputId": "99d881a2-53bc-4de1-a70b-20da55761197"
      },
      "source": [
        "input_word = [\"SAKSHI\", \"SINGLA\"]\r\n",
        "convert_english_to_hindi(net,input_word)"
      ],
      "execution_count": 58,
      "outputs": [
        {
          "output_type": "stream",
          "text": [
            "SAKSHI   -   सा््षी\n",
            "SINGLA   -   सिंगला\n"
          ],
          "name": "stdout"
        }
      ]
    },
    {
      "cell_type": "code",
      "metadata": {
        "colab": {
          "base_uri": "https://localhost:8080/"
        },
        "id": "5mk1j38mfypM",
        "outputId": "7a7fb789-abff-449a-f24c-4c993dfbb6e0"
      },
      "source": [
        "input_word = [\"AASHNA\", \"BAANSAL\"]\r\n",
        "convert_english_to_hindi(net,input_word)"
      ],
      "execution_count": 60,
      "outputs": [
        {
          "output_type": "stream",
          "text": [
            "AASHNA   -   आशना\n",
            "BAANSAL   -   बाससल\n"
          ],
          "name": "stdout"
        }
      ]
    },
    {
      "cell_type": "code",
      "metadata": {
        "colab": {
          "base_uri": "https://localhost:8080/"
        },
        "id": "pMhQC2Q-f7Rf",
        "outputId": "8a7b0488-3109-401f-e1aa-58ebbf408efa"
      },
      "source": [
        "input_word = [\"AASHNA\", \"BANSAL\"]\r\n",
        "convert_english_to_hindi(net,input_word)"
      ],
      "execution_count": 61,
      "outputs": [
        {
          "output_type": "stream",
          "text": [
            "AASHNA   -   आशना\n",
            "BANSAL   -   बंसल\n"
          ],
          "name": "stdout"
        }
      ]
    }
  ]
}