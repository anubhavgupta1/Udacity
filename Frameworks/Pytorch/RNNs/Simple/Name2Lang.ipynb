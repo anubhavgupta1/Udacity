{
  "nbformat": 4,
  "nbformat_minor": 0,
  "metadata": {
    "colab": {
      "name": "Untitled23.ipynb",
      "provenance": [],
      "authorship_tag": "ABX9TyO+yx8nxnDrvKS4zggEoSi0",
      "include_colab_link": true
    },
    "kernelspec": {
      "name": "python3",
      "display_name": "Python 3"
    }
  },
  "cells": [
    {
      "cell_type": "markdown",
      "metadata": {
        "id": "view-in-github",
        "colab_type": "text"
      },
      "source": [
        "<a href=\"https://colab.research.google.com/github/anubhavgupta1/Udacity/blob/main/Frameworks/Pytorch/RNNs/Simple/Name2Lang.ipynb\" target=\"_parent\"><img src=\"https://colab.research.google.com/assets/colab-badge.svg\" alt=\"Open In Colab\"/></a>"
      ]
    },
    {
      "cell_type": "markdown",
      "metadata": {
        "id": "uVrhfOP811VT"
      },
      "source": [
        "## Set Up"
      ]
    },
    {
      "cell_type": "code",
      "metadata": {
        "id": "94h8XMQ93tWz",
        "colab": {
          "base_uri": "https://localhost:8080/"
        },
        "outputId": "3f9ebdc0-aab9-4633-c705-f62894ae45ef"
      },
      "source": [
        "!ls\r\n",
        "!apt-get install -y -qq software-properties-common python-software-properties module-init-tools\r\n",
        "!add-apt-repository -y ppa:alessandro-strada/ppa 2>&1 > /dev/null\r\n",
        "!apt-get update -qq 2>&1 > /dev/null\r\n",
        "!apt-get -y install -qq google-drive-ocamlfuse fuse\r\n",
        "from google.colab import auth\r\n",
        "auth.authenticate_user()\r\n",
        "from oauth2client.client import GoogleCredentials\r\n",
        "creds = GoogleCredentials.get_application_default()\r\n",
        "import getpass\r\n",
        "!google-drive-ocamlfuse -headless -id={creds.client_id} -secret={creds.client_secret} < /dev/null 2>&1 | grep URL\r\n",
        "vcode = getpass.getpass()\r\n",
        "!echo {vcode} | google-drive-ocamlfuse -headless -id={creds.client_id} -secret={creds.client_secret}\r\n",
        "\r\n",
        "\r\n",
        "!mkdir -p drive\r\n",
        "!google-drive-ocamlfuse drive\r\n",
        "\r\n",
        "import os\r\n",
        "os.chdir(\"drive/Udacity/RNN/\")\r\n",
        "!ls"
      ],
      "execution_count": 1,
      "outputs": [
        {
          "output_type": "stream",
          "text": [
            "sample_data\n",
            "E: Package 'python-software-properties' has no installation candidate\n",
            "Selecting previously unselected package google-drive-ocamlfuse.\n",
            "(Reading database ... 145483 files and directories currently installed.)\n",
            "Preparing to unpack .../google-drive-ocamlfuse_0.7.23-0ubuntu1~ubuntu18.04.1_amd64.deb ...\n",
            "Unpacking google-drive-ocamlfuse (0.7.23-0ubuntu1~ubuntu18.04.1) ...\n",
            "Setting up google-drive-ocamlfuse (0.7.23-0ubuntu1~ubuntu18.04.1) ...\n",
            "Processing triggers for man-db (2.8.3-2ubuntu0.1) ...\n",
            "Please, open the following URL in a web browser: https://accounts.google.com/o/oauth2/auth?client_id=32555940559.apps.googleusercontent.com&redirect_uri=urn%3Aietf%3Awg%3Aoauth%3A2.0%3Aoob&scope=https%3A%2F%2Fwww.googleapis.com%2Fauth%2Fdrive&response_type=code&access_type=offline&approval_prompt=force\n",
            "··········\n",
            "Please, open the following URL in a web browser: https://accounts.google.com/o/oauth2/auth?client_id=32555940559.apps.googleusercontent.com&redirect_uri=urn%3Aietf%3Awg%3Aoauth%3A2.0%3Aoob&scope=https%3A%2F%2Fwww.googleapis.com%2Fauth%2Fdrive&response_type=code&access_type=offline&approval_prompt=force\n",
            "Please enter the verification code: Access token retrieved correctly.\n",
            "name2lang.txt\n"
          ],
          "name": "stdout"
        }
      ]
    },
    {
      "cell_type": "code",
      "metadata": {
        "id": "BRq0Bajf1R1_"
      },
      "source": [
        "import torch\r\n",
        "import numpy as np\r\n",
        "from io import open\r\n",
        "import torch.nn as nn\r\n",
        "import seaborn as sns\r\n",
        "import torch.optim as optim\r\n",
        "import matplotlib.pyplot as plt\r\n",
        "import os, string, random, time, math\r\n",
        "from IPython.display import clear_output\r\n",
        "from sklearn.model_selection import train_test_split"
      ],
      "execution_count": 2,
      "outputs": []
    },
    {
      "cell_type": "markdown",
      "metadata": {
        "id": "wn0J7Hk0251w"
      },
      "source": [
        "## Dataset"
      ]
    },
    {
      "cell_type": "code",
      "metadata": {
        "id": "PzLMDNrv17B6"
      },
      "source": [
        "languages = []\r\n",
        "data = []\r\n",
        "X = []\r\n",
        "Y = []\r\n",
        "\r\n",
        "with open('name2lang.txt', 'r') as f: \r\n",
        "    for line in f:\r\n",
        "        line = line.split(',')\r\n",
        "        name = line[0].strip()\r\n",
        "        lang = line[1].strip()\r\n",
        "        if not lang in languages:\r\n",
        "            languages.append(lang)\r\n",
        "        X.append(name)\r\n",
        "        Y.append(lang)\r\n",
        "        data.append((name, lang))"
      ],
      "execution_count": 3,
      "outputs": []
    },
    {
      "cell_type": "code",
      "metadata": {
        "colab": {
          "base_uri": "https://localhost:8080/"
        },
        "id": "vBz_-SMe190M",
        "outputId": "08b37cbd-33e7-4fb3-960f-ca13ec7e23c4"
      },
      "source": [
        "n_languages = len(languages)\r\n",
        "print(type(languages))\r\n",
        "print(type(data))\r\n",
        "print(\"Number of Languages : \",n_languages)\r\n",
        "print(languages)"
      ],
      "execution_count": 4,
      "outputs": [
        {
          "output_type": "stream",
          "text": [
            "<class 'list'>\n",
            "<class 'list'>\n",
            "Number of Languages :  18\n",
            "['Portuguese', 'Irish', 'Spanish', 'Vietnamese', 'Chinese', 'Greek', 'Czech', 'Dutch', 'Japanese', 'French', 'German', 'Scottish', 'English', 'Russian', 'Polish', 'Arabic', 'Korean', 'Italian']\n"
          ],
          "name": "stdout"
        }
      ]
    },
    {
      "cell_type": "code",
      "metadata": {
        "colab": {
          "base_uri": "https://localhost:8080/"
        },
        "id": "RbescWBq3Uil",
        "outputId": "eb745dff-c2b6-46d2-a4a3-d55dec7dfd81"
      },
      "source": [
        "for x,y in data[0:10]:\r\n",
        "  print(\"Name is : \", x, \" and Language is : \", y)"
      ],
      "execution_count": 5,
      "outputs": [
        {
          "output_type": "stream",
          "text": [
            "Name is :  Abreu  and Language is :  Portuguese\n",
            "Name is :  Albuquerque  and Language is :  Portuguese\n",
            "Name is :  Almeida  and Language is :  Portuguese\n",
            "Name is :  Alves  and Language is :  Portuguese\n",
            "Name is :  Araujo  and Language is :  Portuguese\n",
            "Name is :  Araullo  and Language is :  Portuguese\n",
            "Name is :  Barros  and Language is :  Portuguese\n",
            "Name is :  Basurto  and Language is :  Portuguese\n",
            "Name is :  Belo  and Language is :  Portuguese\n",
            "Name is :  Cabral  and Language is :  Portuguese\n"
          ],
          "name": "stdout"
        }
      ]
    },
    {
      "cell_type": "markdown",
      "metadata": {
        "id": "tA4H26Jr37PJ"
      },
      "source": [
        "## Train Test Split"
      ]
    },
    {
      "cell_type": "code",
      "metadata": {
        "id": "GbqJ88ux39d0"
      },
      "source": [
        "X_train, X_test, Y_train, Y_test = train_test_split(X, Y, test_size=0.2, random_state=0, stratify=Y)"
      ],
      "execution_count": 6,
      "outputs": []
    },
    {
      "cell_type": "code",
      "metadata": {
        "colab": {
          "base_uri": "https://localhost:8080/"
        },
        "id": "VWfwZwAb4Wkt",
        "outputId": "e6821167-37d9-449f-865b-779978547f29"
      },
      "source": [
        "print(len(X_train), len(X_test))"
      ],
      "execution_count": 7,
      "outputs": [
        {
          "output_type": "stream",
          "text": [
            "16040 4010\n"
          ],
          "name": "stdout"
        }
      ]
    },
    {
      "cell_type": "markdown",
      "metadata": {
        "id": "ai9hsUlc5IE1"
      },
      "source": [
        "## Encoding names and language"
      ]
    },
    {
      "cell_type": "code",
      "metadata": {
        "colab": {
          "base_uri": "https://localhost:8080/"
        },
        "id": "sMBZZNDE4lGJ",
        "outputId": "a8328f4c-6fa9-451e-fa82-7f3637baea96"
      },
      "source": [
        "all_letters = string.ascii_letters + \" .,;'\"\r\n",
        "print(all_letters)\r\n",
        "n_letters = len(all_letters)\r\n",
        "print(\"Total characters are \", n_letters)"
      ],
      "execution_count": 8,
      "outputs": [
        {
          "output_type": "stream",
          "text": [
            "abcdefghijklmnopqrstuvwxyzABCDEFGHIJKLMNOPQRSTUVWXYZ .,;'\n",
            "Total characters are  57\n"
          ],
          "name": "stdout"
        }
      ]
    },
    {
      "cell_type": "code",
      "metadata": {
        "colab": {
          "base_uri": "https://localhost:8080/"
        },
        "id": "fpL08nMF5Zj5",
        "outputId": "74cbf3b3-50b5-48d1-f034-0065ed589bc5"
      },
      "source": [
        "name = \"Abreu\"\r\n",
        "rep = torch.zeros(len(name), 1, n_letters)\r\n",
        "print(rep.shape)\r\n",
        "for index, letter in enumerate(name):\r\n",
        "        print(index, letter)\r\n",
        "        pos = all_letters.find(letter)\r\n",
        "        rep[index][0][pos] = 1\r\n",
        "print(rep)"
      ],
      "execution_count": 9,
      "outputs": [
        {
          "output_type": "stream",
          "text": [
            "torch.Size([5, 1, 57])\n",
            "0 A\n",
            "1 b\n",
            "2 r\n",
            "3 e\n",
            "4 u\n",
            "tensor([[[0., 0., 0., 0., 0., 0., 0., 0., 0., 0., 0., 0., 0., 0., 0., 0., 0.,\n",
            "          0., 0., 0., 0., 0., 0., 0., 0., 0., 1., 0., 0., 0., 0., 0., 0., 0.,\n",
            "          0., 0., 0., 0., 0., 0., 0., 0., 0., 0., 0., 0., 0., 0., 0., 0., 0.,\n",
            "          0., 0., 0., 0., 0., 0.]],\n",
            "\n",
            "        [[0., 1., 0., 0., 0., 0., 0., 0., 0., 0., 0., 0., 0., 0., 0., 0., 0.,\n",
            "          0., 0., 0., 0., 0., 0., 0., 0., 0., 0., 0., 0., 0., 0., 0., 0., 0.,\n",
            "          0., 0., 0., 0., 0., 0., 0., 0., 0., 0., 0., 0., 0., 0., 0., 0., 0.,\n",
            "          0., 0., 0., 0., 0., 0.]],\n",
            "\n",
            "        [[0., 0., 0., 0., 0., 0., 0., 0., 0., 0., 0., 0., 0., 0., 0., 0., 0.,\n",
            "          1., 0., 0., 0., 0., 0., 0., 0., 0., 0., 0., 0., 0., 0., 0., 0., 0.,\n",
            "          0., 0., 0., 0., 0., 0., 0., 0., 0., 0., 0., 0., 0., 0., 0., 0., 0.,\n",
            "          0., 0., 0., 0., 0., 0.]],\n",
            "\n",
            "        [[0., 0., 0., 0., 1., 0., 0., 0., 0., 0., 0., 0., 0., 0., 0., 0., 0.,\n",
            "          0., 0., 0., 0., 0., 0., 0., 0., 0., 0., 0., 0., 0., 0., 0., 0., 0.,\n",
            "          0., 0., 0., 0., 0., 0., 0., 0., 0., 0., 0., 0., 0., 0., 0., 0., 0.,\n",
            "          0., 0., 0., 0., 0., 0.]],\n",
            "\n",
            "        [[0., 0., 0., 0., 0., 0., 0., 0., 0., 0., 0., 0., 0., 0., 0., 0., 0.,\n",
            "          0., 0., 0., 1., 0., 0., 0., 0., 0., 0., 0., 0., 0., 0., 0., 0., 0.,\n",
            "          0., 0., 0., 0., 0., 0., 0., 0., 0., 0., 0., 0., 0., 0., 0., 0., 0.,\n",
            "          0., 0., 0., 0., 0., 0.]]])\n"
          ],
          "name": "stdout"
        }
      ]
    },
    {
      "cell_type": "code",
      "metadata": {
        "id": "jTWAoX6z5Ecd"
      },
      "source": [
        "def name_rep(name):\r\n",
        "    rep = torch.zeros(len(name), 1, n_letters)\r\n",
        "    for index, letter in enumerate(name):\r\n",
        "        pos = all_letters.find(letter)\r\n",
        "        rep[index][0][pos] = 1\r\n",
        "    return rep"
      ],
      "execution_count": 10,
      "outputs": []
    },
    {
      "cell_type": "code",
      "metadata": {
        "id": "Keffr5Ru6yyM"
      },
      "source": [
        "def lang_rep(lang):\r\n",
        "    return torch.tensor([languages.index(lang)], dtype=torch.long)"
      ],
      "execution_count": 11,
      "outputs": []
    },
    {
      "cell_type": "code",
      "metadata": {
        "colab": {
          "base_uri": "https://localhost:8080/"
        },
        "id": "_o-zorGb60Ti",
        "outputId": "49f96555-7212-447a-9a7e-e211d4f7cf1e"
      },
      "source": [
        "print(name_rep('Abreu'))\r\n",
        "print(lang_rep('Portuguese'))"
      ],
      "execution_count": 12,
      "outputs": [
        {
          "output_type": "stream",
          "text": [
            "tensor([[[0., 0., 0., 0., 0., 0., 0., 0., 0., 0., 0., 0., 0., 0., 0., 0., 0.,\n",
            "          0., 0., 0., 0., 0., 0., 0., 0., 0., 1., 0., 0., 0., 0., 0., 0., 0.,\n",
            "          0., 0., 0., 0., 0., 0., 0., 0., 0., 0., 0., 0., 0., 0., 0., 0., 0.,\n",
            "          0., 0., 0., 0., 0., 0.]],\n",
            "\n",
            "        [[0., 1., 0., 0., 0., 0., 0., 0., 0., 0., 0., 0., 0., 0., 0., 0., 0.,\n",
            "          0., 0., 0., 0., 0., 0., 0., 0., 0., 0., 0., 0., 0., 0., 0., 0., 0.,\n",
            "          0., 0., 0., 0., 0., 0., 0., 0., 0., 0., 0., 0., 0., 0., 0., 0., 0.,\n",
            "          0., 0., 0., 0., 0., 0.]],\n",
            "\n",
            "        [[0., 0., 0., 0., 0., 0., 0., 0., 0., 0., 0., 0., 0., 0., 0., 0., 0.,\n",
            "          1., 0., 0., 0., 0., 0., 0., 0., 0., 0., 0., 0., 0., 0., 0., 0., 0.,\n",
            "          0., 0., 0., 0., 0., 0., 0., 0., 0., 0., 0., 0., 0., 0., 0., 0., 0.,\n",
            "          0., 0., 0., 0., 0., 0.]],\n",
            "\n",
            "        [[0., 0., 0., 0., 1., 0., 0., 0., 0., 0., 0., 0., 0., 0., 0., 0., 0.,\n",
            "          0., 0., 0., 0., 0., 0., 0., 0., 0., 0., 0., 0., 0., 0., 0., 0., 0.,\n",
            "          0., 0., 0., 0., 0., 0., 0., 0., 0., 0., 0., 0., 0., 0., 0., 0., 0.,\n",
            "          0., 0., 0., 0., 0., 0.]],\n",
            "\n",
            "        [[0., 0., 0., 0., 0., 0., 0., 0., 0., 0., 0., 0., 0., 0., 0., 0., 0.,\n",
            "          0., 0., 0., 1., 0., 0., 0., 0., 0., 0., 0., 0., 0., 0., 0., 0., 0.,\n",
            "          0., 0., 0., 0., 0., 0., 0., 0., 0., 0., 0., 0., 0., 0., 0., 0., 0.,\n",
            "          0., 0., 0., 0., 0., 0.]]])\n",
            "tensor([0])\n"
          ],
          "name": "stdout"
        }
      ]
    },
    {
      "cell_type": "markdown",
      "metadata": {
        "id": "EpcVh8jO8lWh"
      },
      "source": [
        "## Visualize Data"
      ]
    },
    {
      "cell_type": "code",
      "metadata": {
        "id": "RAdiUiTI7Ui3"
      },
      "source": [
        "count = {}\r\n",
        "for l in languages: \r\n",
        "    count[l] = 0"
      ],
      "execution_count": 13,
      "outputs": []
    },
    {
      "cell_type": "code",
      "metadata": {
        "colab": {
          "base_uri": "https://localhost:8080/"
        },
        "id": "BD2fZ3L67aBC",
        "outputId": "2cf84be1-c47c-489c-aac4-254ec54b62b8"
      },
      "source": [
        "print(count)"
      ],
      "execution_count": 14,
      "outputs": [
        {
          "output_type": "stream",
          "text": [
            "{'Portuguese': 0, 'Irish': 0, 'Spanish': 0, 'Vietnamese': 0, 'Chinese': 0, 'Greek': 0, 'Czech': 0, 'Dutch': 0, 'Japanese': 0, 'French': 0, 'German': 0, 'Scottish': 0, 'English': 0, 'Russian': 0, 'Polish': 0, 'Arabic': 0, 'Korean': 0, 'Italian': 0}\n"
          ],
          "name": "stdout"
        }
      ]
    },
    {
      "cell_type": "code",
      "metadata": {
        "id": "Lx7lAZjZ7nVr"
      },
      "source": [
        "for Name, Language in data:\r\n",
        "    count[Language] += 1 "
      ],
      "execution_count": 15,
      "outputs": []
    },
    {
      "cell_type": "code",
      "metadata": {
        "colab": {
          "base_uri": "https://localhost:8080/"
        },
        "id": "mVI0jwyL8WV5",
        "outputId": "a551c8f1-8c08-4d68-bcb4-bcf8b345f86f"
      },
      "source": [
        "print(count)"
      ],
      "execution_count": 16,
      "outputs": [
        {
          "output_type": "stream",
          "text": [
            "{'Portuguese': 74, 'Irish': 232, 'Spanish': 298, 'Vietnamese': 73, 'Chinese': 268, 'Greek': 203, 'Czech': 519, 'Dutch': 297, 'Japanese': 991, 'French': 277, 'German': 724, 'Scottish': 100, 'English': 3668, 'Russian': 9384, 'Polish': 139, 'Arabic': 2000, 'Korean': 94, 'Italian': 709}\n"
          ],
          "name": "stdout"
        }
      ]
    },
    {
      "cell_type": "code",
      "metadata": {
        "colab": {
          "base_uri": "https://localhost:8080/",
          "height": 0
        },
        "id": "J51gAyGf8iI1",
        "outputId": "e008ab34-b8b0-46ef-d1f2-90c1a9aa8859"
      },
      "source": [
        "plt_ = sns.barplot(list(count.keys()), list(count.values()))\r\n",
        "plt_.set_xticklabels(plt_.get_xticklabels(), rotation=90)\r\n",
        "plt.show()"
      ],
      "execution_count": 17,
      "outputs": [
        {
          "output_type": "stream",
          "text": [
            "/usr/local/lib/python3.6/dist-packages/seaborn/_decorators.py:43: FutureWarning: Pass the following variables as keyword args: x, y. From version 0.12, the only valid positional argument will be `data`, and passing other arguments without an explicit keyword will result in an error or misinterpretation.\n",
            "  FutureWarning\n"
          ],
          "name": "stderr"
        },
        {
          "output_type": "display_data",
          "data": {
            "image/png": "[encoded data removed]",
            "text/plain": [
              "<Figure size 432x288 with 1 Axes>"
            ]
          },
          "metadata": {
            "tags": [],
            "needs_background": "light"
          }
        }
      ]
    },
    {
      "cell_type": "markdown",
      "metadata": {
        "id": "fwWO-LwqHI0p"
      },
      "source": [
        "## Model Class"
      ]
    },
    {
      "cell_type": "code",
      "metadata": {
        "id": "kuuFfADwHMnS"
      },
      "source": [
        "class RNN_net(nn.Module):\r\n",
        "    def __init__(self, input_size, hidden_size, output_size):\r\n",
        "        super(RNN_net, self).__init__()\r\n",
        "        self.hidden_size = hidden_size\r\n",
        "        self.i2h = nn.Linear(input_size + hidden_size, hidden_size)\r\n",
        "        self.i2o = nn.Linear(input_size + hidden_size, output_size)\r\n",
        "        self.softmax = nn.LogSoftmax(dim=1)\r\n",
        "\r\n",
        "    def forward(self, input_, hidden):      \r\n",
        "        combined = torch.cat((input_, hidden), 1)\r\n",
        "        hidden = self.i2h(combined)\r\n",
        "        output = self.i2o(combined)\r\n",
        "        output = self.softmax(output)\r\n",
        "        return output, hidden\r\n",
        "\r\n",
        "    def init_hidden(self):\r\n",
        "        return torch.zeros(1, self.hidden_size)"
      ],
      "execution_count": 18,
      "outputs": []
    },
    {
      "cell_type": "code",
      "metadata": {
        "colab": {
          "base_uri": "https://localhost:8080/"
        },
        "id": "9mOpc9GSHPZo",
        "outputId": "8cc9d4ad-a162-41c9-de5b-a96a2e8898de"
      },
      "source": [
        "n_hidden = 128\r\n",
        "net = RNN_net(n_letters, n_hidden, n_languages)\r\n",
        "print(net)"
      ],
      "execution_count": 19,
      "outputs": [
        {
          "output_type": "stream",
          "text": [
            "RNN_net(\n",
            "  (i2h): Linear(in_features=185, out_features=128, bias=True)\n",
            "  (i2o): Linear(in_features=185, out_features=18, bias=True)\n",
            "  (softmax): LogSoftmax(dim=1)\n",
            ")\n"
          ],
          "name": "stdout"
        }
      ]
    },
    {
      "cell_type": "code",
      "metadata": {
        "colab": {
          "base_uri": "https://localhost:8080/"
        },
        "id": "ebZ5f-0J0wiF",
        "outputId": "06a47489-c05d-4a34-d50e-e15c74430fe9"
      },
      "source": [
        "net.eval()\r\n",
        "name_ohe = name_rep(\"Anubhav\")\r\n",
        "hidden = net.init_hidden()\r\n",
        "print(hidden.shape)\r\n",
        "print(name_ohe.size())\r\n",
        "print(name_ohe.size()[0])"
      ],
      "execution_count": 20,
      "outputs": [
        {
          "output_type": "stream",
          "text": [
            "torch.Size([1, 128])\n",
            "torch.Size([7, 1, 57])\n",
            "7\n"
          ],
          "name": "stdout"
        }
      ]
    },
    {
      "cell_type": "code",
      "metadata": {
        "colab": {
          "base_uri": "https://localhost:8080/"
        },
        "id": "mxhrf1Wk1h1K",
        "outputId": "dd4d2b64-aa73-41d1-bf51-dfdef758ce88"
      },
      "source": [
        "for i in range(name_ohe.size()[0]):\r\n",
        "        output, hidden = net(name_ohe[i], hidden)\r\n",
        "        print(output.shape,hidden.shape)"
      ],
      "execution_count": 21,
      "outputs": [
        {
          "output_type": "stream",
          "text": [
            "torch.Size([1, 18]) torch.Size([1, 128])\n",
            "torch.Size([1, 18]) torch.Size([1, 128])\n",
            "torch.Size([1, 18]) torch.Size([1, 128])\n",
            "torch.Size([1, 18]) torch.Size([1, 128])\n",
            "torch.Size([1, 18]) torch.Size([1, 128])\n",
            "torch.Size([1, 18]) torch.Size([1, 128])\n",
            "torch.Size([1, 18]) torch.Size([1, 128])\n"
          ],
          "name": "stdout"
        }
      ]
    },
    {
      "cell_type": "code",
      "metadata": {
        "id": "WiPdSodCTWrS"
      },
      "source": [
        "def infer(net, name):\r\n",
        "    net.eval()\r\n",
        "    name_ohe = name_rep(name)\r\n",
        "    hidden = net.init_hidden()\r\n",
        "    \r\n",
        "    for i in range(name_ohe.size()[0]):\r\n",
        "        output, hidden = net(name_ohe[i], hidden)\r\n",
        "    \r\n",
        "    return output"
      ],
      "execution_count": 22,
      "outputs": []
    },
    {
      "cell_type": "code",
      "metadata": {
        "colab": {
          "base_uri": "https://localhost:8080/"
        },
        "id": "OHx9Mg-yTYNN",
        "outputId": "4f76bc4c-b4d0-4208-9318-cf19f2821365"
      },
      "source": [
        "output = infer(net, 'Adam')\r\n",
        "index = torch.argmax(output)\r\n",
        "print(output, index)"
      ],
      "execution_count": 23,
      "outputs": [
        {
          "output_type": "stream",
          "text": [
            "tensor([[-2.7996, -3.0291, -2.9155, -2.7740, -2.9005, -2.9862, -2.8081, -3.0081,\n",
            "         -2.9936, -2.9529, -2.8087, -2.9026, -2.7752, -2.8462, -2.9461, -2.9054,\n",
            "         -2.8476, -2.8839]], grad_fn=<LogSoftmaxBackward>) tensor(3)\n"
          ],
          "name": "stdout"
        }
      ]
    },
    {
      "cell_type": "markdown",
      "metadata": {
        "id": "l748AdPGTpJV"
      },
      "source": [
        "## Evaluate Model"
      ]
    },
    {
      "cell_type": "code",
      "metadata": {
        "id": "FvRgOHbsTrU6"
      },
      "source": [
        "def dataloader(npoints, X_, y_):\r\n",
        "    to_ret = []\r\n",
        "    for i in range(npoints):\r\n",
        "        index_ = np.random.randint(len(X_))\r\n",
        "        name, lang = X_[index_], y_[index_]\r\n",
        "        to_ret.append((name, lang, name_rep(name), lang_rep(lang)))\r\n",
        "    return to_ret"
      ],
      "execution_count": 24,
      "outputs": []
    },
    {
      "cell_type": "code",
      "metadata": {
        "id": "L7OpFPFEhhl_"
      },
      "source": [
        "data = dataloader(2, X_train, Y_train)"
      ],
      "execution_count": 25,
      "outputs": []
    },
    {
      "cell_type": "code",
      "metadata": {
        "colab": {
          "base_uri": "https://localhost:8080/"
        },
        "id": "HGkKIoewhmZL",
        "outputId": "77510324-a58e-4517-f6a5-e86a6697cb2e"
      },
      "source": [
        "for name, lan, nam_rep, lan_rep in data:\r\n",
        "  print(\"Name is : \", name, \" and language is : \", lan)\r\n",
        "  print(nam_rep.shape)\r\n",
        "  print(lan_rep) \r\n",
        "  output = infer(net,name)\r\n",
        "  val, indices = output.topk(2)\r\n",
        "  index1, index2 = indices[0][0].item(), indices[0][1].item()\r\n",
        "  print(\"Predicted language is : \",languages[index1])\r\n",
        "  print(\"Predicted language is : \",languages[index2])\r\n",
        "  print(\"==================\\n\")"
      ],
      "execution_count": 26,
      "outputs": [
        {
          "output_type": "stream",
          "text": [
            "Name is :  Zheronkin  and language is :  Russian\n",
            "torch.Size([9, 1, 57])\n",
            "tensor([13])\n",
            "Predicted language is :  Chinese\n",
            "Predicted language is :  Russian\n",
            "==================\n",
            "\n",
            "Name is :  Gerges  and language is :  Arabic\n",
            "torch.Size([6, 1, 57])\n",
            "tensor([15])\n",
            "Predicted language is :  Russian\n",
            "Predicted language is :  Portuguese\n",
            "==================\n",
            "\n"
          ],
          "name": "stdout"
        }
      ]
    },
    {
      "cell_type": "code",
      "metadata": {
        "id": "fJspp2JVFgj8"
      },
      "source": [
        "def eval(net, n_points, k, X_, y_):\r\n",
        "    \r\n",
        "    data_ = dataloader(n_points, X_, y_)\r\n",
        "    correct = 0\r\n",
        "    \r\n",
        "    for name, language, name_ohe, lang_rep in data_:\r\n",
        "        \r\n",
        "        output = infer(net, name)\r\n",
        "        val, indices = output.topk(k)\r\n",
        "        \r\n",
        "        if lang_rep in indices:\r\n",
        "            correct += 1\r\n",
        "            \r\n",
        "    accuracy = correct/n_points\r\n",
        "    return accuracy"
      ],
      "execution_count": 27,
      "outputs": []
    },
    {
      "cell_type": "code",
      "metadata": {
        "colab": {
          "base_uri": "https://localhost:8080/"
        },
        "id": "VB5jEh6kFkqC",
        "outputId": "e49e2ee8-1025-4e36-de43-6f7c3bbfb56e"
      },
      "source": [
        "eval(net, 1000, 3, X_test, Y_test)"
      ],
      "execution_count": 28,
      "outputs": [
        {
          "output_type": "execute_result",
          "data": {
            "text/plain": [
              "0.485"
            ]
          },
          "metadata": {
            "tags": []
          },
          "execution_count": 28
        }
      ]
    },
    {
      "cell_type": "markdown",
      "metadata": {
        "id": "tOKqQbV4FqVF"
      },
      "source": [
        "## Training"
      ]
    },
    {
      "cell_type": "code",
      "metadata": {
        "id": "hV1JNP5WFr4v"
      },
      "source": [
        "def train(net, opt, criterion, n_points):\r\n",
        "    \r\n",
        "    opt.zero_grad()\r\n",
        "    total_loss = 0\r\n",
        "    \r\n",
        "    data_ = dataloader(n_points, X_train, Y_train)\r\n",
        "    \r\n",
        "    for name, language, name_ohe, lang_rep in data_:\r\n",
        "\r\n",
        "        hidden = net.init_hidden()\r\n",
        "\r\n",
        "        for i in range(name_ohe.size()[0]):\r\n",
        "            output, hidden = net(name_ohe[i], hidden)\r\n",
        "            \r\n",
        "        loss = criterion(output, lang_rep)\r\n",
        "        loss.backward(retain_graph=True)\r\n",
        "        \r\n",
        "        total_loss += loss\r\n",
        "        \r\n",
        "    opt.step()       \r\n",
        "            \r\n",
        "    return total_loss/n_points"
      ],
      "execution_count": 29,
      "outputs": []
    },
    {
      "cell_type": "code",
      "metadata": {
        "id": "1VhXtMl9GCET"
      },
      "source": [
        "criterion = nn.NLLLoss()\r\n",
        "opt = optim.SGD(net.parameters(), lr=0.01, momentum=0.9)"
      ],
      "execution_count": 30,
      "outputs": []
    },
    {
      "cell_type": "code",
      "metadata": {
        "colab": {
          "base_uri": "https://localhost:8080/"
        },
        "id": "LXeDpa9sGGDY",
        "outputId": "1bf1c58b-449e-419b-c857-6d30497a3ef1"
      },
      "source": [
        "%%time \r\n",
        "train(net, opt, criterion, 200)"
      ],
      "execution_count": 31,
      "outputs": [
        {
          "output_type": "stream",
          "text": [
            "CPU times: user 276 ms, sys: 17 ms, total: 293 ms\n",
            "Wall time: 392 ms\n"
          ],
          "name": "stdout"
        },
        {
          "output_type": "execute_result",
          "data": {
            "text/plain": [
              "tensor(2.8340, grad_fn=<DivBackward0>)"
            ]
          },
          "metadata": {
            "tags": []
          },
          "execution_count": 31
        }
      ]
    },
    {
      "cell_type": "code",
      "metadata": {
        "colab": {
          "base_uri": "https://localhost:8080/"
        },
        "id": "e6OL-lCrGWtc",
        "outputId": "d0cddf38-3d34-40b3-dc00-1e8d1bb9db43"
      },
      "source": [
        "eval(net, 1000, 1, X_test, Y_test)"
      ],
      "execution_count": 32,
      "outputs": [
        {
          "output_type": "execute_result",
          "data": {
            "text/plain": [
              "0.432"
            ]
          },
          "metadata": {
            "tags": []
          },
          "execution_count": 32
        }
      ]
    },
    {
      "cell_type": "markdown",
      "metadata": {
        "id": "r-zUR7I9mauD"
      },
      "source": [
        "## Full Training Step"
      ]
    },
    {
      "cell_type": "code",
      "metadata": {
        "id": "kjzJ5Z3EmfoR"
      },
      "source": [
        "def train_setup(net, lr = 0.01, n_batches = 100, batch_size = 10, momentum = 0.9, display_freq=5):\r\n",
        "    \r\n",
        "    criterion = nn.NLLLoss()\r\n",
        "    opt = optim.SGD(net.parameters(), lr=lr, momentum=momentum)\r\n",
        "    \r\n",
        "    loss_arr = np.zeros(n_batches + 1)\r\n",
        "    \r\n",
        "    for i in range(n_batches):\r\n",
        "        loss_arr[i+1] = (loss_arr[i]*i + train(net, opt, criterion, batch_size))/(i + 1)\r\n",
        "        \r\n",
        "        if i%display_freq == display_freq-1:\r\n",
        "            clear_output(wait=True)\r\n",
        "            \r\n",
        "            print('Iteration', i, 'Top-1:', eval(net, len(X_test), 1, X_test, Y_test), 'Top-2:', eval(net, len(X_test), 2, X_test, Y_test), 'Loss', loss_arr[i])\r\n",
        "            plt.figure()\r\n",
        "            plt.plot(loss_arr[1:i], '-*')\r\n",
        "            plt.xlabel('Iteration')\r\n",
        "            plt.ylabel('Loss')\r\n",
        "            plt.show()\r\n",
        "            print('\\n\\n')"
      ],
      "execution_count": 33,
      "outputs": []
    },
    {
      "cell_type": "code",
      "metadata": {
        "colab": {
          "base_uri": "https://localhost:8080/",
          "height": 346
        },
        "id": "2B4jhIypmlz8",
        "outputId": "4a817c46-7755-419a-89f9-dca5caa6326e"
      },
      "source": [
        "n_hidden = 128\r\n",
        "net = RNN_net(n_letters, n_hidden, n_languages)\r\n",
        "train_setup(net, lr=0.0005, n_batches=100, batch_size = 256)"
      ],
      "execution_count": 34,
      "outputs": [
        {
          "output_type": "stream",
          "text": [
            "Iteration 99 Top-1: 0.6738154613466334 Top-2: 0.7980049875311721 Loss 1.4745014905929565\n"
          ],
          "name": "stdout"
        },
        {
          "output_type": "display_data",
          "data": {
            "image/png": "[encoded data removed]",
            "text/plain": [
              "<Figure size 432x288 with 1 Axes>"
            ]
          },
          "metadata": {
            "tags": [],
            "needs_background": "light"
          }
        },
        {
          "output_type": "stream",
          "text": [
            "\n",
            "\n",
            "\n"
          ],
          "name": "stdout"
        }
      ]
    }
  ]
}