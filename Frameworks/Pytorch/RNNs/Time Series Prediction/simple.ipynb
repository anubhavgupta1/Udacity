{
  "nbformat": 4,
  "nbformat_minor": 0,
  "metadata": {
    "colab": {
      "name": "Untitled23.ipynb",
      "provenance": [],
      "authorship_tag": "ABX9TyPYCAJHrFqAy/pVS2pPsw+U",
      "include_colab_link": true
    },
    "kernelspec": {
      "name": "python3",
      "display_name": "Python 3"
    }
  },
  "cells": [
    {
      "cell_type": "markdown",
      "metadata": {
        "id": "view-in-github",
        "colab_type": "text"
      },
      "source": [
        "<a href=\"https://colab.research.google.com/github/anubhavgupta1/Udacity/blob/main/Frameworks/Pytorch/RNNs/Time%20Series%20Prediction/simple.ipynb\" target=\"_parent\"><img src=\"https://colab.research.google.com/assets/colab-badge.svg\" alt=\"Open In Colab\"/></a>"
      ]
    },
    {
      "cell_type": "markdown",
      "metadata": {
        "id": "KQnvmVqYdlNJ"
      },
      "source": [
        "## Import resources and create data"
      ]
    },
    {
      "cell_type": "code",
      "metadata": {
        "id": "fP_rdeIpYDmm"
      },
      "source": [
        "import torch\r\n",
        "from torch import nn\r\n",
        "import numpy as np\r\n",
        "import matplotlib.pyplot as plt\r\n",
        "%matplotlib inline"
      ],
      "execution_count": 1,
      "outputs": []
    },
    {
      "cell_type": "code",
      "metadata": {
        "colab": {
          "base_uri": "https://localhost:8080/",
          "height": 320
        },
        "id": "UdcnTHIwdv2H",
        "outputId": "31771e44-73e4-4287-a926-f21a89e1f0d4"
      },
      "source": [
        "plt.figure(figsize=(8,5))\r\n",
        "\r\n",
        "# how many time steps/data pts are in one batch of data\r\n",
        "seq_length = 20\r\n",
        "\r\n",
        "# generate evenly spaced data pts\r\n",
        "time_steps = np.linspace(0, np.pi, seq_length + 1)\r\n",
        "data = np.sin(time_steps)\r\n",
        "data.resize((seq_length + 1, 1)) # size becomes (seq_length+1, 1), adds an input_size dimension\r\n",
        "\r\n",
        "x = data[:-1] # all but the last piece of data\r\n",
        "y = data[1:] # all but the first\r\n",
        "\r\n",
        "# display the data\r\n",
        "plt.plot(time_steps[1:], x, 'r.', label='input, x') # x\r\n",
        "plt.plot(time_steps[1:], y, 'b.', label='target, y') # y\r\n",
        "\r\n",
        "plt.legend(loc='best')\r\n",
        "plt.show()"
      ],
      "execution_count": 2,
      "outputs": [
        {
          "output_type": "display_data",
          "data": {
            "image/png": "[encoded data removed]",
            "text/plain": [
              "<Figure size 576x360 with 1 Axes>"
            ]
          },
          "metadata": {
            "tags": [],
            "needs_background": "light"
          }
        }
      ]
    },
    {
      "cell_type": "markdown",
      "metadata": {
        "id": "GSEC_BLUd2MI"
      },
      "source": [
        "##Define the RNN"
      ]
    },
    {
      "cell_type": "code",
      "metadata": {
        "id": "XusOLnsGdxzA"
      },
      "source": [
        "class RNN(nn.Module):\r\n",
        "    def __init__(self, input_size, output_size, hidden_dim, n_layers):\r\n",
        "        super(RNN, self).__init__()\r\n",
        "        \r\n",
        "        self.hidden_dim=hidden_dim\r\n",
        "\r\n",
        "        # define an RNN with specified parameters\r\n",
        "        # batch_first means that the first dim of the input and output will be the batch_size\r\n",
        "        self.rnn = nn.RNN(input_size, hidden_dim, n_layers, batch_first=True)\r\n",
        "        \r\n",
        "        # last, fully-connected layer\r\n",
        "        self.fc = nn.Linear(hidden_dim, output_size)\r\n",
        "\r\n",
        "    def forward(self, x, hidden):\r\n",
        "        # x (batch_size, seq_length, input_size)\r\n",
        "        # hidden (n_layers, batch_size, hidden_dim)\r\n",
        "        # r_out (batch_size, time_step, hidden_size)\r\n",
        "        batch_size = x.size(0)\r\n",
        "        \r\n",
        "        # get RNN outputs\r\n",
        "        r_out, hidden = self.rnn(x, hidden)\r\n",
        "        # shape output to be (batch_size*seq_length, hidden_dim)\r\n",
        "        r_out = r_out.view(-1, self.hidden_dim)  \r\n",
        "        \r\n",
        "        # get final output \r\n",
        "        output = self.fc(r_out)\r\n",
        "        \r\n",
        "        return output, hidden"
      ],
      "execution_count": 3,
      "outputs": []
    },
    {
      "cell_type": "markdown",
      "metadata": {
        "id": "C4xWni9GeA6i"
      },
      "source": [
        "## Check the input and output dimensions"
      ]
    },
    {
      "cell_type": "code",
      "metadata": {
        "colab": {
          "base_uri": "https://localhost:8080/"
        },
        "id": "9CQWRvX8eCls",
        "outputId": "57d3ff5b-99e0-4fb8-d0ce-0d4e1a37fb9b"
      },
      "source": [
        "# test that dimensions are as expected\r\n",
        "test_rnn = RNN(input_size=1, output_size=1, hidden_dim=10, n_layers=2)\r\n",
        "\r\n",
        "# generate evenly spaced, test data pts\r\n",
        "time_steps = np.linspace(0, np.pi, seq_length)\r\n",
        "data = np.sin(time_steps)\r\n",
        "data.resize((seq_length, 1))\r\n",
        "\r\n",
        "test_input = torch.Tensor(data).unsqueeze(0) # give it a batch_size of 1 as first dimension\r\n",
        "print('Input size: ', test_input.size())\r\n",
        "\r\n",
        "# test out rnn sizes\r\n",
        "test_out, test_h = test_rnn(test_input, None)\r\n",
        "print('Output size: ', test_out.size())\r\n",
        "print('Hidden state size: ', test_h.size())"
      ],
      "execution_count": 4,
      "outputs": [
        {
          "output_type": "stream",
          "text": [
            "Input size:  torch.Size([1, 20, 1])\n",
            "Output size:  torch.Size([20, 1])\n",
            "Hidden state size:  torch.Size([2, 1, 10])\n"
          ],
          "name": "stdout"
        }
      ]
    },
    {
      "cell_type": "markdown",
      "metadata": {
        "id": "HIi-sW7IeOfH"
      },
      "source": [
        "## Training the RNN"
      ]
    },
    {
      "cell_type": "code",
      "metadata": {
        "colab": {
          "base_uri": "https://localhost:8080/"
        },
        "id": "lb3JUpCfePf-",
        "outputId": "4dfd7149-e9fe-4069-dd2a-648f69d47c46"
      },
      "source": [
        "# decide on hyperparameters\r\n",
        "input_size=1 \r\n",
        "output_size=1\r\n",
        "hidden_dim=32\r\n",
        "n_layers=1\r\n",
        "\r\n",
        "# instantiate an RNN\r\n",
        "rnn = RNN(input_size, output_size, hidden_dim, n_layers)\r\n",
        "print(rnn)"
      ],
      "execution_count": 5,
      "outputs": [
        {
          "output_type": "stream",
          "text": [
            "RNN(\n",
            "  (rnn): RNN(1, 32, batch_first=True)\n",
            "  (fc): Linear(in_features=32, out_features=1, bias=True)\n",
            ")\n"
          ],
          "name": "stdout"
        }
      ]
    },
    {
      "cell_type": "markdown",
      "metadata": {
        "id": "vWM6scgAeXIT"
      },
      "source": [
        "## Loss and Optimization"
      ]
    },
    {
      "cell_type": "code",
      "metadata": {
        "id": "1vXexnZdeT6M"
      },
      "source": [
        "# MSE loss and Adam optimizer with a learning rate of 0.01\r\n",
        "criterion = nn.MSELoss()\r\n",
        "optimizer = torch.optim.Adam(rnn.parameters(), lr=0.01)"
      ],
      "execution_count": 6,
      "outputs": []
    },
    {
      "cell_type": "markdown",
      "metadata": {
        "id": "lEw_aQviegkN"
      },
      "source": [
        "## Defining the training function"
      ]
    },
    {
      "cell_type": "code",
      "metadata": {
        "id": "L6Pgs9YRehma"
      },
      "source": [
        "# train the RNN\r\n",
        "def train(rnn, n_steps, print_every):\r\n",
        "    \r\n",
        "    # initialize the hidden state\r\n",
        "    hidden = None      \r\n",
        "    \r\n",
        "    for batch_i, step in enumerate(range(n_steps)):\r\n",
        "        # defining the training data \r\n",
        "        time_steps = np.linspace(step * np.pi, (step+1)*np.pi, seq_length + 1)\r\n",
        "        data = np.sin(time_steps)\r\n",
        "        data.resize((seq_length + 1, 1)) # input_size=1\r\n",
        "\r\n",
        "        x = data[:-1]\r\n",
        "        y = data[1:]\r\n",
        "        \r\n",
        "        # convert data into Tensors\r\n",
        "        x_tensor = torch.Tensor(x).unsqueeze(0) # unsqueeze gives a 1, batch_size dimension\r\n",
        "        y_tensor = torch.Tensor(y)\r\n",
        "\r\n",
        "        # outputs from the rnn\r\n",
        "        prediction, hidden = rnn(x_tensor, hidden)\r\n",
        "\r\n",
        "        ## Representing Memory ##\r\n",
        "        # make a new variable for hidden and detach the hidden state from its history\r\n",
        "        # this way, we don't backpropagate through the entire history\r\n",
        "        hidden = hidden.data\r\n",
        "\r\n",
        "        # calculate the loss\r\n",
        "        loss = criterion(prediction, y_tensor)\r\n",
        "        # zero gradients\r\n",
        "        optimizer.zero_grad()\r\n",
        "        # perform backprop and update weights\r\n",
        "        loss.backward()\r\n",
        "        optimizer.step()\r\n",
        "\r\n",
        "        # display loss and predictions\r\n",
        "        if batch_i%print_every == 0:        \r\n",
        "            print('Loss: ', loss.item())\r\n",
        "            plt.plot(time_steps[1:], x, 'r.') # input\r\n",
        "            plt.plot(time_steps[1:], prediction.data.numpy().flatten(), 'b.') # predictions\r\n",
        "            plt.show()\r\n",
        "    \r\n",
        "    return rnn"
      ],
      "execution_count": 8,
      "outputs": []
    },
    {
      "cell_type": "code",
      "metadata": {
        "colab": {
          "base_uri": "https://localhost:8080/",
          "height": 1000
        },
        "id": "R0IjQAzqerKW",
        "outputId": "3f558b90-1d65-463c-a4a2-9425eb29d47f"
      },
      "source": [
        "# train the rnn and monitor results\r\n",
        "n_steps = 75\r\n",
        "print_every = 15\r\n",
        "\r\n",
        "trained_rnn = train(rnn, n_steps, print_every)"
      ],
      "execution_count": 9,
      "outputs": [
        {
          "output_type": "stream",
          "text": [
            "Loss:  0.29227036237716675\n"
          ],
          "name": "stdout"
        },
        {
          "output_type": "display_data",
          "data": {
            "image/png": "[encoded data removed]",
            "text/plain": [
              "<Figure size 432x288 with 1 Axes>"
            ]
          },
          "metadata": {
            "tags": [],
            "needs_background": "light"
          }
        },
        {
          "output_type": "stream",
          "text": [
            "Loss:  0.007833934389054775\n"
          ],
          "name": "stdout"
        },
        {
          "output_type": "display_data",
          "data": {
            "image/png": "[encoded data removed]",
            "text/plain": [
              "<Figure size 432x288 with 1 Axes>"
            ]
          },
          "metadata": {
            "tags": [],
            "needs_background": "light"
          }
        },
        {
          "output_type": "stream",
          "text": [
            "Loss:  0.004072974435985088\n"
          ],
          "name": "stdout"
        },
        {
          "output_type": "display_data",
          "data": {
            "image/png": "[encoded data removed]",
            "text/plain": [
              "<Figure size 432x288 with 1 Axes>"
            ]
          },
          "metadata": {
            "tags": [],
            "needs_background": "light"
          }
        },
        {
          "output_type": "stream",
          "text": [
            "Loss:  0.002476536436006427\n"
          ],
          "name": "stdout"
        },
        {
          "output_type": "display_data",
          "data": {
            "image/png": "[encoded data removed]",
            "text/plain": [
              "<Figure size 432x288 with 1 Axes>"
            ]
          },
          "metadata": {
            "tags": [],
            "needs_background": "light"
          }
        },
        {
          "output_type": "stream",
          "text": [
            "Loss:  0.0009051199886016548\n"
          ],
          "name": "stdout"
        },
        {
          "output_type": "display_data",
          "data": {
            "image/png": "[encoded data removed]",
            "text/plain": [
              "<Figure size 432x288 with 1 Axes>"
            ]
          },
          "metadata": {
            "tags": [],
            "needs_background": "light"
          }
        }
      ]
    }
  ]
}