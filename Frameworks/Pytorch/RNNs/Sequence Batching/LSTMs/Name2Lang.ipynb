{
  "nbformat": 4,
  "nbformat_minor": 0,
  "metadata": {
    "colab": {
      "name": "Untitled23.ipynb",
      "provenance": [],
      "authorship_tag": "ABX9TyOrXKD/suAAToF5B/TKjC+4",
      "include_colab_link": true
    },
    "kernelspec": {
      "name": "python3",
      "display_name": "Python 3"
    },
    "accelerator": "GPU"
  },
  "cells": [
    {
      "cell_type": "markdown",
      "metadata": {
        "id": "view-in-github",
        "colab_type": "text"
      },
      "source": [
        "<a href=\"https://colab.research.google.com/github/anubhavgupta1/Udacity/blob/main/Frameworks/Pytorch/RNNs/Sequence%20Batching/LSTMs/Name2Lang.ipynb\" target=\"_parent\"><img src=\"https://colab.research.google.com/assets/colab-badge.svg\" alt=\"Open In Colab\"/></a>"
      ]
    },
    {
      "cell_type": "markdown",
      "metadata": {
        "id": "uVrhfOP811VT"
      },
      "source": [
        "## Set Up"
      ]
    },
    {
      "cell_type": "code",
      "metadata": {
        "id": "94h8XMQ93tWz",
        "colab": {
          "base_uri": "https://localhost:8080/"
        },
        "outputId": "5bfd40c2-d7a4-477b-fe07-2430a10ab079"
      },
      "source": [
        "!ls\r\n",
        "!apt-get install -y -qq software-properties-common python-software-properties module-init-tools\r\n",
        "!add-apt-repository -y ppa:alessandro-strada/ppa 2>&1 > /dev/null\r\n",
        "!apt-get update -qq 2>&1 > /dev/null\r\n",
        "!apt-get -y install -qq google-drive-ocamlfuse fuse\r\n",
        "from google.colab import auth\r\n",
        "auth.authenticate_user()\r\n",
        "from oauth2client.client import GoogleCredentials\r\n",
        "creds = GoogleCredentials.get_application_default()\r\n",
        "import getpass\r\n",
        "!google-drive-ocamlfuse -headless -id={creds.client_id} -secret={creds.client_secret} < /dev/null 2>&1 | grep URL\r\n",
        "vcode = getpass.getpass()\r\n",
        "!echo {vcode} | google-drive-ocamlfuse -headless -id={creds.client_id} -secret={creds.client_secret}\r\n",
        "\r\n",
        "\r\n",
        "!mkdir -p drive\r\n",
        "!google-drive-ocamlfuse drive\r\n",
        "\r\n",
        "import os\r\n",
        "os.chdir(\"drive/Udacity/RNN/\")\r\n",
        "!ls"
      ],
      "execution_count": 1,
      "outputs": [
        {
          "output_type": "stream",
          "text": [
            "sample_data\n",
            "E: Package 'python-software-properties' has no installation candidate\n",
            "Selecting previously unselected package google-drive-ocamlfuse.\n",
            "(Reading database ... 145483 files and directories currently installed.)\n",
            "Preparing to unpack .../google-drive-ocamlfuse_0.7.23-0ubuntu1~ubuntu18.04.1_amd64.deb ...\n",
            "Unpacking google-drive-ocamlfuse (0.7.23-0ubuntu1~ubuntu18.04.1) ...\n",
            "Setting up google-drive-ocamlfuse (0.7.23-0ubuntu1~ubuntu18.04.1) ...\n",
            "Processing triggers for man-db (2.8.3-2ubuntu0.1) ...\n",
            "Please, open the following URL in a web browser: https://accounts.google.com/o/oauth2/auth?client_id=32555940559.apps.googleusercontent.com&redirect_uri=urn%3Aietf%3Awg%3Aoauth%3A2.0%3Aoob&scope=https%3A%2F%2Fwww.googleapis.com%2Fauth%2Fdrive&response_type=code&access_type=offline&approval_prompt=force\n",
            "··········\n",
            "Please, open the following URL in a web browser: https://accounts.google.com/o/oauth2/auth?client_id=32555940559.apps.googleusercontent.com&redirect_uri=urn%3Aietf%3Awg%3Aoauth%3A2.0%3Aoob&scope=https%3A%2F%2Fwww.googleapis.com%2Fauth%2Fdrive&response_type=code&access_type=offline&approval_prompt=force\n",
            "Please enter the verification code: Access token retrieved correctly.\n",
            "drive  name2lang.txt\n"
          ],
          "name": "stdout"
        }
      ]
    },
    {
      "cell_type": "markdown",
      "metadata": {
        "id": "8Ya9Lgskmbdj"
      },
      "source": [
        "## Setting Up Dependencies"
      ]
    },
    {
      "cell_type": "code",
      "metadata": {
        "id": "BRq0Bajf1R1_"
      },
      "source": [
        "import torch\r\n",
        "import numpy as np\r\n",
        "from io import open\r\n",
        "import torch.nn as nn\r\n",
        "import seaborn as sns\r\n",
        "import torch.optim as optim\r\n",
        "import matplotlib.pyplot as plt\r\n",
        "import os, string, random, time, math\r\n",
        "from IPython.display import clear_output\r\n",
        "from sklearn.model_selection import train_test_split"
      ],
      "execution_count": 2,
      "outputs": []
    },
    {
      "cell_type": "code",
      "metadata": {
        "colab": {
          "base_uri": "https://localhost:8080/"
        },
        "id": "cCtiHsHWm0Gh",
        "outputId": "3de3d1a5-c6ec-4b5b-f819-46ef58bab282"
      },
      "source": [
        "# Instantiates the device to be used as GPU/CPU based on availability\r\n",
        "device_gpu = torch.device(\"cuda:0\" if torch.cuda.is_available() else \"cpu\")\r\n",
        "print(device_gpu)"
      ],
      "execution_count": 3,
      "outputs": [
        {
          "output_type": "stream",
          "text": [
            "cuda:0\n"
          ],
          "name": "stdout"
        }
      ]
    },
    {
      "cell_type": "markdown",
      "metadata": {
        "id": "wn0J7Hk0251w"
      },
      "source": [
        "## Dataset"
      ]
    },
    {
      "cell_type": "code",
      "metadata": {
        "id": "PzLMDNrv17B6"
      },
      "source": [
        "languages = []\r\n",
        "data = []\r\n",
        "X = []\r\n",
        "Y = []\r\n",
        "\r\n",
        "with open('name2lang.txt', 'r') as f: \r\n",
        "    for line in f:\r\n",
        "        line = line.split(',')\r\n",
        "        name = line[0].strip()\r\n",
        "        lang = line[1].strip()\r\n",
        "        if not lang in languages:\r\n",
        "            languages.append(lang)\r\n",
        "        X.append(name)\r\n",
        "        Y.append(lang)\r\n",
        "        data.append((name, lang))"
      ],
      "execution_count": 4,
      "outputs": []
    },
    {
      "cell_type": "code",
      "metadata": {
        "colab": {
          "base_uri": "https://localhost:8080/"
        },
        "id": "vBz_-SMe190M",
        "outputId": "7b1ad819-e5b8-43ee-dbc3-07c9da532edb"
      },
      "source": [
        "n_languages = len(languages)\r\n",
        "print(type(languages))\r\n",
        "print(type(data))\r\n",
        "print(\"Number of Languages : \",n_languages)\r\n",
        "print(languages)"
      ],
      "execution_count": 5,
      "outputs": [
        {
          "output_type": "stream",
          "text": [
            "<class 'list'>\n",
            "<class 'list'>\n",
            "Number of Languages :  18\n",
            "['Portuguese', 'Irish', 'Spanish', 'Vietnamese', 'Chinese', 'Greek', 'Czech', 'Dutch', 'Japanese', 'French', 'German', 'Scottish', 'English', 'Russian', 'Polish', 'Arabic', 'Korean', 'Italian']\n"
          ],
          "name": "stdout"
        }
      ]
    },
    {
      "cell_type": "code",
      "metadata": {
        "colab": {
          "base_uri": "https://localhost:8080/"
        },
        "id": "RbescWBq3Uil",
        "outputId": "028e3162-7b64-48c2-cf47-2725d92be0f5"
      },
      "source": [
        "for x,y in data[0:10]:\r\n",
        "  print(\"Name is : \", x, \" and Language is : \", y)"
      ],
      "execution_count": 6,
      "outputs": [
        {
          "output_type": "stream",
          "text": [
            "Name is :  Abreu  and Language is :  Portuguese\n",
            "Name is :  Albuquerque  and Language is :  Portuguese\n",
            "Name is :  Almeida  and Language is :  Portuguese\n",
            "Name is :  Alves  and Language is :  Portuguese\n",
            "Name is :  Araujo  and Language is :  Portuguese\n",
            "Name is :  Araullo  and Language is :  Portuguese\n",
            "Name is :  Barros  and Language is :  Portuguese\n",
            "Name is :  Basurto  and Language is :  Portuguese\n",
            "Name is :  Belo  and Language is :  Portuguese\n",
            "Name is :  Cabral  and Language is :  Portuguese\n"
          ],
          "name": "stdout"
        }
      ]
    },
    {
      "cell_type": "markdown",
      "metadata": {
        "id": "tA4H26Jr37PJ"
      },
      "source": [
        "## Train Test Split"
      ]
    },
    {
      "cell_type": "code",
      "metadata": {
        "id": "GbqJ88ux39d0"
      },
      "source": [
        "X_train, X_test, Y_train, Y_test = train_test_split(X, Y, test_size=0.2, random_state=0, stratify=Y)"
      ],
      "execution_count": 7,
      "outputs": []
    },
    {
      "cell_type": "code",
      "metadata": {
        "colab": {
          "base_uri": "https://localhost:8080/"
        },
        "id": "VWfwZwAb4Wkt",
        "outputId": "2cf14761-bd3e-4b75-f347-f5da03137524"
      },
      "source": [
        "print(len(X_train), len(X_test))"
      ],
      "execution_count": 8,
      "outputs": [
        {
          "output_type": "stream",
          "text": [
            "16040 4010\n"
          ],
          "name": "stdout"
        }
      ]
    },
    {
      "cell_type": "markdown",
      "metadata": {
        "id": "ai9hsUlc5IE1"
      },
      "source": [
        "## Encoding names and language"
      ]
    },
    {
      "cell_type": "code",
      "metadata": {
        "colab": {
          "base_uri": "https://localhost:8080/"
        },
        "id": "sMBZZNDE4lGJ",
        "outputId": "543a289f-c36f-4270-9986-4b7a6042f270"
      },
      "source": [
        "all_letters = string.ascii_letters + \" .,;'\"\r\n",
        "print(all_letters)\r\n",
        "n_letters = len(all_letters)\r\n",
        "print(\"Total characters are \", n_letters)"
      ],
      "execution_count": 9,
      "outputs": [
        {
          "output_type": "stream",
          "text": [
            "abcdefghijklmnopqrstuvwxyzABCDEFGHIJKLMNOPQRSTUVWXYZ .,;'\n",
            "Total characters are  57\n"
          ],
          "name": "stdout"
        }
      ]
    },
    {
      "cell_type": "code",
      "metadata": {
        "colab": {
          "base_uri": "https://localhost:8080/"
        },
        "id": "fpL08nMF5Zj5",
        "outputId": "59978fd0-33f5-4cb9-a1a7-b4e5ff6c26ce"
      },
      "source": [
        "name = \"Abreu\"\r\n",
        "rep = torch.zeros(len(name), 1, n_letters)\r\n",
        "print(rep.shape)\r\n",
        "for index, letter in enumerate(name):\r\n",
        "        print(index, letter)\r\n",
        "        pos = all_letters.find(letter)\r\n",
        "        rep[index][0][pos] = 1\r\n",
        "print(rep)"
      ],
      "execution_count": 10,
      "outputs": [
        {
          "output_type": "stream",
          "text": [
            "torch.Size([5, 1, 57])\n",
            "0 A\n",
            "1 b\n",
            "2 r\n",
            "3 e\n",
            "4 u\n",
            "tensor([[[0., 0., 0., 0., 0., 0., 0., 0., 0., 0., 0., 0., 0., 0., 0., 0., 0.,\n",
            "          0., 0., 0., 0., 0., 0., 0., 0., 0., 1., 0., 0., 0., 0., 0., 0., 0.,\n",
            "          0., 0., 0., 0., 0., 0., 0., 0., 0., 0., 0., 0., 0., 0., 0., 0., 0.,\n",
            "          0., 0., 0., 0., 0., 0.]],\n",
            "\n",
            "        [[0., 1., 0., 0., 0., 0., 0., 0., 0., 0., 0., 0., 0., 0., 0., 0., 0.,\n",
            "          0., 0., 0., 0., 0., 0., 0., 0., 0., 0., 0., 0., 0., 0., 0., 0., 0.,\n",
            "          0., 0., 0., 0., 0., 0., 0., 0., 0., 0., 0., 0., 0., 0., 0., 0., 0.,\n",
            "          0., 0., 0., 0., 0., 0.]],\n",
            "\n",
            "        [[0., 0., 0., 0., 0., 0., 0., 0., 0., 0., 0., 0., 0., 0., 0., 0., 0.,\n",
            "          1., 0., 0., 0., 0., 0., 0., 0., 0., 0., 0., 0., 0., 0., 0., 0., 0.,\n",
            "          0., 0., 0., 0., 0., 0., 0., 0., 0., 0., 0., 0., 0., 0., 0., 0., 0.,\n",
            "          0., 0., 0., 0., 0., 0.]],\n",
            "\n",
            "        [[0., 0., 0., 0., 1., 0., 0., 0., 0., 0., 0., 0., 0., 0., 0., 0., 0.,\n",
            "          0., 0., 0., 0., 0., 0., 0., 0., 0., 0., 0., 0., 0., 0., 0., 0., 0.,\n",
            "          0., 0., 0., 0., 0., 0., 0., 0., 0., 0., 0., 0., 0., 0., 0., 0., 0.,\n",
            "          0., 0., 0., 0., 0., 0.]],\n",
            "\n",
            "        [[0., 0., 0., 0., 0., 0., 0., 0., 0., 0., 0., 0., 0., 0., 0., 0., 0.,\n",
            "          0., 0., 0., 1., 0., 0., 0., 0., 0., 0., 0., 0., 0., 0., 0., 0., 0.,\n",
            "          0., 0., 0., 0., 0., 0., 0., 0., 0., 0., 0., 0., 0., 0., 0., 0., 0.,\n",
            "          0., 0., 0., 0., 0., 0.]]])\n"
          ],
          "name": "stdout"
        }
      ]
    },
    {
      "cell_type": "code",
      "metadata": {
        "id": "jTWAoX6z5Ecd"
      },
      "source": [
        "def name_rep(name):\r\n",
        "    rep = torch.zeros(len(name), 1, n_letters)\r\n",
        "    for index, letter in enumerate(name):\r\n",
        "        pos = all_letters.find(letter)\r\n",
        "        rep[index][0][pos] = 1\r\n",
        "    return rep"
      ],
      "execution_count": 11,
      "outputs": []
    },
    {
      "cell_type": "code",
      "metadata": {
        "id": "Keffr5Ru6yyM"
      },
      "source": [
        "def lang_rep(lang):\r\n",
        "    return torch.tensor([languages.index(lang)], dtype=torch.long)"
      ],
      "execution_count": 12,
      "outputs": []
    },
    {
      "cell_type": "code",
      "metadata": {
        "colab": {
          "base_uri": "https://localhost:8080/"
        },
        "id": "_o-zorGb60Ti",
        "outputId": "8dcbe337-7e3c-41d6-b742-7c52b346da90"
      },
      "source": [
        "print(name_rep('Abreu'))\r\n",
        "print(lang_rep('Portuguese'))"
      ],
      "execution_count": 13,
      "outputs": [
        {
          "output_type": "stream",
          "text": [
            "tensor([[[0., 0., 0., 0., 0., 0., 0., 0., 0., 0., 0., 0., 0., 0., 0., 0., 0.,\n",
            "          0., 0., 0., 0., 0., 0., 0., 0., 0., 1., 0., 0., 0., 0., 0., 0., 0.,\n",
            "          0., 0., 0., 0., 0., 0., 0., 0., 0., 0., 0., 0., 0., 0., 0., 0., 0.,\n",
            "          0., 0., 0., 0., 0., 0.]],\n",
            "\n",
            "        [[0., 1., 0., 0., 0., 0., 0., 0., 0., 0., 0., 0., 0., 0., 0., 0., 0.,\n",
            "          0., 0., 0., 0., 0., 0., 0., 0., 0., 0., 0., 0., 0., 0., 0., 0., 0.,\n",
            "          0., 0., 0., 0., 0., 0., 0., 0., 0., 0., 0., 0., 0., 0., 0., 0., 0.,\n",
            "          0., 0., 0., 0., 0., 0.]],\n",
            "\n",
            "        [[0., 0., 0., 0., 0., 0., 0., 0., 0., 0., 0., 0., 0., 0., 0., 0., 0.,\n",
            "          1., 0., 0., 0., 0., 0., 0., 0., 0., 0., 0., 0., 0., 0., 0., 0., 0.,\n",
            "          0., 0., 0., 0., 0., 0., 0., 0., 0., 0., 0., 0., 0., 0., 0., 0., 0.,\n",
            "          0., 0., 0., 0., 0., 0.]],\n",
            "\n",
            "        [[0., 0., 0., 0., 1., 0., 0., 0., 0., 0., 0., 0., 0., 0., 0., 0., 0.,\n",
            "          0., 0., 0., 0., 0., 0., 0., 0., 0., 0., 0., 0., 0., 0., 0., 0., 0.,\n",
            "          0., 0., 0., 0., 0., 0., 0., 0., 0., 0., 0., 0., 0., 0., 0., 0., 0.,\n",
            "          0., 0., 0., 0., 0., 0.]],\n",
            "\n",
            "        [[0., 0., 0., 0., 0., 0., 0., 0., 0., 0., 0., 0., 0., 0., 0., 0., 0.,\n",
            "          0., 0., 0., 1., 0., 0., 0., 0., 0., 0., 0., 0., 0., 0., 0., 0., 0.,\n",
            "          0., 0., 0., 0., 0., 0., 0., 0., 0., 0., 0., 0., 0., 0., 0., 0., 0.,\n",
            "          0., 0., 0., 0., 0., 0.]]])\n",
            "tensor([0])\n"
          ],
          "name": "stdout"
        }
      ]
    },
    {
      "cell_type": "markdown",
      "metadata": {
        "id": "EpcVh8jO8lWh"
      },
      "source": [
        "## Visualize Data"
      ]
    },
    {
      "cell_type": "code",
      "metadata": {
        "id": "RAdiUiTI7Ui3"
      },
      "source": [
        "count = {}\r\n",
        "for l in languages: \r\n",
        "    count[l] = 0"
      ],
      "execution_count": 14,
      "outputs": []
    },
    {
      "cell_type": "code",
      "metadata": {
        "colab": {
          "base_uri": "https://localhost:8080/"
        },
        "id": "BD2fZ3L67aBC",
        "outputId": "2f6804f2-73e9-426a-98f9-5c34d5961020"
      },
      "source": [
        "print(count)"
      ],
      "execution_count": 15,
      "outputs": [
        {
          "output_type": "stream",
          "text": [
            "{'Portuguese': 0, 'Irish': 0, 'Spanish': 0, 'Vietnamese': 0, 'Chinese': 0, 'Greek': 0, 'Czech': 0, 'Dutch': 0, 'Japanese': 0, 'French': 0, 'German': 0, 'Scottish': 0, 'English': 0, 'Russian': 0, 'Polish': 0, 'Arabic': 0, 'Korean': 0, 'Italian': 0}\n"
          ],
          "name": "stdout"
        }
      ]
    },
    {
      "cell_type": "code",
      "metadata": {
        "id": "Lx7lAZjZ7nVr"
      },
      "source": [
        "for Name, Language in data:\r\n",
        "    count[Language] += 1 "
      ],
      "execution_count": 16,
      "outputs": []
    },
    {
      "cell_type": "code",
      "metadata": {
        "colab": {
          "base_uri": "https://localhost:8080/"
        },
        "id": "mVI0jwyL8WV5",
        "outputId": "dc3282e7-14f7-4e46-a81b-b8d15c02a798"
      },
      "source": [
        "print(count)"
      ],
      "execution_count": 17,
      "outputs": [
        {
          "output_type": "stream",
          "text": [
            "{'Portuguese': 74, 'Irish': 232, 'Spanish': 298, 'Vietnamese': 73, 'Chinese': 268, 'Greek': 203, 'Czech': 519, 'Dutch': 297, 'Japanese': 991, 'French': 277, 'German': 724, 'Scottish': 100, 'English': 3668, 'Russian': 9384, 'Polish': 139, 'Arabic': 2000, 'Korean': 94, 'Italian': 709}\n"
          ],
          "name": "stdout"
        }
      ]
    },
    {
      "cell_type": "code",
      "metadata": {
        "colab": {
          "base_uri": "https://localhost:8080/",
          "height": 368
        },
        "id": "J51gAyGf8iI1",
        "outputId": "adba3a35-5cf6-40dd-a68d-2d170429a53f"
      },
      "source": [
        "plt_ = sns.barplot(list(count.keys()), list(count.values()))\r\n",
        "plt_.set_xticklabels(plt_.get_xticklabels(), rotation=90)\r\n",
        "plt.show()"
      ],
      "execution_count": 18,
      "outputs": [
        {
          "output_type": "stream",
          "text": [
            "/usr/local/lib/python3.6/dist-packages/seaborn/_decorators.py:43: FutureWarning: Pass the following variables as keyword args: x, y. From version 0.12, the only valid positional argument will be `data`, and passing other arguments without an explicit keyword will result in an error or misinterpretation.\n",
            "  FutureWarning\n"
          ],
          "name": "stderr"
        },
        {
          "output_type": "display_data",
          "data": {
            "image/png": "[encoded data removed]",
            "text/plain": [
              "<Figure size 432x288 with 1 Axes>"
            ]
          },
          "metadata": {
            "tags": [],
            "needs_background": "light"
          }
        }
      ]
    },
    {
      "cell_type": "markdown",
      "metadata": {
        "id": "fwWO-LwqHI0p"
      },
      "source": [
        "## Model Class"
      ]
    },
    {
      "cell_type": "code",
      "metadata": {
        "id": "kuuFfADwHMnS"
      },
      "source": [
        "class LSTM_net(nn.Module):\r\n",
        "    def __init__(self, input_size, hidden_size, output_size):\r\n",
        "        super(LSTM_net, self).__init__()\r\n",
        "        self.hidden_size = hidden_size\r\n",
        "        self.lstm_cell = nn.LSTM(input_size, hidden_size)\r\n",
        "        self.h2o = nn.Linear(hidden_size, output_size)\r\n",
        "        self.softmax = nn.LogSoftmax(dim=1)\r\n",
        "    \r\n",
        "    def forward(self, input, hidden = None):\r\n",
        "        out, hidden = self.lstm_cell(input, hidden)\r\n",
        "        output = self.h2o(hidden[0].view(-1, self.hidden_size))\r\n",
        "        output = self.softmax(output)\r\n",
        "        return output, hidden\r\n",
        "    \r\n",
        "    def init_hidden(self, batch_size = 1):\r\n",
        "        return (torch.zeros(1, batch_size, self.hidden_size), torch.zeros(1, batch_size, self.hidden_size))"
      ],
      "execution_count": 19,
      "outputs": []
    },
    {
      "cell_type": "code",
      "metadata": {
        "colab": {
          "base_uri": "https://localhost:8080/"
        },
        "id": "9mOpc9GSHPZo",
        "outputId": "9716010e-6e2f-4317-b812-91e22f44b260"
      },
      "source": [
        "n_hidden = 128\r\n",
        "net = LSTM_net(n_letters, n_hidden, n_languages)\r\n",
        "net = net.to(device_gpu)\r\n",
        "print(net)"
      ],
      "execution_count": 20,
      "outputs": [
        {
          "output_type": "stream",
          "text": [
            "LSTM_net(\n",
            "  (lstm_cell): LSTM(57, 128)\n",
            "  (h2o): Linear(in_features=128, out_features=18, bias=True)\n",
            "  (softmax): LogSoftmax(dim=1)\n",
            ")\n"
          ],
          "name": "stdout"
        }
      ]
    },
    {
      "cell_type": "code",
      "metadata": {
        "colab": {
          "base_uri": "https://localhost:8080/"
        },
        "id": "ebZ5f-0J0wiF",
        "outputId": "8e981d73-4260-4886-9cd6-3a917714ec0b"
      },
      "source": [
        "net.eval()\r\n",
        "name_ohe = name_rep(\"Anubhav\").to(device_gpu)\r\n",
        "output, hidden = net(name_ohe)\r\n",
        "print(output.shape)\r\n",
        "print(hidden[0].shape)\r\n",
        "print(hidden[1].shape)"
      ],
      "execution_count": 21,
      "outputs": [
        {
          "output_type": "stream",
          "text": [
            "torch.Size([1, 18])\n",
            "torch.Size([1, 1, 128])\n",
            "torch.Size([1, 1, 128])\n"
          ],
          "name": "stdout"
        }
      ]
    },
    {
      "cell_type": "code",
      "metadata": {
        "id": "ML7mcvRVp35E"
      },
      "source": [
        "index = torch.argmax(hidden[0])"
      ],
      "execution_count": 22,
      "outputs": []
    },
    {
      "cell_type": "code",
      "metadata": {
        "colab": {
          "base_uri": "https://localhost:8080/"
        },
        "id": "biBgT2g_qBzP",
        "outputId": "99c11587-1488-41c2-c99d-2c66fa13b449"
      },
      "source": [
        "print(index)\r\n",
        "print(output)\r\n",
        "print(languages[torch.argmax(output).cpu().item()])"
      ],
      "execution_count": 23,
      "outputs": [
        {
          "output_type": "stream",
          "text": [
            "tensor(91, device='cuda:0')\n",
            "tensor([[-2.9186, -2.8902, -2.7767, -2.7509, -2.9270, -2.8453, -2.8516, -2.9242,\n",
            "         -2.9171, -2.8937, -2.9575, -2.9730, -2.9455, -2.7944, -2.8589, -2.9421,\n",
            "         -2.9471, -2.9504]], device='cuda:0', grad_fn=<LogSoftmaxBackward>)\n",
            "Vietnamese\n"
          ],
          "name": "stdout"
        }
      ]
    },
    {
      "cell_type": "code",
      "metadata": {
        "id": "UcQq1COloJxQ"
      },
      "source": [
        "def infer(net, name, device = 'cpu'):\r\n",
        "    name_ohe = name_rep(name).to(device)\r\n",
        "    \r\n",
        "    output, hidden = net(name_ohe)\r\n",
        "        \r\n",
        "    if type(hidden) is tuple: # For LSTM\r\n",
        "        hidden = hidden[0]\r\n",
        "    index = torch.argmax(hidden)\r\n",
        "    \r\n",
        "    return output"
      ],
      "execution_count": 24,
      "outputs": []
    },
    {
      "cell_type": "code",
      "metadata": {
        "colab": {
          "base_uri": "https://localhost:8080/"
        },
        "id": "frCI5KacvDvD",
        "outputId": "734dd2fc-0b32-4354-e96e-af9b2a96fc40"
      },
      "source": [
        "print(languages[torch.argmax(infer(net, 'Anubhav', device_gpu)).cpu().item()])"
      ],
      "execution_count": 25,
      "outputs": [
        {
          "output_type": "stream",
          "text": [
            "Vietnamese\n"
          ],
          "name": "stdout"
        }
      ]
    },
    {
      "cell_type": "markdown",
      "metadata": {
        "id": "l748AdPGTpJV"
      },
      "source": [
        "## Evaluate Model"
      ]
    },
    {
      "cell_type": "code",
      "metadata": {
        "id": "FvRgOHbsTrU6"
      },
      "source": [
        "def dataloader(npoints, X_, y_):\r\n",
        "    to_ret = []\r\n",
        "    for i in range(npoints):\r\n",
        "        index_ = np.random.randint(len(X_))\r\n",
        "        name, lang = X_[index_], y_[index_]\r\n",
        "        to_ret.append((name, lang, name_rep(name), lang_rep(lang)))\r\n",
        "    return to_ret"
      ],
      "execution_count": 26,
      "outputs": []
    },
    {
      "cell_type": "code",
      "metadata": {
        "id": "L7OpFPFEhhl_"
      },
      "source": [
        "data = dataloader(2, X_train, Y_train)"
      ],
      "execution_count": 27,
      "outputs": []
    },
    {
      "cell_type": "code",
      "metadata": {
        "colab": {
          "base_uri": "https://localhost:8080/"
        },
        "id": "HGkKIoewhmZL",
        "outputId": "6c17311e-a0ad-4f91-d875-dd1438551523"
      },
      "source": [
        "for name, lan, nam_rep, lan_rep in data:\r\n",
        "  print(\"Name is : \", name, \" and language is : \", lan)\r\n",
        "  print(nam_rep.shape)\r\n",
        "  print(lan_rep) \r\n",
        "  output = infer(net,name, device_gpu)\r\n",
        "  val, indices = output.topk(5)\r\n",
        "  index1, index2,index3, index4,index5 = indices[0][0].cpu().item(), indices[0][1].cpu().item(), indices[0][2].cpu().item(), indices[0][3].cpu().item(),indices[0][4].cpu().item()\r\n",
        "  print(\"Top 5 predictions are : \")\r\n",
        "  print(\"Predicted language is : \",languages[index1])\r\n",
        "  print(\"Predicted language is : \",languages[index2])\r\n",
        "  print(\"Predicted language is : \",languages[index3])\r\n",
        "  print(\"Predicted language is : \",languages[index4])\r\n",
        "  print(\"Predicted language is : \",languages[index5])\r\n",
        "  print(\"==================\\n\")"
      ],
      "execution_count": 28,
      "outputs": [
        {
          "output_type": "stream",
          "text": [
            "Name is :  Awerbakh  and language is :  Russian\n",
            "torch.Size([8, 1, 57])\n",
            "tensor([13])\n",
            "Top 5 predictions are : \n",
            "Predicted language is :  Vietnamese\n",
            "Predicted language is :  Spanish\n",
            "Predicted language is :  Russian\n",
            "Predicted language is :  Polish\n",
            "Predicted language is :  Greek\n",
            "==================\n",
            "\n",
            "Name is :  Molodin  and language is :  Russian\n",
            "torch.Size([7, 1, 57])\n",
            "tensor([13])\n",
            "Top 5 predictions are : \n",
            "Predicted language is :  Vietnamese\n",
            "Predicted language is :  Spanish\n",
            "Predicted language is :  Russian\n",
            "Predicted language is :  Greek\n",
            "Predicted language is :  Polish\n",
            "==================\n",
            "\n"
          ],
          "name": "stdout"
        }
      ]
    },
    {
      "cell_type": "code",
      "metadata": {
        "id": "fJspp2JVFgj8"
      },
      "source": [
        "def eval(net, n_points, topk, X_, y_, device = 'cpu'):\r\n",
        "    net = net.eval().to(device)\r\n",
        "    data_ = dataloader(n_points, X_, y_)\r\n",
        "    correct = 0\r\n",
        "    \r\n",
        "    for name, language, name_ohe, lang_rep in data_:\r\n",
        "        \r\n",
        "        output = infer(net, name, device)\r\n",
        "        val, indices = output.topk(topk)\r\n",
        "        indices = indices.to('cpu')\r\n",
        "        \r\n",
        "        if lang_rep in indices:\r\n",
        "            correct += 1\r\n",
        "            \r\n",
        "    accuracy = correct/n_points\r\n",
        "    return accuracy"
      ],
      "execution_count": 29,
      "outputs": []
    },
    {
      "cell_type": "code",
      "metadata": {
        "colab": {
          "base_uri": "https://localhost:8080/"
        },
        "id": "VB5jEh6kFkqC",
        "outputId": "fe220677-eada-43f5-c154-a9fa1c051c39"
      },
      "source": [
        "print(\"Top 5 Precitions accuracy is : \",eval(net, 1000, 5, X_test, Y_test,device_gpu))\r\n",
        "print(\"Top 4 Precitions accuracy is : \",eval(net, 1000, 4, X_test, Y_test,device_gpu))\r\n",
        "print(\"Top 3 Precitions accuracy is : \",eval(net, 1000, 3, X_test, Y_test,device_gpu))\r\n",
        "print(\"Top 2 Precitions accuracy is : \",eval(net, 1000, 5, X_test, Y_test,device_gpu))\r\n",
        "print(\"Top 1 Precitions accuracy is : \",eval(net, 1000, 5, X_test, Y_test,device_gpu))"
      ],
      "execution_count": 30,
      "outputs": [
        {
          "output_type": "stream",
          "text": [
            "Top 5 Precitions accuracy is :  0.519\n",
            "Top 4 Precitions accuracy is :  0.512\n",
            "Top 3 Precitions accuracy is :  0.489\n",
            "Top 2 Precitions accuracy is :  0.517\n",
            "Top 1 Precitions accuracy is :  0.518\n"
          ],
          "name": "stdout"
        }
      ]
    },
    {
      "cell_type": "markdown",
      "metadata": {
        "id": "vsU9m_vXxzlN"
      },
      "source": [
        "## Batching"
      ]
    },
    {
      "cell_type": "code",
      "metadata": {
        "id": "tY0MFW-bNApg"
      },
      "source": [
        "names = ['Shyam', 'Ram', 'Anubhav']\r\n",
        "max_word_size = 7\r\n",
        "rep = torch.zeros(max_word_size, len(names), n_letters)\r\n",
        "for name_index, name in enumerate(names):\r\n",
        "  for letter_index, letter in enumerate(name):\r\n",
        "    pos = all_letters.find(letter)\r\n",
        "    rep[letter_index][name_index][pos] = 1"
      ],
      "execution_count": 31,
      "outputs": []
    },
    {
      "cell_type": "code",
      "metadata": {
        "colab": {
          "base_uri": "https://localhost:8080/"
        },
        "id": "-n981KlcOUEj",
        "outputId": "0f88b7da-d177-45ae-f6a5-7329d89248d8"
      },
      "source": [
        "print(rep.shape)\r\n",
        "print(rep[0]) #RSA"
      ],
      "execution_count": 32,
      "outputs": [
        {
          "output_type": "stream",
          "text": [
            "torch.Size([7, 3, 57])\n",
            "tensor([[0., 0., 0., 0., 0., 0., 0., 0., 0., 0., 0., 0., 0., 0., 0., 0., 0., 0.,\n",
            "         0., 0., 0., 0., 0., 0., 0., 0., 0., 0., 0., 0., 0., 0., 0., 0., 0., 0.,\n",
            "         0., 0., 0., 0., 0., 0., 0., 0., 1., 0., 0., 0., 0., 0., 0., 0., 0., 0.,\n",
            "         0., 0., 0.],\n",
            "        [0., 0., 0., 0., 0., 0., 0., 0., 0., 0., 0., 0., 0., 0., 0., 0., 0., 0.,\n",
            "         0., 0., 0., 0., 0., 0., 0., 0., 0., 0., 0., 0., 0., 0., 0., 0., 0., 0.,\n",
            "         0., 0., 0., 0., 0., 0., 0., 1., 0., 0., 0., 0., 0., 0., 0., 0., 0., 0.,\n",
            "         0., 0., 0.],\n",
            "        [0., 0., 0., 0., 0., 0., 0., 0., 0., 0., 0., 0., 0., 0., 0., 0., 0., 0.,\n",
            "         0., 0., 0., 0., 0., 0., 0., 0., 1., 0., 0., 0., 0., 0., 0., 0., 0., 0.,\n",
            "         0., 0., 0., 0., 0., 0., 0., 0., 0., 0., 0., 0., 0., 0., 0., 0., 0., 0.,\n",
            "         0., 0., 0.]])\n"
          ],
          "name": "stdout"
        }
      ]
    },
    {
      "cell_type": "code",
      "metadata": {
        "id": "kyk-SiHjxyWx"
      },
      "source": [
        "def batched_name_rep(names, max_word_size):\r\n",
        "    rep = torch.zeros(max_word_size, len(names), n_letters)\r\n",
        "    for name_index, name in enumerate(names):\r\n",
        "        for letter_index, letter in enumerate(name):\r\n",
        "            pos = all_letters.find(letter)\r\n",
        "            rep[letter_index][name_index][pos] = 1\r\n",
        "    return rep"
      ],
      "execution_count": 33,
      "outputs": []
    },
    {
      "cell_type": "code",
      "metadata": {
        "colab": {
          "base_uri": "https://localhost:8080/"
        },
        "id": "tPirHBKPM0C2",
        "outputId": "0980a33e-9eaa-4f4c-f544-6878c795097e"
      },
      "source": [
        "out_ = batched_name_rep(['Shyam', 'Ram', 'Anubhav'], 7)\r\n",
        "print(out_.shape)\r\n",
        "print(out_[0].shape)"
      ],
      "execution_count": 34,
      "outputs": [
        {
          "output_type": "stream",
          "text": [
            "torch.Size([7, 3, 57])\n",
            "torch.Size([3, 57])\n"
          ],
          "name": "stdout"
        }
      ]
    },
    {
      "cell_type": "code",
      "metadata": {
        "colab": {
          "base_uri": "https://localhost:8080/"
        },
        "id": "x_aiO92kP8Wq",
        "outputId": "fd4ad99d-9413-48d4-8cf4-0ee6815a7e1f"
      },
      "source": [
        "print(rep.size()[-1])\r\n",
        "x = rep.size()[-1]"
      ],
      "execution_count": 35,
      "outputs": [
        {
          "output_type": "stream",
          "text": [
            "57\n"
          ],
          "name": "stdout"
        }
      ]
    },
    {
      "cell_type": "code",
      "metadata": {
        "colab": {
          "base_uri": "https://localhost:8080/"
        },
        "id": "ac1T4QAJQXnl",
        "outputId": "f882e3c5-6fe7-4801-c631-2138c3dd7c71"
      },
      "source": [
        "rep.view((-1,x)).shape"
      ],
      "execution_count": 36,
      "outputs": [
        {
          "output_type": "execute_result",
          "data": {
            "text/plain": [
              "torch.Size([21, 57])"
            ]
          },
          "metadata": {
            "tags": []
          },
          "execution_count": 36
        }
      ]
    },
    {
      "cell_type": "code",
      "metadata": {
        "colab": {
          "base_uri": "https://localhost:8080/"
        },
        "id": "jSG5DBQ-Qxaw",
        "outputId": "a771344e-b510-439d-ab59-83826871a770"
      },
      "source": [
        "name_reps = rep.view((-1,x))\r\n",
        "for rows in name_reps:\r\n",
        "  if torch.sum(rows) == 0:\r\n",
        "    print('<pad>')\r\n",
        "  else:\r\n",
        "    index = rows.argmax()\r\n",
        "    print(all_letters[index])"
      ],
      "execution_count": 37,
      "outputs": [
        {
          "output_type": "stream",
          "text": [
            "S\n",
            "R\n",
            "A\n",
            "h\n",
            "a\n",
            "n\n",
            "y\n",
            "m\n",
            "u\n",
            "a\n",
            "<pad>\n",
            "b\n",
            "m\n",
            "<pad>\n",
            "h\n",
            "<pad>\n",
            "<pad>\n",
            "a\n",
            "<pad>\n",
            "<pad>\n",
            "v\n"
          ],
          "name": "stdout"
        }
      ]
    },
    {
      "cell_type": "code",
      "metadata": {
        "id": "XltUijZsP2IZ"
      },
      "source": [
        "def print_char(name_reps):\r\n",
        "    name_reps = name_reps.view((-1, name_reps.size()[-1]))\r\n",
        "    for t in name_reps: \r\n",
        "        if torch.sum(t) == 0:\r\n",
        "            print('<pad>')\r\n",
        "        else:\r\n",
        "            index = t.argmax()\r\n",
        "            print(all_letters[index])"
      ],
      "execution_count": 38,
      "outputs": []
    },
    {
      "cell_type": "code",
      "metadata": {
        "colab": {
          "base_uri": "https://localhost:8080/"
        },
        "id": "eVcn7X9aSWEv",
        "outputId": "dec99b65-a94b-477c-c254-9aa700bf9fff"
      },
      "source": [
        "print_char(out_)"
      ],
      "execution_count": 39,
      "outputs": [
        {
          "output_type": "stream",
          "text": [
            "S\n",
            "R\n",
            "A\n",
            "h\n",
            "a\n",
            "n\n",
            "y\n",
            "m\n",
            "u\n",
            "a\n",
            "<pad>\n",
            "b\n",
            "m\n",
            "<pad>\n",
            "h\n",
            "<pad>\n",
            "<pad>\n",
            "a\n",
            "<pad>\n",
            "<pad>\n",
            "v\n"
          ],
          "name": "stdout"
        }
      ]
    },
    {
      "cell_type": "code",
      "metadata": {
        "id": "BAEMz0suWIX4"
      },
      "source": [
        "langs = languages[0:3]"
      ],
      "execution_count": 40,
      "outputs": []
    },
    {
      "cell_type": "code",
      "metadata": {
        "colab": {
          "base_uri": "https://localhost:8080/"
        },
        "id": "Hcn9dC-8SqRO",
        "outputId": "26593fa5-6c86-4969-90cf-2a38ad937774"
      },
      "source": [
        "rep = torch.zeros([len(langs)], dtype=torch.long)\r\n",
        "print(rep.shape)"
      ],
      "execution_count": 41,
      "outputs": [
        {
          "output_type": "stream",
          "text": [
            "torch.Size([3])\n"
          ],
          "name": "stdout"
        }
      ]
    },
    {
      "cell_type": "code",
      "metadata": {
        "colab": {
          "base_uri": "https://localhost:8080/"
        },
        "id": "CchnGIzFWb7W",
        "outputId": "4a04a3ee-b87d-4508-ccda-747bb9f79ca0"
      },
      "source": [
        "for index, lang in enumerate(langs):\r\n",
        "  print(languages.index(lang))\r\n",
        "  rep[index] = languages.index(lang)\r\n",
        "print(rep)"
      ],
      "execution_count": 42,
      "outputs": [
        {
          "output_type": "stream",
          "text": [
            "0\n",
            "1\n",
            "2\n",
            "tensor([0, 1, 2])\n"
          ],
          "name": "stdout"
        }
      ]
    },
    {
      "cell_type": "code",
      "metadata": {
        "id": "Pp527pnrSl_T"
      },
      "source": [
        "def batched_lang_rep(langs):\r\n",
        "    rep = torch.zeros([len(langs)], dtype=torch.long)\r\n",
        "    for index, lang in enumerate(langs):\r\n",
        "        rep[index] = languages.index(lang)\r\n",
        "    return rep"
      ],
      "execution_count": 43,
      "outputs": []
    },
    {
      "cell_type": "code",
      "metadata": {
        "colab": {
          "base_uri": "https://localhost:8080/"
        },
        "id": "RS3qo3zuXdli",
        "outputId": "5217f3f7-1aee-4881-cc75-bc1f677beace"
      },
      "source": [
        "langs = [languages[0], languages[15], languages[3] ]\r\n",
        "batched_lang_rep(langs)"
      ],
      "execution_count": 44,
      "outputs": [
        {
          "output_type": "execute_result",
          "data": {
            "text/plain": [
              "tensor([ 0, 15,  3])"
            ]
          },
          "metadata": {
            "tags": []
          },
          "execution_count": 44
        }
      ]
    },
    {
      "cell_type": "code",
      "metadata": {
        "id": "QqWRXlu5X73I"
      },
      "source": [
        "def batched_dataloader(npoints, X_, y_, verbose=False, device = 'cpu'):\r\n",
        "    names = []\r\n",
        "    langs = []\r\n",
        "    X_lengths = []\r\n",
        "    \r\n",
        "    for i in range(npoints):\r\n",
        "        index_ = np.random.randint(len(X_))\r\n",
        "        name, lang = X_[index_], y_[index_]\r\n",
        "        X_lengths.append(len(name))\r\n",
        "        names.append(name)\r\n",
        "        langs.append(lang)\r\n",
        "    max_length = max(X_lengths)\r\n",
        "    \r\n",
        "    names_rep = batched_name_rep(names, max_length).to(device)\r\n",
        "    langs_rep = batched_lang_rep(langs).to(device)\r\n",
        "    \r\n",
        "    padded_names_rep = torch.nn.utils.rnn.pack_padded_sequence(names_rep, X_lengths, enforce_sorted = False)\r\n",
        "    \r\n",
        "    if verbose:\r\n",
        "        print(names_rep.shape, padded_names_rep.data.shape)\r\n",
        "        print('--')\r\n",
        "    \r\n",
        "    if verbose:\r\n",
        "        print(names)\r\n",
        "        print_char(names_rep)\r\n",
        "        print('--')\r\n",
        "    \r\n",
        "    if verbose:\r\n",
        "        print_char(padded_names_rep.data)\r\n",
        "        print('Lang Rep', langs_rep.data)\r\n",
        "        print('Batch sizes', padded_names_rep.batch_sizes)\r\n",
        "    \r\n",
        "    \r\n",
        "    return padded_names_rep.to(device), langs_rep"
      ],
      "execution_count": 45,
      "outputs": []
    },
    {
      "cell_type": "code",
      "metadata": {
        "colab": {
          "base_uri": "https://localhost:8080/"
        },
        "id": "baZ818bDZ_Yz",
        "outputId": "d2a6aeb3-c92c-4f6b-a519-646c2962b3fe"
      },
      "source": [
        "padded_names, langs_rep = batched_dataloader(2, X_train, Y_train, True,device_gpu)"
      ],
      "execution_count": 46,
      "outputs": [
        {
          "output_type": "stream",
          "text": [
            "torch.Size([8, 2, 57]) torch.Size([15, 57])\n",
            "--\n",
            "['Vertelko', 'Dounias']\n",
            "V\n",
            "D\n",
            "e\n",
            "o\n",
            "r\n",
            "u\n",
            "t\n",
            "n\n",
            "e\n",
            "i\n",
            "l\n",
            "a\n",
            "k\n",
            "s\n",
            "o\n",
            "<pad>\n",
            "--\n",
            "V\n",
            "D\n",
            "e\n",
            "o\n",
            "r\n",
            "u\n",
            "t\n",
            "n\n",
            "e\n",
            "i\n",
            "l\n",
            "a\n",
            "k\n",
            "s\n",
            "o\n",
            "Lang Rep tensor([13,  5], device='cuda:0')\n",
            "Batch sizes tensor([2, 2, 2, 2, 2, 2, 2, 1])\n"
          ],
          "name": "stdout"
        }
      ]
    },
    {
      "cell_type": "markdown",
      "metadata": {
        "id": "tOKqQbV4FqVF"
      },
      "source": [
        "## Training"
      ]
    },
    {
      "cell_type": "code",
      "metadata": {
        "id": "hV1JNP5WFr4v"
      },
      "source": [
        "def train(net, opt, criterion, n_points,device = 'cpu'):\r\n",
        "    \r\n",
        "    opt.zero_grad()\r\n",
        "    total_loss = 0\r\n",
        "    \r\n",
        "    data_ = dataloader(n_points, X_train, Y_train)\r\n",
        "    \r\n",
        "    total_loss = 0\r\n",
        "    \r\n",
        "    for name, language, name_ohe, lang_rep in data_:\r\n",
        "\r\n",
        "        hidden = net.init_hidden()\r\n",
        "\r\n",
        "        for i in range(name_ohe.size()[0]):\r\n",
        "            output, hidden = net(name_ohe[i:i+1].to(device), hidden.to(device))\r\n",
        "            \r\n",
        "        loss = criterion(output, lang_rep.to(device))\r\n",
        "        loss.backward(retain_graph=True)\r\n",
        "        \r\n",
        "        total_loss += loss\r\n",
        "        \r\n",
        "    opt.step()       \r\n",
        "    return total_loss/n_points"
      ],
      "execution_count": 47,
      "outputs": []
    },
    {
      "cell_type": "code",
      "metadata": {
        "id": "_tdVR9uVbb82"
      },
      "source": [
        "def train_batch(net, opt, criterion, n_points, device = 'cpu'):\r\n",
        "    \r\n",
        "    net.train().to(device)\r\n",
        "    opt.zero_grad()\r\n",
        "    \r\n",
        "    batch_input, batch_groundtruth = batched_dataloader(n_points, X_train, Y_train, False, device)\r\n",
        "    \r\n",
        "    output, hidden = net(batch_input)\r\n",
        "    \r\n",
        "    loss = criterion(output, batch_groundtruth)\r\n",
        "    \r\n",
        "    loss.backward()\r\n",
        "    opt.step()\r\n",
        "    return loss"
      ],
      "execution_count": 48,
      "outputs": []
    },
    {
      "cell_type": "code",
      "metadata": {
        "id": "1VhXtMl9GCET"
      },
      "source": [
        "net = LSTM_net(n_letters, n_hidden, n_languages)\r\n",
        "net = net.to(device_gpu)\r\n",
        "criterion = nn.NLLLoss()\r\n",
        "opt = optim.SGD(net.parameters(), lr=0.01, momentum=0.9)"
      ],
      "execution_count": 49,
      "outputs": []
    },
    {
      "cell_type": "code",
      "metadata": {
        "colab": {
          "base_uri": "https://localhost:8080/"
        },
        "id": "e6OL-lCrGWtc",
        "outputId": "7e941f1c-c4a9-48fb-83b5-c9d6d2e85441"
      },
      "source": [
        "%%time \r\n",
        "train_batch(net, opt, criterion, 256,device_gpu)"
      ],
      "execution_count": 50,
      "outputs": [
        {
          "output_type": "stream",
          "text": [
            "CPU times: user 26.7 ms, sys: 346 µs, total: 27.1 ms\n",
            "Wall time: 37 ms\n"
          ],
          "name": "stdout"
        },
        {
          "output_type": "execute_result",
          "data": {
            "text/plain": [
              "tensor(2.8555, device='cuda:0', grad_fn=<NllLossBackward>)"
            ]
          },
          "metadata": {
            "tags": []
          },
          "execution_count": 50
        }
      ]
    },
    {
      "cell_type": "markdown",
      "metadata": {
        "id": "r-zUR7I9mauD"
      },
      "source": [
        "## Full Training Step"
      ]
    },
    {
      "cell_type": "code",
      "metadata": {
        "id": "kjzJ5Z3EmfoR"
      },
      "source": [
        "def train_setup(net, lr = 0.01, n_batches = 100, batch_size = 10, momentum = 0.9, display_freq=5, device = 'cpu'):\r\n",
        "    net = net.to(device)\r\n",
        "    criterion = nn.NLLLoss()\r\n",
        "    opt = optim.SGD(net.parameters(), lr=lr, momentum=momentum)\r\n",
        "    \r\n",
        "    loss_arr = np.zeros(n_batches + 1)\r\n",
        "    \r\n",
        "    for i in range(n_batches):\r\n",
        "        loss_arr[i+1] = (loss_arr[i]*i + train_batch(net, opt, criterion, batch_size, device))/(i + 1)\r\n",
        "        \r\n",
        "        if i%display_freq == display_freq-1:\r\n",
        "            clear_output(wait=True)\r\n",
        "            \r\n",
        "            print('Iteration', i, 'Loss', loss_arr[i])\r\n",
        "            plt.figure()\r\n",
        "            plt.plot(loss_arr[1:i], '-*')\r\n",
        "            plt.xlabel('Iteration')\r\n",
        "            plt.ylabel('Loss')\r\n",
        "            plt.show()\r\n",
        "            print('\\n\\n')\r\n",
        "            \r\n",
        "    print('Top-5:', eval(net, len(X_test), 5, X_test, Y_test, device)) \r\n",
        "    print('Top-4:', eval(net, len(X_test), 4, X_test, Y_test, device))\r\n",
        "    print('Top-3:', eval(net, len(X_test), 3, X_test, Y_test, device)) \r\n",
        "    print('Top-2:', eval(net, len(X_test), 2, X_test, Y_test, device))\r\n",
        "    print('Top-1:', eval(net, len(X_test), 1, X_test, Y_test, device))                       "
      ],
      "execution_count": 51,
      "outputs": []
    },
    {
      "cell_type": "code",
      "metadata": {
        "colab": {
          "base_uri": "https://localhost:8080/",
          "height": 466
        },
        "id": "2B4jhIypmlz8",
        "outputId": "ef412c2d-c917-47f4-9668-fa29d177355f"
      },
      "source": [
        "%%time\r\n",
        "net = LSTM_net(n_letters, 128, n_languages)\r\n",
        "train_setup(net, lr=0.15, n_batches=5000, batch_size = 512, display_freq=500) # CPU Training example"
      ],
      "execution_count": 52,
      "outputs": [
        {
          "output_type": "stream",
          "text": [
            "Iteration 4999 Loss 0.36073705554008484\n"
          ],
          "name": "stdout"
        },
        {
          "output_type": "display_data",
          "data": {
            "image/png": "[encoded data removed]",
            "text/plain": [
              "<Figure size 432x288 with 1 Axes>"
            ]
          },
          "metadata": {
            "tags": [],
            "needs_background": "light"
          }
        },
        {
          "output_type": "stream",
          "text": [
            "\n",
            "\n",
            "\n",
            "Top-5: 0.9645885286783042\n",
            "Top-4: 0.9488778054862843\n",
            "Top-3: 0.9219451371571072\n",
            "Top-2: 0.884788029925187\n",
            "Top-1: 0.7952618453865337\n",
            "CPU times: user 10min 25s, sys: 9.66 s, total: 10min 35s\n",
            "Wall time: 10min 35s\n"
          ],
          "name": "stdout"
        }
      ]
    },
    {
      "cell_type": "code",
      "metadata": {
        "colab": {
          "base_uri": "https://localhost:8080/",
          "height": 467
        },
        "id": "j5qfWxeoh5K6",
        "outputId": "067cbd30-065f-4405-ea1e-f761fbf18230"
      },
      "source": [
        "%%time\r\n",
        "net = LSTM_net(n_letters, 128, n_languages)\r\n",
        "train_setup(net, lr=0.15, n_batches=5000, batch_size = 512, display_freq=100, device = device_gpu) # GPU Training Example"
      ],
      "execution_count": 53,
      "outputs": [
        {
          "output_type": "stream",
          "text": [
            "Iteration 4999 Loss 0.36084845662117004\n"
          ],
          "name": "stdout"
        },
        {
          "output_type": "display_data",
          "data": {
            "image/png": "[encoded data removed]",
            "text/plain": [
              "<Figure size 432x288 with 1 Axes>"
            ]
          },
          "metadata": {
            "tags": [],
            "needs_background": "light"
          }
        },
        {
          "output_type": "stream",
          "text": [
            "\n",
            "\n",
            "\n",
            "Top-5: 0.9623441396508728\n",
            "Top-4: 0.9371571072319203\n",
            "Top-3: 0.9229426433915212\n",
            "Top-2: 0.873067331670823\n",
            "Top-1: 0.7882793017456359\n",
            "CPU times: user 3min 28s, sys: 2.44 s, total: 3min 31s\n",
            "Wall time: 3min 31s\n"
          ],
          "name": "stdout"
        }
      ]
    },
    {
      "cell_type": "code",
      "metadata": {
        "colab": {
          "base_uri": "https://localhost:8080/"
        },
        "id": "ReoWZEVvuyDD",
        "outputId": "b5c31bb4-84f3-4408-d0c7-97bae8388f5d"
      },
      "source": [
        "data = dataloader(10, X_test, Y_test)\r\n",
        "print(\"\\n\")\r\n",
        "for name, lan, nam_rep, lan_rep in data:\r\n",
        "  print(\"Name is : \", name, \" and language is : \", lan, \"(\", lan_rep.item(),\")\")\r\n",
        "  print(nam_rep.shape) \r\n",
        "  output = infer(net,name, device_gpu)\r\n",
        "  val, indices = output.topk(5)\r\n",
        "  print(\"Top 5 predictions are : \")\r\n",
        "  for index in indices[0]:\r\n",
        "    print(\"Predicted language is : \", languages[index.item()], \"(\",index.item(),\")\" )\r\n",
        "  print(\"\\n==================\\n\")"
      ],
      "execution_count": 54,
      "outputs": [
        {
          "output_type": "stream",
          "text": [
            "\n",
            "\n",
            "Name is :  Haddad  and language is :  Arabic ( 15 )\n",
            "torch.Size([6, 1, 57])\n",
            "Top 5 predictions are : \n",
            "Predicted language is :  Arabic ( 15 )\n",
            "Predicted language is :  German ( 10 )\n",
            "Predicted language is :  English ( 12 )\n",
            "Predicted language is :  French ( 9 )\n",
            "Predicted language is :  Scottish ( 11 )\n",
            "\n",
            "==================\n",
            "\n",
            "Name is :  Gulchinsky  and language is :  Russian ( 13 )\n",
            "torch.Size([10, 1, 57])\n",
            "Top 5 predictions are : \n",
            "Predicted language is :  Russian ( 13 )\n",
            "Predicted language is :  Czech ( 6 )\n",
            "Predicted language is :  Polish ( 14 )\n",
            "Predicted language is :  Scottish ( 11 )\n",
            "Predicted language is :  English ( 12 )\n",
            "\n",
            "==================\n",
            "\n",
            "Name is :  Bachelis  and language is :  Russian ( 13 )\n",
            "torch.Size([8, 1, 57])\n",
            "Top 5 predictions are : \n",
            "Predicted language is :  Greek ( 5 )\n",
            "Predicted language is :  Russian ( 13 )\n",
            "Predicted language is :  Spanish ( 2 )\n",
            "Predicted language is :  English ( 12 )\n",
            "Predicted language is :  Portuguese ( 0 )\n",
            "\n",
            "==================\n",
            "\n",
            "Name is :  Pham  and language is :  Vietnamese ( 3 )\n",
            "torch.Size([4, 1, 57])\n",
            "Top 5 predictions are : \n",
            "Predicted language is :  Vietnamese ( 3 )\n",
            "Predicted language is :  English ( 12 )\n",
            "Predicted language is :  Arabic ( 15 )\n",
            "Predicted language is :  Russian ( 13 )\n",
            "Predicted language is :  Chinese ( 4 )\n",
            "\n",
            "==================\n",
            "\n",
            "Name is :  Dobson  and language is :  English ( 12 )\n",
            "torch.Size([6, 1, 57])\n",
            "Top 5 predictions are : \n",
            "Predicted language is :  English ( 12 )\n",
            "Predicted language is :  Scottish ( 11 )\n",
            "Predicted language is :  Irish ( 1 )\n",
            "Predicted language is :  French ( 9 )\n",
            "Predicted language is :  German ( 10 )\n",
            "\n",
            "==================\n",
            "\n",
            "Name is :  Gulyga  and language is :  Russian ( 13 )\n",
            "torch.Size([6, 1, 57])\n",
            "Top 5 predictions are : \n",
            "Predicted language is :  English ( 12 )\n",
            "Predicted language is :  Russian ( 13 )\n",
            "Predicted language is :  Spanish ( 2 )\n",
            "Predicted language is :  Irish ( 1 )\n",
            "Predicted language is :  Scottish ( 11 )\n",
            "\n",
            "==================\n",
            "\n",
            "Name is :  Crespo  and language is :  Portuguese ( 0 )\n",
            "torch.Size([6, 1, 57])\n",
            "Top 5 predictions are : \n",
            "Predicted language is :  Spanish ( 2 )\n",
            "Predicted language is :  Italian ( 17 )\n",
            "Predicted language is :  Portuguese ( 0 )\n",
            "Predicted language is :  English ( 12 )\n",
            "Predicted language is :  Greek ( 5 )\n",
            "\n",
            "==================\n",
            "\n",
            "Name is :  Benesch  and language is :  Czech ( 6 )\n",
            "torch.Size([7, 1, 57])\n",
            "Top 5 predictions are : \n",
            "Predicted language is :  German ( 10 )\n",
            "Predicted language is :  Czech ( 6 )\n",
            "Predicted language is :  Italian ( 17 )\n",
            "Predicted language is :  Russian ( 13 )\n",
            "Predicted language is :  Polish ( 14 )\n",
            "\n",
            "==================\n",
            "\n",
            "Name is :  Atiyeh  and language is :  Arabic ( 15 )\n",
            "torch.Size([6, 1, 57])\n",
            "Top 5 predictions are : \n",
            "Predicted language is :  Arabic ( 15 )\n",
            "Predicted language is :  English ( 12 )\n",
            "Predicted language is :  Russian ( 13 )\n",
            "Predicted language is :  Irish ( 1 )\n",
            "Predicted language is :  French ( 9 )\n",
            "\n",
            "==================\n",
            "\n",
            "Name is :  Zimonin  and language is :  Russian ( 13 )\n",
            "torch.Size([7, 1, 57])\n",
            "Top 5 predictions are : \n",
            "Predicted language is :  Russian ( 13 )\n",
            "Predicted language is :  Greek ( 5 )\n",
            "Predicted language is :  Czech ( 6 )\n",
            "Predicted language is :  French ( 9 )\n",
            "Predicted language is :  Italian ( 17 )\n",
            "\n",
            "==================\n",
            "\n"
          ],
          "name": "stdout"
        }
      ]
    }
  ]
}