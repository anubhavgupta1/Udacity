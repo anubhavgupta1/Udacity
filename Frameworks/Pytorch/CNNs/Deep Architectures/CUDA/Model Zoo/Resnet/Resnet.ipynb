{
  "nbformat": 4,
  "nbformat_minor": 0,
  "metadata": {
    "colab": {
      "name": "Untitled21.ipynb",
      "provenance": [],
      "authorship_tag": "ABX9TyOYvcNKjkm8Nx+2w676+pbJ",
      "include_colab_link": true
    },
    "kernelspec": {
      "name": "python3",
      "display_name": "Python 3"
    },
    "accelerator": "GPU",
    "widgets": {
      "application/vnd.jupyter.widget-state+json": {
        "169a36dc3b0948fabcf3952fd3246a34": {
          "model_module": "@jupyter-widgets/controls",
          "model_name": "HBoxModel",
          "state": {
            "_view_name": "HBoxView",
            "_dom_classes": [],
            "_model_name": "HBoxModel",
            "_view_module": "@jupyter-widgets/controls",
            "_model_module_version": "1.5.0",
            "_view_count": null,
            "_view_module_version": "1.5.0",
            "box_style": "",
            "layout": "IPY_MODEL_35fe7825e6194d289bca43045f793b73",
            "_model_module": "@jupyter-widgets/controls",
            "children": [
              "IPY_MODEL_910893b1892341178876f977d6228f06",
              "IPY_MODEL_285bb4c182d54438badbcd2a6e22ac3d"
            ]
          }
        },
        "35fe7825e6194d289bca43045f793b73": {
          "model_module": "@jupyter-widgets/base",
          "model_name": "LayoutModel",
          "state": {
            "_view_name": "LayoutView",
            "grid_template_rows": null,
            "right": null,
            "justify_content": null,
            "_view_module": "@jupyter-widgets/base",
            "overflow": null,
            "_model_module_version": "1.2.0",
            "_view_count": null,
            "flex_flow": null,
            "width": null,
            "min_width": null,
            "border": null,
            "align_items": null,
            "bottom": null,
            "_model_module": "@jupyter-widgets/base",
            "top": null,
            "grid_column": null,
            "overflow_y": null,
            "overflow_x": null,
            "grid_auto_flow": null,
            "grid_area": null,
            "grid_template_columns": null,
            "flex": null,
            "_model_name": "LayoutModel",
            "justify_items": null,
            "grid_row": null,
            "max_height": null,
            "align_content": null,
            "visibility": null,
            "align_self": null,
            "height": null,
            "min_height": null,
            "padding": null,
            "grid_auto_rows": null,
            "grid_gap": null,
            "max_width": null,
            "order": null,
            "_view_module_version": "1.2.0",
            "grid_template_areas": null,
            "object_position": null,
            "object_fit": null,
            "grid_auto_columns": null,
            "margin": null,
            "display": null,
            "left": null
          }
        },
        "910893b1892341178876f977d6228f06": {
          "model_module": "@jupyter-widgets/controls",
          "model_name": "FloatProgressModel",
          "state": {
            "_view_name": "ProgressView",
            "style": "IPY_MODEL_e2bef8c94f434273a129f0b74caa7b7f",
            "_dom_classes": [],
            "description": "",
            "_model_name": "FloatProgressModel",
            "bar_style": "info",
            "max": 1,
            "_view_module": "@jupyter-widgets/controls",
            "_model_module_version": "1.5.0",
            "value": 1,
            "_view_count": null,
            "_view_module_version": "1.5.0",
            "orientation": "horizontal",
            "min": 0,
            "description_tooltip": null,
            "_model_module": "@jupyter-widgets/controls",
            "layout": "IPY_MODEL_0b5194f53acb4254a7d1cce45401f31c"
          }
        },
        "285bb4c182d54438badbcd2a6e22ac3d": {
          "model_module": "@jupyter-widgets/controls",
          "model_name": "HTMLModel",
          "state": {
            "_view_name": "HTMLView",
            "style": "IPY_MODEL_d75a617950d4442b8fe63e2bf78dd6af",
            "_dom_classes": [],
            "description": "",
            "_model_name": "HTMLModel",
            "placeholder": "​",
            "_view_module": "@jupyter-widgets/controls",
            "_model_module_version": "1.5.0",
            "value": " 170500096/? [00:20&lt;00:00, 98498124.32it/s]",
            "_view_count": null,
            "_view_module_version": "1.5.0",
            "description_tooltip": null,
            "_model_module": "@jupyter-widgets/controls",
            "layout": "IPY_MODEL_cf34050e15d04aad97240719f98fc454"
          }
        },
        "e2bef8c94f434273a129f0b74caa7b7f": {
          "model_module": "@jupyter-widgets/controls",
          "model_name": "ProgressStyleModel",
          "state": {
            "_view_name": "StyleView",
            "_model_name": "ProgressStyleModel",
            "description_width": "initial",
            "_view_module": "@jupyter-widgets/base",
            "_model_module_version": "1.5.0",
            "_view_count": null,
            "_view_module_version": "1.2.0",
            "bar_color": null,
            "_model_module": "@jupyter-widgets/controls"
          }
        },
        "0b5194f53acb4254a7d1cce45401f31c": {
          "model_module": "@jupyter-widgets/base",
          "model_name": "LayoutModel",
          "state": {
            "_view_name": "LayoutView",
            "grid_template_rows": null,
            "right": null,
            "justify_content": null,
            "_view_module": "@jupyter-widgets/base",
            "overflow": null,
            "_model_module_version": "1.2.0",
            "_view_count": null,
            "flex_flow": null,
            "width": null,
            "min_width": null,
            "border": null,
            "align_items": null,
            "bottom": null,
            "_model_module": "@jupyter-widgets/base",
            "top": null,
            "grid_column": null,
            "overflow_y": null,
            "overflow_x": null,
            "grid_auto_flow": null,
            "grid_area": null,
            "grid_template_columns": null,
            "flex": null,
            "_model_name": "LayoutModel",
            "justify_items": null,
            "grid_row": null,
            "max_height": null,
            "align_content": null,
            "visibility": null,
            "align_self": null,
            "height": null,
            "min_height": null,
            "padding": null,
            "grid_auto_rows": null,
            "grid_gap": null,
            "max_width": null,
            "order": null,
            "_view_module_version": "1.2.0",
            "grid_template_areas": null,
            "object_position": null,
            "object_fit": null,
            "grid_auto_columns": null,
            "margin": null,
            "display": null,
            "left": null
          }
        },
        "d75a617950d4442b8fe63e2bf78dd6af": {
          "model_module": "@jupyter-widgets/controls",
          "model_name": "DescriptionStyleModel",
          "state": {
            "_view_name": "StyleView",
            "_model_name": "DescriptionStyleModel",
            "description_width": "",
            "_view_module": "@jupyter-widgets/base",
            "_model_module_version": "1.5.0",
            "_view_count": null,
            "_view_module_version": "1.2.0",
            "_model_module": "@jupyter-widgets/controls"
          }
        },
        "cf34050e15d04aad97240719f98fc454": {
          "model_module": "@jupyter-widgets/base",
          "model_name": "LayoutModel",
          "state": {
            "_view_name": "LayoutView",
            "grid_template_rows": null,
            "right": null,
            "justify_content": null,
            "_view_module": "@jupyter-widgets/base",
            "overflow": null,
            "_model_module_version": "1.2.0",
            "_view_count": null,
            "flex_flow": null,
            "width": null,
            "min_width": null,
            "border": null,
            "align_items": null,
            "bottom": null,
            "_model_module": "@jupyter-widgets/base",
            "top": null,
            "grid_column": null,
            "overflow_y": null,
            "overflow_x": null,
            "grid_auto_flow": null,
            "grid_area": null,
            "grid_template_columns": null,
            "flex": null,
            "_model_name": "LayoutModel",
            "justify_items": null,
            "grid_row": null,
            "max_height": null,
            "align_content": null,
            "visibility": null,
            "align_self": null,
            "height": null,
            "min_height": null,
            "padding": null,
            "grid_auto_rows": null,
            "grid_gap": null,
            "max_width": null,
            "order": null,
            "_view_module_version": "1.2.0",
            "grid_template_areas": null,
            "object_position": null,
            "object_fit": null,
            "grid_auto_columns": null,
            "margin": null,
            "display": null,
            "left": null
          }
        },
        "1452c1ed87ef43629fae533f26716d6f": {
          "model_module": "@jupyter-widgets/controls",
          "model_name": "HBoxModel",
          "state": {
            "_view_name": "HBoxView",
            "_dom_classes": [],
            "_model_name": "HBoxModel",
            "_view_module": "@jupyter-widgets/controls",
            "_model_module_version": "1.5.0",
            "_view_count": null,
            "_view_module_version": "1.5.0",
            "box_style": "",
            "layout": "IPY_MODEL_14d807fd78df4f8282facf5b9977cab0",
            "_model_module": "@jupyter-widgets/controls",
            "children": [
              "IPY_MODEL_1417d9fcffc549c4acd8d4cdcd9edbe7",
              "IPY_MODEL_f0bb1ec560a349dabeb8cc101423d029"
            ]
          }
        },
        "14d807fd78df4f8282facf5b9977cab0": {
          "model_module": "@jupyter-widgets/base",
          "model_name": "LayoutModel",
          "state": {
            "_view_name": "LayoutView",
            "grid_template_rows": null,
            "right": null,
            "justify_content": null,
            "_view_module": "@jupyter-widgets/base",
            "overflow": null,
            "_model_module_version": "1.2.0",
            "_view_count": null,
            "flex_flow": null,
            "width": null,
            "min_width": null,
            "border": null,
            "align_items": null,
            "bottom": null,
            "_model_module": "@jupyter-widgets/base",
            "top": null,
            "grid_column": null,
            "overflow_y": null,
            "overflow_x": null,
            "grid_auto_flow": null,
            "grid_area": null,
            "grid_template_columns": null,
            "flex": null,
            "_model_name": "LayoutModel",
            "justify_items": null,
            "grid_row": null,
            "max_height": null,
            "align_content": null,
            "visibility": null,
            "align_self": null,
            "height": null,
            "min_height": null,
            "padding": null,
            "grid_auto_rows": null,
            "grid_gap": null,
            "max_width": null,
            "order": null,
            "_view_module_version": "1.2.0",
            "grid_template_areas": null,
            "object_position": null,
            "object_fit": null,
            "grid_auto_columns": null,
            "margin": null,
            "display": null,
            "left": null
          }
        },
        "1417d9fcffc549c4acd8d4cdcd9edbe7": {
          "model_module": "@jupyter-widgets/controls",
          "model_name": "FloatProgressModel",
          "state": {
            "_view_name": "ProgressView",
            "style": "IPY_MODEL_901358fbb6a14d2f8499c238ea7eaf17",
            "_dom_classes": [],
            "description": "100%",
            "_model_name": "FloatProgressModel",
            "bar_style": "success",
            "max": 46827520,
            "_view_module": "@jupyter-widgets/controls",
            "_model_module_version": "1.5.0",
            "value": 46827520,
            "_view_count": null,
            "_view_module_version": "1.5.0",
            "orientation": "horizontal",
            "min": 0,
            "description_tooltip": null,
            "_model_module": "@jupyter-widgets/controls",
            "layout": "IPY_MODEL_ca41d32dfe624ff88b0106c9eccea715"
          }
        },
        "f0bb1ec560a349dabeb8cc101423d029": {
          "model_module": "@jupyter-widgets/controls",
          "model_name": "HTMLModel",
          "state": {
            "_view_name": "HTMLView",
            "style": "IPY_MODEL_a4a91636b12d4d2796f999302b4e3fc2",
            "_dom_classes": [],
            "description": "",
            "_model_name": "HTMLModel",
            "placeholder": "​",
            "_view_module": "@jupyter-widgets/controls",
            "_model_module_version": "1.5.0",
            "value": " 44.7M/44.7M [00:00&lt;00:00, 61.9MB/s]",
            "_view_count": null,
            "_view_module_version": "1.5.0",
            "description_tooltip": null,
            "_model_module": "@jupyter-widgets/controls",
            "layout": "IPY_MODEL_e26e054e670a40eba474f0be41bb8106"
          }
        },
        "901358fbb6a14d2f8499c238ea7eaf17": {
          "model_module": "@jupyter-widgets/controls",
          "model_name": "ProgressStyleModel",
          "state": {
            "_view_name": "StyleView",
            "_model_name": "ProgressStyleModel",
            "description_width": "initial",
            "_view_module": "@jupyter-widgets/base",
            "_model_module_version": "1.5.0",
            "_view_count": null,
            "_view_module_version": "1.2.0",
            "bar_color": null,
            "_model_module": "@jupyter-widgets/controls"
          }
        },
        "ca41d32dfe624ff88b0106c9eccea715": {
          "model_module": "@jupyter-widgets/base",
          "model_name": "LayoutModel",
          "state": {
            "_view_name": "LayoutView",
            "grid_template_rows": null,
            "right": null,
            "justify_content": null,
            "_view_module": "@jupyter-widgets/base",
            "overflow": null,
            "_model_module_version": "1.2.0",
            "_view_count": null,
            "flex_flow": null,
            "width": null,
            "min_width": null,
            "border": null,
            "align_items": null,
            "bottom": null,
            "_model_module": "@jupyter-widgets/base",
            "top": null,
            "grid_column": null,
            "overflow_y": null,
            "overflow_x": null,
            "grid_auto_flow": null,
            "grid_area": null,
            "grid_template_columns": null,
            "flex": null,
            "_model_name": "LayoutModel",
            "justify_items": null,
            "grid_row": null,
            "max_height": null,
            "align_content": null,
            "visibility": null,
            "align_self": null,
            "height": null,
            "min_height": null,
            "padding": null,
            "grid_auto_rows": null,
            "grid_gap": null,
            "max_width": null,
            "order": null,
            "_view_module_version": "1.2.0",
            "grid_template_areas": null,
            "object_position": null,
            "object_fit": null,
            "grid_auto_columns": null,
            "margin": null,
            "display": null,
            "left": null
          }
        },
        "a4a91636b12d4d2796f999302b4e3fc2": {
          "model_module": "@jupyter-widgets/controls",
          "model_name": "DescriptionStyleModel",
          "state": {
            "_view_name": "StyleView",
            "_model_name": "DescriptionStyleModel",
            "description_width": "",
            "_view_module": "@jupyter-widgets/base",
            "_model_module_version": "1.5.0",
            "_view_count": null,
            "_view_module_version": "1.2.0",
            "_model_module": "@jupyter-widgets/controls"
          }
        },
        "e26e054e670a40eba474f0be41bb8106": {
          "model_module": "@jupyter-widgets/base",
          "model_name": "LayoutModel",
          "state": {
            "_view_name": "LayoutView",
            "grid_template_rows": null,
            "right": null,
            "justify_content": null,
            "_view_module": "@jupyter-widgets/base",
            "overflow": null,
            "_model_module_version": "1.2.0",
            "_view_count": null,
            "flex_flow": null,
            "width": null,
            "min_width": null,
            "border": null,
            "align_items": null,
            "bottom": null,
            "_model_module": "@jupyter-widgets/base",
            "top": null,
            "grid_column": null,
            "overflow_y": null,
            "overflow_x": null,
            "grid_auto_flow": null,
            "grid_area": null,
            "grid_template_columns": null,
            "flex": null,
            "_model_name": "LayoutModel",
            "justify_items": null,
            "grid_row": null,
            "max_height": null,
            "align_content": null,
            "visibility": null,
            "align_self": null,
            "height": null,
            "min_height": null,
            "padding": null,
            "grid_auto_rows": null,
            "grid_gap": null,
            "max_width": null,
            "order": null,
            "_view_module_version": "1.2.0",
            "grid_template_areas": null,
            "object_position": null,
            "object_fit": null,
            "grid_auto_columns": null,
            "margin": null,
            "display": null,
            "left": null
          }
        }
      }
    }
  },
  "cells": [
    {
      "cell_type": "markdown",
      "metadata": {
        "id": "view-in-github",
        "colab_type": "text"
      },
      "source": [
        "<a href=\"https://colab.research.google.com/github/anubhavgupta1/Udacity/blob/main/Frameworks/Pytorch/CNNs/Deep%20Architectures/CUDA/Model%20Zoo/Resnet/Resnet.ipynb\" target=\"_parent\"><img src=\"https://colab.research.google.com/assets/colab-badge.svg\" alt=\"Open In Colab\"/></a>"
      ]
    },
    {
      "cell_type": "markdown",
      "metadata": {
        "id": "LL_AeFEVYAVn"
      },
      "source": [
        "## Set Up"
      ]
    },
    {
      "cell_type": "code",
      "metadata": {
        "id": "v0H78AF_Xljx"
      },
      "source": [
        "import matplotlib.pyplot as plt\r\n",
        "import numpy as np\r\n",
        "\r\n",
        "import torch\r\n",
        "import torchvision\r\n",
        "import torchvision.transforms as transforms\r\n",
        "import torch.nn as nn\r\n",
        "import torch.optim as optim"
      ],
      "execution_count": 1,
      "outputs": []
    },
    {
      "cell_type": "code",
      "metadata": {
        "colab": {
          "base_uri": "https://localhost:8080/"
        },
        "id": "We7Lu0vdXojF",
        "outputId": "84bb1fc2-8c9a-4237-da3c-ea7c3d7119a4"
      },
      "source": [
        "print(torch.cuda.get_device_name(0))\r\n",
        "print(torch.cuda.device_count())"
      ],
      "execution_count": 2,
      "outputs": [
        {
          "output_type": "stream",
          "text": [
            "Tesla T4\n",
            "1\n"
          ],
          "name": "stdout"
        }
      ]
    },
    {
      "cell_type": "code",
      "metadata": {
        "colab": {
          "base_uri": "https://localhost:8080/"
        },
        "id": "eLEdp7zlXpAq",
        "outputId": "1a33d818-71e3-48e1-967b-353703634857"
      },
      "source": [
        "gpu = torch.device('cuda:0')\r\n",
        "gpu"
      ],
      "execution_count": 3,
      "outputs": [
        {
          "output_type": "execute_result",
          "data": {
            "text/plain": [
              "device(type='cuda', index=0)"
            ]
          },
          "metadata": {
            "tags": []
          },
          "execution_count": 3
        }
      ]
    },
    {
      "cell_type": "markdown",
      "metadata": {
        "id": "hGzpz3oE1Ikz"
      },
      "source": [
        "## Dataset, transforms, and visualisation"
      ]
    },
    {
      "cell_type": "code",
      "metadata": {
        "id": "Y9c57fNA5Wsi"
      },
      "source": [
        "transform_train = transforms.Compose([\n",
        "    transforms.RandomResizedCrop(224), \n",
        "    transforms.ToTensor(),\n",
        "    transforms.Normalize((0.5, 0.5, 0.5), (0.5, 0.5, 0.5)),\n",
        "    ])\n",
        "\n",
        "transform_test = transforms.Compose([\n",
        "    transforms.RandomResizedCrop(224), \n",
        "    transforms.ToTensor(),\n",
        "    transforms.Normalize((0.5, 0.5, 0.5), (0.5, 0.5, 0.5)),\n",
        "    ])"
      ],
      "execution_count": 4,
      "outputs": []
    },
    {
      "cell_type": "code",
      "metadata": {
        "id": "fvsHorMPzISb",
        "colab": {
          "base_uri": "https://localhost:8080/",
          "height": 99,
          "referenced_widgets": [
            "169a36dc3b0948fabcf3952fd3246a34",
            "35fe7825e6194d289bca43045f793b73",
            "910893b1892341178876f977d6228f06",
            "285bb4c182d54438badbcd2a6e22ac3d",
            "e2bef8c94f434273a129f0b74caa7b7f",
            "0b5194f53acb4254a7d1cce45401f31c",
            "d75a617950d4442b8fe63e2bf78dd6af",
            "cf34050e15d04aad97240719f98fc454"
          ]
        },
        "outputId": "45224c84-eeb3-4722-f79f-d4ec7859fcc2"
      },
      "source": [
        "trainset = torchvision.datasets.CIFAR10(root='./data', train=True, \n",
        "                                        download=True, \n",
        "                                        transform=transform_train)\n",
        "testset = torchvision.datasets.CIFAR10(root='./data', train=False, \n",
        "                                        download=True, \n",
        "                                        transform=transform_test)"
      ],
      "execution_count": 5,
      "outputs": [
        {
          "output_type": "stream",
          "text": [
            "Downloading https://www.cs.toronto.edu/~kriz/cifar-10-python.tar.gz to ./data/cifar-10-python.tar.gz\n"
          ],
          "name": "stdout"
        },
        {
          "output_type": "display_data",
          "data": {
            "application/vnd.jupyter.widget-view+json": {
              "model_id": "169a36dc3b0948fabcf3952fd3246a34",
              "version_minor": 0,
              "version_major": 2
            },
            "text/plain": [
              "HBox(children=(FloatProgress(value=1.0, bar_style='info', max=1.0), HTML(value='')))"
            ]
          },
          "metadata": {
            "tags": []
          }
        },
        {
          "output_type": "stream",
          "text": [
            "Extracting ./data/cifar-10-python.tar.gz to ./data\n",
            "Files already downloaded and verified\n"
          ],
          "name": "stdout"
        }
      ]
    },
    {
      "cell_type": "code",
      "metadata": {
        "id": "V0dOpKtiAG4s"
      },
      "source": [
        "num_classes = 10"
      ],
      "execution_count": 6,
      "outputs": []
    },
    {
      "cell_type": "code",
      "metadata": {
        "id": "xTNj3LQY4eTS"
      },
      "source": [
        "batch_size = 16\r\n",
        "\r\n",
        "trainloader = torch.utils.data.DataLoader(trainset, batch_size=batch_size, shuffle=True)\r\n",
        "testloader = torch.utils.data.DataLoader(testset, batch_size=batch_size, shuffle=False)"
      ],
      "execution_count": 7,
      "outputs": []
    },
    {
      "cell_type": "markdown",
      "metadata": {
        "id": "i2aOlhpvqjxJ"
      },
      "source": [
        "##Resnet Model"
      ]
    },
    {
      "cell_type": "code",
      "metadata": {
        "id": "Ra33PbJS28P3"
      },
      "source": [
        "from torchvision import models"
      ],
      "execution_count": 8,
      "outputs": []
    },
    {
      "cell_type": "code",
      "metadata": {
        "colab": {
          "base_uri": "https://localhost:8080/",
          "height": 82,
          "referenced_widgets": [
            "1452c1ed87ef43629fae533f26716d6f",
            "14d807fd78df4f8282facf5b9977cab0",
            "1417d9fcffc549c4acd8d4cdcd9edbe7",
            "f0bb1ec560a349dabeb8cc101423d029",
            "901358fbb6a14d2f8499c238ea7eaf17",
            "ca41d32dfe624ff88b0106c9eccea715",
            "a4a91636b12d4d2796f999302b4e3fc2",
            "e26e054e670a40eba474f0be41bb8106"
          ]
        },
        "id": "qQ3zPazWeifb",
        "outputId": "2a5ec86b-054a-44b7-dc1c-0e84115cf6a3"
      },
      "source": [
        "resnet = models.resnet18(pretrained=True)"
      ],
      "execution_count": 9,
      "outputs": [
        {
          "output_type": "stream",
          "text": [
            "Downloading: \"https://download.pytorch.org/models/resnet18-5c106cde.pth\" to /root/.cache/torch/hub/checkpoints/resnet18-5c106cde.pth\n"
          ],
          "name": "stderr"
        },
        {
          "output_type": "display_data",
          "data": {
            "application/vnd.jupyter.widget-view+json": {
              "model_id": "1452c1ed87ef43629fae533f26716d6f",
              "version_minor": 0,
              "version_major": 2
            },
            "text/plain": [
              "HBox(children=(FloatProgress(value=0.0, max=46827520.0), HTML(value='')))"
            ]
          },
          "metadata": {
            "tags": []
          }
        },
        {
          "output_type": "stream",
          "text": [
            "\n"
          ],
          "name": "stdout"
        }
      ]
    },
    {
      "cell_type": "code",
      "metadata": {
        "id": "cKwtu2ul9i9i"
      },
      "source": [
        "for param in resnet.parameters():\r\n",
        "    param.requires_grad = False"
      ],
      "execution_count": 10,
      "outputs": []
    },
    {
      "cell_type": "code",
      "metadata": {
        "colab": {
          "base_uri": "https://localhost:8080/"
        },
        "id": "L2QoM19meugq",
        "outputId": "d8d1362a-c4b3-48af-d2c8-21199dcc2513"
      },
      "source": [
        "print(resnet)"
      ],
      "execution_count": 11,
      "outputs": [
        {
          "output_type": "stream",
          "text": [
            "ResNet(\n",
            "  (conv1): Conv2d(3, 64, kernel_size=(7, 7), stride=(2, 2), padding=(3, 3), bias=False)\n",
            "  (bn1): BatchNorm2d(64, eps=1e-05, momentum=0.1, affine=True, track_running_stats=True)\n",
            "  (relu): ReLU(inplace=True)\n",
            "  (maxpool): MaxPool2d(kernel_size=3, stride=2, padding=1, dilation=1, ceil_mode=False)\n",
            "  (layer1): Sequential(\n",
            "    (0): BasicBlock(\n",
            "      (conv1): Conv2d(64, 64, kernel_size=(3, 3), stride=(1, 1), padding=(1, 1), bias=False)\n",
            "      (bn1): BatchNorm2d(64, eps=1e-05, momentum=0.1, affine=True, track_running_stats=True)\n",
            "      (relu): ReLU(inplace=True)\n",
            "      (conv2): Conv2d(64, 64, kernel_size=(3, 3), stride=(1, 1), padding=(1, 1), bias=False)\n",
            "      (bn2): BatchNorm2d(64, eps=1e-05, momentum=0.1, affine=True, track_running_stats=True)\n",
            "    )\n",
            "    (1): BasicBlock(\n",
            "      (conv1): Conv2d(64, 64, kernel_size=(3, 3), stride=(1, 1), padding=(1, 1), bias=False)\n",
            "      (bn1): BatchNorm2d(64, eps=1e-05, momentum=0.1, affine=True, track_running_stats=True)\n",
            "      (relu): ReLU(inplace=True)\n",
            "      (conv2): Conv2d(64, 64, kernel_size=(3, 3), stride=(1, 1), padding=(1, 1), bias=False)\n",
            "      (bn2): BatchNorm2d(64, eps=1e-05, momentum=0.1, affine=True, track_running_stats=True)\n",
            "    )\n",
            "  )\n",
            "  (layer2): Sequential(\n",
            "    (0): BasicBlock(\n",
            "      (conv1): Conv2d(64, 128, kernel_size=(3, 3), stride=(2, 2), padding=(1, 1), bias=False)\n",
            "      (bn1): BatchNorm2d(128, eps=1e-05, momentum=0.1, affine=True, track_running_stats=True)\n",
            "      (relu): ReLU(inplace=True)\n",
            "      (conv2): Conv2d(128, 128, kernel_size=(3, 3), stride=(1, 1), padding=(1, 1), bias=False)\n",
            "      (bn2): BatchNorm2d(128, eps=1e-05, momentum=0.1, affine=True, track_running_stats=True)\n",
            "      (downsample): Sequential(\n",
            "        (0): Conv2d(64, 128, kernel_size=(1, 1), stride=(2, 2), bias=False)\n",
            "        (1): BatchNorm2d(128, eps=1e-05, momentum=0.1, affine=True, track_running_stats=True)\n",
            "      )\n",
            "    )\n",
            "    (1): BasicBlock(\n",
            "      (conv1): Conv2d(128, 128, kernel_size=(3, 3), stride=(1, 1), padding=(1, 1), bias=False)\n",
            "      (bn1): BatchNorm2d(128, eps=1e-05, momentum=0.1, affine=True, track_running_stats=True)\n",
            "      (relu): ReLU(inplace=True)\n",
            "      (conv2): Conv2d(128, 128, kernel_size=(3, 3), stride=(1, 1), padding=(1, 1), bias=False)\n",
            "      (bn2): BatchNorm2d(128, eps=1e-05, momentum=0.1, affine=True, track_running_stats=True)\n",
            "    )\n",
            "  )\n",
            "  (layer3): Sequential(\n",
            "    (0): BasicBlock(\n",
            "      (conv1): Conv2d(128, 256, kernel_size=(3, 3), stride=(2, 2), padding=(1, 1), bias=False)\n",
            "      (bn1): BatchNorm2d(256, eps=1e-05, momentum=0.1, affine=True, track_running_stats=True)\n",
            "      (relu): ReLU(inplace=True)\n",
            "      (conv2): Conv2d(256, 256, kernel_size=(3, 3), stride=(1, 1), padding=(1, 1), bias=False)\n",
            "      (bn2): BatchNorm2d(256, eps=1e-05, momentum=0.1, affine=True, track_running_stats=True)\n",
            "      (downsample): Sequential(\n",
            "        (0): Conv2d(128, 256, kernel_size=(1, 1), stride=(2, 2), bias=False)\n",
            "        (1): BatchNorm2d(256, eps=1e-05, momentum=0.1, affine=True, track_running_stats=True)\n",
            "      )\n",
            "    )\n",
            "    (1): BasicBlock(\n",
            "      (conv1): Conv2d(256, 256, kernel_size=(3, 3), stride=(1, 1), padding=(1, 1), bias=False)\n",
            "      (bn1): BatchNorm2d(256, eps=1e-05, momentum=0.1, affine=True, track_running_stats=True)\n",
            "      (relu): ReLU(inplace=True)\n",
            "      (conv2): Conv2d(256, 256, kernel_size=(3, 3), stride=(1, 1), padding=(1, 1), bias=False)\n",
            "      (bn2): BatchNorm2d(256, eps=1e-05, momentum=0.1, affine=True, track_running_stats=True)\n",
            "    )\n",
            "  )\n",
            "  (layer4): Sequential(\n",
            "    (0): BasicBlock(\n",
            "      (conv1): Conv2d(256, 512, kernel_size=(3, 3), stride=(2, 2), padding=(1, 1), bias=False)\n",
            "      (bn1): BatchNorm2d(512, eps=1e-05, momentum=0.1, affine=True, track_running_stats=True)\n",
            "      (relu): ReLU(inplace=True)\n",
            "      (conv2): Conv2d(512, 512, kernel_size=(3, 3), stride=(1, 1), padding=(1, 1), bias=False)\n",
            "      (bn2): BatchNorm2d(512, eps=1e-05, momentum=0.1, affine=True, track_running_stats=True)\n",
            "      (downsample): Sequential(\n",
            "        (0): Conv2d(256, 512, kernel_size=(1, 1), stride=(2, 2), bias=False)\n",
            "        (1): BatchNorm2d(512, eps=1e-05, momentum=0.1, affine=True, track_running_stats=True)\n",
            "      )\n",
            "    )\n",
            "    (1): BasicBlock(\n",
            "      (conv1): Conv2d(512, 512, kernel_size=(3, 3), stride=(1, 1), padding=(1, 1), bias=False)\n",
            "      (bn1): BatchNorm2d(512, eps=1e-05, momentum=0.1, affine=True, track_running_stats=True)\n",
            "      (relu): ReLU(inplace=True)\n",
            "      (conv2): Conv2d(512, 512, kernel_size=(3, 3), stride=(1, 1), padding=(1, 1), bias=False)\n",
            "      (bn2): BatchNorm2d(512, eps=1e-05, momentum=0.1, affine=True, track_running_stats=True)\n",
            "    )\n",
            "  )\n",
            "  (avgpool): AdaptiveAvgPool2d(output_size=(1, 1))\n",
            "  (fc): Linear(in_features=512, out_features=1000, bias=True)\n",
            ")\n"
          ],
          "name": "stdout"
        }
      ]
    },
    {
      "cell_type": "code",
      "metadata": {
        "id": "JguE2TWDfrHB"
      },
      "source": [
        "in_features = resnet.fc.in_features\r\n",
        "resnet.fc = nn.Linear(in_features, num_classes)"
      ],
      "execution_count": 12,
      "outputs": []
    },
    {
      "cell_type": "code",
      "metadata": {
        "colab": {
          "base_uri": "https://localhost:8080/"
        },
        "id": "gNHWp-tKhUXb",
        "outputId": "313c9c1c-82b3-4cbe-b69f-d3018fe8ee51"
      },
      "source": [
        "for param in resnet.parameters():\r\n",
        "    if param.requires_grad:\r\n",
        "        print(param.shape)"
      ],
      "execution_count": 13,
      "outputs": [
        {
          "output_type": "stream",
          "text": [
            "torch.Size([10, 512])\n",
            "torch.Size([10])\n"
          ],
          "name": "stdout"
        }
      ]
    },
    {
      "cell_type": "markdown",
      "metadata": {
        "id": "TN5oTEJZqxq7"
      },
      "source": [
        "##Resnet Model Class"
      ]
    },
    {
      "cell_type": "markdown",
      "metadata": {
        "id": "4B5ycz6RENzk"
      },
      "source": [
        "###Checkpointing"
      ]
    },
    {
      "cell_type": "code",
      "metadata": {
        "id": "-CKl_lNlEV2X"
      },
      "source": [
        "import copy"
      ],
      "execution_count": 14,
      "outputs": []
    },
    {
      "cell_type": "code",
      "metadata": {
        "id": "LPLwuuQ9iq2y"
      },
      "source": [
        "class resnet_network():\r\n",
        "\r\n",
        "    def forward(self, model,X):\r\n",
        "        return model(X)\r\n",
        "    \r\n",
        "    def evaluation(self,model, dataloader):\r\n",
        "        total, correct = 0, 0\r\n",
        "        for data in dataloader:\r\n",
        "          inputs, labels = data\r\n",
        "          inputs, labels = inputs.to(gpu), labels.to(gpu)\r\n",
        "          outputs = self.forward(model, inputs)\r\n",
        "          _, pred = torch.max(outputs.data, 1)\r\n",
        "          total += labels.size(0)\r\n",
        "          correct += (pred == labels).sum().item()\r\n",
        "        return 100 * correct / total\r\n",
        "    \r\n",
        "    def fit(self, model, epochs,trainloader,testloader,loss_fn,opt,batch_size):\r\n",
        "          max_epochs =  epochs\r\n",
        "          loss_arr = []\r\n",
        "          loss_epoch_arr = []\r\n",
        "          n_iters = np.ceil(50000/batch_size)\r\n",
        "          min_loss = 1000\r\n",
        "          best_model = None\r\n",
        "          train_x, test_x = None, None\r\n",
        "          for epoch in range(epochs):\r\n",
        "              for i, data in enumerate(trainloader, 0):\r\n",
        "                  \r\n",
        "                  inputs, labels = data\r\n",
        "                  inputs, labels = inputs.to(gpu), labels.to(gpu)\r\n",
        "                  \r\n",
        "                  opt.zero_grad()\r\n",
        "                  \r\n",
        "                  outputs = self.forward(model,inputs)\r\n",
        "                  loss = loss_fn(outputs, labels)\r\n",
        "                  loss.backward()\r\n",
        "                  opt.step()\r\n",
        "                  \r\n",
        "                  if min_loss > loss.item():\r\n",
        "                    min_loss = loss.item()\r\n",
        "                    best_model = copy.deepcopy(model.state_dict())\r\n",
        "                    train_x , test_x = trainloader, testloader\r\n",
        "                    print(\"\\n=============================\")\r\n",
        "                    print('Iteration: %d/%d, Min loss %0.2f\\n' % (i+1, n_iters,min_loss))\r\n",
        "\r\n",
        "                  del inputs, labels, outputs\r\n",
        "                  torch.cuda.empty_cache()\r\n",
        "                  \r\n",
        "                  if ((i+1)%625 == 0):\r\n",
        "                    print('Iteration: %d/%d, Loss: %0.2f' % (i+1, n_iters, loss.item()))\r\n",
        "\r\n",
        "                  loss_arr.append(loss.item())\r\n",
        "              \r\n",
        "              loss_epoch_arr.append(loss.item())\r\n",
        "              train_acc = self.evaluation(model,trainloader)\r\n",
        "              test_acc = self.evaluation(model,testloader)\r\n",
        "              print('\\nEpoch: %d/%d, Train acc: %0.2f, Test acc: %0.2f\\n' % (epoch+1, max_epochs, train_acc,test_acc ) )\r\n",
        "          plt.plot(loss_arr)\r\n",
        "          plt.show()\r\n",
        "          return best_model, train_x, test_x"
      ],
      "execution_count": 15,
      "outputs": []
    },
    {
      "cell_type": "code",
      "metadata": {
        "colab": {
          "base_uri": "https://localhost:8080/",
          "height": 1000
        },
        "id": "qU1Eckenp6cL",
        "outputId": "e9b1c90f-41b4-463c-d571-f5f13d1a9976"
      },
      "source": [
        "%%time\r\n",
        "resnet = resnet.to(gpu)\r\n",
        "loss_fn = nn.CrossEntropyLoss()\r\n",
        "opt = optim.SGD(resnet.parameters(), lr=0.01)\r\n",
        "model = resnet_network()\r\n",
        "best_model, train, test = model.fit(resnet,4,trainloader,testloader,loss_fn,opt,batch_size)"
      ],
      "execution_count": 16,
      "outputs": [
        {
          "output_type": "stream",
          "text": [
            "\n",
            "=============================\n",
            "Iteration: 1/3125, Min loss 2.66\n",
            "\n",
            "\n",
            "=============================\n",
            "Iteration: 2/3125, Min loss 2.14\n",
            "\n",
            "\n",
            "=============================\n",
            "Iteration: 11/3125, Min loss 2.08\n",
            "\n",
            "\n",
            "=============================\n",
            "Iteration: 21/3125, Min loss 2.00\n",
            "\n",
            "\n",
            "=============================\n",
            "Iteration: 34/3125, Min loss 1.99\n",
            "\n",
            "\n",
            "=============================\n",
            "Iteration: 38/3125, Min loss 1.91\n",
            "\n",
            "\n",
            "=============================\n",
            "Iteration: 44/3125, Min loss 1.73\n",
            "\n",
            "\n",
            "=============================\n",
            "Iteration: 76/3125, Min loss 1.73\n",
            "\n",
            "\n",
            "=============================\n",
            "Iteration: 86/3125, Min loss 1.37\n",
            "\n",
            "\n",
            "=============================\n",
            "Iteration: 159/3125, Min loss 1.35\n",
            "\n",
            "\n",
            "=============================\n",
            "Iteration: 191/3125, Min loss 1.27\n",
            "\n",
            "\n",
            "=============================\n",
            "Iteration: 230/3125, Min loss 1.22\n",
            "\n",
            "\n",
            "=============================\n",
            "Iteration: 262/3125, Min loss 1.16\n",
            "\n",
            "\n",
            "=============================\n",
            "Iteration: 285/3125, Min loss 1.08\n",
            "\n",
            "\n",
            "=============================\n",
            "Iteration: 327/3125, Min loss 1.02\n",
            "\n",
            "\n",
            "=============================\n",
            "Iteration: 364/3125, Min loss 0.98\n",
            "\n",
            "\n",
            "=============================\n",
            "Iteration: 369/3125, Min loss 0.95\n",
            "\n",
            "Iteration: 625/3125, Loss: 1.02\n",
            "\n",
            "=============================\n",
            "Iteration: 627/3125, Min loss 0.93\n",
            "\n",
            "\n",
            "=============================\n",
            "Iteration: 691/3125, Min loss 0.73\n",
            "\n",
            "Iteration: 1250/3125, Loss: 1.03\n",
            "\n",
            "=============================\n",
            "Iteration: 1760/3125, Min loss 0.72\n",
            "\n",
            "\n",
            "=============================\n",
            "Iteration: 1780/3125, Min loss 0.61\n",
            "\n",
            "Iteration: 1875/3125, Loss: 1.79\n",
            "\n",
            "=============================\n",
            "Iteration: 2104/3125, Min loss 0.60\n",
            "\n",
            "\n",
            "=============================\n",
            "Iteration: 2493/3125, Min loss 0.60\n",
            "\n",
            "Iteration: 2500/3125, Loss: 1.51\n",
            "\n",
            "=============================\n",
            "Iteration: 3074/3125, Min loss 0.58\n",
            "\n",
            "Iteration: 3125/3125, Loss: 1.50\n",
            "\n",
            "Epoch: 1/4, Train acc: 53.75, Test acc: 53.86\n",
            "\n",
            "\n",
            "=============================\n",
            "Iteration: 563/3125, Min loss 0.57\n",
            "\n",
            "Iteration: 625/3125, Loss: 1.60\n",
            "\n",
            "=============================\n",
            "Iteration: 652/3125, Min loss 0.56\n",
            "\n",
            "\n",
            "=============================\n",
            "Iteration: 881/3125, Min loss 0.54\n",
            "\n",
            "\n",
            "=============================\n",
            "Iteration: 891/3125, Min loss 0.50\n",
            "\n",
            "Iteration: 1250/3125, Loss: 1.50\n",
            "\n",
            "=============================\n",
            "Iteration: 1865/3125, Min loss 0.45\n",
            "\n",
            "Iteration: 1875/3125, Loss: 1.56\n",
            "Iteration: 2500/3125, Loss: 1.12\n",
            "Iteration: 3125/3125, Loss: 0.97\n",
            "\n",
            "Epoch: 2/4, Train acc: 56.97, Test acc: 56.41\n",
            "\n",
            "Iteration: 625/3125, Loss: 0.96\n",
            "Iteration: 1250/3125, Loss: 1.85\n",
            "Iteration: 1875/3125, Loss: 0.69\n",
            "\n",
            "=============================\n",
            "Iteration: 2231/3125, Min loss 0.44\n",
            "\n",
            "Iteration: 2500/3125, Loss: 0.91\n",
            "Iteration: 3125/3125, Loss: 1.20\n",
            "\n",
            "Epoch: 3/4, Train acc: 57.21, Test acc: 57.07\n",
            "\n",
            "Iteration: 625/3125, Loss: 1.32\n",
            "Iteration: 1250/3125, Loss: 1.25\n",
            "Iteration: 1875/3125, Loss: 1.83\n",
            "Iteration: 2500/3125, Loss: 1.42\n",
            "Iteration: 3125/3125, Loss: 1.12\n",
            "\n",
            "Epoch: 4/4, Train acc: 57.43, Test acc: 56.34\n",
            "\n"
          ],
          "name": "stdout"
        },
        {
          "output_type": "display_data",
          "data": {
            "image/png": "[encoded data removed]",
            "text/plain": [
              "<Figure size 432x288 with 1 Axes>"
            ]
          },
          "metadata": {
            "tags": [],
            "needs_background": "light"
          }
        },
        {
          "output_type": "stream",
          "text": [
            "CPU times: user 16min 28s, sys: 3min 4s, total: 19min 32s\n",
            "Wall time: 19min 39s\n"
          ],
          "name": "stdout"
        }
      ]
    },
    {
      "cell_type": "code",
      "metadata": {
        "colab": {
          "base_uri": "https://localhost:8080/"
        },
        "id": "RNRoYPorFX9j",
        "outputId": "0ce713b5-e97a-4054-8882-44f872385568"
      },
      "source": [
        "resnet.load_state_dict(best_model)\r\n",
        "print(model.evaluation(resnet, train), model.evaluation(resnet, test))"
      ],
      "execution_count": 17,
      "outputs": [
        {
          "output_type": "stream",
          "text": [
            "57.208 56.64\n"
          ],
          "name": "stdout"
        }
      ]
    }
  ]
}