{
  "nbformat": 4,
  "nbformat_minor": 0,
  "metadata": {
    "colab": {
      "name": "Untitled19.ipynb",
      "provenance": [],
      "authorship_tag": "ABX9TyOVHLFQd80HBSeUtrMSSfzX",
      "include_colab_link": true
    },
    "kernelspec": {
      "name": "python3",
      "display_name": "Python 3"
    },
    "accelerator": "GPU"
  },
  "cells": [
    {
      "cell_type": "markdown",
      "metadata": {
        "id": "view-in-github",
        "colab_type": "text"
      },
      "source": [
        "<a href=\"https://colab.research.google.com/github/anubhavgupta1/Udacity/blob/main/Frameworks/Pytorch/Basics/Torch.ipynb\" target=\"_parent\"><img src=\"https://colab.research.google.com/assets/colab-badge.svg\" alt=\"Open In Colab\"/></a>"
      ]
    },
    {
      "cell_type": "markdown",
      "metadata": {
        "id": "XPDygZOFIt-1"
      },
      "source": [
        "## Setup"
      ]
    },
    {
      "cell_type": "code",
      "metadata": {
        "id": "Yb9M6BSpIs_P"
      },
      "source": [
        "import time\r\n",
        "import torch\r\n",
        "import numpy as np\r\n",
        "import matplotlib.pyplot as plt"
      ],
      "execution_count": 1,
      "outputs": []
    },
    {
      "cell_type": "markdown",
      "metadata": {
        "id": "FNDec5fQKEdg"
      },
      "source": [
        "## Tensor Constants"
      ]
    },
    {
      "cell_type": "code",
      "metadata": {
        "colab": {
          "base_uri": "https://localhost:8080/"
        },
        "id": "TAKKEnxCdKNA",
        "outputId": "354f71a5-ceb6-47b9-9066-2ab052bd7a41"
      },
      "source": [
        "X = torch.ones(3,2)\r\n",
        "print(X)\r\n",
        "X = torch.zeros(3,2)\r\n",
        "print(X)"
      ],
      "execution_count": 2,
      "outputs": [
        {
          "output_type": "stream",
          "text": [
            "tensor([[1., 1.],\n",
            "        [1., 1.],\n",
            "        [1., 1.]])\n",
            "tensor([[0., 0.],\n",
            "        [0., 0.],\n",
            "        [0., 0.]])\n"
          ],
          "name": "stdout"
        }
      ]
    },
    {
      "cell_type": "markdown",
      "metadata": {
        "id": "UYSNgu7th9jN"
      },
      "source": [
        "## Intializing Tensors"
      ]
    },
    {
      "cell_type": "code",
      "metadata": {
        "colab": {
          "base_uri": "https://localhost:8080/"
        },
        "id": "iFeyWQqIf7JQ",
        "outputId": "3545e114-b7db-4e7a-fe2b-c5d7216bf931"
      },
      "source": [
        "X = torch.linspace(0,10, steps = 5)\r\n",
        "print(X)"
      ],
      "execution_count": 3,
      "outputs": [
        {
          "output_type": "stream",
          "text": [
            "tensor([ 0.0000,  2.5000,  5.0000,  7.5000, 10.0000])\n"
          ],
          "name": "stdout"
        }
      ]
    },
    {
      "cell_type": "code",
      "metadata": {
        "colab": {
          "base_uri": "https://localhost:8080/"
        },
        "id": "VxrSn6BsgZPy",
        "outputId": "762f6600-acc6-47be-cc85-ce0be5083cec"
      },
      "source": [
        "X = torch.tensor([[2,3],[4,5],[7,8]])\r\n",
        "print(X,\"\\n\")\r\n",
        "print(X.shape,\"\\n\")\r\n",
        "print(X.size(),\"\\n\")"
      ],
      "execution_count": 4,
      "outputs": [
        {
          "output_type": "stream",
          "text": [
            "tensor([[2, 3],\n",
            "        [4, 5],\n",
            "        [7, 8]]) \n",
            "\n",
            "torch.Size([3, 2]) \n",
            "\n",
            "torch.Size([3, 2]) \n",
            "\n"
          ],
          "name": "stdout"
        }
      ]
    },
    {
      "cell_type": "markdown",
      "metadata": {
        "id": "yN6VxymyiGUb"
      },
      "source": [
        "## Slicing Tensors"
      ]
    },
    {
      "cell_type": "code",
      "metadata": {
        "colab": {
          "base_uri": "https://localhost:8080/"
        },
        "id": "RCGBOovKhbBM",
        "outputId": "73d9fec6-1297-4c4a-bfe9-293e11c1e16e"
      },
      "source": [
        "print(X[:,1],\"\\n\")\r\n",
        "print(X[0,:],\"\\n\")\r\n",
        "Y = X[1,1]\r\n",
        "print(Y,\"\\n\")\r\n",
        "print(Y.item(),\"\\n\")"
      ],
      "execution_count": 5,
      "outputs": [
        {
          "output_type": "stream",
          "text": [
            "tensor([3, 5, 8]) \n",
            "\n",
            "tensor([2, 3]) \n",
            "\n",
            "tensor(5) \n",
            "\n",
            "5 \n",
            "\n"
          ],
          "name": "stdout"
        }
      ]
    },
    {
      "cell_type": "markdown",
      "metadata": {
        "id": "gU5ai-U5iU7L"
      },
      "source": [
        "## Reshaping Tensors"
      ]
    },
    {
      "cell_type": "code",
      "metadata": {
        "colab": {
          "base_uri": "https://localhost:8080/"
        },
        "id": "0OQfde-biiSO",
        "outputId": "6bcc9f0f-41f5-4d03-efe5-2b5f7a232dd3"
      },
      "source": [
        "X = torch.linspace(0,10, steps = 50)\r\n",
        "Y = X.reshape(2,5,5)\r\n",
        "print(Y)"
      ],
      "execution_count": 6,
      "outputs": [
        {
          "output_type": "stream",
          "text": [
            "tensor([[[ 0.0000,  0.2041,  0.4082,  0.6122,  0.8163],\n",
            "         [ 1.0204,  1.2245,  1.4286,  1.6327,  1.8367],\n",
            "         [ 2.0408,  2.2449,  2.4490,  2.6531,  2.8571],\n",
            "         [ 3.0612,  3.2653,  3.4694,  3.6735,  3.8776],\n",
            "         [ 4.0816,  4.2857,  4.4898,  4.6939,  4.8980]],\n",
            "\n",
            "        [[ 5.1020,  5.3061,  5.5102,  5.7143,  5.9184],\n",
            "         [ 6.1224,  6.3265,  6.5306,  6.7347,  6.9388],\n",
            "         [ 7.1429,  7.3469,  7.5510,  7.7551,  7.9592],\n",
            "         [ 8.1633,  8.3673,  8.5714,  8.7755,  8.9796],\n",
            "         [ 9.1837,  9.3878,  9.5918,  9.7959, 10.0000]]])\n"
          ],
          "name": "stdout"
        }
      ]
    },
    {
      "cell_type": "code",
      "metadata": {
        "colab": {
          "base_uri": "https://localhost:8080/"
        },
        "id": "SPgaMjsNjItY",
        "outputId": "c3d9723b-a2a3-47f1-89ff-a1f0b8de85bf"
      },
      "source": [
        "Y = X.view(2,5,5)\r\n",
        "print(Y)"
      ],
      "execution_count": 7,
      "outputs": [
        {
          "output_type": "stream",
          "text": [
            "tensor([[[ 0.0000,  0.2041,  0.4082,  0.6122,  0.8163],\n",
            "         [ 1.0204,  1.2245,  1.4286,  1.6327,  1.8367],\n",
            "         [ 2.0408,  2.2449,  2.4490,  2.6531,  2.8571],\n",
            "         [ 3.0612,  3.2653,  3.4694,  3.6735,  3.8776],\n",
            "         [ 4.0816,  4.2857,  4.4898,  4.6939,  4.8980]],\n",
            "\n",
            "        [[ 5.1020,  5.3061,  5.5102,  5.7143,  5.9184],\n",
            "         [ 6.1224,  6.3265,  6.5306,  6.7347,  6.9388],\n",
            "         [ 7.1429,  7.3469,  7.5510,  7.7551,  7.9592],\n",
            "         [ 8.1633,  8.3673,  8.5714,  8.7755,  8.9796],\n",
            "         [ 9.1837,  9.3878,  9.5918,  9.7959, 10.0000]]])\n"
          ],
          "name": "stdout"
        }
      ]
    },
    {
      "cell_type": "code",
      "metadata": {
        "colab": {
          "base_uri": "https://localhost:8080/"
        },
        "id": "Eq0zdhgljNO5",
        "outputId": "c1e1e2f7-82fb-426a-fe4d-fc78d28695ec"
      },
      "source": [
        "X = torch.linspace(0,10, steps = 5).view(1,5)\r\n",
        "Y = X.view(5,-1)\r\n",
        "print(Y)"
      ],
      "execution_count": 8,
      "outputs": [
        {
          "output_type": "stream",
          "text": [
            "tensor([[ 0.0000],\n",
            "        [ 2.5000],\n",
            "        [ 5.0000],\n",
            "        [ 7.5000],\n",
            "        [10.0000]])\n"
          ],
          "name": "stdout"
        }
      ]
    },
    {
      "cell_type": "markdown",
      "metadata": {
        "id": "YQ_OJC5YlM3u"
      },
      "source": [
        "## Torch Operations"
      ]
    },
    {
      "cell_type": "code",
      "metadata": {
        "colab": {
          "base_uri": "https://localhost:8080/"
        },
        "id": "dY65BtBclSjm",
        "outputId": "f6184fd6-5887-4533-f75a-f5f8ec706c39"
      },
      "source": [
        "X = torch.ones([3,2])\r\n",
        "Y = torch.ones([3,2])\r\n",
        "print(X + Y, \"\\n\")\r\n",
        "print(X -Y, \"\\n\")\r\n",
        "print(Y.add(X),\"\\n\")\r\n",
        "print((X+Y)*(X+Y),\"\\n\")"
      ],
      "execution_count": 9,
      "outputs": [
        {
          "output_type": "stream",
          "text": [
            "tensor([[2., 2.],\n",
            "        [2., 2.],\n",
            "        [2., 2.]]) \n",
            "\n",
            "tensor([[0., 0.],\n",
            "        [0., 0.],\n",
            "        [0., 0.]]) \n",
            "\n",
            "tensor([[2., 2.],\n",
            "        [2., 2.],\n",
            "        [2., 2.]]) \n",
            "\n",
            "tensor([[4., 4.],\n",
            "        [4., 4.],\n",
            "        [4., 4.]]) \n",
            "\n"
          ],
          "name": "stdout"
        }
      ]
    },
    {
      "cell_type": "code",
      "metadata": {
        "colab": {
          "base_uri": "https://localhost:8080/"
        },
        "id": "javq2ONNmIoe",
        "outputId": "c9474226-3f5d-4adc-81f4-babc5ebc845f"
      },
      "source": [
        "print(Y.add_(X),\"\\n\")\r\n",
        "print(Y,\"\\n\")"
      ],
      "execution_count": 10,
      "outputs": [
        {
          "output_type": "stream",
          "text": [
            "tensor([[2., 2.],\n",
            "        [2., 2.],\n",
            "        [2., 2.]]) \n",
            "\n",
            "tensor([[2., 2.],\n",
            "        [2., 2.],\n",
            "        [2., 2.]]) \n",
            "\n"
          ],
          "name": "stdout"
        }
      ]
    },
    {
      "cell_type": "markdown",
      "metadata": {
        "id": "2b0L5CpArrap"
      },
      "source": [
        "## Pytotch vs Numpy"
      ]
    },
    {
      "cell_type": "code",
      "metadata": {
        "colab": {
          "base_uri": "https://localhost:8080/"
        },
        "id": "nj_8WPLlruTR",
        "outputId": "841a2f78-7a5a-4291-a8e1-ce0cb4e83235"
      },
      "source": [
        "X = Y.numpy()\r\n",
        "print(type(X),\"\\n\")"
      ],
      "execution_count": 11,
      "outputs": [
        {
          "output_type": "stream",
          "text": [
            "<class 'numpy.ndarray'> \n",
            "\n"
          ],
          "name": "stdout"
        }
      ]
    },
    {
      "cell_type": "code",
      "metadata": {
        "colab": {
          "base_uri": "https://localhost:8080/"
        },
        "id": "hx6tNfZirqU7",
        "outputId": "b54d03a9-fe93-4a16-945a-369f7d93dd38"
      },
      "source": [
        "Y = torch.from_numpy(X)\r\n",
        "print(type(Y),\"\\n\")"
      ],
      "execution_count": 12,
      "outputs": [
        {
          "output_type": "stream",
          "text": [
            "<class 'torch.Tensor'> \n",
            "\n"
          ],
          "name": "stdout"
        }
      ]
    },
    {
      "cell_type": "code",
      "metadata": {
        "colab": {
          "base_uri": "https://localhost:8080/"
        },
        "id": "uQDy8ZZzsvYh",
        "outputId": "68a01eac-75c0-4096-8b46-ae33cf699117"
      },
      "source": [
        "np.add(X,1, out=X)\r\n",
        "print(X,\"\\n\")\r\n",
        "print(Y,\"\\n\")"
      ],
      "execution_count": 13,
      "outputs": [
        {
          "output_type": "stream",
          "text": [
            "[[3. 3.]\n",
            " [3. 3.]\n",
            " [3. 3.]] \n",
            "\n",
            "tensor([[3., 3.],\n",
            "        [3., 3.],\n",
            "        [3., 3.]]) \n",
            "\n"
          ],
          "name": "stdout"
        }
      ]
    },
    {
      "cell_type": "code",
      "metadata": {
        "colab": {
          "base_uri": "https://localhost:8080/"
        },
        "id": "p9DhqDfduHLV",
        "outputId": "fc0cc6de-f0ab-4ccb-f947-fe216e80ff5e"
      },
      "source": [
        "%%time\r\n",
        "for i in range(1000):\r\n",
        "  a = np.random.randn(100,100)\r\n",
        "  b = np.random.randn(100,100)\r\n",
        "  c = a * b"
      ],
      "execution_count": 14,
      "outputs": [
        {
          "output_type": "stream",
          "text": [
            "CPU times: user 732 ms, sys: 0 ns, total: 732 ms\n",
            "Wall time: 733 ms\n"
          ],
          "name": "stdout"
        }
      ]
    },
    {
      "cell_type": "code",
      "metadata": {
        "colab": {
          "base_uri": "https://localhost:8080/"
        },
        "id": "kExU89szuflb",
        "outputId": "d2c057c7-15f8-47ca-f9e1-4d9e0014c24a"
      },
      "source": [
        "%%time\r\n",
        "for i in range(1000):\r\n",
        "  a = torch.randn([100,100])\r\n",
        "  b = torch.randn([100,100])\r\n",
        "  c = a * b"
      ],
      "execution_count": 15,
      "outputs": [
        {
          "output_type": "stream",
          "text": [
            "CPU times: user 199 ms, sys: 0 ns, total: 199 ms\n",
            "Wall time: 204 ms\n"
          ],
          "name": "stdout"
        }
      ]
    },
    {
      "cell_type": "code",
      "metadata": {
        "colab": {
          "base_uri": "https://localhost:8080/"
        },
        "id": "jSMdMOg9uwbR",
        "outputId": "01d489de-cc9b-4d83-86f7-49aec51fc6de"
      },
      "source": [
        "%%time\r\n",
        "for i in range(1000):\r\n",
        "  a = np.random.randn(1000,1000)\r\n",
        "  b = np.random.randn(1000,1000)\r\n",
        "  c = a * b"
      ],
      "execution_count": 16,
      "outputs": [
        {
          "output_type": "stream",
          "text": [
            "CPU times: user 1min 11s, sys: 57.5 ms, total: 1min 12s\n",
            "Wall time: 1min 12s\n"
          ],
          "name": "stdout"
        }
      ]
    },
    {
      "cell_type": "code",
      "metadata": {
        "colab": {
          "base_uri": "https://localhost:8080/"
        },
        "id": "_J8snGHmu10p",
        "outputId": "bdab0d0b-bd26-45da-fc72-43bced6a1311"
      },
      "source": [
        "%%time\r\n",
        "for i in range(1000):\r\n",
        "  a = torch.randn([1000,1000])\r\n",
        "  b = torch.randn([1000,1000])\r\n",
        "  c = a * b"
      ],
      "execution_count": 17,
      "outputs": [
        {
          "output_type": "stream",
          "text": [
            "CPU times: user 18.6 s, sys: 35 ms, total: 18.6 s\n",
            "Wall time: 18.6 s\n"
          ],
          "name": "stdout"
        }
      ]
    },
    {
      "cell_type": "markdown",
      "metadata": {
        "id": "xnErWT8rvEli"
      },
      "source": [
        "## Cuda Support"
      ]
    },
    {
      "cell_type": "code",
      "metadata": {
        "colab": {
          "base_uri": "https://localhost:8080/"
        },
        "id": "4TZWzfZ-vHa7",
        "outputId": "d307d917-e9d3-455b-e4e9-c0d2c93297dd"
      },
      "source": [
        "print(torch.cuda.device_count())"
      ],
      "execution_count": 18,
      "outputs": [
        {
          "output_type": "stream",
          "text": [
            "1\n"
          ],
          "name": "stdout"
        }
      ]
    },
    {
      "cell_type": "code",
      "metadata": {
        "colab": {
          "base_uri": "https://localhost:8080/"
        },
        "id": "fkElCFM-xhaO",
        "outputId": "647b4895-d216-4b9b-ffe8-499280077992"
      },
      "source": [
        "print(torch.cuda.get_device_name(0))"
      ],
      "execution_count": 19,
      "outputs": [
        {
          "output_type": "stream",
          "text": [
            "Tesla T4\n"
          ],
          "name": "stdout"
        }
      ]
    },
    {
      "cell_type": "code",
      "metadata": {
        "id": "LVC5nfZGx45B"
      },
      "source": [
        "gpu = torch.device('cuda:0')"
      ],
      "execution_count": 20,
      "outputs": []
    },
    {
      "cell_type": "code",
      "metadata": {
        "colab": {
          "base_uri": "https://localhost:8080/"
        },
        "id": "5lz06JQN2rTF",
        "outputId": "b300cb02-867e-460b-cf9e-2b8048c6a3b9"
      },
      "source": [
        "%%time\r\n",
        "for i in range(1000):\r\n",
        "  a = torch.randn([1000,1000],device=gpu)\r\n",
        "  b = torch.randn([1000,1000],device=gpu)\r\n",
        "  c = a * b "
      ],
      "execution_count": 21,
      "outputs": [
        {
          "output_type": "stream",
          "text": [
            "CPU times: user 2.97 s, sys: 1.36 s, total: 4.33 s\n",
            "Wall time: 10.2 s\n"
          ],
          "name": "stdout"
        }
      ]
    },
    {
      "cell_type": "code",
      "metadata": {
        "colab": {
          "base_uri": "https://localhost:8080/"
        },
        "id": "aroj0bf056IL",
        "outputId": "04c826da-c7e0-47f1-f4ab-228d5b8a18d4"
      },
      "source": [
        "a = torch.randn([1000,1000])\r\n",
        "b = torch.randn([1000,1000])\r\n",
        "c = a + b\r\n",
        "print(c)"
      ],
      "execution_count": 22,
      "outputs": [
        {
          "output_type": "stream",
          "text": [
            "tensor([[ 2.3347, -0.1000, -1.3608,  ..., -1.9330, -0.3654, -2.0877],\n",
            "        [ 0.5789, -0.3118,  1.8707,  ...,  1.1448, -0.1975,  0.9215],\n",
            "        [-0.8124, -3.5418,  0.7857,  ..., -0.0770,  1.9254, -0.2258],\n",
            "        ...,\n",
            "        [-0.9009, -0.2286,  0.5621,  ..., -0.5216,  0.3700, -1.1375],\n",
            "        [-0.6500, -0.1132,  0.5563,  ..., -1.5498,  0.0892,  1.0754],\n",
            "        [ 2.1305, -1.5260,  1.3369,  ...,  2.0197, -2.1878,  1.1183]])\n"
          ],
          "name": "stdout"
        }
      ]
    },
    {
      "cell_type": "code",
      "metadata": {
        "colab": {
          "base_uri": "https://localhost:8080/"
        },
        "id": "y9Grr5ff6bRs",
        "outputId": "7dc9119c-72b0-410b-af8d-a7035796c0a4"
      },
      "source": [
        "a = a.to(gpu)\r\n",
        "b = b.to(gpu)\r\n",
        "c = a + b\r\n",
        "print(c)"
      ],
      "execution_count": 23,
      "outputs": [
        {
          "output_type": "stream",
          "text": [
            "tensor([[ 2.3347, -0.1000, -1.3608,  ..., -1.9330, -0.3654, -2.0877],\n",
            "        [ 0.5789, -0.3118,  1.8707,  ...,  1.1448, -0.1975,  0.9215],\n",
            "        [-0.8124, -3.5418,  0.7857,  ..., -0.0770,  1.9254, -0.2258],\n",
            "        ...,\n",
            "        [-0.9009, -0.2286,  0.5621,  ..., -0.5216,  0.3700, -1.1375],\n",
            "        [-0.6500, -0.1132,  0.5563,  ..., -1.5498,  0.0892,  1.0754],\n",
            "        [ 2.1305, -1.5260,  1.3369,  ...,  2.0197, -2.1878,  1.1183]],\n",
            "       device='cuda:0')\n"
          ],
          "name": "stdout"
        }
      ]
    },
    {
      "cell_type": "code",
      "metadata": {
        "colab": {
          "base_uri": "https://localhost:8080/"
        },
        "id": "Ib5-IXmJ8w-r",
        "outputId": "18edffae-bedb-40e2-f199-0d33052abaa0"
      },
      "source": [
        "X = torch.ones(2, 2, requires_grad=True)\r\n",
        "print(X)"
      ],
      "execution_count": 24,
      "outputs": [
        {
          "output_type": "stream",
          "text": [
            "tensor([[1., 1.],\n",
            "        [1., 1.]], requires_grad=True)\n"
          ],
          "name": "stdout"
        }
      ]
    },
    {
      "cell_type": "code",
      "metadata": {
        "colab": {
          "base_uri": "https://localhost:8080/"
        },
        "id": "njLYa7Pb-rVw",
        "outputId": "edbc6e4f-dfac-4265-bf22-85c5900f47fb"
      },
      "source": [
        "Y = X + 2\r\n",
        "print(Y)"
      ],
      "execution_count": 25,
      "outputs": [
        {
          "output_type": "stream",
          "text": [
            "tensor([[3., 3.],\n",
            "        [3., 3.]], grad_fn=<AddBackward0>)\n"
          ],
          "name": "stdout"
        }
      ]
    },
    {
      "cell_type": "code",
      "metadata": {
        "colab": {
          "base_uri": "https://localhost:8080/"
        },
        "id": "JL_GJK1--6rF",
        "outputId": "83e6ec44-7817-4ff2-86b0-9338c93e84e3"
      },
      "source": [
        "Z = Y * Y * 3\r\n",
        "print(Z)"
      ],
      "execution_count": 26,
      "outputs": [
        {
          "output_type": "stream",
          "text": [
            "tensor([[27., 27.],\n",
            "        [27., 27.]], grad_fn=<MulBackward0>)\n"
          ],
          "name": "stdout"
        }
      ]
    },
    {
      "cell_type": "code",
      "metadata": {
        "colab": {
          "base_uri": "https://localhost:8080/"
        },
        "id": "KFrAp-qH_v1K",
        "outputId": "335badc4-0b6a-4bfd-aac3-237eb1df6623"
      },
      "source": [
        "t1 = torch.sum(Z)\r\n",
        "print(t1)"
      ],
      "execution_count": 27,
      "outputs": [
        {
          "output_type": "stream",
          "text": [
            "tensor(108., grad_fn=<SumBackward0>)\n"
          ],
          "name": "stdout"
        }
      ]
    },
    {
      "cell_type": "code",
      "metadata": {
        "colab": {
          "base_uri": "https://localhost:8080/"
        },
        "id": "CQnQCLndAb3q",
        "outputId": "ccc96838-0567-4980-8878-e62089325791"
      },
      "source": [
        "t1.backward()\r\n",
        "print(X.grad)"
      ],
      "execution_count": 28,
      "outputs": [
        {
          "output_type": "stream",
          "text": [
            "tensor([[18., 18.],\n",
            "        [18., 18.]])\n"
          ],
          "name": "stdout"
        }
      ]
    },
    {
      "cell_type": "code",
      "metadata": {
        "colab": {
          "base_uri": "https://localhost:8080/"
        },
        "id": "2c-HPfX9Div1",
        "outputId": "997ee09e-68a3-4af9-ab10-162eaa53641c"
      },
      "source": [
        "X = torch.ones(2, 2, requires_grad=True)\r\n",
        "Y = X + 5\r\n",
        "Z = 1 / (1 + torch.exp(-Y))\r\n",
        "t = torch.sum(Z)\r\n",
        "t.backward()\r\n",
        "print(X.grad)"
      ],
      "execution_count": 29,
      "outputs": [
        {
          "output_type": "stream",
          "text": [
            "tensor([[0.0025, 0.0025],\n",
            "        [0.0025, 0.0025]])\n"
          ],
          "name": "stdout"
        }
      ]
    },
    {
      "cell_type": "code",
      "metadata": {
        "colab": {
          "base_uri": "https://localhost:8080/"
        },
        "id": "euRcB88SMSZ8",
        "outputId": "602bd3c2-92be-43f1-b729-c74028d63c5e"
      },
      "source": [
        "learning_rate = 0.01\r\n",
        "\r\n",
        "w = torch.tensor([1.], requires_grad=True)\r\n",
        "b = torch.tensor([1.], requires_grad=True)\r\n",
        "\r\n",
        "print(\"\\n=====================================\\n\")\r\n",
        "for epoch in range(100):\r\n",
        "  \r\n",
        "  x = torch.randn([20, 1])\r\n",
        "  y = 3*x - 2\r\n",
        "  \r\n",
        "  y_hat = w*x + b\r\n",
        "  \r\n",
        "  loss = torch.sum((y_hat - y)**2)\r\n",
        "  loss.backward()\r\n",
        "  if ( epoch % 10 == 9 ):\r\n",
        "    print(\"Epoch is : \",epoch+1,\" and loss is \", loss.item())\r\n",
        "\r\n",
        "  with torch.no_grad():\r\n",
        "    w -= learning_rate * w.grad\r\n",
        "    b -= learning_rate * b.grad\r\n",
        "    \r\n",
        "    w.grad.zero_()\r\n",
        "    b.grad.zero_()\r\n",
        "  \r\n",
        "  if ( epoch % 10 == 9 ):\r\n",
        "    print(w.item(), b.item())\r\n",
        "    print(\"\\n=====================================\\n\")\r\n",
        "  "
      ],
      "execution_count": 30,
      "outputs": [
        {
          "output_type": "stream",
          "text": [
            "\n",
            "=====================================\n",
            "\n",
            "Epoch is :  10  and loss is  0.008452343754470348\n",
            "2.9970810413360596 -1.9877763986587524\n",
            "\n",
            "=====================================\n",
            "\n",
            "Epoch is :  20  and loss is  2.6303371214453364e-07\n",
            "3.0000202655792236 -1.999928593635559\n",
            "\n",
            "=====================================\n",
            "\n",
            "Epoch is :  30  and loss is  4.8260062612826005e-11\n",
            "3.0000007152557373 -1.9999996423721313\n",
            "\n",
            "=====================================\n",
            "\n",
            "Epoch is :  40  and loss is  3.0127011996228248e-12\n",
            "3.0 -2.0\n",
            "\n",
            "=====================================\n",
            "\n",
            "Epoch is :  50  and loss is  0.0\n",
            "3.0 -2.0\n",
            "\n",
            "=====================================\n",
            "\n",
            "Epoch is :  60  and loss is  0.0\n",
            "3.0 -2.0\n",
            "\n",
            "=====================================\n",
            "\n",
            "Epoch is :  70  and loss is  0.0\n",
            "3.0 -2.0\n",
            "\n",
            "=====================================\n",
            "\n",
            "Epoch is :  80  and loss is  0.0\n",
            "3.0 -2.0\n",
            "\n",
            "=====================================\n",
            "\n",
            "Epoch is :  90  and loss is  0.0\n",
            "3.0 -2.0\n",
            "\n",
            "=====================================\n",
            "\n",
            "Epoch is :  100  and loss is  0.0\n",
            "3.0 -2.0\n",
            "\n",
            "=====================================\n",
            "\n"
          ],
          "name": "stdout"
        }
      ]
    }
  ]
}