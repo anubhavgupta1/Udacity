{
  "nbformat": 4,
  "nbformat_minor": 0,
  "metadata": {
    "colab": {
      "name": "Untitled23.ipynb",
      "provenance": [],
      "collapsed_sections": [],
      "authorship_tag": "ABX9TyNEtiYZN+2Ff/AqU4Y5KsBC",
      "include_colab_link": true
    },
    "kernelspec": {
      "display_name": "Python 3",
      "name": "python3"
    },
    "accelerator": "GPU"
  },
  "cells": [
    {
      "cell_type": "markdown",
      "metadata": {
        "id": "view-in-github",
        "colab_type": "text"
      },
      "source": [
        "<a href=\"https://colab.research.google.com/github/anubhavgupta1/Udacity/blob/main/Frameworks/Pytorch/Basics/Torch2.ipynb\" target=\"_parent\"><img src=\"https://colab.research.google.com/assets/colab-badge.svg\" alt=\"Open In Colab\"/></a>"
      ]
    },
    {
      "cell_type": "code",
      "metadata": {
        "id": "8hmy56tJ8uPL"
      },
      "source": [
        "import torch"
      ],
      "execution_count": 1,
      "outputs": []
    },
    {
      "cell_type": "markdown",
      "metadata": {
        "id": "qcwfT6V0Ga7q"
      },
      "source": [
        "## `Tensor Properties`"
      ]
    },
    {
      "cell_type": "code",
      "metadata": {
        "id": "saKtBDqsGWr_"
      },
      "source": [
        "example_tensor = torch.Tensor(\r\n",
        "    [\r\n",
        "     [[1, 2], [3, 4]], \r\n",
        "     [[5, 6], [7, 8]], \r\n",
        "     [[9, 0], [1, 2]]\r\n",
        "    ]\r\n",
        ")"
      ],
      "execution_count": 2,
      "outputs": []
    },
    {
      "cell_type": "code",
      "metadata": {
        "colab": {
          "base_uri": "https://localhost:8080/"
        },
        "id": "omNfxyZaGjje",
        "outputId": "9e0941d7-42f8-4feb-9e5c-010303f38cf8"
      },
      "source": [
        "print(example_tensor.shape)\r\n",
        "print(\"shape[0] =\", example_tensor.shape[0])\r\n",
        "print(\"size(1) =\", example_tensor.size(1))\r\n",
        "print(\"Rank =\", len(example_tensor.shape))\r\n",
        "print(\"Number of elements =\", example_tensor.numel())"
      ],
      "execution_count": 3,
      "outputs": [
        {
          "output_type": "stream",
          "text": [
            "torch.Size([3, 2, 2])\n",
            "shape[0] = 3\n",
            "size(1) = 2\n",
            "Rank = 3\n",
            "Number of elements = 12\n"
          ],
          "name": "stdout"
        }
      ]
    },
    {
      "cell_type": "markdown",
      "metadata": {
        "id": "3mGKE92_GpZ8"
      },
      "source": [
        "## `Tensor Properties: Device`"
      ]
    },
    {
      "cell_type": "code",
      "metadata": {
        "colab": {
          "base_uri": "https://localhost:8080/"
        },
        "id": "YJJjTuruGrOu",
        "outputId": "c4139012-480d-4741-9124-e62847f1f57b"
      },
      "source": [
        "example_tensor.device"
      ],
      "execution_count": 4,
      "outputs": [
        {
          "output_type": "execute_result",
          "data": {
            "text/plain": [
              "device(type='cpu')"
            ]
          },
          "metadata": {
            "tags": []
          },
          "execution_count": 4
        }
      ]
    },
    {
      "cell_type": "markdown",
      "metadata": {
        "id": "mAZvmptIHKTz"
      },
      "source": [
        "## `Indexing Tensors`"
      ]
    },
    {
      "cell_type": "code",
      "metadata": {
        "colab": {
          "base_uri": "https://localhost:8080/"
        },
        "id": "9wA05VmWHL6q",
        "outputId": "263b031b-f076-4810-9792-1caecf50bb5c"
      },
      "source": [
        "example_tensor[1]"
      ],
      "execution_count": 5,
      "outputs": [
        {
          "output_type": "execute_result",
          "data": {
            "text/plain": [
              "tensor([[5., 6.],\n",
              "        [7., 8.]])"
            ]
          },
          "metadata": {
            "tags": []
          },
          "execution_count": 5
        }
      ]
    },
    {
      "cell_type": "code",
      "metadata": {
        "colab": {
          "base_uri": "https://localhost:8080/"
        },
        "id": "WqZ4LnqPHUwx",
        "outputId": "6cf833c5-73eb-4c86-f229-06c5866f0a0a"
      },
      "source": [
        "example_tensor[1, 1, 0]"
      ],
      "execution_count": 6,
      "outputs": [
        {
          "output_type": "execute_result",
          "data": {
            "text/plain": [
              "tensor(7.)"
            ]
          },
          "metadata": {
            "tags": []
          },
          "execution_count": 6
        }
      ]
    },
    {
      "cell_type": "code",
      "metadata": {
        "colab": {
          "base_uri": "https://localhost:8080/"
        },
        "id": "yeRflM0EHXwO",
        "outputId": "a1eee00d-aff6-4381-df15-0727232adcc0"
      },
      "source": [
        "example_scalar = example_tensor[1, 1, 0]\r\n",
        "example_scalar.item()"
      ],
      "execution_count": 7,
      "outputs": [
        {
          "output_type": "execute_result",
          "data": {
            "text/plain": [
              "7.0"
            ]
          },
          "metadata": {
            "tags": []
          },
          "execution_count": 7
        }
      ]
    },
    {
      "cell_type": "code",
      "metadata": {
        "colab": {
          "base_uri": "https://localhost:8080/"
        },
        "id": "yLZo6yC-Hcg-",
        "outputId": "6da6087c-c755-4971-d3c1-429ac7a3729d"
      },
      "source": [
        "example_tensor[:, 0, 0]"
      ],
      "execution_count": 8,
      "outputs": [
        {
          "output_type": "execute_result",
          "data": {
            "text/plain": [
              "tensor([1., 5., 9.])"
            ]
          },
          "metadata": {
            "tags": []
          },
          "execution_count": 8
        }
      ]
    },
    {
      "cell_type": "markdown",
      "metadata": {
        "id": "BFJjb5UrHgIK"
      },
      "source": [
        "## `Initializing Tensors`"
      ]
    },
    {
      "cell_type": "code",
      "metadata": {
        "colab": {
          "base_uri": "https://localhost:8080/"
        },
        "id": "nuPiAPuMHhbT",
        "outputId": "8536da40-1408-4674-91ef-21a3fbdbea4b"
      },
      "source": [
        "torch.ones_like(example_tensor)"
      ],
      "execution_count": 9,
      "outputs": [
        {
          "output_type": "execute_result",
          "data": {
            "text/plain": [
              "tensor([[[1., 1.],\n",
              "         [1., 1.]],\n",
              "\n",
              "        [[1., 1.],\n",
              "         [1., 1.]],\n",
              "\n",
              "        [[1., 1.],\n",
              "         [1., 1.]]])"
            ]
          },
          "metadata": {
            "tags": []
          },
          "execution_count": 9
        }
      ]
    },
    {
      "cell_type": "code",
      "metadata": {
        "colab": {
          "base_uri": "https://localhost:8080/"
        },
        "id": "ZGRrLm7yHtVL",
        "outputId": "0cdb6e44-8b4c-4229-960f-0c7babb3994d"
      },
      "source": [
        "torch.zeros_like(example_tensor)"
      ],
      "execution_count": 10,
      "outputs": [
        {
          "output_type": "execute_result",
          "data": {
            "text/plain": [
              "tensor([[[0., 0.],\n",
              "         [0., 0.]],\n",
              "\n",
              "        [[0., 0.],\n",
              "         [0., 0.]],\n",
              "\n",
              "        [[0., 0.],\n",
              "         [0., 0.]]])"
            ]
          },
          "metadata": {
            "tags": []
          },
          "execution_count": 10
        }
      ]
    },
    {
      "cell_type": "code",
      "metadata": {
        "colab": {
          "base_uri": "https://localhost:8080/"
        },
        "id": "7oVUjtnNHv2s",
        "outputId": "dd46a005-8804-404f-b98f-205160db03db"
      },
      "source": [
        "torch.randn_like(example_tensor)"
      ],
      "execution_count": 11,
      "outputs": [
        {
          "output_type": "execute_result",
          "data": {
            "text/plain": [
              "tensor([[[ 1.3612,  0.5294],\n",
              "         [ 0.5651,  0.0544]],\n",
              "\n",
              "        [[-0.0414, -2.2910],\n",
              "         [ 1.2220, -0.4478]],\n",
              "\n",
              "        [[-0.3136,  0.3230],\n",
              "         [-0.4213, -0.7926]]])"
            ]
          },
          "metadata": {
            "tags": []
          },
          "execution_count": 11
        }
      ]
    },
    {
      "cell_type": "code",
      "metadata": {
        "colab": {
          "base_uri": "https://localhost:8080/"
        },
        "id": "haWLdcOFH11T",
        "outputId": "85b82fef-43a8-4030-b70e-6cc2dd8ff57a"
      },
      "source": [
        "torch.randn(2, 2, device='cpu') # Alternatively, for a GPU tensor, you'd use device='cuda'"
      ],
      "execution_count": 12,
      "outputs": [
        {
          "output_type": "execute_result",
          "data": {
            "text/plain": [
              "tensor([[ 0.2740,  1.2976],\n",
              "        [ 0.5991, -0.7598]])"
            ]
          },
          "metadata": {
            "tags": []
          },
          "execution_count": 12
        }
      ]
    },
    {
      "cell_type": "markdown",
      "metadata": {
        "id": "YNoAGguFH8Li"
      },
      "source": [
        "## `Basic Functions`"
      ]
    },
    {
      "cell_type": "code",
      "metadata": {
        "colab": {
          "base_uri": "https://localhost:8080/"
        },
        "id": "2Je0yoy8H9kU",
        "outputId": "f7ad2b3b-61a9-466e-92c6-ab8562a8e739"
      },
      "source": [
        "(example_tensor - 5) * 2"
      ],
      "execution_count": 13,
      "outputs": [
        {
          "output_type": "execute_result",
          "data": {
            "text/plain": [
              "tensor([[[ -8.,  -6.],\n",
              "         [ -4.,  -2.]],\n",
              "\n",
              "        [[  0.,   2.],\n",
              "         [  4.,   6.]],\n",
              "\n",
              "        [[  8., -10.],\n",
              "         [ -8.,  -6.]]])"
            ]
          },
          "metadata": {
            "tags": []
          },
          "execution_count": 13
        }
      ]
    },
    {
      "cell_type": "code",
      "metadata": {
        "colab": {
          "base_uri": "https://localhost:8080/"
        },
        "id": "mGZVHYwgIC9Q",
        "outputId": "b508c4f3-a79b-438a-fcd0-5ed5cf8bb362"
      },
      "source": [
        "print(\"Mean:\", example_tensor.mean())\r\n",
        "print(\"Stdev:\", example_tensor.std())"
      ],
      "execution_count": 14,
      "outputs": [
        {
          "output_type": "stream",
          "text": [
            "Mean: tensor(4.)\n",
            "Stdev: tensor(2.9848)\n"
          ],
          "name": "stdout"
        }
      ]
    },
    {
      "cell_type": "code",
      "metadata": {
        "colab": {
          "base_uri": "https://localhost:8080/"
        },
        "id": "oCyq75fIIJWF",
        "outputId": "8f796d59-3a44-4f8a-aaba-dc7c9058ed1e"
      },
      "source": [
        "example_tensor.mean(0)\r\n",
        "\r\n",
        "# Equivalently, you could also write:\r\n",
        "# example_tensor.mean(dim=0)\r\n",
        "# example_tensor.mean(axis=0)\r\n",
        "# torch.mean(example_tensor, 0)\r\n",
        "# torch.mean(example_tensor, dim=0)"
      ],
      "execution_count": 15,
      "outputs": [
        {
          "output_type": "execute_result",
          "data": {
            "text/plain": [
              "tensor([[5.0000, 2.6667],\n",
              "        [3.6667, 4.6667]])"
            ]
          },
          "metadata": {
            "tags": []
          },
          "execution_count": 15
        }
      ]
    },
    {
      "cell_type": "markdown",
      "metadata": {
        "id": "XQdOH74OINel"
      },
      "source": [
        "## `PyTorch Neural Network Module (torch.nn)`"
      ]
    },
    {
      "cell_type": "code",
      "metadata": {
        "id": "WdECWhQiIOep"
      },
      "source": [
        "import torch.nn as nn"
      ],
      "execution_count": 16,
      "outputs": []
    },
    {
      "cell_type": "markdown",
      "metadata": {
        "id": "5bA8GeVnIYPX"
      },
      "source": [
        "### `nn.linear`"
      ]
    },
    {
      "cell_type": "code",
      "metadata": {
        "colab": {
          "base_uri": "https://localhost:8080/"
        },
        "id": "s7l3ni7dIW2d",
        "outputId": "e55cea23-d223-4f5c-dc2c-baa879aed7a2"
      },
      "source": [
        "linear = nn.Linear(10, 2)\r\n",
        "example_input = torch.randn(3, 10)\r\n",
        "example_output = linear(example_input)\r\n",
        "example_output"
      ],
      "execution_count": 17,
      "outputs": [
        {
          "output_type": "execute_result",
          "data": {
            "text/plain": [
              "tensor([[ 0.0704,  0.5484],\n",
              "        [-0.4784,  0.4316],\n",
              "        [ 0.3064,  0.2845]], grad_fn=<AddmmBackward>)"
            ]
          },
          "metadata": {
            "tags": []
          },
          "execution_count": 17
        }
      ]
    },
    {
      "cell_type": "markdown",
      "metadata": {
        "id": "Ha7clCwKIgK0"
      },
      "source": [
        "### `nn.Relu`"
      ]
    },
    {
      "cell_type": "code",
      "metadata": {
        "colab": {
          "base_uri": "https://localhost:8080/"
        },
        "id": "JqqPyMO6IjXc",
        "outputId": "a9dccb23-eea5-417a-8782-6022a24f1dd1"
      },
      "source": [
        "relu = nn.ReLU()\r\n",
        "relu_output = relu(example_output)\r\n",
        "relu_output"
      ],
      "execution_count": 18,
      "outputs": [
        {
          "output_type": "execute_result",
          "data": {
            "text/plain": [
              "tensor([[0.0704, 0.5484],\n",
              "        [0.0000, 0.4316],\n",
              "        [0.3064, 0.2845]], grad_fn=<ReluBackward0>)"
            ]
          },
          "metadata": {
            "tags": []
          },
          "execution_count": 18
        }
      ]
    },
    {
      "cell_type": "markdown",
      "metadata": {
        "id": "s0fddgH3Iozg"
      },
      "source": [
        "### `nn.BatchNorm1d`"
      ]
    },
    {
      "cell_type": "code",
      "metadata": {
        "colab": {
          "base_uri": "https://localhost:8080/"
        },
        "id": "q2zRY66GInsE",
        "outputId": "9e0ab48e-1310-4568-af64-df3dc174ce3c"
      },
      "source": [
        "batchnorm = nn.BatchNorm1d(2)\r\n",
        "batchnorm_output = batchnorm(relu_output)\r\n",
        "batchnorm_output"
      ],
      "execution_count": 19,
      "outputs": [
        {
          "output_type": "execute_result",
          "data": {
            "text/plain": [
              "tensor([[-0.4213,  1.1749],\n",
              "        [-0.9581,  0.0933],\n",
              "        [ 1.3794, -1.2682]], grad_fn=<NativeBatchNormBackward>)"
            ]
          },
          "metadata": {
            "tags": []
          },
          "execution_count": 19
        }
      ]
    },
    {
      "cell_type": "markdown",
      "metadata": {
        "id": "wPX4u7DQJFvQ"
      },
      "source": [
        "### `nn.Sequential()`"
      ]
    },
    {
      "cell_type": "code",
      "metadata": {
        "colab": {
          "base_uri": "https://localhost:8080/"
        },
        "id": "egwe8X0TJFNM",
        "outputId": "22a1c44b-cff8-4b74-bf94-106b28bae8fd"
      },
      "source": [
        "mlp_layer = nn.Sequential(\r\n",
        "    nn.Linear(5, 2),\r\n",
        "    nn.BatchNorm1d(2),\r\n",
        "    nn.ReLU()\r\n",
        ")\r\n",
        "\r\n",
        "test_example = torch.randn(5,5) + 1\r\n",
        "print(\"input: \")\r\n",
        "print(test_example)\r\n",
        "print(\"output: \")\r\n",
        "print(mlp_layer(test_example))"
      ],
      "execution_count": 20,
      "outputs": [
        {
          "output_type": "stream",
          "text": [
            "input: \n",
            "tensor([[ 2.1720e+00,  1.3182e+00,  1.2679e+00,  1.8542e-01,  8.2240e-01],\n",
            "        [ 1.6193e+00, -2.0721e-01,  2.3490e+00,  9.7968e-02,  1.1816e+00],\n",
            "        [ 1.4042e+00,  1.0355e+00,  1.0615e+00, -2.1066e+00,  1.6537e+00],\n",
            "        [ 2.3411e+00,  2.1448e+00,  6.7567e-01, -8.1138e-02,  9.2366e-02],\n",
            "        [ 3.0776e+00,  1.7488e-04,  6.7086e-01,  4.0466e-01,  3.8216e-01]])\n",
            "output: \n",
            "tensor([[0.0000, 0.1327],\n",
            "        [1.4279, 1.0879],\n",
            "        [0.9309, 1.0279],\n",
            "        [0.0000, 0.0000],\n",
            "        [0.0000, 0.0000]], grad_fn=<ReluBackward0>)\n"
          ],
          "name": "stdout"
        }
      ]
    },
    {
      "cell_type": "markdown",
      "metadata": {
        "id": "IQhhgTouJQMN"
      },
      "source": [
        "## `Optimizers`"
      ]
    },
    {
      "cell_type": "code",
      "metadata": {
        "id": "Pxeo_tBaJSYG"
      },
      "source": [
        "import torch.optim as optim\r\n",
        "adam_opt = optim.Adam(mlp_layer.parameters(), lr=1e-1)"
      ],
      "execution_count": 21,
      "outputs": []
    },
    {
      "cell_type": "markdown",
      "metadata": {
        "id": "0ijx-R7aJbA6"
      },
      "source": [
        "## `Training loop`"
      ]
    },
    {
      "cell_type": "code",
      "metadata": {
        "colab": {
          "base_uri": "https://localhost:8080/"
        },
        "id": "tDOKJRW9JacW",
        "outputId": "a086173c-1108-404d-f87f-634337e1ce95"
      },
      "source": [
        "train_example = torch.randn(100,5) + 1\r\n",
        "adam_opt.zero_grad()\r\n",
        "\r\n",
        "# We'll use a simple loss function of mean distance from 1\r\n",
        "# torch.abs takes the absolute value of a tensor\r\n",
        "cur_loss = torch.abs(1 - mlp_layer(train_example)).mean()\r\n",
        "\r\n",
        "cur_loss.backward()\r\n",
        "adam_opt.step()\r\n",
        "print(cur_loss)"
      ],
      "execution_count": 22,
      "outputs": [
        {
          "output_type": "stream",
          "text": [
            "tensor(0.7560, grad_fn=<MeanBackward0>)\n"
          ],
          "name": "stdout"
        }
      ]
    },
    {
      "cell_type": "markdown",
      "metadata": {
        "id": "Apqms4_oJo2l"
      },
      "source": [
        "## `nn.class`"
      ]
    },
    {
      "cell_type": "code",
      "metadata": {
        "id": "B3z-mH6DJtH2"
      },
      "source": [
        "class ExampleModule(nn.Module):\r\n",
        "    def __init__(self, input_dims, output_dims):\r\n",
        "        super(ExampleModule, self).__init__()\r\n",
        "        self.linear = nn.Linear(input_dims, output_dims)\r\n",
        "        self.exponent = nn.Parameter(torch.tensor(1.))\r\n",
        "\r\n",
        "    def forward(self, x):\r\n",
        "        x = self.linear(x)\r\n",
        "\r\n",
        "        # This is the notation for element-wise exponentiation, \r\n",
        "        # which matches python in general\r\n",
        "        x = x ** self.exponent \r\n",
        "        \r\n",
        "        return x"
      ],
      "execution_count": 23,
      "outputs": []
    },
    {
      "cell_type": "code",
      "metadata": {
        "colab": {
          "base_uri": "https://localhost:8080/"
        },
        "id": "QSURp9xBJ0qj",
        "outputId": "4d6abd7f-b38b-4c65-aea8-3ec735d1c630"
      },
      "source": [
        "example_model = ExampleModule(10, 2)\r\n",
        "list(example_model.parameters())"
      ],
      "execution_count": 24,
      "outputs": [
        {
          "output_type": "execute_result",
          "data": {
            "text/plain": [
              "[Parameter containing:\n",
              " tensor(1., requires_grad=True), Parameter containing:\n",
              " tensor([[ 0.0631, -0.2466,  0.2183, -0.0528, -0.2260, -0.0105, -0.0904, -0.2834,\n",
              "          -0.0645, -0.1889],\n",
              "         [ 0.1647, -0.1744, -0.2623,  0.2025,  0.2671, -0.0699,  0.0691, -0.3035,\n",
              "          -0.1977, -0.1243]], requires_grad=True), Parameter containing:\n",
              " tensor([ 0.2181, -0.0385], requires_grad=True)]"
            ]
          },
          "metadata": {
            "tags": []
          },
          "execution_count": 24
        }
      ]
    },
    {
      "cell_type": "code",
      "metadata": {
        "colab": {
          "base_uri": "https://localhost:8080/"
        },
        "id": "iqwg1b9_J4j5",
        "outputId": "0d7af877-9d18-4f01-d4f0-e5c1cb777c46"
      },
      "source": [
        "list(example_model.named_parameters())"
      ],
      "execution_count": 25,
      "outputs": [
        {
          "output_type": "execute_result",
          "data": {
            "text/plain": [
              "[('exponent', Parameter containing:\n",
              "  tensor(1., requires_grad=True)), ('linear.weight', Parameter containing:\n",
              "  tensor([[ 0.0631, -0.2466,  0.2183, -0.0528, -0.2260, -0.0105, -0.0904, -0.2834,\n",
              "           -0.0645, -0.1889],\n",
              "          [ 0.1647, -0.1744, -0.2623,  0.2025,  0.2671, -0.0699,  0.0691, -0.3035,\n",
              "           -0.1977, -0.1243]], requires_grad=True)), ('linear.bias',\n",
              "  Parameter containing:\n",
              "  tensor([ 0.2181, -0.0385], requires_grad=True))]"
            ]
          },
          "metadata": {
            "tags": []
          },
          "execution_count": 25
        }
      ]
    },
    {
      "cell_type": "code",
      "metadata": {
        "colab": {
          "base_uri": "https://localhost:8080/"
        },
        "id": "hyrpwHTWJ9E4",
        "outputId": "dc3a5dfe-f441-4ddf-8156-5c74cbda8fc1"
      },
      "source": [
        "input = torch.randn(2, 10)\r\n",
        "example_model(input)"
      ],
      "execution_count": 26,
      "outputs": [
        {
          "output_type": "execute_result",
          "data": {
            "text/plain": [
              "tensor([[ 0.7044, -0.3044],\n",
              "        [ 0.4572,  1.3685]], grad_fn=<PowBackward1>)"
            ]
          },
          "metadata": {
            "tags": []
          },
          "execution_count": 26
        }
      ]
    }
  ]
}