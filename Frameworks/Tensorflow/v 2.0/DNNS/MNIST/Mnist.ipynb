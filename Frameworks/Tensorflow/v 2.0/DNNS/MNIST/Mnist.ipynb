{
  "nbformat": 4,
  "nbformat_minor": 0,
  "metadata": {
    "colab": {
      "name": "Untitled21.ipynb",
      "provenance": [],
      "authorship_tag": "ABX9TyOGwonTluX8HOcXXJII0lHS",
      "include_colab_link": true
    },
    "kernelspec": {
      "name": "python3",
      "display_name": "Python 3"
    }
  },
  "cells": [
    {
      "cell_type": "markdown",
      "metadata": {
        "id": "view-in-github",
        "colab_type": "text"
      },
      "source": [
        "<a href=\"https://colab.research.google.com/github/anubhavgupta1/Udacity/blob/main/Frameworks/Tensorflow/v%202.0/DNNS/MNIST/Mnist.ipynb\" target=\"_parent\"><img src=\"https://colab.research.google.com/assets/colab-badge.svg\" alt=\"Open In Colab\"/></a>"
      ]
    },
    {
      "cell_type": "markdown",
      "metadata": {
        "id": "V22To15Xzc6R"
      },
      "source": [
        "## Set Up"
      ]
    },
    {
      "cell_type": "code",
      "metadata": {
        "id": "zfZwRQOIxNun"
      },
      "source": [
        "import tensorflow as tf\r\n",
        "from tensorflow.keras import Model, layers\r\n",
        "import numpy as np\r\n",
        "from __future__ import absolute_import, division, print_function"
      ],
      "execution_count": 1,
      "outputs": []
    },
    {
      "cell_type": "markdown",
      "metadata": {
        "id": "95aubkMBzhUb"
      },
      "source": [
        "## Architecture Setup"
      ]
    },
    {
      "cell_type": "code",
      "metadata": {
        "id": "K3DNoboixfWY"
      },
      "source": [
        "# MNIST dataset parameters.\r\n",
        "num_classes = 10 # total classes (0-9 digits).\r\n",
        "num_features = 784 # data features (img shape: 28*28).\r\n",
        "\r\n",
        "# Training parameters.\r\n",
        "learning_rate = 0.1\r\n",
        "training_steps = 2000\r\n",
        "batch_size = 256\r\n",
        "display_step = 100\r\n",
        "\r\n",
        "# Network parameters.\r\n",
        "n_hidden_1 = 128 # 1st layer number of neurons.\r\n",
        "n_hidden_2 = 256 # 2nd layer number of neurons.\r\n",
        "\r\n",
        "# Stochastic gradient descent optimizer.\r\n",
        "optimizer = tf.optimizers.SGD(learning_rate)"
      ],
      "execution_count": 2,
      "outputs": []
    },
    {
      "cell_type": "markdown",
      "metadata": {
        "id": "F-Xrz30Tzl1p"
      },
      "source": [
        "## Load and Prepare Data"
      ]
    },
    {
      "cell_type": "code",
      "metadata": {
        "id": "tSmTAM5Tzr3a",
        "outputId": "7e526e60-5e2f-4e3e-d643-2815bf5004e3",
        "colab": {
          "base_uri": "https://localhost:8080/"
        }
      },
      "source": [
        "# Load MNIST data.\r\n",
        "from tensorflow.keras.datasets import mnist\r\n",
        "(x_train, y_train), (x_test, y_test) = mnist.load_data()\r\n",
        "print(x_train.shape[0])\r\n",
        "print(x_test.shape[0])"
      ],
      "execution_count": 3,
      "outputs": [
        {
          "output_type": "stream",
          "text": [
            "Downloading data from https://storage.googleapis.com/tensorflow/tf-keras-datasets/mnist.npz\n",
            "11493376/11490434 [==============================] - 0s 0us/step\n",
            "60000\n",
            "10000\n"
          ],
          "name": "stdout"
        }
      ]
    },
    {
      "cell_type": "markdown",
      "metadata": {
        "id": "L_nrc5Xgz37a"
      },
      "source": [
        "### Convert to float32."
      ]
    },
    {
      "cell_type": "code",
      "metadata": {
        "id": "1B1q604jzxtO"
      },
      "source": [
        "x_train, x_test = np.array(x_train, np.float32), np.array(x_test, np.float32)"
      ],
      "execution_count": 4,
      "outputs": []
    },
    {
      "cell_type": "markdown",
      "metadata": {
        "id": "s-N30fU60TxS"
      },
      "source": [
        "### Flatten images to 1-D vector of 784 features (28*28)."
      ]
    },
    {
      "cell_type": "code",
      "metadata": {
        "id": "8LTgMMzV0Uu4"
      },
      "source": [
        "x_train, x_test = x_train.reshape([-1, num_features]), x_test.reshape([-1, num_features])"
      ],
      "execution_count": 5,
      "outputs": []
    },
    {
      "cell_type": "markdown",
      "metadata": {
        "id": "8h5V-uub0c66"
      },
      "source": [
        "### Normalize images value from [0, 255] to [0, 1].\r\n"
      ]
    },
    {
      "cell_type": "code",
      "metadata": {
        "id": "8_3A7Sbn0b05"
      },
      "source": [
        "x_train, x_test = x_train / 255., x_test / 255."
      ],
      "execution_count": 6,
      "outputs": []
    },
    {
      "cell_type": "markdown",
      "metadata": {
        "id": "dKiyF7Ha09UD"
      },
      "source": [
        "## Batching"
      ]
    },
    {
      "cell_type": "code",
      "metadata": {
        "id": "i-HccI4E0_ac"
      },
      "source": [
        "# Use tf.data API to shuffle and batch data.\r\n",
        "train_data = tf.data.Dataset.from_tensor_slices((x_train, y_train))\r\n",
        "train_data = train_data.repeat().shuffle(5000).batch(batch_size).prefetch(1)"
      ],
      "execution_count": 7,
      "outputs": []
    },
    {
      "cell_type": "markdown",
      "metadata": {
        "id": "bcZe0naN1PtX"
      },
      "source": [
        "## Model"
      ]
    },
    {
      "cell_type": "code",
      "metadata": {
        "id": "dkrSND6G1RBG"
      },
      "source": [
        "# Create TF Model.\r\n",
        "class NeuralNet(Model):\r\n",
        "    # Set layers.\r\n",
        "    def __init__(self):\r\n",
        "        super(NeuralNet, self).__init__()\r\n",
        "        # First fully-connected hidden layer.\r\n",
        "        self.fc1 = layers.Dense(n_hidden_1, activation=tf.nn.relu)\r\n",
        "        # First fully-connected hidden layer.\r\n",
        "        self.fc2 = layers.Dense(n_hidden_2, activation=tf.nn.relu)\r\n",
        "        # Second fully-connecter hidden layer.\r\n",
        "        self.out = layers.Dense(num_classes)\r\n",
        "\r\n",
        "    # Set forward pass.\r\n",
        "    def call(self, x, is_training=False):\r\n",
        "        x = self.fc1(x)\r\n",
        "        x = self.fc2(x)\r\n",
        "        x = self.out(x)\r\n",
        "        if not is_training:\r\n",
        "            # tf cross entropy expect logits without softmax, so only\r\n",
        "            # apply softmax when not training.\r\n",
        "            x = tf.nn.softmax(x)\r\n",
        "        return x"
      ],
      "execution_count": 8,
      "outputs": []
    },
    {
      "cell_type": "code",
      "metadata": {
        "id": "aw5f-5An1R1O"
      },
      "source": [
        "# Build neural network model.\r\n",
        "neural_net = NeuralNet()"
      ],
      "execution_count": 9,
      "outputs": []
    },
    {
      "cell_type": "markdown",
      "metadata": {
        "id": "LNuFV6Gy1e-b"
      },
      "source": [
        "## Helper Functions"
      ]
    },
    {
      "cell_type": "markdown",
      "metadata": {
        "id": "9YhK1Hbm1h25"
      },
      "source": [
        "### Crosss Entropy Loss"
      ]
    },
    {
      "cell_type": "code",
      "metadata": {
        "id": "dR0uOEr81eK0"
      },
      "source": [
        "# Cross-Entropy Loss.\r\n",
        "# Note that this will apply 'softmax' to the logits.\r\n",
        "def cross_entropy_loss(x, y):\r\n",
        "    # Convert labels to int 64 for tf cross-entropy function.\r\n",
        "    y = tf.cast(y, tf.int64)\r\n",
        "    # Apply softmax to logits and compute cross-entropy.\r\n",
        "    loss = tf.nn.sparse_softmax_cross_entropy_with_logits(labels=y, logits=x)\r\n",
        "    # Average loss across the batch.\r\n",
        "    return tf.reduce_mean(loss)"
      ],
      "execution_count": 10,
      "outputs": []
    },
    {
      "cell_type": "markdown",
      "metadata": {
        "id": "xK4lgfDx1zI5"
      },
      "source": [
        "### Accuracy Check"
      ]
    },
    {
      "cell_type": "code",
      "metadata": {
        "id": "a4XZjRmP1xu0"
      },
      "source": [
        "# Accuracy metric.\r\n",
        "def accuracy(y_pred, y_true):\r\n",
        "    # Predicted class is the index of highest score in prediction vector (i.e. argmax).\r\n",
        "    correct_prediction = tf.equal(tf.argmax(y_pred, 1), tf.cast(y_true, tf.int64))\r\n",
        "    return tf.reduce_mean(tf.cast(correct_prediction, tf.float32), axis=-1)"
      ],
      "execution_count": 11,
      "outputs": []
    },
    {
      "cell_type": "markdown",
      "metadata": {
        "id": "-Hidr0MR2IRN"
      },
      "source": [
        "### Book Keeping"
      ]
    },
    {
      "cell_type": "code",
      "metadata": {
        "id": "aimhgsfE2F6u"
      },
      "source": [
        "# Optimization process. \r\n",
        "def run_optimization(x, y):\r\n",
        "    # Wrap computation inside a GradientTape for automatic differentiation.\r\n",
        "    with tf.GradientTape() as g:\r\n",
        "        # Forward pass.\r\n",
        "        pred = neural_net(x, is_training=True)\r\n",
        "        # Compute loss.\r\n",
        "        loss = cross_entropy_loss(pred, y)\r\n",
        "        \r\n",
        "    # Variables to update, i.e. trainable variables.\r\n",
        "    trainable_variables = neural_net.trainable_variables\r\n",
        "\r\n",
        "    # Compute gradients.\r\n",
        "    gradients = g.gradient(loss, trainable_variables)\r\n",
        "    \r\n",
        "    # Update W and b following gradients.\r\n",
        "    optimizer.apply_gradients(zip(gradients, trainable_variables))"
      ],
      "execution_count": 12,
      "outputs": []
    },
    {
      "cell_type": "markdown",
      "metadata": {
        "id": "Wve-LtlQ37ge"
      },
      "source": [
        "## Training"
      ]
    },
    {
      "cell_type": "code",
      "metadata": {
        "id": "E4XZ-Yno39qR",
        "outputId": "84beeec9-6974-4b24-f513-928040357bf9",
        "colab": {
          "base_uri": "https://localhost:8080/"
        }
      },
      "source": [
        "# Run training for the given number of steps.\r\n",
        "for step, (batch_x, batch_y) in enumerate(train_data.take(training_steps), 1):\r\n",
        "    # Run the optimization to update W and b values.\r\n",
        "    run_optimization(batch_x, batch_y)\r\n",
        "    \r\n",
        "    if step % display_step == 0:\r\n",
        "        pred = neural_net(batch_x, is_training=True)\r\n",
        "        loss = cross_entropy_loss(pred, batch_y)\r\n",
        "        acc = accuracy(pred, batch_y)\r\n",
        "        print(\"step: %i, loss: %f, accuracy: %f\" % (step, loss, acc))"
      ],
      "execution_count": 13,
      "outputs": [
        {
          "output_type": "stream",
          "text": [
            "step: 100, loss: 0.326567, accuracy: 0.914062\n",
            "step: 200, loss: 0.279838, accuracy: 0.933594\n",
            "step: 300, loss: 0.239511, accuracy: 0.929688\n",
            "step: 400, loss: 0.280852, accuracy: 0.929688\n",
            "step: 500, loss: 0.192736, accuracy: 0.941406\n",
            "step: 600, loss: 0.157087, accuracy: 0.968750\n",
            "step: 700, loss: 0.196219, accuracy: 0.960938\n",
            "step: 800, loss: 0.198721, accuracy: 0.921875\n",
            "step: 900, loss: 0.204654, accuracy: 0.941406\n",
            "step: 1000, loss: 0.095151, accuracy: 0.980469\n",
            "step: 1100, loss: 0.173108, accuracy: 0.964844\n",
            "step: 1200, loss: 0.126719, accuracy: 0.968750\n",
            "step: 1300, loss: 0.081247, accuracy: 0.976562\n",
            "step: 1400, loss: 0.106056, accuracy: 0.980469\n",
            "step: 1500, loss: 0.145028, accuracy: 0.964844\n",
            "step: 1600, loss: 0.100916, accuracy: 0.972656\n",
            "step: 1700, loss: 0.094564, accuracy: 0.957031\n",
            "step: 1800, loss: 0.089010, accuracy: 0.976562\n",
            "step: 1900, loss: 0.068556, accuracy: 0.976562\n",
            "step: 2000, loss: 0.065783, accuracy: 0.984375\n"
          ],
          "name": "stdout"
        }
      ]
    },
    {
      "cell_type": "code",
      "metadata": {
        "id": "hxw7lEKQ4EKI",
        "outputId": "a89099d8-0bbc-467a-a572-b468707cd7a1",
        "colab": {
          "base_uri": "https://localhost:8080/"
        }
      },
      "source": [
        "# Test model on validation set.\r\n",
        "pred = neural_net(x_test, is_training=False)\r\n",
        "print(\"Test Accuracy: %f\" % accuracy(pred, y_test))"
      ],
      "execution_count": 14,
      "outputs": [
        {
          "output_type": "stream",
          "text": [
            "Test Accuracy: 0.966800\n"
          ],
          "name": "stdout"
        }
      ]
    },
    {
      "cell_type": "code",
      "metadata": {
        "id": "kvJX7h744Grc"
      },
      "source": [
        "# Visualize predictions.\r\n",
        "import matplotlib.pyplot as plt"
      ],
      "execution_count": 15,
      "outputs": []
    },
    {
      "cell_type": "code",
      "metadata": {
        "id": "2HuxWdD-4Jbo",
        "outputId": "9a0edcea-a37f-4aa7-f622-81807bd0a011",
        "colab": {
          "base_uri": "https://localhost:8080/",
          "height": 1000
        }
      },
      "source": [
        "# Predict 5 images from validation set.\r\n",
        "n_images = 5\r\n",
        "test_images = x_test[:n_images]\r\n",
        "predictions = neural_net(test_images)\r\n",
        "\r\n",
        "# Display image and model prediction.\r\n",
        "for i in range(n_images):\r\n",
        "    plt.imshow(np.reshape(test_images[i], [28, 28]), cmap='gray')\r\n",
        "    plt.show()\r\n",
        "    print(\"Model prediction: %i\" % np.argmax(predictions.numpy()[i]))"
      ],
      "execution_count": 16,
      "outputs": [
        {
          "output_type": "display_data",
          "data": {
            "image/png": "[encoded data removed]",
            "text/plain": [
              "<Figure size 432x288 with 1 Axes>"
            ]
          },
          "metadata": {
            "tags": [],
            "needs_background": "light"
          }
        },
        {
          "output_type": "stream",
          "text": [
            "Model prediction: 7\n"
          ],
          "name": "stdout"
        },
        {
          "output_type": "display_data",
          "data": {
            "image/png": "[encoded data removed]",
            "text/plain": [
              "<Figure size 432x288 with 1 Axes>"
            ]
          },
          "metadata": {
            "tags": [],
            "needs_background": "light"
          }
        },
        {
          "output_type": "stream",
          "text": [
            "Model prediction: 2\n"
          ],
          "name": "stdout"
        },
        {
          "output_type": "display_data",
          "data": {
            "image/png": "[encoded data removed]",
            "text/plain": [
              "<Figure size 432x288 with 1 Axes>"
            ]
          },
          "metadata": {
            "tags": [],
            "needs_background": "light"
          }
        },
        {
          "output_type": "stream",
          "text": [
            "Model prediction: 1\n"
          ],
          "name": "stdout"
        },
        {
          "output_type": "display_data",
          "data": {
            "image/png": "[encoded data removed]",
            "text/plain": [
              "<Figure size 432x288 with 1 Axes>"
            ]
          },
          "metadata": {
            "tags": [],
            "needs_background": "light"
          }
        },
        {
          "output_type": "stream",
          "text": [
            "Model prediction: 0\n"
          ],
          "name": "stdout"
        },
        {
          "output_type": "display_data",
          "data": {
            "image/png": "[encoded data removed]",
            "text/plain": [
              "<Figure size 432x288 with 1 Axes>"
            ]
          },
          "metadata": {
            "tags": [],
            "needs_background": "light"
          }
        },
        {
          "output_type": "stream",
          "text": [
            "Model prediction: 4\n"
          ],
          "name": "stdout"
        }
      ]
    }
  ]
}