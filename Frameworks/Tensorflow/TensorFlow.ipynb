{
  "nbformat": 4,
  "nbformat_minor": 0,
  "metadata": {
    "colab": {
      "name": "Untitled19.ipynb",
      "provenance": [],
      "authorship_tag": "ABX9TyNOvfWRrP5nFcxrTPyOpX4d",
      "include_colab_link": true
    },
    "kernelspec": {
      "name": "python3",
      "display_name": "Python 3"
    }
  },
  "cells": [
    {
      "cell_type": "markdown",
      "metadata": {
        "id": "view-in-github",
        "colab_type": "text"
      },
      "source": [
        "<a href=\"https://colab.research.google.com/github/anubhavgupta1/Udacity/blob/main/Frameworks/Tensorflow/TensorFlow.ipynb\" target=\"_parent\"><img src=\"https://colab.research.google.com/assets/colab-badge.svg\" alt=\"Open In Colab\"/></a>"
      ]
    },
    {
      "cell_type": "markdown",
      "metadata": {
        "id": "XPDygZOFIt-1"
      },
      "source": [
        "## Setup"
      ]
    },
    {
      "cell_type": "code",
      "metadata": {
        "id": "Yb9M6BSpIs_P"
      },
      "source": [
        "import tensorflow as tf\r\n",
        "from tensorflow import keras"
      ],
      "execution_count": 1,
      "outputs": []
    },
    {
      "cell_type": "markdown",
      "metadata": {
        "id": "FNDec5fQKEdg"
      },
      "source": [
        "## Tensor Constants"
      ]
    },
    {
      "cell_type": "code",
      "metadata": {
        "colab": {
          "base_uri": "https://localhost:8080/"
        },
        "id": "nPwcZXxaJKvL",
        "outputId": "f355e686-52db-4c81-cc66-549ff681dc77"
      },
      "source": [
        "X = tf.constant([[5, 2], [1, 3]])\r\n",
        "print(X)\r\n",
        "print(\"dtype:\", X.dtype)\r\n",
        "print(\"shape:\", X.shape)"
      ],
      "execution_count": 2,
      "outputs": [
        {
          "output_type": "stream",
          "text": [
            "tf.Tensor(\n",
            "[[5 2]\n",
            " [1 3]], shape=(2, 2), dtype=int32)\n",
            "dtype: <dtype: 'int32'>\n",
            "shape: (2, 2)\n"
          ],
          "name": "stdout"
        }
      ]
    },
    {
      "cell_type": "markdown",
      "metadata": {
        "id": "szLO1iLaKNOv"
      },
      "source": [
        "## Tensor Constants via tf.ones and tf.zeros "
      ]
    },
    {
      "cell_type": "code",
      "metadata": {
        "colab": {
          "base_uri": "https://localhost:8080/"
        },
        "id": "deKpTiU_KVOI",
        "outputId": "739291d4-a6ad-417f-df52-d5cec717dc4f"
      },
      "source": [
        "X = tf.ones(shape=(2, 1))\r\n",
        "Y = tf.zeros(shape=(2, 1))\r\n",
        "print(X)\r\n",
        "print(Y)"
      ],
      "execution_count": 3,
      "outputs": [
        {
          "output_type": "stream",
          "text": [
            "tf.Tensor(\n",
            "[[1.]\n",
            " [1.]], shape=(2, 1), dtype=float32)\n",
            "tf.Tensor(\n",
            "[[0.]\n",
            " [0.]], shape=(2, 1), dtype=float32)\n"
          ],
          "name": "stdout"
        }
      ]
    },
    {
      "cell_type": "markdown",
      "metadata": {
        "id": "clf3glfxK83z"
      },
      "source": [
        "## Random Constant Tensors"
      ]
    },
    {
      "cell_type": "code",
      "metadata": {
        "colab": {
          "base_uri": "https://localhost:8080/"
        },
        "id": "WjlgCJlVLAdh",
        "outputId": "36194dd9-b7ff-4376-ce6a-bb369db1fffd"
      },
      "source": [
        "X = tf.random.normal(shape=(2, 2), mean=0.0, stddev=1.0)\r\n",
        "Y = tf.random.uniform(shape=(2, 2), minval=0, maxval=10, dtype=\"int32\")\r\n",
        "print(X)\r\n",
        "print(Y)"
      ],
      "execution_count": 4,
      "outputs": [
        {
          "output_type": "stream",
          "text": [
            "tf.Tensor(\n",
            "[[-0.95891917 -1.5988225 ]\n",
            " [-1.0177909   0.4417572 ]], shape=(2, 2), dtype=float32)\n",
            "tf.Tensor(\n",
            "[[2 6]\n",
            " [6 6]], shape=(2, 2), dtype=int32)\n"
          ],
          "name": "stdout"
        }
      ]
    },
    {
      "cell_type": "markdown",
      "metadata": {
        "id": "CMzhNJGJMXAJ"
      },
      "source": [
        "## Variables"
      ]
    },
    {
      "cell_type": "code",
      "metadata": {
        "colab": {
          "base_uri": "https://localhost:8080/"
        },
        "id": "29gnA4vnMU4A",
        "outputId": "c0f34e79-1a78-49d0-b3cf-a1527534a20d"
      },
      "source": [
        "initial_value = tf.random.normal(shape=(2, 2))\r\n",
        "a = tf.Variable(initial_value)\r\n",
        "print(a)"
      ],
      "execution_count": 5,
      "outputs": [
        {
          "output_type": "stream",
          "text": [
            "<tf.Variable 'Variable:0' shape=(2, 2) dtype=float32, numpy=\n",
            "array([[-1.5189735 ,  0.762988  ],\n",
            "       [ 0.22817664,  0.8628653 ]], dtype=float32)>\n"
          ],
          "name": "stdout"
        }
      ]
    },
    {
      "cell_type": "markdown",
      "metadata": {
        "id": "48R0KSO_M12W"
      },
      "source": [
        "#### You update the value of a Variable by using the methods .assign(value),assign_add(increment), or .assign_sub(decrement):"
      ]
    },
    {
      "cell_type": "code",
      "metadata": {
        "colab": {
          "base_uri": "https://localhost:8080/"
        },
        "id": "QD7VXGHYMwJf",
        "outputId": "a6d66a90-ce4b-4068-8754-b6970c9156ef"
      },
      "source": [
        "new_value = tf.random.normal(shape=(2, 2))\r\n",
        "a.assign(new_value)\r\n",
        "for i in range(2):\r\n",
        "    for j in range(2):\r\n",
        "        assert a[i, j] == new_value[i, j]\r\n",
        "print(a)"
      ],
      "execution_count": 6,
      "outputs": [
        {
          "output_type": "stream",
          "text": [
            "<tf.Variable 'Variable:0' shape=(2, 2) dtype=float32, numpy=\n",
            "array([[-1.7787517 ,  2.0455437 ],\n",
            "       [-0.92930007, -0.22045809]], dtype=float32)>\n"
          ],
          "name": "stdout"
        }
      ]
    },
    {
      "cell_type": "code",
      "metadata": {
        "colab": {
          "base_uri": "https://localhost:8080/"
        },
        "id": "usk62moCNSV0",
        "outputId": "4109977e-57e4-471e-c543-2a1790e31e09"
      },
      "source": [
        "added_value = tf.random.normal(shape=(2, 2))\r\n",
        "a.assign_add(added_value)\r\n",
        "print(a)"
      ],
      "execution_count": 7,
      "outputs": [
        {
          "output_type": "stream",
          "text": [
            "<tf.Variable 'Variable:0' shape=(2, 2) dtype=float32, numpy=\n",
            "array([[-4.0213923 ,  1.3225266 ],\n",
            "       [ 0.24922359, -0.49223682]], dtype=float32)>\n"
          ],
          "name": "stdout"
        }
      ]
    },
    {
      "cell_type": "code",
      "metadata": {
        "colab": {
          "base_uri": "https://localhost:8080/"
        },
        "id": "LQ2ZMbv6Nou5",
        "outputId": "1e3fc172-68a3-4ff5-b0d7-e2311406a524"
      },
      "source": [
        "for i in range(2):\r\n",
        "    for j in range(2):\r\n",
        "        assert a[i, j] == new_value[i, j] + added_value[i, j]\r\n",
        "print(a)"
      ],
      "execution_count": 8,
      "outputs": [
        {
          "output_type": "stream",
          "text": [
            "<tf.Variable 'Variable:0' shape=(2, 2) dtype=float32, numpy=\n",
            "array([[-4.0213923 ,  1.3225266 ],\n",
            "       [ 0.24922359, -0.49223682]], dtype=float32)>\n"
          ],
          "name": "stdout"
        }
      ]
    },
    {
      "cell_type": "markdown",
      "metadata": {
        "id": "Il4mAgh9NzjY"
      },
      "source": [
        "## Maths in TF"
      ]
    },
    {
      "cell_type": "code",
      "metadata": {
        "colab": {
          "base_uri": "https://localhost:8080/"
        },
        "id": "JRYD_bpBNylD",
        "outputId": "1139d7ab-c156-432d-dd44-8e62b1b0cdea"
      },
      "source": [
        "a = tf.random.normal(shape=(2, 2))\r\n",
        "b = tf.random.normal(shape=(2, 2))\r\n",
        "print(a)\r\n",
        "print(b)"
      ],
      "execution_count": 9,
      "outputs": [
        {
          "output_type": "stream",
          "text": [
            "tf.Tensor(\n",
            "[[-0.6332619   1.4715046 ]\n",
            " [-0.19893837 -1.3217686 ]], shape=(2, 2), dtype=float32)\n",
            "tf.Tensor(\n",
            "[[-1.0818979   0.9864255 ]\n",
            " [-0.62936914  0.4656114 ]], shape=(2, 2), dtype=float32)\n"
          ],
          "name": "stdout"
        }
      ]
    },
    {
      "cell_type": "code",
      "metadata": {
        "colab": {
          "base_uri": "https://localhost:8080/"
        },
        "id": "XRsjddjuN8l-",
        "outputId": "a31a3ab4-46e1-48f9-a494-a2c3ffba8927"
      },
      "source": [
        "c = a + b\r\n",
        "print(c)"
      ],
      "execution_count": 10,
      "outputs": [
        {
          "output_type": "stream",
          "text": [
            "tf.Tensor(\n",
            "[[-1.7151598   2.45793   ]\n",
            " [-0.8283075  -0.85615724]], shape=(2, 2), dtype=float32)\n"
          ],
          "name": "stdout"
        }
      ]
    },
    {
      "cell_type": "code",
      "metadata": {
        "colab": {
          "base_uri": "https://localhost:8080/"
        },
        "id": "nL7GhsaNOCKW",
        "outputId": "10abb961-b1f2-4aea-b573-4c1a56eabcd5"
      },
      "source": [
        "d = tf.square(c)\r\n",
        "print(d)"
      ],
      "execution_count": 11,
      "outputs": [
        {
          "output_type": "stream",
          "text": [
            "tf.Tensor(\n",
            "[[2.941773   6.0414205 ]\n",
            " [0.68609333 0.7330052 ]], shape=(2, 2), dtype=float32)\n"
          ],
          "name": "stdout"
        }
      ]
    },
    {
      "cell_type": "code",
      "metadata": {
        "colab": {
          "base_uri": "https://localhost:8080/"
        },
        "id": "JBeuwBYYOG3z",
        "outputId": "19413f92-7e22-48e4-ca6c-f814f41c93f6"
      },
      "source": [
        "e = tf.exp(d)\r\n",
        "print(e)"
      ],
      "execution_count": 12,
      "outputs": [
        {
          "output_type": "stream",
          "text": [
            "tf.Tensor(\n",
            "[[ 18.949413  420.4899   ]\n",
            " [  1.9859419   2.081326 ]], shape=(2, 2), dtype=float32)\n"
          ],
          "name": "stdout"
        }
      ]
    },
    {
      "cell_type": "code",
      "metadata": {
        "colab": {
          "base_uri": "https://localhost:8080/"
        },
        "id": "P8ihGOn3Oucx",
        "outputId": "72505af0-094c-4851-ea56-8b6d2beb885d"
      },
      "source": [
        "f = tf.sqrt(tf.square(a) + tf.square(b))\r\n",
        "print(f)"
      ],
      "execution_count": 13,
      "outputs": [
        {
          "output_type": "stream",
          "text": [
            "tf.Tensor(\n",
            "[[1.2536043  1.771542  ]\n",
            " [0.66006213 1.4013802 ]], shape=(2, 2), dtype=float32)\n"
          ],
          "name": "stdout"
        }
      ]
    },
    {
      "cell_type": "markdown",
      "metadata": {
        "id": "B3xyOSW1OL9L"
      },
      "source": [
        "## Gradients"
      ]
    },
    {
      "cell_type": "code",
      "metadata": {
        "colab": {
          "base_uri": "https://localhost:8080/"
        },
        "id": "Im6qEPZVOK4o",
        "outputId": "56da352d-fae8-449e-a776-bab1c63cd0d6"
      },
      "source": [
        "a = tf.random.normal(shape=(2, 2))\r\n",
        "b = tf.random.normal(shape=(2, 2))\r\n",
        "\r\n",
        "with tf.GradientTape() as tape:\r\n",
        "    tape.watch(a)  # Start recording the history of operations applied to `a`\r\n",
        "    c = tf.sqrt(tf.square(a) + tf.square(b))  # Do some math using `a`\r\n",
        "    # What's the gradient of `c` with respect to `a`?\r\n",
        "    dc_da = tape.gradient(c, a)\r\n",
        "    print(dc_da)"
      ],
      "execution_count": 14,
      "outputs": [
        {
          "output_type": "stream",
          "text": [
            "tf.Tensor(\n",
            "[[ 0.4628807 -0.994049 ]\n",
            " [ 0.7238441  0.6806107]], shape=(2, 2), dtype=float32)\n"
          ],
          "name": "stdout"
        }
      ]
    },
    {
      "cell_type": "markdown",
      "metadata": {
        "id": "1nbT3Y0pQerH"
      },
      "source": [
        "#### By default, variables are watched automatically, so you don't need to manually watch them:"
      ]
    },
    {
      "cell_type": "code",
      "metadata": {
        "colab": {
          "base_uri": "https://localhost:8080/"
        },
        "id": "4zPutLJJPMP2",
        "outputId": "2287d263-5854-4bfd-d519-6d8e34caf8f2"
      },
      "source": [
        "a = tf.Variable(a)\r\n",
        "\r\n",
        "with tf.GradientTape() as tape:\r\n",
        "    c = tf.sqrt(tf.square(a) + tf.square(b))\r\n",
        "    dc_da = tape.gradient(c, a)\r\n",
        "    print(dc_da)"
      ],
      "execution_count": 15,
      "outputs": [
        {
          "output_type": "stream",
          "text": [
            "tf.Tensor(\n",
            "[[ 0.4628807 -0.994049 ]\n",
            " [ 0.7238441  0.6806107]], shape=(2, 2), dtype=float32)\n"
          ],
          "name": "stdout"
        }
      ]
    },
    {
      "cell_type": "code",
      "metadata": {
        "colab": {
          "base_uri": "https://localhost:8080/"
        },
        "id": "fYz3B8B8Q0Eq",
        "outputId": "9245080a-6572-436c-fd70-7cad11a9007a"
      },
      "source": [
        "with tf.GradientTape() as outer_tape:\r\n",
        "    with tf.GradientTape() as tape:\r\n",
        "        c = tf.sqrt(tf.square(a) + tf.square(b))\r\n",
        "        dc_da = tape.gradient(c, a)\r\n",
        "    d2c_da2 = outer_tape.gradient(dc_da, a)\r\n",
        "    print(d2c_da2)"
      ],
      "execution_count": 16,
      "outputs": [
        {
          "output_type": "stream",
          "text": [
            "tf.Tensor(\n",
            "[[0.7847075  0.02863288]\n",
            " [0.27968067 0.25622725]], shape=(2, 2), dtype=float32)\n"
          ],
          "name": "stdout"
        }
      ]
    }
  ]
}