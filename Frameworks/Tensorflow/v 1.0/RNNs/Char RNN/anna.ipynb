{
  "nbformat": 4,
  "nbformat_minor": 0,
  "metadata": {
    "colab": {
      "name": "Untitled23.ipynb",
      "provenance": [],
      "authorship_tag": "ABX9TyNf3miZ0elnRA8y/2RjC2/h",
      "include_colab_link": true
    },
    "kernelspec": {
      "name": "python3",
      "display_name": "Python 3"
    }
  },
  "cells": [
    {
      "cell_type": "markdown",
      "metadata": {
        "id": "view-in-github",
        "colab_type": "text"
      },
      "source": [
        "<a href=\"https://colab.research.google.com/github/anubhavgupta1/Udacity/blob/main/Frameworks/Tensorflow/v%201.0/RNNs/Char%20RNN/anna.ipynb\" target=\"_parent\"><img src=\"https://colab.research.google.com/assets/colab-badge.svg\" alt=\"Open In Colab\"/></a>"
      ]
    },
    {
      "cell_type": "code",
      "metadata": {
        "colab": {
          "base_uri": "https://localhost:8080/"
        },
        "id": "8a2nRDGUnGfV",
        "outputId": "d6afc821-caf1-498b-f2f1-5e20aade30ec"
      },
      "source": [
        "!ls\r\n",
        "!apt-get install -y -qq software-properties-common python-software-properties module-init-tools\r\n",
        "!add-apt-repository -y ppa:alessandro-strada/ppa 2>&1 > /dev/null\r\n",
        "!apt-get update -qq 2>&1 > /dev/null\r\n",
        "!apt-get -y install -qq google-drive-ocamlfuse fuse\r\n",
        "from google.colab import auth\r\n",
        "auth.authenticate_user()\r\n",
        "from oauth2client.client import GoogleCredentials\r\n",
        "creds = GoogleCredentials.get_application_default()\r\n",
        "import getpass\r\n",
        "!google-drive-ocamlfuse -headless -id={creds.client_id} -secret={creds.client_secret} < /dev/null 2>&1 | grep URL\r\n",
        "vcode = getpass.getpass()\r\n",
        "!echo {vcode} | google-drive-ocamlfuse -headless -id={creds.client_id} -secret={creds.client_secret}\r\n",
        "\r\n",
        "\r\n",
        "!mkdir -p drive\r\n",
        "!google-drive-ocamlfuse drive\r\n",
        "\r\n",
        "import os\r\n",
        "os.chdir(\"drive/Udacity/RNN/\")\r\n",
        "!ls"
      ],
      "execution_count": 1,
      "outputs": [
        {
          "output_type": "stream",
          "text": [
            "sample_data\n",
            "E: Package 'python-software-properties' has no installation candidate\n",
            "Selecting previously unselected package google-drive-ocamlfuse.\n",
            "(Reading database ... 146364 files and directories currently installed.)\n",
            "Preparing to unpack .../google-drive-ocamlfuse_0.7.24-0ubuntu1~ubuntu18.04.1_amd64.deb ...\n",
            "Unpacking google-drive-ocamlfuse (0.7.24-0ubuntu1~ubuntu18.04.1) ...\n",
            "Setting up google-drive-ocamlfuse (0.7.24-0ubuntu1~ubuntu18.04.1) ...\n",
            "Processing triggers for man-db (2.8.3-2ubuntu0.1) ...\n",
            "Please, open the following URL in a web browser: https://accounts.google.com/o/oauth2/auth?client_id=32555940559.apps.googleusercontent.com&redirect_uri=urn%3Aietf%3Awg%3Aoauth%3A2.0%3Aoob&scope=https%3A%2F%2Fwww.googleapis.com%2Fauth%2Fdrive&response_type=code&access_type=offline&approval_prompt=force\n",
            "··········\n",
            "Please, open the following URL in a web browser: https://accounts.google.com/o/oauth2/auth?client_id=32555940559.apps.googleusercontent.com&redirect_uri=urn%3Aietf%3Awg%3Aoauth%3A2.0%3Aoob&scope=https%3A%2F%2Fwww.googleapis.com%2Fauth%2Fdrive&response_type=code&access_type=offline&approval_prompt=force\n",
            "Please enter the verification code: Access token retrieved correctly.\n",
            "'Anna Karenina.txt'   name2lang.txt   rnn_20_epoch.net\n"
          ],
          "name": "stdout"
        }
      ]
    },
    {
      "cell_type": "code",
      "metadata": {
        "colab": {
          "base_uri": "https://localhost:8080/"
        },
        "id": "BysGgRTagCJb",
        "outputId": "5a9c4bd6-f2e3-44c1-9d6d-9302b912b256"
      },
      "source": [
        "!pip install tensorflow==1.15.0"
      ],
      "execution_count": 2,
      "outputs": [
        {
          "output_type": "stream",
          "text": [
            "Collecting tensorflow==1.15.0\n",
            "\u001b[?25l  Downloading https://files.pythonhosted.org/packages/3f/98/5a99af92fb911d7a88a0005ad55005f35b4c1ba8d75fba02df726cd936e6/tensorflow-1.15.0-cp36-cp36m-manylinux2010_x86_64.whl (412.3MB)\n",
            "\u001b[K     |████████████████████████████████| 412.3MB 44kB/s \n",
            "\u001b[?25hRequirement already satisfied: wrapt>=1.11.1 in /usr/local/lib/python3.6/dist-packages (from tensorflow==1.15.0) (1.12.1)\n",
            "Requirement already satisfied: grpcio>=1.8.6 in /usr/local/lib/python3.6/dist-packages (from tensorflow==1.15.0) (1.32.0)\n",
            "Requirement already satisfied: absl-py>=0.7.0 in /usr/local/lib/python3.6/dist-packages (from tensorflow==1.15.0) (0.10.0)\n",
            "Requirement already satisfied: six>=1.10.0 in /usr/local/lib/python3.6/dist-packages (from tensorflow==1.15.0) (1.15.0)\n",
            "Requirement already satisfied: termcolor>=1.1.0 in /usr/local/lib/python3.6/dist-packages (from tensorflow==1.15.0) (1.1.0)\n",
            "Requirement already satisfied: opt-einsum>=2.3.2 in /usr/local/lib/python3.6/dist-packages (from tensorflow==1.15.0) (3.3.0)\n",
            "Requirement already satisfied: astor>=0.6.0 in /usr/local/lib/python3.6/dist-packages (from tensorflow==1.15.0) (0.8.1)\n",
            "Requirement already satisfied: keras-preprocessing>=1.0.5 in /usr/local/lib/python3.6/dist-packages (from tensorflow==1.15.0) (1.1.2)\n",
            "Collecting keras-applications>=1.0.8\n",
            "\u001b[?25l  Downloading https://files.pythonhosted.org/packages/71/e3/19762fdfc62877ae9102edf6342d71b28fbfd9dea3d2f96a882ce099b03f/Keras_Applications-1.0.8-py3-none-any.whl (50kB)\n",
            "\u001b[K     |████████████████████████████████| 51kB 4.5MB/s \n",
            "\u001b[?25hRequirement already satisfied: protobuf>=3.6.1 in /usr/local/lib/python3.6/dist-packages (from tensorflow==1.15.0) (3.12.4)\n",
            "Collecting tensorboard<1.16.0,>=1.15.0\n",
            "\u001b[?25l  Downloading https://files.pythonhosted.org/packages/1e/e9/d3d747a97f7188f48aa5eda486907f3b345cd409f0a0850468ba867db246/tensorboard-1.15.0-py3-none-any.whl (3.8MB)\n",
            "\u001b[K     |████████████████████████████████| 3.8MB 42.9MB/s \n",
            "\u001b[?25hCollecting tensorflow-estimator==1.15.1\n",
            "\u001b[?25l  Downloading https://files.pythonhosted.org/packages/de/62/2ee9cd74c9fa2fa450877847ba560b260f5d0fb70ee0595203082dafcc9d/tensorflow_estimator-1.15.1-py2.py3-none-any.whl (503kB)\n",
            "\u001b[K     |████████████████████████████████| 512kB 53.9MB/s \n",
            "\u001b[?25hRequirement already satisfied: wheel>=0.26 in /usr/local/lib/python3.6/dist-packages (from tensorflow==1.15.0) (0.36.2)\n",
            "Collecting gast==0.2.2\n",
            "  Downloading https://files.pythonhosted.org/packages/4e/35/11749bf99b2d4e3cceb4d55ca22590b0d7c2c62b9de38ac4a4a7f4687421/gast-0.2.2.tar.gz\n",
            "Requirement already satisfied: google-pasta>=0.1.6 in /usr/local/lib/python3.6/dist-packages (from tensorflow==1.15.0) (0.2.0)\n",
            "Requirement already satisfied: numpy<2.0,>=1.16.0 in /usr/local/lib/python3.6/dist-packages (from tensorflow==1.15.0) (1.19.5)\n",
            "Requirement already satisfied: h5py in /usr/local/lib/python3.6/dist-packages (from keras-applications>=1.0.8->tensorflow==1.15.0) (2.10.0)\n",
            "Requirement already satisfied: setuptools in /usr/local/lib/python3.6/dist-packages (from protobuf>=3.6.1->tensorflow==1.15.0) (51.1.2)\n",
            "Requirement already satisfied: markdown>=2.6.8 in /usr/local/lib/python3.6/dist-packages (from tensorboard<1.16.0,>=1.15.0->tensorflow==1.15.0) (3.3.3)\n",
            "Requirement already satisfied: werkzeug>=0.11.15 in /usr/local/lib/python3.6/dist-packages (from tensorboard<1.16.0,>=1.15.0->tensorflow==1.15.0) (1.0.1)\n",
            "Requirement already satisfied: importlib-metadata; python_version < \"3.8\" in /usr/local/lib/python3.6/dist-packages (from markdown>=2.6.8->tensorboard<1.16.0,>=1.15.0->tensorflow==1.15.0) (3.3.0)\n",
            "Requirement already satisfied: zipp>=0.5 in /usr/local/lib/python3.6/dist-packages (from importlib-metadata; python_version < \"3.8\"->markdown>=2.6.8->tensorboard<1.16.0,>=1.15.0->tensorflow==1.15.0) (3.4.0)\n",
            "Requirement already satisfied: typing-extensions>=3.6.4; python_version < \"3.8\" in /usr/local/lib/python3.6/dist-packages (from importlib-metadata; python_version < \"3.8\"->markdown>=2.6.8->tensorboard<1.16.0,>=1.15.0->tensorflow==1.15.0) (3.7.4.3)\n",
            "Building wheels for collected packages: gast\n",
            "  Building wheel for gast (setup.py) ... \u001b[?25l\u001b[?25hdone\n",
            "  Created wheel for gast: filename=gast-0.2.2-cp36-none-any.whl size=7540 sha256=79fc42c6f8c7476187d054dd9cfb69638845cab38d7932a635ecf2b59ecd52e1\n",
            "  Stored in directory: /root/.cache/pip/wheels/5c/2e/7e/a1d4d4fcebe6c381f378ce7743a3ced3699feb89bcfbdadadd\n",
            "Successfully built gast\n",
            "\u001b[31mERROR: tensorflow-probability 0.12.1 has requirement gast>=0.3.2, but you'll have gast 0.2.2 which is incompatible.\u001b[0m\n",
            "Installing collected packages: keras-applications, tensorboard, tensorflow-estimator, gast, tensorflow\n",
            "  Found existing installation: tensorboard 2.4.0\n",
            "    Uninstalling tensorboard-2.4.0:\n",
            "      Successfully uninstalled tensorboard-2.4.0\n",
            "  Found existing installation: tensorflow-estimator 2.4.0\n",
            "    Uninstalling tensorflow-estimator-2.4.0:\n",
            "      Successfully uninstalled tensorflow-estimator-2.4.0\n",
            "  Found existing installation: gast 0.3.3\n",
            "    Uninstalling gast-0.3.3:\n",
            "      Successfully uninstalled gast-0.3.3\n",
            "  Found existing installation: tensorflow 2.4.0\n",
            "    Uninstalling tensorflow-2.4.0:\n",
            "      Successfully uninstalled tensorflow-2.4.0\n",
            "Successfully installed gast-0.2.2 keras-applications-1.0.8 tensorboard-1.15.0 tensorflow-1.15.0 tensorflow-estimator-1.15.1\n"
          ],
          "name": "stdout"
        }
      ]
    },
    {
      "cell_type": "code",
      "metadata": {
        "id": "-8_XUw7ZPwYN"
      },
      "source": [
        "import time\r\n",
        "from collections import namedtuple\r\n",
        "\r\n",
        "import numpy as np\r\n",
        "import tensorflow as tf"
      ],
      "execution_count": 3,
      "outputs": []
    },
    {
      "cell_type": "code",
      "metadata": {
        "id": "iI4Jjq2kcRiE"
      },
      "source": [
        "with open('Anna Karenina.txt', 'r') as f:\r\n",
        "    text=f.read()\r\n",
        "vocab = sorted(set(text))\r\n",
        "vocab_to_int = {c: i for i, c in enumerate(vocab)}\r\n",
        "int_to_vocab = dict(enumerate(vocab))\r\n",
        "encoded = np.array([vocab_to_int[c] for c in text], dtype=np.int32)"
      ],
      "execution_count": 4,
      "outputs": []
    },
    {
      "cell_type": "code",
      "metadata": {
        "colab": {
          "base_uri": "https://localhost:8080/"
        },
        "id": "sl88Gt_NcWbX",
        "outputId": "97e78f38-0ffe-499c-d5e9-0a3e26f9a17a"
      },
      "source": [
        "print(text[:101])\r\n",
        "print(encoded[:101])\r\n",
        "print(len(vocab))"
      ],
      "execution_count": 5,
      "outputs": [
        {
          "output_type": "stream",
          "text": [
            "Chapter 1\n",
            "\n",
            "\n",
            "Happy families are all alike; every unhappy family is unhappy in its own\n",
            "way.\n",
            "\n",
            "Everything\n",
            "[31 64 57 72 76 61 74  1 16  0  0  0 36 57 72 72 81  1 62 57 69 65 68 65\n",
            " 61 75  1 57 74 61  1 57 68 68  1 57 68 65 67 61 26  1 61 78 61 74 81  1\n",
            " 77 70 64 57 72 72 81  1 62 57 69 65 68 81  1 65 75  1 77 70 64 57 72 72\n",
            " 81  1 65 70  1 65 76 75  1 71 79 70  0 79 57 81 13  0  0 33 78 61 74 81\n",
            " 76 64 65 70 63]\n",
            "83\n"
          ],
          "name": "stdout"
        }
      ]
    },
    {
      "cell_type": "markdown",
      "metadata": {
        "id": "JMwN8PesdTpB"
      },
      "source": [
        "## Making training mini-batches"
      ]
    },
    {
      "cell_type": "code",
      "metadata": {
        "id": "UQAbGbQ9dU-s"
      },
      "source": [
        "def get_batches(arr, batch_size, n_steps):\r\n",
        "    '''Create a generator that returns batches of size\r\n",
        "       batch_size x n_steps from arr.\r\n",
        "       \r\n",
        "       Arguments\r\n",
        "       ---------\r\n",
        "       arr: Array you want to make batches from\r\n",
        "       batch_size: Batch size, the number of sequences per batch\r\n",
        "       n_steps: Number of sequence steps per batch\r\n",
        "    '''\r\n",
        "    # Get the number of characters per batch and number of batches we can make\r\n",
        "    chars_per_batch = batch_size * n_steps\r\n",
        "    n_batches = len(arr)//chars_per_batch\r\n",
        "    \r\n",
        "    # Keep only enough characters to make full batches\r\n",
        "    arr = arr[:n_batches * chars_per_batch]\r\n",
        "    \r\n",
        "    # Reshape into batch_size rows\r\n",
        "    arr = arr.reshape((batch_size, -1))\r\n",
        "    \r\n",
        "    for n in range(0, arr.shape[1], n_steps):\r\n",
        "        # The features\r\n",
        "        x = arr[:, n:n+n_steps]\r\n",
        "        # The targets, shifted by one\r\n",
        "        y_temp = arr[:, n+1:n+n_steps+1]\r\n",
        "        \r\n",
        "        # For the very last batch, y will be one character short at the end of \r\n",
        "        # the sequences which breaks things. To get around this, I'll make an \r\n",
        "        # array of the appropriate size first, of all zeros, then add the targets.\r\n",
        "        # This will introduce a small artifact in the last batch, but it won't matter.\r\n",
        "        y = np.zeros(x.shape, dtype=x.dtype)\r\n",
        "        y[:,:y_temp.shape[1]] = y_temp\r\n",
        "        \r\n",
        "        yield x, y"
      ],
      "execution_count": 6,
      "outputs": []
    },
    {
      "cell_type": "code",
      "metadata": {
        "colab": {
          "base_uri": "https://localhost:8080/"
        },
        "id": "HDhaE5EVdcvi",
        "outputId": "735816a3-4cbe-4454-9f81-9ed90d406e80"
      },
      "source": [
        "batches = get_batches(encoded, 10, 50)\r\n",
        "x, y = next(batches)\r\n",
        "print('x\\n', x[:10, :10])\r\n",
        "print('\\ny\\n', y[:10, :10])"
      ],
      "execution_count": 7,
      "outputs": [
        {
          "output_type": "stream",
          "text": [
            "x\n",
            " [[31 64 57 72 76 61 74  1 16  0]\n",
            " [ 1 57 69  1 70 71 76  1 63 71]\n",
            " [78 65 70 13  0  0  3 53 61 75]\n",
            " [70  1 60 77 74 65 70 63  1 64]\n",
            " [ 1 65 76  1 65 75 11  1 75 65]\n",
            " [ 1 37 76  1 79 57 75  0 71 70]\n",
            " [64 61 70  1 59 71 69 61  1 62]\n",
            " [26  1 58 77 76  1 70 71 79  1]\n",
            " [76  1 65 75 70  7 76 13  1 48]\n",
            " [ 1 75 57 65 60  1 76 71  1 64]]\n",
            "\n",
            "y\n",
            " [[64 57 72 76 61 74  1 16  0  0]\n",
            " [57 69  1 70 71 76  1 63 71 65]\n",
            " [65 70 13  0  0  3 53 61 75 11]\n",
            " [ 1 60 77 74 65 70 63  1 64 65]\n",
            " [65 76  1 65 75 11  1 75 65 74]\n",
            " [37 76  1 79 57 75  0 71 70 68]\n",
            " [61 70  1 59 71 69 61  1 62 71]\n",
            " [ 1 58 77 76  1 70 71 79  1 75]\n",
            " [ 1 65 75 70  7 76 13  1 48 64]\n",
            " [75 57 65 60  1 76 71  1 64 61]]\n"
          ],
          "name": "stdout"
        }
      ]
    },
    {
      "cell_type": "markdown",
      "metadata": {
        "id": "Cd9nn1YFdn6Q"
      },
      "source": [
        "## Inputs"
      ]
    },
    {
      "cell_type": "code",
      "metadata": {
        "id": "Vb-mEm__do-a"
      },
      "source": [
        "def build_inputs(batch_size, num_steps):\r\n",
        "    ''' Define placeholders for inputs, targets, and dropout \r\n",
        "    \r\n",
        "        Arguments\r\n",
        "        ---------\r\n",
        "        batch_size: Batch size, number of sequences per batch\r\n",
        "        num_steps: Number of sequence steps in a batch\r\n",
        "        \r\n",
        "    '''\r\n",
        "    # Declare placeholders we'll feed into the graph\r\n",
        "    inputs = tf.placeholder(tf.int32, [batch_size, num_steps], name='inputs')\r\n",
        "    targets = tf.placeholder(tf.int32, [batch_size, num_steps], name='targets')\r\n",
        "    \r\n",
        "    # Keep probability placeholder for drop out layers\r\n",
        "    keep_prob = tf.placeholder(tf.float32, name='keep_prob')\r\n",
        "    \r\n",
        "    return inputs, targets, keep_prob"
      ],
      "execution_count": 8,
      "outputs": []
    },
    {
      "cell_type": "markdown",
      "metadata": {
        "id": "JxBoxih9d12B"
      },
      "source": [
        "## LSTM CELL"
      ]
    },
    {
      "cell_type": "code",
      "metadata": {
        "id": "Pu1VF1K6d3ht"
      },
      "source": [
        "def build_lstm(lstm_size, num_layers, batch_size, keep_prob):\r\n",
        "    ''' Build LSTM cell.\r\n",
        "    \r\n",
        "        Arguments\r\n",
        "        ---------\r\n",
        "        keep_prob: Scalar tensor (tf.placeholder) for the dropout keep probability\r\n",
        "        lstm_size: Size of the hidden layers in the LSTM cells\r\n",
        "        num_layers: Number of LSTM layers\r\n",
        "        batch_size: Batch size\r\n",
        "\r\n",
        "    '''\r\n",
        "    ### Build the LSTM Cell\r\n",
        "    \r\n",
        "    def build_cell(lstm_size, keep_prob):\r\n",
        "        # Use a basic LSTM cell\r\n",
        "        lstm = tf.contrib.rnn.BasicLSTMCell(lstm_size)\r\n",
        "        \r\n",
        "        # Add dropout to the cell\r\n",
        "        drop = tf.contrib.rnn.DropoutWrapper(lstm, output_keep_prob=keep_prob)\r\n",
        "        return drop\r\n",
        "    \r\n",
        "    \r\n",
        "    # Stack up multiple LSTM layers, for deep learning\r\n",
        "    cell = tf.contrib.rnn.MultiRNNCell([build_cell(lstm_size, keep_prob) for _ in range(num_layers)])\r\n",
        "    initial_state = cell.zero_state(batch_size, tf.float32)\r\n",
        "    \r\n",
        "    return cell, initial_state"
      ],
      "execution_count": 9,
      "outputs": []
    },
    {
      "cell_type": "markdown",
      "metadata": {
        "id": "1NOcxMKbd7rS"
      },
      "source": [
        "## RNN Output"
      ]
    },
    {
      "cell_type": "code",
      "metadata": {
        "id": "nGkj3rO4d89F"
      },
      "source": [
        "def build_output(lstm_output, in_size, out_size):\r\n",
        "    ''' Build a softmax layer, return the softmax output and logits.\r\n",
        "    \r\n",
        "        Arguments\r\n",
        "        ---------\r\n",
        "        \r\n",
        "        x: Input tensor\r\n",
        "        in_size: Size of the input tensor, for example, size of the LSTM cells\r\n",
        "        out_size: Size of this softmax layer\r\n",
        "    \r\n",
        "    '''\r\n",
        "\r\n",
        "    # Reshape output so it's a bunch of rows, one row for each step for each sequence.\r\n",
        "    # That is, the shape should be batch_size*num_steps rows by lstm_size columns\r\n",
        "    seq_output = tf.concat(lstm_output, axis=1)\r\n",
        "    x = tf.reshape(seq_output, [-1, in_size])\r\n",
        "    \r\n",
        "    # Connect the RNN outputs to a softmax layer\r\n",
        "    with tf.variable_scope('softmax'):\r\n",
        "        softmax_w = tf.Variable(tf.truncated_normal((in_size, out_size), stddev=0.1))\r\n",
        "        softmax_b = tf.Variable(tf.zeros(out_size))\r\n",
        "    \r\n",
        "    # Since output is a bunch of rows of RNN cell outputs, logits will be a bunch\r\n",
        "    # of rows of logit outputs, one for each step and sequence\r\n",
        "    logits = tf.matmul(x, softmax_w) + softmax_b\r\n",
        "    \r\n",
        "    # Use softmax to get the probabilities for predicted characters\r\n",
        "    out = tf.nn.softmax(logits, name='predictions')\r\n",
        "    \r\n",
        "    return out, logits"
      ],
      "execution_count": 10,
      "outputs": []
    },
    {
      "cell_type": "markdown",
      "metadata": {
        "id": "Dw5kumDgeBVb"
      },
      "source": [
        "## Training loss"
      ]
    },
    {
      "cell_type": "code",
      "metadata": {
        "id": "037jD_dCd4j0"
      },
      "source": [
        "def build_loss(logits, targets, lstm_size, num_classes):\r\n",
        "    ''' Calculate the loss from the logits and the targets.\r\n",
        "    \r\n",
        "        Arguments\r\n",
        "        ---------\r\n",
        "        logits: Logits from final fully connected layer\r\n",
        "        targets: Targets for supervised learning\r\n",
        "        lstm_size: Number of LSTM hidden units\r\n",
        "        num_classes: Number of classes in targets\r\n",
        "        \r\n",
        "    '''\r\n",
        "    \r\n",
        "    # One-hot encode targets and reshape to match logits, one row per batch_size per step\r\n",
        "    y_one_hot = tf.one_hot(targets, num_classes)\r\n",
        "    y_reshaped = tf.reshape(y_one_hot, logits.get_shape())\r\n",
        "    \r\n",
        "    # Softmax cross entropy loss\r\n",
        "    loss = tf.nn.softmax_cross_entropy_with_logits(logits=logits, labels=y_reshaped)\r\n",
        "    loss = tf.reduce_mean(loss)\r\n",
        "    return loss"
      ],
      "execution_count": 11,
      "outputs": []
    },
    {
      "cell_type": "markdown",
      "metadata": {
        "id": "S9KscAZgeKoX"
      },
      "source": [
        "## Optimizer"
      ]
    },
    {
      "cell_type": "code",
      "metadata": {
        "id": "I7koYQCtd1Kw"
      },
      "source": [
        "def build_optimizer(loss, learning_rate, grad_clip):\r\n",
        "    ''' Build optmizer for training, using gradient clipping.\r\n",
        "    \r\n",
        "        Arguments:\r\n",
        "        loss: Network loss\r\n",
        "        learning_rate: Learning rate for optimizer\r\n",
        "    \r\n",
        "    '''\r\n",
        "    \r\n",
        "    # Optimizer for training, using gradient clipping to control exploding gradients\r\n",
        "    tvars = tf.trainable_variables()\r\n",
        "    grads, _ = tf.clip_by_global_norm(tf.gradients(loss, tvars), grad_clip)\r\n",
        "    train_op = tf.train.AdamOptimizer(learning_rate)\r\n",
        "    optimizer = train_op.apply_gradients(zip(grads, tvars))\r\n",
        "    \r\n",
        "    return optimizer"
      ],
      "execution_count": 12,
      "outputs": []
    },
    {
      "cell_type": "markdown",
      "metadata": {
        "id": "xbZBFVdZeSOB"
      },
      "source": [
        "## Build the network"
      ]
    },
    {
      "cell_type": "code",
      "metadata": {
        "id": "OMY8GjRQeTcb"
      },
      "source": [
        "class CharRNN:\r\n",
        "    \r\n",
        "    def __init__(self, num_classes, batch_size=64, num_steps=50, \r\n",
        "                       lstm_size=128, num_layers=2, learning_rate=0.001, \r\n",
        "                       grad_clip=5, sampling=False):\r\n",
        "    \r\n",
        "        # When we're using this network for sampling later, we'll be passing in\r\n",
        "        # one character at a time, so providing an option for that\r\n",
        "        if sampling == True:\r\n",
        "            batch_size, num_steps = 1, 1\r\n",
        "        else:\r\n",
        "            batch_size, num_steps = batch_size, num_steps\r\n",
        "\r\n",
        "        tf.reset_default_graph()\r\n",
        "        \r\n",
        "        # Build the input placeholder tensors\r\n",
        "        self.inputs, self.targets, self.keep_prob = build_inputs(batch_size, num_steps)\r\n",
        "\r\n",
        "        # Build the LSTM cell\r\n",
        "        cell, self.initial_state = build_lstm(lstm_size, num_layers, batch_size, self.keep_prob)\r\n",
        "\r\n",
        "        ### Run the data through the RNN layers\r\n",
        "        # First, one-hot encode the input tokens\r\n",
        "        x_one_hot = tf.one_hot(self.inputs, num_classes)\r\n",
        "        \r\n",
        "        # Run each sequence step through the RNN and collect the outputs\r\n",
        "        outputs, state = tf.nn.dynamic_rnn(cell, x_one_hot, initial_state=self.initial_state)\r\n",
        "        self.final_state = state\r\n",
        "        \r\n",
        "        # Get softmax predictions and logits\r\n",
        "        self.prediction, self.logits = build_output(outputs, lstm_size, num_classes)\r\n",
        "        \r\n",
        "        # Loss and optimizer (with gradient clipping)\r\n",
        "        self.loss = build_loss(self.logits, self.targets, lstm_size, num_classes)\r\n",
        "        self.optimizer = build_optimizer(self.loss, learning_rate, grad_clip)"
      ],
      "execution_count": 13,
      "outputs": []
    },
    {
      "cell_type": "markdown",
      "metadata": {
        "id": "wQXrqHUTeckj"
      },
      "source": [
        "## Hyperparameters"
      ]
    },
    {
      "cell_type": "code",
      "metadata": {
        "id": "z_3fzQKKed8a"
      },
      "source": [
        "batch_size = 100        # Sequences per batch\r\n",
        "num_steps = 100         # Number of sequence steps per batch\r\n",
        "lstm_size = 512         # Size of hidden layers in LSTMs\r\n",
        "num_layers = 2          # Number of LSTM layers\r\n",
        "learning_rate = 0.001   # Learning rate\r\n",
        "keep_prob = 0.5         # Dropout keep probability"
      ],
      "execution_count": 14,
      "outputs": []
    },
    {
      "cell_type": "markdown",
      "metadata": {
        "id": "ibeH-tIdemxy"
      },
      "source": [
        "## Training"
      ]
    },
    {
      "cell_type": "code",
      "metadata": {
        "colab": {
          "base_uri": "https://localhost:8080/"
        },
        "id": "YVj_K7lMeoUL",
        "outputId": "96765e1d-29d4-477c-c91a-bbfa8674c519"
      },
      "source": [
        "epochs = 20\r\n",
        "# Print losses every N interations\r\n",
        "print_every_n = 50\r\n",
        "\r\n",
        "# Save every N iterations\r\n",
        "save_every_n = 200\r\n",
        "\r\n",
        "model = CharRNN(len(vocab), batch_size=batch_size, num_steps=num_steps,\r\n",
        "                lstm_size=lstm_size, num_layers=num_layers, \r\n",
        "                learning_rate=learning_rate)\r\n",
        "\r\n",
        "saver = tf.train.Saver(max_to_keep=100)\r\n",
        "with tf.Session() as sess:\r\n",
        "    sess.run(tf.global_variables_initializer())\r\n",
        "    \r\n",
        "    # Use the line below to load a checkpoint and resume training\r\n",
        "    #saver.restore(sess, 'checkpoints/______.ckpt')\r\n",
        "    counter = 0\r\n",
        "    for e in range(epochs):\r\n",
        "        # Train network\r\n",
        "        new_state = sess.run(model.initial_state)\r\n",
        "        loss = 0\r\n",
        "        for x, y in get_batches(encoded, batch_size, num_steps):\r\n",
        "            counter += 1\r\n",
        "            start = time.time()\r\n",
        "            feed = {model.inputs: x,\r\n",
        "                    model.targets: y,\r\n",
        "                    model.keep_prob: keep_prob,\r\n",
        "                    model.initial_state: new_state}\r\n",
        "            batch_loss, new_state, _ = sess.run([model.loss, \r\n",
        "                                                 model.final_state, \r\n",
        "                                                 model.optimizer], \r\n",
        "                                                 feed_dict=feed)\r\n",
        "            if (counter % print_every_n == 0):\r\n",
        "                end = time.time()\r\n",
        "                print('Epoch: {}/{}... '.format(e+1, epochs),\r\n",
        "                      'Training Step: {}... '.format(counter),\r\n",
        "                      'Training loss: {:.4f}... '.format(batch_loss),\r\n",
        "                      '{:.4f} sec/batch'.format((end-start)))\r\n",
        "        \r\n",
        "            if (counter % save_every_n == 0):\r\n",
        "                saver.save(sess, \"checkpoints/i{}_l{}.ckpt\".format(counter, lstm_size))\r\n",
        "    \r\n",
        "    saver.save(sess, \"checkpoints/i{}_l{}.ckpt\".format(counter, lstm_size))"
      ],
      "execution_count": 15,
      "outputs": [
        {
          "output_type": "stream",
          "text": [
            "WARNING:tensorflow:\n",
            "The TensorFlow contrib module will not be included in TensorFlow 2.0.\n",
            "For more information, please see:\n",
            "  * https://github.com/tensorflow/community/blob/master/rfcs/20180907-contrib-sunset.md\n",
            "  * https://github.com/tensorflow/addons\n",
            "  * https://github.com/tensorflow/io (for I/O related ops)\n",
            "If you depend on functionality not listed there, please file an issue.\n",
            "\n",
            "WARNING:tensorflow:From <ipython-input-9-6a33ab0f9492>:16: BasicLSTMCell.__init__ (from tensorflow.python.ops.rnn_cell_impl) is deprecated and will be removed in a future version.\n",
            "Instructions for updating:\n",
            "This class is equivalent as tf.keras.layers.LSTMCell, and will be replaced by that in Tensorflow 2.0.\n",
            "WARNING:tensorflow:From <ipython-input-9-6a33ab0f9492>:24: MultiRNNCell.__init__ (from tensorflow.python.ops.rnn_cell_impl) is deprecated and will be removed in a future version.\n",
            "Instructions for updating:\n",
            "This class is equivalent as tf.keras.layers.StackedRNNCells, and will be replaced by that in Tensorflow 2.0.\n",
            "WARNING:tensorflow:From <ipython-input-13-85de622c798a>:27: dynamic_rnn (from tensorflow.python.ops.rnn) is deprecated and will be removed in a future version.\n",
            "Instructions for updating:\n",
            "Please use `keras.layers.RNN(cell)`, which is equivalent to this API\n",
            "WARNING:tensorflow:From /usr/local/lib/python3.6/dist-packages/tensorflow_core/python/ops/rnn_cell_impl.py:735: Layer.add_variable (from tensorflow.python.keras.engine.base_layer) is deprecated and will be removed in a future version.\n",
            "Instructions for updating:\n",
            "Please use `layer.add_weight` method instead.\n",
            "WARNING:tensorflow:From /usr/local/lib/python3.6/dist-packages/tensorflow_core/python/ops/rnn_cell_impl.py:739: calling Zeros.__init__ (from tensorflow.python.ops.init_ops) with dtype is deprecated and will be removed in a future version.\n",
            "Instructions for updating:\n",
            "Call initializer instance with the dtype argument instead of passing it to the constructor\n",
            "WARNING:tensorflow:From <ipython-input-11-6d5964af2bdd>:18: softmax_cross_entropy_with_logits (from tensorflow.python.ops.nn_ops) is deprecated and will be removed in a future version.\n",
            "Instructions for updating:\n",
            "\n",
            "Future major versions of TensorFlow will allow gradients to flow\n",
            "into the labels input on backprop by default.\n",
            "\n",
            "See `tf.nn.softmax_cross_entropy_with_logits_v2`.\n",
            "\n",
            "WARNING:tensorflow:From /usr/local/lib/python3.6/dist-packages/tensorflow_core/python/ops/clip_ops.py:301: where (from tensorflow.python.ops.array_ops) is deprecated and will be removed in a future version.\n",
            "Instructions for updating:\n",
            "Use tf.where in 2.0, which has the same broadcast rule as np.where\n",
            "Epoch: 1/20...  Training Step: 50...  Training loss: 3.1606...  6.5606 sec/batch\n",
            "Epoch: 1/20...  Training Step: 100...  Training loss: 3.0628...  6.5101 sec/batch\n",
            "Epoch: 1/20...  Training Step: 150...  Training loss: 2.6779...  6.5043 sec/batch\n",
            "Epoch: 2/20...  Training Step: 200...  Training loss: 2.4157...  6.5372 sec/batch\n",
            "Epoch: 2/20...  Training Step: 250...  Training loss: 2.3170...  6.5318 sec/batch\n",
            "Epoch: 2/20...  Training Step: 300...  Training loss: 2.1972...  6.4757 sec/batch\n",
            "Epoch: 2/20...  Training Step: 350...  Training loss: 2.1594...  6.4585 sec/batch\n",
            "Epoch: 3/20...  Training Step: 400...  Training loss: 2.0244...  6.5354 sec/batch\n",
            "Epoch: 3/20...  Training Step: 450...  Training loss: 1.9588...  6.5377 sec/batch\n",
            "Epoch: 3/20...  Training Step: 500...  Training loss: 1.9020...  6.5318 sec/batch\n",
            "Epoch: 3/20...  Training Step: 550...  Training loss: 1.8834...  6.5259 sec/batch\n",
            "Epoch: 4/20...  Training Step: 600...  Training loss: 1.7713...  6.4770 sec/batch\n",
            "Epoch: 4/20...  Training Step: 650...  Training loss: 1.7899...  6.5110 sec/batch\n",
            "Epoch: 4/20...  Training Step: 700...  Training loss: 1.7349...  6.5497 sec/batch\n",
            "Epoch: 4/20...  Training Step: 750...  Training loss: 1.7056...  6.4954 sec/batch\n",
            "Epoch: 5/20...  Training Step: 800...  Training loss: 1.6640...  6.4988 sec/batch\n",
            "Epoch: 5/20...  Training Step: 850...  Training loss: 1.6289...  6.5606 sec/batch\n",
            "Epoch: 5/20...  Training Step: 900...  Training loss: 1.6158...  6.5106 sec/batch\n",
            "Epoch: 5/20...  Training Step: 950...  Training loss: 1.6016...  6.5347 sec/batch\n",
            "Epoch: 6/20...  Training Step: 1000...  Training loss: 1.5750...  6.5408 sec/batch\n",
            "Epoch: 6/20...  Training Step: 1050...  Training loss: 1.5851...  6.5249 sec/batch\n",
            "Epoch: 6/20...  Training Step: 1100...  Training loss: 1.5325...  6.5176 sec/batch\n",
            "Epoch: 6/20...  Training Step: 1150...  Training loss: 1.5183...  6.5127 sec/batch\n",
            "Epoch: 7/20...  Training Step: 1200...  Training loss: 1.4757...  6.5073 sec/batch\n",
            "Epoch: 7/20...  Training Step: 1250...  Training loss: 1.5325...  6.5092 sec/batch\n",
            "Epoch: 7/20...  Training Step: 1300...  Training loss: 1.4412...  6.4940 sec/batch\n",
            "Epoch: 7/20...  Training Step: 1350...  Training loss: 1.4372...  6.4601 sec/batch\n",
            "Epoch: 8/20...  Training Step: 1400...  Training loss: 1.4639...  6.5327 sec/batch\n",
            "Epoch: 8/20...  Training Step: 1450...  Training loss: 1.4295...  6.4869 sec/batch\n",
            "Epoch: 8/20...  Training Step: 1500...  Training loss: 1.3784...  6.5613 sec/batch\n",
            "Epoch: 8/20...  Training Step: 1550...  Training loss: 1.3924...  6.4974 sec/batch\n",
            "Epoch: 9/20...  Training Step: 1600...  Training loss: 1.3711...  6.5223 sec/batch\n",
            "Epoch: 9/20...  Training Step: 1650...  Training loss: 1.3826...  6.4857 sec/batch\n",
            "Epoch: 9/20...  Training Step: 1700...  Training loss: 1.3228...  6.5088 sec/batch\n",
            "Epoch: 9/20...  Training Step: 1750...  Training loss: 1.3460...  6.5067 sec/batch\n",
            "Epoch: 10/20...  Training Step: 1800...  Training loss: 1.3691...  6.5159 sec/batch\n",
            "Epoch: 10/20...  Training Step: 1850...  Training loss: 1.3110...  6.4773 sec/batch\n",
            "Epoch: 10/20...  Training Step: 1900...  Training loss: 1.3316...  6.4789 sec/batch\n",
            "Epoch: 10/20...  Training Step: 1950...  Training loss: 1.3984...  6.5236 sec/batch\n",
            "Epoch: 11/20...  Training Step: 2000...  Training loss: 1.3327...  6.5675 sec/batch\n",
            "Epoch: 11/20...  Training Step: 2050...  Training loss: 1.2964...  6.5158 sec/batch\n",
            "Epoch: 11/20...  Training Step: 2100...  Training loss: 1.2859...  6.5412 sec/batch\n",
            "Epoch: 11/20...  Training Step: 2150...  Training loss: 1.3032...  6.4960 sec/batch\n",
            "Epoch: 12/20...  Training Step: 2200...  Training loss: 1.3035...  6.5072 sec/batch\n",
            "Epoch: 12/20...  Training Step: 2250...  Training loss: 1.3061...  6.5925 sec/batch\n",
            "Epoch: 12/20...  Training Step: 2300...  Training loss: 1.2379...  6.5077 sec/batch\n",
            "Epoch: 12/20...  Training Step: 2350...  Training loss: 1.2546...  6.5159 sec/batch\n",
            "Epoch: 13/20...  Training Step: 2400...  Training loss: 1.2603...  6.5297 sec/batch\n",
            "Epoch: 13/20...  Training Step: 2450...  Training loss: 1.2414...  6.5038 sec/batch\n",
            "Epoch: 13/20...  Training Step: 2500...  Training loss: 1.2635...  6.5610 sec/batch\n",
            "Epoch: 13/20...  Training Step: 2550...  Training loss: 1.2497...  6.5144 sec/batch\n",
            "Epoch: 14/20...  Training Step: 2600...  Training loss: 1.2100...  6.5451 sec/batch\n",
            "Epoch: 14/20...  Training Step: 2650...  Training loss: 1.2587...  6.5048 sec/batch\n",
            "Epoch: 14/20...  Training Step: 2700...  Training loss: 1.1867...  6.5297 sec/batch\n",
            "Epoch: 14/20...  Training Step: 2750...  Training loss: 1.2085...  6.5108 sec/batch\n",
            "Epoch: 15/20...  Training Step: 2800...  Training loss: 1.2553...  6.5808 sec/batch\n",
            "Epoch: 15/20...  Training Step: 2850...  Training loss: 1.2260...  6.4694 sec/batch\n",
            "Epoch: 15/20...  Training Step: 2900...  Training loss: 1.2200...  6.4901 sec/batch\n",
            "Epoch: 15/20...  Training Step: 2950...  Training loss: 1.2543...  6.5102 sec/batch\n",
            "Epoch: 16/20...  Training Step: 3000...  Training loss: 1.2255...  6.5180 sec/batch\n",
            "Epoch: 16/20...  Training Step: 3050...  Training loss: 1.2189...  6.5081 sec/batch\n",
            "Epoch: 16/20...  Training Step: 3100...  Training loss: 1.1656...  6.4929 sec/batch\n",
            "Epoch: 16/20...  Training Step: 3150...  Training loss: 1.1814...  6.5317 sec/batch\n",
            "Epoch: 17/20...  Training Step: 3200...  Training loss: 1.1709...  6.5396 sec/batch\n",
            "Epoch: 17/20...  Training Step: 3250...  Training loss: 1.1933...  6.5450 sec/batch\n",
            "Epoch: 17/20...  Training Step: 3300...  Training loss: 1.1764...  6.5338 sec/batch\n",
            "Epoch: 17/20...  Training Step: 3350...  Training loss: 1.1983...  6.5278 sec/batch\n",
            "Epoch: 18/20...  Training Step: 3400...  Training loss: 1.2018...  6.4918 sec/batch\n",
            "Epoch: 18/20...  Training Step: 3450...  Training loss: 1.1804...  6.5050 sec/batch\n",
            "Epoch: 18/20...  Training Step: 3500...  Training loss: 1.1844...  6.4752 sec/batch\n",
            "Epoch: 18/20...  Training Step: 3550...  Training loss: 1.1665...  6.4994 sec/batch\n",
            "Epoch: 19/20...  Training Step: 3600...  Training loss: 1.1717...  6.5308 sec/batch\n",
            "Epoch: 19/20...  Training Step: 3650...  Training loss: 1.1625...  6.5458 sec/batch\n",
            "Epoch: 19/20...  Training Step: 3700...  Training loss: 1.1709...  6.5504 sec/batch\n",
            "Epoch: 19/20...  Training Step: 3750...  Training loss: 1.1407...  6.4865 sec/batch\n",
            "Epoch: 20/20...  Training Step: 3800...  Training loss: 1.1273...  6.5250 sec/batch\n",
            "Epoch: 20/20...  Training Step: 3850...  Training loss: 1.1565...  6.5335 sec/batch\n",
            "Epoch: 20/20...  Training Step: 3900...  Training loss: 1.1757...  6.5431 sec/batch\n",
            "Epoch: 20/20...  Training Step: 3950...  Training loss: 1.1490...  6.5399 sec/batch\n"
          ],
          "name": "stdout"
        }
      ]
    },
    {
      "cell_type": "markdown",
      "metadata": {
        "id": "_nafwmUlexn2"
      },
      "source": [
        "## Saved checkpoints"
      ]
    },
    {
      "cell_type": "code",
      "metadata": {
        "colab": {
          "base_uri": "https://localhost:8080/"
        },
        "id": "mAJBApXKezaQ",
        "outputId": "c1881b0b-cc53-4401-a3f0-53938d4ccc95"
      },
      "source": [
        "tf.train.get_checkpoint_state('checkpoints')"
      ],
      "execution_count": 16,
      "outputs": [
        {
          "output_type": "execute_result",
          "data": {
            "text/plain": [
              "model_checkpoint_path: \"checkpoints/i3960_l512.ckpt\"\n",
              "all_model_checkpoint_paths: \"checkpoints/i200_l512.ckpt\"\n",
              "all_model_checkpoint_paths: \"checkpoints/i400_l512.ckpt\"\n",
              "all_model_checkpoint_paths: \"checkpoints/i600_l512.ckpt\"\n",
              "all_model_checkpoint_paths: \"checkpoints/i800_l512.ckpt\"\n",
              "all_model_checkpoint_paths: \"checkpoints/i1000_l512.ckpt\"\n",
              "all_model_checkpoint_paths: \"checkpoints/i1200_l512.ckpt\"\n",
              "all_model_checkpoint_paths: \"checkpoints/i1400_l512.ckpt\"\n",
              "all_model_checkpoint_paths: \"checkpoints/i1600_l512.ckpt\"\n",
              "all_model_checkpoint_paths: \"checkpoints/i1800_l512.ckpt\"\n",
              "all_model_checkpoint_paths: \"checkpoints/i2000_l512.ckpt\"\n",
              "all_model_checkpoint_paths: \"checkpoints/i2200_l512.ckpt\"\n",
              "all_model_checkpoint_paths: \"checkpoints/i2400_l512.ckpt\"\n",
              "all_model_checkpoint_paths: \"checkpoints/i2600_l512.ckpt\"\n",
              "all_model_checkpoint_paths: \"checkpoints/i2800_l512.ckpt\"\n",
              "all_model_checkpoint_paths: \"checkpoints/i3000_l512.ckpt\"\n",
              "all_model_checkpoint_paths: \"checkpoints/i3200_l512.ckpt\"\n",
              "all_model_checkpoint_paths: \"checkpoints/i3400_l512.ckpt\"\n",
              "all_model_checkpoint_paths: \"checkpoints/i3600_l512.ckpt\"\n",
              "all_model_checkpoint_paths: \"checkpoints/i3800_l512.ckpt\"\n",
              "all_model_checkpoint_paths: \"checkpoints/i3960_l512.ckpt\""
            ]
          },
          "metadata": {
            "tags": []
          },
          "execution_count": 16
        }
      ]
    },
    {
      "cell_type": "markdown",
      "metadata": {
        "id": "3e3Jeb2Ye5_V"
      },
      "source": [
        "## Sampling"
      ]
    },
    {
      "cell_type": "code",
      "metadata": {
        "id": "GgS3ZvUGe7Ih"
      },
      "source": [
        "def pick_top_n(preds, vocab_size, top_n=5):\r\n",
        "    p = np.squeeze(preds)\r\n",
        "    p[np.argsort(p)[:-top_n]] = 0\r\n",
        "    p = p / np.sum(p)\r\n",
        "    c = np.random.choice(vocab_size, 1, p=p)[0]\r\n",
        "    return c"
      ],
      "execution_count": 17,
      "outputs": []
    },
    {
      "cell_type": "code",
      "metadata": {
        "id": "I-fz_jlveh-m"
      },
      "source": [
        "def sample(checkpoint, n_samples, lstm_size, vocab_size, prime=\"The \"):\r\n",
        "    samples = [c for c in prime]\r\n",
        "    model = CharRNN(len(vocab), lstm_size=lstm_size, sampling=True)\r\n",
        "    saver = tf.train.Saver()\r\n",
        "    with tf.Session() as sess:\r\n",
        "        saver.restore(sess, checkpoint)\r\n",
        "        new_state = sess.run(model.initial_state)\r\n",
        "        for c in prime:\r\n",
        "            x = np.zeros((1, 1))\r\n",
        "            x[0,0] = vocab_to_int[c]\r\n",
        "            feed = {model.inputs: x,\r\n",
        "                    model.keep_prob: 1.,\r\n",
        "                    model.initial_state: new_state}\r\n",
        "            preds, new_state = sess.run([model.prediction, model.final_state], \r\n",
        "                                         feed_dict=feed)\r\n",
        "\r\n",
        "        c = pick_top_n(preds, len(vocab))\r\n",
        "        samples.append(int_to_vocab[c])\r\n",
        "\r\n",
        "        for i in range(n_samples):\r\n",
        "            x[0,0] = c\r\n",
        "            feed = {model.inputs: x,\r\n",
        "                    model.keep_prob: 1.,\r\n",
        "                    model.initial_state: new_state}\r\n",
        "            preds, new_state = sess.run([model.prediction, model.final_state], \r\n",
        "                                         feed_dict=feed)\r\n",
        "\r\n",
        "            c = pick_top_n(preds, len(vocab))\r\n",
        "            samples.append(int_to_vocab[c])\r\n",
        "        \r\n",
        "    return ''.join(samples)"
      ],
      "execution_count": 18,
      "outputs": []
    },
    {
      "cell_type": "code",
      "metadata": {
        "colab": {
          "base_uri": "https://localhost:8080/",
          "height": 35
        },
        "id": "xL8exrk7eYp5",
        "outputId": "4525334b-5df8-4f0c-fdee-62e851c91eaf"
      },
      "source": [
        "tf.train.latest_checkpoint('checkpoints')"
      ],
      "execution_count": 19,
      "outputs": [
        {
          "output_type": "execute_result",
          "data": {
            "application/vnd.google.colaboratory.intrinsic+json": {
              "type": "string"
            },
            "text/plain": [
              "'checkpoints/i3960_l512.ckpt'"
            ]
          },
          "metadata": {
            "tags": []
          },
          "execution_count": 19
        }
      ]
    },
    {
      "cell_type": "code",
      "metadata": {
        "colab": {
          "base_uri": "https://localhost:8080/"
        },
        "id": "G_SgHhRnEFiY",
        "outputId": "1de963c7-6760-40f3-c280-321fa30205d5"
      },
      "source": [
        "checkpoint = tf.train.latest_checkpoint('checkpoints')\r\n",
        "samp = sample(checkpoint, 2000, lstm_size, len(vocab), prime=\"What shall we drink?\")\r\n",
        "print(samp)"
      ],
      "execution_count": 24,
      "outputs": [
        {
          "output_type": "stream",
          "text": [
            "INFO:tensorflow:Restoring parameters from checkpoints/i3960_l512.ckpt\n",
            "What shall we drink?\"\n",
            "\n",
            "\"Oh, though you'll see the passions of that man so miserable for her\n",
            "what you've been always a living--there, anyway to think to me,\" he\n",
            "said. \"Why would not be done! With him. The position is an orce more\n",
            "in my husband to set it. I'm not simply find in it or my signiegy.\"\n",
            "\n",
            "\"I have never disliked them in my cast is,\" he asked again, and\n",
            "he had no significances and her hand, which, had been seen from the\n",
            "standing of the stall, and would be the child that he should not\n",
            "child her and sort of the dissatisfaction only, the present cart what\n",
            "they were talking of their position, and all, as though to blame for him to\n",
            "break the chief thing. This tone which had been so station, and so that\n",
            "he had been saying that she did not advite the same thing. They were to\n",
            "leave the carriage of his sister, and went out of her house, but the\n",
            "streets were not seemed to hear the porer a possible same train in the\n",
            "same position.\n",
            "\n",
            "\"Yes, yes, at ten me. I won't say there's no one as a court to my\n",
            "self-put it, I cumed a champain.\" \"I warn't begin to be alive, but he's\n",
            "a great sense.\"\n",
            "\n",
            "\"I have nothing for the trouble? Why was it you're that you say,\" Levin\n",
            "said suddenly. He was a looking off at the dream with happiness.\n",
            "\n",
            "The peasant had troubled wife. She saw that he had said, she felt how\n",
            "she saw that this secuse of an actions, he had stronger those words,\n",
            "they were always been silent to but they had been at lust in a crowd,\n",
            "at the mustaches were that that state of half providing them out of\n",
            "some served high, but with shine there, and at the peasants to the children\n",
            "when it was a livilion of her, which would say it to say, but was that he\n",
            "had become alraady at the person when they had so ashed to show the state of\n",
            "a store--a place and the first same to her, and all the old servants\n",
            "had to cheak and that they was an again, as it, always feeling the\n",
            "matter and talk about him. She was not at any side, when the\n",
            "merouse of the day after had taken the care of having a pows in the misery\n",
            "of the sick\n"
          ],
          "name": "stdout"
        }
      ]
    },
    {
      "cell_type": "code",
      "metadata": {
        "colab": {
          "base_uri": "https://localhost:8080/"
        },
        "id": "4uYRQL_PEP8e",
        "outputId": "8a4be205-7279-4e1f-b5e6-a0a2bbb17cf0"
      },
      "source": [
        "checkpoint = 'checkpoints/i200_l512.ckpt'\r\n",
        "samp = sample(checkpoint, 1000, lstm_size, len(vocab), prime=\"What shall we drink?\")\r\n",
        "print(samp)"
      ],
      "execution_count": 25,
      "outputs": [
        {
          "output_type": "stream",
          "text": [
            "INFO:tensorflow:Restoring parameters from checkpoints/i200_l512.ckpt\n",
            "What shall we drink? hot, so the\n",
            "shar te the silis ho the with sate at ou to areren to the ate whe ha thar thet he serises soutint he taresson hhe woug to hererasde th sere whas tores he hes ans hes\n",
            "ond ho tount or tithe the we he sere the sard sad\n",
            "tint tot who whase woud to me ant he tores and ont thes he whu sed on asd to he al toun ar ofethin hor ho she whor aft as ase ofinge th sos tan on oto the hosered.\"\"\n",
            "\"Wens as woud the hhan hith she war and and het to therentos wing on tate se wito ther and sating ar he heade so he te tee antis ante hing, hate ans her serad, sous, wond tha who te whas atot her hars she sithe an at oned soth she and wos san touns ta se hos ande the hhe we hime\n",
            "hand sot ine he sothe sile winthe sersithis has hite the as tharesing and whe se alt thom the sosen sas it he ane an to thit as ane wot the ha tase har ar te sint hot he ande here sase soting, ate the ho sho ante hh simos one so the th sesin hes sastor\n",
            "en an oud thas\n",
            "sate an ant her anse sind thise thet hor hes as and\n",
            "sing o\n"
          ],
          "name": "stdout"
        }
      ]
    },
    {
      "cell_type": "code",
      "metadata": {
        "colab": {
          "base_uri": "https://localhost:8080/"
        },
        "id": "GRBV0dQSEVU2",
        "outputId": "a8d7f2cf-d4df-423f-ec1d-1889c638f324"
      },
      "source": [
        "checkpoint = 'checkpoints/i600_l512.ckpt'\r\n",
        "samp = sample(checkpoint, 1000, lstm_size, len(vocab), prime=\"What shall we drink?\")\r\n",
        "print(samp)"
      ],
      "execution_count": 26,
      "outputs": [
        {
          "output_type": "stream",
          "text": [
            "INFO:tensorflow:Restoring parameters from checkpoints/i600_l512.ckpt\n",
            "What shall we drink?\"\n",
            "\n",
            "The potstent, were horestly the stace, and was sanding his hould,\" the toret, and\n",
            "and were assoment, and thene the\n",
            "prasing his with\n",
            "she was sanking a thim, her his sacing, when so the was seet, and so did not, when she was to tink one to ally\n",
            "the\n",
            "tranger of a tine with that in's homenes wat the wise her was the pracking to that\n",
            "would betare to the posticurt of the\n",
            "posticar, and a tomporition what her him, and\n",
            "sain alladsed. He wasted a santed and this hensel for athents. Afle he was the caring as the cronding\n",
            "thought has sand and that see him but the she wis stel throed he cunder at\n",
            "they sookel, and that the more, and ant shim she had not to see had the sould.\n",
            "\n",
            "\"Well, who was to dearest, but in the conling of the some whe could, said the\n",
            "possion were the croms of\n",
            "the comeser to he had tely as aloved that in the camants at the when the pecting, bethore, at a conesing of the sein wonked hurden that were the pringing ous as ho had she wastoned thom the crungenter her wile, andwered has \n"
          ],
          "name": "stdout"
        }
      ]
    },
    {
      "cell_type": "code",
      "metadata": {
        "colab": {
          "base_uri": "https://localhost:8080/"
        },
        "id": "SX52RwYHEZ1a",
        "outputId": "ea9003e3-9f78-4367-c722-4a1248fea66a"
      },
      "source": [
        "checkpoint = 'checkpoints/i1200_l512.ckpt'\r\n",
        "samp = sample(checkpoint, 1000, lstm_size, len(vocab), prime=\"What shall we drink?\")\r\n",
        "print(samp)"
      ],
      "execution_count": 27,
      "outputs": [
        {
          "output_type": "stream",
          "text": [
            "INFO:tensorflow:Restoring parameters from checkpoints/i1200_l512.ckpt\n",
            "What shall we drink? He deen a\n",
            "manther.\n",
            "\n",
            "\"Why won't though anyone shake you to stand it walking of him, and the crase of\n",
            "the\n",
            "prominion the caunes is it!\" said Stepan Arkadyevitch with her hands.\n",
            "\n",
            "He was stopling to the halls of her feething and say that they head the streng\n",
            "and say any all she had been discaped to she was new she was the plain of\n",
            "he were sating in his said, but it were into the streage.\n",
            "\n",
            "\"Yes, I say she was not being at the seetile to all me,\" said Veslovsky, and so was\n",
            "alraid. \"I am not it was tern as sincle,..\"\n",
            "\n",
            "\"We have steakn the women's a stread in a lughity,\" and he was not terring of\n",
            "his house, basking once a shall, and sening her he had say that the\n",
            "still of all, and how the princicly the poremater, but with a same and\n",
            "criad of simprese on his friess, as this shill taiking at her the sentered\n",
            "thinged him of all the distorse to have been that her would he was\n",
            "toll him at the senter on the menting and his borker on the\n",
            "serest fare, and was streating to him, which she was simply\n",
            "talke\n"
          ],
          "name": "stdout"
        }
      ]
    },
    {
      "cell_type": "code",
      "metadata": {
        "colab": {
          "base_uri": "https://localhost:8080/"
        },
        "id": "QRG-iqM3ChEC",
        "outputId": "9eaae4aa-6f24-4060-c284-601f7d7dedad"
      },
      "source": [
        "checkpoint = 'checkpoints/i2400_l512.ckpt'\r\n",
        "samp = sample(checkpoint, 1000, lstm_size, len(vocab), prime=\"What shall we drink?\")\r\n",
        "print(samp)"
      ],
      "execution_count": 28,
      "outputs": [
        {
          "output_type": "stream",
          "text": [
            "INFO:tensorflow:Restoring parameters from checkpoints/i2400_l512.ckpt\n",
            "What shall we drink? The\n",
            "servants' high wife in her sarrow too to so that he cared to him\n",
            "so importented a day and her hair and shouthed--to all the clurglis\n",
            "of her father's face.\n",
            "\n",
            "\"I won't bried to the prince would have seen them.... What a shile of\n",
            "any memblication of him. It all this is this thoughts, is though the\n",
            "prance, and his bouter and how he had this meaning to surd a\n",
            "little compasience and thoughts, there, all anything. All the commed\n",
            "in the middle of me that have so much to set it.. We as to\n",
            "be discaped about her?\"\n",
            "\n",
            "\"Not so?\"\n",
            "\n",
            "The chine, his was at him to answer,. And he\n",
            "had as in those minuse he had not\n",
            "thought of his face, and would have then her that she was\n",
            "stepping, and so it are already. And that if he could not have the\n",
            "sense of his wife and at once as if it had not been been asked at\n",
            "the mencal of her for asleep, and this can interested the letter\n",
            "and her face were any miles, and with his sisher in the still meaning\n",
            "of his fear as he had been seeing his hand. \"How deprived you heart of\n",
            "\n"
          ],
          "name": "stdout"
        }
      ]
    },
    {
      "cell_type": "code",
      "metadata": {
        "colab": {
          "base_uri": "https://localhost:8080/"
        },
        "id": "QDzjaS8MCzaG",
        "outputId": "d200bf41-e18d-454d-9ce1-0f261721c831"
      },
      "source": [
        "checkpoint = 'checkpoints/i3000_l512.ckpt'\r\n",
        "samp = sample(checkpoint, 1000, lstm_size, len(vocab), prime=\"What shall we drink?\")\r\n",
        "print(samp)"
      ],
      "execution_count": 29,
      "outputs": [
        {
          "output_type": "stream",
          "text": [
            "INFO:tensorflow:Restoring parameters from checkpoints/i3000_l512.ckpt\n",
            "What shall we drink? He was and\n",
            "had a man, her husband stanced at Levin, a side of the point, and the\n",
            "strange one of her hands of the princess sat down at him. \"There was\n",
            "nothing it all the same times there was, but instead of madiar\n",
            "of the sick man to told him to see him, and heard that sensation is\n",
            "offening a divorce, his best saying the more shooting. She was\n",
            "already doctor a lower of humiliation. And the mind he should go,\n",
            "thinking of the carreage, but her life had succeeded in the moment of\n",
            "his shooting and hinking of his carriage, when the sound of the carriages\n",
            "he could not help as she was not tenderny. She drove out after his head and\n",
            "trying to say and tenderly. \"Why is the camperting of all?\" Alexey\n",
            "Alexandrovitch was still mare utterly unangay fingers.\n",
            "\n",
            "\"We are straight in the passed!\" he thought, \"the same tenderness\n",
            "are not of this mumbling feeling. What didn't some doctors here a little\n",
            "moment a most man to be done,\" she said, smiling, and though in\n",
            "herself with a side at once took at the sign\n"
          ],
          "name": "stdout"
        }
      ]
    },
    {
      "cell_type": "code",
      "metadata": {
        "colab": {
          "base_uri": "https://localhost:8080/"
        },
        "id": "gooFZfb_C2fr",
        "outputId": "569614bf-8b23-49e7-a5b2-2a40f61d7dec"
      },
      "source": [
        "checkpoint = 'checkpoints/i3600_l512.ckpt'\r\n",
        "samp = sample(checkpoint, 1000, lstm_size, len(vocab), prime=\"What shall we drink?\")\r\n",
        "print(samp)"
      ],
      "execution_count": 30,
      "outputs": [
        {
          "output_type": "stream",
          "text": [
            "INFO:tensorflow:Restoring parameters from checkpoints/i3600_l512.ckpt\n",
            "What shall we drink?\"\n",
            "\n",
            "\"And you're not silent,\" said Veslovsky, and after simply in his\n",
            "state, shameful friends and something will have been talking to his\n",
            "wife.\n",
            "\n",
            "\"What does they say the same, you know who doves were the family, I saw\n",
            "him...\"\n",
            "\n",
            "\"Oh, I haven't the mire that's the same to see you, I'm not so always\n",
            "better, and that I could have a money with the that was tell me the\n",
            "messones, an interrupting these times that I don't say this...\"\n",
            "\n",
            "\"When she does not get out things,\" he said; sat somewhere.\n",
            "\n",
            "Alexey Alexandrovitch--the parent he had not been at his heart which had\n",
            "sund the chillren, sent him to an easy official parts and himself,\n",
            "angiral that had always do the measor and all the whole sighe of the\n",
            "chird of such an acquaintance which he had been the point of his opner\n",
            "things, and all the princess started along the means, but the point\n",
            "of high the carriage, and the same time his stopping son with her figure\n",
            "were satisfied by his face.\n",
            "\n",
            "\"I want to tell you that you do to do anything what I weard to \n"
          ],
          "name": "stdout"
        }
      ]
    },
    {
      "cell_type": "code",
      "metadata": {
        "colab": {
          "base_uri": "https://localhost:8080/"
        },
        "id": "3lkz1_FGC40Q",
        "outputId": "d9c89835-595b-45e4-83f5-951c6e632305"
      },
      "source": [
        "checkpoint = 'checkpoints/i3800_l512.ckpt'\r\n",
        "samp = sample(checkpoint, 1000, lstm_size, len(vocab), prime=\"What shall we drink?\")\r\n",
        "print(samp)"
      ],
      "execution_count": 31,
      "outputs": [
        {
          "output_type": "stream",
          "text": [
            "INFO:tensorflow:Restoring parameters from checkpoints/i3800_l512.ckpt\n",
            "What shall we drink? His\n",
            "course had nothing to say, but she had been consented. She would\n",
            "hard to him to take, he sup to attractive tense, and his head and\n",
            "common crack to be angres, as soon as supposed in act and self-passed\n",
            "head to the conversations that the conversation in special poritors,\n",
            "and there would be to see it, and that he has any divers when it\n",
            "seemed to the cherk, and his condition was now it all at her times to\n",
            "home to him that it would not talk to the stear to the most lost in\n",
            "women arrung, and he had no deliberably time and take off them, and she\n",
            "had been creared to him when he was too than ever. This work had noticed\n",
            "it, though he could not come to sudden her, he saw that he was standing\n",
            "at once, but she was not all the constroctod of the conversation. The\n",
            "creets of the secret conspicution of the corner of the man who had\n",
            "said, was to him, took it on an acquaintance. After his his study in\n",
            "the house and the sense of the parts without answering the study of\n",
            "coachman, and and he was compast\n"
          ],
          "name": "stdout"
        }
      ]
    },
    {
      "cell_type": "code",
      "metadata": {
        "colab": {
          "base_uri": "https://localhost:8080/"
        },
        "id": "LcD6WtSJDI4y",
        "outputId": "95c28ee3-0e19-46c4-8e7b-f43f0787e21d"
      },
      "source": [
        "checkpoint = 'checkpoints/i3960_l512.ckpt'\r\n",
        "samp = sample(checkpoint, 1000, lstm_size, len(vocab), prime=\"What shall we drink?\")\r\n",
        "print(samp)"
      ],
      "execution_count": 32,
      "outputs": [
        {
          "output_type": "stream",
          "text": [
            "INFO:tensorflow:Restoring parameters from checkpoints/i3960_l512.ckpt\n",
            "What shall we drink?\"\n",
            "\n",
            "\"Yes, that she's still that I don't she think I am. But how say If you\n",
            "can't help moved away. Alexey Alexandrovitch then I were sitting to\n",
            "be, what was it, but I don't know. I shall go the passegular comparions of\n",
            "an arm another. We wouldn't talk about the sacress one things. I want to\n",
            "think of your husband that I can't have any more\n",
            "delathing,\" he said, with a sister was his face, and he had\n",
            "been delighted, but there were told his mother. But a carriage he heard\n",
            "a low, they shall so saying what he was being able to be indeed that\n",
            "to be answering his father about the same drawing room.\n",
            "\n",
            "A few worried the cries of these plinss, which he had sent a man of the\n",
            "fertority--a second, say whether they heard her. And that it would be a\n",
            "might, that he can say to him to be a sick and sands of her arm, and\n",
            "his face said himself, and with a crossing household was a man,\n",
            "tone in the country. To the same time they, went, as it was signing\n",
            "to himself that the same three some short significance her \n"
          ],
          "name": "stdout"
        }
      ]
    }
  ]
}